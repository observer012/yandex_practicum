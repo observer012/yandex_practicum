{
 "cells": [
  {
   "cell_type": "markdown",
   "metadata": {
    "editable": true,
    "slideshow": {
     "slide_type": ""
    },
    "tags": []
   },
   "source": [
    "# Восстановление золота из руды"
   ]
  },
  {
   "cell_type": "markdown",
   "metadata": {
    "editable": true,
    "slideshow": {
     "slide_type": ""
    },
    "tags": [],
    "toc": true
   },
   "source": [
    "<h1>Содержание<span class=\"tocSkip\"></span></h1>\n",
    "<div class=\"toc\"><ul class=\"toc-item\"><li><span><a href=\"#Подготовка-данных\" data-toc-modified-id=\"Подготовка-данных-1\"><span class=\"toc-item-num\">1&nbsp;&nbsp;</span>Подготовка данных</a></span><ul class=\"toc-item\"><li><span><a href=\"#Открытие-файлов-и-изучение-их\" data-toc-modified-id=\"Открытие-файлов-и-изучение-их-1.1\"><span class=\"toc-item-num\">1.1&nbsp;&nbsp;</span>Открытие файлов и изучение их</a></span><ul class=\"toc-item\"><li><span><a href=\"#Получение-данных\" data-toc-modified-id=\"Получение-данных-1.1.1\"><span class=\"toc-item-num\">1.1.1&nbsp;&nbsp;</span>Получение данных</a></span></li><li><span><a href=\"#Ознакомление-с-данными\" data-toc-modified-id=\"Ознакомление-с-данными-1.1.2\"><span class=\"toc-item-num\">1.1.2&nbsp;&nbsp;</span>Ознакомление с данными</a></span><ul class=\"toc-item\"><li><span><a href=\"#gold_industry_full\" data-toc-modified-id=\"gold_industry_full-1.1.2.1\"><span class=\"toc-item-num\">1.1.2.1&nbsp;&nbsp;</span>gold_industry_full</a></span></li><li><span><a href=\"#gold_industry_train\" data-toc-modified-id=\"gold_industry_train-1.1.2.2\"><span class=\"toc-item-num\">1.1.2.2&nbsp;&nbsp;</span>gold_industry_train</a></span></li><li><span><a href=\"#gold_industry_test\" data-toc-modified-id=\"gold_industry_test-1.1.2.3\"><span class=\"toc-item-num\">1.1.2.3&nbsp;&nbsp;</span>gold_industry_test</a></span></li><li><span><a href=\"#Структура\" data-toc-modified-id=\"Структура-1.1.2.4\"><span class=\"toc-item-num\">1.1.2.4&nbsp;&nbsp;</span>Структура</a></span></li><li><span><a href=\"#Заключение\" data-toc-modified-id=\"Заключение-1.1.2.5\"><span class=\"toc-item-num\">1.1.2.5&nbsp;&nbsp;</span>Заключение</a></span></li></ul></li></ul></li><li><span><a href=\"#Проверка-эффективности-обогащения\" data-toc-modified-id=\"Проверка-эффективности-обогащения-1.2\"><span class=\"toc-item-num\">1.2&nbsp;&nbsp;</span>Проверка эффективности обогащения</a></span></li><li><span><a href=\"#Отсутствующие-признаки-в-тестовой-выборке\" data-toc-modified-id=\"Отсутствующие-признаки-в-тестовой-выборке-1.3\"><span class=\"toc-item-num\">1.3&nbsp;&nbsp;</span>Отсутствующие признаки в тестовой выборке</a></span></li><li><span><a href=\"#Предобработка-данных\" data-toc-modified-id=\"Предобработка-данных-1.4\"><span class=\"toc-item-num\">1.4&nbsp;&nbsp;</span>Предобработка данных</a></span><ul class=\"toc-item\"><li><span><a href=\"#Удаление-пропусков-и-индексация\" data-toc-modified-id=\"Удаление-пропусков-и-индексация-1.4.1\"><span class=\"toc-item-num\">1.4.1&nbsp;&nbsp;</span>Удаление пропусков и индексация</a></span></li></ul></li><li><span><a href=\"#Заключение\" data-toc-modified-id=\"Заключение-1.5\"><span class=\"toc-item-num\">1.5&nbsp;&nbsp;</span>Заключение</a></span></li></ul></li><li><span><a href=\"#Анализ-данных\" data-toc-modified-id=\"Анализ-данных-2\"><span class=\"toc-item-num\">2&nbsp;&nbsp;</span>Анализ данных</a></span><ul class=\"toc-item\"><li><span><a href=\"#Концентрация-металлов\" data-toc-modified-id=\"Концентрация-металлов-2.1\"><span class=\"toc-item-num\">2.1&nbsp;&nbsp;</span>Концентрация металлов</a></span></li><li><span><a href=\"#Распределение-размеров-гранул\" data-toc-modified-id=\"Распределение-размеров-гранул-2.2\"><span class=\"toc-item-num\">2.2&nbsp;&nbsp;</span>Распределение размеров гранул</a></span></li><li><span><a href=\"#Суммарная-концентрацию-металлов\" data-toc-modified-id=\"Суммарная-концентрацию-металлов-2.3\"><span class=\"toc-item-num\">2.3&nbsp;&nbsp;</span>Суммарная концентрацию металлов</a></span></li></ul></li><li><span><a href=\"#Модель\" data-toc-modified-id=\"Модель-3\"><span class=\"toc-item-num\">3&nbsp;&nbsp;</span>Модель</a></span><ul class=\"toc-item\"><li><span><a href=\"#sMAPE\" data-toc-modified-id=\"sMAPE-3.1\"><span class=\"toc-item-num\">3.1&nbsp;&nbsp;</span>sMAPE</a></span></li><li><span><a href=\"#Подготовка-признаков\" data-toc-modified-id=\"Подготовка-признаков-3.2\"><span class=\"toc-item-num\">3.2&nbsp;&nbsp;</span>Подготовка признаков</a></span><ul class=\"toc-item\"><li><span><a href=\"#Разбиение-на-признаки\" data-toc-modified-id=\"Разбиение-на-признаки-3.2.1\"><span class=\"toc-item-num\">3.2.1&nbsp;&nbsp;</span>Разбиение на признаки</a></span></li><li><span><a href=\"#Масштабирование-признаков\" data-toc-modified-id=\"Масштабирование-признаков-3.2.2\"><span class=\"toc-item-num\">3.2.2&nbsp;&nbsp;</span>Масштабирование признаков</a></span></li></ul></li><li><span><a href=\"#Обучение-модели\" data-toc-modified-id=\"Обучение-модели-3.3\"><span class=\"toc-item-num\">3.3&nbsp;&nbsp;</span>Обучение модели</a></span><ul class=\"toc-item\"><li><span><a href=\"#LinearRegression\" data-toc-modified-id=\"LinearRegression-3.3.1\"><span class=\"toc-item-num\">3.3.1&nbsp;&nbsp;</span>LinearRegression</a></span></li><li><span><a href=\"#DecisionTreeRegressor\" data-toc-modified-id=\"DecisionTreeRegressor-3.3.2\"><span class=\"toc-item-num\">3.3.2&nbsp;&nbsp;</span>DecisionTreeRegressor</a></span></li><li><span><a href=\"#RandomForestRegressor\" data-toc-modified-id=\"RandomForestRegressor-3.3.3\"><span class=\"toc-item-num\">3.3.3&nbsp;&nbsp;</span>RandomForestRegressor</a></span></li></ul></li><li><span><a href=\"#Проверка-качества\" data-toc-modified-id=\"Проверка-качества-3.4\"><span class=\"toc-item-num\">3.4&nbsp;&nbsp;</span>Проверка качества</a></span></li><li><span><a href=\"#Проверка-моделей-на-адекватность\" data-toc-modified-id=\"Проверка-моделей-на-адекватность-3.5\"><span class=\"toc-item-num\">3.5&nbsp;&nbsp;</span>Проверка моделей на адекватность</a></span></li><li><span><a href=\"#Заключение\" data-toc-modified-id=\"Заключение-3.6\"><span class=\"toc-item-num\">3.6&nbsp;&nbsp;</span>Заключение</a></span></li></ul></li><li><span><a href=\"#Чек-лист-готовности-проекта\" data-toc-modified-id=\"Чек-лист-готовности-проекта-4\"><span class=\"toc-item-num\">4&nbsp;&nbsp;</span>Чек-лист готовности проекта</a></span></li></ul></div>"
   ]
  },
  {
   "cell_type": "markdown",
   "metadata": {
    "editable": true,
    "slideshow": {
     "slide_type": ""
    },
    "tags": []
   },
   "source": [
    "<font style='font-size:24px; font-weight:bold'>Описание проекта</font>\n",
    "\n",
    "**Задача:**<br/>\n",
    "Подготовить прототип модели машинного обучения для «Зифры». Компания разрабатывает решения для эффективной работы промышленных предприятий.  \n",
    "\n",
    "**Нужно спрогнозировать сразу две величины:**\n",
    "- эффективность обогащения чернового концентрата **rougher.output.recovery;**\n",
    "- эффективность обогащения финального концентрата **final.output.recovery.**\n",
    "\n",
    "**Зачем нужна модель:**<br/>\n",
    "Модель должна предсказать коэффициент восстановления золота из золотосодержащей руды. Модель поможет оптимизировать производство, чтобы не запускать предприятие с убыточными характеристиками.\n",
    "\n",
    "**Этапы кратко:**<br/>\n",
    "1. Подготовить данные;\n",
    "2. Провести исследовательский анализ данных;\n",
    "3. Построить и обучить модель.\n",
    "\n",
    "<br/>\n",
    "<br/>\n",
    "<font style='font-size:24px; font-weight:bold'>Описание данных</font><br/>\n",
    "\n",
    "**Данные находятся в трёх файлах:**\n",
    "\n",
    "- gold_industry_train.csv — обучающая выборка;\n",
    "- gold_industry_test.csv — тестовая выборка;\n",
    "- gold_industry_full.csv — исходные данные.\n",
    "\n",
    "Данные индексируются датой и временем получения информации (признак 'date'). Соседние по времени параметры часто похожи.<br/>\n",
    "Некоторые параметры недоступны, потому что замеряются и/или рассчитываются значительно позже. Из-за этого в тестовой выборке отсутствуют некоторые признаки, которые могут быть в обучающей. Также в тестовом наборе нет целевых признаков.<br/>\n",
    "Исходный датасет содержит обучающую и тестовую выборки со всеми признаками.<br/>\n",
    "В нашем распоряжении сырые данные: их просто выгрузили из хранилища. <br/>\n",
    "\n",
    "\n",
    "**Технологический процесс**<br/>\n",
    " - Rougher feed — исходное сырье\n",
    " - Rougher additions (или reagent additions) — флотационные реагенты: Xanthate, Sulphate, Depressant\n",
    "    - Xanthate — ксантогенат (промотер, или активатор флотации);\n",
    "    - Sulphate — сульфат (на данном производстве сульфид натрия);\n",
    "    - Depressant — депрессант (силикат натрия).\n",
    "    \n",
    "- Rougher process (англ. «грубый процесс») — флотация\n",
    "- Rougher tails — отвальные хвосты\n",
    "- Float banks — флотационная установка\n",
    "- Cleaner process — очистка\n",
    "- Rougher Au — черновой концентрат золота\n",
    "- Final Au — финальный концентрат золота\n",
    "\n",
    "**Параметры этапов**<br/>\n",
    "- air amount — объём воздуха\n",
    "- fluid levels — уровень жидкости\n",
    "- feed size — размер гранул сырья\n",
    "- feed rate — скорость подачи\n",
    "\n",
    "\n",
    "**Наименование признаков:**<br/>\n",
    "\n",
    "'этап'.'тип_параметра'.'название_параметра'<br/>\n",
    "Пример: *rougher.input.feed_ag*\n",
    "\n",
    "**Возможные значения для блока 'этап':**\n",
    "- rougher — флотация\n",
    "- primary_cleaner — первичная очистка\n",
    "- secondary_cleaner — вторичная очистка\n",
    "- final — финальные характеристики\n",
    "\n",
    "**Возможные значения для блока 'тип_параметра':**\n",
    "- input — параметры сырья\n",
    "- output — параметры продукта\n",
    "- state — параметры, характеризующие текущее состояние этапа\n",
    "- calculation — расчётные характеристики\n",
    "\n"
   ]
  },
  {
   "cell_type": "markdown",
   "metadata": {
    "editable": true,
    "slideshow": {
     "slide_type": ""
    },
    "tags": []
   },
   "source": [
    "## Подготовка данных"
   ]
  },
  {
   "cell_type": "markdown",
   "metadata": {
    "editable": true,
    "slideshow": {
     "slide_type": ""
    },
    "tags": []
   },
   "source": [
    "Произведём загрузку необходимых библиотек"
   ]
  },
  {
   "cell_type": "code",
   "execution_count": 1,
   "metadata": {
    "editable": true,
    "slideshow": {
     "slide_type": ""
    },
    "tags": []
   },
   "outputs": [],
   "source": [
    "from IPython.display import display\n",
    "from statistics import median\n",
    "import math\n",
    "import pandas as pd\n",
    "import matplotlib.pyplot as plt\n",
    "\n",
    "from sklearn.metrics import (\n",
    "    mean_absolute_error,\n",
    "    mean_squared_error,\n",
    "    make_scorer,\n",
    "    )\n",
    "from sklearn.model_selection import cross_val_score\n",
    "from sklearn.preprocessing import StandardScaler\n",
    "from sklearn.tree import DecisionTreeRegressor\n",
    "from sklearn.linear_model import LinearRegression\n",
    "from sklearn.ensemble import RandomForestRegressor\n",
    "from sklearn.dummy import DummyRegressor\n",
    "\n",
    "from tqdm import tqdm"
   ]
  },
  {
   "cell_type": "markdown",
   "metadata": {
    "editable": true,
    "slideshow": {
     "slide_type": ""
    },
    "tags": []
   },
   "source": [
    "### Открытие файлов и изучение их"
   ]
  },
  {
   "cell_type": "markdown",
   "metadata": {},
   "source": [
    "#### Получение данных"
   ]
  },
  {
   "cell_type": "code",
   "execution_count": 2,
   "metadata": {
    "editable": true,
    "slideshow": {
     "slide_type": ""
    },
    "tags": []
   },
   "outputs": [],
   "source": [
    "def download_data(name):\n",
    "    file_path = '/datasets/'\n",
    "    file_path_2 = 'https://..'\n",
    "    try:\n",
    "        data = pd.read_csv(name+'.csv')\n",
    "        \n",
    "    except FileNotFoundError:\n",
    "        try:\n",
    "            data = pd.read_csv(file_path+name+'.csv')\n",
    "        except FileNotFoundError:\n",
    "            data = pd.read_csv(file_path_2+name+'.csv')\n",
    "        \n",
    "    except Exception as ex:\n",
    "        print('Some error', ex)\n",
    "    return data"
   ]
  },
  {
   "cell_type": "code",
   "execution_count": 3,
   "metadata": {
    "editable": true,
    "slideshow": {
     "slide_type": ""
    },
    "tags": []
   },
   "outputs": [],
   "source": [
    "gold_industry_train = download_data('gold_industry_train')\n",
    "gold_industry_test = download_data('gold_industry_test')\n",
    "gold_industry_full = download_data('gold_industry_full')"
   ]
  },
  {
   "cell_type": "markdown",
   "metadata": {
    "editable": true,
    "slideshow": {
     "slide_type": ""
    },
    "tags": []
   },
   "source": [
    "*Загрузка прошла без ошибок*"
   ]
  },
  {
   "cell_type": "markdown",
   "metadata": {},
   "source": [
    "Для удобства сформируем словарь"
   ]
  },
  {
   "cell_type": "code",
   "execution_count": 4,
   "metadata": {},
   "outputs": [
    {
     "data": {
      "text/plain": [
       "dict_keys(['gold_industry_full', 'gold_industry_train', 'gold_industry_test'])"
      ]
     },
     "execution_count": 4,
     "metadata": {},
     "output_type": "execute_result"
    }
   ],
   "source": [
    "gold_industry_dict = {'gold_industry_full': gold_industry_full, 'gold_industry_train':gold_industry_train, \n",
    "                      'gold_industry_test':gold_industry_test}\n",
    "gold_industry_dict.keys()"
   ]
  },
  {
   "cell_type": "markdown",
   "metadata": {},
   "source": [
    "#### Ознакомление с данными"
   ]
  },
  {
   "cell_type": "markdown",
   "metadata": {},
   "source": [
    "В этом пункте будет проведено ознакомление с данными. Стоит сразу учесть, что часть данных по условию загружена не полностью."
   ]
  },
  {
   "cell_type": "markdown",
   "metadata": {},
   "source": [
    "##### gold_industry_full"
   ]
  },
  {
   "cell_type": "markdown",
   "metadata": {},
   "source": [
    "**head, tail**"
   ]
  },
  {
   "cell_type": "markdown",
   "metadata": {},
   "source": [
    "Получим обзорную информацию методами `head` и `tail`"
   ]
  },
  {
   "cell_type": "code",
   "execution_count": 5,
   "metadata": {},
   "outputs": [
    {
     "data": {
      "text/html": [
       "<div>\n",
       "<style scoped>\n",
       "    .dataframe tbody tr th:only-of-type {\n",
       "        vertical-align: middle;\n",
       "    }\n",
       "\n",
       "    .dataframe tbody tr th {\n",
       "        vertical-align: top;\n",
       "    }\n",
       "\n",
       "    .dataframe thead th {\n",
       "        text-align: right;\n",
       "    }\n",
       "</style>\n",
       "<table border=\"1\" class=\"dataframe\">\n",
       "  <thead>\n",
       "    <tr style=\"text-align: right;\">\n",
       "      <th></th>\n",
       "      <th>date</th>\n",
       "      <th>rougher.input.feed_au</th>\n",
       "      <th>rougher.input.feed_ag</th>\n",
       "      <th>rougher.input.feed_pb</th>\n",
       "      <th>rougher.input.feed_sol</th>\n",
       "      <th>rougher.input.feed_rate</th>\n",
       "      <th>rougher.input.feed_size</th>\n",
       "      <th>rougher.input.floatbank10_sulfate</th>\n",
       "      <th>rougher.input.floatbank10_xanthate</th>\n",
       "      <th>rougher.state.floatbank10_a_air</th>\n",
       "      <th>...</th>\n",
       "      <th>secondary_cleaner.output.tail_sol</th>\n",
       "      <th>final.output.concentrate_au</th>\n",
       "      <th>final.output.concentrate_ag</th>\n",
       "      <th>final.output.concentrate_pb</th>\n",
       "      <th>final.output.concentrate_sol</th>\n",
       "      <th>final.output.recovery</th>\n",
       "      <th>final.output.tail_au</th>\n",
       "      <th>final.output.tail_ag</th>\n",
       "      <th>final.output.tail_pb</th>\n",
       "      <th>final.output.tail_sol</th>\n",
       "    </tr>\n",
       "  </thead>\n",
       "  <tbody>\n",
       "    <tr>\n",
       "      <th>0</th>\n",
       "      <td>2016-01-15 00:00:00</td>\n",
       "      <td>6.486150</td>\n",
       "      <td>6.100378</td>\n",
       "      <td>2.284912</td>\n",
       "      <td>36.808594</td>\n",
       "      <td>523.546326</td>\n",
       "      <td>55.486599</td>\n",
       "      <td>11.986616</td>\n",
       "      <td>6.007990</td>\n",
       "      <td>999.706909</td>\n",
       "      <td>...</td>\n",
       "      <td>8.764648</td>\n",
       "      <td>42.192020</td>\n",
       "      <td>6.055403</td>\n",
       "      <td>9.889648</td>\n",
       "      <td>5.507324</td>\n",
       "      <td>70.541216</td>\n",
       "      <td>2.143149</td>\n",
       "      <td>10.411962</td>\n",
       "      <td>0.895447</td>\n",
       "      <td>16.904297</td>\n",
       "    </tr>\n",
       "    <tr>\n",
       "      <th>1</th>\n",
       "      <td>2016-01-15 01:00:00</td>\n",
       "      <td>6.478583</td>\n",
       "      <td>6.161113</td>\n",
       "      <td>2.266033</td>\n",
       "      <td>35.753385</td>\n",
       "      <td>525.290581</td>\n",
       "      <td>57.278666</td>\n",
       "      <td>11.971193</td>\n",
       "      <td>6.005766</td>\n",
       "      <td>1000.286398</td>\n",
       "      <td>...</td>\n",
       "      <td>9.001494</td>\n",
       "      <td>42.701629</td>\n",
       "      <td>6.029369</td>\n",
       "      <td>9.968944</td>\n",
       "      <td>5.257781</td>\n",
       "      <td>69.266198</td>\n",
       "      <td>2.224930</td>\n",
       "      <td>10.462676</td>\n",
       "      <td>0.927452</td>\n",
       "      <td>16.634514</td>\n",
       "    </tr>\n",
       "    <tr>\n",
       "      <th>2</th>\n",
       "      <td>2016-01-15 02:00:00</td>\n",
       "      <td>6.362222</td>\n",
       "      <td>6.116455</td>\n",
       "      <td>2.159622</td>\n",
       "      <td>35.971630</td>\n",
       "      <td>530.026610</td>\n",
       "      <td>57.510649</td>\n",
       "      <td>11.920603</td>\n",
       "      <td>6.197377</td>\n",
       "      <td>999.719565</td>\n",
       "      <td>...</td>\n",
       "      <td>8.842896</td>\n",
       "      <td>42.657501</td>\n",
       "      <td>6.055926</td>\n",
       "      <td>10.213995</td>\n",
       "      <td>5.383759</td>\n",
       "      <td>68.116445</td>\n",
       "      <td>2.257889</td>\n",
       "      <td>10.507046</td>\n",
       "      <td>0.953716</td>\n",
       "      <td>16.208849</td>\n",
       "    </tr>\n",
       "    <tr>\n",
       "      <th>3</th>\n",
       "      <td>2016-01-15 03:00:00</td>\n",
       "      <td>6.118189</td>\n",
       "      <td>6.043309</td>\n",
       "      <td>2.037807</td>\n",
       "      <td>36.862241</td>\n",
       "      <td>542.590390</td>\n",
       "      <td>57.792734</td>\n",
       "      <td>11.630094</td>\n",
       "      <td>6.203177</td>\n",
       "      <td>999.814770</td>\n",
       "      <td>...</td>\n",
       "      <td>9.122857</td>\n",
       "      <td>42.689819</td>\n",
       "      <td>6.047977</td>\n",
       "      <td>9.977019</td>\n",
       "      <td>4.858634</td>\n",
       "      <td>68.347543</td>\n",
       "      <td>2.146849</td>\n",
       "      <td>10.422762</td>\n",
       "      <td>0.883763</td>\n",
       "      <td>16.532835</td>\n",
       "    </tr>\n",
       "    <tr>\n",
       "      <th>4</th>\n",
       "      <td>2016-01-15 04:00:00</td>\n",
       "      <td>5.663707</td>\n",
       "      <td>6.060915</td>\n",
       "      <td>1.786875</td>\n",
       "      <td>34.347666</td>\n",
       "      <td>540.531893</td>\n",
       "      <td>56.047189</td>\n",
       "      <td>10.957755</td>\n",
       "      <td>6.198826</td>\n",
       "      <td>999.678690</td>\n",
       "      <td>...</td>\n",
       "      <td>8.871028</td>\n",
       "      <td>42.774141</td>\n",
       "      <td>6.148599</td>\n",
       "      <td>10.142511</td>\n",
       "      <td>4.939416</td>\n",
       "      <td>66.927016</td>\n",
       "      <td>2.055292</td>\n",
       "      <td>10.360302</td>\n",
       "      <td>0.792826</td>\n",
       "      <td>16.525686</td>\n",
       "    </tr>\n",
       "  </tbody>\n",
       "</table>\n",
       "<p>5 rows × 87 columns</p>\n",
       "</div>"
      ],
      "text/plain": [
       "                  date  rougher.input.feed_au  rougher.input.feed_ag  \\\n",
       "0  2016-01-15 00:00:00               6.486150               6.100378   \n",
       "1  2016-01-15 01:00:00               6.478583               6.161113   \n",
       "2  2016-01-15 02:00:00               6.362222               6.116455   \n",
       "3  2016-01-15 03:00:00               6.118189               6.043309   \n",
       "4  2016-01-15 04:00:00               5.663707               6.060915   \n",
       "\n",
       "   rougher.input.feed_pb  rougher.input.feed_sol  rougher.input.feed_rate  \\\n",
       "0               2.284912               36.808594               523.546326   \n",
       "1               2.266033               35.753385               525.290581   \n",
       "2               2.159622               35.971630               530.026610   \n",
       "3               2.037807               36.862241               542.590390   \n",
       "4               1.786875               34.347666               540.531893   \n",
       "\n",
       "   rougher.input.feed_size  rougher.input.floatbank10_sulfate  \\\n",
       "0                55.486599                          11.986616   \n",
       "1                57.278666                          11.971193   \n",
       "2                57.510649                          11.920603   \n",
       "3                57.792734                          11.630094   \n",
       "4                56.047189                          10.957755   \n",
       "\n",
       "   rougher.input.floatbank10_xanthate  rougher.state.floatbank10_a_air  ...  \\\n",
       "0                            6.007990                       999.706909  ...   \n",
       "1                            6.005766                      1000.286398  ...   \n",
       "2                            6.197377                       999.719565  ...   \n",
       "3                            6.203177                       999.814770  ...   \n",
       "4                            6.198826                       999.678690  ...   \n",
       "\n",
       "   secondary_cleaner.output.tail_sol  final.output.concentrate_au  \\\n",
       "0                           8.764648                    42.192020   \n",
       "1                           9.001494                    42.701629   \n",
       "2                           8.842896                    42.657501   \n",
       "3                           9.122857                    42.689819   \n",
       "4                           8.871028                    42.774141   \n",
       "\n",
       "   final.output.concentrate_ag  final.output.concentrate_pb  \\\n",
       "0                     6.055403                     9.889648   \n",
       "1                     6.029369                     9.968944   \n",
       "2                     6.055926                    10.213995   \n",
       "3                     6.047977                     9.977019   \n",
       "4                     6.148599                    10.142511   \n",
       "\n",
       "   final.output.concentrate_sol  final.output.recovery  final.output.tail_au  \\\n",
       "0                      5.507324              70.541216              2.143149   \n",
       "1                      5.257781              69.266198              2.224930   \n",
       "2                      5.383759              68.116445              2.257889   \n",
       "3                      4.858634              68.347543              2.146849   \n",
       "4                      4.939416              66.927016              2.055292   \n",
       "\n",
       "   final.output.tail_ag  final.output.tail_pb  final.output.tail_sol  \n",
       "0             10.411962              0.895447              16.904297  \n",
       "1             10.462676              0.927452              16.634514  \n",
       "2             10.507046              0.953716              16.208849  \n",
       "3             10.422762              0.883763              16.532835  \n",
       "4             10.360302              0.792826              16.525686  \n",
       "\n",
       "[5 rows x 87 columns]"
      ]
     },
     "metadata": {},
     "output_type": "display_data"
    },
    {
     "data": {
      "text/html": [
       "<div>\n",
       "<style scoped>\n",
       "    .dataframe tbody tr th:only-of-type {\n",
       "        vertical-align: middle;\n",
       "    }\n",
       "\n",
       "    .dataframe tbody tr th {\n",
       "        vertical-align: top;\n",
       "    }\n",
       "\n",
       "    .dataframe thead th {\n",
       "        text-align: right;\n",
       "    }\n",
       "</style>\n",
       "<table border=\"1\" class=\"dataframe\">\n",
       "  <thead>\n",
       "    <tr style=\"text-align: right;\">\n",
       "      <th></th>\n",
       "      <th>date</th>\n",
       "      <th>rougher.input.feed_au</th>\n",
       "      <th>rougher.input.feed_ag</th>\n",
       "      <th>rougher.input.feed_pb</th>\n",
       "      <th>rougher.input.feed_sol</th>\n",
       "      <th>rougher.input.feed_rate</th>\n",
       "      <th>rougher.input.feed_size</th>\n",
       "      <th>rougher.input.floatbank10_sulfate</th>\n",
       "      <th>rougher.input.floatbank10_xanthate</th>\n",
       "      <th>rougher.state.floatbank10_a_air</th>\n",
       "      <th>...</th>\n",
       "      <th>secondary_cleaner.output.tail_sol</th>\n",
       "      <th>final.output.concentrate_au</th>\n",
       "      <th>final.output.concentrate_ag</th>\n",
       "      <th>final.output.concentrate_pb</th>\n",
       "      <th>final.output.concentrate_sol</th>\n",
       "      <th>final.output.recovery</th>\n",
       "      <th>final.output.tail_au</th>\n",
       "      <th>final.output.tail_ag</th>\n",
       "      <th>final.output.tail_pb</th>\n",
       "      <th>final.output.tail_sol</th>\n",
       "    </tr>\n",
       "  </thead>\n",
       "  <tbody>\n",
       "    <tr>\n",
       "      <th>19434</th>\n",
       "      <td>2018-08-18 06:59:59</td>\n",
       "      <td>6.620245</td>\n",
       "      <td>5.992592</td>\n",
       "      <td>2.589242</td>\n",
       "      <td>39.934641</td>\n",
       "      <td>578.654582</td>\n",
       "      <td>63.473450</td>\n",
       "      <td>14.688804</td>\n",
       "      <td>6.898599</td>\n",
       "      <td>999.688257</td>\n",
       "      <td>...</td>\n",
       "      <td>10.013738</td>\n",
       "      <td>42.435181</td>\n",
       "      <td>5.719113</td>\n",
       "      <td>10.621027</td>\n",
       "      <td>6.459561</td>\n",
       "      <td>68.786981</td>\n",
       "      <td>2.314786</td>\n",
       "      <td>10.286797</td>\n",
       "      <td>1.171459</td>\n",
       "      <td>19.131121</td>\n",
       "    </tr>\n",
       "    <tr>\n",
       "      <th>19435</th>\n",
       "      <td>2018-08-18 07:59:59</td>\n",
       "      <td>6.741324</td>\n",
       "      <td>6.158617</td>\n",
       "      <td>2.647185</td>\n",
       "      <td>40.176307</td>\n",
       "      <td>571.622005</td>\n",
       "      <td>62.815291</td>\n",
       "      <td>14.892720</td>\n",
       "      <td>6.903204</td>\n",
       "      <td>1000.479783</td>\n",
       "      <td>...</td>\n",
       "      <td>9.841210</td>\n",
       "      <td>43.440341</td>\n",
       "      <td>5.410126</td>\n",
       "      <td>10.868937</td>\n",
       "      <td>6.258693</td>\n",
       "      <td>67.839536</td>\n",
       "      <td>2.423143</td>\n",
       "      <td>10.382891</td>\n",
       "      <td>1.239738</td>\n",
       "      <td>18.544924</td>\n",
       "    </tr>\n",
       "    <tr>\n",
       "      <th>19436</th>\n",
       "      <td>2018-08-18 08:59:59</td>\n",
       "      <td>6.627458</td>\n",
       "      <td>6.015149</td>\n",
       "      <td>2.466127</td>\n",
       "      <td>39.841423</td>\n",
       "      <td>563.733146</td>\n",
       "      <td>61.287347</td>\n",
       "      <td>13.723692</td>\n",
       "      <td>6.700148</td>\n",
       "      <td>1000.014718</td>\n",
       "      <td>...</td>\n",
       "      <td>10.119344</td>\n",
       "      <td>44.284117</td>\n",
       "      <td>5.437716</td>\n",
       "      <td>9.781181</td>\n",
       "      <td>6.057627</td>\n",
       "      <td>70.847012</td>\n",
       "      <td>2.161256</td>\n",
       "      <td>10.324415</td>\n",
       "      <td>0.961210</td>\n",
       "      <td>18.185262</td>\n",
       "    </tr>\n",
       "    <tr>\n",
       "      <th>19437</th>\n",
       "      <td>2018-08-18 09:59:59</td>\n",
       "      <td>6.702243</td>\n",
       "      <td>6.097592</td>\n",
       "      <td>2.278955</td>\n",
       "      <td>37.728375</td>\n",
       "      <td>549.812490</td>\n",
       "      <td>59.637037</td>\n",
       "      <td>13.746510</td>\n",
       "      <td>6.706417</td>\n",
       "      <td>999.635748</td>\n",
       "      <td>...</td>\n",
       "      <td>9.876374</td>\n",
       "      <td>43.339714</td>\n",
       "      <td>5.664983</td>\n",
       "      <td>10.168953</td>\n",
       "      <td>5.484318</td>\n",
       "      <td>72.659046</td>\n",
       "      <td>2.064422</td>\n",
       "      <td>10.475957</td>\n",
       "      <td>1.050592</td>\n",
       "      <td>17.525656</td>\n",
       "    </tr>\n",
       "    <tr>\n",
       "      <th>19438</th>\n",
       "      <td>2018-08-18 10:59:59</td>\n",
       "      <td>6.633002</td>\n",
       "      <td>5.908793</td>\n",
       "      <td>2.440899</td>\n",
       "      <td>36.958540</td>\n",
       "      <td>573.076049</td>\n",
       "      <td>58.509262</td>\n",
       "      <td>13.707775</td>\n",
       "      <td>6.820245</td>\n",
       "      <td>1000.589156</td>\n",
       "      <td>...</td>\n",
       "      <td>9.813732</td>\n",
       "      <td>43.235220</td>\n",
       "      <td>5.687063</td>\n",
       "      <td>9.980404</td>\n",
       "      <td>5.282514</td>\n",
       "      <td>70.279619</td>\n",
       "      <td>2.209593</td>\n",
       "      <td>10.487013</td>\n",
       "      <td>1.159805</td>\n",
       "      <td>17.483979</td>\n",
       "    </tr>\n",
       "  </tbody>\n",
       "</table>\n",
       "<p>5 rows × 87 columns</p>\n",
       "</div>"
      ],
      "text/plain": [
       "                      date  rougher.input.feed_au  rougher.input.feed_ag  \\\n",
       "19434  2018-08-18 06:59:59               6.620245               5.992592   \n",
       "19435  2018-08-18 07:59:59               6.741324               6.158617   \n",
       "19436  2018-08-18 08:59:59               6.627458               6.015149   \n",
       "19437  2018-08-18 09:59:59               6.702243               6.097592   \n",
       "19438  2018-08-18 10:59:59               6.633002               5.908793   \n",
       "\n",
       "       rougher.input.feed_pb  rougher.input.feed_sol  rougher.input.feed_rate  \\\n",
       "19434               2.589242               39.934641               578.654582   \n",
       "19435               2.647185               40.176307               571.622005   \n",
       "19436               2.466127               39.841423               563.733146   \n",
       "19437               2.278955               37.728375               549.812490   \n",
       "19438               2.440899               36.958540               573.076049   \n",
       "\n",
       "       rougher.input.feed_size  rougher.input.floatbank10_sulfate  \\\n",
       "19434                63.473450                          14.688804   \n",
       "19435                62.815291                          14.892720   \n",
       "19436                61.287347                          13.723692   \n",
       "19437                59.637037                          13.746510   \n",
       "19438                58.509262                          13.707775   \n",
       "\n",
       "       rougher.input.floatbank10_xanthate  rougher.state.floatbank10_a_air  \\\n",
       "19434                            6.898599                       999.688257   \n",
       "19435                            6.903204                      1000.479783   \n",
       "19436                            6.700148                      1000.014718   \n",
       "19437                            6.706417                       999.635748   \n",
       "19438                            6.820245                      1000.589156   \n",
       "\n",
       "       ...  secondary_cleaner.output.tail_sol  final.output.concentrate_au  \\\n",
       "19434  ...                          10.013738                    42.435181   \n",
       "19435  ...                           9.841210                    43.440341   \n",
       "19436  ...                          10.119344                    44.284117   \n",
       "19437  ...                           9.876374                    43.339714   \n",
       "19438  ...                           9.813732                    43.235220   \n",
       "\n",
       "       final.output.concentrate_ag  final.output.concentrate_pb  \\\n",
       "19434                     5.719113                    10.621027   \n",
       "19435                     5.410126                    10.868937   \n",
       "19436                     5.437716                     9.781181   \n",
       "19437                     5.664983                    10.168953   \n",
       "19438                     5.687063                     9.980404   \n",
       "\n",
       "       final.output.concentrate_sol  final.output.recovery  \\\n",
       "19434                      6.459561              68.786981   \n",
       "19435                      6.258693              67.839536   \n",
       "19436                      6.057627              70.847012   \n",
       "19437                      5.484318              72.659046   \n",
       "19438                      5.282514              70.279619   \n",
       "\n",
       "       final.output.tail_au  final.output.tail_ag  final.output.tail_pb  \\\n",
       "19434              2.314786             10.286797              1.171459   \n",
       "19435              2.423143             10.382891              1.239738   \n",
       "19436              2.161256             10.324415              0.961210   \n",
       "19437              2.064422             10.475957              1.050592   \n",
       "19438              2.209593             10.487013              1.159805   \n",
       "\n",
       "       final.output.tail_sol  \n",
       "19434              19.131121  \n",
       "19435              18.544924  \n",
       "19436              18.185262  \n",
       "19437              17.525656  \n",
       "19438              17.483979  \n",
       "\n",
       "[5 rows x 87 columns]"
      ]
     },
     "metadata": {},
     "output_type": "display_data"
    }
   ],
   "source": [
    "display(gold_industry_full.head())\n",
    "display(gold_industry_full.tail())"
   ]
  },
  {
   "cell_type": "markdown",
   "metadata": {},
   "source": [
    "*Данные представлены за пару лет. Имеют разброс значений, нуждаются в масштабировании для  задач машинного обучения.*"
   ]
  },
  {
   "cell_type": "markdown",
   "metadata": {},
   "source": [
    "**info**"
   ]
  },
  {
   "cell_type": "markdown",
   "metadata": {},
   "source": [
    "Получим представление о типах данных и пропусках"
   ]
  },
  {
   "cell_type": "code",
   "execution_count": 6,
   "metadata": {
    "scrolled": true
   },
   "outputs": [
    {
     "name": "stdout",
     "output_type": "stream",
     "text": [
      "<class 'pandas.core.frame.DataFrame'>\n",
      "RangeIndex: 19439 entries, 0 to 19438\n",
      "Data columns (total 87 columns):\n",
      " #   Column                                              Non-Null Count  Dtype  \n",
      "---  ------                                              --------------  -----  \n",
      " 0   date                                                19439 non-null  object \n",
      " 1   rougher.input.feed_au                               19439 non-null  float64\n",
      " 2   rougher.input.feed_ag                               19439 non-null  float64\n",
      " 3   rougher.input.feed_pb                               19339 non-null  float64\n",
      " 4   rougher.input.feed_sol                              19340 non-null  float64\n",
      " 5   rougher.input.feed_rate                             19428 non-null  float64\n",
      " 6   rougher.input.feed_size                             19294 non-null  float64\n",
      " 7   rougher.input.floatbank10_sulfate                   19405 non-null  float64\n",
      " 8   rougher.input.floatbank10_xanthate                  19431 non-null  float64\n",
      " 9   rougher.state.floatbank10_a_air                     19438 non-null  float64\n",
      " 10  rougher.state.floatbank10_a_level                   19438 non-null  float64\n",
      " 11  rougher.state.floatbank10_b_air                     19438 non-null  float64\n",
      " 12  rougher.state.floatbank10_b_level                   19438 non-null  float64\n",
      " 13  rougher.state.floatbank10_c_air                     19438 non-null  float64\n",
      " 14  rougher.state.floatbank10_c_level                   19438 non-null  float64\n",
      " 15  rougher.state.floatbank10_d_air                     19439 non-null  float64\n",
      " 16  rougher.state.floatbank10_d_level                   19439 non-null  float64\n",
      " 17  rougher.state.floatbank10_e_air                     19003 non-null  float64\n",
      " 18  rougher.state.floatbank10_e_level                   19439 non-null  float64\n",
      " 19  rougher.state.floatbank10_f_air                     19439 non-null  float64\n",
      " 20  rougher.state.floatbank10_f_level                   19439 non-null  float64\n",
      " 21  rougher.input.floatbank11_sulfate                   19395 non-null  float64\n",
      " 22  rougher.input.floatbank11_xanthate                  18986 non-null  float64\n",
      " 23  rougher.calculation.sulfate_to_au_concentrate       19437 non-null  float64\n",
      " 24  rougher.calculation.floatbank10_sulfate_to_au_feed  19437 non-null  float64\n",
      " 25  rougher.calculation.floatbank11_sulfate_to_au_feed  19437 non-null  float64\n",
      " 26  rougher.calculation.au_pb_ratio                     19439 non-null  float64\n",
      " 27  rougher.output.concentrate_au                       19439 non-null  float64\n",
      " 28  rougher.output.concentrate_ag                       19439 non-null  float64\n",
      " 29  rougher.output.concentrate_pb                       19439 non-null  float64\n",
      " 30  rougher.output.concentrate_sol                      19416 non-null  float64\n",
      " 31  rougher.output.recovery                             19439 non-null  float64\n",
      " 32  rougher.output.tail_au                              19439 non-null  float64\n",
      " 33  rougher.output.tail_ag                              19438 non-null  float64\n",
      " 34  rougher.output.tail_pb                              19439 non-null  float64\n",
      " 35  rougher.output.tail_sol                             19439 non-null  float64\n",
      " 36  primary_cleaner.input.sulfate                       19415 non-null  float64\n",
      " 37  primary_cleaner.input.depressant                    19402 non-null  float64\n",
      " 38  primary_cleaner.input.feed_size                     19439 non-null  float64\n",
      " 39  primary_cleaner.input.xanthate                      19335 non-null  float64\n",
      " 40  primary_cleaner.state.floatbank8_a_air              19435 non-null  float64\n",
      " 41  primary_cleaner.state.floatbank8_a_level            19438 non-null  float64\n",
      " 42  primary_cleaner.state.floatbank8_b_air              19435 non-null  float64\n",
      " 43  primary_cleaner.state.floatbank8_b_level            19438 non-null  float64\n",
      " 44  primary_cleaner.state.floatbank8_c_air              19437 non-null  float64\n",
      " 45  primary_cleaner.state.floatbank8_c_level            19438 non-null  float64\n",
      " 46  primary_cleaner.state.floatbank8_d_air              19436 non-null  float64\n",
      " 47  primary_cleaner.state.floatbank8_d_level            19438 non-null  float64\n",
      " 48  primary_cleaner.output.concentrate_au               19439 non-null  float64\n",
      " 49  primary_cleaner.output.concentrate_ag               19439 non-null  float64\n",
      " 50  primary_cleaner.output.concentrate_pb               19323 non-null  float64\n",
      " 51  primary_cleaner.output.concentrate_sol              19069 non-null  float64\n",
      " 52  primary_cleaner.output.tail_au                      19439 non-null  float64\n",
      " 53  primary_cleaner.output.tail_ag                      19435 non-null  float64\n",
      " 54  primary_cleaner.output.tail_pb                      19418 non-null  float64\n",
      " 55  primary_cleaner.output.tail_sol                     19377 non-null  float64\n",
      " 56  secondary_cleaner.state.floatbank2_a_air            19219 non-null  float64\n",
      " 57  secondary_cleaner.state.floatbank2_a_level          19438 non-null  float64\n",
      " 58  secondary_cleaner.state.floatbank2_b_air            19416 non-null  float64\n",
      " 59  secondary_cleaner.state.floatbank2_b_level          19438 non-null  float64\n",
      " 60  secondary_cleaner.state.floatbank3_a_air            19426 non-null  float64\n",
      " 61  secondary_cleaner.state.floatbank3_a_level          19438 non-null  float64\n",
      " 62  secondary_cleaner.state.floatbank3_b_air            19438 non-null  float64\n",
      " 63  secondary_cleaner.state.floatbank3_b_level          19438 non-null  float64\n",
      " 64  secondary_cleaner.state.floatbank4_a_air            19433 non-null  float64\n",
      " 65  secondary_cleaner.state.floatbank4_a_level          19438 non-null  float64\n",
      " 66  secondary_cleaner.state.floatbank4_b_air            19438 non-null  float64\n",
      " 67  secondary_cleaner.state.floatbank4_b_level          19438 non-null  float64\n",
      " 68  secondary_cleaner.state.floatbank5_a_air            19438 non-null  float64\n",
      " 69  secondary_cleaner.state.floatbank5_a_level          19438 non-null  float64\n",
      " 70  secondary_cleaner.state.floatbank5_b_air            19438 non-null  float64\n",
      " 71  secondary_cleaner.state.floatbank5_b_level          19438 non-null  float64\n",
      " 72  secondary_cleaner.state.floatbank6_a_air            19437 non-null  float64\n",
      " 73  secondary_cleaner.state.floatbank6_a_level          19438 non-null  float64\n",
      " 74  secondary_cleaner.output.tail_au                    19439 non-null  float64\n",
      " 75  secondary_cleaner.output.tail_ag                    19437 non-null  float64\n",
      " 76  secondary_cleaner.output.tail_pb                    19427 non-null  float64\n",
      " 77  secondary_cleaner.output.tail_sol                   17691 non-null  float64\n",
      " 78  final.output.concentrate_au                         19439 non-null  float64\n",
      " 79  final.output.concentrate_ag                         19438 non-null  float64\n",
      " 80  final.output.concentrate_pb                         19438 non-null  float64\n",
      " 81  final.output.concentrate_sol                        19228 non-null  float64\n",
      " 82  final.output.recovery                               19439 non-null  float64\n",
      " 83  final.output.tail_au                                19439 non-null  float64\n",
      " 84  final.output.tail_ag                                19438 non-null  float64\n",
      " 85  final.output.tail_pb                                19338 non-null  float64\n",
      " 86  final.output.tail_sol                               19433 non-null  float64\n",
      "dtypes: float64(86), object(1)\n",
      "memory usage: 12.9+ MB\n"
     ]
    }
   ],
   "source": [
    "gold_industry_full.info()"
   ]
  },
  {
   "cell_type": "markdown",
   "metadata": {},
   "source": [
    "*В данных имеются пропуски, их количество кажется не значительным. Тип данных преимущественно `float64` за исключением столбца date с типом `object`. Его по условию используют в качестве индекса. Возможно часть значений стоит исключить, те которые не относятся к золоту, но точно не понятно, будет ли это в конечном итоге влиять на `rougher.output.recovery` и `final.output.recovery`.*"
   ]
  },
  {
   "cell_type": "markdown",
   "metadata": {
    "editable": true,
    "slideshow": {
     "slide_type": ""
    },
    "tags": []
   },
   "source": [
    "**Изучение пропусков**"
   ]
  },
  {
   "cell_type": "markdown",
   "metadata": {
    "editable": true,
    "slideshow": {
     "slide_type": ""
    },
    "tags": []
   },
   "source": [
    "Для упрощения выявления столбцов с пропусками определим функцию."
   ]
  },
  {
   "cell_type": "code",
   "execution_count": 7,
   "metadata": {},
   "outputs": [],
   "source": [
    "def col_with_pass(gold_industry_full):\n",
    "    \"\"\"Функция формирует датафрейм со столбцами,\n",
    "    где есть пропуски и их количеством, а так же сохраняет\n",
    "    индексы строк с пропусками\"\"\"\n",
    "    columns = []\n",
    "    col_pas = []\n",
    "    index_nan = []\n",
    "    for el in gold_industry_full.columns:\n",
    "        pre = gold_industry_full[gold_industry_full[el].isna()]\n",
    "        a_pass = pre.shape[0]\n",
    "        if a_pass != 0:\n",
    "            columns.append(el)\n",
    "            col_pas.append(pre.shape[0])\n",
    "            # сохранения индексов с пропусками\n",
    "            index_nan += list(pre.index)\n",
    "            #print(f'{el :<55}:{a_pass}')\n",
    "    index_nan = sorted(set(index_nan))\n",
    "    data = pd.DataFrame({'columns':columns, 'a_pass':col_pas})\\\n",
    "           .sort_values(by='a_pass', ascending=False)\n",
    "    return data, index_nan\n"
   ]
  },
  {
   "cell_type": "markdown",
   "metadata": {},
   "source": [
    "Выведем для общего представления о пропусках первые 5 строчек"
   ]
  },
  {
   "cell_type": "code",
   "execution_count": 8,
   "metadata": {},
   "outputs": [
    {
     "data": {
      "text/html": [
       "<div>\n",
       "<style scoped>\n",
       "    .dataframe tbody tr th:only-of-type {\n",
       "        vertical-align: middle;\n",
       "    }\n",
       "\n",
       "    .dataframe tbody tr th {\n",
       "        vertical-align: top;\n",
       "    }\n",
       "\n",
       "    .dataframe thead th {\n",
       "        text-align: right;\n",
       "    }\n",
       "</style>\n",
       "<table border=\"1\" class=\"dataframe\">\n",
       "  <thead>\n",
       "    <tr style=\"text-align: right;\">\n",
       "      <th></th>\n",
       "      <th>columns</th>\n",
       "      <th>a_pass</th>\n",
       "    </tr>\n",
       "  </thead>\n",
       "  <tbody>\n",
       "    <tr>\n",
       "      <th>56</th>\n",
       "      <td>secondary_cleaner.output.tail_sol</td>\n",
       "      <td>1748</td>\n",
       "    </tr>\n",
       "    <tr>\n",
       "      <th>14</th>\n",
       "      <td>rougher.input.floatbank11_xanthate</td>\n",
       "      <td>453</td>\n",
       "    </tr>\n",
       "    <tr>\n",
       "      <th>12</th>\n",
       "      <td>rougher.state.floatbank10_e_air</td>\n",
       "      <td>436</td>\n",
       "    </tr>\n",
       "    <tr>\n",
       "      <th>32</th>\n",
       "      <td>primary_cleaner.output.concentrate_sol</td>\n",
       "      <td>370</td>\n",
       "    </tr>\n",
       "    <tr>\n",
       "      <th>36</th>\n",
       "      <td>secondary_cleaner.state.floatbank2_a_air</td>\n",
       "      <td>220</td>\n",
       "    </tr>\n",
       "  </tbody>\n",
       "</table>\n",
       "</div>"
      ],
      "text/plain": [
       "                                     columns  a_pass\n",
       "56         secondary_cleaner.output.tail_sol    1748\n",
       "14        rougher.input.floatbank11_xanthate     453\n",
       "12           rougher.state.floatbank10_e_air     436\n",
       "32    primary_cleaner.output.concentrate_sol     370\n",
       "36  secondary_cleaner.state.floatbank2_a_air     220"
      ]
     },
     "execution_count": 8,
     "metadata": {},
     "output_type": "execute_result"
    }
   ],
   "source": [
    "gold_industry_full_pass, index_nan_full = col_with_pass(gold_industry_full)\n",
    "gold_industry_full_pass.head()"
   ]
  },
  {
   "cell_type": "markdown",
   "metadata": {},
   "source": [
    "Изучим общее количество пропусков"
   ]
  },
  {
   "cell_type": "code",
   "execution_count": 9,
   "metadata": {},
   "outputs": [
    {
     "data": {
      "text/plain": [
       "3345"
      ]
     },
     "execution_count": 9,
     "metadata": {},
     "output_type": "execute_result"
    }
   ],
   "source": [
    "len(index_nan_full)"
   ]
  },
  {
   "cell_type": "markdown",
   "metadata": {},
   "source": [
    "Оценим сколько какой процент данных останется, если удалить пропуски. Определим функцию"
   ]
  },
  {
   "cell_type": "code",
   "execution_count": 10,
   "metadata": {},
   "outputs": [
    {
     "name": "stdout",
     "output_type": "stream",
     "text": [
      "После удаление пропусков данных останется: 82.79%\n"
     ]
    }
   ],
   "source": [
    "def percent_data_after_del_nan(data):\n",
    "    print(f'После удаление пропусков данных останется: '\n",
    "          f'{data.dropna().shape[0]/data.shape[0]*100 :.4}%')\n",
    "    \n",
    "percent_data_after_del_nan(gold_industry_full)"
   ]
  },
  {
   "cell_type": "markdown",
   "metadata": {},
   "source": [
    "*Это приемлемое количество данных, конечно, лучше, чтобы процент удлалённых данных не выходил за 15%.*"
   ]
  },
  {
   "cell_type": "markdown",
   "metadata": {},
   "source": [
    "Изучим информацию о столбцах с пропусками методом `describe`"
   ]
  },
  {
   "cell_type": "code",
   "execution_count": 11,
   "metadata": {},
   "outputs": [
    {
     "data": {
      "text/html": [
       "<div>\n",
       "<style scoped>\n",
       "    .dataframe tbody tr th:only-of-type {\n",
       "        vertical-align: middle;\n",
       "    }\n",
       "\n",
       "    .dataframe tbody tr th {\n",
       "        vertical-align: top;\n",
       "    }\n",
       "\n",
       "    .dataframe thead th {\n",
       "        text-align: right;\n",
       "    }\n",
       "</style>\n",
       "<table border=\"1\" class=\"dataframe\">\n",
       "  <thead>\n",
       "    <tr style=\"text-align: right;\">\n",
       "      <th></th>\n",
       "      <th>secondary_cleaner.output.tail_sol</th>\n",
       "      <th>rougher.input.floatbank11_xanthate</th>\n",
       "      <th>rougher.state.floatbank10_e_air</th>\n",
       "      <th>primary_cleaner.output.concentrate_sol</th>\n",
       "      <th>secondary_cleaner.state.floatbank2_a_air</th>\n",
       "      <th>final.output.concentrate_sol</th>\n",
       "      <th>rougher.input.feed_size</th>\n",
       "      <th>primary_cleaner.output.concentrate_pb</th>\n",
       "      <th>primary_cleaner.input.xanthate</th>\n",
       "      <th>final.output.tail_pb</th>\n",
       "      <th>...</th>\n",
       "      <th>rougher.state.floatbank10_a_air</th>\n",
       "      <th>rougher.state.floatbank10_a_level</th>\n",
       "      <th>primary_cleaner.state.floatbank8_d_level</th>\n",
       "      <th>primary_cleaner.state.floatbank8_c_level</th>\n",
       "      <th>primary_cleaner.state.floatbank8_b_level</th>\n",
       "      <th>primary_cleaner.state.floatbank8_a_level</th>\n",
       "      <th>rougher.state.floatbank10_b_air</th>\n",
       "      <th>rougher.output.tail_ag</th>\n",
       "      <th>rougher.state.floatbank10_b_level</th>\n",
       "      <th>secondary_cleaner.state.floatbank2_a_level</th>\n",
       "    </tr>\n",
       "  </thead>\n",
       "  <tbody>\n",
       "    <tr>\n",
       "      <th>count</th>\n",
       "      <td>1597.000000</td>\n",
       "      <td>2892.000000</td>\n",
       "      <td>2909.000000</td>\n",
       "      <td>2975.000000</td>\n",
       "      <td>3125.000000</td>\n",
       "      <td>3134.000000</td>\n",
       "      <td>3200.000000</td>\n",
       "      <td>3229.000000</td>\n",
       "      <td>3241.000000</td>\n",
       "      <td>3244.000000</td>\n",
       "      <td>...</td>\n",
       "      <td>3344.000000</td>\n",
       "      <td>3344.000000</td>\n",
       "      <td>3344.000000</td>\n",
       "      <td>3344.000000</td>\n",
       "      <td>3344.000000</td>\n",
       "      <td>3344.000000</td>\n",
       "      <td>3344.000000</td>\n",
       "      <td>3344.000000</td>\n",
       "      <td>3344.000000</td>\n",
       "      <td>3344.000000</td>\n",
       "    </tr>\n",
       "    <tr>\n",
       "      <th>mean</th>\n",
       "      <td>4.408087</td>\n",
       "      <td>5.930697</td>\n",
       "      <td>1112.439332</td>\n",
       "      <td>9.091919</td>\n",
       "      <td>29.772056</td>\n",
       "      <td>7.598032</td>\n",
       "      <td>71.273007</td>\n",
       "      <td>9.557948</td>\n",
       "      <td>0.864791</td>\n",
       "      <td>2.381111</td>\n",
       "      <td>...</td>\n",
       "      <td>1179.939722</td>\n",
       "      <td>-334.758991</td>\n",
       "      <td>-484.008299</td>\n",
       "      <td>-491.906909</td>\n",
       "      <td>-492.252304</td>\n",
       "      <td>-489.755151</td>\n",
       "      <td>1289.601409</td>\n",
       "      <td>5.027091</td>\n",
       "      <td>-467.518969</td>\n",
       "      <td>-517.369297</td>\n",
       "    </tr>\n",
       "    <tr>\n",
       "      <th>std</th>\n",
       "      <td>4.052210</td>\n",
       "      <td>1.411522</td>\n",
       "      <td>198.822499</td>\n",
       "      <td>4.088495</td>\n",
       "      <td>6.349777</td>\n",
       "      <td>2.093686</td>\n",
       "      <td>32.535073</td>\n",
       "      <td>3.204861</td>\n",
       "      <td>0.409869</td>\n",
       "      <td>0.997905</td>\n",
       "      <td>...</td>\n",
       "      <td>175.681269</td>\n",
       "      <td>77.575049</td>\n",
       "      <td>51.364460</td>\n",
       "      <td>38.872229</td>\n",
       "      <td>39.435298</td>\n",
       "      <td>40.895096</td>\n",
       "      <td>208.968851</td>\n",
       "      <td>1.127376</td>\n",
       "      <td>67.449102</td>\n",
       "      <td>74.231163</td>\n",
       "    </tr>\n",
       "    <tr>\n",
       "      <th>min</th>\n",
       "      <td>0.000000</td>\n",
       "      <td>0.000290</td>\n",
       "      <td>-1.982295</td>\n",
       "      <td>0.000000</td>\n",
       "      <td>0.077503</td>\n",
       "      <td>0.000000</td>\n",
       "      <td>14.249246</td>\n",
       "      <td>0.000000</td>\n",
       "      <td>0.000005</td>\n",
       "      <td>0.000000</td>\n",
       "      <td>...</td>\n",
       "      <td>-0.042069</td>\n",
       "      <td>-657.949759</td>\n",
       "      <td>-799.794250</td>\n",
       "      <td>-799.960571</td>\n",
       "      <td>-799.997015</td>\n",
       "      <td>-798.641662</td>\n",
       "      <td>-0.721806</td>\n",
       "      <td>0.594562</td>\n",
       "      <td>-650.260008</td>\n",
       "      <td>-799.587280</td>\n",
       "    </tr>\n",
       "    <tr>\n",
       "      <th>25%</th>\n",
       "      <td>0.595795</td>\n",
       "      <td>5.307553</td>\n",
       "      <td>999.721383</td>\n",
       "      <td>6.636142</td>\n",
       "      <td>27.984504</td>\n",
       "      <td>6.624756</td>\n",
       "      <td>54.570147</td>\n",
       "      <td>8.121402</td>\n",
       "      <td>0.590081</td>\n",
       "      <td>1.685854</td>\n",
       "      <td>...</td>\n",
       "      <td>1000.268399</td>\n",
       "      <td>-300.317268</td>\n",
       "      <td>-500.509449</td>\n",
       "      <td>-500.814975</td>\n",
       "      <td>-500.453530</td>\n",
       "      <td>-500.311341</td>\n",
       "      <td>1152.347425</td>\n",
       "      <td>4.143526</td>\n",
       "      <td>-500.297713</td>\n",
       "      <td>-500.330506</td>\n",
       "    </tr>\n",
       "    <tr>\n",
       "      <th>50%</th>\n",
       "      <td>3.461140</td>\n",
       "      <td>6.099708</td>\n",
       "      <td>1051.546930</td>\n",
       "      <td>8.839021</td>\n",
       "      <td>30.078176</td>\n",
       "      <td>7.381534</td>\n",
       "      <td>68.795809</td>\n",
       "      <td>9.941377</td>\n",
       "      <td>0.807094</td>\n",
       "      <td>2.390037</td>\n",
       "      <td>...</td>\n",
       "      <td>1199.290318</td>\n",
       "      <td>-300.057456</td>\n",
       "      <td>-499.796994</td>\n",
       "      <td>-499.899708</td>\n",
       "      <td>-499.964247</td>\n",
       "      <td>-499.893641</td>\n",
       "      <td>1291.625405</td>\n",
       "      <td>4.990376</td>\n",
       "      <td>-499.896365</td>\n",
       "      <td>-499.993277</td>\n",
       "    </tr>\n",
       "    <tr>\n",
       "      <th>75%</th>\n",
       "      <td>7.203171</td>\n",
       "      <td>6.896607</td>\n",
       "      <td>1298.262755</td>\n",
       "      <td>11.430805</td>\n",
       "      <td>34.098673</td>\n",
       "      <td>8.473612</td>\n",
       "      <td>78.026946</td>\n",
       "      <td>11.619692</td>\n",
       "      <td>1.090277</td>\n",
       "      <td>3.145345</td>\n",
       "      <td>...</td>\n",
       "      <td>1394.667514</td>\n",
       "      <td>-299.913171</td>\n",
       "      <td>-498.022194</td>\n",
       "      <td>-498.659617</td>\n",
       "      <td>-499.382774</td>\n",
       "      <td>-499.343203</td>\n",
       "      <td>1401.150116</td>\n",
       "      <td>5.818629</td>\n",
       "      <td>-498.830055</td>\n",
       "      <td>-499.675603</td>\n",
       "    </tr>\n",
       "    <tr>\n",
       "      <th>max</th>\n",
       "      <td>26.000772</td>\n",
       "      <td>9.002704</td>\n",
       "      <td>1701.711940</td>\n",
       "      <td>22.280845</td>\n",
       "      <td>48.822781</td>\n",
       "      <td>17.945084</td>\n",
       "      <td>449.825402</td>\n",
       "      <td>16.325650</td>\n",
       "      <td>2.500920</td>\n",
       "      <td>4.955723</td>\n",
       "      <td>...</td>\n",
       "      <td>1500.237736</td>\n",
       "      <td>-295.240802</td>\n",
       "      <td>-30.601828</td>\n",
       "      <td>-347.257693</td>\n",
       "      <td>-348.428215</td>\n",
       "      <td>-347.471096</td>\n",
       "      <td>1809.194008</td>\n",
       "      <td>12.719177</td>\n",
       "      <td>-296.383080</td>\n",
       "      <td>-127.875565</td>\n",
       "    </tr>\n",
       "  </tbody>\n",
       "</table>\n",
       "<p>8 rows × 63 columns</p>\n",
       "</div>"
      ],
      "text/plain": [
       "       secondary_cleaner.output.tail_sol  rougher.input.floatbank11_xanthate  \\\n",
       "count                        1597.000000                         2892.000000   \n",
       "mean                            4.408087                            5.930697   \n",
       "std                             4.052210                            1.411522   \n",
       "min                             0.000000                            0.000290   \n",
       "25%                             0.595795                            5.307553   \n",
       "50%                             3.461140                            6.099708   \n",
       "75%                             7.203171                            6.896607   \n",
       "max                            26.000772                            9.002704   \n",
       "\n",
       "       rougher.state.floatbank10_e_air  \\\n",
       "count                      2909.000000   \n",
       "mean                       1112.439332   \n",
       "std                         198.822499   \n",
       "min                          -1.982295   \n",
       "25%                         999.721383   \n",
       "50%                        1051.546930   \n",
       "75%                        1298.262755   \n",
       "max                        1701.711940   \n",
       "\n",
       "       primary_cleaner.output.concentrate_sol  \\\n",
       "count                             2975.000000   \n",
       "mean                                 9.091919   \n",
       "std                                  4.088495   \n",
       "min                                  0.000000   \n",
       "25%                                  6.636142   \n",
       "50%                                  8.839021   \n",
       "75%                                 11.430805   \n",
       "max                                 22.280845   \n",
       "\n",
       "       secondary_cleaner.state.floatbank2_a_air  final.output.concentrate_sol  \\\n",
       "count                               3125.000000                   3134.000000   \n",
       "mean                                  29.772056                      7.598032   \n",
       "std                                    6.349777                      2.093686   \n",
       "min                                    0.077503                      0.000000   \n",
       "25%                                   27.984504                      6.624756   \n",
       "50%                                   30.078176                      7.381534   \n",
       "75%                                   34.098673                      8.473612   \n",
       "max                                   48.822781                     17.945084   \n",
       "\n",
       "       rougher.input.feed_size  primary_cleaner.output.concentrate_pb  \\\n",
       "count              3200.000000                            3229.000000   \n",
       "mean                 71.273007                               9.557948   \n",
       "std                  32.535073                               3.204861   \n",
       "min                  14.249246                               0.000000   \n",
       "25%                  54.570147                               8.121402   \n",
       "50%                  68.795809                               9.941377   \n",
       "75%                  78.026946                              11.619692   \n",
       "max                 449.825402                              16.325650   \n",
       "\n",
       "       primary_cleaner.input.xanthate  final.output.tail_pb  ...  \\\n",
       "count                     3241.000000           3244.000000  ...   \n",
       "mean                         0.864791              2.381111  ...   \n",
       "std                          0.409869              0.997905  ...   \n",
       "min                          0.000005              0.000000  ...   \n",
       "25%                          0.590081              1.685854  ...   \n",
       "50%                          0.807094              2.390037  ...   \n",
       "75%                          1.090277              3.145345  ...   \n",
       "max                          2.500920              4.955723  ...   \n",
       "\n",
       "       rougher.state.floatbank10_a_air  rougher.state.floatbank10_a_level  \\\n",
       "count                      3344.000000                        3344.000000   \n",
       "mean                       1179.939722                        -334.758991   \n",
       "std                         175.681269                          77.575049   \n",
       "min                          -0.042069                        -657.949759   \n",
       "25%                        1000.268399                        -300.317268   \n",
       "50%                        1199.290318                        -300.057456   \n",
       "75%                        1394.667514                        -299.913171   \n",
       "max                        1500.237736                        -295.240802   \n",
       "\n",
       "       primary_cleaner.state.floatbank8_d_level  \\\n",
       "count                               3344.000000   \n",
       "mean                                -484.008299   \n",
       "std                                   51.364460   \n",
       "min                                 -799.794250   \n",
       "25%                                 -500.509449   \n",
       "50%                                 -499.796994   \n",
       "75%                                 -498.022194   \n",
       "max                                  -30.601828   \n",
       "\n",
       "       primary_cleaner.state.floatbank8_c_level  \\\n",
       "count                               3344.000000   \n",
       "mean                                -491.906909   \n",
       "std                                   38.872229   \n",
       "min                                 -799.960571   \n",
       "25%                                 -500.814975   \n",
       "50%                                 -499.899708   \n",
       "75%                                 -498.659617   \n",
       "max                                 -347.257693   \n",
       "\n",
       "       primary_cleaner.state.floatbank8_b_level  \\\n",
       "count                               3344.000000   \n",
       "mean                                -492.252304   \n",
       "std                                   39.435298   \n",
       "min                                 -799.997015   \n",
       "25%                                 -500.453530   \n",
       "50%                                 -499.964247   \n",
       "75%                                 -499.382774   \n",
       "max                                 -348.428215   \n",
       "\n",
       "       primary_cleaner.state.floatbank8_a_level  \\\n",
       "count                               3344.000000   \n",
       "mean                                -489.755151   \n",
       "std                                   40.895096   \n",
       "min                                 -798.641662   \n",
       "25%                                 -500.311341   \n",
       "50%                                 -499.893641   \n",
       "75%                                 -499.343203   \n",
       "max                                 -347.471096   \n",
       "\n",
       "       rougher.state.floatbank10_b_air  rougher.output.tail_ag  \\\n",
       "count                      3344.000000             3344.000000   \n",
       "mean                       1289.601409                5.027091   \n",
       "std                         208.968851                1.127376   \n",
       "min                          -0.721806                0.594562   \n",
       "25%                        1152.347425                4.143526   \n",
       "50%                        1291.625405                4.990376   \n",
       "75%                        1401.150116                5.818629   \n",
       "max                        1809.194008               12.719177   \n",
       "\n",
       "       rougher.state.floatbank10_b_level  \\\n",
       "count                        3344.000000   \n",
       "mean                         -467.518969   \n",
       "std                            67.449102   \n",
       "min                          -650.260008   \n",
       "25%                          -500.297713   \n",
       "50%                          -499.896365   \n",
       "75%                          -498.830055   \n",
       "max                          -296.383080   \n",
       "\n",
       "       secondary_cleaner.state.floatbank2_a_level  \n",
       "count                                 3344.000000  \n",
       "mean                                  -517.369297  \n",
       "std                                     74.231163  \n",
       "min                                   -799.587280  \n",
       "25%                                   -500.330506  \n",
       "50%                                   -499.993277  \n",
       "75%                                   -499.675603  \n",
       "max                                   -127.875565  \n",
       "\n",
       "[8 rows x 63 columns]"
      ]
     },
     "execution_count": 11,
     "metadata": {},
     "output_type": "execute_result"
    }
   ],
   "source": [
    "gold_industry_full.loc[index_nan_full, gold_industry_full_pass['columns']].describe()"
   ]
  },
  {
   "cell_type": "markdown",
   "metadata": {},
   "source": [
    "*Данные между собой имеют разный разброс. Предположительно, данные чувствительны и заполнение средним может повлиять на конечный результат не в лучшую сторону.*"
   ]
  },
  {
   "cell_type": "markdown",
   "metadata": {},
   "source": [
    "**Поиск дубликатов**"
   ]
  },
  {
   "cell_type": "markdown",
   "metadata": {},
   "source": [
    "Проверим дубликаты по всей таблице"
   ]
  },
  {
   "cell_type": "code",
   "execution_count": 12,
   "metadata": {},
   "outputs": [
    {
     "data": {
      "text/plain": [
       "0"
      ]
     },
     "execution_count": 12,
     "metadata": {},
     "output_type": "execute_result"
    }
   ],
   "source": [
    "gold_industry_full.duplicated().sum()"
   ]
  },
  {
   "cell_type": "markdown",
   "metadata": {},
   "source": [
    "Проверим наличие дубликатов по столбцу с датой."
   ]
  },
  {
   "cell_type": "code",
   "execution_count": 13,
   "metadata": {},
   "outputs": [
    {
     "data": {
      "text/plain": [
       "0"
      ]
     },
     "execution_count": 13,
     "metadata": {},
     "output_type": "execute_result"
    }
   ],
   "source": [
    "gold_industry_full['date'].duplicated().sum()"
   ]
  },
  {
   "cell_type": "markdown",
   "metadata": {},
   "source": [
    "Теперь пройдём по каждому столбцу отдельно и выпишем их"
   ]
  },
  {
   "cell_type": "code",
   "execution_count": 14,
   "metadata": {},
   "outputs": [
    {
     "name": "stdout",
     "output_type": "stream",
     "text": [
      "В столбце rougher.input.feed_au — 30 дубликат(а/ов)\n",
      "В столбце rougher.input.feed_ag — 30 дубликат(а/ов)\n",
      "В столбце rougher.input.feed_pb — 138 дубликат(а/ов)\n",
      "В столбце rougher.input.feed_sol — 146 дубликат(а/ов)\n",
      "В столбце rougher.input.feed_rate — 10 дубликат(а/ов)\n",
      "В столбце rougher.input.feed_size — 152 дубликат(а/ов)\n",
      "В столбце rougher.input.floatbank10_sulfate — 33 дубликат(а/ов)\n",
      "В столбце rougher.input.floatbank10_xanthate — 7 дубликат(а/ов)\n",
      "В столбце rougher.state.floatbank10_e_air — 435 дубликат(а/ов)\n",
      "В столбце rougher.state.floatbank10_f_level — 1 дубликат(а/ов)\n",
      "В столбце rougher.input.floatbank11_sulfate — 43 дубликат(а/ов)\n",
      "В столбце rougher.input.floatbank11_xanthate — 467 дубликат(а/ов)\n",
      "В столбце rougher.calculation.sulfate_to_au_concentrate — 1 дубликат(а/ов)\n",
      "В столбце rougher.calculation.floatbank10_sulfate_to_au_feed — 1 дубликат(а/ов)\n",
      "В столбце rougher.calculation.floatbank11_sulfate_to_au_feed — 1 дубликат(а/ов)\n",
      "В столбце rougher.calculation.au_pb_ratio — 30 дубликат(а/ов)\n",
      "В столбце rougher.output.concentrate_au — 424 дубликат(а/ов)\n",
      "В столбце rougher.output.concentrate_ag — 424 дубликат(а/ов)\n",
      "В столбце rougher.output.concentrate_pb — 483 дубликат(а/ов)\n",
      "В столбце rougher.output.concentrate_sol — 774 дубликат(а/ов)\n",
      "В столбце rougher.output.recovery — 422 дубликат(а/ов)\n",
      "В столбце rougher.output.tail_au — 40 дубликат(а/ов)\n",
      "В столбце rougher.output.tail_ag — 41 дубликат(а/ов)\n",
      "В столбце rougher.output.tail_pb — 30 дубликат(а/ов)\n",
      "В столбце rougher.output.tail_sol — 167 дубликат(а/ов)\n",
      "В столбце primary_cleaner.input.sulfate — 23 дубликат(а/ов)\n",
      "В столбце primary_cleaner.input.depressant — 45 дубликат(а/ов)\n",
      "В столбце primary_cleaner.input.feed_size — 14417 дубликат(а/ов)\n",
      "В столбце primary_cleaner.input.xanthate — 103 дубликат(а/ов)\n",
      "В столбце primary_cleaner.state.floatbank8_a_air — 3 дубликат(а/ов)\n",
      "В столбце primary_cleaner.state.floatbank8_b_air — 3 дубликат(а/ов)\n",
      "В столбце primary_cleaner.state.floatbank8_c_air — 1 дубликат(а/ов)\n",
      "В столбце primary_cleaner.state.floatbank8_d_air — 2 дубликат(а/ов)\n",
      "В столбце primary_cleaner.output.concentrate_au — 240 дубликат(а/ов)\n",
      "В столбце primary_cleaner.output.concentrate_ag — 240 дубликат(а/ов)\n",
      "В столбце primary_cleaner.output.concentrate_pb — 383 дубликат(а/ов)\n",
      "В столбце primary_cleaner.output.concentrate_sol — 612 дубликат(а/ов)\n",
      "В столбце primary_cleaner.output.tail_au — 148 дубликат(а/ов)\n",
      "В столбце primary_cleaner.output.tail_ag — 151 дубликат(а/ов)\n",
      "В столбце primary_cleaner.output.tail_pb — 168 дубликат(а/ов)\n",
      "В столбце primary_cleaner.output.tail_sol — 209 дубликат(а/ов)\n",
      "В столбце secondary_cleaner.state.floatbank2_a_air — 220 дубликат(а/ов)\n",
      "В столбце secondary_cleaner.state.floatbank2_b_air — 157 дубликат(а/ов)\n",
      "В столбце secondary_cleaner.state.floatbank3_a_air — 85 дубликат(а/ов)\n",
      "В столбце secondary_cleaner.state.floatbank3_b_air — 120 дубликат(а/ов)\n",
      "В столбце secondary_cleaner.state.floatbank4_a_air — 15 дубликат(а/ов)\n",
      "В столбце secondary_cleaner.state.floatbank4_b_air — 24 дубликат(а/ов)\n",
      "В столбце secondary_cleaner.state.floatbank4_b_level — 2 дубликат(а/ов)\n",
      "В столбце secondary_cleaner.state.floatbank6_a_air — 1 дубликат(а/ов)\n",
      "В столбце secondary_cleaner.output.tail_au — 861 дубликат(а/ов)\n",
      "В столбце secondary_cleaner.output.tail_ag — 862 дубликат(а/ов)\n",
      "В столбце secondary_cleaner.output.tail_pb — 876 дубликат(а/ов)\n",
      "В столбце secondary_cleaner.output.tail_sol — 2607 дубликат(а/ов)\n",
      "В столбце final.output.concentrate_au — 131 дубликат(а/ов)\n",
      "В столбце final.output.concentrate_ag — 131 дубликат(а/ов)\n",
      "В столбце final.output.concentrate_pb — 162 дубликат(а/ов)\n",
      "В столбце final.output.concentrate_sol — 345 дубликат(а/ов)\n",
      "В столбце final.output.recovery — 204 дубликат(а/ов)\n",
      "В столбце final.output.tail_au — 110 дубликат(а/ов)\n",
      "В столбце final.output.tail_ag — 110 дубликат(а/ов)\n",
      "В столбце final.output.tail_pb — 210 дубликат(а/ов)\n",
      "В столбце final.output.tail_sol — 116 дубликат(а/ов)\n"
     ]
    }
   ],
   "source": [
    "def some_dub(geo_data_0):\n",
    "    for el in geo_data_0.columns:\n",
    "        some_dub = geo_data_0.loc[:, el].duplicated().sum()\n",
    "        if some_dub > 0:\n",
    "            print(f'В столбце {el} — {some_dub} дубликат(а/ов)')\n",
    "\n",
    "some_dub(gold_industry_full)           "
   ]
  },
  {
   "cell_type": "markdown",
   "metadata": {
    "editable": true,
    "slideshow": {
     "slide_type": ""
    },
    "tags": []
   },
   "source": [
    "*По условию данные могут быть похожи. Особенности производства тоже могут влиять на наличие дубликатов в одних и тех же столбцах. Стоит проверить по ключевым столбцам или по столбцам, где есть только уникальные значения.*"
   ]
  },
  {
   "cell_type": "markdown",
   "metadata": {},
   "source": [
    "Изучим наличие дубликатов без учёта столбца `date`"
   ]
  },
  {
   "cell_type": "code",
   "execution_count": 15,
   "metadata": {},
   "outputs": [
    {
     "data": {
      "text/plain": [
       "0"
      ]
     },
     "execution_count": 15,
     "metadata": {},
     "output_type": "execute_result"
    }
   ],
   "source": [
    "gold_industry_full.drop('date', axis=1).duplicated().sum()"
   ]
  },
  {
   "cell_type": "markdown",
   "metadata": {},
   "source": [
    "Теперь пройдёмся по ключевым столбцам, связанным с золотом."
   ]
  },
  {
   "cell_type": "code",
   "execution_count": 16,
   "metadata": {},
   "outputs": [
    {
     "data": {
      "text/plain": [
       "28"
      ]
     },
     "execution_count": 16,
     "metadata": {},
     "output_type": "execute_result"
    }
   ],
   "source": [
    "dup_col = ['rougher.input.feed_au', 'rougher.output.concentrate_au', 'rougher.output.tail_au',\n",
    "           'primary_cleaner.output.concentrate_au', 'final.output.tail_au']\n",
    "gold_industry_full[dup_col].duplicated().sum()"
   ]
  },
  {
   "cell_type": "markdown",
   "metadata": {},
   "source": [
    "Изучи строки с дубликатами"
   ]
  },
  {
   "cell_type": "code",
   "execution_count": 17,
   "metadata": {},
   "outputs": [
    {
     "data": {
      "text/html": [
       "<div>\n",
       "<style scoped>\n",
       "    .dataframe tbody tr th:only-of-type {\n",
       "        vertical-align: middle;\n",
       "    }\n",
       "\n",
       "    .dataframe tbody tr th {\n",
       "        vertical-align: top;\n",
       "    }\n",
       "\n",
       "    .dataframe thead th {\n",
       "        text-align: right;\n",
       "    }\n",
       "</style>\n",
       "<table border=\"1\" class=\"dataframe\">\n",
       "  <thead>\n",
       "    <tr style=\"text-align: right;\">\n",
       "      <th></th>\n",
       "      <th>date</th>\n",
       "      <th>rougher.input.feed_au</th>\n",
       "      <th>rougher.input.feed_ag</th>\n",
       "      <th>rougher.input.feed_pb</th>\n",
       "      <th>rougher.input.feed_sol</th>\n",
       "      <th>rougher.input.feed_rate</th>\n",
       "      <th>rougher.input.feed_size</th>\n",
       "      <th>rougher.input.floatbank10_sulfate</th>\n",
       "      <th>rougher.input.floatbank10_xanthate</th>\n",
       "      <th>rougher.state.floatbank10_a_air</th>\n",
       "      <th>...</th>\n",
       "      <th>secondary_cleaner.output.tail_sol</th>\n",
       "      <th>final.output.concentrate_au</th>\n",
       "      <th>final.output.concentrate_ag</th>\n",
       "      <th>final.output.concentrate_pb</th>\n",
       "      <th>final.output.concentrate_sol</th>\n",
       "      <th>final.output.recovery</th>\n",
       "      <th>final.output.tail_au</th>\n",
       "      <th>final.output.tail_ag</th>\n",
       "      <th>final.output.tail_pb</th>\n",
       "      <th>final.output.tail_sol</th>\n",
       "    </tr>\n",
       "  </thead>\n",
       "  <tbody>\n",
       "    <tr>\n",
       "      <th>5740</th>\n",
       "      <td>2016-10-25 05:59:59</td>\n",
       "      <td>8.518138</td>\n",
       "      <td>7.061728</td>\n",
       "      <td>5.038574</td>\n",
       "      <td>36.808594</td>\n",
       "      <td>0.153807</td>\n",
       "      <td>45.901764</td>\n",
       "      <td>0.004073</td>\n",
       "      <td>0.007638</td>\n",
       "      <td>155.593194</td>\n",
       "      <td>...</td>\n",
       "      <td>0.0</td>\n",
       "      <td>44.528214</td>\n",
       "      <td>3.554558</td>\n",
       "      <td>12.202148</td>\n",
       "      <td>13.827148</td>\n",
       "      <td>67.275195</td>\n",
       "      <td>3.199278</td>\n",
       "      <td>7.958822</td>\n",
       "      <td>4.226074</td>\n",
       "      <td>9.827148</td>\n",
       "    </tr>\n",
       "    <tr>\n",
       "      <th>5741</th>\n",
       "      <td>2016-10-25 06:59:59</td>\n",
       "      <td>8.518138</td>\n",
       "      <td>7.061728</td>\n",
       "      <td>5.038574</td>\n",
       "      <td>36.808594</td>\n",
       "      <td>0.160360</td>\n",
       "      <td>45.908347</td>\n",
       "      <td>0.003079</td>\n",
       "      <td>0.008800</td>\n",
       "      <td>239.768994</td>\n",
       "      <td>...</td>\n",
       "      <td>0.0</td>\n",
       "      <td>44.528214</td>\n",
       "      <td>3.554558</td>\n",
       "      <td>12.202148</td>\n",
       "      <td>13.827148</td>\n",
       "      <td>67.275195</td>\n",
       "      <td>3.199278</td>\n",
       "      <td>7.958822</td>\n",
       "      <td>4.226074</td>\n",
       "      <td>9.827148</td>\n",
       "    </tr>\n",
       "    <tr>\n",
       "      <th>5742</th>\n",
       "      <td>2016-10-25 07:59:59</td>\n",
       "      <td>8.518138</td>\n",
       "      <td>7.061728</td>\n",
       "      <td>5.038574</td>\n",
       "      <td>36.808594</td>\n",
       "      <td>0.160083</td>\n",
       "      <td>45.914930</td>\n",
       "      <td>0.073245</td>\n",
       "      <td>0.009512</td>\n",
       "      <td>1001.917835</td>\n",
       "      <td>...</td>\n",
       "      <td>0.0</td>\n",
       "      <td>44.528214</td>\n",
       "      <td>3.554558</td>\n",
       "      <td>12.202148</td>\n",
       "      <td>13.827148</td>\n",
       "      <td>67.275195</td>\n",
       "      <td>3.199278</td>\n",
       "      <td>7.958822</td>\n",
       "      <td>4.226074</td>\n",
       "      <td>9.827148</td>\n",
       "    </tr>\n",
       "    <tr>\n",
       "      <th>5743</th>\n",
       "      <td>2016-10-25 08:59:59</td>\n",
       "      <td>8.518138</td>\n",
       "      <td>7.061728</td>\n",
       "      <td>5.038574</td>\n",
       "      <td>36.808594</td>\n",
       "      <td>138.379540</td>\n",
       "      <td>45.921513</td>\n",
       "      <td>1.352146</td>\n",
       "      <td>2.199110</td>\n",
       "      <td>994.901709</td>\n",
       "      <td>...</td>\n",
       "      <td>0.0</td>\n",
       "      <td>44.528214</td>\n",
       "      <td>3.554558</td>\n",
       "      <td>12.202148</td>\n",
       "      <td>13.827148</td>\n",
       "      <td>67.275195</td>\n",
       "      <td>3.199278</td>\n",
       "      <td>7.958822</td>\n",
       "      <td>4.226074</td>\n",
       "      <td>9.827148</td>\n",
       "    </tr>\n",
       "    <tr>\n",
       "      <th>9241</th>\n",
       "      <td>2017-04-05 02:59:59</td>\n",
       "      <td>7.556612</td>\n",
       "      <td>7.973955</td>\n",
       "      <td>3.909912</td>\n",
       "      <td>NaN</td>\n",
       "      <td>1.493225</td>\n",
       "      <td>39.032925</td>\n",
       "      <td>NaN</td>\n",
       "      <td>2.548739</td>\n",
       "      <td>1000.480219</td>\n",
       "      <td>...</td>\n",
       "      <td>0.0</td>\n",
       "      <td>37.336849</td>\n",
       "      <td>5.925380</td>\n",
       "      <td>14.764648</td>\n",
       "      <td>6.663574</td>\n",
       "      <td>100.000000</td>\n",
       "      <td>0.000000</td>\n",
       "      <td>0.000000</td>\n",
       "      <td>0.000000</td>\n",
       "      <td>0.000000</td>\n",
       "    </tr>\n",
       "  </tbody>\n",
       "</table>\n",
       "<p>5 rows × 87 columns</p>\n",
       "</div>"
      ],
      "text/plain": [
       "                     date  rougher.input.feed_au  rougher.input.feed_ag  \\\n",
       "5740  2016-10-25 05:59:59               8.518138               7.061728   \n",
       "5741  2016-10-25 06:59:59               8.518138               7.061728   \n",
       "5742  2016-10-25 07:59:59               8.518138               7.061728   \n",
       "5743  2016-10-25 08:59:59               8.518138               7.061728   \n",
       "9241  2017-04-05 02:59:59               7.556612               7.973955   \n",
       "\n",
       "      rougher.input.feed_pb  rougher.input.feed_sol  rougher.input.feed_rate  \\\n",
       "5740               5.038574               36.808594                 0.153807   \n",
       "5741               5.038574               36.808594                 0.160360   \n",
       "5742               5.038574               36.808594                 0.160083   \n",
       "5743               5.038574               36.808594               138.379540   \n",
       "9241               3.909912                     NaN                 1.493225   \n",
       "\n",
       "      rougher.input.feed_size  rougher.input.floatbank10_sulfate  \\\n",
       "5740                45.901764                           0.004073   \n",
       "5741                45.908347                           0.003079   \n",
       "5742                45.914930                           0.073245   \n",
       "5743                45.921513                           1.352146   \n",
       "9241                39.032925                                NaN   \n",
       "\n",
       "      rougher.input.floatbank10_xanthate  rougher.state.floatbank10_a_air  \\\n",
       "5740                            0.007638                       155.593194   \n",
       "5741                            0.008800                       239.768994   \n",
       "5742                            0.009512                      1001.917835   \n",
       "5743                            2.199110                       994.901709   \n",
       "9241                            2.548739                      1000.480219   \n",
       "\n",
       "      ...  secondary_cleaner.output.tail_sol  final.output.concentrate_au  \\\n",
       "5740  ...                                0.0                    44.528214   \n",
       "5741  ...                                0.0                    44.528214   \n",
       "5742  ...                                0.0                    44.528214   \n",
       "5743  ...                                0.0                    44.528214   \n",
       "9241  ...                                0.0                    37.336849   \n",
       "\n",
       "      final.output.concentrate_ag  final.output.concentrate_pb  \\\n",
       "5740                     3.554558                    12.202148   \n",
       "5741                     3.554558                    12.202148   \n",
       "5742                     3.554558                    12.202148   \n",
       "5743                     3.554558                    12.202148   \n",
       "9241                     5.925380                    14.764648   \n",
       "\n",
       "      final.output.concentrate_sol  final.output.recovery  \\\n",
       "5740                     13.827148              67.275195   \n",
       "5741                     13.827148              67.275195   \n",
       "5742                     13.827148              67.275195   \n",
       "5743                     13.827148              67.275195   \n",
       "9241                      6.663574             100.000000   \n",
       "\n",
       "      final.output.tail_au  final.output.tail_ag  final.output.tail_pb  \\\n",
       "5740              3.199278              7.958822              4.226074   \n",
       "5741              3.199278              7.958822              4.226074   \n",
       "5742              3.199278              7.958822              4.226074   \n",
       "5743              3.199278              7.958822              4.226074   \n",
       "9241              0.000000              0.000000              0.000000   \n",
       "\n",
       "      final.output.tail_sol  \n",
       "5740               9.827148  \n",
       "5741               9.827148  \n",
       "5742               9.827148  \n",
       "5743               9.827148  \n",
       "9241               0.000000  \n",
       "\n",
       "[5 rows x 87 columns]"
      ]
     },
     "execution_count": 17,
     "metadata": {},
     "output_type": "execute_result"
    }
   ],
   "source": [
    "gold_industry_full.loc[gold_industry_full[dup_col].duplicated(), :].head()"
   ]
  },
  {
   "cell_type": "markdown",
   "metadata": {},
   "source": [
    "*Выявленные дубли скорее всего являются особенностью обработки, повторяющиеся значения близки по времени, однако не имеют одних и тех же значений на всех этапах. Оценка двух других выборок на дубликаты не имеет смысла, так как данные формировались из одного источника.*"
   ]
  },
  {
   "cell_type": "markdown",
   "metadata": {
    "editable": true,
    "slideshow": {
     "slide_type": ""
    },
    "tags": []
   },
   "source": [
    "**Выбросы**"
   ]
  },
  {
   "cell_type": "markdown",
   "metadata": {},
   "source": [
    "Произведём оценку выбросов по ключевым столбцам в исследовании `rougher.output.recovery`, `final.output.recovery`. Нам важны финальные характеристики, поэтому будем оценивать их."
   ]
  },
  {
   "cell_type": "code",
   "execution_count": 18,
   "metadata": {},
   "outputs": [
    {
     "data": {
      "image/png": "[encoded data removed]",
      "text/plain": [
       "<Figure size 1000x600 with 2 Axes>"
      ]
     },
     "metadata": {},
     "output_type": "display_data"
    }
   ],
   "source": [
    "def overview_borders(geo_data_0): \n",
    "    moustache = {}\n",
    "    # Построение смежных графиков\n",
    "    fig, ax = plt.subplots(1, 2, figsize=(10,6))\n",
    "    fig.suptitle('Ящики с усами', fontsize=14, fontweight='bold')\n",
    "    fig.subplots_adjust(top=0.9)\n",
    "    col = {'rougher.output.recovery':[0], 'final.output.recovery':[1]}\n",
    "    # Установка параметров\n",
    "    for key, val in col.items():\n",
    "        x = val[0]\n",
    "        name = key\n",
    "        b = ax[x].boxplot(geo_data_0[name])\n",
    "        # Выделение крайних усов боксплота\n",
    "        moustache[key] = [item.get_ydata()[1] for item in b['whiskers']]\n",
    "        ax[x].grid()\n",
    "        ax[x].set_title(name)\n",
    "        ax[x].tick_params('x', labelrotation = 0)\n",
    "        ax[x].set_ylabel('Значимые признаки')\n",
    "    return moustache\n",
    "\n",
    "moustache_full = overview_borders(gold_industry_full)"
   ]
  },
  {
   "cell_type": "markdown",
   "metadata": {},
   "source": [
    "Изучим границы усов"
   ]
  },
  {
   "cell_type": "code",
   "execution_count": 19,
   "metadata": {},
   "outputs": [
    {
     "data": {
      "text/plain": [
       "{'rougher.output.recovery': [67.58645125962467, 100.0],\n",
       " 'final.output.recovery': [49.23451345420847, 86.75679967291802]}"
      ]
     },
     "execution_count": 19,
     "metadata": {},
     "output_type": "execute_result"
    }
   ],
   "source": [
    "moustache_full"
   ]
  },
  {
   "cell_type": "markdown",
   "metadata": {},
   "source": [
    "*Наблюдается определённое количество выбросов, отсеем их в пункте предобработки данных.*"
   ]
  },
  {
   "cell_type": "markdown",
   "metadata": {
    "editable": true,
    "slideshow": {
     "slide_type": ""
    },
    "tags": []
   },
   "source": [
    "**Проверка на аномалии**"
   ]
  },
  {
   "cell_type": "code",
   "execution_count": 20,
   "metadata": {},
   "outputs": [],
   "source": [
    "def check_zero(gold_industry_full):\n",
    "    for el in gold_industry_full.columns:\n",
    "        ans = gold_industry_full.loc[gold_industry_full[el] == 0, el].count()\n",
    "        if ans > 0:\n",
    "            print(el, ans)"
   ]
  },
  {
   "cell_type": "code",
   "execution_count": 21,
   "metadata": {},
   "outputs": [
    {
     "name": "stdout",
     "output_type": "stream",
     "text": [
      "rougher.output.concentrate_au 394\n",
      "rougher.output.concentrate_ag 394\n",
      "rougher.output.concentrate_pb 394\n",
      "rougher.output.concentrate_sol 394\n",
      "rougher.output.recovery 394\n",
      "primary_cleaner.input.depressant 10\n",
      "primary_cleaner.output.concentrate_au 108\n",
      "primary_cleaner.output.concentrate_ag 108\n",
      "primary_cleaner.output.concentrate_pb 108\n",
      "primary_cleaner.output.concentrate_sol 108\n",
      "primary_cleaner.output.tail_au 124\n",
      "primary_cleaner.output.tail_ag 124\n",
      "primary_cleaner.output.tail_pb 124\n",
      "primary_cleaner.output.tail_sol 124\n",
      "secondary_cleaner.state.floatbank2_b_air 8\n",
      "secondary_cleaner.state.floatbank3_a_air 2\n",
      "secondary_cleaner.state.floatbank3_b_air 1\n",
      "secondary_cleaner.state.floatbank4_a_air 1\n",
      "secondary_cleaner.state.floatbank4_b_air 1\n",
      "secondary_cleaner.output.tail_au 849\n",
      "secondary_cleaner.output.tail_ag 849\n",
      "secondary_cleaner.output.tail_pb 849\n",
      "secondary_cleaner.output.tail_sol 849\n",
      "final.output.concentrate_au 98\n",
      "final.output.concentrate_ag 98\n",
      "final.output.concentrate_pb 98\n",
      "final.output.concentrate_sol 98\n",
      "final.output.recovery 98\n",
      "final.output.tail_au 91\n",
      "final.output.tail_ag 91\n",
      "final.output.tail_pb 91\n",
      "final.output.tail_sol 91\n"
     ]
    }
   ],
   "source": [
    "check_zero(gold_industry_full)     "
   ]
  },
  {
   "cell_type": "markdown",
   "metadata": {
    "editable": true,
    "slideshow": {
     "slide_type": ""
    },
    "tags": []
   },
   "source": [
    "*Значения некоторых характеристик равно 0, есть вероятность, что это сигнал запуска неэффективного процесса.*"
   ]
  },
  {
   "cell_type": "markdown",
   "metadata": {
    "editable": true,
    "slideshow": {
     "slide_type": ""
    },
    "tags": []
   },
   "source": [
    "##### gold_industry_train"
   ]
  },
  {
   "cell_type": "markdown",
   "metadata": {
    "editable": true,
    "slideshow": {
     "slide_type": ""
    },
    "tags": []
   },
   "source": [
    "**head, tail**"
   ]
  },
  {
   "cell_type": "markdown",
   "metadata": {},
   "source": [
    "Получим обзорную информацию методами `head` и `tail`"
   ]
  },
  {
   "cell_type": "code",
   "execution_count": 22,
   "metadata": {},
   "outputs": [
    {
     "data": {
      "text/html": [
       "<div>\n",
       "<style scoped>\n",
       "    .dataframe tbody tr th:only-of-type {\n",
       "        vertical-align: middle;\n",
       "    }\n",
       "\n",
       "    .dataframe tbody tr th {\n",
       "        vertical-align: top;\n",
       "    }\n",
       "\n",
       "    .dataframe thead th {\n",
       "        text-align: right;\n",
       "    }\n",
       "</style>\n",
       "<table border=\"1\" class=\"dataframe\">\n",
       "  <thead>\n",
       "    <tr style=\"text-align: right;\">\n",
       "      <th></th>\n",
       "      <th>date</th>\n",
       "      <th>rougher.input.feed_au</th>\n",
       "      <th>rougher.input.feed_ag</th>\n",
       "      <th>rougher.input.feed_pb</th>\n",
       "      <th>rougher.input.feed_sol</th>\n",
       "      <th>rougher.input.feed_rate</th>\n",
       "      <th>rougher.input.feed_size</th>\n",
       "      <th>rougher.input.floatbank10_sulfate</th>\n",
       "      <th>rougher.input.floatbank10_xanthate</th>\n",
       "      <th>rougher.state.floatbank10_a_air</th>\n",
       "      <th>...</th>\n",
       "      <th>secondary_cleaner.output.tail_sol</th>\n",
       "      <th>final.output.concentrate_au</th>\n",
       "      <th>final.output.concentrate_ag</th>\n",
       "      <th>final.output.concentrate_pb</th>\n",
       "      <th>final.output.concentrate_sol</th>\n",
       "      <th>final.output.recovery</th>\n",
       "      <th>final.output.tail_au</th>\n",
       "      <th>final.output.tail_ag</th>\n",
       "      <th>final.output.tail_pb</th>\n",
       "      <th>final.output.tail_sol</th>\n",
       "    </tr>\n",
       "  </thead>\n",
       "  <tbody>\n",
       "    <tr>\n",
       "      <th>0</th>\n",
       "      <td>2016-01-15 00:00:00</td>\n",
       "      <td>6.486150</td>\n",
       "      <td>6.100378</td>\n",
       "      <td>2.284912</td>\n",
       "      <td>36.808594</td>\n",
       "      <td>523.546326</td>\n",
       "      <td>55.486599</td>\n",
       "      <td>11.986616</td>\n",
       "      <td>6.007990</td>\n",
       "      <td>999.706909</td>\n",
       "      <td>...</td>\n",
       "      <td>8.764648</td>\n",
       "      <td>42.192020</td>\n",
       "      <td>6.055403</td>\n",
       "      <td>9.889648</td>\n",
       "      <td>5.507324</td>\n",
       "      <td>70.541216</td>\n",
       "      <td>2.143149</td>\n",
       "      <td>10.411962</td>\n",
       "      <td>0.895447</td>\n",
       "      <td>16.904297</td>\n",
       "    </tr>\n",
       "    <tr>\n",
       "      <th>1</th>\n",
       "      <td>2016-01-15 01:00:00</td>\n",
       "      <td>6.478583</td>\n",
       "      <td>6.161113</td>\n",
       "      <td>2.266033</td>\n",
       "      <td>35.753385</td>\n",
       "      <td>525.290581</td>\n",
       "      <td>57.278666</td>\n",
       "      <td>11.971193</td>\n",
       "      <td>6.005766</td>\n",
       "      <td>1000.286398</td>\n",
       "      <td>...</td>\n",
       "      <td>9.001494</td>\n",
       "      <td>42.701629</td>\n",
       "      <td>6.029369</td>\n",
       "      <td>9.968944</td>\n",
       "      <td>5.257781</td>\n",
       "      <td>69.266198</td>\n",
       "      <td>2.224930</td>\n",
       "      <td>10.462676</td>\n",
       "      <td>0.927452</td>\n",
       "      <td>16.634514</td>\n",
       "    </tr>\n",
       "    <tr>\n",
       "      <th>2</th>\n",
       "      <td>2016-01-15 02:00:00</td>\n",
       "      <td>6.362222</td>\n",
       "      <td>6.116455</td>\n",
       "      <td>2.159622</td>\n",
       "      <td>35.971630</td>\n",
       "      <td>530.026610</td>\n",
       "      <td>57.510649</td>\n",
       "      <td>11.920603</td>\n",
       "      <td>6.197377</td>\n",
       "      <td>999.719565</td>\n",
       "      <td>...</td>\n",
       "      <td>8.842896</td>\n",
       "      <td>42.657501</td>\n",
       "      <td>6.055926</td>\n",
       "      <td>10.213995</td>\n",
       "      <td>5.383759</td>\n",
       "      <td>68.116445</td>\n",
       "      <td>2.257889</td>\n",
       "      <td>10.507046</td>\n",
       "      <td>0.953716</td>\n",
       "      <td>16.208849</td>\n",
       "    </tr>\n",
       "    <tr>\n",
       "      <th>3</th>\n",
       "      <td>2016-01-15 03:00:00</td>\n",
       "      <td>6.118189</td>\n",
       "      <td>6.043309</td>\n",
       "      <td>2.037807</td>\n",
       "      <td>36.862241</td>\n",
       "      <td>542.590390</td>\n",
       "      <td>57.792734</td>\n",
       "      <td>11.630094</td>\n",
       "      <td>6.203177</td>\n",
       "      <td>999.814770</td>\n",
       "      <td>...</td>\n",
       "      <td>9.122857</td>\n",
       "      <td>42.689819</td>\n",
       "      <td>6.047977</td>\n",
       "      <td>9.977019</td>\n",
       "      <td>4.858634</td>\n",
       "      <td>68.347543</td>\n",
       "      <td>2.146849</td>\n",
       "      <td>10.422762</td>\n",
       "      <td>0.883763</td>\n",
       "      <td>16.532835</td>\n",
       "    </tr>\n",
       "    <tr>\n",
       "      <th>4</th>\n",
       "      <td>2016-01-15 04:00:00</td>\n",
       "      <td>5.663707</td>\n",
       "      <td>6.060915</td>\n",
       "      <td>1.786875</td>\n",
       "      <td>34.347666</td>\n",
       "      <td>540.531893</td>\n",
       "      <td>56.047189</td>\n",
       "      <td>10.957755</td>\n",
       "      <td>6.198826</td>\n",
       "      <td>999.678690</td>\n",
       "      <td>...</td>\n",
       "      <td>8.871028</td>\n",
       "      <td>42.774141</td>\n",
       "      <td>6.148599</td>\n",
       "      <td>10.142511</td>\n",
       "      <td>4.939416</td>\n",
       "      <td>66.927016</td>\n",
       "      <td>2.055292</td>\n",
       "      <td>10.360302</td>\n",
       "      <td>0.792826</td>\n",
       "      <td>16.525686</td>\n",
       "    </tr>\n",
       "  </tbody>\n",
       "</table>\n",
       "<p>5 rows × 87 columns</p>\n",
       "</div>"
      ],
      "text/plain": [
       "                  date  rougher.input.feed_au  rougher.input.feed_ag  \\\n",
       "0  2016-01-15 00:00:00               6.486150               6.100378   \n",
       "1  2016-01-15 01:00:00               6.478583               6.161113   \n",
       "2  2016-01-15 02:00:00               6.362222               6.116455   \n",
       "3  2016-01-15 03:00:00               6.118189               6.043309   \n",
       "4  2016-01-15 04:00:00               5.663707               6.060915   \n",
       "\n",
       "   rougher.input.feed_pb  rougher.input.feed_sol  rougher.input.feed_rate  \\\n",
       "0               2.284912               36.808594               523.546326   \n",
       "1               2.266033               35.753385               525.290581   \n",
       "2               2.159622               35.971630               530.026610   \n",
       "3               2.037807               36.862241               542.590390   \n",
       "4               1.786875               34.347666               540.531893   \n",
       "\n",
       "   rougher.input.feed_size  rougher.input.floatbank10_sulfate  \\\n",
       "0                55.486599                          11.986616   \n",
       "1                57.278666                          11.971193   \n",
       "2                57.510649                          11.920603   \n",
       "3                57.792734                          11.630094   \n",
       "4                56.047189                          10.957755   \n",
       "\n",
       "   rougher.input.floatbank10_xanthate  rougher.state.floatbank10_a_air  ...  \\\n",
       "0                            6.007990                       999.706909  ...   \n",
       "1                            6.005766                      1000.286398  ...   \n",
       "2                            6.197377                       999.719565  ...   \n",
       "3                            6.203177                       999.814770  ...   \n",
       "4                            6.198826                       999.678690  ...   \n",
       "\n",
       "   secondary_cleaner.output.tail_sol  final.output.concentrate_au  \\\n",
       "0                           8.764648                    42.192020   \n",
       "1                           9.001494                    42.701629   \n",
       "2                           8.842896                    42.657501   \n",
       "3                           9.122857                    42.689819   \n",
       "4                           8.871028                    42.774141   \n",
       "\n",
       "   final.output.concentrate_ag  final.output.concentrate_pb  \\\n",
       "0                     6.055403                     9.889648   \n",
       "1                     6.029369                     9.968944   \n",
       "2                     6.055926                    10.213995   \n",
       "3                     6.047977                     9.977019   \n",
       "4                     6.148599                    10.142511   \n",
       "\n",
       "   final.output.concentrate_sol  final.output.recovery  final.output.tail_au  \\\n",
       "0                      5.507324              70.541216              2.143149   \n",
       "1                      5.257781              69.266198              2.224930   \n",
       "2                      5.383759              68.116445              2.257889   \n",
       "3                      4.858634              68.347543              2.146849   \n",
       "4                      4.939416              66.927016              2.055292   \n",
       "\n",
       "   final.output.tail_ag  final.output.tail_pb  final.output.tail_sol  \n",
       "0             10.411962              0.895447              16.904297  \n",
       "1             10.462676              0.927452              16.634514  \n",
       "2             10.507046              0.953716              16.208849  \n",
       "3             10.422762              0.883763              16.532835  \n",
       "4             10.360302              0.792826              16.525686  \n",
       "\n",
       "[5 rows x 87 columns]"
      ]
     },
     "metadata": {},
     "output_type": "display_data"
    },
    {
     "data": {
      "text/html": [
       "<div>\n",
       "<style scoped>\n",
       "    .dataframe tbody tr th:only-of-type {\n",
       "        vertical-align: middle;\n",
       "    }\n",
       "\n",
       "    .dataframe tbody tr th {\n",
       "        vertical-align: top;\n",
       "    }\n",
       "\n",
       "    .dataframe thead th {\n",
       "        text-align: right;\n",
       "    }\n",
       "</style>\n",
       "<table border=\"1\" class=\"dataframe\">\n",
       "  <thead>\n",
       "    <tr style=\"text-align: right;\">\n",
       "      <th></th>\n",
       "      <th>date</th>\n",
       "      <th>rougher.input.feed_au</th>\n",
       "      <th>rougher.input.feed_ag</th>\n",
       "      <th>rougher.input.feed_pb</th>\n",
       "      <th>rougher.input.feed_sol</th>\n",
       "      <th>rougher.input.feed_rate</th>\n",
       "      <th>rougher.input.feed_size</th>\n",
       "      <th>rougher.input.floatbank10_sulfate</th>\n",
       "      <th>rougher.input.floatbank10_xanthate</th>\n",
       "      <th>rougher.state.floatbank10_a_air</th>\n",
       "      <th>...</th>\n",
       "      <th>secondary_cleaner.output.tail_sol</th>\n",
       "      <th>final.output.concentrate_au</th>\n",
       "      <th>final.output.concentrate_ag</th>\n",
       "      <th>final.output.concentrate_pb</th>\n",
       "      <th>final.output.concentrate_sol</th>\n",
       "      <th>final.output.recovery</th>\n",
       "      <th>final.output.tail_au</th>\n",
       "      <th>final.output.tail_ag</th>\n",
       "      <th>final.output.tail_pb</th>\n",
       "      <th>final.output.tail_sol</th>\n",
       "    </tr>\n",
       "  </thead>\n",
       "  <tbody>\n",
       "    <tr>\n",
       "      <th>14574</th>\n",
       "      <td>2017-12-09 09:59:59</td>\n",
       "      <td>4.599524</td>\n",
       "      <td>5.822083</td>\n",
       "      <td>4.255546</td>\n",
       "      <td>37.480479</td>\n",
       "      <td>559.895089</td>\n",
       "      <td>85.247019</td>\n",
       "      <td>6.775864</td>\n",
       "      <td>9.005425</td>\n",
       "      <td>1200.454685</td>\n",
       "      <td>...</td>\n",
       "      <td>0.0</td>\n",
       "      <td>47.765393</td>\n",
       "      <td>2.925574</td>\n",
       "      <td>10.855586</td>\n",
       "      <td>7.053796</td>\n",
       "      <td>64.054699</td>\n",
       "      <td>1.761994</td>\n",
       "      <td>8.578502</td>\n",
       "      <td>3.365823</td>\n",
       "      <td>10.603464</td>\n",
       "    </tr>\n",
       "    <tr>\n",
       "      <th>14575</th>\n",
       "      <td>2017-12-09 10:59:59</td>\n",
       "      <td>4.658125</td>\n",
       "      <td>5.844800</td>\n",
       "      <td>4.241564</td>\n",
       "      <td>37.395565</td>\n",
       "      <td>561.464855</td>\n",
       "      <td>83.860651</td>\n",
       "      <td>6.770561</td>\n",
       "      <td>9.000889</td>\n",
       "      <td>1200.958146</td>\n",
       "      <td>...</td>\n",
       "      <td>0.0</td>\n",
       "      <td>46.956275</td>\n",
       "      <td>3.076566</td>\n",
       "      <td>11.542302</td>\n",
       "      <td>6.929418</td>\n",
       "      <td>68.643324</td>\n",
       "      <td>1.567363</td>\n",
       "      <td>8.792890</td>\n",
       "      <td>3.120351</td>\n",
       "      <td>10.184715</td>\n",
       "    </tr>\n",
       "    <tr>\n",
       "      <th>14576</th>\n",
       "      <td>2017-12-09 11:59:59</td>\n",
       "      <td>5.335862</td>\n",
       "      <td>6.091855</td>\n",
       "      <td>4.617558</td>\n",
       "      <td>37.369774</td>\n",
       "      <td>560.889077</td>\n",
       "      <td>85.718304</td>\n",
       "      <td>7.762770</td>\n",
       "      <td>9.158609</td>\n",
       "      <td>1199.245914</td>\n",
       "      <td>...</td>\n",
       "      <td>0.0</td>\n",
       "      <td>46.713954</td>\n",
       "      <td>3.224920</td>\n",
       "      <td>11.356233</td>\n",
       "      <td>6.803482</td>\n",
       "      <td>73.755150</td>\n",
       "      <td>1.529220</td>\n",
       "      <td>8.769645</td>\n",
       "      <td>3.141541</td>\n",
       "      <td>10.403181</td>\n",
       "    </tr>\n",
       "    <tr>\n",
       "      <th>14577</th>\n",
       "      <td>2017-12-09 12:59:59</td>\n",
       "      <td>4.838619</td>\n",
       "      <td>6.121323</td>\n",
       "      <td>4.144989</td>\n",
       "      <td>38.591551</td>\n",
       "      <td>559.031805</td>\n",
       "      <td>119.499241</td>\n",
       "      <td>7.356687</td>\n",
       "      <td>9.304952</td>\n",
       "      <td>1196.569267</td>\n",
       "      <td>...</td>\n",
       "      <td>0.0</td>\n",
       "      <td>46.866780</td>\n",
       "      <td>3.195978</td>\n",
       "      <td>11.349355</td>\n",
       "      <td>6.862249</td>\n",
       "      <td>69.049291</td>\n",
       "      <td>1.612542</td>\n",
       "      <td>8.897321</td>\n",
       "      <td>3.130493</td>\n",
       "      <td>10.549470</td>\n",
       "    </tr>\n",
       "    <tr>\n",
       "      <th>14578</th>\n",
       "      <td>2017-12-09 13:59:59</td>\n",
       "      <td>4.525061</td>\n",
       "      <td>5.970515</td>\n",
       "      <td>4.020002</td>\n",
       "      <td>40.074026</td>\n",
       "      <td>555.682872</td>\n",
       "      <td>122.262690</td>\n",
       "      <td>6.586020</td>\n",
       "      <td>9.299606</td>\n",
       "      <td>1204.866639</td>\n",
       "      <td>...</td>\n",
       "      <td>0.0</td>\n",
       "      <td>46.795691</td>\n",
       "      <td>3.109998</td>\n",
       "      <td>11.434366</td>\n",
       "      <td>6.886013</td>\n",
       "      <td>67.002189</td>\n",
       "      <td>1.596616</td>\n",
       "      <td>8.529606</td>\n",
       "      <td>2.911418</td>\n",
       "      <td>11.115147</td>\n",
       "    </tr>\n",
       "  </tbody>\n",
       "</table>\n",
       "<p>5 rows × 87 columns</p>\n",
       "</div>"
      ],
      "text/plain": [
       "                      date  rougher.input.feed_au  rougher.input.feed_ag  \\\n",
       "14574  2017-12-09 09:59:59               4.599524               5.822083   \n",
       "14575  2017-12-09 10:59:59               4.658125               5.844800   \n",
       "14576  2017-12-09 11:59:59               5.335862               6.091855   \n",
       "14577  2017-12-09 12:59:59               4.838619               6.121323   \n",
       "14578  2017-12-09 13:59:59               4.525061               5.970515   \n",
       "\n",
       "       rougher.input.feed_pb  rougher.input.feed_sol  rougher.input.feed_rate  \\\n",
       "14574               4.255546               37.480479               559.895089   \n",
       "14575               4.241564               37.395565               561.464855   \n",
       "14576               4.617558               37.369774               560.889077   \n",
       "14577               4.144989               38.591551               559.031805   \n",
       "14578               4.020002               40.074026               555.682872   \n",
       "\n",
       "       rougher.input.feed_size  rougher.input.floatbank10_sulfate  \\\n",
       "14574                85.247019                           6.775864   \n",
       "14575                83.860651                           6.770561   \n",
       "14576                85.718304                           7.762770   \n",
       "14577               119.499241                           7.356687   \n",
       "14578               122.262690                           6.586020   \n",
       "\n",
       "       rougher.input.floatbank10_xanthate  rougher.state.floatbank10_a_air  \\\n",
       "14574                            9.005425                      1200.454685   \n",
       "14575                            9.000889                      1200.958146   \n",
       "14576                            9.158609                      1199.245914   \n",
       "14577                            9.304952                      1196.569267   \n",
       "14578                            9.299606                      1204.866639   \n",
       "\n",
       "       ...  secondary_cleaner.output.tail_sol  final.output.concentrate_au  \\\n",
       "14574  ...                                0.0                    47.765393   \n",
       "14575  ...                                0.0                    46.956275   \n",
       "14576  ...                                0.0                    46.713954   \n",
       "14577  ...                                0.0                    46.866780   \n",
       "14578  ...                                0.0                    46.795691   \n",
       "\n",
       "       final.output.concentrate_ag  final.output.concentrate_pb  \\\n",
       "14574                     2.925574                    10.855586   \n",
       "14575                     3.076566                    11.542302   \n",
       "14576                     3.224920                    11.356233   \n",
       "14577                     3.195978                    11.349355   \n",
       "14578                     3.109998                    11.434366   \n",
       "\n",
       "       final.output.concentrate_sol  final.output.recovery  \\\n",
       "14574                      7.053796              64.054699   \n",
       "14575                      6.929418              68.643324   \n",
       "14576                      6.803482              73.755150   \n",
       "14577                      6.862249              69.049291   \n",
       "14578                      6.886013              67.002189   \n",
       "\n",
       "       final.output.tail_au  final.output.tail_ag  final.output.tail_pb  \\\n",
       "14574              1.761994              8.578502              3.365823   \n",
       "14575              1.567363              8.792890              3.120351   \n",
       "14576              1.529220              8.769645              3.141541   \n",
       "14577              1.612542              8.897321              3.130493   \n",
       "14578              1.596616              8.529606              2.911418   \n",
       "\n",
       "       final.output.tail_sol  \n",
       "14574              10.603464  \n",
       "14575              10.184715  \n",
       "14576              10.403181  \n",
       "14577              10.549470  \n",
       "14578              11.115147  \n",
       "\n",
       "[5 rows x 87 columns]"
      ]
     },
     "metadata": {},
     "output_type": "display_data"
    }
   ],
   "source": [
    "display(gold_industry_train.head())\n",
    "display(gold_industry_train.tail())"
   ]
  },
  {
   "cell_type": "markdown",
   "metadata": {},
   "source": [
    "*Данные в отличии от `gold_industry_full` представлены за 2016-2017 года.*"
   ]
  },
  {
   "cell_type": "markdown",
   "metadata": {},
   "source": [
    "Изучим каккой размер тренировочной выборки имеем"
   ]
  },
  {
   "cell_type": "code",
   "execution_count": 23,
   "metadata": {},
   "outputs": [
    {
     "data": {
      "text/plain": [
       "(14579, 87)"
      ]
     },
     "execution_count": 23,
     "metadata": {},
     "output_type": "execute_result"
    }
   ],
   "source": [
    "gold_industry_train.shape"
   ]
  },
  {
   "cell_type": "code",
   "execution_count": 24,
   "metadata": {},
   "outputs": [
    {
     "name": "stdout",
     "output_type": "stream",
     "text": [
      "74.99871392561346\n"
     ]
    }
   ],
   "source": [
    "print(f'{gold_industry_train.shape[0]/gold_industry_full.shape[0]*100}')"
   ]
  },
  {
   "cell_type": "markdown",
   "metadata": {},
   "source": [
    "*Для тренировочной выборки выделено 75% от всей.*"
   ]
  },
  {
   "cell_type": "markdown",
   "metadata": {},
   "source": [
    "**info**"
   ]
  },
  {
   "cell_type": "markdown",
   "metadata": {},
   "source": [
    "Изучим предоставленную обучающую выборку"
   ]
  },
  {
   "cell_type": "code",
   "execution_count": 25,
   "metadata": {
    "scrolled": true
   },
   "outputs": [
    {
     "name": "stdout",
     "output_type": "stream",
     "text": [
      "<class 'pandas.core.frame.DataFrame'>\n",
      "RangeIndex: 14579 entries, 0 to 14578\n",
      "Data columns (total 87 columns):\n",
      " #   Column                                              Non-Null Count  Dtype  \n",
      "---  ------                                              --------------  -----  \n",
      " 0   date                                                14579 non-null  object \n",
      " 1   rougher.input.feed_au                               14579 non-null  float64\n",
      " 2   rougher.input.feed_ag                               14579 non-null  float64\n",
      " 3   rougher.input.feed_pb                               14507 non-null  float64\n",
      " 4   rougher.input.feed_sol                              14502 non-null  float64\n",
      " 5   rougher.input.feed_rate                             14572 non-null  float64\n",
      " 6   rougher.input.feed_size                             14478 non-null  float64\n",
      " 7   rougher.input.floatbank10_sulfate                   14548 non-null  float64\n",
      " 8   rougher.input.floatbank10_xanthate                  14572 non-null  float64\n",
      " 9   rougher.state.floatbank10_a_air                     14579 non-null  float64\n",
      " 10  rougher.state.floatbank10_a_level                   14579 non-null  float64\n",
      " 11  rougher.state.floatbank10_b_air                     14579 non-null  float64\n",
      " 12  rougher.state.floatbank10_b_level                   14579 non-null  float64\n",
      " 13  rougher.state.floatbank10_c_air                     14579 non-null  float64\n",
      " 14  rougher.state.floatbank10_c_level                   14579 non-null  float64\n",
      " 15  rougher.state.floatbank10_d_air                     14579 non-null  float64\n",
      " 16  rougher.state.floatbank10_d_level                   14579 non-null  float64\n",
      " 17  rougher.state.floatbank10_e_air                     14150 non-null  float64\n",
      " 18  rougher.state.floatbank10_e_level                   14579 non-null  float64\n",
      " 19  rougher.state.floatbank10_f_air                     14579 non-null  float64\n",
      " 20  rougher.state.floatbank10_f_level                   14579 non-null  float64\n",
      " 21  rougher.input.floatbank11_sulfate                   14543 non-null  float64\n",
      " 22  rougher.input.floatbank11_xanthate                  14172 non-null  float64\n",
      " 23  rougher.calculation.sulfate_to_au_concentrate       14578 non-null  float64\n",
      " 24  rougher.calculation.floatbank10_sulfate_to_au_feed  14578 non-null  float64\n",
      " 25  rougher.calculation.floatbank11_sulfate_to_au_feed  14578 non-null  float64\n",
      " 26  rougher.calculation.au_pb_ratio                     14579 non-null  float64\n",
      " 27  rougher.output.concentrate_au                       14579 non-null  float64\n",
      " 28  rougher.output.concentrate_ag                       14579 non-null  float64\n",
      " 29  rougher.output.concentrate_pb                       14579 non-null  float64\n",
      " 30  rougher.output.concentrate_sol                      14561 non-null  float64\n",
      " 31  rougher.output.recovery                             14579 non-null  float64\n",
      " 32  rougher.output.tail_au                              14579 non-null  float64\n",
      " 33  rougher.output.tail_ag                              14578 non-null  float64\n",
      " 34  rougher.output.tail_pb                              14579 non-null  float64\n",
      " 35  rougher.output.tail_sol                             14579 non-null  float64\n",
      " 36  primary_cleaner.input.sulfate                       14556 non-null  float64\n",
      " 37  primary_cleaner.input.depressant                    14551 non-null  float64\n",
      " 38  primary_cleaner.input.feed_size                     14579 non-null  float64\n",
      " 39  primary_cleaner.input.xanthate                      14518 non-null  float64\n",
      " 40  primary_cleaner.state.floatbank8_a_air              14576 non-null  float64\n",
      " 41  primary_cleaner.state.floatbank8_a_level            14579 non-null  float64\n",
      " 42  primary_cleaner.state.floatbank8_b_air              14576 non-null  float64\n",
      " 43  primary_cleaner.state.floatbank8_b_level            14579 non-null  float64\n",
      " 44  primary_cleaner.state.floatbank8_c_air              14579 non-null  float64\n",
      " 45  primary_cleaner.state.floatbank8_c_level            14579 non-null  float64\n",
      " 46  primary_cleaner.state.floatbank8_d_air              14578 non-null  float64\n",
      " 47  primary_cleaner.state.floatbank8_d_level            14579 non-null  float64\n",
      " 48  primary_cleaner.output.concentrate_au               14579 non-null  float64\n",
      " 49  primary_cleaner.output.concentrate_ag               14579 non-null  float64\n",
      " 50  primary_cleaner.output.concentrate_pb               14491 non-null  float64\n",
      " 51  primary_cleaner.output.concentrate_sol              14314 non-null  float64\n",
      " 52  primary_cleaner.output.tail_au                      14579 non-null  float64\n",
      " 53  primary_cleaner.output.tail_ag                      14575 non-null  float64\n",
      " 54  primary_cleaner.output.tail_pb                      14573 non-null  float64\n",
      " 55  primary_cleaner.output.tail_sol                     14534 non-null  float64\n",
      " 56  secondary_cleaner.state.floatbank2_a_air            14485 non-null  float64\n",
      " 57  secondary_cleaner.state.floatbank2_a_level          14579 non-null  float64\n",
      " 58  secondary_cleaner.state.floatbank2_b_air            14557 non-null  float64\n",
      " 59  secondary_cleaner.state.floatbank2_b_level          14579 non-null  float64\n",
      " 60  secondary_cleaner.state.floatbank3_a_air            14567 non-null  float64\n",
      " 61  secondary_cleaner.state.floatbank3_a_level          14579 non-null  float64\n",
      " 62  secondary_cleaner.state.floatbank3_b_air            14579 non-null  float64\n",
      " 63  secondary_cleaner.state.floatbank3_b_level          14579 non-null  float64\n",
      " 64  secondary_cleaner.state.floatbank4_a_air            14574 non-null  float64\n",
      " 65  secondary_cleaner.state.floatbank4_a_level          14579 non-null  float64\n",
      " 66  secondary_cleaner.state.floatbank4_b_air            14579 non-null  float64\n",
      " 67  secondary_cleaner.state.floatbank4_b_level          14579 non-null  float64\n",
      " 68  secondary_cleaner.state.floatbank5_a_air            14579 non-null  float64\n",
      " 69  secondary_cleaner.state.floatbank5_a_level          14579 non-null  float64\n",
      " 70  secondary_cleaner.state.floatbank5_b_air            14579 non-null  float64\n",
      " 71  secondary_cleaner.state.floatbank5_b_level          14579 non-null  float64\n",
      " 72  secondary_cleaner.state.floatbank6_a_air            14578 non-null  float64\n",
      " 73  secondary_cleaner.state.floatbank6_a_level          14579 non-null  float64\n",
      " 74  secondary_cleaner.output.tail_au                    14579 non-null  float64\n",
      " 75  secondary_cleaner.output.tail_ag                    14578 non-null  float64\n",
      " 76  secondary_cleaner.output.tail_pb                    14575 non-null  float64\n",
      " 77  secondary_cleaner.output.tail_sol                   13659 non-null  float64\n",
      " 78  final.output.concentrate_au                         14579 non-null  float64\n",
      " 79  final.output.concentrate_ag                         14578 non-null  float64\n",
      " 80  final.output.concentrate_pb                         14578 non-null  float64\n",
      " 81  final.output.concentrate_sol                        14387 non-null  float64\n",
      " 82  final.output.recovery                               14579 non-null  float64\n",
      " 83  final.output.tail_au                                14579 non-null  float64\n",
      " 84  final.output.tail_ag                                14578 non-null  float64\n",
      " 85  final.output.tail_pb                                14504 non-null  float64\n",
      " 86  final.output.tail_sol                               14574 non-null  float64\n",
      "dtypes: float64(86), object(1)\n",
      "memory usage: 9.7+ MB\n"
     ]
    }
   ],
   "source": [
    "gold_industry_train.info()"
   ]
  },
  {
   "cell_type": "markdown",
   "metadata": {},
   "source": [
    "*В данных имеются пропуски, их количество кажется не значительным. Тип данных преимущественно float64 за исключением столбца date с типом object. Его по условию используют в качестве индекса.*"
   ]
  },
  {
   "cell_type": "markdown",
   "metadata": {},
   "source": [
    "**Изучение пропусков**"
   ]
  },
  {
   "cell_type": "markdown",
   "metadata": {},
   "source": [
    "Получим информацию по наличию пропусков используя, определённую функцию `col_with_pass`"
   ]
  },
  {
   "cell_type": "code",
   "execution_count": 26,
   "metadata": {},
   "outputs": [
    {
     "data": {
      "text/html": [
       "<div>\n",
       "<style scoped>\n",
       "    .dataframe tbody tr th:only-of-type {\n",
       "        vertical-align: middle;\n",
       "    }\n",
       "\n",
       "    .dataframe tbody tr th {\n",
       "        vertical-align: top;\n",
       "    }\n",
       "\n",
       "    .dataframe thead th {\n",
       "        text-align: right;\n",
       "    }\n",
       "</style>\n",
       "<table border=\"1\" class=\"dataframe\">\n",
       "  <thead>\n",
       "    <tr style=\"text-align: right;\">\n",
       "      <th></th>\n",
       "      <th>columns</th>\n",
       "      <th>a_pass</th>\n",
       "    </tr>\n",
       "  </thead>\n",
       "  <tbody>\n",
       "    <tr>\n",
       "      <th>32</th>\n",
       "      <td>secondary_cleaner.output.tail_sol</td>\n",
       "      <td>920</td>\n",
       "    </tr>\n",
       "    <tr>\n",
       "      <th>6</th>\n",
       "      <td>rougher.state.floatbank10_e_air</td>\n",
       "      <td>429</td>\n",
       "    </tr>\n",
       "    <tr>\n",
       "      <th>8</th>\n",
       "      <td>rougher.input.floatbank11_xanthate</td>\n",
       "      <td>407</td>\n",
       "    </tr>\n",
       "    <tr>\n",
       "      <th>21</th>\n",
       "      <td>primary_cleaner.output.concentrate_sol</td>\n",
       "      <td>265</td>\n",
       "    </tr>\n",
       "    <tr>\n",
       "      <th>35</th>\n",
       "      <td>final.output.concentrate_sol</td>\n",
       "      <td>192</td>\n",
       "    </tr>\n",
       "  </tbody>\n",
       "</table>\n",
       "</div>"
      ],
      "text/plain": [
       "                                   columns  a_pass\n",
       "32       secondary_cleaner.output.tail_sol     920\n",
       "6          rougher.state.floatbank10_e_air     429\n",
       "8       rougher.input.floatbank11_xanthate     407\n",
       "21  primary_cleaner.output.concentrate_sol     265\n",
       "35            final.output.concentrate_sol     192"
      ]
     },
     "execution_count": 26,
     "metadata": {},
     "output_type": "execute_result"
    }
   ],
   "source": [
    "gold_industry_train_pass, index_nan_train = col_with_pass(gold_industry_train)\n",
    "gold_industry_train_pass.sort_values(by='a_pass', ascending=False).head()"
   ]
  },
  {
   "cell_type": "markdown",
   "metadata": {},
   "source": [
    "Изучим общее количество пропусков"
   ]
  },
  {
   "cell_type": "code",
   "execution_count": 27,
   "metadata": {},
   "outputs": [
    {
     "data": {
      "text/plain": [
       "2242"
      ]
     },
     "execution_count": 27,
     "metadata": {},
     "output_type": "execute_result"
    }
   ],
   "source": [
    "len(index_nan_train)"
   ]
  },
  {
   "cell_type": "markdown",
   "metadata": {},
   "source": [
    "Изучим процентное соотношение пропусков между полным набором данных и тренировочным"
   ]
  },
  {
   "cell_type": "code",
   "execution_count": 28,
   "metadata": {},
   "outputs": [
    {
     "name": "stdout",
     "output_type": "stream",
     "text": [
      "67.03%\n"
     ]
    }
   ],
   "source": [
    "print(f'{len(index_nan_train)/len(index_nan_full)*100 :.4}%')"
   ]
  },
  {
   "cell_type": "markdown",
   "metadata": {},
   "source": [
    "*Пропущенных значений меньше, чем ожидалось.*"
   ]
  },
  {
   "cell_type": "markdown",
   "metadata": {},
   "source": [
    "Оценим как изменится выборка, после удаления данных"
   ]
  },
  {
   "cell_type": "code",
   "execution_count": 29,
   "metadata": {},
   "outputs": [
    {
     "name": "stdout",
     "output_type": "stream",
     "text": [
      "После удаление пропусков данных останется: 84.62%\n"
     ]
    }
   ],
   "source": [
    "percent_data_after_del_nan(gold_industry_train)"
   ]
  },
  {
   "cell_type": "markdown",
   "metadata": {},
   "source": [
    "*Полученное значение приемлемо.*"
   ]
  },
  {
   "cell_type": "markdown",
   "metadata": {},
   "source": [
    "**Выбросы**"
   ]
  },
  {
   "cell_type": "markdown",
   "metadata": {},
   "source": [
    "Произведём оценку выбросов по ключевым столбцам в исследовании `rougher.output.recovery`, `final.output.recovery`. Нам важны финальные характеристики, поэтому будем оценивать их."
   ]
  },
  {
   "cell_type": "code",
   "execution_count": 30,
   "metadata": {},
   "outputs": [
    {
     "data": {
      "image/png": "[encoded data removed]",
      "text/plain": [
       "<Figure size 1000x600 with 2 Axes>"
      ]
     },
     "metadata": {},
     "output_type": "display_data"
    }
   ],
   "source": [
    "moustache_train = overview_borders(gold_industry_train)"
   ]
  },
  {
   "cell_type": "markdown",
   "metadata": {},
   "source": [
    "Изучим границы усов"
   ]
  },
  {
   "cell_type": "code",
   "execution_count": 31,
   "metadata": {},
   "outputs": [
    {
     "data": {
      "text/plain": [
       "{'rougher.output.recovery': [66.50334413081374, 100.0],\n",
       " 'final.output.recovery': [48.89731926656187, 86.76761025689545]}"
      ]
     },
     "execution_count": 31,
     "metadata": {},
     "output_type": "execute_result"
    }
   ],
   "source": [
    "moustache_train"
   ]
  },
  {
   "cell_type": "markdown",
   "metadata": {},
   "source": [
    "*Наблюдается определённое количество выбросов, отсеем их в пункте предобработки данных.*"
   ]
  },
  {
   "cell_type": "markdown",
   "metadata": {},
   "source": [
    "**Проверка на аномалии**"
   ]
  },
  {
   "cell_type": "code",
   "execution_count": 32,
   "metadata": {},
   "outputs": [
    {
     "name": "stdout",
     "output_type": "stream",
     "text": [
      "rougher.output.concentrate_au 394\n",
      "rougher.output.concentrate_ag 394\n",
      "rougher.output.concentrate_pb 394\n",
      "rougher.output.concentrate_sol 394\n",
      "rougher.output.recovery 394\n",
      "primary_cleaner.input.depressant 9\n",
      "primary_cleaner.output.concentrate_au 108\n",
      "primary_cleaner.output.concentrate_ag 108\n",
      "primary_cleaner.output.concentrate_pb 108\n",
      "primary_cleaner.output.concentrate_sol 108\n",
      "primary_cleaner.output.tail_au 99\n",
      "primary_cleaner.output.tail_ag 99\n",
      "primary_cleaner.output.tail_pb 99\n",
      "primary_cleaner.output.tail_sol 99\n",
      "secondary_cleaner.state.floatbank2_b_air 7\n",
      "secondary_cleaner.state.floatbank3_a_air 2\n",
      "secondary_cleaner.state.floatbank3_b_air 1\n",
      "secondary_cleaner.state.floatbank4_a_air 1\n",
      "secondary_cleaner.state.floatbank4_b_air 1\n",
      "secondary_cleaner.output.tail_au 727\n",
      "secondary_cleaner.output.tail_ag 727\n",
      "secondary_cleaner.output.tail_pb 727\n",
      "secondary_cleaner.output.tail_sol 727\n",
      "final.output.concentrate_au 98\n",
      "final.output.concentrate_ag 98\n",
      "final.output.concentrate_pb 98\n",
      "final.output.concentrate_sol 98\n",
      "final.output.recovery 98\n",
      "final.output.tail_au 72\n",
      "final.output.tail_ag 72\n",
      "final.output.tail_pb 72\n",
      "final.output.tail_sol 72\n"
     ]
    }
   ],
   "source": [
    "check_zero(gold_industry_train)  "
   ]
  },
  {
   "cell_type": "markdown",
   "metadata": {},
   "source": [
    "*Значения входных характеристик не должно быть равно 0, скорее всего тут ошибка. Исключим ошибки в этапе предобработки.*"
   ]
  },
  {
   "cell_type": "markdown",
   "metadata": {},
   "source": [
    "##### gold_industry_test"
   ]
  },
  {
   "cell_type": "markdown",
   "metadata": {},
   "source": [
    "С учётом того, что в тестовой выборке часть параметров не включена по некоторым причинам "
   ]
  },
  {
   "cell_type": "markdown",
   "metadata": {},
   "source": [
    "**head, tail**"
   ]
  },
  {
   "cell_type": "markdown",
   "metadata": {},
   "source": [
    "Получим обзорную информацию методами `head` и `tail`"
   ]
  },
  {
   "cell_type": "code",
   "execution_count": 33,
   "metadata": {},
   "outputs": [
    {
     "data": {
      "text/html": [
       "<div>\n",
       "<style scoped>\n",
       "    .dataframe tbody tr th:only-of-type {\n",
       "        vertical-align: middle;\n",
       "    }\n",
       "\n",
       "    .dataframe tbody tr th {\n",
       "        vertical-align: top;\n",
       "    }\n",
       "\n",
       "    .dataframe thead th {\n",
       "        text-align: right;\n",
       "    }\n",
       "</style>\n",
       "<table border=\"1\" class=\"dataframe\">\n",
       "  <thead>\n",
       "    <tr style=\"text-align: right;\">\n",
       "      <th></th>\n",
       "      <th>date</th>\n",
       "      <th>rougher.input.feed_au</th>\n",
       "      <th>rougher.input.feed_ag</th>\n",
       "      <th>rougher.input.feed_pb</th>\n",
       "      <th>rougher.input.feed_sol</th>\n",
       "      <th>rougher.input.feed_rate</th>\n",
       "      <th>rougher.input.feed_size</th>\n",
       "      <th>rougher.input.floatbank10_sulfate</th>\n",
       "      <th>rougher.input.floatbank10_xanthate</th>\n",
       "      <th>rougher.state.floatbank10_a_air</th>\n",
       "      <th>...</th>\n",
       "      <th>secondary_cleaner.state.floatbank4_a_air</th>\n",
       "      <th>secondary_cleaner.state.floatbank4_a_level</th>\n",
       "      <th>secondary_cleaner.state.floatbank4_b_air</th>\n",
       "      <th>secondary_cleaner.state.floatbank4_b_level</th>\n",
       "      <th>secondary_cleaner.state.floatbank5_a_air</th>\n",
       "      <th>secondary_cleaner.state.floatbank5_a_level</th>\n",
       "      <th>secondary_cleaner.state.floatbank5_b_air</th>\n",
       "      <th>secondary_cleaner.state.floatbank5_b_level</th>\n",
       "      <th>secondary_cleaner.state.floatbank6_a_air</th>\n",
       "      <th>secondary_cleaner.state.floatbank6_a_level</th>\n",
       "    </tr>\n",
       "  </thead>\n",
       "  <tbody>\n",
       "    <tr>\n",
       "      <th>0</th>\n",
       "      <td>2017-12-09 14:59:59</td>\n",
       "      <td>4.365491</td>\n",
       "      <td>6.158718</td>\n",
       "      <td>3.875727</td>\n",
       "      <td>39.135119</td>\n",
       "      <td>555.820208</td>\n",
       "      <td>94.544358</td>\n",
       "      <td>6.146982</td>\n",
       "      <td>9.308612</td>\n",
       "      <td>1196.238112</td>\n",
       "      <td>...</td>\n",
       "      <td>23.018622</td>\n",
       "      <td>-500.492702</td>\n",
       "      <td>20.020205</td>\n",
       "      <td>-500.220296</td>\n",
       "      <td>17.963512</td>\n",
       "      <td>-499.939490</td>\n",
       "      <td>12.990306</td>\n",
       "      <td>-500.080993</td>\n",
       "      <td>19.990336</td>\n",
       "      <td>-499.191575</td>\n",
       "    </tr>\n",
       "    <tr>\n",
       "      <th>1</th>\n",
       "      <td>2017-12-09 15:59:59</td>\n",
       "      <td>4.362781</td>\n",
       "      <td>6.048130</td>\n",
       "      <td>3.902537</td>\n",
       "      <td>39.713906</td>\n",
       "      <td>544.731687</td>\n",
       "      <td>123.742430</td>\n",
       "      <td>6.210119</td>\n",
       "      <td>9.297709</td>\n",
       "      <td>1201.904177</td>\n",
       "      <td>...</td>\n",
       "      <td>23.024963</td>\n",
       "      <td>-501.153409</td>\n",
       "      <td>20.054122</td>\n",
       "      <td>-500.314711</td>\n",
       "      <td>17.979515</td>\n",
       "      <td>-499.272871</td>\n",
       "      <td>12.992404</td>\n",
       "      <td>-499.976268</td>\n",
       "      <td>20.013986</td>\n",
       "      <td>-500.625471</td>\n",
       "    </tr>\n",
       "    <tr>\n",
       "      <th>2</th>\n",
       "      <td>2017-12-09 16:59:59</td>\n",
       "      <td>5.081681</td>\n",
       "      <td>6.082745</td>\n",
       "      <td>4.564078</td>\n",
       "      <td>37.208683</td>\n",
       "      <td>558.155110</td>\n",
       "      <td>82.610855</td>\n",
       "      <td>7.363824</td>\n",
       "      <td>9.003562</td>\n",
       "      <td>1200.826926</td>\n",
       "      <td>...</td>\n",
       "      <td>22.993827</td>\n",
       "      <td>-501.559663</td>\n",
       "      <td>20.029144</td>\n",
       "      <td>-500.000662</td>\n",
       "      <td>18.012723</td>\n",
       "      <td>-500.024764</td>\n",
       "      <td>13.016445</td>\n",
       "      <td>-500.058432</td>\n",
       "      <td>19.973767</td>\n",
       "      <td>-501.394155</td>\n",
       "    </tr>\n",
       "    <tr>\n",
       "      <th>3</th>\n",
       "      <td>2017-12-09 17:59:59</td>\n",
       "      <td>5.145949</td>\n",
       "      <td>6.084374</td>\n",
       "      <td>4.768124</td>\n",
       "      <td>36.808874</td>\n",
       "      <td>539.713765</td>\n",
       "      <td>77.984784</td>\n",
       "      <td>6.927072</td>\n",
       "      <td>8.955597</td>\n",
       "      <td>1199.292489</td>\n",
       "      <td>...</td>\n",
       "      <td>23.032807</td>\n",
       "      <td>-501.287889</td>\n",
       "      <td>19.977466</td>\n",
       "      <td>-500.159903</td>\n",
       "      <td>17.980463</td>\n",
       "      <td>-500.504602</td>\n",
       "      <td>12.949071</td>\n",
       "      <td>-500.009937</td>\n",
       "      <td>20.010332</td>\n",
       "      <td>-508.337973</td>\n",
       "    </tr>\n",
       "    <tr>\n",
       "      <th>4</th>\n",
       "      <td>2017-12-09 18:59:59</td>\n",
       "      <td>5.735249</td>\n",
       "      <td>6.165220</td>\n",
       "      <td>4.512346</td>\n",
       "      <td>37.810642</td>\n",
       "      <td>558.713584</td>\n",
       "      <td>86.434874</td>\n",
       "      <td>7.823471</td>\n",
       "      <td>7.490356</td>\n",
       "      <td>1198.005449</td>\n",
       "      <td>...</td>\n",
       "      <td>23.001911</td>\n",
       "      <td>-499.947838</td>\n",
       "      <td>20.023735</td>\n",
       "      <td>-499.713680</td>\n",
       "      <td>17.990955</td>\n",
       "      <td>-500.334769</td>\n",
       "      <td>13.007523</td>\n",
       "      <td>-499.968459</td>\n",
       "      <td>19.995999</td>\n",
       "      <td>-499.788805</td>\n",
       "    </tr>\n",
       "  </tbody>\n",
       "</table>\n",
       "<p>5 rows × 53 columns</p>\n",
       "</div>"
      ],
      "text/plain": [
       "                  date  rougher.input.feed_au  rougher.input.feed_ag  \\\n",
       "0  2017-12-09 14:59:59               4.365491               6.158718   \n",
       "1  2017-12-09 15:59:59               4.362781               6.048130   \n",
       "2  2017-12-09 16:59:59               5.081681               6.082745   \n",
       "3  2017-12-09 17:59:59               5.145949               6.084374   \n",
       "4  2017-12-09 18:59:59               5.735249               6.165220   \n",
       "\n",
       "   rougher.input.feed_pb  rougher.input.feed_sol  rougher.input.feed_rate  \\\n",
       "0               3.875727               39.135119               555.820208   \n",
       "1               3.902537               39.713906               544.731687   \n",
       "2               4.564078               37.208683               558.155110   \n",
       "3               4.768124               36.808874               539.713765   \n",
       "4               4.512346               37.810642               558.713584   \n",
       "\n",
       "   rougher.input.feed_size  rougher.input.floatbank10_sulfate  \\\n",
       "0                94.544358                           6.146982   \n",
       "1               123.742430                           6.210119   \n",
       "2                82.610855                           7.363824   \n",
       "3                77.984784                           6.927072   \n",
       "4                86.434874                           7.823471   \n",
       "\n",
       "   rougher.input.floatbank10_xanthate  rougher.state.floatbank10_a_air  ...  \\\n",
       "0                            9.308612                      1196.238112  ...   \n",
       "1                            9.297709                      1201.904177  ...   \n",
       "2                            9.003562                      1200.826926  ...   \n",
       "3                            8.955597                      1199.292489  ...   \n",
       "4                            7.490356                      1198.005449  ...   \n",
       "\n",
       "   secondary_cleaner.state.floatbank4_a_air  \\\n",
       "0                                 23.018622   \n",
       "1                                 23.024963   \n",
       "2                                 22.993827   \n",
       "3                                 23.032807   \n",
       "4                                 23.001911   \n",
       "\n",
       "   secondary_cleaner.state.floatbank4_a_level  \\\n",
       "0                                 -500.492702   \n",
       "1                                 -501.153409   \n",
       "2                                 -501.559663   \n",
       "3                                 -501.287889   \n",
       "4                                 -499.947838   \n",
       "\n",
       "   secondary_cleaner.state.floatbank4_b_air  \\\n",
       "0                                 20.020205   \n",
       "1                                 20.054122   \n",
       "2                                 20.029144   \n",
       "3                                 19.977466   \n",
       "4                                 20.023735   \n",
       "\n",
       "   secondary_cleaner.state.floatbank4_b_level  \\\n",
       "0                                 -500.220296   \n",
       "1                                 -500.314711   \n",
       "2                                 -500.000662   \n",
       "3                                 -500.159903   \n",
       "4                                 -499.713680   \n",
       "\n",
       "   secondary_cleaner.state.floatbank5_a_air  \\\n",
       "0                                 17.963512   \n",
       "1                                 17.979515   \n",
       "2                                 18.012723   \n",
       "3                                 17.980463   \n",
       "4                                 17.990955   \n",
       "\n",
       "   secondary_cleaner.state.floatbank5_a_level  \\\n",
       "0                                 -499.939490   \n",
       "1                                 -499.272871   \n",
       "2                                 -500.024764   \n",
       "3                                 -500.504602   \n",
       "4                                 -500.334769   \n",
       "\n",
       "   secondary_cleaner.state.floatbank5_b_air  \\\n",
       "0                                 12.990306   \n",
       "1                                 12.992404   \n",
       "2                                 13.016445   \n",
       "3                                 12.949071   \n",
       "4                                 13.007523   \n",
       "\n",
       "   secondary_cleaner.state.floatbank5_b_level  \\\n",
       "0                                 -500.080993   \n",
       "1                                 -499.976268   \n",
       "2                                 -500.058432   \n",
       "3                                 -500.009937   \n",
       "4                                 -499.968459   \n",
       "\n",
       "   secondary_cleaner.state.floatbank6_a_air  \\\n",
       "0                                 19.990336   \n",
       "1                                 20.013986   \n",
       "2                                 19.973767   \n",
       "3                                 20.010332   \n",
       "4                                 19.995999   \n",
       "\n",
       "   secondary_cleaner.state.floatbank6_a_level  \n",
       "0                                 -499.191575  \n",
       "1                                 -500.625471  \n",
       "2                                 -501.394155  \n",
       "3                                 -508.337973  \n",
       "4                                 -499.788805  \n",
       "\n",
       "[5 rows x 53 columns]"
      ]
     },
     "metadata": {},
     "output_type": "display_data"
    },
    {
     "data": {
      "text/html": [
       "<div>\n",
       "<style scoped>\n",
       "    .dataframe tbody tr th:only-of-type {\n",
       "        vertical-align: middle;\n",
       "    }\n",
       "\n",
       "    .dataframe tbody tr th {\n",
       "        vertical-align: top;\n",
       "    }\n",
       "\n",
       "    .dataframe thead th {\n",
       "        text-align: right;\n",
       "    }\n",
       "</style>\n",
       "<table border=\"1\" class=\"dataframe\">\n",
       "  <thead>\n",
       "    <tr style=\"text-align: right;\">\n",
       "      <th></th>\n",
       "      <th>date</th>\n",
       "      <th>rougher.input.feed_au</th>\n",
       "      <th>rougher.input.feed_ag</th>\n",
       "      <th>rougher.input.feed_pb</th>\n",
       "      <th>rougher.input.feed_sol</th>\n",
       "      <th>rougher.input.feed_rate</th>\n",
       "      <th>rougher.input.feed_size</th>\n",
       "      <th>rougher.input.floatbank10_sulfate</th>\n",
       "      <th>rougher.input.floatbank10_xanthate</th>\n",
       "      <th>rougher.state.floatbank10_a_air</th>\n",
       "      <th>...</th>\n",
       "      <th>secondary_cleaner.state.floatbank4_a_air</th>\n",
       "      <th>secondary_cleaner.state.floatbank4_a_level</th>\n",
       "      <th>secondary_cleaner.state.floatbank4_b_air</th>\n",
       "      <th>secondary_cleaner.state.floatbank4_b_level</th>\n",
       "      <th>secondary_cleaner.state.floatbank5_a_air</th>\n",
       "      <th>secondary_cleaner.state.floatbank5_a_level</th>\n",
       "      <th>secondary_cleaner.state.floatbank5_b_air</th>\n",
       "      <th>secondary_cleaner.state.floatbank5_b_level</th>\n",
       "      <th>secondary_cleaner.state.floatbank6_a_air</th>\n",
       "      <th>secondary_cleaner.state.floatbank6_a_level</th>\n",
       "    </tr>\n",
       "  </thead>\n",
       "  <tbody>\n",
       "    <tr>\n",
       "      <th>4855</th>\n",
       "      <td>2018-08-18 06:59:59</td>\n",
       "      <td>6.620245</td>\n",
       "      <td>5.992592</td>\n",
       "      <td>2.589242</td>\n",
       "      <td>39.934641</td>\n",
       "      <td>578.654582</td>\n",
       "      <td>63.473450</td>\n",
       "      <td>14.688804</td>\n",
       "      <td>6.898599</td>\n",
       "      <td>999.688257</td>\n",
       "      <td>...</td>\n",
       "      <td>14.003057</td>\n",
       "      <td>-503.152258</td>\n",
       "      <td>12.016724</td>\n",
       "      <td>-501.136446</td>\n",
       "      <td>10.041864</td>\n",
       "      <td>-499.338844</td>\n",
       "      <td>8.007022</td>\n",
       "      <td>-500.279583</td>\n",
       "      <td>14.001271</td>\n",
       "      <td>-602.072365</td>\n",
       "    </tr>\n",
       "    <tr>\n",
       "      <th>4856</th>\n",
       "      <td>2018-08-18 07:59:59</td>\n",
       "      <td>6.741324</td>\n",
       "      <td>6.158617</td>\n",
       "      <td>2.647185</td>\n",
       "      <td>40.176307</td>\n",
       "      <td>571.622005</td>\n",
       "      <td>62.815291</td>\n",
       "      <td>14.892720</td>\n",
       "      <td>6.903204</td>\n",
       "      <td>1000.479783</td>\n",
       "      <td>...</td>\n",
       "      <td>14.031220</td>\n",
       "      <td>-503.471307</td>\n",
       "      <td>11.966426</td>\n",
       "      <td>-500.656842</td>\n",
       "      <td>10.051620</td>\n",
       "      <td>-498.318772</td>\n",
       "      <td>8.018091</td>\n",
       "      <td>-499.696138</td>\n",
       "      <td>13.958937</td>\n",
       "      <td>-599.213013</td>\n",
       "    </tr>\n",
       "    <tr>\n",
       "      <th>4857</th>\n",
       "      <td>2018-08-18 08:59:59</td>\n",
       "      <td>6.627458</td>\n",
       "      <td>6.015149</td>\n",
       "      <td>2.466127</td>\n",
       "      <td>39.841423</td>\n",
       "      <td>563.733146</td>\n",
       "      <td>61.287347</td>\n",
       "      <td>13.723692</td>\n",
       "      <td>6.700148</td>\n",
       "      <td>1000.014718</td>\n",
       "      <td>...</td>\n",
       "      <td>13.996317</td>\n",
       "      <td>-502.995300</td>\n",
       "      <td>11.980055</td>\n",
       "      <td>-500.607751</td>\n",
       "      <td>9.964501</td>\n",
       "      <td>-499.261719</td>\n",
       "      <td>8.065048</td>\n",
       "      <td>-499.492395</td>\n",
       "      <td>13.997801</td>\n",
       "      <td>-600.621416</td>\n",
       "    </tr>\n",
       "    <tr>\n",
       "      <th>4858</th>\n",
       "      <td>2018-08-18 09:59:59</td>\n",
       "      <td>6.702243</td>\n",
       "      <td>6.097592</td>\n",
       "      <td>2.278955</td>\n",
       "      <td>37.728375</td>\n",
       "      <td>549.812490</td>\n",
       "      <td>59.637037</td>\n",
       "      <td>13.746510</td>\n",
       "      <td>6.706417</td>\n",
       "      <td>999.635748</td>\n",
       "      <td>...</td>\n",
       "      <td>13.983963</td>\n",
       "      <td>-503.675714</td>\n",
       "      <td>11.928745</td>\n",
       "      <td>-500.583183</td>\n",
       "      <td>9.970359</td>\n",
       "      <td>-498.822343</td>\n",
       "      <td>8.016377</td>\n",
       "      <td>-499.013145</td>\n",
       "      <td>14.000032</td>\n",
       "      <td>-600.024741</td>\n",
       "    </tr>\n",
       "    <tr>\n",
       "      <th>4859</th>\n",
       "      <td>2018-08-18 10:59:59</td>\n",
       "      <td>6.633002</td>\n",
       "      <td>5.908793</td>\n",
       "      <td>2.440899</td>\n",
       "      <td>36.958540</td>\n",
       "      <td>573.076049</td>\n",
       "      <td>58.509262</td>\n",
       "      <td>13.707775</td>\n",
       "      <td>6.820245</td>\n",
       "      <td>1000.589156</td>\n",
       "      <td>...</td>\n",
       "      <td>13.989632</td>\n",
       "      <td>-503.195299</td>\n",
       "      <td>12.052233</td>\n",
       "      <td>-500.928547</td>\n",
       "      <td>9.962574</td>\n",
       "      <td>-502.986357</td>\n",
       "      <td>7.979219</td>\n",
       "      <td>-500.146835</td>\n",
       "      <td>13.981614</td>\n",
       "      <td>-598.070855</td>\n",
       "    </tr>\n",
       "  </tbody>\n",
       "</table>\n",
       "<p>5 rows × 53 columns</p>\n",
       "</div>"
      ],
      "text/plain": [
       "                     date  rougher.input.feed_au  rougher.input.feed_ag  \\\n",
       "4855  2018-08-18 06:59:59               6.620245               5.992592   \n",
       "4856  2018-08-18 07:59:59               6.741324               6.158617   \n",
       "4857  2018-08-18 08:59:59               6.627458               6.015149   \n",
       "4858  2018-08-18 09:59:59               6.702243               6.097592   \n",
       "4859  2018-08-18 10:59:59               6.633002               5.908793   \n",
       "\n",
       "      rougher.input.feed_pb  rougher.input.feed_sol  rougher.input.feed_rate  \\\n",
       "4855               2.589242               39.934641               578.654582   \n",
       "4856               2.647185               40.176307               571.622005   \n",
       "4857               2.466127               39.841423               563.733146   \n",
       "4858               2.278955               37.728375               549.812490   \n",
       "4859               2.440899               36.958540               573.076049   \n",
       "\n",
       "      rougher.input.feed_size  rougher.input.floatbank10_sulfate  \\\n",
       "4855                63.473450                          14.688804   \n",
       "4856                62.815291                          14.892720   \n",
       "4857                61.287347                          13.723692   \n",
       "4858                59.637037                          13.746510   \n",
       "4859                58.509262                          13.707775   \n",
       "\n",
       "      rougher.input.floatbank10_xanthate  rougher.state.floatbank10_a_air  \\\n",
       "4855                            6.898599                       999.688257   \n",
       "4856                            6.903204                      1000.479783   \n",
       "4857                            6.700148                      1000.014718   \n",
       "4858                            6.706417                       999.635748   \n",
       "4859                            6.820245                      1000.589156   \n",
       "\n",
       "      ...  secondary_cleaner.state.floatbank4_a_air  \\\n",
       "4855  ...                                 14.003057   \n",
       "4856  ...                                 14.031220   \n",
       "4857  ...                                 13.996317   \n",
       "4858  ...                                 13.983963   \n",
       "4859  ...                                 13.989632   \n",
       "\n",
       "      secondary_cleaner.state.floatbank4_a_level  \\\n",
       "4855                                 -503.152258   \n",
       "4856                                 -503.471307   \n",
       "4857                                 -502.995300   \n",
       "4858                                 -503.675714   \n",
       "4859                                 -503.195299   \n",
       "\n",
       "      secondary_cleaner.state.floatbank4_b_air  \\\n",
       "4855                                 12.016724   \n",
       "4856                                 11.966426   \n",
       "4857                                 11.980055   \n",
       "4858                                 11.928745   \n",
       "4859                                 12.052233   \n",
       "\n",
       "      secondary_cleaner.state.floatbank4_b_level  \\\n",
       "4855                                 -501.136446   \n",
       "4856                                 -500.656842   \n",
       "4857                                 -500.607751   \n",
       "4858                                 -500.583183   \n",
       "4859                                 -500.928547   \n",
       "\n",
       "      secondary_cleaner.state.floatbank5_a_air  \\\n",
       "4855                                 10.041864   \n",
       "4856                                 10.051620   \n",
       "4857                                  9.964501   \n",
       "4858                                  9.970359   \n",
       "4859                                  9.962574   \n",
       "\n",
       "      secondary_cleaner.state.floatbank5_a_level  \\\n",
       "4855                                 -499.338844   \n",
       "4856                                 -498.318772   \n",
       "4857                                 -499.261719   \n",
       "4858                                 -498.822343   \n",
       "4859                                 -502.986357   \n",
       "\n",
       "      secondary_cleaner.state.floatbank5_b_air  \\\n",
       "4855                                  8.007022   \n",
       "4856                                  8.018091   \n",
       "4857                                  8.065048   \n",
       "4858                                  8.016377   \n",
       "4859                                  7.979219   \n",
       "\n",
       "      secondary_cleaner.state.floatbank5_b_level  \\\n",
       "4855                                 -500.279583   \n",
       "4856                                 -499.696138   \n",
       "4857                                 -499.492395   \n",
       "4858                                 -499.013145   \n",
       "4859                                 -500.146835   \n",
       "\n",
       "      secondary_cleaner.state.floatbank6_a_air  \\\n",
       "4855                                 14.001271   \n",
       "4856                                 13.958937   \n",
       "4857                                 13.997801   \n",
       "4858                                 14.000032   \n",
       "4859                                 13.981614   \n",
       "\n",
       "      secondary_cleaner.state.floatbank6_a_level  \n",
       "4855                                 -602.072365  \n",
       "4856                                 -599.213013  \n",
       "4857                                 -600.621416  \n",
       "4858                                 -600.024741  \n",
       "4859                                 -598.070855  \n",
       "\n",
       "[5 rows x 53 columns]"
      ]
     },
     "metadata": {},
     "output_type": "display_data"
    }
   ],
   "source": [
    "display(gold_industry_test.head())\n",
    "display(gold_industry_test.tail())"
   ]
  },
  {
   "cell_type": "markdown",
   "metadata": {},
   "source": [
    "*В этот раз данные представлены за 2017-2018 года.*"
   ]
  },
  {
   "cell_type": "markdown",
   "metadata": {},
   "source": [
    "Изучим размер тестовой выборки"
   ]
  },
  {
   "cell_type": "code",
   "execution_count": 34,
   "metadata": {},
   "outputs": [
    {
     "data": {
      "text/plain": [
       "(4860, 53)"
      ]
     },
     "execution_count": 34,
     "metadata": {},
     "output_type": "execute_result"
    }
   ],
   "source": [
    "gold_industry_test.shape"
   ]
  },
  {
   "cell_type": "code",
   "execution_count": 35,
   "metadata": {},
   "outputs": [
    {
     "name": "stdout",
     "output_type": "stream",
     "text": [
      "25.00128607438654\n"
     ]
    }
   ],
   "source": [
    "print(f'{gold_industry_test.shape[0]/gold_industry_full.shape[0]*100}')"
   ]
  },
  {
   "cell_type": "markdown",
   "metadata": {},
   "source": [
    "*Размер тестовой выборки 25% от всей*"
   ]
  },
  {
   "cell_type": "markdown",
   "metadata": {},
   "source": [
    "Получим обзорную информацию"
   ]
  },
  {
   "cell_type": "markdown",
   "metadata": {},
   "source": [
    "**info**"
   ]
  },
  {
   "cell_type": "code",
   "execution_count": 36,
   "metadata": {
    "scrolled": true
   },
   "outputs": [
    {
     "name": "stdout",
     "output_type": "stream",
     "text": [
      "<class 'pandas.core.frame.DataFrame'>\n",
      "RangeIndex: 4860 entries, 0 to 4859\n",
      "Data columns (total 53 columns):\n",
      " #   Column                                      Non-Null Count  Dtype  \n",
      "---  ------                                      --------------  -----  \n",
      " 0   date                                        4860 non-null   object \n",
      " 1   rougher.input.feed_au                       4860 non-null   float64\n",
      " 2   rougher.input.feed_ag                       4860 non-null   float64\n",
      " 3   rougher.input.feed_pb                       4832 non-null   float64\n",
      " 4   rougher.input.feed_sol                      4838 non-null   float64\n",
      " 5   rougher.input.feed_rate                     4856 non-null   float64\n",
      " 6   rougher.input.feed_size                     4816 non-null   float64\n",
      " 7   rougher.input.floatbank10_sulfate           4857 non-null   float64\n",
      " 8   rougher.input.floatbank10_xanthate          4859 non-null   float64\n",
      " 9   rougher.state.floatbank10_a_air             4859 non-null   float64\n",
      " 10  rougher.state.floatbank10_a_level           4859 non-null   float64\n",
      " 11  rougher.state.floatbank10_b_air             4859 non-null   float64\n",
      " 12  rougher.state.floatbank10_b_level           4859 non-null   float64\n",
      " 13  rougher.state.floatbank10_c_air             4859 non-null   float64\n",
      " 14  rougher.state.floatbank10_c_level           4859 non-null   float64\n",
      " 15  rougher.state.floatbank10_d_air             4860 non-null   float64\n",
      " 16  rougher.state.floatbank10_d_level           4860 non-null   float64\n",
      " 17  rougher.state.floatbank10_e_air             4853 non-null   float64\n",
      " 18  rougher.state.floatbank10_e_level           4860 non-null   float64\n",
      " 19  rougher.state.floatbank10_f_air             4860 non-null   float64\n",
      " 20  rougher.state.floatbank10_f_level           4860 non-null   float64\n",
      " 21  rougher.input.floatbank11_sulfate           4852 non-null   float64\n",
      " 22  rougher.input.floatbank11_xanthate          4814 non-null   float64\n",
      " 23  primary_cleaner.input.sulfate               4859 non-null   float64\n",
      " 24  primary_cleaner.input.depressant            4851 non-null   float64\n",
      " 25  primary_cleaner.input.feed_size             4860 non-null   float64\n",
      " 26  primary_cleaner.input.xanthate              4817 non-null   float64\n",
      " 27  primary_cleaner.state.floatbank8_a_air      4859 non-null   float64\n",
      " 28  primary_cleaner.state.floatbank8_a_level    4859 non-null   float64\n",
      " 29  primary_cleaner.state.floatbank8_b_air      4859 non-null   float64\n",
      " 30  primary_cleaner.state.floatbank8_b_level    4859 non-null   float64\n",
      " 31  primary_cleaner.state.floatbank8_c_air      4858 non-null   float64\n",
      " 32  primary_cleaner.state.floatbank8_c_level    4859 non-null   float64\n",
      " 33  primary_cleaner.state.floatbank8_d_air      4858 non-null   float64\n",
      " 34  primary_cleaner.state.floatbank8_d_level    4859 non-null   float64\n",
      " 35  secondary_cleaner.state.floatbank2_a_air    4734 non-null   float64\n",
      " 36  secondary_cleaner.state.floatbank2_a_level  4859 non-null   float64\n",
      " 37  secondary_cleaner.state.floatbank2_b_air    4859 non-null   float64\n",
      " 38  secondary_cleaner.state.floatbank2_b_level  4859 non-null   float64\n",
      " 39  secondary_cleaner.state.floatbank3_a_air    4859 non-null   float64\n",
      " 40  secondary_cleaner.state.floatbank3_a_level  4859 non-null   float64\n",
      " 41  secondary_cleaner.state.floatbank3_b_air    4859 non-null   float64\n",
      " 42  secondary_cleaner.state.floatbank3_b_level  4859 non-null   float64\n",
      " 43  secondary_cleaner.state.floatbank4_a_air    4859 non-null   float64\n",
      " 44  secondary_cleaner.state.floatbank4_a_level  4859 non-null   float64\n",
      " 45  secondary_cleaner.state.floatbank4_b_air    4859 non-null   float64\n",
      " 46  secondary_cleaner.state.floatbank4_b_level  4859 non-null   float64\n",
      " 47  secondary_cleaner.state.floatbank5_a_air    4859 non-null   float64\n",
      " 48  secondary_cleaner.state.floatbank5_a_level  4859 non-null   float64\n",
      " 49  secondary_cleaner.state.floatbank5_b_air    4859 non-null   float64\n",
      " 50  secondary_cleaner.state.floatbank5_b_level  4859 non-null   float64\n",
      " 51  secondary_cleaner.state.floatbank6_a_air    4859 non-null   float64\n",
      " 52  secondary_cleaner.state.floatbank6_a_level  4859 non-null   float64\n",
      "dtypes: float64(52), object(1)\n",
      "memory usage: 2.0+ MB\n"
     ]
    }
   ],
   "source": [
    "gold_industry_test.info()"
   ]
  },
  {
   "cell_type": "markdown",
   "metadata": {},
   "source": [
    "*В данных имеются пропуски, их количество кажется не значительным. Тип данных преимущественно float64 за исключением столбца date с типом object. Его по условию используют в качестве индекса.*"
   ]
  },
  {
   "cell_type": "markdown",
   "metadata": {},
   "source": [
    "**Изучим пропуски**"
   ]
  },
  {
   "cell_type": "code",
   "execution_count": 37,
   "metadata": {},
   "outputs": [
    {
     "data": {
      "text/html": [
       "<div>\n",
       "<style scoped>\n",
       "    .dataframe tbody tr th:only-of-type {\n",
       "        vertical-align: middle;\n",
       "    }\n",
       "\n",
       "    .dataframe tbody tr th {\n",
       "        vertical-align: top;\n",
       "    }\n",
       "\n",
       "    .dataframe thead th {\n",
       "        text-align: right;\n",
       "    }\n",
       "</style>\n",
       "<table border=\"1\" class=\"dataframe\">\n",
       "  <thead>\n",
       "    <tr style=\"text-align: right;\">\n",
       "      <th></th>\n",
       "      <th>columns</th>\n",
       "      <th>a_pass</th>\n",
       "    </tr>\n",
       "  </thead>\n",
       "  <tbody>\n",
       "    <tr>\n",
       "      <th>26</th>\n",
       "      <td>secondary_cleaner.state.floatbank2_a_air</td>\n",
       "      <td>126</td>\n",
       "    </tr>\n",
       "    <tr>\n",
       "      <th>14</th>\n",
       "      <td>rougher.input.floatbank11_xanthate</td>\n",
       "      <td>46</td>\n",
       "    </tr>\n",
       "    <tr>\n",
       "      <th>3</th>\n",
       "      <td>rougher.input.feed_size</td>\n",
       "      <td>44</td>\n",
       "    </tr>\n",
       "    <tr>\n",
       "      <th>17</th>\n",
       "      <td>primary_cleaner.input.xanthate</td>\n",
       "      <td>43</td>\n",
       "    </tr>\n",
       "    <tr>\n",
       "      <th>0</th>\n",
       "      <td>rougher.input.feed_pb</td>\n",
       "      <td>28</td>\n",
       "    </tr>\n",
       "  </tbody>\n",
       "</table>\n",
       "</div>"
      ],
      "text/plain": [
       "                                     columns  a_pass\n",
       "26  secondary_cleaner.state.floatbank2_a_air     126\n",
       "14        rougher.input.floatbank11_xanthate      46\n",
       "3                    rougher.input.feed_size      44\n",
       "17            primary_cleaner.input.xanthate      43\n",
       "0                      rougher.input.feed_pb      28"
      ]
     },
     "execution_count": 37,
     "metadata": {},
     "output_type": "execute_result"
    }
   ],
   "source": [
    "gold_industry_test_pass, index_nan_test = col_with_pass(gold_industry_test)\n",
    "gold_industry_test_pass.sort_values(by='a_pass', ascending=False).head()"
   ]
  },
  {
   "cell_type": "markdown",
   "metadata": {},
   "source": [
    "Изучим общее количество пропусков"
   ]
  },
  {
   "cell_type": "code",
   "execution_count": 38,
   "metadata": {},
   "outputs": [
    {
     "data": {
      "text/plain": [
       "323"
      ]
     },
     "execution_count": 38,
     "metadata": {},
     "output_type": "execute_result"
    }
   ],
   "source": [
    "len(index_nan_test)"
   ]
  },
  {
   "cell_type": "markdown",
   "metadata": {},
   "source": [
    "Изучим процентное соотношение пропусков между полным набором данных и тестовым"
   ]
  },
  {
   "cell_type": "code",
   "execution_count": 39,
   "metadata": {},
   "outputs": [
    {
     "name": "stdout",
     "output_type": "stream",
     "text": [
      "9.656%\n"
     ]
    }
   ],
   "source": [
    "print(f'{len(index_nan_test)/len(index_nan_full)*100 :.4}%')"
   ]
  },
  {
   "cell_type": "markdown",
   "metadata": {
    "editable": true,
    "slideshow": {
     "slide_type": ""
    },
    "tags": []
   },
   "source": [
    "*Пропущенных значений меньше, чем ожидалось.*"
   ]
  },
  {
   "cell_type": "markdown",
   "metadata": {
    "editable": true,
    "slideshow": {
     "slide_type": ""
    },
    "tags": []
   },
   "source": [
    "**Выбросы**"
   ]
  },
  {
   "cell_type": "markdown",
   "metadata": {},
   "source": [
    "Произвести оценку выбросов по ключевым столбцам в исследовании `rougher.output.recovery` и `final.output.recovery` на данном этапе не получится, так как в тестовом столбце они отсутствуют, поэтому оценку и корректировку выборки произведём на этапе предобработки."
   ]
  },
  {
   "cell_type": "markdown",
   "metadata": {},
   "source": [
    "**Проверка на аномалии**"
   ]
  },
  {
   "cell_type": "code",
   "execution_count": 40,
   "metadata": {},
   "outputs": [
    {
     "name": "stdout",
     "output_type": "stream",
     "text": [
      "primary_cleaner.input.depressant 1\n",
      "secondary_cleaner.state.floatbank2_b_air 1\n"
     ]
    }
   ],
   "source": [
    "check_zero(gold_industry_test) "
   ]
  },
  {
   "cell_type": "markdown",
   "metadata": {},
   "source": [
    "*Значения входных характеристик не должно быть равно 0, скорее всего тут ошибка. Исключим ошибки в этапе предобработки.*"
   ]
  },
  {
   "cell_type": "markdown",
   "metadata": {},
   "source": [
    "##### Структура\n"
   ]
  },
  {
   "cell_type": "markdown",
   "metadata": {},
   "source": [
    "Определим функцию, чтобы выяснить как отличаются таблицы по столбцам"
   ]
  },
  {
   "cell_type": "code",
   "execution_count": 41,
   "metadata": {},
   "outputs": [
    {
     "name": "stdout",
     "output_type": "stream",
     "text": [
      "differences_full_train []\n",
      "Длина 0\n",
      "differences_full_test ['rougher.calculation.sulfate_to_au_concentrate', 'rougher.calculation.floatbank10_sulfate_to_au_feed', 'rougher.calculation.floatbank11_sulfate_to_au_feed', 'rougher.calculation.au_pb_ratio', 'rougher.output.concentrate_au', 'rougher.output.concentrate_ag', 'rougher.output.concentrate_pb', 'rougher.output.concentrate_sol', 'rougher.output.recovery', 'rougher.output.tail_au', 'rougher.output.tail_ag', 'rougher.output.tail_pb', 'rougher.output.tail_sol', 'primary_cleaner.output.concentrate_au', 'primary_cleaner.output.concentrate_ag', 'primary_cleaner.output.concentrate_pb', 'primary_cleaner.output.concentrate_sol', 'primary_cleaner.output.tail_au', 'primary_cleaner.output.tail_ag', 'primary_cleaner.output.tail_pb', 'primary_cleaner.output.tail_sol', 'secondary_cleaner.output.tail_au', 'secondary_cleaner.output.tail_ag', 'secondary_cleaner.output.tail_pb', 'secondary_cleaner.output.tail_sol', 'final.output.concentrate_au', 'final.output.concentrate_ag', 'final.output.concentrate_pb', 'final.output.concentrate_sol', 'final.output.recovery', 'final.output.tail_au', 'final.output.tail_ag', 'final.output.tail_pb', 'final.output.tail_sol']\n",
      "Длина 34\n"
     ]
    }
   ],
   "source": [
    "def differences_col():\n",
    "    gold_industry_full_col = gold_industry_full.columns\n",
    "    gold_industry_train_col = gold_industry_train.columns\n",
    "    gold_industry_test_col = gold_industry_test.columns\n",
    "\n",
    "    differences_full_train = []\n",
    "    differences_full_test = []\n",
    "    \n",
    "    for el in gold_industry_full_col:\n",
    "        if el not in gold_industry_train_col:\n",
    "            differences_full_train.append(el)\n",
    "            \n",
    "    print(f'differences_full_train {differences_full_train}')\n",
    "    print(f'Длина {len(differences_full_train)}')\n",
    "    \n",
    "    for el in gold_industry_full_col:\n",
    "        if el not in gold_industry_test_col:\n",
    "            differences_full_test.append(el)\n",
    "            \n",
    "    print(f'differences_full_test {differences_full_test}')\n",
    "    print(f'Длина {len(differences_full_test)}')\n",
    "     \n",
    "    \n",
    "some_differences_col = differences_col()\n",
    "some_differences_col"
   ]
  },
  {
   "cell_type": "markdown",
   "metadata": {},
   "source": [
    "*Различие наблюдается только с тестовой выборкой*"
   ]
  },
  {
   "cell_type": "markdown",
   "metadata": {},
   "source": [
    "##### Заключение"
   ]
  },
  {
   "cell_type": "markdown",
   "metadata": {},
   "source": [
    "Данные нуждаются в масштабировании и в удалении пропусков. Отдельно обратим внимание на столбец `date` - по условию задачи элементы им индексируются, кроме того, он носит уникальные значения, значит его можно вынести из таблицы в качестве индекса.  "
   ]
  },
  {
   "cell_type": "markdown",
   "metadata": {
    "editable": true,
    "slideshow": {
     "slide_type": ""
    },
    "tags": []
   },
   "source": [
    "### Проверка эффективности обогащения"
   ]
  },
  {
   "cell_type": "markdown",
   "metadata": {},
   "source": [
    "Необходимо удостоверить в правильности рассчётов. Смоделируем процесс восстановления золота из золотосодержащей руды и и проверим, что эффективность обогащения рассчитана правильно. Определим функцию для рассчёта эффективности обогащения."
   ]
  },
  {
   "cell_type": "code",
   "execution_count": 42,
   "metadata": {},
   "outputs": [],
   "source": [
    "def recovery(C, F, T):\n",
    "    return ((C*(F-T))/(F*(C-T)))*100"
   ]
  },
  {
   "cell_type": "markdown",
   "metadata": {},
   "source": [
    "Обозначения в функции:\n",
    "- C — доля золота в концентрате после флотации/очистки (rougher.output.concentrate_au);\n",
    "- F — доля золота в сырье/концентрате до флотации/очистки (rougher.input.feed_au);\n",
    "- T — доля золота в отвальных хвостах после флотации/очистки(rougher.output.tail_au). "
   ]
  },
  {
   "cell_type": "markdown",
   "metadata": {
    "editable": true,
    "slideshow": {
     "slide_type": ""
    },
    "tags": []
   },
   "source": [
    "Применим полученную функцию для оценки правильности рассчёта признака `rougher.output.recovery`, используем метрику `MAE`."
   ]
  },
  {
   "cell_type": "code",
   "execution_count": 43,
   "metadata": {},
   "outputs": [
    {
     "name": "stdout",
     "output_type": "stream",
     "text": [
      "Среднее абсолютное отклонение: 9.83758577644259e-15\n"
     ]
    }
   ],
   "source": [
    "def checking_effectiveness_enrichment():\n",
    "    C = gold_industry_train['rougher.output.concentrate_au']\n",
    "    F = gold_industry_train['rougher.input.feed_au']\n",
    "    T = gold_industry_train['rougher.output.tail_au']\n",
    "\n",
    "    print('Среднее абсолютное отклонение:',\n",
    "          mean_absolute_error(gold_industry_train['rougher.output.recovery'], recovery(C, F, T)))\n",
    "    \n",
    "checking_effectiveness_enrichment()    "
   ]
  },
  {
   "cell_type": "markdown",
   "metadata": {},
   "source": [
    "**Вывод**:\n",
    "резуьтат показывает очень маленькое значение среднего абсолютного отклонения, что говорит о правильности рассчёта в `rougher.output.recovery`."
   ]
  },
  {
   "cell_type": "markdown",
   "metadata": {
    "editable": true,
    "slideshow": {
     "slide_type": ""
    },
    "tags": []
   },
   "source": [
    "### Отсутствующие признаки в тестовой выборке"
   ]
  },
  {
   "cell_type": "markdown",
   "metadata": {},
   "source": [
    "Проанализируем признаки, недоступные в тестовой выборке. Определим что это за параметры и к какому типу относятся."
   ]
  },
  {
   "cell_type": "code",
   "execution_count": 44,
   "metadata": {},
   "outputs": [
    {
     "name": "stdout",
     "output_type": "stream",
     "text": [
      "34\n",
      "<class 'pandas.core.frame.DataFrame'>\n",
      "RangeIndex: 19439 entries, 0 to 19438\n",
      "Data columns (total 34 columns):\n",
      " #   Column                                              Non-Null Count  Dtype  \n",
      "---  ------                                              --------------  -----  \n",
      " 0   rougher.calculation.sulfate_to_au_concentrate       19437 non-null  float64\n",
      " 1   rougher.calculation.floatbank10_sulfate_to_au_feed  19437 non-null  float64\n",
      " 2   rougher.calculation.floatbank11_sulfate_to_au_feed  19437 non-null  float64\n",
      " 3   rougher.calculation.au_pb_ratio                     19439 non-null  float64\n",
      " 4   rougher.output.concentrate_au                       19439 non-null  float64\n",
      " 5   rougher.output.concentrate_ag                       19439 non-null  float64\n",
      " 6   rougher.output.concentrate_pb                       19439 non-null  float64\n",
      " 7   rougher.output.concentrate_sol                      19416 non-null  float64\n",
      " 8   rougher.output.recovery                             19439 non-null  float64\n",
      " 9   rougher.output.tail_au                              19439 non-null  float64\n",
      " 10  rougher.output.tail_ag                              19438 non-null  float64\n",
      " 11  rougher.output.tail_pb                              19439 non-null  float64\n",
      " 12  rougher.output.tail_sol                             19439 non-null  float64\n",
      " 13  primary_cleaner.output.concentrate_au               19439 non-null  float64\n",
      " 14  primary_cleaner.output.concentrate_ag               19439 non-null  float64\n",
      " 15  primary_cleaner.output.concentrate_pb               19323 non-null  float64\n",
      " 16  primary_cleaner.output.concentrate_sol              19069 non-null  float64\n",
      " 17  primary_cleaner.output.tail_au                      19439 non-null  float64\n",
      " 18  primary_cleaner.output.tail_ag                      19435 non-null  float64\n",
      " 19  primary_cleaner.output.tail_pb                      19418 non-null  float64\n",
      " 20  primary_cleaner.output.tail_sol                     19377 non-null  float64\n",
      " 21  secondary_cleaner.output.tail_au                    19439 non-null  float64\n",
      " 22  secondary_cleaner.output.tail_ag                    19437 non-null  float64\n",
      " 23  secondary_cleaner.output.tail_pb                    19427 non-null  float64\n",
      " 24  secondary_cleaner.output.tail_sol                   17691 non-null  float64\n",
      " 25  final.output.concentrate_au                         19439 non-null  float64\n",
      " 26  final.output.concentrate_ag                         19438 non-null  float64\n",
      " 27  final.output.concentrate_pb                         19438 non-null  float64\n",
      " 28  final.output.concentrate_sol                        19228 non-null  float64\n",
      " 29  final.output.recovery                               19439 non-null  float64\n",
      " 30  final.output.tail_au                                19439 non-null  float64\n",
      " 31  final.output.tail_ag                                19438 non-null  float64\n",
      " 32  final.output.tail_pb                                19338 non-null  float64\n",
      " 33  final.output.tail_sol                               19433 non-null  float64\n",
      "dtypes: float64(34)\n",
      "memory usage: 5.0 MB\n"
     ]
    }
   ],
   "source": [
    "def diff_col():\n",
    "    strange_col = []\n",
    "    for el in gold_industry_full.columns:\n",
    "        if el not in gold_industry_test.columns:\n",
    "            strange_col.append(el)\n",
    "    print(len(strange_col))\n",
    "    return gold_industry_full.loc[:, strange_col].info()\n",
    "\n",
    "diff_col()    "
   ]
  },
  {
   "cell_type": "markdown",
   "metadata": {},
   "source": [
    "*Судя по схеме* [этап].[тип_параметра].[название_параметра] *в тестовой выборке сохранены все этапы, зато не указаны все типы параметров. Из тестовой выборки исключены `output` — параметры продукта и `calculation` — расчётные характеристики. По всей видимости из тестовой выборки исключены данные постобработки.*"
   ]
  },
  {
   "cell_type": "markdown",
   "metadata": {
    "editable": true,
    "slideshow": {
     "slide_type": ""
    },
    "tags": []
   },
   "source": [
    "### Предобработка данных"
   ]
  },
  {
   "cell_type": "markdown",
   "metadata": {
    "editable": true,
    "slideshow": {
     "slide_type": ""
    },
    "tags": []
   },
   "source": [
    "Проведём обработку выбросов, nan, удаление дубликатов и индексацию для каждой таблицы. Определим функции. Отдельно обработаем `gold_industry_test` с учётом пропущенных столбцов."
   ]
  },
  {
   "cell_type": "markdown",
   "metadata": {
    "editable": true,
    "slideshow": {
     "slide_type": ""
    },
    "tags": []
   },
   "source": [
    "#### Удаление пропусков и индексация"
   ]
  },
  {
   "cell_type": "markdown",
   "metadata": {
    "editable": true,
    "slideshow": {
     "slide_type": ""
    },
    "tags": []
   },
   "source": [
    "Определим функцию для обработки nan знчений и индексации."
   ]
  },
  {
   "cell_type": "code",
   "execution_count": 45,
   "metadata": {
    "editable": true,
    "slideshow": {
     "slide_type": ""
    },
    "tags": []
   },
   "outputs": [],
   "source": [
    "def isna_fill(data_1):\n",
    "    data = data_1.reset_index(drop=True).copy() # копирование изначального датафрейма\n",
    "    for el in data.columns[1:]: # перебор столбцов, кроме date\n",
    "        for i in range(len(data[el])): # перебор значений в колонке\n",
    "            if math.isnan(data[el][i]): # определили isnan\n",
    "                col_pass = []\n",
    "                limit = 2\n",
    "                # функция перебирает значения вверх и вниз от элемента nan\n",
    "                # собирает limit элементов сверху и снизу\n",
    "                # после вычисляет median и заполняет им пропуск\n",
    "                for count in range(1, limit):\n",
    "                    if i-count > 0:\n",
    "                        if math.isnan(data[el][i-count]) == False:\n",
    "                            col_pass.append(data[el][i-count])\n",
    "                        \n",
    "                    else:\n",
    "                        break\n",
    "                        \n",
    "                for count1 in range(1, limit):\n",
    "                    if i+count1 < len(data[el]):\n",
    "                        if math.isnan(data[el][i+count1]) == False:\n",
    "                            col_pass.append(data[el][i+count1])\n",
    "                        \n",
    "                    else:\n",
    "                        break\n",
    "                data.loc[i, el] = median(col_pass)        \n",
    "                \n",
    "    data.index = data['date']\n",
    "    data = data.drop('date', axis=1)\n",
    "    return data            "
   ]
  },
  {
   "cell_type": "markdown",
   "metadata": {
    "editable": true,
    "slideshow": {
     "slide_type": ""
    },
    "tags": []
   },
   "source": [
    "Определим функцию для корректировки выбросов датасета"
   ]
  },
  {
   "cell_type": "code",
   "execution_count": 46,
   "metadata": {},
   "outputs": [],
   "source": [
    "def make_limit(geo_data_0, moustache_0):\n",
    "    for key, val in moustache_0.items():\n",
    "        geo_data_0 =\\\n",
    "        geo_data_0.loc[(geo_data_0[key] >= val[0]) & (geo_data_0[key] <= val[1]), :]\n",
    "        \n",
    "    return geo_data_0"
   ]
  },
  {
   "cell_type": "markdown",
   "metadata": {},
   "source": [
    "Определим функцию для удаления 0"
   ]
  },
  {
   "cell_type": "code",
   "execution_count": 47,
   "metadata": {},
   "outputs": [],
   "source": [
    "def del_zero(gold_industry_full):\n",
    "    for el in gold_industry_full.columns:\n",
    "        ans = gold_industry_full.loc[gold_industry_full[el] == 0, el].count()\n",
    "        if ans > 0:\n",
    "            gold_industry_full =\\\n",
    "            gold_industry_full.loc[gold_industry_full[el] != 0, :]\n",
    "            \n",
    "    return gold_industry_full        \n",
    "            "
   ]
  },
  {
   "cell_type": "markdown",
   "metadata": {},
   "source": [
    "**gold_industry_test**"
   ]
  },
  {
   "cell_type": "markdown",
   "metadata": {},
   "source": [
    "Из-за того, что тестовая выборка была загружена частично, то дальнейшая работа с ней будет некорректна, необходимо получить все значения, которые она должна содержать. Благодаря наличию разных датасетов есть возможность из всего набора данных получить тестовую выборку по значениям."
   ]
  },
  {
   "cell_type": "markdown",
   "metadata": {},
   "source": [
    "Получим уникальные значения столбца `date` для тестовой выборки"
   ]
  },
  {
   "cell_type": "code",
   "execution_count": 48,
   "metadata": {},
   "outputs": [],
   "source": [
    "test_string = gold_industry_test['date']"
   ]
  },
  {
   "cell_type": "markdown",
   "metadata": {},
   "source": [
    "Выберем эти значения в полном файле `gold_industry_full` с помощью метода `isin` и присвоим тестовой выборке. После данного преобразования может измениться количество удалённых пропусков."
   ]
  },
  {
   "cell_type": "code",
   "execution_count": 49,
   "metadata": {},
   "outputs": [],
   "source": [
    "gold_industry_test = gold_industry_full[gold_industry_full['date'].isin(test_string)]"
   ]
  },
  {
   "cell_type": "code",
   "execution_count": 50,
   "metadata": {
    "editable": true,
    "slideshow": {
     "slide_type": ""
    },
    "tags": []
   },
   "outputs": [],
   "source": [
    "gold_industry_test = isna_fill(gold_industry_test)"
   ]
  },
  {
   "cell_type": "markdown",
   "metadata": {},
   "source": [
    "**gold_industry_full**\n"
   ]
  },
  {
   "cell_type": "markdown",
   "metadata": {},
   "source": [
    "Проведём удаление пропусков и индексацию"
   ]
  },
  {
   "cell_type": "code",
   "execution_count": 51,
   "metadata": {},
   "outputs": [],
   "source": [
    "gold_industry_full = isna_fill(gold_industry_full)"
   ]
  },
  {
   "cell_type": "markdown",
   "metadata": {},
   "source": [
    "Обработаем выбросы"
   ]
  },
  {
   "cell_type": "code",
   "execution_count": 52,
   "metadata": {},
   "outputs": [],
   "source": [
    "gold_industry_full = make_limit(gold_industry_full, moustache_full)"
   ]
  },
  {
   "cell_type": "markdown",
   "metadata": {},
   "source": [
    "**gold_industry_train**"
   ]
  },
  {
   "cell_type": "markdown",
   "metadata": {},
   "source": [
    "Проведём удаление пропусков и индексацию"
   ]
  },
  {
   "cell_type": "code",
   "execution_count": 53,
   "metadata": {},
   "outputs": [],
   "source": [
    "gold_industry_train = isna_fill(gold_industry_train)"
   ]
  },
  {
   "cell_type": "markdown",
   "metadata": {},
   "source": [
    "Обработаем выбросы"
   ]
  },
  {
   "cell_type": "code",
   "execution_count": 54,
   "metadata": {},
   "outputs": [],
   "source": [
    "gold_industry_train = make_limit(gold_industry_train, moustache_train)"
   ]
  },
  {
   "cell_type": "markdown",
   "metadata": {},
   "source": [
    "**Результаты после изменения**"
   ]
  },
  {
   "cell_type": "markdown",
   "metadata": {},
   "source": [
    "Определим функцию для краткого подытоживания результата удаления пропусков."
   ]
  },
  {
   "cell_type": "code",
   "execution_count": 55,
   "metadata": {},
   "outputs": [],
   "source": [
    "def about_nan():\n",
    "    \"\"\"Функция подводит итог\n",
    "    по результату удаления пропусков,\n",
    "    формирует таблицу, где указаны:\n",
    "    1. Столбцы, 2.Строки, 3. Сколько значений осталось \n",
    "    после удаления пропусков. 4. п.3 в %. 5. % соотношение \n",
    "    выборок после удаления пропусков\"\"\"\n",
    "    \n",
    "    dict2 = {'gold_industry_full': gold_industry_full, 'gold_industry_train':gold_industry_train, \n",
    "                      'gold_industry_test':gold_industry_test}\n",
    "    table = []\n",
    "    rows = []\n",
    "    after_del_nan = []\n",
    "    percent_after_del = []\n",
    "    perc_of_total = []\n",
    "    for key, val in gold_industry_dict.items():\n",
    "        table.append(key)\n",
    "        rows.append(val.shape[0])\n",
    "        after_del_nan.append(dict2[key].shape[0])\n",
    "        percent_after_del.append(f'{dict2[key].shape[0]/val.shape[0]*100 :.4}%')\n",
    "        perc_of_total.append(f'{dict2[key].shape[0]/after_del_nan[0]*100 :.4}%')\n",
    "    \n",
    "    data = pd.DataFrame({'table':table, 'rows':rows, 'after_del_nan':after_del_nan,\n",
    "                         'percent_after_del':percent_after_del, 'perc_of_total':perc_of_total})\n",
    "    return data\n"
   ]
  },
  {
   "cell_type": "code",
   "execution_count": 56,
   "metadata": {},
   "outputs": [
    {
     "data": {
      "text/html": [
       "<div>\n",
       "<style scoped>\n",
       "    .dataframe tbody tr th:only-of-type {\n",
       "        vertical-align: middle;\n",
       "    }\n",
       "\n",
       "    .dataframe tbody tr th {\n",
       "        vertical-align: top;\n",
       "    }\n",
       "\n",
       "    .dataframe thead th {\n",
       "        text-align: right;\n",
       "    }\n",
       "</style>\n",
       "<table border=\"1\" class=\"dataframe\">\n",
       "  <thead>\n",
       "    <tr style=\"text-align: right;\">\n",
       "      <th></th>\n",
       "      <th>table</th>\n",
       "      <th>rows</th>\n",
       "      <th>after_del_nan</th>\n",
       "      <th>percent_after_del</th>\n",
       "      <th>perc_of_total</th>\n",
       "    </tr>\n",
       "  </thead>\n",
       "  <tbody>\n",
       "    <tr>\n",
       "      <th>0</th>\n",
       "      <td>gold_industry_full</td>\n",
       "      <td>19439</td>\n",
       "      <td>17829</td>\n",
       "      <td>91.72%</td>\n",
       "      <td>100.0%</td>\n",
       "    </tr>\n",
       "    <tr>\n",
       "      <th>1</th>\n",
       "      <td>gold_industry_train</td>\n",
       "      <td>14579</td>\n",
       "      <td>13251</td>\n",
       "      <td>90.89%</td>\n",
       "      <td>74.32%</td>\n",
       "    </tr>\n",
       "    <tr>\n",
       "      <th>2</th>\n",
       "      <td>gold_industry_test</td>\n",
       "      <td>4860</td>\n",
       "      <td>4860</td>\n",
       "      <td>100.0%</td>\n",
       "      <td>27.26%</td>\n",
       "    </tr>\n",
       "  </tbody>\n",
       "</table>\n",
       "</div>"
      ],
      "text/plain": [
       "                 table   rows  after_del_nan percent_after_del perc_of_total\n",
       "0   gold_industry_full  19439          17829            91.72%        100.0%\n",
       "1  gold_industry_train  14579          13251            90.89%        74.32%\n",
       "2   gold_industry_test   4860           4860            100.0%        27.26%"
      ]
     },
     "execution_count": 56,
     "metadata": {},
     "output_type": "execute_result"
    }
   ],
   "source": [
    "about_nan()"
   ]
  },
  {
   "cell_type": "markdown",
   "metadata": {},
   "source": [
    "### Заключение"
   ]
  },
  {
   "cell_type": "markdown",
   "metadata": {},
   "source": [
    "Проведена загрузка данных, ознакомление. Обнаружены выбросы в данных и пропущенные значения.\n",
    "\n",
    "**Вывод:** данные подготовлены, можно приступать к анализу."
   ]
  },
  {
   "cell_type": "markdown",
   "metadata": {
    "editable": true,
    "slideshow": {
     "slide_type": ""
    },
    "tags": []
   },
   "source": [
    "## Анализ данных"
   ]
  },
  {
   "cell_type": "markdown",
   "metadata": {},
   "source": [
    "В этой главе будет изучено:\n",
    "1. изменение концентрации металлов (Au, Ag, Pb) на различных этапах: в сырье, в черновом концентрате, в концентрате после первой очистки и в финальном концентрате. Особенности распределения;\n",
    "2. распределение размеров гранул исходного сырья на обучающей и тестовой выборках;\n",
    "3. суммарная концентрацию металлов на разных стадиях: в сырье, в черновом концентрате, в концентрате после первой очистки и в финальном концентрате."
   ]
  },
  {
   "cell_type": "markdown",
   "metadata": {},
   "source": [
    "### Концентрация металлов"
   ]
  },
  {
   "cell_type": "markdown",
   "metadata": {},
   "source": [
    "Ознакомимсся с распределением металлов на каждом этапе."
   ]
  },
  {
   "cell_type": "markdown",
   "metadata": {},
   "source": [
    "Получим названия столбцов металлов на различных стадиях"
   ]
  },
  {
   "cell_type": "code",
   "execution_count": 57,
   "metadata": {},
   "outputs": [],
   "source": [
    "def get_task_col(gold_industry_full):\n",
    "    rougher_input = list(gold_industry_full.columns[0:3])\n",
    "    rougher_output = list(gold_industry_full.columns[26:29])\n",
    "    primary_cleaner_output = list(gold_industry_full.columns[47:50])\n",
    "    final_output = list(gold_industry_full.columns[77:80])\n",
    "    result = rougher_input + rougher_output + primary_cleaner_output + final_output\n",
    "    return result"
   ]
  },
  {
   "cell_type": "code",
   "execution_count": 58,
   "metadata": {},
   "outputs": [
    {
     "data": {
      "text/plain": [
       "['rougher.input.feed_au',\n",
       " 'rougher.input.feed_ag',\n",
       " 'rougher.input.feed_pb',\n",
       " 'rougher.output.concentrate_au',\n",
       " 'rougher.output.concentrate_ag',\n",
       " 'rougher.output.concentrate_pb',\n",
       " 'primary_cleaner.output.concentrate_au',\n",
       " 'primary_cleaner.output.concentrate_ag',\n",
       " 'primary_cleaner.output.concentrate_pb',\n",
       " 'final.output.concentrate_au',\n",
       " 'final.output.concentrate_ag',\n",
       " 'final.output.concentrate_pb']"
      ]
     },
     "execution_count": 58,
     "metadata": {},
     "output_type": "execute_result"
    }
   ],
   "source": [
    "metall_col = get_task_col(gold_industry_full)\n",
    "metall_col"
   ]
  },
  {
   "cell_type": "markdown",
   "metadata": {},
   "source": [
    "**Общее распределение**"
   ]
  },
  {
   "cell_type": "markdown",
   "metadata": {},
   "source": [
    "Построим общее распределение для концентрации металлов на разных этапах"
   ]
  },
  {
   "cell_type": "code",
   "execution_count": 59,
   "metadata": {},
   "outputs": [
    {
     "data": {
      "image/png": "[encoded data removed]",
      "text/plain": [
       "<Figure size 1000x500 with 1 Axes>"
      ]
     },
     "metadata": {},
     "output_type": "display_data"
    }
   ],
   "source": [
    "gold_industry_full[metall_col].plot(kind='hist', bins=80, figsize=(10, 5), grid=True, title='Концентрация металлов')\n",
    "plt.legend(bbox_to_anchor=(1, 1.05));"
   ]
  },
  {
   "cell_type": "markdown",
   "metadata": {},
   "source": [
    "*В общем можно судить о том, что концентрация золота на последнем этапе выше, чем остальных металлов.*"
   ]
  },
  {
   "cell_type": "markdown",
   "metadata": {},
   "source": [
    "Изучим каждый этап отдельно. Определим функцию."
   ]
  },
  {
   "cell_type": "code",
   "execution_count": 60,
   "metadata": {},
   "outputs": [],
   "source": [
    "def plt_change_conc_metals(title, p1, p2):\n",
    "    met = ['au', 'ag', 'pb']\n",
    "    for i in range(p1,p2):\n",
    "        gold_industry_full[metall_col[i]].hist(figsize=(10,5), bins=80, legend=True)\n",
    "        print(f'Среднее содержание {met[i-p1]}: {gold_industry_full[metall_col[i]].mean() :.3}')\n",
    "    plt.title(title)  \n",
    "    plt.xlabel('conventional_units')\n",
    "    plt.ylabel('Frequency')"
   ]
  },
  {
   "cell_type": "markdown",
   "metadata": {},
   "source": [
    "Построим график для сырья"
   ]
  },
  {
   "cell_type": "code",
   "execution_count": 61,
   "metadata": {},
   "outputs": [
    {
     "name": "stdout",
     "output_type": "stream",
     "text": [
      "Среднее содержание au: 8.35\n",
      "Среднее содержание ag: 8.86\n",
      "Среднее содержание pb: 3.61\n"
     ]
    },
    {
     "data": {
      "image/png": "[encoded data removed]",
      "text/plain": [
       "<Figure size 1000x500 with 1 Axes>"
      ]
     },
     "metadata": {},
     "output_type": "display_data"
    }
   ],
   "source": [
    "plt_change_conc_metals('rougher.input', 0, 3)   "
   ]
  },
  {
   "cell_type": "markdown",
   "metadata": {},
   "source": [
    "*На графике заметно, что распределение свинца выше остальных значений. Распределения золота и серебра близки.*"
   ]
  },
  {
   "cell_type": "markdown",
   "metadata": {},
   "source": [
    "Построим график для чернового концентрата"
   ]
  },
  {
   "cell_type": "code",
   "execution_count": 62,
   "metadata": {},
   "outputs": [
    {
     "name": "stdout",
     "output_type": "stream",
     "text": [
      "Среднее содержание au: 20.2\n",
      "Среднее содержание ag: 12.3\n",
      "Среднее содержание pb: 7.76\n"
     ]
    },
    {
     "data": {
      "image/png": "[encoded data removed]",
      "text/plain": [
       "<Figure size 1000x500 with 1 Axes>"
      ]
     },
     "metadata": {},
     "output_type": "display_data"
    }
   ],
   "source": [
    "plt_change_conc_metals('rougher.output', 3, 6)   "
   ]
  },
  {
   "cell_type": "markdown",
   "metadata": {},
   "source": [
    "*В черновом концентрате золота выделено больше, чем остальных металлов.*"
   ]
  },
  {
   "cell_type": "markdown",
   "metadata": {},
   "source": [
    "Построим график для концентрата после первой очистки"
   ]
  },
  {
   "cell_type": "code",
   "execution_count": 63,
   "metadata": {},
   "outputs": [
    {
     "name": "stdout",
     "output_type": "stream",
     "text": [
      "Среднее содержание au: 32.1\n",
      "Среднее содержание ag: 8.54\n",
      "Среднее содержание pb: 9.9\n"
     ]
    },
    {
     "data": {
      "image/png": "[encoded data removed]",
      "text/plain": [
       "<Figure size 1000x500 with 1 Axes>"
      ]
     },
     "metadata": {},
     "output_type": "display_data"
    }
   ],
   "source": [
    "plt_change_conc_metals('primary_cleaner.output', 6, 9)"
   ]
  },
  {
   "cell_type": "markdown",
   "metadata": {},
   "source": [
    "*После проведения этапа первой очистки увеличилась концентрация золота. В сравнении концентрация примерно в 3.5 раза превышает концентрацию других металлов.*"
   ]
  },
  {
   "cell_type": "markdown",
   "metadata": {},
   "source": [
    "Построим график для финального концентрата"
   ]
  },
  {
   "cell_type": "code",
   "execution_count": 64,
   "metadata": {},
   "outputs": [
    {
     "name": "stdout",
     "output_type": "stream",
     "text": [
      "Среднее содержание au: 44.5\n",
      "Среднее содержание ag: 5.19\n",
      "Среднее содержание pb: 10.1\n"
     ]
    },
    {
     "data": {
      "image/png": "[encoded data removed]",
      "text/plain": [
       "<Figure size 1000x500 with 1 Axes>"
      ]
     },
     "metadata": {},
     "output_type": "display_data"
    }
   ],
   "source": [
    "plt_change_conc_metals('final.output', 9, 12)"
   ]
  },
  {
   "cell_type": "markdown",
   "metadata": {},
   "source": [
    "*Финальный этап очистки показывает, что концентрация золота примерно в 4.5 раза выше, чем концентрация других металлов. Результат по сравнению с первым этапом выше примерно в 6.5 раза.*"
   ]
  },
  {
   "cell_type": "markdown",
   "metadata": {},
   "source": [
    "**Вывод:** каждый этап увеличивает концентрацию золота в 1.5-2 раза. Если при получении концентрация металлов была:\n",
    "- среднее содержание au: 8.35;\n",
    "- среднее содержание ag: 8.86;\n",
    "- среднее содержание pb: 3.61.\n",
    "\n",
    "То на последней стадии \n",
    "- среднее содержание au: 44.5;\n",
    "- среднее содержание ag: 5.19;\n",
    "- среднее содержание pb: 10.1.\n",
    "\n",
    "По сравнению с первыми данными о концентрации незначительно изменились параметры: серебра, концентрация котого снизилась; свинца, его концентрация увеличилась."
   ]
  },
  {
   "cell_type": "markdown",
   "metadata": {
    "editable": true,
    "slideshow": {
     "slide_type": ""
    },
    "tags": []
   },
   "source": [
    "### Распределение размеров гранул"
   ]
  },
  {
   "cell_type": "markdown",
   "metadata": {},
   "source": [
    "Сравним распределение размеров гранул исходного сырья на обучающей и тестовой выборках. Размер гранул сырья указан в столбце `rougher.input.feed_size`"
   ]
  },
  {
   "cell_type": "code",
   "execution_count": 65,
   "metadata": {},
   "outputs": [
    {
     "name": "stdout",
     "output_type": "stream",
     "text": [
      "13251\n",
      "4860\n"
     ]
    }
   ],
   "source": [
    "train_feed_size = gold_industry_train['rougher.input.feed_size']\n",
    "test_feed_size = gold_industry_test['rougher.input.feed_size']\n",
    "print(len(train_feed_size))\n",
    "print(len(test_feed_size))"
   ]
  },
  {
   "cell_type": "markdown",
   "metadata": {},
   "source": [
    "Размеры разные"
   ]
  },
  {
   "cell_type": "code",
   "execution_count": 66,
   "metadata": {},
   "outputs": [
    {
     "data": {
      "image/png": "[encoded data removed]",
      "text/plain": [
       "<Figure size 1000x500 with 1 Axes>"
      ]
     },
     "metadata": {},
     "output_type": "display_data"
    }
   ],
   "source": [
    "plt.figure(figsize=(10,5))\n",
    "plt.hist(train_feed_size, bins=50, label = 'обучающая выборка', alpha=0.4, range=(30,100), density=True);\n",
    "plt.hist(test_feed_size, bins=50, label = 'тестовая выборка', alpha=0.4, range=(30,100), density=True);\n",
    "plt.grid();\n",
    "plt.legend();"
   ]
  },
  {
   "cell_type": "markdown",
   "metadata": {},
   "source": [
    "*С учётом того, что выборки разных размеров, то можно судить о нормальном распределении между выборками, они похожи.*"
   ]
  },
  {
   "cell_type": "markdown",
   "metadata": {
    "editable": true,
    "slideshow": {
     "slide_type": ""
    },
    "tags": []
   },
   "source": [
    "### Суммарная концентрацию металлов"
   ]
  },
  {
   "cell_type": "markdown",
   "metadata": {},
   "source": [
    "Исследуем суммарную концентрацию металлов на разных стадиях: в сырье, в черновом концентрате, в концентрате после первой очистки и в финальном концентрате. Переопределим функцию `get_task_col`."
   ]
  },
  {
   "cell_type": "code",
   "execution_count": 67,
   "metadata": {},
   "outputs": [],
   "source": [
    "def get_task_col(gold_industry_full):\n",
    "    rougher_input = list(gold_industry_train.columns[0:4])\n",
    "    rougher_output = list(gold_industry_train.columns[26:30])\n",
    "    primary_cleaner_output = list(gold_industry_train.columns[47:51])\n",
    "    final_output = list(gold_industry_train.columns[77:81])\n",
    "    result = rougher_input + rougher_output + primary_cleaner_output + final_output\n",
    "    return result"
   ]
  },
  {
   "cell_type": "code",
   "execution_count": 68,
   "metadata": {},
   "outputs": [
    {
     "data": {
      "text/plain": [
       "['rougher.input.feed_au',\n",
       " 'rougher.input.feed_ag',\n",
       " 'rougher.input.feed_pb',\n",
       " 'rougher.input.feed_sol',\n",
       " 'rougher.output.concentrate_au',\n",
       " 'rougher.output.concentrate_ag',\n",
       " 'rougher.output.concentrate_pb',\n",
       " 'rougher.output.concentrate_sol',\n",
       " 'primary_cleaner.output.concentrate_au',\n",
       " 'primary_cleaner.output.concentrate_ag',\n",
       " 'primary_cleaner.output.concentrate_pb',\n",
       " 'primary_cleaner.output.concentrate_sol',\n",
       " 'final.output.concentrate_au',\n",
       " 'final.output.concentrate_ag',\n",
       " 'final.output.concentrate_pb',\n",
       " 'final.output.concentrate_sol']"
      ]
     },
     "execution_count": 68,
     "metadata": {},
     "output_type": "execute_result"
    }
   ],
   "source": [
    "metall_col = get_task_col(gold_industry_full)\n",
    "metall_col"
   ]
  },
  {
   "cell_type": "markdown",
   "metadata": {},
   "source": [
    "Определим функцию для подсчёта суммарного количества"
   ]
  },
  {
   "cell_type": "code",
   "execution_count": 69,
   "metadata": {},
   "outputs": [],
   "source": [
    "def sum_m(a, b):\n",
    "    count = 0\n",
    "    for i in range(a, b):\n",
    "        count += gold_industry_full[metall_col[i]]\n",
    "    return count"
   ]
  },
  {
   "cell_type": "code",
   "execution_count": 70,
   "metadata": {},
   "outputs": [
    {
     "data": {
      "image/png": "[encoded data removed]",
      "text/plain": [
       "<Figure size 1100x700 with 4 Axes>"
      ]
     },
     "metadata": {},
     "output_type": "display_data"
    }
   ],
   "source": [
    "def plot_sum_met():\n",
    "    rougher_input_sum = sum_m(0, 4)\n",
    "    rougher_output_sum = sum_m(4, 8)\n",
    "    primary_cleaner_sum = sum_m(8, 12)\n",
    "    final_output_sum = sum_m(12, 16)\n",
    "    conc_met_dict = {'rougher_input_sum':[rougher_input_sum, 0, 0], 'rougher_output_sum':[rougher_output_sum, 0, 1],\n",
    "                     'primary_cleaner_sum':[primary_cleaner_sum, 1, 0], 'final_output_sum':[final_output_sum, 1, 1]}\n",
    "\n",
    "    fig, ax = plt.subplots(2, 2, figsize=(11,7))\n",
    "    fig.suptitle('Суммарное распределение металлов', fontsize=14, fontweight='bold')\n",
    "    fig.subplots_adjust(top=0.9)\n",
    "\n",
    "    for key, val in conc_met_dict.items():\n",
    "        x, y = val[1], val[2]\n",
    "        ax[x,y].hist(val[0], bins=150, label='rougher.input');\n",
    "        ax[x,y].grid()\n",
    "        ax[x,y].set_title(key)\n",
    "        ax[x,y].tick_params('x', labelrotation = 0)\n",
    "        ax[x,y].set_ylabel('Частота')\n",
    "\n",
    "plot_sum_met()        "
   ]
  },
  {
   "cell_type": "markdown",
   "metadata": {},
   "source": [
    "*На диаграмме обнаружены аномалии, которые раньше выявить не удалось, будет справедливо удалить их для обучающей выборки и всего набора данных.* "
   ]
  },
  {
   "cell_type": "markdown",
   "metadata": {
    "editable": true,
    "slideshow": {
     "slide_type": ""
    },
    "tags": []
   },
   "source": [
    "Определим функцию для поиска нулевых и около нулевых значений, согласно построенной гистограмме. Экспериментальным путём были выбраны границы для отсева, сделаем это сразу."
   ]
  },
  {
   "cell_type": "code",
   "execution_count": 71,
   "metadata": {},
   "outputs": [],
   "source": [
    "def test_bad_val(data):\n",
    "    dict_met = {'rougher_input': [0,4], 'rougher_output':[4,8], 'primary_cleaner':[8,12], 'final_output':[12,16]}\n",
    "    for key, val in dict_met.items():\n",
    "        for i in range(*val):\n",
    "            res = data.loc[(data[metall_col[i]] >= 0) &\\\n",
    "                                   (data[metall_col[i]] < 0.09), [metall_col[i]]]\\\n",
    "            .count()\n",
    "            if res.sum() != 0:\n",
    "                display(res)\n",
    "         \n",
    "    for key, val in dict_met.items():           \n",
    "        for i in range(*val):\n",
    "            data = data.loc[data[metall_col[i]] > 0.09, :]\n",
    "            \n",
    "    return data"
   ]
  },
  {
   "cell_type": "markdown",
   "metadata": {},
   "source": [
    "Проведём отсев для всей выборки"
   ]
  },
  {
   "cell_type": "code",
   "execution_count": 72,
   "metadata": {},
   "outputs": [
    {
     "data": {
      "text/plain": [
       "rougher.input.feed_pb    16\n",
       "dtype: int64"
      ]
     },
     "metadata": {},
     "output_type": "display_data"
    },
    {
     "data": {
      "text/plain": [
       "primary_cleaner.output.concentrate_au    178\n",
       "dtype: int64"
      ]
     },
     "metadata": {},
     "output_type": "display_data"
    },
    {
     "data": {
      "text/plain": [
       "primary_cleaner.output.concentrate_ag    179\n",
       "dtype: int64"
      ]
     },
     "metadata": {},
     "output_type": "display_data"
    },
    {
     "data": {
      "text/plain": [
       "primary_cleaner.output.concentrate_pb    180\n",
       "dtype: int64"
      ]
     },
     "metadata": {},
     "output_type": "display_data"
    },
    {
     "data": {
      "text/plain": [
       "primary_cleaner.output.concentrate_sol    181\n",
       "dtype: int64"
      ]
     },
     "metadata": {},
     "output_type": "display_data"
    }
   ],
   "source": [
    "gold_industry_full = test_bad_val(gold_industry_full)"
   ]
  },
  {
   "cell_type": "markdown",
   "metadata": {},
   "source": [
    "Проведём отсев для обучающей выборки"
   ]
  },
  {
   "cell_type": "code",
   "execution_count": 73,
   "metadata": {},
   "outputs": [
    {
     "data": {
      "text/plain": [
       "primary_cleaner.output.concentrate_au    161\n",
       "dtype: int64"
      ]
     },
     "metadata": {},
     "output_type": "display_data"
    },
    {
     "data": {
      "text/plain": [
       "primary_cleaner.output.concentrate_ag    162\n",
       "dtype: int64"
      ]
     },
     "metadata": {},
     "output_type": "display_data"
    },
    {
     "data": {
      "text/plain": [
       "primary_cleaner.output.concentrate_pb    163\n",
       "dtype: int64"
      ]
     },
     "metadata": {},
     "output_type": "display_data"
    },
    {
     "data": {
      "text/plain": [
       "primary_cleaner.output.concentrate_sol    164\n",
       "dtype: int64"
      ]
     },
     "metadata": {},
     "output_type": "display_data"
    }
   ],
   "source": [
    "gold_industry_train = test_bad_val(gold_industry_train)"
   ]
  },
  {
   "cell_type": "markdown",
   "metadata": {},
   "source": [
    "*Данные очищены.*"
   ]
  },
  {
   "cell_type": "markdown",
   "metadata": {},
   "source": [
    "Изучим результат на гистограммах"
   ]
  },
  {
   "cell_type": "code",
   "execution_count": 74,
   "metadata": {},
   "outputs": [
    {
     "data": {
      "image/png": "[encoded data removed]",
      "text/plain": [
       "<Figure size 1100x700 with 4 Axes>"
      ]
     },
     "metadata": {},
     "output_type": "display_data"
    }
   ],
   "source": [
    "plot_sum_met()"
   ]
  },
  {
   "cell_type": "markdown",
   "metadata": {},
   "source": [
    "**Вывод:** данные избавлены от аномалий, теперь можно приступать к обучению модели. Распределение концентрации металов близко для каждого этапа, сильного разброса значений не наблюдается, ключевые метрики близки. "
   ]
  },
  {
   "cell_type": "markdown",
   "metadata": {},
   "source": [
    "## Модель"
   ]
  },
  {
   "cell_type": "markdown",
   "metadata": {},
   "source": [
    "В этой главе:\n",
    "- напишем функцию для вычисления итоговой sMAPE;\n",
    "- обучим разные модели и оценим их качество кросс-валидацией. Выберем лучшую модель и проверим её на тестовой выборке. Опишем выводы."
   ]
  },
  {
   "cell_type": "markdown",
   "metadata": {},
   "source": [
    "### sMAPE"
   ]
  },
  {
   "cell_type": "code",
   "execution_count": 75,
   "metadata": {},
   "outputs": [],
   "source": [
    "def sMAPE(target, predict):\n",
    "    N = len(predict) # Количество объектов в выборке\n",
    "    yi = target # значения целевого признака\n",
    "    yi_p = predict # значение предсказаний\n",
    "    func = 1/N*(sum((abs(yi-yi_p))/((abs(yi)+abs(yi_p))/2))*100)\n",
    "    return func"
   ]
  },
  {
   "cell_type": "code",
   "execution_count": 76,
   "metadata": {},
   "outputs": [],
   "source": [
    "def final_sMAPE(rougher, final):\n",
    "    func = (.25 * rougher) + (.75 * final)\n",
    "    return func"
   ]
  },
  {
   "cell_type": "code",
   "execution_count": 77,
   "metadata": {
    "editable": true,
    "slideshow": {
     "slide_type": ""
    },
    "tags": []
   },
   "outputs": [],
   "source": [
    "smape_scorer = make_scorer(sMAPE)"
   ]
  },
  {
   "cell_type": "markdown",
   "metadata": {},
   "source": [
    "### Подготовка признаков"
   ]
  },
  {
   "cell_type": "markdown",
   "metadata": {},
   "source": [
    "#### Разбиение на признаки"
   ]
  },
  {
   "cell_type": "markdown",
   "metadata": {},
   "source": [
    "В связи с тем, что нужно спрогнозировать сразу две величины:\n",
    "1. эффективность обогащения чернового концентрата `rougher.output.recovery`;\n",
    "2. эффективность обогащения финального концентрата `final.output.recovery`.\n",
    "\n",
    "То необходимо, сформировать две группы с обучающим признаком features и целевым target. Для каждой группы набор признаков будет разный, так как целевой признак находится на разных этапах.\n",
    "\n"
   ]
  },
  {
   "cell_type": "markdown",
   "metadata": {},
   "source": [
    "**rougher.output.recovery**"
   ]
  },
  {
   "cell_type": "markdown",
   "metadata": {},
   "source": [
    "Получим обучающую выборку"
   ]
  },
  {
   "cell_type": "code",
   "execution_count": 78,
   "metadata": {},
   "outputs": [],
   "source": [
    "features_train_rougher = gold_industry_train.loc[:, 'rougher.input.feed_au':'rougher.output.recovery']\\\n",
    "                                           .drop(['rougher.output.recovery'], axis=1)\n",
    "target_train_rougher = gold_industry_train['rougher.output.recovery']"
   ]
  },
  {
   "cell_type": "markdown",
   "metadata": {
    "editable": true,
    "slideshow": {
     "slide_type": ""
    },
    "tags": []
   },
   "source": [
    "Получим тестовую и валидационную выборки "
   ]
  },
  {
   "cell_type": "code",
   "execution_count": 79,
   "metadata": {},
   "outputs": [],
   "source": [
    "features_test_rougher = gold_industry_test.loc[:, 'rougher.input.feed_au':'rougher.output.recovery']\\\n",
    "                                           .drop(['rougher.output.recovery'], axis=1)\n",
    "target_test_rougher = gold_industry_test['rougher.output.recovery']"
   ]
  },
  {
   "cell_type": "markdown",
   "metadata": {},
   "source": [
    "**final.output.recovery**"
   ]
  },
  {
   "cell_type": "code",
   "execution_count": 80,
   "metadata": {},
   "outputs": [],
   "source": [
    "features_train_final = gold_industry_train.loc[:, 'rougher.input.feed_au':'final.output.recovery']\\\n",
    "                                           .drop(['final.output.recovery'], axis=1)\n",
    "target_train_final = gold_industry_train['final.output.recovery']"
   ]
  },
  {
   "cell_type": "markdown",
   "metadata": {},
   "source": [
    "Получим тестовую и валидационную выборки "
   ]
  },
  {
   "cell_type": "code",
   "execution_count": 81,
   "metadata": {},
   "outputs": [],
   "source": [
    "features_test_final = gold_industry_test.loc[:, 'rougher.input.feed_au':'final.output.recovery']\\\n",
    "                                           .drop(['final.output.recovery'], axis=1)\n",
    "target_test_final = gold_industry_test['final.output.recovery']"
   ]
  },
  {
   "cell_type": "markdown",
   "metadata": {},
   "source": [
    "#### Масштабирование признаков"
   ]
  },
  {
   "cell_type": "markdown",
   "metadata": {
    "editable": true,
    "slideshow": {
     "slide_type": ""
    },
    "tags": []
   },
   "source": [
    "**rougher.output.recovery**"
   ]
  },
  {
   "cell_type": "code",
   "execution_count": 82,
   "metadata": {},
   "outputs": [],
   "source": [
    "scaler = StandardScaler()\n",
    "scaler.fit(features_train_rougher)\n",
    "\n",
    "pd.options.mode.chained_assignment = None\n",
    "features_train_rougher.loc[:, :] = scaler.transform(features_train_rougher.loc[:, :])\n",
    "features_test_rougher.loc[:, :] = scaler.transform(features_test_rougher.loc[:, :])"
   ]
  },
  {
   "cell_type": "markdown",
   "metadata": {},
   "source": [
    "**final.output.recovery**"
   ]
  },
  {
   "cell_type": "code",
   "execution_count": 83,
   "metadata": {},
   "outputs": [],
   "source": [
    "scaler = StandardScaler()\n",
    "scaler.fit(features_train_final)\n",
    "\n",
    "pd.options.mode.chained_assignment = None\n",
    "features_train_final.loc[:, :] = scaler.transform(features_train_final.loc[:, :])\n",
    "features_test_final.loc[:, :] = scaler.transform(features_test_final.loc[:, :])"
   ]
  },
  {
   "cell_type": "markdown",
   "metadata": {},
   "source": [
    "**Заключение**\n",
    "1. данные избавлены от выбросов и пропущенных значений\n",
    "2. проведена работа по разделению на выборки и масштабированию"
   ]
  },
  {
   "cell_type": "markdown",
   "metadata": {
    "editable": true,
    "slideshow": {
     "slide_type": ""
    },
    "tags": []
   },
   "source": [
    "### Обучение модели"
   ]
  },
  {
   "cell_type": "markdown",
   "metadata": {
    "editable": true,
    "slideshow": {
     "slide_type": ""
    },
    "tags": []
   },
   "source": [
    "Изучим несколько моделей для интересующих нас признаков и выборок:\n",
    "1. **rougher.output.recovery:**\n",
    "    - features_train_rougher;\n",
    "    - target_train_rougher;\n",
    "    - features_test_rougher;\n",
    "    - target_test_rougher.\n",
    "    \n",
    "    \n",
    "2. **final.output.recovery:**\n",
    "    - features_train_final;\n",
    "    - target_train_final;\n",
    "    - features_test_final;\n",
    "    - target_test_final."
   ]
  },
  {
   "cell_type": "markdown",
   "metadata": {
    "editable": true,
    "slideshow": {
     "slide_type": ""
    },
    "tags": []
   },
   "source": [
    "#### LinearRegression"
   ]
  },
  {
   "cell_type": "code",
   "execution_count": 84,
   "metadata": {},
   "outputs": [
    {
     "name": "stdout",
     "output_type": "stream",
     "text": [
      "CPU times: total: 297 ms\n",
      "Wall time: 191 ms\n"
     ]
    }
   ],
   "source": [
    "%%time\n",
    "model_lr = LinearRegression()\n",
    "\n",
    "scores_rougher_lr = cross_val_score(model_lr,\n",
    "                                features_train_rougher,\n",
    "                                target_train_rougher,\n",
    "                                scoring=smape_scorer,\n",
    "                                cv=5)\n",
    "\n",
    "scores_final_lr = cross_val_score(model_lr,\n",
    "                                features_train_final,\n",
    "                                target_train_final,\n",
    "                                scoring=smape_scorer,\n",
    "                                cv=5)\n",
    "\n",
    "final_scores_rougher_lr = pd.Series(scores_rougher_lr).mean()\n",
    "final_scores_final_lr = pd.Series(scores_final_lr).mean()"
   ]
  },
  {
   "cell_type": "code",
   "execution_count": 85,
   "metadata": {},
   "outputs": [
    {
     "data": {
      "text/plain": [
       "4.703461893728138"
      ]
     },
     "metadata": {},
     "output_type": "display_data"
    },
    {
     "data": {
      "text/plain": [
       "5.576470306139521"
      ]
     },
     "metadata": {},
     "output_type": "display_data"
    }
   ],
   "source": [
    "display(final_scores_rougher_lr)\n",
    "display(final_scores_final_lr)"
   ]
  },
  {
   "cell_type": "markdown",
   "metadata": {
    "editable": true,
    "slideshow": {
     "slide_type": ""
    },
    "tags": []
   },
   "source": [
    "#### DecisionTreeRegressor"
   ]
  },
  {
   "cell_type": "code",
   "execution_count": 86,
   "metadata": {
    "editable": true,
    "slideshow": {
     "slide_type": ""
    },
    "tags": []
   },
   "outputs": [
    {
     "name": "stdout",
     "output_type": "stream",
     "text": [
      "top_depth_final_dtr: 5\n",
      "top_depth_rougher_dtr: 2\n",
      "CPU times: total: 1min 59s\n",
      "Wall time: 1min 59s\n"
     ]
    }
   ],
   "source": [
    "%%time\n",
    "final_scores_rougher_dtr = 100\n",
    "final_scores_final_dtr = 100\n",
    "top_depth_dtr = 1\n",
    "best_model_final_dtr = None\n",
    "best_model_rougher_dtr = None\n",
    "\n",
    "for depth in range(1, 15):\n",
    "    model_dtr = DecisionTreeRegressor(random_state=12345, max_depth=depth)\n",
    "    scores_rougher_dtr = cross_val_score(model_dtr,\n",
    "                                    features_train_rougher,\n",
    "                                    target_train_rougher,\n",
    "                                    scoring=smape_scorer,\n",
    "                                    cv=5)\n",
    "\n",
    "    scores_final_dtr = cross_val_score(model_dtr,\n",
    "                                    features_train_final,\n",
    "                                    target_train_final,\n",
    "                                    scoring=smape_scorer,\n",
    "                                    cv=5)\n",
    "\n",
    "    res_rougher = pd.Series(scores_rougher_dtr).mean()\n",
    "    res_final = pd.Series(scores_final_dtr).mean()\n",
    "    \n",
    "    if res_final < final_scores_final_dtr:\n",
    "        best_model_final_dtr = model_dtr\n",
    "        top_depth_final_dtr = depth\n",
    "        final_scores_final_dtr = res_final\n",
    "        \n",
    "    if res_rougher < final_scores_rougher_dtr:\n",
    "        best_model_rougher_dtr = model_dtr\n",
    "        top_depth_rougher_dtr = depth\n",
    "        final_scores_rougher_dtr = res_rougher\n",
    "               \n",
    "    \n",
    "    \n",
    "print(f'top_depth_final_dtr: {top_depth_final_dtr}')\n",
    "print(f'top_depth_rougher_dtr: {top_depth_rougher_dtr}')"
   ]
  },
  {
   "cell_type": "code",
   "execution_count": 87,
   "metadata": {
    "editable": true,
    "slideshow": {
     "slide_type": ""
    },
    "tags": []
   },
   "outputs": [
    {
     "data": {
      "text/plain": [
       "5.321322245371644"
      ]
     },
     "metadata": {},
     "output_type": "display_data"
    },
    {
     "data": {
      "text/plain": [
       "5.764134812599995"
      ]
     },
     "metadata": {},
     "output_type": "display_data"
    }
   ],
   "source": [
    "display(final_scores_rougher_dtr)\n",
    "display(final_scores_final_dtr)"
   ]
  },
  {
   "cell_type": "markdown",
   "metadata": {
    "editable": true,
    "slideshow": {
     "slide_type": ""
    },
    "tags": []
   },
   "source": [
    "#### RandomForestRegressor"
   ]
  },
  {
   "cell_type": "code",
   "execution_count": 88,
   "metadata": {
    "editable": true,
    "slideshow": {
     "slide_type": ""
    },
    "tags": []
   },
   "outputs": [
    {
     "name": "stdout",
     "output_type": "stream",
     "text": [
      "top_depth_rougher: 11\n",
      "top_est_rougher: 7\n",
      "top_depth_final: 6\n",
      "top_est_final: 6\n",
      "CPU times: total: 45min 3s\n",
      "Wall time: 45min 3s\n"
     ]
    }
   ],
   "source": [
    "%%time\n",
    "final_scores_rougher_rfr = 1000\n",
    "final_scores_final_rfr = 1000\n",
    "top_depth_rfr = 1\n",
    "top_est_rfr = 1\n",
    "best_model_final_rfr = None\n",
    "best_model_rougher_rfr = None\n",
    "\n",
    "for est in range(1, 8):\n",
    "    for depth in range(1, 15):\n",
    "        model_rfr = RandomForestRegressor(random_state=12345, max_depth=depth, n_estimators=est)\n",
    "        \n",
    "        scores_rougher_rfr = cross_val_score(model_rfr,\n",
    "                                        features_train_rougher,\n",
    "                                        target_train_rougher,\n",
    "                                        scoring=smape_scorer,\n",
    "                                        cv=5)\n",
    "\n",
    "        scores_final_rfr = cross_val_score(model_rfr,\n",
    "                                        features_train_final,\n",
    "                                        target_train_final,\n",
    "                                        scoring=smape_scorer,\n",
    "                                        cv=5)\n",
    "\n",
    "        res_rougher = pd.Series(scores_rougher_rfr).mean()\n",
    "        res_final = pd.Series(scores_final_rfr).mean()\n",
    "            \n",
    "        if res_final < final_scores_final_rfr:\n",
    "            best_model_final_rfr = model_rfr\n",
    "            top_depth_final_rfr = depth\n",
    "            top_est_final_rfr = est\n",
    "            final_scores_final_rfr = res_final\n",
    "        \n",
    "        if res_rougher < final_scores_rougher_rfr:\n",
    "            best_model_rougher_rfr = model_rfr\n",
    "            top_depth_rougher_rfr = depth\n",
    "            top_est_rougher_rfr = est\n",
    "            final_scores_rougher_rfr = res_rougher\n",
    "               \n",
    "\n",
    "print(f'top_depth_rougher: {top_depth_rougher_rfr}')\n",
    "print(f'top_est_rougher: {top_est_rougher_rfr}')\n",
    "print(f'top_depth_final: {top_depth_final_rfr}')\n",
    "print(f'top_est_final: {top_est_final_rfr}')"
   ]
  },
  {
   "cell_type": "code",
   "execution_count": 89,
   "metadata": {
    "scrolled": true
   },
   "outputs": [
    {
     "data": {
      "text/plain": [
       "4.785867402222988"
      ]
     },
     "metadata": {},
     "output_type": "display_data"
    },
    {
     "data": {
      "text/plain": [
       "5.259782374900677"
      ]
     },
     "metadata": {},
     "output_type": "display_data"
    }
   ],
   "source": [
    "display(final_scores_rougher_rfr)\n",
    "display(final_scores_final_rfr)"
   ]
  },
  {
   "cell_type": "markdown",
   "metadata": {
    "editable": true,
    "slideshow": {
     "slide_type": ""
    },
    "tags": []
   },
   "source": [
    "### Проверка качества"
   ]
  },
  {
   "cell_type": "markdown",
   "metadata": {},
   "source": [
    "Изучим качество лучших моделей `model_lr` и `best_model_final_rfr`. Используем функцию для рассчёта итоговой sMAPE функцией `final_sMAPE`."
   ]
  },
  {
   "cell_type": "code",
   "execution_count": 90,
   "metadata": {},
   "outputs": [],
   "source": [
    "def pre_final(features_train, target_train, features_test, target_test, model, name):    \n",
    "    model.fit(features_train, target_train)\n",
    "    predicted_valid = model.predict(features_test)\n",
    "    res = sMAPE(target_test, predicted_valid)\n",
    "    print(f'sMAPE для {name}: {res}')\n",
    "    return res\n"
   ]
  },
  {
   "cell_type": "markdown",
   "metadata": {},
   "source": [
    "**model_lr**"
   ]
  },
  {
   "cell_type": "code",
   "execution_count": 91,
   "metadata": {},
   "outputs": [
    {
     "name": "stdout",
     "output_type": "stream",
     "text": [
      "sMAPE для Linear Regression: 3.9714397584846064\n"
     ]
    }
   ],
   "source": [
    "rougher = pre_final(features_train_rougher, target_train_rougher, features_test_rougher, target_test_rougher,\n",
    "        model_lr, 'Linear Regression')"
   ]
  },
  {
   "cell_type": "markdown",
   "metadata": {},
   "source": [
    "**best_model_final_rfr**"
   ]
  },
  {
   "cell_type": "code",
   "execution_count": 92,
   "metadata": {},
   "outputs": [
    {
     "name": "stdout",
     "output_type": "stream",
     "text": [
      "sMAPE для Random Forest Regressor: 5.991336104300358\n"
     ]
    }
   ],
   "source": [
    "final = pre_final(features_train_final, target_train_final, features_test_final, target_test_final,\n",
    "        best_model_final_rfr, 'Random Forest Regressor')"
   ]
  },
  {
   "cell_type": "markdown",
   "metadata": {},
   "source": [
    "**Рассчёт итоговой sMAPE**"
   ]
  },
  {
   "cell_type": "code",
   "execution_count": 93,
   "metadata": {},
   "outputs": [
    {
     "data": {
      "text/plain": [
       "5.48636201784642"
      ]
     },
     "execution_count": 93,
     "metadata": {},
     "output_type": "execute_result"
    }
   ],
   "source": [
    "final_sMAPE(rougher, final)"
   ]
  },
  {
   "cell_type": "markdown",
   "metadata": {
    "editable": true,
    "slideshow": {
     "slide_type": ""
    },
    "tags": []
   },
   "source": [
    "### Проверка моделей на адекватность"
   ]
  },
  {
   "cell_type": "markdown",
   "metadata": {},
   "source": [
    "Определим функцию для тестирования данных моделью `DummyRegressor`"
   ]
  },
  {
   "cell_type": "code",
   "execution_count": 94,
   "metadata": {},
   "outputs": [],
   "source": [
    "def const_model(features_train, target_train, features_test, target_test):\n",
    "    dummy_regr = DummyRegressor(strategy='mean')\n",
    "    dummy_regr.fit(features_train, target_train)\n",
    "    pred_test = dummy_regr.predict(features_test)\n",
    "    res = sMAPE(target_test, pred_test)\n",
    "    return res"
   ]
  },
  {
   "cell_type": "code",
   "execution_count": 95,
   "metadata": {},
   "outputs": [
    {
     "data": {
      "text/plain": [
       "5.907628896828772"
      ]
     },
     "execution_count": 95,
     "metadata": {},
     "output_type": "execute_result"
    }
   ],
   "source": [
    "const_sMAPE_rougher = const_model(features_train_rougher, target_train_rougher,\n",
    "                                  features_test_rougher, target_test_rougher)\n",
    "const_sMAPE_rougher"
   ]
  },
  {
   "cell_type": "code",
   "execution_count": 96,
   "metadata": {},
   "outputs": [
    {
     "data": {
      "text/plain": [
       "9.112022010114234"
      ]
     },
     "execution_count": 96,
     "metadata": {},
     "output_type": "execute_result"
    }
   ],
   "source": [
    "const_sMAPE_final = const_model(features_train_final, target_train_final,\n",
    "                                features_test_final, target_test_final)\n",
    "const_sMAPE_final"
   ]
  },
  {
   "cell_type": "code",
   "execution_count": 97,
   "metadata": {},
   "outputs": [
    {
     "data": {
      "text/plain": [
       "8.310923731792869"
      ]
     },
     "execution_count": 97,
     "metadata": {},
     "output_type": "execute_result"
    }
   ],
   "source": [
    "smape_const_test = final_sMAPE(const_sMAPE_rougher, const_sMAPE_final)\n",
    "smape_const_test"
   ]
  },
  {
   "cell_type": "markdown",
   "metadata": {
    "editable": true,
    "slideshow": {
     "slide_type": ""
    },
    "tags": []
   },
   "source": [
    "### Заключение"
   ]
  },
  {
   "cell_type": "markdown",
   "metadata": {
    "editable": true,
    "slideshow": {
     "slide_type": ""
    },
    "tags": []
   },
   "source": [
    "В результате изучения характеристик промышленных предприятий, были построены модели для предсказания `rougher.output.recovery` и `final.output.recovery`. Ниже представлены этапы обучения и контроля качества на подготовленных ранее данных:\n",
    "\n",
    "1. были определены функции для рассчёта метрик качества `sMAPE` и `final_sMAPE`;\n",
    "2. проведено обучение моделей с проверкой качества:\n",
    "    - LinearRegression;\n",
    "    - DecisionTreeRegressor;\n",
    "    - RandomForestRegressor.\n",
    "    \n",
    "    \n",
    "3. по итогу проверки лучшие метрики качества функцией `sMAPE` показали:\n",
    "    - LinearRegression (4.703) для выборок:\n",
    "        - features_train_rougher;\n",
    "        - target_train_rougher.\n",
    "    - RandomForestRegressor (5.259) для выборок:\n",
    "        - features_train_final;\n",
    "        - target_train_final.\n",
    "        \n",
    "        \n",
    "4. Результат проверки с использованием тестовых выборок метрикой sMAPE показал точность для модели: \n",
    "    - model_lr(Linear Regression): 3.9714;\n",
    "    - best_model_final_rfr(Random Forest Regressor): 5.991.\n",
    " \n",
    " \n",
    "5. Итоговый sMAPE показал точность: 5.4863.     \n",
    "    \n",
    "6. Проверка моделей с использованием DummyRegressor показала точность: 8.3109. Что говорит о том, что модель адекватна, так как точность итогового sMAPE выше. \n",
    "\n",
    "\n",
    "Модель позволяет оптимизировать производство, чтобы не запускать предприятие с убыточными характеристиками. "
   ]
  }
 ],
 "metadata": {
  "ExecuteTimeLog": [
   {
    "duration": 2256,
    "start_time": "2023-05-19T16:35:47.186Z"
   },
   {
    "duration": 4,
    "start_time": "2023-05-19T16:35:49.444Z"
   },
   {
    "duration": 892,
    "start_time": "2023-05-19T16:35:49.449Z"
   },
   {
    "duration": 7,
    "start_time": "2023-05-19T16:35:50.349Z"
   },
   {
    "duration": 49,
    "start_time": "2023-05-19T16:35:50.358Z"
   },
   {
    "duration": 36,
    "start_time": "2023-05-19T16:35:50.409Z"
   },
   {
    "duration": 6,
    "start_time": "2023-05-19T16:35:50.446Z"
   },
   {
    "duration": 39,
    "start_time": "2023-05-19T16:35:50.454Z"
   },
   {
    "duration": 3,
    "start_time": "2023-05-19T16:35:50.495Z"
   },
   {
    "duration": 35,
    "start_time": "2023-05-19T16:35:50.500Z"
   },
   {
    "duration": 141,
    "start_time": "2023-05-19T16:35:50.537Z"
   },
   {
    "duration": 105,
    "start_time": "2023-05-19T16:35:50.679Z"
   },
   {
    "duration": 6,
    "start_time": "2023-05-19T16:35:50.786Z"
   },
   {
    "duration": 96,
    "start_time": "2023-05-19T16:35:50.796Z"
   },
   {
    "duration": 134,
    "start_time": "2023-05-19T16:35:50.894Z"
   },
   {
    "duration": 11,
    "start_time": "2023-05-19T16:35:51.030Z"
   },
   {
    "duration": 28,
    "start_time": "2023-05-19T16:35:51.043Z"
   },
   {
    "duration": 194,
    "start_time": "2023-05-19T16:35:51.072Z"
   },
   {
    "duration": 3,
    "start_time": "2023-05-19T16:35:51.268Z"
   },
   {
    "duration": 13,
    "start_time": "2023-05-19T16:35:51.273Z"
   },
   {
    "duration": 58,
    "start_time": "2023-05-19T16:35:51.287Z"
   },
   {
    "duration": 34,
    "start_time": "2023-05-19T16:35:51.347Z"
   },
   {
    "duration": 4,
    "start_time": "2023-05-19T16:35:51.383Z"
   },
   {
    "duration": 5,
    "start_time": "2023-05-19T16:35:51.388Z"
   },
   {
    "duration": 27,
    "start_time": "2023-05-19T16:35:51.427Z"
   },
   {
    "duration": 34,
    "start_time": "2023-05-19T16:35:51.455Z"
   },
   {
    "duration": 3,
    "start_time": "2023-05-19T16:35:51.491Z"
   },
   {
    "duration": 6,
    "start_time": "2023-05-19T16:35:51.496Z"
   },
   {
    "duration": 28,
    "start_time": "2023-05-19T16:35:51.503Z"
   },
   {
    "duration": 180,
    "start_time": "2023-05-19T16:35:51.532Z"
   },
   {
    "duration": 4,
    "start_time": "2023-05-19T16:35:51.714Z"
   },
   {
    "duration": 59,
    "start_time": "2023-05-19T16:35:51.719Z"
   },
   {
    "duration": 40,
    "start_time": "2023-05-19T16:35:51.780Z"
   },
   {
    "duration": 9,
    "start_time": "2023-05-19T16:35:51.827Z"
   },
   {
    "duration": 6,
    "start_time": "2023-05-19T16:35:51.837Z"
   },
   {
    "duration": 18,
    "start_time": "2023-05-19T16:35:51.844Z"
   },
   {
    "duration": 21,
    "start_time": "2023-05-19T16:35:51.863Z"
   },
   {
    "duration": 3,
    "start_time": "2023-05-19T16:35:51.885Z"
   },
   {
    "duration": 5,
    "start_time": "2023-05-19T16:35:51.890Z"
   },
   {
    "duration": 37,
    "start_time": "2023-05-19T16:35:51.897Z"
   },
   {
    "duration": 5,
    "start_time": "2023-05-19T16:35:51.938Z"
   },
   {
    "duration": 8,
    "start_time": "2023-05-19T16:35:51.944Z"
   },
   {
    "duration": 10,
    "start_time": "2023-05-19T16:35:51.953Z"
   },
   {
    "duration": 16,
    "start_time": "2023-05-19T16:35:51.965Z"
   },
   {
    "duration": 6,
    "start_time": "2023-05-19T16:35:51.983Z"
   },
   {
    "duration": 42,
    "start_time": "2023-05-19T16:35:51.991Z"
   },
   {
    "duration": 15,
    "start_time": "2023-05-19T16:35:52.034Z"
   },
   {
    "duration": 10,
    "start_time": "2023-05-19T16:35:52.050Z"
   },
   {
    "duration": 21,
    "start_time": "2023-05-19T16:35:52.062Z"
   },
   {
    "duration": 2252,
    "start_time": "2023-05-19T16:35:52.085Z"
   },
   {
    "duration": 8776,
    "start_time": "2023-05-19T16:35:54.338Z"
   },
   {
    "duration": 26,
    "start_time": "2023-05-19T16:36:03.115Z"
   },
   {
    "duration": 6656,
    "start_time": "2023-05-19T16:36:03.142Z"
   },
   {
    "duration": 29,
    "start_time": "2023-05-19T16:36:09.799Z"
   },
   {
    "duration": 26,
    "start_time": "2023-05-19T16:36:09.830Z"
   },
   {
    "duration": 24,
    "start_time": "2023-05-19T16:36:09.857Z"
   },
   {
    "duration": 4,
    "start_time": "2023-05-19T16:36:09.882Z"
   },
   {
    "duration": 22,
    "start_time": "2023-05-19T16:36:09.888Z"
   },
   {
    "duration": 1869,
    "start_time": "2023-05-19T16:36:09.911Z"
   },
   {
    "duration": 4,
    "start_time": "2023-05-19T16:36:11.781Z"
   },
   {
    "duration": 545,
    "start_time": "2023-05-19T16:36:11.786Z"
   },
   {
    "duration": 507,
    "start_time": "2023-05-19T16:36:12.337Z"
   },
   {
    "duration": 668,
    "start_time": "2023-05-19T16:36:12.845Z"
   },
   {
    "duration": 516,
    "start_time": "2023-05-19T16:36:13.515Z"
   },
   {
    "duration": 4,
    "start_time": "2023-05-19T16:36:14.032Z"
   },
   {
    "duration": 317,
    "start_time": "2023-05-19T16:36:14.037Z"
   },
   {
    "duration": 3,
    "start_time": "2023-05-19T16:36:14.356Z"
   },
   {
    "duration": 10,
    "start_time": "2023-05-19T16:36:14.361Z"
   },
   {
    "duration": 5,
    "start_time": "2023-05-19T16:36:14.373Z"
   },
   {
    "duration": 1206,
    "start_time": "2023-05-19T16:36:14.379Z"
   },
   {
    "duration": 5,
    "start_time": "2023-05-19T16:36:15.586Z"
   },
   {
    "duration": 148,
    "start_time": "2023-05-19T16:36:15.593Z"
   },
   {
    "duration": 97,
    "start_time": "2023-05-19T16:36:15.743Z"
   },
   {
    "duration": 1161,
    "start_time": "2023-05-19T16:36:15.841Z"
   },
   {
    "duration": 4,
    "start_time": "2023-05-19T16:36:17.004Z"
   },
   {
    "duration": 10,
    "start_time": "2023-05-19T16:36:17.023Z"
   },
   {
    "duration": 12,
    "start_time": "2023-05-19T16:36:17.036Z"
   },
   {
    "duration": 8,
    "start_time": "2023-05-19T16:36:17.050Z"
   },
   {
    "duration": 11,
    "start_time": "2023-05-19T16:36:17.059Z"
   },
   {
    "duration": 60,
    "start_time": "2023-05-19T16:36:17.072Z"
   },
   {
    "duration": 6,
    "start_time": "2023-05-19T16:36:17.134Z"
   },
   {
    "duration": 18,
    "start_time": "2023-05-19T16:36:17.141Z"
   },
   {
    "duration": 13,
    "start_time": "2023-05-19T16:36:36.849Z"
   },
   {
    "duration": 347,
    "start_time": "2023-05-19T16:39:56.909Z"
   }
  ],
  "kernelspec": {
   "display_name": "Python 3 (ipykernel)",
   "language": "python",
   "name": "python3"
  },
  "language_info": {
   "codemirror_mode": {
    "name": "ipython",
    "version": 3
   },
   "file_extension": ".py",
   "mimetype": "text/x-python",
   "name": "python",
   "nbconvert_exporter": "python",
   "pygments_lexer": "ipython3",
   "version": "3.11.5"
  },
  "toc": {
   "base_numbering": 1,
   "nav_menu": {},
   "number_sections": true,
   "sideBar": true,
   "skip_h1_title": true,
   "title_cell": "Содержание",
   "title_sidebar": "Contents",
   "toc_cell": true,
   "toc_position": {
    "height": "calc(100% - 180px)",
    "left": "10px",
    "top": "150px",
    "width": "256.391px"
   },
   "toc_section_display": true,
   "toc_window_display": true
  }
 },
 "nbformat": 4,
 "nbformat_minor": 4
}
