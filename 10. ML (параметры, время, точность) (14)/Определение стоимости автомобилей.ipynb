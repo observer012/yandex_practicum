{
 "cells": [
  {
   "cell_type": "markdown",
   "metadata": {},
   "source": [
    "# Определение стоимости автомобилей"
   ]
  },
  {
   "cell_type": "markdown",
   "metadata": {},
   "source": [
    "<font style='font-size:20px; font-weight:bold'>Основные сведения</font><br/>\n",
    "\n",
    "**Цель:** \n",
    "Построить модель, которая умеет определять рыночную стоимость автомобиля.\n",
    "\n",
    "\n",
    "**Примечания заказчика:**\n",
    "Используйте разные модели. Сравните характеристики.\n",
    "\n",
    "- для оценки качества моделей применяйте метрику RMSE;\n",
    "- значение метрики RMSE должно быть меньше 2500;\n",
    "- используйте библиотеку LightGBM и её средствами постройте модели градиентного бустинга;\n",
    "- оцените время выполнения ячейки кода Jupyter Notebook, где обучаются модели;\n",
    "\n",
    "\n",
    "<font style='font-size:20px; font-weight:bold'>Этапы работы</font><br/>\n",
    "\n",
    "1. Загрузка данных.\n",
    "2. Изучение данных и подготовка.\n",
    "3. Подготовление выборок для обучения моделей.\n",
    "4. Обучение разных моделей.\n",
    "5. Оценка времени обучения, времени предсказания и качества моделей.\n",
    "6. Выбор лучшей модели.\n",
    "\n",
    "\n",
    "\n",
    "<font style='font-size:20px; font-weight:bold'>Описание данных</font><br/>\n",
    "\n",
    "Данные находятся в файле autos.csv\n",
    "\n",
    "\n",
    "**Даны исторические данные автомобилей:**\n",
    "\n",
    "- технические характеристики;\n",
    "- комплектации;\n",
    "- цены.\n",
    "\n",
    "\n",
    "**Признаки**\n",
    "- DateCrawled — дата скачивания анкеты из базы\n",
    "- VehicleType — тип автомобильного кузова\n",
    "- RegistrationYear — год регистрации автомобиля\n",
    "- Gearbox — тип коробки передач\n",
    "- Power — мощность (л. с.)\n",
    "- Model — модель автомобиля\n",
    "- Kilometer — пробег (км)\n",
    "- RegistrationMonth — месяц регистрации автомобиля\n",
    "- FuelType — тип топлива\n",
    "- Brand — марка автомобиля\n",
    "- Repaired — была машина в ремонте или нет\n",
    "- DateCreated — дата создания анкеты\n",
    "- NumberOfPictures — количество фотографий автомобиля\n",
    "- PostalCode — почтовый индекс владельца анкеты (пользователя)\n",
    "- LastSeen — дата последней активности пользователя\n",
    "\n",
    "**Целевой признак**\n",
    "- Price — цена (евро)\n",
    "\n",
    "\n",
    "\n"
   ]
  },
  {
   "cell_type": "markdown",
   "metadata": {},
   "source": [
    "## Подготовка данных"
   ]
  },
  {
   "cell_type": "markdown",
   "metadata": {},
   "source": [
    "### Первичная загрузка"
   ]
  },
  {
   "cell_type": "markdown",
   "metadata": {},
   "source": [
    "Произведём импорт основных библиотек и модулей"
   ]
  },
  {
   "cell_type": "code",
   "execution_count": 1,
   "metadata": {},
   "outputs": [
    {
     "name": "stdout",
     "output_type": "stream",
     "text": [
      "Requirement already satisfied: lightgbm in d:\\anaconda3\\envs\\practicum\\lib\\site-packages (3.3.5)\n",
      "Requirement already satisfied: wheel in d:\\anaconda3\\envs\\practicum\\lib\\site-packages (from lightgbm) (0.38.4)\n",
      "Requirement already satisfied: scipy in d:\\anaconda3\\envs\\practicum\\lib\\site-packages (from lightgbm) (1.8.0)\n",
      "Requirement already satisfied: scikit-learn!=0.22.0 in d:\\anaconda3\\envs\\practicum\\lib\\site-packages (from lightgbm) (1.1.3)\n",
      "Requirement already satisfied: numpy in d:\\anaconda3\\envs\\practicum\\lib\\site-packages (from lightgbm) (1.20.1)\n",
      "Requirement already satisfied: joblib>=1.0.0 in d:\\anaconda3\\envs\\practicum\\lib\\site-packages (from scikit-learn!=0.22.0->lightgbm) (1.2.0)\n",
      "Requirement already satisfied: threadpoolctl>=2.0.0 in d:\\anaconda3\\envs\\practicum\\lib\\site-packages (from scikit-learn!=0.22.0->lightgbm) (3.1.0)\n"
     ]
    }
   ],
   "source": [
    "!pip install lightgbm"
   ]
  },
  {
   "cell_type": "code",
   "execution_count": 2,
   "metadata": {},
   "outputs": [
    {
     "name": "stdout",
     "output_type": "stream",
     "text": [
      "Requirement already satisfied: phik in d:\\anaconda3\\envs\\practicum\\lib\\site-packages (0.12.3)\n",
      "Requirement already satisfied: matplotlib>=2.2.3 in d:\\anaconda3\\envs\\practicum\\lib\\site-packages (from phik) (3.3.4)\n",
      "Requirement already satisfied: joblib>=0.14.1 in d:\\anaconda3\\envs\\practicum\\lib\\site-packages (from phik) (1.2.0)\n",
      "Requirement already satisfied: scipy>=1.5.2 in d:\\anaconda3\\envs\\practicum\\lib\\site-packages (from phik) (1.8.0)\n",
      "Requirement already satisfied: numpy>=1.18.0 in d:\\anaconda3\\envs\\practicum\\lib\\site-packages (from phik) (1.20.1)\n",
      "Requirement already satisfied: pandas>=0.25.1 in d:\\anaconda3\\envs\\practicum\\lib\\site-packages (from phik) (1.2.4)\n",
      "Requirement already satisfied: python-dateutil>=2.1 in d:\\anaconda3\\envs\\practicum\\lib\\site-packages (from matplotlib>=2.2.3->phik) (2.8.2)\n",
      "Requirement already satisfied: pillow>=6.2.0 in d:\\anaconda3\\envs\\practicum\\lib\\site-packages (from matplotlib>=2.2.3->phik) (8.4.0)\n",
      "Requirement already satisfied: cycler>=0.10 in d:\\anaconda3\\envs\\practicum\\lib\\site-packages (from matplotlib>=2.2.3->phik) (0.11.0)\n",
      "Requirement already satisfied: pyparsing!=2.0.4,!=2.1.2,!=2.1.6,>=2.0.3 in d:\\anaconda3\\envs\\practicum\\lib\\site-packages (from matplotlib>=2.2.3->phik) (3.0.9)\n",
      "Requirement already satisfied: kiwisolver>=1.0.1 in d:\\anaconda3\\envs\\practicum\\lib\\site-packages (from matplotlib>=2.2.3->phik) (1.4.4)\n",
      "Requirement already satisfied: pytz>=2017.3 in d:\\anaconda3\\envs\\practicum\\lib\\site-packages (from pandas>=0.25.1->phik) (2022.7)\n",
      "Requirement already satisfied: six>=1.5 in d:\\anaconda3\\envs\\practicum\\lib\\site-packages (from python-dateutil>=2.1->matplotlib>=2.2.3->phik) (1.16.0)\n"
     ]
    }
   ],
   "source": [
    "!pip install phik"
   ]
  },
  {
   "cell_type": "code",
   "execution_count": 3,
   "metadata": {},
   "outputs": [],
   "source": [
    "import time\n",
    "import math\n",
    "from IPython.display import display\n",
    "\n",
    "import pandas as pd\n",
    "import numpy as np\n",
    "import phik\n",
    "import matplotlib.pyplot as plt\n",
    "\n",
    "from sklearn.model_selection import train_test_split\n",
    "from sklearn.metrics import mean_squared_error\n",
    "from sklearn.ensemble import RandomForestRegressor\n",
    "from catboost import CatBoostRegressor\n",
    "import lightgbm as lgb\n",
    "from lightgbm import LGBMRegressor"
   ]
  },
  {
   "cell_type": "markdown",
   "metadata": {},
   "source": [
    "Определим функцию для загрузки файла"
   ]
  },
  {
   "cell_type": "code",
   "execution_count": 4,
   "metadata": {},
   "outputs": [],
   "source": [
    "def download_file(name):\n",
    "    \"\"\"\n",
    "    Функция проходит по возможным директориям \n",
    "    в попытке найти файл, используя конструкции\n",
    "    try, except и итераторы. Возвращая прочтённый \n",
    "    файл или ошибку, если файл не найден.\n",
    "    \"\"\"\n",
    "    def read(name):\n",
    "        next_step = next(step)\n",
    "        print(f'Пробую найти файл в {next_step}: {directory[next_step]}.')\n",
    "        return pd.read_csv(directory[next_step] + name + '.csv')\n",
    "    \n",
    "    def error(err):\n",
    "        print(f'Возникла ошибка: {err}\\n')\n",
    "        \n",
    "    directory = {'windows':'', 'linux':'/datasets/', 'Internet':'https://..'}\n",
    "    step = iter(directory)\n",
    "    \n",
    "    try:\n",
    "        data = read(name)\n",
    "    except FileNotFoundError as err:\n",
    "        error(err)\n",
    "        try:\n",
    "            data = read(name)\n",
    "        except FileNotFoundError as err:\n",
    "            error(err)\n",
    "            try:\n",
    "                data = read(name)\n",
    "            except FileNotFoundError:\n",
    "                return error(err)\n",
    "            \n",
    "    print('Успех!')            \n",
    "    return data           "
   ]
  },
  {
   "cell_type": "markdown",
   "metadata": {},
   "source": [
    "Получим файл"
   ]
  },
  {
   "cell_type": "code",
   "execution_count": 5,
   "metadata": {},
   "outputs": [
    {
     "name": "stdout",
     "output_type": "stream",
     "text": [
      "Пробую найти файл в windows: .\n",
      "Успех!\n"
     ]
    }
   ],
   "source": [
    "data = download_file('autos')\n",
    "data_shape_zero_initially = data.shape[0]"
   ]
  },
  {
   "cell_type": "markdown",
   "metadata": {},
   "source": [
    "### Изучение структуры файла"
   ]
  },
  {
   "cell_type": "markdown",
   "metadata": {},
   "source": [
    "Чтение файла методом `head`"
   ]
  },
  {
   "cell_type": "code",
   "execution_count": 6,
   "metadata": {},
   "outputs": [
    {
     "data": {
      "text/html": [
       "<div>\n",
       "<style scoped>\n",
       "    .dataframe tbody tr th:only-of-type {\n",
       "        vertical-align: middle;\n",
       "    }\n",
       "\n",
       "    .dataframe tbody tr th {\n",
       "        vertical-align: top;\n",
       "    }\n",
       "\n",
       "    .dataframe thead th {\n",
       "        text-align: right;\n",
       "    }\n",
       "</style>\n",
       "<table border=\"1\" class=\"dataframe\">\n",
       "  <thead>\n",
       "    <tr style=\"text-align: right;\">\n",
       "      <th></th>\n",
       "      <th>DateCrawled</th>\n",
       "      <th>Price</th>\n",
       "      <th>VehicleType</th>\n",
       "      <th>RegistrationYear</th>\n",
       "      <th>Gearbox</th>\n",
       "      <th>Power</th>\n",
       "      <th>Model</th>\n",
       "      <th>Kilometer</th>\n",
       "      <th>RegistrationMonth</th>\n",
       "      <th>FuelType</th>\n",
       "      <th>Brand</th>\n",
       "      <th>Repaired</th>\n",
       "      <th>DateCreated</th>\n",
       "      <th>NumberOfPictures</th>\n",
       "      <th>PostalCode</th>\n",
       "      <th>LastSeen</th>\n",
       "    </tr>\n",
       "  </thead>\n",
       "  <tbody>\n",
       "    <tr>\n",
       "      <th>0</th>\n",
       "      <td>2016-03-24 11:52:17</td>\n",
       "      <td>480</td>\n",
       "      <td>NaN</td>\n",
       "      <td>1993</td>\n",
       "      <td>manual</td>\n",
       "      <td>0</td>\n",
       "      <td>golf</td>\n",
       "      <td>150000</td>\n",
       "      <td>0</td>\n",
       "      <td>petrol</td>\n",
       "      <td>volkswagen</td>\n",
       "      <td>NaN</td>\n",
       "      <td>2016-03-24 00:00:00</td>\n",
       "      <td>0</td>\n",
       "      <td>70435</td>\n",
       "      <td>2016-04-07 03:16:57</td>\n",
       "    </tr>\n",
       "    <tr>\n",
       "      <th>1</th>\n",
       "      <td>2016-03-24 10:58:45</td>\n",
       "      <td>18300</td>\n",
       "      <td>coupe</td>\n",
       "      <td>2011</td>\n",
       "      <td>manual</td>\n",
       "      <td>190</td>\n",
       "      <td>NaN</td>\n",
       "      <td>125000</td>\n",
       "      <td>5</td>\n",
       "      <td>gasoline</td>\n",
       "      <td>audi</td>\n",
       "      <td>yes</td>\n",
       "      <td>2016-03-24 00:00:00</td>\n",
       "      <td>0</td>\n",
       "      <td>66954</td>\n",
       "      <td>2016-04-07 01:46:50</td>\n",
       "    </tr>\n",
       "    <tr>\n",
       "      <th>2</th>\n",
       "      <td>2016-03-14 12:52:21</td>\n",
       "      <td>9800</td>\n",
       "      <td>suv</td>\n",
       "      <td>2004</td>\n",
       "      <td>auto</td>\n",
       "      <td>163</td>\n",
       "      <td>grand</td>\n",
       "      <td>125000</td>\n",
       "      <td>8</td>\n",
       "      <td>gasoline</td>\n",
       "      <td>jeep</td>\n",
       "      <td>NaN</td>\n",
       "      <td>2016-03-14 00:00:00</td>\n",
       "      <td>0</td>\n",
       "      <td>90480</td>\n",
       "      <td>2016-04-05 12:47:46</td>\n",
       "    </tr>\n",
       "    <tr>\n",
       "      <th>3</th>\n",
       "      <td>2016-03-17 16:54:04</td>\n",
       "      <td>1500</td>\n",
       "      <td>small</td>\n",
       "      <td>2001</td>\n",
       "      <td>manual</td>\n",
       "      <td>75</td>\n",
       "      <td>golf</td>\n",
       "      <td>150000</td>\n",
       "      <td>6</td>\n",
       "      <td>petrol</td>\n",
       "      <td>volkswagen</td>\n",
       "      <td>no</td>\n",
       "      <td>2016-03-17 00:00:00</td>\n",
       "      <td>0</td>\n",
       "      <td>91074</td>\n",
       "      <td>2016-03-17 17:40:17</td>\n",
       "    </tr>\n",
       "    <tr>\n",
       "      <th>4</th>\n",
       "      <td>2016-03-31 17:25:20</td>\n",
       "      <td>3600</td>\n",
       "      <td>small</td>\n",
       "      <td>2008</td>\n",
       "      <td>manual</td>\n",
       "      <td>69</td>\n",
       "      <td>fabia</td>\n",
       "      <td>90000</td>\n",
       "      <td>7</td>\n",
       "      <td>gasoline</td>\n",
       "      <td>skoda</td>\n",
       "      <td>no</td>\n",
       "      <td>2016-03-31 00:00:00</td>\n",
       "      <td>0</td>\n",
       "      <td>60437</td>\n",
       "      <td>2016-04-06 10:17:21</td>\n",
       "    </tr>\n",
       "  </tbody>\n",
       "</table>\n",
       "</div>"
      ],
      "text/plain": [
       "           DateCrawled  Price VehicleType  RegistrationYear Gearbox  Power  \\\n",
       "0  2016-03-24 11:52:17    480         NaN              1993  manual      0   \n",
       "1  2016-03-24 10:58:45  18300       coupe              2011  manual    190   \n",
       "2  2016-03-14 12:52:21   9800         suv              2004    auto    163   \n",
       "3  2016-03-17 16:54:04   1500       small              2001  manual     75   \n",
       "4  2016-03-31 17:25:20   3600       small              2008  manual     69   \n",
       "\n",
       "   Model  Kilometer  RegistrationMonth  FuelType       Brand Repaired  \\\n",
       "0   golf     150000                  0    petrol  volkswagen      NaN   \n",
       "1    NaN     125000                  5  gasoline        audi      yes   \n",
       "2  grand     125000                  8  gasoline        jeep      NaN   \n",
       "3   golf     150000                  6    petrol  volkswagen       no   \n",
       "4  fabia      90000                  7  gasoline       skoda       no   \n",
       "\n",
       "           DateCreated  NumberOfPictures  PostalCode             LastSeen  \n",
       "0  2016-03-24 00:00:00                 0       70435  2016-04-07 03:16:57  \n",
       "1  2016-03-24 00:00:00                 0       66954  2016-04-07 01:46:50  \n",
       "2  2016-03-14 00:00:00                 0       90480  2016-04-05 12:47:46  \n",
       "3  2016-03-17 00:00:00                 0       91074  2016-03-17 17:40:17  \n",
       "4  2016-03-31 00:00:00                 0       60437  2016-04-06 10:17:21  "
      ]
     },
     "execution_count": 6,
     "metadata": {},
     "output_type": "execute_result"
    }
   ],
   "source": [
    "data.head()"
   ]
  },
  {
   "cell_type": "markdown",
   "metadata": {},
   "source": [
    "Оценка методом `describe`"
   ]
  },
  {
   "cell_type": "code",
   "execution_count": 7,
   "metadata": {},
   "outputs": [
    {
     "data": {
      "text/html": [
       "<div>\n",
       "<style scoped>\n",
       "    .dataframe tbody tr th:only-of-type {\n",
       "        vertical-align: middle;\n",
       "    }\n",
       "\n",
       "    .dataframe tbody tr th {\n",
       "        vertical-align: top;\n",
       "    }\n",
       "\n",
       "    .dataframe thead th {\n",
       "        text-align: right;\n",
       "    }\n",
       "</style>\n",
       "<table border=\"1\" class=\"dataframe\">\n",
       "  <thead>\n",
       "    <tr style=\"text-align: right;\">\n",
       "      <th></th>\n",
       "      <th>Price</th>\n",
       "      <th>RegistrationYear</th>\n",
       "      <th>Power</th>\n",
       "      <th>Kilometer</th>\n",
       "      <th>RegistrationMonth</th>\n",
       "      <th>NumberOfPictures</th>\n",
       "      <th>PostalCode</th>\n",
       "    </tr>\n",
       "  </thead>\n",
       "  <tbody>\n",
       "    <tr>\n",
       "      <th>count</th>\n",
       "      <td>354369.000000</td>\n",
       "      <td>354369.000000</td>\n",
       "      <td>354369.000000</td>\n",
       "      <td>354369.000000</td>\n",
       "      <td>354369.000000</td>\n",
       "      <td>354369.0</td>\n",
       "      <td>354369.000000</td>\n",
       "    </tr>\n",
       "    <tr>\n",
       "      <th>mean</th>\n",
       "      <td>4416.656776</td>\n",
       "      <td>2004.234448</td>\n",
       "      <td>110.094337</td>\n",
       "      <td>128211.172535</td>\n",
       "      <td>5.714645</td>\n",
       "      <td>0.0</td>\n",
       "      <td>50508.689087</td>\n",
       "    </tr>\n",
       "    <tr>\n",
       "      <th>std</th>\n",
       "      <td>4514.158514</td>\n",
       "      <td>90.227958</td>\n",
       "      <td>189.850405</td>\n",
       "      <td>37905.341530</td>\n",
       "      <td>3.726421</td>\n",
       "      <td>0.0</td>\n",
       "      <td>25783.096248</td>\n",
       "    </tr>\n",
       "    <tr>\n",
       "      <th>min</th>\n",
       "      <td>0.000000</td>\n",
       "      <td>1000.000000</td>\n",
       "      <td>0.000000</td>\n",
       "      <td>5000.000000</td>\n",
       "      <td>0.000000</td>\n",
       "      <td>0.0</td>\n",
       "      <td>1067.000000</td>\n",
       "    </tr>\n",
       "    <tr>\n",
       "      <th>25%</th>\n",
       "      <td>1050.000000</td>\n",
       "      <td>1999.000000</td>\n",
       "      <td>69.000000</td>\n",
       "      <td>125000.000000</td>\n",
       "      <td>3.000000</td>\n",
       "      <td>0.0</td>\n",
       "      <td>30165.000000</td>\n",
       "    </tr>\n",
       "    <tr>\n",
       "      <th>50%</th>\n",
       "      <td>2700.000000</td>\n",
       "      <td>2003.000000</td>\n",
       "      <td>105.000000</td>\n",
       "      <td>150000.000000</td>\n",
       "      <td>6.000000</td>\n",
       "      <td>0.0</td>\n",
       "      <td>49413.000000</td>\n",
       "    </tr>\n",
       "    <tr>\n",
       "      <th>75%</th>\n",
       "      <td>6400.000000</td>\n",
       "      <td>2008.000000</td>\n",
       "      <td>143.000000</td>\n",
       "      <td>150000.000000</td>\n",
       "      <td>9.000000</td>\n",
       "      <td>0.0</td>\n",
       "      <td>71083.000000</td>\n",
       "    </tr>\n",
       "    <tr>\n",
       "      <th>max</th>\n",
       "      <td>20000.000000</td>\n",
       "      <td>9999.000000</td>\n",
       "      <td>20000.000000</td>\n",
       "      <td>150000.000000</td>\n",
       "      <td>12.000000</td>\n",
       "      <td>0.0</td>\n",
       "      <td>99998.000000</td>\n",
       "    </tr>\n",
       "  </tbody>\n",
       "</table>\n",
       "</div>"
      ],
      "text/plain": [
       "               Price  RegistrationYear          Power      Kilometer  \\\n",
       "count  354369.000000     354369.000000  354369.000000  354369.000000   \n",
       "mean     4416.656776       2004.234448     110.094337  128211.172535   \n",
       "std      4514.158514         90.227958     189.850405   37905.341530   \n",
       "min         0.000000       1000.000000       0.000000    5000.000000   \n",
       "25%      1050.000000       1999.000000      69.000000  125000.000000   \n",
       "50%      2700.000000       2003.000000     105.000000  150000.000000   \n",
       "75%      6400.000000       2008.000000     143.000000  150000.000000   \n",
       "max     20000.000000       9999.000000   20000.000000  150000.000000   \n",
       "\n",
       "       RegistrationMonth  NumberOfPictures     PostalCode  \n",
       "count      354369.000000          354369.0  354369.000000  \n",
       "mean            5.714645               0.0   50508.689087  \n",
       "std             3.726421               0.0   25783.096248  \n",
       "min             0.000000               0.0    1067.000000  \n",
       "25%             3.000000               0.0   30165.000000  \n",
       "50%             6.000000               0.0   49413.000000  \n",
       "75%             9.000000               0.0   71083.000000  \n",
       "max            12.000000               0.0   99998.000000  "
      ]
     },
     "execution_count": 7,
     "metadata": {},
     "output_type": "execute_result"
    }
   ],
   "source": [
    "data.describe()"
   ]
  },
  {
   "cell_type": "markdown",
   "metadata": {},
   "source": [
    "*Некоторые имена столбцов состоят из нескольких слов, разделение идёт по символам верхнего регистра. Заметно наличие пропусков в данных. Некоторые признаки, предположительно не носят информативный характер и их стоит удалить:* **DateCrawled, DateCreated, NumberOfPictures, PostalCode, LastSeen , RegistrationMonth.** \n",
    "\n",
    "Заметно наличие выбросов, некоторые значения сразу говорят об ошибках в столбцах: **Price, RegistrationYear, Power, RegistrationMonth.**"
   ]
  },
  {
   "cell_type": "markdown",
   "metadata": {},
   "source": [
    "Получение представления о данных методом `info`"
   ]
  },
  {
   "cell_type": "code",
   "execution_count": 8,
   "metadata": {},
   "outputs": [
    {
     "name": "stdout",
     "output_type": "stream",
     "text": [
      "<class 'pandas.core.frame.DataFrame'>\n",
      "RangeIndex: 354369 entries, 0 to 354368\n",
      "Data columns (total 16 columns):\n",
      " #   Column             Non-Null Count   Dtype \n",
      "---  ------             --------------   ----- \n",
      " 0   DateCrawled        354369 non-null  object\n",
      " 1   Price              354369 non-null  int64 \n",
      " 2   VehicleType        316879 non-null  object\n",
      " 3   RegistrationYear   354369 non-null  int64 \n",
      " 4   Gearbox            334536 non-null  object\n",
      " 5   Power              354369 non-null  int64 \n",
      " 6   Model              334664 non-null  object\n",
      " 7   Kilometer          354369 non-null  int64 \n",
      " 8   RegistrationMonth  354369 non-null  int64 \n",
      " 9   FuelType           321474 non-null  object\n",
      " 10  Brand              354369 non-null  object\n",
      " 11  Repaired           283215 non-null  object\n",
      " 12  DateCreated        354369 non-null  object\n",
      " 13  NumberOfPictures   354369 non-null  int64 \n",
      " 14  PostalCode         354369 non-null  int64 \n",
      " 15  LastSeen           354369 non-null  object\n",
      "dtypes: int64(7), object(9)\n",
      "memory usage: 43.3+ MB\n"
     ]
    }
   ],
   "source": [
    "data.info()"
   ]
  },
  {
   "cell_type": "markdown",
   "metadata": {},
   "source": [
    "1. Столбцы по типу данных, практически соответствуют себе. Возможно, стоит для столбцов с датой использовать datetime.\n",
    "2. Обнаружены пропуски в признаках. "
   ]
  },
  {
   "cell_type": "markdown",
   "metadata": {},
   "source": [
    "Выделим столбцы, где обнаружены пропуски и сделаем предположение о характере пропусков."
   ]
  },
  {
   "cell_type": "code",
   "execution_count": 9,
   "metadata": {},
   "outputs": [
    {
     "data": {
      "text/html": [
       "<div>\n",
       "<style scoped>\n",
       "    .dataframe tbody tr th:only-of-type {\n",
       "        vertical-align: middle;\n",
       "    }\n",
       "\n",
       "    .dataframe tbody tr th {\n",
       "        vertical-align: top;\n",
       "    }\n",
       "\n",
       "    .dataframe thead th {\n",
       "        text-align: right;\n",
       "    }\n",
       "</style>\n",
       "<table border=\"1\" class=\"dataframe\">\n",
       "  <thead>\n",
       "    <tr style=\"text-align: right;\">\n",
       "      <th></th>\n",
       "      <th>количество</th>\n",
       "      <th>%</th>\n",
       "    </tr>\n",
       "  </thead>\n",
       "  <tbody>\n",
       "    <tr>\n",
       "      <th>Repaired</th>\n",
       "      <td>71154</td>\n",
       "      <td>20.08</td>\n",
       "    </tr>\n",
       "    <tr>\n",
       "      <th>VehicleType</th>\n",
       "      <td>37490</td>\n",
       "      <td>10.58</td>\n",
       "    </tr>\n",
       "    <tr>\n",
       "      <th>FuelType</th>\n",
       "      <td>32895</td>\n",
       "      <td>9.28</td>\n",
       "    </tr>\n",
       "    <tr>\n",
       "      <th>Gearbox</th>\n",
       "      <td>19833</td>\n",
       "      <td>5.60</td>\n",
       "    </tr>\n",
       "    <tr>\n",
       "      <th>Model</th>\n",
       "      <td>19705</td>\n",
       "      <td>5.56</td>\n",
       "    </tr>\n",
       "  </tbody>\n",
       "</table>\n",
       "</div>"
      ],
      "text/plain": [
       "             количество      %\n",
       "Repaired          71154  20.08\n",
       "VehicleType       37490  10.58\n",
       "FuelType          32895   9.28\n",
       "Gearbox           19833   5.60\n",
       "Model             19705   5.56"
      ]
     },
     "execution_count": 9,
     "metadata": {},
     "output_type": "execute_result"
    }
   ],
   "source": [
    "def how_percent(count, signs=2):\n",
    "    return round(count/data.shape[0] *100,signs)\n",
    "\n",
    "def isna_info(data):\n",
    "    isna_info = data.isna().sum().sort_values(ascending=False)\n",
    "    count = isna_info.loc[isna_info > 0]\n",
    "    percent = how_percent(count)\n",
    "    return pd.DataFrame({'количество':count, '%':percent})\n",
    "\n",
    "isna_info(data)"
   ]
  },
  {
   "cell_type": "markdown",
   "metadata": {},
   "source": [
    "- repaired — наличие пропусков вызвано, скорее всего, отсутствие машины в ремонте, вероятно, это новый автомобиль или автомбиль, который долгое время не использовался, также не стоит исключать вероятность пропуска в данных в результате ошибки; \n",
    "- vehicle_type, fuel_type, gearbox, model — вероятно, вызван ошибкой в данных или не возможностью заполняющего корректно указать значение.\n"
   ]
  },
  {
   "cell_type": "markdown",
   "metadata": {},
   "source": [
    "### Первичная предобработка"
   ]
  },
  {
   "cell_type": "markdown",
   "metadata": {},
   "source": [
    "#### Корректрировка имён столбцов"
   ]
  },
  {
   "cell_type": "markdown",
   "metadata": {},
   "source": [
    "Обнаруженные недочёты в именах столбцов устраним. Определим функцию для переименования столбцов."
   ]
  },
  {
   "cell_type": "code",
   "execution_count": 10,
   "metadata": {},
   "outputs": [],
   "source": [
    "def renaming_columns(data):\n",
    "    \"\"\"Функция меняет имена столбцов, \n",
    "    переводит в нижний регистр имена и \n",
    "    разделяет нижним подчёркиванием слова.\n",
    "    \"\"\"\n",
    "    columns = []\n",
    "    for el in data.columns:\n",
    "        word = ''\n",
    "        for i in range(len(el)):\n",
    "            if el[i].islower():\n",
    "                word += el[i]\n",
    "            elif el[i].isupper() and i > 0:\n",
    "                word += '_' + el[i].lower()\n",
    "            else: \n",
    "                word += el[i].lower()\n",
    "        columns.append(word)\n",
    "    print(f'after update: {columns}')    \n",
    "    return columns"
   ]
  },
  {
   "cell_type": "code",
   "execution_count": 11,
   "metadata": {},
   "outputs": [
    {
     "name": "stdout",
     "output_type": "stream",
     "text": [
      "after update: ['date_crawled', 'price', 'vehicle_type', 'registration_year', 'gearbox', 'power', 'model', 'kilometer', 'registration_month', 'fuel_type', 'brand', 'repaired', 'date_created', 'number_of_pictures', 'postal_code', 'last_seen']\n"
     ]
    }
   ],
   "source": [
    "data.columns = renaming_columns(data)"
   ]
  },
  {
   "cell_type": "markdown",
   "metadata": {},
   "source": [
    "#### Корректировка типов данных"
   ]
  },
  {
   "cell_type": "markdown",
   "metadata": {},
   "source": [
    "Определим функцию для корректировки столбцов в которых имеется отношение к дате и времени."
   ]
  },
  {
   "cell_type": "code",
   "execution_count": 12,
   "metadata": {},
   "outputs": [],
   "source": [
    "def type_date(data):\n",
    "    dates = ['date_crawled', 'date_created', 'last_seen']\n",
    "    for el in dates:\n",
    "        data[el] = pd.to_datetime(data[el], format='%Y-%m-%d %H:%M:%S')\n",
    "        \n",
    "    return data"
   ]
  },
  {
   "cell_type": "code",
   "execution_count": 13,
   "metadata": {},
   "outputs": [],
   "source": [
    "data = type_date(data)"
   ]
  },
  {
   "cell_type": "markdown",
   "metadata": {},
   "source": [
    "#### Оценка и удаление столбцов"
   ]
  },
  {
   "cell_type": "markdown",
   "metadata": {},
   "source": [
    "Решим вопрос про удаление выявленных ранее, потенциально не нужных столбцов: DateCrawled, DateCreated, NumberOfPictures, PostalCode, LastSeen, RegistrationMonth."
   ]
  },
  {
   "cell_type": "code",
   "execution_count": 14,
   "metadata": {},
   "outputs": [
    {
     "data": {
      "text/html": [
       "<div>\n",
       "<style scoped>\n",
       "    .dataframe tbody tr th:only-of-type {\n",
       "        vertical-align: middle;\n",
       "    }\n",
       "\n",
       "    .dataframe tbody tr th {\n",
       "        vertical-align: top;\n",
       "    }\n",
       "\n",
       "    .dataframe thead th {\n",
       "        text-align: right;\n",
       "    }\n",
       "</style>\n",
       "<table border=\"1\" class=\"dataframe\">\n",
       "  <thead>\n",
       "    <tr style=\"text-align: right;\">\n",
       "      <th></th>\n",
       "      <th>date_crawled</th>\n",
       "      <th>price</th>\n",
       "      <th>vehicle_type</th>\n",
       "      <th>registration_year</th>\n",
       "      <th>gearbox</th>\n",
       "      <th>power</th>\n",
       "      <th>model</th>\n",
       "      <th>kilometer</th>\n",
       "      <th>registration_month</th>\n",
       "      <th>fuel_type</th>\n",
       "      <th>brand</th>\n",
       "      <th>repaired</th>\n",
       "      <th>date_created</th>\n",
       "      <th>number_of_pictures</th>\n",
       "      <th>postal_code</th>\n",
       "      <th>last_seen</th>\n",
       "    </tr>\n",
       "  </thead>\n",
       "  <tbody>\n",
       "    <tr>\n",
       "      <th>0</th>\n",
       "      <td>2016-03-24 11:52:17</td>\n",
       "      <td>480</td>\n",
       "      <td>NaN</td>\n",
       "      <td>1993</td>\n",
       "      <td>manual</td>\n",
       "      <td>0</td>\n",
       "      <td>golf</td>\n",
       "      <td>150000</td>\n",
       "      <td>0</td>\n",
       "      <td>petrol</td>\n",
       "      <td>volkswagen</td>\n",
       "      <td>NaN</td>\n",
       "      <td>2016-03-24</td>\n",
       "      <td>0</td>\n",
       "      <td>70435</td>\n",
       "      <td>2016-04-07 03:16:57</td>\n",
       "    </tr>\n",
       "    <tr>\n",
       "      <th>1</th>\n",
       "      <td>2016-03-24 10:58:45</td>\n",
       "      <td>18300</td>\n",
       "      <td>coupe</td>\n",
       "      <td>2011</td>\n",
       "      <td>manual</td>\n",
       "      <td>190</td>\n",
       "      <td>NaN</td>\n",
       "      <td>125000</td>\n",
       "      <td>5</td>\n",
       "      <td>gasoline</td>\n",
       "      <td>audi</td>\n",
       "      <td>yes</td>\n",
       "      <td>2016-03-24</td>\n",
       "      <td>0</td>\n",
       "      <td>66954</td>\n",
       "      <td>2016-04-07 01:46:50</td>\n",
       "    </tr>\n",
       "    <tr>\n",
       "      <th>2</th>\n",
       "      <td>2016-03-14 12:52:21</td>\n",
       "      <td>9800</td>\n",
       "      <td>suv</td>\n",
       "      <td>2004</td>\n",
       "      <td>auto</td>\n",
       "      <td>163</td>\n",
       "      <td>grand</td>\n",
       "      <td>125000</td>\n",
       "      <td>8</td>\n",
       "      <td>gasoline</td>\n",
       "      <td>jeep</td>\n",
       "      <td>NaN</td>\n",
       "      <td>2016-03-14</td>\n",
       "      <td>0</td>\n",
       "      <td>90480</td>\n",
       "      <td>2016-04-05 12:47:46</td>\n",
       "    </tr>\n",
       "    <tr>\n",
       "      <th>3</th>\n",
       "      <td>2016-03-17 16:54:04</td>\n",
       "      <td>1500</td>\n",
       "      <td>small</td>\n",
       "      <td>2001</td>\n",
       "      <td>manual</td>\n",
       "      <td>75</td>\n",
       "      <td>golf</td>\n",
       "      <td>150000</td>\n",
       "      <td>6</td>\n",
       "      <td>petrol</td>\n",
       "      <td>volkswagen</td>\n",
       "      <td>no</td>\n",
       "      <td>2016-03-17</td>\n",
       "      <td>0</td>\n",
       "      <td>91074</td>\n",
       "      <td>2016-03-17 17:40:17</td>\n",
       "    </tr>\n",
       "    <tr>\n",
       "      <th>4</th>\n",
       "      <td>2016-03-31 17:25:20</td>\n",
       "      <td>3600</td>\n",
       "      <td>small</td>\n",
       "      <td>2008</td>\n",
       "      <td>manual</td>\n",
       "      <td>69</td>\n",
       "      <td>fabia</td>\n",
       "      <td>90000</td>\n",
       "      <td>7</td>\n",
       "      <td>gasoline</td>\n",
       "      <td>skoda</td>\n",
       "      <td>no</td>\n",
       "      <td>2016-03-31</td>\n",
       "      <td>0</td>\n",
       "      <td>60437</td>\n",
       "      <td>2016-04-06 10:17:21</td>\n",
       "    </tr>\n",
       "  </tbody>\n",
       "</table>\n",
       "</div>"
      ],
      "text/plain": [
       "         date_crawled  price vehicle_type  registration_year gearbox  power  \\\n",
       "0 2016-03-24 11:52:17    480          NaN               1993  manual      0   \n",
       "1 2016-03-24 10:58:45  18300        coupe               2011  manual    190   \n",
       "2 2016-03-14 12:52:21   9800          suv               2004    auto    163   \n",
       "3 2016-03-17 16:54:04   1500        small               2001  manual     75   \n",
       "4 2016-03-31 17:25:20   3600        small               2008  manual     69   \n",
       "\n",
       "   model  kilometer  registration_month fuel_type       brand repaired  \\\n",
       "0   golf     150000                   0    petrol  volkswagen      NaN   \n",
       "1    NaN     125000                   5  gasoline        audi      yes   \n",
       "2  grand     125000                   8  gasoline        jeep      NaN   \n",
       "3   golf     150000                   6    petrol  volkswagen       no   \n",
       "4  fabia      90000                   7  gasoline       skoda       no   \n",
       "\n",
       "  date_created  number_of_pictures  postal_code           last_seen  \n",
       "0   2016-03-24                   0        70435 2016-04-07 03:16:57  \n",
       "1   2016-03-24                   0        66954 2016-04-07 01:46:50  \n",
       "2   2016-03-14                   0        90480 2016-04-05 12:47:46  \n",
       "3   2016-03-17                   0        91074 2016-03-17 17:40:17  \n",
       "4   2016-03-31                   0        60437 2016-04-06 10:17:21  "
      ]
     },
     "execution_count": 14,
     "metadata": {},
     "output_type": "execute_result"
    }
   ],
   "source": [
    "data.head()"
   ]
  },
  {
   "cell_type": "markdown",
   "metadata": {},
   "source": [
    "*Столбцы number_of_pictures и postal_code не несут значимой информации, их можно удалить. Эти данные скорее могут увеличить популярность объявления, чем его стоимость.*"
   ]
  },
  {
   "cell_type": "markdown",
   "metadata": {},
   "source": [
    "Столбцы, которые несут информацию о времени размещения объявления, последнем входе пользователя и дате скачивания не несут прямой информации о стоимости. Характер этих столбцов может косвенно влиять на неё, например, если дата размещения объявления очень старая и она уже не соответствует курсу. Оценим целесообразность удаления этих столбцов."
   ]
  },
  {
   "cell_type": "code",
   "execution_count": 15,
   "metadata": {},
   "outputs": [
    {
     "data": {
      "image/png": "[encoded data removed]",
      "text/plain": [
       "<Figure size 800x400 with 1 Axes>"
      ]
     },
     "metadata": {},
     "output_type": "display_data"
    }
   ],
   "source": [
    "data.hist('registration_month', bins = 12, figsize=(8,4), xrot=90, xlabelsize=9);"
   ]
  },
  {
   "cell_type": "code",
   "execution_count": 16,
   "metadata": {},
   "outputs": [
    {
     "data": {
      "text/plain": [
       "10.54"
      ]
     },
     "execution_count": 16,
     "metadata": {},
     "output_type": "execute_result"
    }
   ],
   "source": [
    "how_percent(data.loc[data['registration_month'] == 0].shape[0])"
   ]
  },
  {
   "cell_type": "markdown",
   "metadata": {},
   "source": [
    "*Месяц регистрации представленный 0, скорее всего обозначает пропуск в данных. Остальные данные представлены нормально, где наиболее популярным месяцем регистрации авто является декабрь. Данные в этом столбце не сказываются на стоимость.*"
   ]
  },
  {
   "cell_type": "markdown",
   "metadata": {},
   "source": [
    "Оценим, когда анкеты были созданы"
   ]
  },
  {
   "cell_type": "code",
   "execution_count": 17,
   "metadata": {},
   "outputs": [
    {
     "data": {
      "image/png": "[encoded data removed]",
      "text/plain": [
       "<Figure size 1100x400 with 1 Axes>"
      ]
     },
     "metadata": {},
     "output_type": "display_data"
    }
   ],
   "source": [
    "data.hist('date_created', bins = 400, figsize=(11,4), xrot=90, xlabelsize=9);"
   ]
  },
  {
   "cell_type": "code",
   "execution_count": 18,
   "metadata": {},
   "outputs": [
    {
     "data": {
      "text/plain": [
       "2015-11-10    1\n",
       "2016-01-06    1\n",
       "2015-03-20    1\n",
       "2015-06-18    1\n",
       "2015-11-12    1\n",
       "Name: date_created, dtype: int64"
      ]
     },
     "execution_count": 18,
     "metadata": {},
     "output_type": "execute_result"
    }
   ],
   "source": [
    "date_created_values = data['date_created'].sort_values().value_counts()\n",
    "date_created_values.tail()"
   ]
  },
  {
   "cell_type": "code",
   "execution_count": 19,
   "metadata": {},
   "outputs": [
    {
     "name": "stdout",
     "output_type": "stream",
     "text": [
      "20\n"
     ]
    }
   ],
   "source": [
    "print(date_created_values.loc[date_created_values < 2].count())"
   ]
  },
  {
   "cell_type": "markdown",
   "metadata": {},
   "source": [
    "*Достаточно большое количество объявлений представлено в одном промежутке времени, однако, существует множество одиноких объявлений, созданных, вероятно в самом начале организации сервиса по продажам.*"
   ]
  },
  {
   "cell_type": "markdown",
   "metadata": {},
   "source": [
    "Оценим, когда была последняя активность"
   ]
  },
  {
   "cell_type": "code",
   "execution_count": 20,
   "metadata": {},
   "outputs": [
    {
     "data": {
      "image/png": "[encoded data removed]",
      "text/plain": [
       "<Figure size 1100x400 with 1 Axes>"
      ]
     },
     "metadata": {},
     "output_type": "display_data"
    }
   ],
   "source": [
    "data.hist('last_seen', bins = 400, figsize=(11,4), xrot=90, xlabelsize=9);"
   ]
  },
  {
   "cell_type": "markdown",
   "metadata": {},
   "source": [
    "Оценим, когда объявление было скачано"
   ]
  },
  {
   "cell_type": "code",
   "execution_count": 21,
   "metadata": {},
   "outputs": [
    {
     "data": {
      "image/png": "[encoded data removed]",
      "text/plain": [
       "<Figure size 1100x400 with 1 Axes>"
      ]
     },
     "metadata": {},
     "output_type": "display_data"
    }
   ],
   "source": [
    "data.hist('date_crawled', bins = 400, figsize=(11,4), xrot=90, xlabelsize=9);"
   ]
  },
  {
   "cell_type": "markdown",
   "metadata": {},
   "source": [
    "Сопоставим три таблицы"
   ]
  },
  {
   "cell_type": "code",
   "execution_count": 22,
   "metadata": {},
   "outputs": [
    {
     "data": {
      "text/html": [
       "<div>\n",
       "<style scoped>\n",
       "    .dataframe tbody tr th:only-of-type {\n",
       "        vertical-align: middle;\n",
       "    }\n",
       "\n",
       "    .dataframe tbody tr th {\n",
       "        vertical-align: top;\n",
       "    }\n",
       "\n",
       "    .dataframe thead th {\n",
       "        text-align: right;\n",
       "    }\n",
       "</style>\n",
       "<table border=\"1\" class=\"dataframe\">\n",
       "  <thead>\n",
       "    <tr style=\"text-align: right;\">\n",
       "      <th></th>\n",
       "      <th>date_crawled</th>\n",
       "      <th>date_created</th>\n",
       "      <th>last_seen</th>\n",
       "    </tr>\n",
       "  </thead>\n",
       "  <tbody>\n",
       "    <tr>\n",
       "      <th>61207</th>\n",
       "      <td>2016-03-16 11:48:06</td>\n",
       "      <td>2014-03-10</td>\n",
       "      <td>2016-04-07 04:46:24</td>\n",
       "    </tr>\n",
       "    <tr>\n",
       "      <th>4001</th>\n",
       "      <td>2016-03-23 14:42:46</td>\n",
       "      <td>2015-03-20</td>\n",
       "      <td>2016-04-07 03:45:01</td>\n",
       "    </tr>\n",
       "    <tr>\n",
       "      <th>342275</th>\n",
       "      <td>2016-03-05 21:44:26</td>\n",
       "      <td>2015-06-18</td>\n",
       "      <td>2016-04-05 17:46:09</td>\n",
       "    </tr>\n",
       "    <tr>\n",
       "      <th>86601</th>\n",
       "      <td>2016-04-02 19:47:40</td>\n",
       "      <td>2015-08-07</td>\n",
       "      <td>2016-04-07 09:15:23</td>\n",
       "    </tr>\n",
       "    <tr>\n",
       "      <th>175103</th>\n",
       "      <td>2016-03-08 17:57:45</td>\n",
       "      <td>2015-08-10</td>\n",
       "      <td>2016-04-05 20:46:54</td>\n",
       "    </tr>\n",
       "    <tr>\n",
       "      <th>221002</th>\n",
       "      <td>2016-03-15 01:56:49</td>\n",
       "      <td>2015-09-04</td>\n",
       "      <td>2016-03-15 15:49:29</td>\n",
       "    </tr>\n",
       "    <tr>\n",
       "      <th>75598</th>\n",
       "      <td>2016-03-14 08:43:53</td>\n",
       "      <td>2015-09-04</td>\n",
       "      <td>2016-03-15 14:16:58</td>\n",
       "    </tr>\n",
       "    <tr>\n",
       "      <th>340616</th>\n",
       "      <td>2016-03-05 21:51:02</td>\n",
       "      <td>2015-09-09</td>\n",
       "      <td>2016-04-05 17:46:04</td>\n",
       "    </tr>\n",
       "    <tr>\n",
       "      <th>9972</th>\n",
       "      <td>2016-03-05 17:53:53</td>\n",
       "      <td>2015-11-02</td>\n",
       "      <td>2016-03-17 15:46:57</td>\n",
       "    </tr>\n",
       "    <tr>\n",
       "      <th>161567</th>\n",
       "      <td>2016-03-05 14:31:01</td>\n",
       "      <td>2015-11-08</td>\n",
       "      <td>2016-04-06 23:15:36</td>\n",
       "    </tr>\n",
       "  </tbody>\n",
       "</table>\n",
       "</div>"
      ],
      "text/plain": [
       "              date_crawled date_created           last_seen\n",
       "61207  2016-03-16 11:48:06   2014-03-10 2016-04-07 04:46:24\n",
       "4001   2016-03-23 14:42:46   2015-03-20 2016-04-07 03:45:01\n",
       "342275 2016-03-05 21:44:26   2015-06-18 2016-04-05 17:46:09\n",
       "86601  2016-04-02 19:47:40   2015-08-07 2016-04-07 09:15:23\n",
       "175103 2016-03-08 17:57:45   2015-08-10 2016-04-05 20:46:54\n",
       "221002 2016-03-15 01:56:49   2015-09-04 2016-03-15 15:49:29\n",
       "75598  2016-03-14 08:43:53   2015-09-04 2016-03-15 14:16:58\n",
       "340616 2016-03-05 21:51:02   2015-09-09 2016-04-05 17:46:04\n",
       "9972   2016-03-05 17:53:53   2015-11-02 2016-03-17 15:46:57\n",
       "161567 2016-03-05 14:31:01   2015-11-08 2016-04-06 23:15:36"
      ]
     },
     "execution_count": 22,
     "metadata": {},
     "output_type": "execute_result"
    }
   ],
   "source": [
    "data.loc[:, ['date_crawled', 'date_created', 'last_seen']].sort_values(by='date_created').head(10)"
   ]
  },
  {
   "cell_type": "markdown",
   "metadata": {},
   "source": [
    "*Из гистограмм видно, что дата скачивания объявления не всегда соответствует его актуальности. Для корректного обучения модели, лучше всего выбрать промежуток, где за определённый момент времени цены на авто формируются наиболее большим набором данных. Из этого следует что будет не лишним ограничить выборку по дате создания анкеты.*"
   ]
  },
  {
   "cell_type": "markdown",
   "metadata": {},
   "source": [
    "Определим промежуток времени"
   ]
  },
  {
   "cell_type": "code",
   "execution_count": 23,
   "metadata": {},
   "outputs": [
    {
     "data": {
      "text/plain": [
       "count                           354369\n",
       "mean     2016-03-20 19:12:07.753274112\n",
       "min                2014-03-10 00:00:00\n",
       "25%                2016-03-13 00:00:00\n",
       "50%                2016-03-21 00:00:00\n",
       "75%                2016-03-29 00:00:00\n",
       "max                2016-04-07 00:00:00\n",
       "Name: date_created, dtype: object"
      ]
     },
     "execution_count": 23,
     "metadata": {},
     "output_type": "execute_result"
    }
   ],
   "source": [
    "data['date_created'].describe(datetime_is_numeric=True)"
   ]
  },
  {
   "cell_type": "code",
   "execution_count": 24,
   "metadata": {},
   "outputs": [
    {
     "data": {
      "text/html": [
       "<div>\n",
       "<style scoped>\n",
       "    .dataframe tbody tr th:only-of-type {\n",
       "        vertical-align: middle;\n",
       "    }\n",
       "\n",
       "    .dataframe tbody tr th {\n",
       "        vertical-align: top;\n",
       "    }\n",
       "\n",
       "    .dataframe thead th {\n",
       "        text-align: right;\n",
       "    }\n",
       "</style>\n",
       "<table border=\"1\" class=\"dataframe\">\n",
       "  <thead>\n",
       "    <tr style=\"text-align: right;\">\n",
       "      <th></th>\n",
       "      <th>index</th>\n",
       "      <th>date_created</th>\n",
       "    </tr>\n",
       "  </thead>\n",
       "  <tbody>\n",
       "    <tr>\n",
       "      <th>13</th>\n",
       "      <td>2016-03-08</td>\n",
       "      <td>11854</td>\n",
       "    </tr>\n",
       "    <tr>\n",
       "      <th>8</th>\n",
       "      <td>2016-03-07</td>\n",
       "      <td>12244</td>\n",
       "    </tr>\n",
       "    <tr>\n",
       "      <th>29</th>\n",
       "      <td>2016-03-06</td>\n",
       "      <td>5505</td>\n",
       "    </tr>\n",
       "    <tr>\n",
       "      <th>27</th>\n",
       "      <td>2016-03-05</td>\n",
       "      <td>8186</td>\n",
       "    </tr>\n",
       "    <tr>\n",
       "      <th>33</th>\n",
       "      <td>2016-03-04</td>\n",
       "      <td>601</td>\n",
       "    </tr>\n",
       "    <tr>\n",
       "      <th>35</th>\n",
       "      <td>2016-03-03</td>\n",
       "      <td>396</td>\n",
       "    </tr>\n",
       "    <tr>\n",
       "      <th>39</th>\n",
       "      <td>2016-03-02</td>\n",
       "      <td>37</td>\n",
       "    </tr>\n",
       "    <tr>\n",
       "      <th>36</th>\n",
       "      <td>2016-03-01</td>\n",
       "      <td>50</td>\n",
       "    </tr>\n",
       "    <tr>\n",
       "      <th>38</th>\n",
       "      <td>2016-02-29</td>\n",
       "      <td>46</td>\n",
       "    </tr>\n",
       "    <tr>\n",
       "      <th>37</th>\n",
       "      <td>2016-02-28</td>\n",
       "      <td>49</td>\n",
       "    </tr>\n",
       "  </tbody>\n",
       "</table>\n",
       "</div>"
      ],
      "text/plain": [
       "        index  date_created\n",
       "13 2016-03-08         11854\n",
       "8  2016-03-07         12244\n",
       "29 2016-03-06          5505\n",
       "27 2016-03-05          8186\n",
       "33 2016-03-04           601\n",
       "35 2016-03-03           396\n",
       "39 2016-03-02            37\n",
       "36 2016-03-01            50\n",
       "38 2016-02-29            46\n",
       "37 2016-02-28            49"
      ]
     },
     "execution_count": 24,
     "metadata": {},
     "output_type": "execute_result"
    }
   ],
   "source": [
    "data_border = data['date_created'].value_counts()\n",
    "data_border = data_border.reset_index().sort_values(by='index', ascending = False)\n",
    "data_border.head(40)[30:]"
   ]
  },
  {
   "cell_type": "code",
   "execution_count": 25,
   "metadata": {},
   "outputs": [
    {
     "data": {
      "text/plain": [
       "99.55"
      ]
     },
     "execution_count": 25,
     "metadata": {},
     "output_type": "execute_result"
    }
   ],
   "source": [
    "how_percent(data_border.loc[data_border['index'] >= '2016-03-05', 'date_created'].sum()) "
   ]
  },
  {
   "cell_type": "markdown",
   "metadata": {},
   "source": [
    "*Определим границу датой 2016-03-05, отсекая меньше 1% данных.*"
   ]
  },
  {
   "cell_type": "code",
   "execution_count": 26,
   "metadata": {},
   "outputs": [],
   "source": [
    "data = data.loc[data['date_created'] >= '2016-03-05']"
   ]
  },
  {
   "cell_type": "code",
   "execution_count": 27,
   "metadata": {},
   "outputs": [
    {
     "data": {
      "image/png": "[encoded data removed]",
      "text/plain": [
       "<Figure size 1100x400 with 1 Axes>"
      ]
     },
     "metadata": {},
     "output_type": "display_data"
    }
   ],
   "source": [
    "data.hist('date_created', bins = 35, figsize=(11,4), xrot=90, xlabelsize=9);"
   ]
  },
  {
   "cell_type": "markdown",
   "metadata": {},
   "source": [
    "*Получив удовлетворительный результат, избавимся от столбцов, которые нам больше не нужны.*"
   ]
  },
  {
   "cell_type": "markdown",
   "metadata": {},
   "source": [
    "Определим функцию, произведём удаление"
   ]
  },
  {
   "cell_type": "code",
   "execution_count": 28,
   "metadata": {},
   "outputs": [],
   "source": [
    "def del_poor_cool(data):\n",
    "    poor_col = ['date_crawled', 'date_created', 'last_seen',\n",
    "                'number_of_pictures', 'postal_code', 'registration_month']\n",
    "    data = data.drop(poor_col, axis=1)\n",
    "    return data"
   ]
  },
  {
   "cell_type": "code",
   "execution_count": 29,
   "metadata": {},
   "outputs": [],
   "source": [
    "data = del_poor_cool(data)"
   ]
  },
  {
   "cell_type": "markdown",
   "metadata": {},
   "source": [
    "### Оценка значений"
   ]
  },
  {
   "cell_type": "markdown",
   "metadata": {},
   "source": [
    "Определим функцию для получения численного и процентного количества"
   ]
  },
  {
   "cell_type": "code",
   "execution_count": 30,
   "metadata": {},
   "outputs": [],
   "source": [
    "def values_with_percent(column):\n",
    "    ans = data[column].value_counts(dropna=False)\n",
    "    ans1 = how_percent(data[column].value_counts(dropna=False))\n",
    "    return pd.concat({column:ans, '(%)':ans1}, axis=1)"
   ]
  },
  {
   "cell_type": "markdown",
   "metadata": {},
   "source": [
    "Проведёи исследование данных, значений столбцов, их связей, дубликатов."
   ]
  },
  {
   "cell_type": "code",
   "execution_count": 31,
   "metadata": {},
   "outputs": [
    {
     "data": {
      "text/html": [
       "<div>\n",
       "<style scoped>\n",
       "    .dataframe tbody tr th:only-of-type {\n",
       "        vertical-align: middle;\n",
       "    }\n",
       "\n",
       "    .dataframe tbody tr th {\n",
       "        vertical-align: top;\n",
       "    }\n",
       "\n",
       "    .dataframe thead th {\n",
       "        text-align: right;\n",
       "    }\n",
       "</style>\n",
       "<table border=\"1\" class=\"dataframe\">\n",
       "  <thead>\n",
       "    <tr style=\"text-align: right;\">\n",
       "      <th></th>\n",
       "      <th>price</th>\n",
       "      <th>registration_year</th>\n",
       "      <th>power</th>\n",
       "      <th>kilometer</th>\n",
       "    </tr>\n",
       "  </thead>\n",
       "  <tbody>\n",
       "    <tr>\n",
       "      <th>count</th>\n",
       "      <td>352792.000000</td>\n",
       "      <td>352792.000000</td>\n",
       "      <td>352792.000000</td>\n",
       "      <td>352792.000000</td>\n",
       "    </tr>\n",
       "    <tr>\n",
       "      <th>mean</th>\n",
       "      <td>4412.256451</td>\n",
       "      <td>2004.238772</td>\n",
       "      <td>110.071793</td>\n",
       "      <td>128230.033561</td>\n",
       "    </tr>\n",
       "    <tr>\n",
       "      <th>std</th>\n",
       "      <td>4512.839543</td>\n",
       "      <td>90.412328</td>\n",
       "      <td>190.213601</td>\n",
       "      <td>37895.028368</td>\n",
       "    </tr>\n",
       "    <tr>\n",
       "      <th>min</th>\n",
       "      <td>0.000000</td>\n",
       "      <td>1000.000000</td>\n",
       "      <td>0.000000</td>\n",
       "      <td>5000.000000</td>\n",
       "    </tr>\n",
       "    <tr>\n",
       "      <th>25%</th>\n",
       "      <td>1050.000000</td>\n",
       "      <td>1999.000000</td>\n",
       "      <td>69.000000</td>\n",
       "      <td>125000.000000</td>\n",
       "    </tr>\n",
       "    <tr>\n",
       "      <th>50%</th>\n",
       "      <td>2700.000000</td>\n",
       "      <td>2003.000000</td>\n",
       "      <td>105.000000</td>\n",
       "      <td>150000.000000</td>\n",
       "    </tr>\n",
       "    <tr>\n",
       "      <th>75%</th>\n",
       "      <td>6399.000000</td>\n",
       "      <td>2008.000000</td>\n",
       "      <td>142.000000</td>\n",
       "      <td>150000.000000</td>\n",
       "    </tr>\n",
       "    <tr>\n",
       "      <th>max</th>\n",
       "      <td>20000.000000</td>\n",
       "      <td>9999.000000</td>\n",
       "      <td>20000.000000</td>\n",
       "      <td>150000.000000</td>\n",
       "    </tr>\n",
       "  </tbody>\n",
       "</table>\n",
       "</div>"
      ],
      "text/plain": [
       "               price  registration_year          power      kilometer\n",
       "count  352792.000000      352792.000000  352792.000000  352792.000000\n",
       "mean     4412.256451        2004.238772     110.071793  128230.033561\n",
       "std      4512.839543          90.412328     190.213601   37895.028368\n",
       "min         0.000000        1000.000000       0.000000    5000.000000\n",
       "25%      1050.000000        1999.000000      69.000000  125000.000000\n",
       "50%      2700.000000        2003.000000     105.000000  150000.000000\n",
       "75%      6399.000000        2008.000000     142.000000  150000.000000\n",
       "max     20000.000000        9999.000000   20000.000000  150000.000000"
      ]
     },
     "execution_count": 31,
     "metadata": {},
     "output_type": "execute_result"
    }
   ],
   "source": [
    "data.describe()"
   ]
  },
  {
   "cell_type": "code",
   "execution_count": 32,
   "metadata": {},
   "outputs": [
    {
     "data": {
      "text/html": [
       "<div>\n",
       "<style scoped>\n",
       "    .dataframe tbody tr th:only-of-type {\n",
       "        vertical-align: middle;\n",
       "    }\n",
       "\n",
       "    .dataframe tbody tr th {\n",
       "        vertical-align: top;\n",
       "    }\n",
       "\n",
       "    .dataframe thead th {\n",
       "        text-align: right;\n",
       "    }\n",
       "</style>\n",
       "<table border=\"1\" class=\"dataframe\">\n",
       "  <thead>\n",
       "    <tr style=\"text-align: right;\">\n",
       "      <th></th>\n",
       "      <th>price</th>\n",
       "      <th>vehicle_type</th>\n",
       "      <th>registration_year</th>\n",
       "      <th>gearbox</th>\n",
       "      <th>power</th>\n",
       "      <th>model</th>\n",
       "      <th>kilometer</th>\n",
       "      <th>fuel_type</th>\n",
       "      <th>brand</th>\n",
       "      <th>repaired</th>\n",
       "    </tr>\n",
       "  </thead>\n",
       "  <tbody>\n",
       "    <tr>\n",
       "      <th>0</th>\n",
       "      <td>480</td>\n",
       "      <td>NaN</td>\n",
       "      <td>1993</td>\n",
       "      <td>manual</td>\n",
       "      <td>0</td>\n",
       "      <td>golf</td>\n",
       "      <td>150000</td>\n",
       "      <td>petrol</td>\n",
       "      <td>volkswagen</td>\n",
       "      <td>NaN</td>\n",
       "    </tr>\n",
       "    <tr>\n",
       "      <th>1</th>\n",
       "      <td>18300</td>\n",
       "      <td>coupe</td>\n",
       "      <td>2011</td>\n",
       "      <td>manual</td>\n",
       "      <td>190</td>\n",
       "      <td>NaN</td>\n",
       "      <td>125000</td>\n",
       "      <td>gasoline</td>\n",
       "      <td>audi</td>\n",
       "      <td>yes</td>\n",
       "    </tr>\n",
       "    <tr>\n",
       "      <th>2</th>\n",
       "      <td>9800</td>\n",
       "      <td>suv</td>\n",
       "      <td>2004</td>\n",
       "      <td>auto</td>\n",
       "      <td>163</td>\n",
       "      <td>grand</td>\n",
       "      <td>125000</td>\n",
       "      <td>gasoline</td>\n",
       "      <td>jeep</td>\n",
       "      <td>NaN</td>\n",
       "    </tr>\n",
       "    <tr>\n",
       "      <th>3</th>\n",
       "      <td>1500</td>\n",
       "      <td>small</td>\n",
       "      <td>2001</td>\n",
       "      <td>manual</td>\n",
       "      <td>75</td>\n",
       "      <td>golf</td>\n",
       "      <td>150000</td>\n",
       "      <td>petrol</td>\n",
       "      <td>volkswagen</td>\n",
       "      <td>no</td>\n",
       "    </tr>\n",
       "    <tr>\n",
       "      <th>4</th>\n",
       "      <td>3600</td>\n",
       "      <td>small</td>\n",
       "      <td>2008</td>\n",
       "      <td>manual</td>\n",
       "      <td>69</td>\n",
       "      <td>fabia</td>\n",
       "      <td>90000</td>\n",
       "      <td>gasoline</td>\n",
       "      <td>skoda</td>\n",
       "      <td>no</td>\n",
       "    </tr>\n",
       "  </tbody>\n",
       "</table>\n",
       "</div>"
      ],
      "text/plain": [
       "   price vehicle_type  registration_year gearbox  power  model  kilometer  \\\n",
       "0    480          NaN               1993  manual      0   golf     150000   \n",
       "1  18300        coupe               2011  manual    190    NaN     125000   \n",
       "2   9800          suv               2004    auto    163  grand     125000   \n",
       "3   1500        small               2001  manual     75   golf     150000   \n",
       "4   3600        small               2008  manual     69  fabia      90000   \n",
       "\n",
       "  fuel_type       brand repaired  \n",
       "0    petrol  volkswagen      NaN  \n",
       "1  gasoline        audi      yes  \n",
       "2  gasoline        jeep      NaN  \n",
       "3    petrol  volkswagen       no  \n",
       "4  gasoline       skoda       no  "
      ]
     },
     "execution_count": 32,
     "metadata": {},
     "output_type": "execute_result"
    }
   ],
   "source": [
    "data.head()"
   ]
  },
  {
   "cell_type": "markdown",
   "metadata": {},
   "source": [
    "#### price"
   ]
  },
  {
   "cell_type": "markdown",
   "metadata": {},
   "source": [
    "Оценим значения столбца"
   ]
  },
  {
   "cell_type": "code",
   "execution_count": 33,
   "metadata": {},
   "outputs": [
    {
     "data": {
      "text/plain": [
       "array([[<AxesSubplot:title={'center':'price'}>]], dtype=object)"
      ]
     },
     "execution_count": 33,
     "metadata": {},
     "output_type": "execute_result"
    },
    {
     "data": {
      "image/png": "[encoded data removed]",
      "text/plain": [
       "<Figure size 1100x400 with 1 Axes>"
      ]
     },
     "metadata": {},
     "output_type": "display_data"
    }
   ],
   "source": [
    "data.hist('price', bins = 200, figsize=(11,4))"
   ]
  },
  {
   "cell_type": "code",
   "execution_count": 34,
   "metadata": {},
   "outputs": [
    {
     "data": {
      "text/plain": [
       "count    352792.000000\n",
       "mean       4412.256451\n",
       "std        4512.839543\n",
       "min           0.000000\n",
       "25%        1050.000000\n",
       "50%        2700.000000\n",
       "75%        6399.000000\n",
       "max       20000.000000\n",
       "Name: price, dtype: float64"
      ]
     },
     "execution_count": 34,
     "metadata": {},
     "output_type": "execute_result"
    }
   ],
   "source": [
    "data['price'].describe()"
   ]
  },
  {
   "cell_type": "code",
   "execution_count": 35,
   "metadata": {},
   "outputs": [
    {
     "data": {
      "text/plain": [
       "<AxesSubplot:>"
      ]
     },
     "execution_count": 35,
     "metadata": {},
     "output_type": "execute_result"
    },
    {
     "data": {
      "image/png": "[encoded data removed]",
      "text/plain": [
       "<Figure size 640x480 with 1 Axes>"
      ]
     },
     "metadata": {},
     "output_type": "display_data"
    }
   ],
   "source": [
    "data.boxplot('price')"
   ]
  },
  {
   "cell_type": "code",
   "execution_count": 36,
   "metadata": {},
   "outputs": [
    {
     "data": {
      "text/html": [
       "<div>\n",
       "<style scoped>\n",
       "    .dataframe tbody tr th:only-of-type {\n",
       "        vertical-align: middle;\n",
       "    }\n",
       "\n",
       "    .dataframe tbody tr th {\n",
       "        vertical-align: top;\n",
       "    }\n",
       "\n",
       "    .dataframe thead th {\n",
       "        text-align: right;\n",
       "    }\n",
       "</style>\n",
       "<table border=\"1\" class=\"dataframe\">\n",
       "  <thead>\n",
       "    <tr style=\"text-align: right;\">\n",
       "      <th></th>\n",
       "      <th>index</th>\n",
       "      <th>price</th>\n",
       "    </tr>\n",
       "  </thead>\n",
       "  <tbody>\n",
       "    <tr>\n",
       "      <th>0</th>\n",
       "      <td>0</td>\n",
       "      <td>10747</td>\n",
       "    </tr>\n",
       "    <tr>\n",
       "      <th>75</th>\n",
       "      <td>1</td>\n",
       "      <td>1187</td>\n",
       "    </tr>\n",
       "    <tr>\n",
       "      <th>969</th>\n",
       "      <td>2</td>\n",
       "      <td>12</td>\n",
       "    </tr>\n",
       "    <tr>\n",
       "      <th>1111</th>\n",
       "      <td>3</td>\n",
       "      <td>8</td>\n",
       "    </tr>\n",
       "    <tr>\n",
       "      <th>3039</th>\n",
       "      <td>4</td>\n",
       "      <td>1</td>\n",
       "    </tr>\n",
       "  </tbody>\n",
       "</table>\n",
       "</div>"
      ],
      "text/plain": [
       "      index  price\n",
       "0         0  10747\n",
       "75        1   1187\n",
       "969       2     12\n",
       "1111      3      8\n",
       "3039      4      1"
      ]
     },
     "execution_count": 36,
     "metadata": {},
     "output_type": "execute_result"
    }
   ],
   "source": [
    "data['price'].value_counts().reset_index().sort_values(by='index').head(5)"
   ]
  },
  {
   "cell_type": "code",
   "execution_count": 37,
   "metadata": {},
   "outputs": [
    {
     "data": {
      "text/plain": [
       "3.05"
      ]
     },
     "execution_count": 37,
     "metadata": {},
     "output_type": "execute_result"
    }
   ],
   "source": [
    "how_percent(data.loc[data['price'] == 0].shape[0]) "
   ]
  },
  {
   "cell_type": "markdown",
   "metadata": {},
   "source": [
    "*Гистограмма показывает очень интересное распределение цен на авто. Подозрительно, что около 3% данных равны 0. Предположительно, это могут быть уже проданные авто. Либо, таким образом могут быть обозначены дубликаты. Значения, где цены равны от 1 евро и выше вызывают подозрения, согласно курсу ЦБ, 1 евро летом 2016 года составляло примерно 70 рублей. Изучив несколько сайтов были найдены автомобили за 16-20 тыс.рублей, т.е. где-то 228-250 евро. На иностарнных сайтах были найдены атво за 100$ это примерно 92 евро. А на иностранном сайте <a href=\"https://www.autoscout24.com/lst?atype=C&cy=D%2CA%2CB%2CE%2CF%2CI%2CL%2CNL&damaged_listing=exclude&desc=0&powertype=kw&search_id=1pa16z2wqyn&sort=price&ustate=N%2CU\">www.autoscout24.com</a> были найдены авто с ценой 1 евро. Предположительно, заказчик ориентирован на торговлю за рубежом, исходя из того в какой валюте представлен транспорт(а значит, что стоимость в 1 евро уместа, согластно сайту). Однако, исходя из требований заказчика, приложение должно определять рыночную стоимость автомобиля. Соответственно, необходимо для модели машинного обучения подготовить данные ориентированные на клиента, который заинтересован продать своё авто как можно выгоднее для себя. Цены, которые представлены нижними значениями, предположительно, оценивают автомобили, почти не пригодные для эксплуатации. Также вероятно, что владельцы этих автомобилей нацелены просто на передачу авто за символическую сумму по иным причинам(особенности менталитета, дорогая аренда места хранения не используемого авто и т.д.). В итоге ограничимся наиболее приемлимыми ценами на авто, изуим нижнии границы цен.*"
   ]
  },
  {
   "cell_type": "code",
   "execution_count": 38,
   "metadata": {},
   "outputs": [
    {
     "data": {
      "text/plain": [
       "<AxesSubplot:>"
      ]
     },
     "execution_count": 38,
     "metadata": {},
     "output_type": "execute_result"
    },
    {
     "data": {
      "image/png": "[encoded data removed]",
      "text/plain": [
       "<Figure size 640x480 with 1 Axes>"
      ]
     },
     "metadata": {},
     "output_type": "display_data"
    }
   ],
   "source": [
    "data['price'].hist(bins=100, range=(200,1000))"
   ]
  },
  {
   "cell_type": "markdown",
   "metadata": {},
   "source": [
    "Для более корректной фильтрации оценим, есть ли связь между 'kilometer' и 'price'. Есть предположение, что авто с малым пробегом стоят больше."
   ]
  },
  {
   "cell_type": "code",
   "execution_count": 39,
   "metadata": {},
   "outputs": [
    {
     "data": {
      "text/plain": [
       "array([  5000,  10000,  20000,  30000,  40000,  50000,  60000,  70000,\n",
       "        80000,  90000, 100000, 125000, 150000], dtype=int64)"
      ]
     },
     "execution_count": 39,
     "metadata": {},
     "output_type": "execute_result"
    }
   ],
   "source": [
    "data['kilometer'].sort_values().unique()"
   ]
  },
  {
   "cell_type": "code",
   "execution_count": 40,
   "metadata": {},
   "outputs": [
    {
     "data": {
      "text/plain": [
       "<AxesSubplot:>"
      ]
     },
     "execution_count": 40,
     "metadata": {},
     "output_type": "execute_result"
    },
    {
     "data": {
      "image/png": "[encoded data removed]",
      "text/plain": [
       "<Figure size 900x400 with 1 Axes>"
      ]
     },
     "metadata": {},
     "output_type": "display_data"
    }
   ],
   "source": [
    "data.loc[data['kilometer'] == 5000, 'price'].sort_values().hist(bins=100, range=(0,1000), figsize=(9, 4))"
   ]
  },
  {
   "cell_type": "markdown",
   "metadata": {},
   "source": [
    "Изучим связть между 'repaired' и 'price'"
   ]
  },
  {
   "cell_type": "code",
   "execution_count": 41,
   "metadata": {},
   "outputs": [
    {
     "data": {
      "text/plain": [
       "no     21255\n",
       "NaN    19481\n",
       "yes    14592\n",
       "Name: repaired, dtype: int64"
      ]
     },
     "execution_count": 41,
     "metadata": {},
     "output_type": "execute_result"
    }
   ],
   "source": [
    "data.loc[(data['price'] >= 2) & (data['price'] <= 800), 'repaired'].value_counts(dropna=False)"
   ]
  },
  {
   "cell_type": "markdown",
   "metadata": {},
   "source": [
    "*Связи между столбцами не заметны. Исходя из изложенных предположений и цен, ограничемся стоимостью автомобиля в 99 евро, что составляет примерно 9 057 рублей.*"
   ]
  },
  {
   "cell_type": "code",
   "execution_count": 42,
   "metadata": {},
   "outputs": [
    {
     "data": {
      "text/plain": [
       "3.766241864894895"
      ]
     },
     "execution_count": 42,
     "metadata": {},
     "output_type": "execute_result"
    }
   ],
   "source": [
    "data.loc[data['price'] <= 99, 'price'].shape[0]/data.shape[0]*100"
   ]
  },
  {
   "cell_type": "markdown",
   "metadata": {},
   "source": [
    "Изучим дубликаты в данных без ключевого столбца `price`"
   ]
  },
  {
   "cell_type": "code",
   "execution_count": 43,
   "metadata": {},
   "outputs": [
    {
     "data": {
      "text/html": [
       "<div>\n",
       "<style scoped>\n",
       "    .dataframe tbody tr th:only-of-type {\n",
       "        vertical-align: middle;\n",
       "    }\n",
       "\n",
       "    .dataframe tbody tr th {\n",
       "        vertical-align: top;\n",
       "    }\n",
       "\n",
       "    .dataframe thead th {\n",
       "        text-align: right;\n",
       "    }\n",
       "</style>\n",
       "<table border=\"1\" class=\"dataframe\">\n",
       "  <thead>\n",
       "    <tr style=\"text-align: right;\">\n",
       "      <th></th>\n",
       "      <th>price</th>\n",
       "      <th>vehicle_type</th>\n",
       "      <th>registration_year</th>\n",
       "      <th>gearbox</th>\n",
       "      <th>power</th>\n",
       "      <th>model</th>\n",
       "      <th>kilometer</th>\n",
       "      <th>fuel_type</th>\n",
       "      <th>brand</th>\n",
       "      <th>repaired</th>\n",
       "    </tr>\n",
       "  </thead>\n",
       "  <tbody>\n",
       "    <tr>\n",
       "      <th>168707</th>\n",
       "      <td>3000</td>\n",
       "      <td>bus</td>\n",
       "      <td>1973</td>\n",
       "      <td>NaN</td>\n",
       "      <td>0</td>\n",
       "      <td>other</td>\n",
       "      <td>150000</td>\n",
       "      <td>NaN</td>\n",
       "      <td>volkswagen</td>\n",
       "      <td>yes</td>\n",
       "    </tr>\n",
       "    <tr>\n",
       "      <th>269797</th>\n",
       "      <td>3000</td>\n",
       "      <td>bus</td>\n",
       "      <td>1973</td>\n",
       "      <td>NaN</td>\n",
       "      <td>0</td>\n",
       "      <td>other</td>\n",
       "      <td>150000</td>\n",
       "      <td>NaN</td>\n",
       "      <td>volkswagen</td>\n",
       "      <td>yes</td>\n",
       "    </tr>\n",
       "    <tr>\n",
       "      <th>51490</th>\n",
       "      <td>13500</td>\n",
       "      <td>bus</td>\n",
       "      <td>1975</td>\n",
       "      <td>manual</td>\n",
       "      <td>0</td>\n",
       "      <td>transporter</td>\n",
       "      <td>150000</td>\n",
       "      <td>petrol</td>\n",
       "      <td>volkswagen</td>\n",
       "      <td>NaN</td>\n",
       "    </tr>\n",
       "    <tr>\n",
       "      <th>327005</th>\n",
       "      <td>7800</td>\n",
       "      <td>bus</td>\n",
       "      <td>1975</td>\n",
       "      <td>manual</td>\n",
       "      <td>0</td>\n",
       "      <td>transporter</td>\n",
       "      <td>150000</td>\n",
       "      <td>petrol</td>\n",
       "      <td>volkswagen</td>\n",
       "      <td>NaN</td>\n",
       "    </tr>\n",
       "    <tr>\n",
       "      <th>37276</th>\n",
       "      <td>17950</td>\n",
       "      <td>bus</td>\n",
       "      <td>1976</td>\n",
       "      <td>manual</td>\n",
       "      <td>50</td>\n",
       "      <td>other</td>\n",
       "      <td>100000</td>\n",
       "      <td>petrol</td>\n",
       "      <td>volkswagen</td>\n",
       "      <td>no</td>\n",
       "    </tr>\n",
       "    <tr>\n",
       "      <th>127574</th>\n",
       "      <td>13900</td>\n",
       "      <td>bus</td>\n",
       "      <td>1976</td>\n",
       "      <td>manual</td>\n",
       "      <td>50</td>\n",
       "      <td>other</td>\n",
       "      <td>100000</td>\n",
       "      <td>petrol</td>\n",
       "      <td>volkswagen</td>\n",
       "      <td>no</td>\n",
       "    </tr>\n",
       "  </tbody>\n",
       "</table>\n",
       "</div>"
      ],
      "text/plain": [
       "        price vehicle_type  registration_year gearbox  power        model  \\\n",
       "168707   3000          bus               1973     NaN      0        other   \n",
       "269797   3000          bus               1973     NaN      0        other   \n",
       "51490   13500          bus               1975  manual      0  transporter   \n",
       "327005   7800          bus               1975  manual      0  transporter   \n",
       "37276   17950          bus               1976  manual     50        other   \n",
       "127574  13900          bus               1976  manual     50        other   \n",
       "\n",
       "        kilometer fuel_type       brand repaired  \n",
       "168707     150000       NaN  volkswagen      yes  \n",
       "269797     150000       NaN  volkswagen      yes  \n",
       "51490      150000    petrol  volkswagen      NaN  \n",
       "327005     150000    petrol  volkswagen      NaN  \n",
       "37276      100000    petrol  volkswagen       no  \n",
       "127574     100000    petrol  volkswagen       no  "
      ]
     },
     "execution_count": 43,
     "metadata": {},
     "output_type": "execute_result"
    }
   ],
   "source": [
    "dup_price_filtr = data.duplicated(subset=[el for el in data.columns if el != 'price'], keep=False)\n",
    "data.loc[(dup_price_filtr)].sort_values(by=[el for el in data.columns if el != 'price'], ascending=True).head(6)"
   ]
  },
  {
   "cell_type": "code",
   "execution_count": 44,
   "metadata": {},
   "outputs": [
    {
     "data": {
      "text/html": [
       "<div>\n",
       "<style scoped>\n",
       "    .dataframe tbody tr th:only-of-type {\n",
       "        vertical-align: middle;\n",
       "    }\n",
       "\n",
       "    .dataframe tbody tr th {\n",
       "        vertical-align: top;\n",
       "    }\n",
       "\n",
       "    .dataframe thead th {\n",
       "        text-align: right;\n",
       "    }\n",
       "</style>\n",
       "<table border=\"1\" class=\"dataframe\">\n",
       "  <thead>\n",
       "    <tr style=\"text-align: right;\">\n",
       "      <th></th>\n",
       "      <th>price</th>\n",
       "      <th>vehicle_type</th>\n",
       "      <th>registration_year</th>\n",
       "      <th>gearbox</th>\n",
       "      <th>power</th>\n",
       "      <th>model</th>\n",
       "      <th>kilometer</th>\n",
       "      <th>fuel_type</th>\n",
       "      <th>brand</th>\n",
       "      <th>repaired</th>\n",
       "    </tr>\n",
       "  </thead>\n",
       "  <tbody>\n",
       "    <tr>\n",
       "      <th>294605</th>\n",
       "      <td>17800</td>\n",
       "      <td>wagon</td>\n",
       "      <td>2016</td>\n",
       "      <td>manual</td>\n",
       "      <td>99</td>\n",
       "      <td>other</td>\n",
       "      <td>5000</td>\n",
       "      <td>gasoline</td>\n",
       "      <td>peugeot</td>\n",
       "      <td>no</td>\n",
       "    </tr>\n",
       "    <tr>\n",
       "      <th>310248</th>\n",
       "      <td>17800</td>\n",
       "      <td>wagon</td>\n",
       "      <td>2016</td>\n",
       "      <td>manual</td>\n",
       "      <td>99</td>\n",
       "      <td>other</td>\n",
       "      <td>5000</td>\n",
       "      <td>gasoline</td>\n",
       "      <td>peugeot</td>\n",
       "      <td>no</td>\n",
       "    </tr>\n",
       "    <tr>\n",
       "      <th>14806</th>\n",
       "      <td>17500</td>\n",
       "      <td>wagon</td>\n",
       "      <td>2015</td>\n",
       "      <td>manual</td>\n",
       "      <td>150</td>\n",
       "      <td>leon</td>\n",
       "      <td>20000</td>\n",
       "      <td>petrol</td>\n",
       "      <td>seat</td>\n",
       "      <td>no</td>\n",
       "    </tr>\n",
       "    <tr>\n",
       "      <th>42206</th>\n",
       "      <td>18900</td>\n",
       "      <td>wagon</td>\n",
       "      <td>2015</td>\n",
       "      <td>manual</td>\n",
       "      <td>150</td>\n",
       "      <td>leon</td>\n",
       "      <td>20000</td>\n",
       "      <td>petrol</td>\n",
       "      <td>seat</td>\n",
       "      <td>no</td>\n",
       "    </tr>\n",
       "    <tr>\n",
       "      <th>48936</th>\n",
       "      <td>17000</td>\n",
       "      <td>wagon</td>\n",
       "      <td>2015</td>\n",
       "      <td>manual</td>\n",
       "      <td>125</td>\n",
       "      <td>superb</td>\n",
       "      <td>40000</td>\n",
       "      <td>petrol</td>\n",
       "      <td>skoda</td>\n",
       "      <td>no</td>\n",
       "    </tr>\n",
       "    <tr>\n",
       "      <th>297156</th>\n",
       "      <td>17000</td>\n",
       "      <td>wagon</td>\n",
       "      <td>2015</td>\n",
       "      <td>manual</td>\n",
       "      <td>125</td>\n",
       "      <td>superb</td>\n",
       "      <td>40000</td>\n",
       "      <td>petrol</td>\n",
       "      <td>skoda</td>\n",
       "      <td>no</td>\n",
       "    </tr>\n",
       "  </tbody>\n",
       "</table>\n",
       "</div>"
      ],
      "text/plain": [
       "        price vehicle_type  registration_year gearbox  power   model  \\\n",
       "294605  17800        wagon               2016  manual     99   other   \n",
       "310248  17800        wagon               2016  manual     99   other   \n",
       "14806   17500        wagon               2015  manual    150    leon   \n",
       "42206   18900        wagon               2015  manual    150    leon   \n",
       "48936   17000        wagon               2015  manual    125  superb   \n",
       "297156  17000        wagon               2015  manual    125  superb   \n",
       "\n",
       "        kilometer fuel_type    brand repaired  \n",
       "294605       5000  gasoline  peugeot       no  \n",
       "310248       5000  gasoline  peugeot       no  \n",
       "14806       20000    petrol     seat       no  \n",
       "42206       20000    petrol     seat       no  \n",
       "48936       40000    petrol    skoda       no  \n",
       "297156      40000    petrol    skoda       no  "
      ]
     },
     "execution_count": 44,
     "metadata": {},
     "output_type": "execute_result"
    }
   ],
   "source": [
    "data.loc[(dup_price_filtr)].sort_values(by=[el for el in data.columns if el != 'price'], ascending=False).head(6)"
   ]
  },
  {
   "cell_type": "markdown",
   "metadata": {},
   "source": [
    "*Заметен сильный разброс цен для авто зарегестрированных давно. У авто, зарегистрированных недавно, разброс цен гораздо меньше.*"
   ]
  },
  {
   "cell_type": "markdown",
   "metadata": {},
   "source": [
    "**Вывод:**\n",
    "\n",
    "Требуется провести фильтрацию данных, убрать значения, где присутствует 0. Это целевой признак, его парамтеры критически важны. Ограничить нижнюю границу в 99 евро, верхнюю границу трогать не будем."
   ]
  },
  {
   "cell_type": "markdown",
   "metadata": {},
   "source": [
    "#### vehicle_type"
   ]
  },
  {
   "cell_type": "markdown",
   "metadata": {},
   "source": [
    "Оценим столбец на предмет корректности заполненных значений, есть вероятность, что названия могут дублировать друг друга."
   ]
  },
  {
   "cell_type": "code",
   "execution_count": 45,
   "metadata": {},
   "outputs": [
    {
     "data": {
      "text/plain": [
       "array(['bus', 'convertible', 'coupe', 'other', 'sedan', 'small', 'suv',\n",
       "       'wagon', nan], dtype=object)"
      ]
     },
     "execution_count": 45,
     "metadata": {},
     "output_type": "execute_result"
    }
   ],
   "source": [
    "data['vehicle_type'].sort_values().unique()"
   ]
  },
  {
   "cell_type": "markdown",
   "metadata": {},
   "source": [
    "Разберёмся, что эти типы значат:\n",
    "1. bus — скорее всего относится к автобусам, компактвэнам, минивенам, хетчбэкам;\n",
    "2. convertible — кабриоле́т; \n",
    "3. coupe — купе;\n",
    "4. sedan — седан;\n",
    "5. small — европейский малый класс;\n",
    "6. suv — кроссовер(Sports Utility Vehicle);\n",
    "7. wagon — универсал('сарай', 'вагон', 'авант', 'эстейт', 'комби')."
   ]
  },
  {
   "cell_type": "markdown",
   "metadata": {},
   "source": [
    "Оценим распределение типов автомобильного кузова"
   ]
  },
  {
   "cell_type": "code",
   "execution_count": 46,
   "metadata": {},
   "outputs": [
    {
     "data": {
      "text/html": [
       "<div>\n",
       "<style scoped>\n",
       "    .dataframe tbody tr th:only-of-type {\n",
       "        vertical-align: middle;\n",
       "    }\n",
       "\n",
       "    .dataframe tbody tr th {\n",
       "        vertical-align: top;\n",
       "    }\n",
       "\n",
       "    .dataframe thead th {\n",
       "        text-align: right;\n",
       "    }\n",
       "</style>\n",
       "<table border=\"1\" class=\"dataframe\">\n",
       "  <thead>\n",
       "    <tr style=\"text-align: right;\">\n",
       "      <th></th>\n",
       "      <th>vehicle_type</th>\n",
       "      <th>(%)</th>\n",
       "    </tr>\n",
       "  </thead>\n",
       "  <tbody>\n",
       "    <tr>\n",
       "      <th>sedan</th>\n",
       "      <td>91033</td>\n",
       "      <td>25.80</td>\n",
       "    </tr>\n",
       "    <tr>\n",
       "      <th>small</th>\n",
       "      <td>79495</td>\n",
       "      <td>22.53</td>\n",
       "    </tr>\n",
       "    <tr>\n",
       "      <th>wagon</th>\n",
       "      <td>64876</td>\n",
       "      <td>18.39</td>\n",
       "    </tr>\n",
       "    <tr>\n",
       "      <th>NaN</th>\n",
       "      <td>37352</td>\n",
       "      <td>10.59</td>\n",
       "    </tr>\n",
       "    <tr>\n",
       "      <th>bus</th>\n",
       "      <td>28652</td>\n",
       "      <td>8.12</td>\n",
       "    </tr>\n",
       "    <tr>\n",
       "      <th>convertible</th>\n",
       "      <td>20109</td>\n",
       "      <td>5.70</td>\n",
       "    </tr>\n",
       "    <tr>\n",
       "      <th>coupe</th>\n",
       "      <td>16082</td>\n",
       "      <td>4.56</td>\n",
       "    </tr>\n",
       "    <tr>\n",
       "      <th>suv</th>\n",
       "      <td>11916</td>\n",
       "      <td>3.38</td>\n",
       "    </tr>\n",
       "    <tr>\n",
       "      <th>other</th>\n",
       "      <td>3277</td>\n",
       "      <td>0.93</td>\n",
       "    </tr>\n",
       "  </tbody>\n",
       "</table>\n",
       "</div>"
      ],
      "text/plain": [
       "             vehicle_type    (%)\n",
       "sedan               91033  25.80\n",
       "small               79495  22.53\n",
       "wagon               64876  18.39\n",
       "NaN                 37352  10.59\n",
       "bus                 28652   8.12\n",
       "convertible         20109   5.70\n",
       "coupe               16082   4.56\n",
       "suv                 11916   3.38\n",
       "other                3277   0.93"
      ]
     },
     "execution_count": 46,
     "metadata": {},
     "output_type": "execute_result"
    }
   ],
   "source": [
    "values_with_percent('vehicle_type')"
   ]
  },
  {
   "cell_type": "markdown",
   "metadata": {},
   "source": [
    "- other — тип кузова, который определить не удасться, имея неполный данные, которые завяленно отличаются друг от друга не выйдет в конечном итоге получить качественное предсказание по этому типу. Поэтому, смысла оставлять его особо нет."
   ]
  },
  {
   "cell_type": "markdown",
   "metadata": {},
   "source": [
    "**Вывод:** необходимо избавиться от типа кузова(vehicle_type) other — его присутствие не обеспечит надлежащего качества. "
   ]
  },
  {
   "cell_type": "markdown",
   "metadata": {},
   "source": [
    "#### registration_year\t"
   ]
  },
  {
   "cell_type": "code",
   "execution_count": 47,
   "metadata": {},
   "outputs": [
    {
     "data": {
      "text/plain": [
       "Index(['price', 'vehicle_type', 'registration_year', 'gearbox', 'power',\n",
       "       'model', 'kilometer', 'fuel_type', 'brand', 'repaired'],\n",
       "      dtype='object')"
      ]
     },
     "execution_count": 47,
     "metadata": {},
     "output_type": "execute_result"
    }
   ],
   "source": [
    "data.columns"
   ]
  },
  {
   "cell_type": "code",
   "execution_count": 48,
   "metadata": {},
   "outputs": [
    {
     "data": {
      "text/plain": [
       "array([1000, 1001, 1039, 1111, 1200, 1234, 1253, 1255, 1300, 1400, 1500,\n",
       "       1600, 1602, 1688, 1800, 1910, 1915, 1919, 1920, 1923, 1925, 1927,\n",
       "       1928, 1929, 1930, 1931, 1932, 1933, 1934, 1935, 1936, 1937, 1938,\n",
       "       1940, 1941, 1942, 1943, 1944, 1945, 1946, 1947, 1948, 1949, 1950,\n",
       "       1951, 1952, 1953, 1954, 1955, 1956, 1957, 1958, 1959, 1960, 1961,\n",
       "       1962, 1963, 1964, 1965, 1966, 1967, 1968, 1969, 1970, 1971, 1972,\n",
       "       1973, 1974, 1975, 1976, 1977, 1978, 1979, 1980, 1981, 1982, 1983,\n",
       "       1984, 1985, 1986, 1987, 1988, 1989, 1990, 1991, 1992, 1993, 1994,\n",
       "       1995, 1996, 1997, 1998, 1999, 2000, 2001, 2002, 2003, 2004, 2005,\n",
       "       2006, 2007, 2008, 2009, 2010, 2011, 2012, 2013, 2014, 2015, 2016,\n",
       "       2017, 2018, 2019, 2066, 2200, 2222, 2290, 2500, 2800, 2900, 3000,\n",
       "       3200, 3500, 3700, 3800, 4000, 4100, 4500, 4800, 5000, 5300, 5555,\n",
       "       5600, 5900, 5911, 6000, 6500, 7000, 7100, 7500, 7800, 8000, 8200,\n",
       "       8455, 8500, 8888, 9000, 9229, 9450, 9996, 9999], dtype=int64)"
      ]
     },
     "execution_count": 48,
     "metadata": {},
     "output_type": "execute_result"
    }
   ],
   "source": [
    "data['registration_year'].sort_values().unique()"
   ]
  },
  {
   "cell_type": "markdown",
   "metadata": {},
   "source": [
    "*Из полученного количества стоит обратить внимание только на наиболее достоверные.*"
   ]
  },
  {
   "cell_type": "code",
   "execution_count": 49,
   "metadata": {},
   "outputs": [
    {
     "data": {
      "text/plain": [
       "array([[<AxesSubplot:title={'center':'registration_year'}>]], dtype=object)"
      ]
     },
     "execution_count": 49,
     "metadata": {},
     "output_type": "execute_result"
    },
    {
     "data": {
      "image/png": "[encoded data removed]",
      "text/plain": [
       "<Figure size 800x400 with 1 Axes>"
      ]
     },
     "metadata": {},
     "output_type": "display_data"
    }
   ],
   "source": [
    "data.loc[(data['registration_year'] >= 1940) & (data['registration_year'] <= 2030)]\\\n",
    ".hist('registration_year', bins = 80, figsize=(8,4))"
   ]
  },
  {
   "cell_type": "markdown",
   "metadata": {},
   "source": [
    "*С левого конца были отсечены значения вплоть до 1940 года, хотя и их стоит убрать. Вводить ограничения будем в соответствии с началом роста количества авто с годом регистрации от 1980-1990. Значения старше 2016 года не могут быть верными, так как они не соответствуют дате скачивания анкет. Есть вероятность, что возможна ошибка в данных регистрации авто или данных по анкетам.*"
   ]
  },
  {
   "cell_type": "markdown",
   "metadata": {},
   "source": [
    "Оценим значения для ввода ограничений"
   ]
  },
  {
   "cell_type": "code",
   "execution_count": 50,
   "metadata": {},
   "outputs": [
    {
     "data": {
      "text/plain": [
       "1990    2795\n",
       "1989    1313\n",
       "1988     938\n",
       "1985     753\n",
       "1987     666\n",
       "1980     587\n",
       "1986     533\n",
       "1983     425\n",
       "1984     396\n",
       "1982     312\n",
       "1981     259\n",
       "Name: registration_year, dtype: int64"
      ]
     },
     "execution_count": 50,
     "metadata": {},
     "output_type": "execute_result"
    }
   ],
   "source": [
    "data.loc[(data['registration_year'] >= 1980) &\n",
    "         (data['registration_year'] <= 1990), 'registration_year']\\\n",
    "        .value_counts()"
   ]
  },
  {
   "cell_type": "markdown",
   "metadata": {},
   "source": [
    "Узнаем сколько значений останется за бортом"
   ]
  },
  {
   "cell_type": "code",
   "execution_count": 51,
   "metadata": {},
   "outputs": [
    {
     "data": {
      "text/plain": [
       "2.73"
      ]
     },
     "execution_count": 51,
     "metadata": {},
     "output_type": "execute_result"
    }
   ],
   "source": [
    "how_percent(data.loc[(data['registration_year'] <= 1989), 'registration_year'].count())"
   ]
  },
  {
   "cell_type": "markdown",
   "metadata": {},
   "source": [
    "*Будем считать 1989 год точкой старта.*"
   ]
  },
  {
   "cell_type": "code",
   "execution_count": 52,
   "metadata": {},
   "outputs": [
    {
     "data": {
      "text/plain": [
       "2017    10399\n",
       "2016     9573\n",
       "2018     3947\n",
       "2014     2521\n",
       "2015     1290\n",
       "2019       25\n",
       "Name: registration_year, dtype: int64"
      ]
     },
     "execution_count": 52,
     "metadata": {},
     "output_type": "execute_result"
    }
   ],
   "source": [
    "data.loc[(data['registration_year'] >= 2014) &\n",
    "         (data['registration_year'] <= 2025), 'registration_year']\\\n",
    "        .value_counts()"
   ]
  },
  {
   "cell_type": "code",
   "execution_count": 53,
   "metadata": {},
   "outputs": [
    {
     "data": {
      "text/plain": [
       "2.9476"
      ]
     },
     "execution_count": 53,
     "metadata": {},
     "output_type": "execute_result"
    }
   ],
   "source": [
    "how_percent(10399, 4)"
   ]
  },
  {
   "cell_type": "markdown",
   "metadata": {},
   "source": [
    "*Странно, что около 10000 значений приходится на 2017 год. Это порядка 3%. Допустим, что всё-таки ошибка где-то присутствует.*"
   ]
  },
  {
   "cell_type": "markdown",
   "metadata": {},
   "source": [
    "Узнаем сколько значений останется за бортом"
   ]
  },
  {
   "cell_type": "code",
   "execution_count": 54,
   "metadata": {},
   "outputs": [
    {
     "data": {
      "text/plain": [
       "1.16"
      ]
     },
     "execution_count": 54,
     "metadata": {},
     "output_type": "execute_result"
    }
   ],
   "source": [
    "how_percent(data.loc[(data['registration_year'] >= 2018), 'registration_year'].count())"
   ]
  },
  {
   "cell_type": "markdown",
   "metadata": {},
   "source": [
    "**Вывод:** требуется ограничить значения по году регитсрации, обнаружены явные ошибки. Для ограничения использовать диапазон 1989 - 2017. Порядка 4% данных будет отсеяно."
   ]
  },
  {
   "cell_type": "markdown",
   "metadata": {},
   "source": [
    "#### gearbox"
   ]
  },
  {
   "cell_type": "markdown",
   "metadata": {},
   "source": [
    "Изучим уникальные значения"
   ]
  },
  {
   "cell_type": "code",
   "execution_count": 55,
   "metadata": {},
   "outputs": [
    {
     "data": {
      "text/plain": [
       "array(['manual', 'auto', nan], dtype=object)"
      ]
     },
     "execution_count": 55,
     "metadata": {},
     "output_type": "execute_result"
    }
   ],
   "source": [
    "data['gearbox'].unique()"
   ]
  },
  {
   "cell_type": "markdown",
   "metadata": {},
   "source": [
    "Определим процентное соотношение"
   ]
  },
  {
   "cell_type": "code",
   "execution_count": 56,
   "metadata": {},
   "outputs": [
    {
     "data": {
      "text/html": [
       "<div>\n",
       "<style scoped>\n",
       "    .dataframe tbody tr th:only-of-type {\n",
       "        vertical-align: middle;\n",
       "    }\n",
       "\n",
       "    .dataframe tbody tr th {\n",
       "        vertical-align: top;\n",
       "    }\n",
       "\n",
       "    .dataframe thead th {\n",
       "        text-align: right;\n",
       "    }\n",
       "</style>\n",
       "<table border=\"1\" class=\"dataframe\">\n",
       "  <thead>\n",
       "    <tr style=\"text-align: right;\">\n",
       "      <th></th>\n",
       "      <th>gearbox</th>\n",
       "      <th>(%)</th>\n",
       "    </tr>\n",
       "  </thead>\n",
       "  <tbody>\n",
       "    <tr>\n",
       "      <th>manual</th>\n",
       "      <td>267071</td>\n",
       "      <td>75.70</td>\n",
       "    </tr>\n",
       "    <tr>\n",
       "      <th>auto</th>\n",
       "      <td>65946</td>\n",
       "      <td>18.69</td>\n",
       "    </tr>\n",
       "    <tr>\n",
       "      <th>NaN</th>\n",
       "      <td>19775</td>\n",
       "      <td>5.61</td>\n",
       "    </tr>\n",
       "  </tbody>\n",
       "</table>\n",
       "</div>"
      ],
      "text/plain": [
       "        gearbox    (%)\n",
       "manual   267071  75.70\n",
       "auto      65946  18.69\n",
       "NaN       19775   5.61"
      ]
     },
     "execution_count": 56,
     "metadata": {},
     "output_type": "execute_result"
    }
   ],
   "source": [
    "values_with_percent('gearbox')"
   ]
  },
  {
   "cell_type": "markdown",
   "metadata": {},
   "source": [
    "*Оставим данные как есть, тут ничего не сделаешь*"
   ]
  },
  {
   "cell_type": "markdown",
   "metadata": {},
   "source": [
    "**Вывод:** не выявлено явных ошибок."
   ]
  },
  {
   "cell_type": "markdown",
   "metadata": {},
   "source": [
    "#### power"
   ]
  },
  {
   "cell_type": "markdown",
   "metadata": {},
   "source": [
    "Оценим распределение значений"
   ]
  },
  {
   "cell_type": "code",
   "execution_count": 57,
   "metadata": {},
   "outputs": [
    {
     "data": {
      "text/plain": [
       "array([[<AxesSubplot:title={'center':'power'}>]], dtype=object)"
      ]
     },
     "execution_count": 57,
     "metadata": {},
     "output_type": "execute_result"
    },
    {
     "data": {
      "image/png": "[encoded data removed]",
      "text/plain": [
       "<Figure size 800x200 with 1 Axes>"
      ]
     },
     "metadata": {},
     "output_type": "display_data"
    }
   ],
   "source": [
    "data.hist('power', bins = 100, figsize = (8, 2))"
   ]
  },
  {
   "cell_type": "code",
   "execution_count": 58,
   "metadata": {},
   "outputs": [
    {
     "data": {
      "text/plain": [
       "count    352792.000000\n",
       "mean        110.071793\n",
       "std         190.213601\n",
       "min           0.000000\n",
       "25%          69.000000\n",
       "50%         105.000000\n",
       "75%         142.000000\n",
       "max       20000.000000\n",
       "Name: power, dtype: float64"
      ]
     },
     "execution_count": 58,
     "metadata": {},
     "output_type": "execute_result"
    }
   ],
   "source": [
    "data['power'].describe()"
   ]
  },
  {
   "cell_type": "code",
   "execution_count": 59,
   "metadata": {},
   "outputs": [
    {
     "data": {
      "text/plain": [
       "11.36"
      ]
     },
     "execution_count": 59,
     "metadata": {},
     "output_type": "execute_result"
    }
   ],
   "source": [
    "how_percent(data.loc[(data['power'] == 0), 'power'].shape[0])"
   ]
  },
  {
   "cell_type": "markdown",
   "metadata": {},
   "source": [
    "*Из графика и таблицы видно, что есть значения, которые равны 0(11%), также из основной массы выделяются значения правого диапазона значений. Предположительно, значением 0 обозначены пропуски в данных. Их можно заполнить средним по каждому бренду, модели  и типу кузова, предварительно отфильтровав выбросы самых больших значений.*"
   ]
  },
  {
   "cell_type": "markdown",
   "metadata": {},
   "source": [
    "Определим границы для фильтрации больших значений. Отбросим наиболее выбивающиеся значения, попробуем их выделить."
   ]
  },
  {
   "cell_type": "code",
   "execution_count": 60,
   "metadata": {},
   "outputs": [
    {
     "data": {
      "text/plain": [
       "179.0"
      ]
     },
     "execution_count": 60,
     "metadata": {},
     "output_type": "execute_result"
    }
   ],
   "source": [
    "np.percentile(data['power'].sort_values(), 90)"
   ]
  },
  {
   "cell_type": "code",
   "execution_count": 61,
   "metadata": {},
   "outputs": [
    {
     "data": {
      "text/plain": [
       "700.4180000000633"
      ]
     },
     "execution_count": 61,
     "metadata": {},
     "output_type": "execute_result"
    }
   ],
   "source": [
    "np.percentile(data['power'].sort_values(), 99.9)"
   ]
  },
  {
   "cell_type": "code",
   "execution_count": 62,
   "metadata": {},
   "outputs": [
    {
     "data": {
      "text/plain": [
       "<AxesSubplot:>"
      ]
     },
     "execution_count": 62,
     "metadata": {},
     "output_type": "execute_result"
    },
    {
     "data": {
      "image/png": "[encoded data removed]",
      "text/plain": [
       "<Figure size 1100x400 with 1 Axes>"
      ]
     },
     "metadata": {},
     "output_type": "display_data"
    }
   ],
   "source": [
    "data.loc[(data['power'] >= 0) & (data['power'] <= 700), 'power'].hist(bins=80, figsize=(11, 4))"
   ]
  },
  {
   "cell_type": "code",
   "execution_count": 63,
   "metadata": {},
   "outputs": [
    {
     "data": {
      "text/html": [
       "<div>\n",
       "<style scoped>\n",
       "    .dataframe tbody tr th:only-of-type {\n",
       "        vertical-align: middle;\n",
       "    }\n",
       "\n",
       "    .dataframe tbody tr th {\n",
       "        vertical-align: top;\n",
       "    }\n",
       "\n",
       "    .dataframe thead th {\n",
       "        text-align: right;\n",
       "    }\n",
       "</style>\n",
       "<table border=\"1\" class=\"dataframe\">\n",
       "  <thead>\n",
       "    <tr style=\"text-align: right;\">\n",
       "      <th></th>\n",
       "      <th>index</th>\n",
       "      <th>power</th>\n",
       "    </tr>\n",
       "  </thead>\n",
       "  <tbody>\n",
       "    <tr>\n",
       "      <th>25</th>\n",
       "      <td>700</td>\n",
       "      <td>2</td>\n",
       "    </tr>\n",
       "    <tr>\n",
       "      <th>160</th>\n",
       "      <td>702</td>\n",
       "      <td>1</td>\n",
       "    </tr>\n",
       "    <tr>\n",
       "      <th>161</th>\n",
       "      <td>703</td>\n",
       "      <td>1</td>\n",
       "    </tr>\n",
       "    <tr>\n",
       "      <th>172</th>\n",
       "      <td>732</td>\n",
       "      <td>1</td>\n",
       "    </tr>\n",
       "    <tr>\n",
       "      <th>216</th>\n",
       "      <td>743</td>\n",
       "      <td>1</td>\n",
       "    </tr>\n",
       "    <tr>\n",
       "      <th>7</th>\n",
       "      <td>750</td>\n",
       "      <td>4</td>\n",
       "    </tr>\n",
       "    <tr>\n",
       "      <th>26</th>\n",
       "      <td>751</td>\n",
       "      <td>2</td>\n",
       "    </tr>\n",
       "    <tr>\n",
       "      <th>237</th>\n",
       "      <td>754</td>\n",
       "      <td>1</td>\n",
       "    </tr>\n",
       "  </tbody>\n",
       "</table>\n",
       "</div>"
      ],
      "text/plain": [
       "     index  power\n",
       "25     700      2\n",
       "160    702      1\n",
       "161    703      1\n",
       "172    732      1\n",
       "216    743      1\n",
       "7      750      4\n",
       "26     751      2\n",
       "237    754      1"
      ]
     },
     "execution_count": 63,
     "metadata": {},
     "output_type": "execute_result"
    }
   ],
   "source": [
    "data.loc[data['power'] >= 700, 'power'].value_counts().reset_index().sort_values(by='index')[:8]"
   ]
  },
  {
   "cell_type": "code",
   "execution_count": 64,
   "metadata": {},
   "outputs": [
    {
     "data": {
      "text/plain": [
       "0.1"
      ]
     },
     "execution_count": 64,
     "metadata": {},
     "output_type": "execute_result"
    }
   ],
   "source": [
    "how_percent(data.loc[data['power'] >= 700, 'power'].count())"
   ]
  },
  {
   "cell_type": "markdown",
   "metadata": {},
   "source": [
    "*Остановимся на значении в 340 отбросив 0.1% данных. Чтобы избавиться от лишнего и не отсекать слишком много.*"
   ]
  },
  {
   "cell_type": "markdown",
   "metadata": {},
   "source": [
    "Оценим нижнюю границу, исключая 0."
   ]
  },
  {
   "cell_type": "code",
   "execution_count": 65,
   "metadata": {},
   "outputs": [
    {
     "data": {
      "text/plain": [
       "<AxesSubplot:>"
      ]
     },
     "execution_count": 65,
     "metadata": {},
     "output_type": "execute_result"
    },
    {
     "data": {
      "image/png": "[encoded data removed]",
      "text/plain": [
       "<Figure size 1100x400 with 1 Axes>"
      ]
     },
     "metadata": {},
     "output_type": "display_data"
    }
   ],
   "source": [
    "data.loc[(data['power'] > 0) & (data['power'] <= 200), 'power'].hist(bins=50, figsize=(11, 4))"
   ]
  },
  {
   "cell_type": "code",
   "execution_count": 66,
   "metadata": {},
   "outputs": [
    {
     "data": {
      "text/html": [
       "<div>\n",
       "<style scoped>\n",
       "    .dataframe tbody tr th:only-of-type {\n",
       "        vertical-align: middle;\n",
       "    }\n",
       "\n",
       "    .dataframe tbody tr th {\n",
       "        vertical-align: top;\n",
       "    }\n",
       "\n",
       "    .dataframe thead th {\n",
       "        text-align: right;\n",
       "    }\n",
       "</style>\n",
       "<table border=\"1\" class=\"dataframe\">\n",
       "  <thead>\n",
       "    <tr style=\"text-align: right;\">\n",
       "      <th></th>\n",
       "      <th>index</th>\n",
       "      <th>power</th>\n",
       "    </tr>\n",
       "  </thead>\n",
       "  <tbody>\n",
       "    <tr>\n",
       "      <th>4</th>\n",
       "      <td>11</td>\n",
       "      <td>28</td>\n",
       "    </tr>\n",
       "    <tr>\n",
       "      <th>5</th>\n",
       "      <td>12</td>\n",
       "      <td>22</td>\n",
       "    </tr>\n",
       "    <tr>\n",
       "      <th>13</th>\n",
       "      <td>13</td>\n",
       "      <td>8</td>\n",
       "    </tr>\n",
       "    <tr>\n",
       "      <th>6</th>\n",
       "      <td>14</td>\n",
       "      <td>20</td>\n",
       "    </tr>\n",
       "    <tr>\n",
       "      <th>7</th>\n",
       "      <td>15</td>\n",
       "      <td>20</td>\n",
       "    </tr>\n",
       "  </tbody>\n",
       "</table>\n",
       "</div>"
      ],
      "text/plain": [
       "    index  power\n",
       "4      11     28\n",
       "5      12     22\n",
       "13     13      8\n",
       "6      14     20\n",
       "7      15     20"
      ]
     },
     "execution_count": 66,
     "metadata": {},
     "output_type": "execute_result"
    }
   ],
   "source": [
    "data.loc[data['power'] <= 15, 'power'].value_counts().reset_index().sort_values(by='index').tail(5)"
   ]
  },
  {
   "cell_type": "markdown",
   "metadata": {},
   "source": [
    "*На  сайте <a href=\"https://auto.ru/krasnogorsk/cars/used/?power_to=13\">auto.ru</a> покупки и продажи авто были найдены экземпляры с минимальной мощнсотью в 11 л.с., обозначим это нижней границей.* "
   ]
  },
  {
   "cell_type": "markdown",
   "metadata": {},
   "source": [
    "**Вывод:** требуется восстановлнение данных, где в признаке power указан 0, предварительно отфильтровав по нижнему значению в 11 л.с., а по верхнему значению в 340 л.с.."
   ]
  },
  {
   "cell_type": "markdown",
   "metadata": {},
   "source": [
    "#### model"
   ]
  },
  {
   "cell_type": "markdown",
   "metadata": {},
   "source": [
    "Оценим значения. Изучим наименования на предмет не корректного заполнения."
   ]
  },
  {
   "cell_type": "code",
   "execution_count": 67,
   "metadata": {},
   "outputs": [
    {
     "data": {
      "text/plain": [
       "array(['100', '145', '147', '156', '159', '1_reihe', '1er', '200',\n",
       "       '2_reihe', '300c', '3_reihe', '3er', '4_reihe', '500', '5_reihe',\n",
       "       '5er', '601', '6_reihe', '6er', '7er', '80', '850', '90', '900',\n",
       "       '9000', '911', 'a1', 'a2', 'a3', 'a4', 'a5', 'a6', 'a8',\n",
       "       'a_klasse', 'accord', 'agila', 'alhambra', 'almera', 'altea',\n",
       "       'amarok', 'antara', 'arosa', 'astra', 'auris', 'avensis', 'aveo',\n",
       "       'aygo', 'b_klasse', 'b_max', 'beetle', 'berlingo', 'bora',\n",
       "       'boxster', 'bravo', 'c1', 'c2', 'c3', 'c4', 'c5', 'c_klasse',\n",
       "       'c_max', 'c_reihe', 'caddy', 'calibra', 'captiva', 'carisma',\n",
       "       'carnival', 'cayenne', 'cc', 'ceed', 'charade', 'cherokee',\n",
       "       'citigo', 'civic', 'cl', 'clio', 'clk', 'clubman', 'colt', 'combo',\n",
       "       'cooper', 'cordoba', 'corolla', 'corsa', 'cr_reihe', 'croma',\n",
       "       'crossfire', 'cuore', 'cx_reihe', 'defender', 'delta', 'discovery',\n",
       "       'doblo', 'ducato', 'duster', 'e_klasse', 'elefantino', 'eos',\n",
       "       'escort', 'espace', 'exeo', 'fabia', 'fiesta', 'focus', 'forester',\n",
       "       'forfour', 'fortwo', 'fox', 'freelander', 'fusion', 'g_klasse',\n",
       "       'galant', 'galaxy', 'getz', 'gl', 'glk', 'golf', 'grand', 'i3',\n",
       "       'i_reihe', 'ibiza', 'impreza', 'insignia', 'jazz', 'jetta',\n",
       "       'jimny', 'juke', 'justy', 'ka', 'kadett', 'kaefer', 'kalina',\n",
       "       'kalos', 'kangoo', 'kappa', 'kuga', 'laguna', 'lancer', 'lanos',\n",
       "       'legacy', 'leon', 'lodgy', 'logan', 'lupo', 'lybra', 'm_klasse',\n",
       "       'm_reihe', 'materia', 'matiz', 'megane', 'meriva', 'micra', 'mii',\n",
       "       'modus', 'mondeo', 'move', 'musa', 'mustang', 'mx_reihe', 'navara',\n",
       "       'niva', 'note', 'nubira', 'octavia', 'omega', 'one', 'other',\n",
       "       'outlander', 'pajero', 'panda', 'passat', 'phaeton', 'picanto',\n",
       "       'polo', 'primera', 'ptcruiser', 'punto', 'q3', 'q5', 'q7',\n",
       "       'qashqai', 'r19', 'range_rover', 'range_rover_evoque',\n",
       "       'range_rover_sport', 'rangerover', 'rav', 'rio', 'roadster',\n",
       "       'roomster', 'rx_reihe', 's60', 's_klasse', 's_max', 's_type',\n",
       "       'samara', 'sandero', 'santa', 'scenic', 'scirocco', 'seicento',\n",
       "       'serie_1', 'serie_2', 'serie_3', 'sharan', 'signum', 'sirion',\n",
       "       'sl', 'slk', 'sorento', 'spark', 'spider', 'sportage', 'sprinter',\n",
       "       'stilo', 'superb', 'swift', 'terios', 'tigra', 'tiguan', 'toledo',\n",
       "       'touareg', 'touran', 'transit', 'transporter', 'tt', 'tucson',\n",
       "       'twingo', 'up', 'v40', 'v50', 'v60', 'v70', 'v_klasse', 'vectra',\n",
       "       'verso', 'viano', 'vito', 'vivaro', 'voyager', 'wrangler',\n",
       "       'x_reihe', 'x_trail', 'x_type', 'xc_reihe', 'yaris', 'yeti',\n",
       "       'ypsilon', 'z_reihe', 'zafira', nan], dtype=object)"
      ]
     },
     "execution_count": 67,
     "metadata": {},
     "output_type": "execute_result"
    }
   ],
   "source": [
    "data['model'].sort_values().unique()"
   ]
  },
  {
   "cell_type": "markdown",
   "metadata": {},
   "source": [
    "Проверим, не повтрояют ли представители брендов названия моделей друг друга.\n"
   ]
  },
  {
   "cell_type": "code",
   "execution_count": 68,
   "metadata": {},
   "outputs": [
    {
     "name": "stdout",
     "output_type": "stream",
     "text": [
      "{nan, '1_reihe', 'other', 'grand', 'freelander', '3_reihe', 'discovery', '5_reihe', 'matiz', 'defender'}\n"
     ]
    }
   ],
   "source": [
    "unique_mod = []\n",
    "non_unique_mod = []\n",
    "for el in data['brand'].unique():\n",
    "    model = data.loc[data['brand'] == el, 'model'].unique()\n",
    "    for el in model:\n",
    "        if el not in unique_mod:\n",
    "            unique_mod.append(el)\n",
    "        else:\n",
    "            non_unique_mod.append(el)\n",
    "            \n",
    "print(set(non_unique_mod))"
   ]
  },
  {
   "cell_type": "markdown",
   "metadata": {},
   "source": [
    "*Имеются повтроения, это надо учитывать при обработке значений.*"
   ]
  },
  {
   "cell_type": "markdown",
   "metadata": {},
   "source": [
    "**Вывод:** по столбцу model не выявлено аномалий."
   ]
  },
  {
   "cell_type": "markdown",
   "metadata": {},
   "source": [
    "#### kilometer"
   ]
  },
  {
   "cell_type": "code",
   "execution_count": 69,
   "metadata": {},
   "outputs": [
    {
     "data": {
      "text/plain": [
       "array([150000, 125000,  90000,  40000,  30000,  70000,   5000, 100000,\n",
       "        60000,  20000,  80000,  50000,  10000], dtype=int64)"
      ]
     },
     "execution_count": 69,
     "metadata": {},
     "output_type": "execute_result"
    }
   ],
   "source": [
    "data['kilometer'].unique()"
   ]
  },
  {
   "cell_type": "markdown",
   "metadata": {},
   "source": [
    "*Данные представлены очень небольшим набором значений, как если бы они перед этим проходили категоризацию. Предположительно этот столбец не дожен оказать сильного влияния на точность модели ввиде его ограниченного набора данных и специфики показателя.*"
   ]
  },
  {
   "cell_type": "code",
   "execution_count": 70,
   "metadata": {},
   "outputs": [
    {
     "data": {
      "text/plain": [
       "array([[<AxesSubplot:title={'center':'kilometer'}>]], dtype=object)"
      ]
     },
     "execution_count": 70,
     "metadata": {},
     "output_type": "execute_result"
    },
    {
     "data": {
      "image/png": "[encoded data removed]",
      "text/plain": [
       "<Figure size 1100x300 with 1 Axes>"
      ]
     },
     "metadata": {},
     "output_type": "display_data"
    }
   ],
   "source": [
    "data.hist('kilometer', bins=13, figsize=(11,3))"
   ]
  },
  {
   "cell_type": "code",
   "execution_count": 71,
   "metadata": {},
   "outputs": [
    {
     "data": {
      "text/plain": [
       "150000    67.25\n",
       "125000    10.28\n",
       "100000     4.19\n",
       "90000      3.26\n",
       "80000      2.83\n",
       "70000      2.42\n",
       "60000      2.10\n",
       "5000       1.81\n",
       "50000      1.75\n",
       "40000      1.38\n",
       "30000      1.25\n",
       "20000      1.12\n",
       "10000      0.34\n",
       "Name: kilometer, dtype: float64"
      ]
     },
     "execution_count": 71,
     "metadata": {},
     "output_type": "execute_result"
    }
   ],
   "source": [
    "how_percent(data['kilometer'].value_counts())"
   ]
  },
  {
   "cell_type": "markdown",
   "metadata": {},
   "source": [
    "*Данные не имеют пропусков, это приятно. Основной набор данных составляют подержанные авто, откатавшие большое расстояние(100-150тыс.). Малое количество данных составляют относительно новые автомобили, пройденное расстояние которых малозначительно(10-90тыс.).*"
   ]
  },
  {
   "cell_type": "markdown",
   "metadata": {},
   "source": [
    "**Вывод:** *необходимость в корректировке столбца kilometer сомнительна. Данные на первый взгляд нормальные. Существует предположение о малой значимости этого столбца для машинного обучения ввиду специфики значений и их ограниченности.*"
   ]
  },
  {
   "cell_type": "markdown",
   "metadata": {},
   "source": [
    "#### fuel_type\t"
   ]
  },
  {
   "cell_type": "markdown",
   "metadata": {},
   "source": [
    "Оценим используемые типы топлива"
   ]
  },
  {
   "cell_type": "code",
   "execution_count": 72,
   "metadata": {},
   "outputs": [
    {
     "data": {
      "text/plain": [
       "array(['petrol', 'gasoline', nan, 'lpg', 'other', 'hybrid', 'cng',\n",
       "       'electric'], dtype=object)"
      ]
     },
     "execution_count": 72,
     "metadata": {},
     "output_type": "execute_result"
    }
   ],
   "source": [
    "data['fuel_type'].unique()"
   ]
  },
  {
   "cell_type": "markdown",
   "metadata": {},
   "source": [
    "Наименования:\n",
    "- petrol — бензин(Великобритания);\n",
    "- gasoline — бензин(США);\n",
    "- lpg (Liquified Petroleum Gas) – сжиженный газ (пропан-бутан);\n",
    "- hybrid — гибридное топливо(для машин, которые могут работать и от горючего и от электричества);\n",
    "- cng (КПГ -компримированный (сжатый) природный газ);\n",
    "- electric — это синтетический, альтернативный вид топлива, производимого с помощью электроэнергии.\n",
    "- other — интересно, что же имеется ввиду."
   ]
  },
  {
   "cell_type": "markdown",
   "metadata": {},
   "source": [
    "*Обнаружено два одинаковых вида топлива: petrol и gasoline.*"
   ]
  },
  {
   "cell_type": "markdown",
   "metadata": {},
   "source": [
    "Изучим распределение значений"
   ]
  },
  {
   "cell_type": "code",
   "execution_count": 73,
   "metadata": {},
   "outputs": [
    {
     "data": {
      "text/html": [
       "<div>\n",
       "<style scoped>\n",
       "    .dataframe tbody tr th:only-of-type {\n",
       "        vertical-align: middle;\n",
       "    }\n",
       "\n",
       "    .dataframe tbody tr th {\n",
       "        vertical-align: top;\n",
       "    }\n",
       "\n",
       "    .dataframe thead th {\n",
       "        text-align: right;\n",
       "    }\n",
       "</style>\n",
       "<table border=\"1\" class=\"dataframe\">\n",
       "  <thead>\n",
       "    <tr style=\"text-align: right;\">\n",
       "      <th></th>\n",
       "      <th>fuel_type</th>\n",
       "      <th>(%)</th>\n",
       "    </tr>\n",
       "  </thead>\n",
       "  <tbody>\n",
       "    <tr>\n",
       "      <th>petrol</th>\n",
       "      <td>215402</td>\n",
       "      <td>61.06</td>\n",
       "    </tr>\n",
       "    <tr>\n",
       "      <th>gasoline</th>\n",
       "      <td>98245</td>\n",
       "      <td>27.85</td>\n",
       "    </tr>\n",
       "    <tr>\n",
       "      <th>NaN</th>\n",
       "      <td>32778</td>\n",
       "      <td>9.29</td>\n",
       "    </tr>\n",
       "    <tr>\n",
       "      <th>lpg</th>\n",
       "      <td>5276</td>\n",
       "      <td>1.50</td>\n",
       "    </tr>\n",
       "    <tr>\n",
       "      <th>cng</th>\n",
       "      <td>565</td>\n",
       "      <td>0.16</td>\n",
       "    </tr>\n",
       "    <tr>\n",
       "      <th>hybrid</th>\n",
       "      <td>233</td>\n",
       "      <td>0.07</td>\n",
       "    </tr>\n",
       "    <tr>\n",
       "      <th>other</th>\n",
       "      <td>204</td>\n",
       "      <td>0.06</td>\n",
       "    </tr>\n",
       "    <tr>\n",
       "      <th>electric</th>\n",
       "      <td>89</td>\n",
       "      <td>0.03</td>\n",
       "    </tr>\n",
       "  </tbody>\n",
       "</table>\n",
       "</div>"
      ],
      "text/plain": [
       "          fuel_type    (%)\n",
       "petrol       215402  61.06\n",
       "gasoline      98245  27.85\n",
       "NaN           32778   9.29\n",
       "lpg            5276   1.50\n",
       "cng             565   0.16\n",
       "hybrid          233   0.07\n",
       "other           204   0.06\n",
       "electric         89   0.03"
      ]
     },
     "execution_count": 73,
     "metadata": {},
     "output_type": "execute_result"
    }
   ],
   "source": [
    "values_with_percent('fuel_type')"
   ]
  },
  {
   "cell_type": "markdown",
   "metadata": {},
   "source": [
    "**Вывод:** *Тип other может быть пропуском, либо, это действительно, какой-то особый вид топлива. Интересно, что около 0.3% данных составляют редкие виды топлива(cng, hybrid, other, electric), предположительно, эти объекты обладают малым количеством значений, что негативно скажется на обучении модели. Возможно, после попытки восстановления, стоит еще раз оценить значения на предмет удаления. 9.28% — это пропущенные значения. Стоит скорректировать значения petrol и gasoline это одно и тоже.*"
   ]
  },
  {
   "cell_type": "markdown",
   "metadata": {},
   "source": [
    "#### brand"
   ]
  },
  {
   "cell_type": "markdown",
   "metadata": {},
   "source": [
    "Изучим наименования брендов на предмет повторений и корректности наименований."
   ]
  },
  {
   "cell_type": "code",
   "execution_count": 74,
   "metadata": {},
   "outputs": [
    {
     "data": {
      "text/plain": [
       "array(['alfa_romeo', 'audi', 'bmw', 'chevrolet', 'chrysler', 'citroen',\n",
       "       'dacia', 'daewoo', 'daihatsu', 'fiat', 'ford', 'honda', 'hyundai',\n",
       "       'jaguar', 'jeep', 'kia', 'lada', 'lancia', 'land_rover', 'mazda',\n",
       "       'mercedes_benz', 'mini', 'mitsubishi', 'nissan', 'opel', 'peugeot',\n",
       "       'porsche', 'renault', 'rover', 'saab', 'seat', 'skoda', 'smart',\n",
       "       'sonstige_autos', 'subaru', 'suzuki', 'toyota', 'trabant',\n",
       "       'volkswagen', 'volvo'], dtype=object)"
      ]
     },
     "execution_count": 74,
     "metadata": {},
     "output_type": "execute_result"
    }
   ],
   "source": [
    "data['brand'].sort_values().unique()"
   ]
  },
  {
   "cell_type": "markdown",
   "metadata": {},
   "source": [
    "*Наименования значений представлены нормально.*"
   ]
  },
  {
   "cell_type": "markdown",
   "metadata": {},
   "source": [
    "Изучим распределение авто по брендам"
   ]
  },
  {
   "cell_type": "code",
   "execution_count": 75,
   "metadata": {},
   "outputs": [
    {
     "data": {
      "text/html": [
       "<div>\n",
       "<style scoped>\n",
       "    .dataframe tbody tr th:only-of-type {\n",
       "        vertical-align: middle;\n",
       "    }\n",
       "\n",
       "    .dataframe tbody tr th {\n",
       "        vertical-align: top;\n",
       "    }\n",
       "\n",
       "    .dataframe thead th {\n",
       "        text-align: right;\n",
       "    }\n",
       "</style>\n",
       "<table border=\"1\" class=\"dataframe\">\n",
       "  <thead>\n",
       "    <tr style=\"text-align: right;\">\n",
       "      <th></th>\n",
       "      <th>brand</th>\n",
       "      <th>(%)</th>\n",
       "    </tr>\n",
       "  </thead>\n",
       "  <tbody>\n",
       "    <tr>\n",
       "      <th>volkswagen</th>\n",
       "      <td>76693</td>\n",
       "      <td>21.74</td>\n",
       "    </tr>\n",
       "    <tr>\n",
       "      <th>opel</th>\n",
       "      <td>39753</td>\n",
       "      <td>11.27</td>\n",
       "    </tr>\n",
       "    <tr>\n",
       "      <th>bmw</th>\n",
       "      <td>36739</td>\n",
       "      <td>10.41</td>\n",
       "    </tr>\n",
       "    <tr>\n",
       "      <th>mercedes_benz</th>\n",
       "      <td>31905</td>\n",
       "      <td>9.04</td>\n",
       "    </tr>\n",
       "    <tr>\n",
       "      <th>audi</th>\n",
       "      <td>29326</td>\n",
       "      <td>8.31</td>\n",
       "    </tr>\n",
       "    <tr>\n",
       "      <th>ford</th>\n",
       "      <td>25074</td>\n",
       "      <td>7.11</td>\n",
       "    </tr>\n",
       "    <tr>\n",
       "      <th>renault</th>\n",
       "      <td>17860</td>\n",
       "      <td>5.06</td>\n",
       "    </tr>\n",
       "    <tr>\n",
       "      <th>peugeot</th>\n",
       "      <td>10951</td>\n",
       "      <td>3.10</td>\n",
       "    </tr>\n",
       "    <tr>\n",
       "      <th>fiat</th>\n",
       "      <td>9597</td>\n",
       "      <td>2.72</td>\n",
       "    </tr>\n",
       "    <tr>\n",
       "      <th>seat</th>\n",
       "      <td>6869</td>\n",
       "      <td>1.95</td>\n",
       "    </tr>\n",
       "    <tr>\n",
       "      <th>mazda</th>\n",
       "      <td>5591</td>\n",
       "      <td>1.58</td>\n",
       "    </tr>\n",
       "    <tr>\n",
       "      <th>skoda</th>\n",
       "      <td>5470</td>\n",
       "      <td>1.55</td>\n",
       "    </tr>\n",
       "    <tr>\n",
       "      <th>smart</th>\n",
       "      <td>5225</td>\n",
       "      <td>1.48</td>\n",
       "    </tr>\n",
       "    <tr>\n",
       "      <th>citroen</th>\n",
       "      <td>5124</td>\n",
       "      <td>1.45</td>\n",
       "    </tr>\n",
       "    <tr>\n",
       "      <th>nissan</th>\n",
       "      <td>4919</td>\n",
       "      <td>1.39</td>\n",
       "    </tr>\n",
       "    <tr>\n",
       "      <th>toyota</th>\n",
       "      <td>4590</td>\n",
       "      <td>1.30</td>\n",
       "    </tr>\n",
       "    <tr>\n",
       "      <th>hyundai</th>\n",
       "      <td>3574</td>\n",
       "      <td>1.01</td>\n",
       "    </tr>\n",
       "    <tr>\n",
       "      <th>sonstige_autos</th>\n",
       "      <td>3360</td>\n",
       "      <td>0.95</td>\n",
       "    </tr>\n",
       "    <tr>\n",
       "      <th>volvo</th>\n",
       "      <td>3191</td>\n",
       "      <td>0.90</td>\n",
       "    </tr>\n",
       "    <tr>\n",
       "      <th>mini</th>\n",
       "      <td>3181</td>\n",
       "      <td>0.90</td>\n",
       "    </tr>\n",
       "    <tr>\n",
       "      <th>mitsubishi</th>\n",
       "      <td>3008</td>\n",
       "      <td>0.85</td>\n",
       "    </tr>\n",
       "    <tr>\n",
       "      <th>honda</th>\n",
       "      <td>2800</td>\n",
       "      <td>0.79</td>\n",
       "    </tr>\n",
       "    <tr>\n",
       "      <th>kia</th>\n",
       "      <td>2461</td>\n",
       "      <td>0.70</td>\n",
       "    </tr>\n",
       "    <tr>\n",
       "      <th>suzuki</th>\n",
       "      <td>2314</td>\n",
       "      <td>0.66</td>\n",
       "    </tr>\n",
       "    <tr>\n",
       "      <th>alfa_romeo</th>\n",
       "      <td>2303</td>\n",
       "      <td>0.65</td>\n",
       "    </tr>\n",
       "    <tr>\n",
       "      <th>chevrolet</th>\n",
       "      <td>1741</td>\n",
       "      <td>0.49</td>\n",
       "    </tr>\n",
       "    <tr>\n",
       "      <th>chrysler</th>\n",
       "      <td>1429</td>\n",
       "      <td>0.41</td>\n",
       "    </tr>\n",
       "    <tr>\n",
       "      <th>dacia</th>\n",
       "      <td>898</td>\n",
       "      <td>0.25</td>\n",
       "    </tr>\n",
       "    <tr>\n",
       "      <th>daihatsu</th>\n",
       "      <td>804</td>\n",
       "      <td>0.23</td>\n",
       "    </tr>\n",
       "    <tr>\n",
       "      <th>subaru</th>\n",
       "      <td>755</td>\n",
       "      <td>0.21</td>\n",
       "    </tr>\n",
       "    <tr>\n",
       "      <th>porsche</th>\n",
       "      <td>748</td>\n",
       "      <td>0.21</td>\n",
       "    </tr>\n",
       "    <tr>\n",
       "      <th>jeep</th>\n",
       "      <td>673</td>\n",
       "      <td>0.19</td>\n",
       "    </tr>\n",
       "    <tr>\n",
       "      <th>trabant</th>\n",
       "      <td>587</td>\n",
       "      <td>0.17</td>\n",
       "    </tr>\n",
       "    <tr>\n",
       "      <th>land_rover</th>\n",
       "      <td>541</td>\n",
       "      <td>0.15</td>\n",
       "    </tr>\n",
       "    <tr>\n",
       "      <th>daewoo</th>\n",
       "      <td>538</td>\n",
       "      <td>0.15</td>\n",
       "    </tr>\n",
       "    <tr>\n",
       "      <th>saab</th>\n",
       "      <td>522</td>\n",
       "      <td>0.15</td>\n",
       "    </tr>\n",
       "    <tr>\n",
       "      <th>jaguar</th>\n",
       "      <td>504</td>\n",
       "      <td>0.14</td>\n",
       "    </tr>\n",
       "    <tr>\n",
       "      <th>rover</th>\n",
       "      <td>485</td>\n",
       "      <td>0.14</td>\n",
       "    </tr>\n",
       "    <tr>\n",
       "      <th>lancia</th>\n",
       "      <td>467</td>\n",
       "      <td>0.13</td>\n",
       "    </tr>\n",
       "    <tr>\n",
       "      <th>lada</th>\n",
       "      <td>222</td>\n",
       "      <td>0.06</td>\n",
       "    </tr>\n",
       "  </tbody>\n",
       "</table>\n",
       "</div>"
      ],
      "text/plain": [
       "                brand    (%)\n",
       "volkswagen      76693  21.74\n",
       "opel            39753  11.27\n",
       "bmw             36739  10.41\n",
       "mercedes_benz   31905   9.04\n",
       "audi            29326   8.31\n",
       "ford            25074   7.11\n",
       "renault         17860   5.06\n",
       "peugeot         10951   3.10\n",
       "fiat             9597   2.72\n",
       "seat             6869   1.95\n",
       "mazda            5591   1.58\n",
       "skoda            5470   1.55\n",
       "smart            5225   1.48\n",
       "citroen          5124   1.45\n",
       "nissan           4919   1.39\n",
       "toyota           4590   1.30\n",
       "hyundai          3574   1.01\n",
       "sonstige_autos   3360   0.95\n",
       "volvo            3191   0.90\n",
       "mini             3181   0.90\n",
       "mitsubishi       3008   0.85\n",
       "honda            2800   0.79\n",
       "kia              2461   0.70\n",
       "suzuki           2314   0.66\n",
       "alfa_romeo       2303   0.65\n",
       "chevrolet        1741   0.49\n",
       "chrysler         1429   0.41\n",
       "dacia             898   0.25\n",
       "daihatsu          804   0.23\n",
       "subaru            755   0.21\n",
       "porsche           748   0.21\n",
       "jeep              673   0.19\n",
       "trabant           587   0.17\n",
       "land_rover        541   0.15\n",
       "daewoo            538   0.15\n",
       "saab              522   0.15\n",
       "jaguar            504   0.14\n",
       "rover             485   0.14\n",
       "lancia            467   0.13\n",
       "lada              222   0.06"
      ]
     },
     "execution_count": 75,
     "metadata": {},
     "output_type": "execute_result"
    }
   ],
   "source": [
    "values_with_percent('brand')"
   ]
  },
  {
   "cell_type": "markdown",
   "metadata": {},
   "source": [
    "**Вывод:** *исходя из полученных значений можно сделать предположение о том, что готовая модель машинного обучения будет лучше предсказывть цену авто для брендов, которые представлены большим количеством значений. В целом значения представлены нормально, столбец в корректировке не нуждается.*"
   ]
  },
  {
   "cell_type": "markdown",
   "metadata": {},
   "source": [
    "#### repaired"
   ]
  },
  {
   "cell_type": "markdown",
   "metadata": {},
   "source": [
    "Оценим столбец по уникальности и процентному соотношению"
   ]
  },
  {
   "cell_type": "code",
   "execution_count": 76,
   "metadata": {},
   "outputs": [
    {
     "data": {
      "text/html": [
       "<div>\n",
       "<style scoped>\n",
       "    .dataframe tbody tr th:only-of-type {\n",
       "        vertical-align: middle;\n",
       "    }\n",
       "\n",
       "    .dataframe tbody tr th {\n",
       "        vertical-align: top;\n",
       "    }\n",
       "\n",
       "    .dataframe thead th {\n",
       "        text-align: right;\n",
       "    }\n",
       "</style>\n",
       "<table border=\"1\" class=\"dataframe\">\n",
       "  <thead>\n",
       "    <tr style=\"text-align: right;\">\n",
       "      <th></th>\n",
       "      <th>repaired</th>\n",
       "      <th>(%)</th>\n",
       "    </tr>\n",
       "  </thead>\n",
       "  <tbody>\n",
       "    <tr>\n",
       "      <th>no</th>\n",
       "      <td>245955</td>\n",
       "      <td>69.72</td>\n",
       "    </tr>\n",
       "    <tr>\n",
       "      <th>NaN</th>\n",
       "      <td>70899</td>\n",
       "      <td>20.10</td>\n",
       "    </tr>\n",
       "    <tr>\n",
       "      <th>yes</th>\n",
       "      <td>35938</td>\n",
       "      <td>10.19</td>\n",
       "    </tr>\n",
       "  </tbody>\n",
       "</table>\n",
       "</div>"
      ],
      "text/plain": [
       "     repaired    (%)\n",
       "no     245955  69.72\n",
       "NaN     70899  20.10\n",
       "yes     35938  10.19"
      ]
     },
     "execution_count": 76,
     "metadata": {},
     "output_type": "execute_result"
    }
   ],
   "source": [
    "values_with_percent('repaired')"
   ]
  },
  {
   "cell_type": "markdown",
   "metadata": {},
   "source": [
    "*Достаточно большое количество пропусков, предположительно не ставился пользователем ввиду отсутствия машины в ремонте. Этот столбец, после восстановления данных можно кодировать в 0 и 1.*"
   ]
  },
  {
   "cell_type": "markdown",
   "metadata": {},
   "source": [
    "#### Оценка дубликатов"
   ]
  },
  {
   "cell_type": "markdown",
   "metadata": {},
   "source": [
    "Посмотрим на общее количество явных дубликатов."
   ]
  },
  {
   "cell_type": "code",
   "execution_count": 77,
   "metadata": {},
   "outputs": [
    {
     "data": {
      "text/html": [
       "<div>\n",
       "<style scoped>\n",
       "    .dataframe tbody tr th:only-of-type {\n",
       "        vertical-align: middle;\n",
       "    }\n",
       "\n",
       "    .dataframe tbody tr th {\n",
       "        vertical-align: top;\n",
       "    }\n",
       "\n",
       "    .dataframe thead th {\n",
       "        text-align: right;\n",
       "    }\n",
       "</style>\n",
       "<table border=\"1\" class=\"dataframe\">\n",
       "  <thead>\n",
       "    <tr style=\"text-align: right;\">\n",
       "      <th></th>\n",
       "      <th>price</th>\n",
       "      <th>vehicle_type</th>\n",
       "      <th>registration_year</th>\n",
       "      <th>gearbox</th>\n",
       "      <th>power</th>\n",
       "      <th>model</th>\n",
       "      <th>kilometer</th>\n",
       "      <th>fuel_type</th>\n",
       "      <th>brand</th>\n",
       "      <th>repaired</th>\n",
       "    </tr>\n",
       "  </thead>\n",
       "  <tbody>\n",
       "    <tr>\n",
       "      <th>283241</th>\n",
       "      <td>0</td>\n",
       "      <td>bus</td>\n",
       "      <td>1994</td>\n",
       "      <td>manual</td>\n",
       "      <td>0</td>\n",
       "      <td>transporter</td>\n",
       "      <td>150000</td>\n",
       "      <td>gasoline</td>\n",
       "      <td>volkswagen</td>\n",
       "      <td>NaN</td>\n",
       "    </tr>\n",
       "    <tr>\n",
       "      <th>254668</th>\n",
       "      <td>0</td>\n",
       "      <td>bus</td>\n",
       "      <td>1994</td>\n",
       "      <td>manual</td>\n",
       "      <td>68</td>\n",
       "      <td>transporter</td>\n",
       "      <td>150000</td>\n",
       "      <td>gasoline</td>\n",
       "      <td>volkswagen</td>\n",
       "      <td>NaN</td>\n",
       "    </tr>\n",
       "    <tr>\n",
       "      <th>74809</th>\n",
       "      <td>0</td>\n",
       "      <td>bus</td>\n",
       "      <td>1995</td>\n",
       "      <td>manual</td>\n",
       "      <td>68</td>\n",
       "      <td>transporter</td>\n",
       "      <td>150000</td>\n",
       "      <td>gasoline</td>\n",
       "      <td>volkswagen</td>\n",
       "      <td>no</td>\n",
       "    </tr>\n",
       "    <tr>\n",
       "      <th>300163</th>\n",
       "      <td>0</td>\n",
       "      <td>bus</td>\n",
       "      <td>1995</td>\n",
       "      <td>manual</td>\n",
       "      <td>68</td>\n",
       "      <td>transporter</td>\n",
       "      <td>150000</td>\n",
       "      <td>gasoline</td>\n",
       "      <td>volkswagen</td>\n",
       "      <td>no</td>\n",
       "    </tr>\n",
       "    <tr>\n",
       "      <th>259813</th>\n",
       "      <td>0</td>\n",
       "      <td>bus</td>\n",
       "      <td>1995</td>\n",
       "      <td>manual</td>\n",
       "      <td>102</td>\n",
       "      <td>transporter</td>\n",
       "      <td>150000</td>\n",
       "      <td>gasoline</td>\n",
       "      <td>volkswagen</td>\n",
       "      <td>no</td>\n",
       "    </tr>\n",
       "    <tr>\n",
       "      <th>64344</th>\n",
       "      <td>0</td>\n",
       "      <td>bus</td>\n",
       "      <td>1996</td>\n",
       "      <td>auto</td>\n",
       "      <td>110</td>\n",
       "      <td>transporter</td>\n",
       "      <td>150000</td>\n",
       "      <td>petrol</td>\n",
       "      <td>volkswagen</td>\n",
       "      <td>no</td>\n",
       "    </tr>\n",
       "  </tbody>\n",
       "</table>\n",
       "</div>"
      ],
      "text/plain": [
       "        price vehicle_type  registration_year gearbox  power        model  \\\n",
       "283241      0          bus               1994  manual      0  transporter   \n",
       "254668      0          bus               1994  manual     68  transporter   \n",
       "74809       0          bus               1995  manual     68  transporter   \n",
       "300163      0          bus               1995  manual     68  transporter   \n",
       "259813      0          bus               1995  manual    102  transporter   \n",
       "64344       0          bus               1996    auto    110  transporter   \n",
       "\n",
       "        kilometer fuel_type       brand repaired  \n",
       "283241     150000  gasoline  volkswagen      NaN  \n",
       "254668     150000  gasoline  volkswagen      NaN  \n",
       "74809      150000  gasoline  volkswagen       no  \n",
       "300163     150000  gasoline  volkswagen       no  \n",
       "259813     150000  gasoline  volkswagen       no  \n",
       "64344      150000    petrol  volkswagen       no  "
      ]
     },
     "execution_count": 77,
     "metadata": {},
     "output_type": "execute_result"
    }
   ],
   "source": [
    "dup_price_filtr = data.duplicated()\n",
    "data.loc[(dup_price_filtr)].sort_values(by=[el for el in data.columns], ascending=True).head(6)"
   ]
  },
  {
   "cell_type": "code",
   "execution_count": 78,
   "metadata": {},
   "outputs": [
    {
     "data": {
      "text/plain": [
       "12.68"
      ]
     },
     "execution_count": 78,
     "metadata": {},
     "output_type": "execute_result"
    }
   ],
   "source": [
    "how_percent(data.duplicated().value_counts()[1])"
   ]
  },
  {
   "cell_type": "markdown",
   "metadata": {},
   "source": [
    "*Выявили почти 13% дубликатов во всей выборке.*"
   ]
  },
  {
   "cell_type": "markdown",
   "metadata": {},
   "source": [
    "**Вывод:** *данные имеют 13% дубликатов, возможно, что после корректировки информации по столбцам количество дубликатов изменится. Стоит провести повторный анализ после мероприятий предобработки для принятия решения о корректировке.*"
   ]
  },
  {
   "cell_type": "markdown",
   "metadata": {},
   "source": [
    "#### Корреляция значений"
   ]
  },
  {
   "cell_type": "code",
   "execution_count": 79,
   "metadata": {},
   "outputs": [
    {
     "data": {
      "text/html": [
       "<div>\n",
       "<style scoped>\n",
       "    .dataframe tbody tr th:only-of-type {\n",
       "        vertical-align: middle;\n",
       "    }\n",
       "\n",
       "    .dataframe tbody tr th {\n",
       "        vertical-align: top;\n",
       "    }\n",
       "\n",
       "    .dataframe thead th {\n",
       "        text-align: right;\n",
       "    }\n",
       "</style>\n",
       "<table border=\"1\" class=\"dataframe\">\n",
       "  <thead>\n",
       "    <tr style=\"text-align: right;\">\n",
       "      <th></th>\n",
       "      <th>price</th>\n",
       "      <th>registration_year</th>\n",
       "      <th>power</th>\n",
       "      <th>kilometer</th>\n",
       "    </tr>\n",
       "  </thead>\n",
       "  <tbody>\n",
       "    <tr>\n",
       "      <th>price</th>\n",
       "      <td>1.000000</td>\n",
       "      <td>0.026901</td>\n",
       "      <td>0.158602</td>\n",
       "      <td>-0.333130</td>\n",
       "    </tr>\n",
       "    <tr>\n",
       "      <th>registration_year</th>\n",
       "      <td>0.026901</td>\n",
       "      <td>1.000000</td>\n",
       "      <td>-0.000829</td>\n",
       "      <td>-0.053605</td>\n",
       "    </tr>\n",
       "    <tr>\n",
       "      <th>power</th>\n",
       "      <td>0.158602</td>\n",
       "      <td>-0.000829</td>\n",
       "      <td>1.000000</td>\n",
       "      <td>0.023871</td>\n",
       "    </tr>\n",
       "    <tr>\n",
       "      <th>kilometer</th>\n",
       "      <td>-0.333130</td>\n",
       "      <td>-0.053605</td>\n",
       "      <td>0.023871</td>\n",
       "      <td>1.000000</td>\n",
       "    </tr>\n",
       "  </tbody>\n",
       "</table>\n",
       "</div>"
      ],
      "text/plain": [
       "                      price  registration_year     power  kilometer\n",
       "price              1.000000           0.026901  0.158602  -0.333130\n",
       "registration_year  0.026901           1.000000 -0.000829  -0.053605\n",
       "power              0.158602          -0.000829  1.000000   0.023871\n",
       "kilometer         -0.333130          -0.053605  0.023871   1.000000"
      ]
     },
     "execution_count": 79,
     "metadata": {},
     "output_type": "execute_result"
    }
   ],
   "source": [
    "data.corr()"
   ]
  },
  {
   "cell_type": "markdown",
   "metadata": {},
   "source": [
    "*Обычный способ выявления коррелирующих значений не дал существенных результатов, воспользууемся библиотекой `phik`.*"
   ]
  },
  {
   "cell_type": "markdown",
   "metadata": {},
   "source": [
    "Попробуем восстановить утраченные значения, чтобы понять какие признаки могут дополнять друг друга, попробуем найти корреляцию используя библиотеку `phik`."
   ]
  },
  {
   "cell_type": "code",
   "execution_count": 80,
   "metadata": {},
   "outputs": [],
   "source": [
    "def phik_corr_matrix(data):\n",
    "    interval_cols = ['price', 'power', 'kilometer']\n",
    "    return data.phik_matrix(interval_cols=interval_cols)"
   ]
  },
  {
   "cell_type": "markdown",
   "metadata": {},
   "source": [
    "Определим функцию для упрощения читаемости таблицы."
   ]
  },
  {
   "cell_type": "code",
   "execution_count": 81,
   "metadata": {},
   "outputs": [],
   "source": [
    "def most_corr_val_phik(phik_corr, cor_cof=.4):\n",
    "    \"\"\" Функция выводит имя столбца и список,\n",
    "    который содержит имя признака с \n",
    "    которым коррелирует столбец и значение корреляции\n",
    "    в соответствии с условием cor_cof\n",
    "    \n",
    "    \"\"\"\n",
    "    data_corr_phik = []\n",
    "    # Блок выбирает значение, имя столбца, имя строки,\n",
    "    # которые превышают указанный cor_cof и сохраняет в\n",
    "    # data_corr_phik\n",
    "    for el in phik_corr:\n",
    "        for i in range(len(phik_corr[el])):\n",
    "            if phik_corr[el][i] > cor_cof and phik_corr[el][i] != 1:\n",
    "                data_corr_phik.extend([[el, phik_corr.index[i], round(phik_corr[el][i],3)]])\n",
    "\n",
    "    # Этот блок фильтрует \n",
    "    # и сортирует значения\n",
    "    some_dict = {}\n",
    "    for el in data_corr_phik:\n",
    "        for i in range(len(el)-1):\n",
    "            # копирование листа\n",
    "            el1 = el.copy()\n",
    "            el1.remove(el[i])\n",
    "            # внесение и создание ключа со значениями\n",
    "            if el[i] not in some_dict.keys():\n",
    "                some_dict[el[i]] = [el1]\n",
    "            else:\n",
    "                # Проверка на наличие однотипных значений\n",
    "                count = 0\n",
    "                for tr in some_dict[el[i]]:\n",
    "                    if tr == el1:\n",
    "                        count += 1\n",
    "                if count == 0:\n",
    "                    some_dict[el[i]] += [el1]\n",
    "    count = 0\n",
    "    for key, values in some_dict.items():\n",
    "        count += 1\n",
    "        print(f'{count}. {key:<15} {values}\\n')\n",
    "        "
   ]
  },
  {
   "cell_type": "code",
   "execution_count": 82,
   "metadata": {},
   "outputs": [
    {
     "data": {
      "text/html": [
       "<div>\n",
       "<style scoped>\n",
       "    .dataframe tbody tr th:only-of-type {\n",
       "        vertical-align: middle;\n",
       "    }\n",
       "\n",
       "    .dataframe tbody tr th {\n",
       "        vertical-align: top;\n",
       "    }\n",
       "\n",
       "    .dataframe thead th {\n",
       "        text-align: right;\n",
       "    }\n",
       "</style>\n",
       "<table border=\"1\" class=\"dataframe\">\n",
       "  <thead>\n",
       "    <tr style=\"text-align: right;\">\n",
       "      <th></th>\n",
       "      <th>price</th>\n",
       "      <th>vehicle_type</th>\n",
       "      <th>registration_year</th>\n",
       "      <th>gearbox</th>\n",
       "      <th>power</th>\n",
       "      <th>model</th>\n",
       "      <th>kilometer</th>\n",
       "      <th>fuel_type</th>\n",
       "      <th>brand</th>\n",
       "      <th>repaired</th>\n",
       "    </tr>\n",
       "  </thead>\n",
       "  <tbody>\n",
       "    <tr>\n",
       "      <th>price</th>\n",
       "      <td>1.000000</td>\n",
       "      <td>0.268142</td>\n",
       "      <td>0.674610</td>\n",
       "      <td>0.323692</td>\n",
       "      <td>0.005771</td>\n",
       "      <td>0.579035</td>\n",
       "      <td>0.310958</td>\n",
       "      <td>0.257507</td>\n",
       "      <td>0.355571</td>\n",
       "      <td>0.380445</td>\n",
       "    </tr>\n",
       "    <tr>\n",
       "      <th>vehicle_type</th>\n",
       "      <td>0.268142</td>\n",
       "      <td>1.000000</td>\n",
       "      <td>0.278259</td>\n",
       "      <td>0.289090</td>\n",
       "      <td>0.011784</td>\n",
       "      <td>0.917284</td>\n",
       "      <td>0.172040</td>\n",
       "      <td>0.330037</td>\n",
       "      <td>0.633306</td>\n",
       "      <td>0.084591</td>\n",
       "    </tr>\n",
       "    <tr>\n",
       "      <th>registration_year</th>\n",
       "      <td>0.674610</td>\n",
       "      <td>0.278259</td>\n",
       "      <td>1.000000</td>\n",
       "      <td>0.142468</td>\n",
       "      <td>0.090179</td>\n",
       "      <td>0.665489</td>\n",
       "      <td>0.655332</td>\n",
       "      <td>0.392530</td>\n",
       "      <td>0.424113</td>\n",
       "      <td>0.223959</td>\n",
       "    </tr>\n",
       "    <tr>\n",
       "      <th>gearbox</th>\n",
       "      <td>0.323692</td>\n",
       "      <td>0.289090</td>\n",
       "      <td>0.142468</td>\n",
       "      <td>1.000000</td>\n",
       "      <td>0.010526</td>\n",
       "      <td>0.647004</td>\n",
       "      <td>0.016211</td>\n",
       "      <td>0.151410</td>\n",
       "      <td>0.520612</td>\n",
       "      <td>0.043643</td>\n",
       "    </tr>\n",
       "    <tr>\n",
       "      <th>power</th>\n",
       "      <td>0.005771</td>\n",
       "      <td>0.011784</td>\n",
       "      <td>0.090179</td>\n",
       "      <td>0.010526</td>\n",
       "      <td>1.000000</td>\n",
       "      <td>0.000000</td>\n",
       "      <td>0.000000</td>\n",
       "      <td>0.010865</td>\n",
       "      <td>0.004528</td>\n",
       "      <td>0.011686</td>\n",
       "    </tr>\n",
       "    <tr>\n",
       "      <th>model</th>\n",
       "      <td>0.579035</td>\n",
       "      <td>0.917284</td>\n",
       "      <td>0.665489</td>\n",
       "      <td>0.647004</td>\n",
       "      <td>0.000000</td>\n",
       "      <td>1.000000</td>\n",
       "      <td>0.443230</td>\n",
       "      <td>0.555037</td>\n",
       "      <td>0.998373</td>\n",
       "      <td>0.159662</td>\n",
       "    </tr>\n",
       "    <tr>\n",
       "      <th>kilometer</th>\n",
       "      <td>0.310958</td>\n",
       "      <td>0.172040</td>\n",
       "      <td>0.655332</td>\n",
       "      <td>0.016211</td>\n",
       "      <td>0.000000</td>\n",
       "      <td>0.443230</td>\n",
       "      <td>1.000000</td>\n",
       "      <td>0.148282</td>\n",
       "      <td>0.274939</td>\n",
       "      <td>0.113004</td>\n",
       "    </tr>\n",
       "    <tr>\n",
       "      <th>fuel_type</th>\n",
       "      <td>0.257507</td>\n",
       "      <td>0.330037</td>\n",
       "      <td>0.392530</td>\n",
       "      <td>0.151410</td>\n",
       "      <td>0.010865</td>\n",
       "      <td>0.555037</td>\n",
       "      <td>0.148282</td>\n",
       "      <td>1.000000</td>\n",
       "      <td>0.322657</td>\n",
       "      <td>0.044536</td>\n",
       "    </tr>\n",
       "    <tr>\n",
       "      <th>brand</th>\n",
       "      <td>0.355571</td>\n",
       "      <td>0.633306</td>\n",
       "      <td>0.424113</td>\n",
       "      <td>0.520612</td>\n",
       "      <td>0.004528</td>\n",
       "      <td>0.998373</td>\n",
       "      <td>0.274939</td>\n",
       "      <td>0.322657</td>\n",
       "      <td>1.000000</td>\n",
       "      <td>0.106007</td>\n",
       "    </tr>\n",
       "    <tr>\n",
       "      <th>repaired</th>\n",
       "      <td>0.380445</td>\n",
       "      <td>0.084591</td>\n",
       "      <td>0.223959</td>\n",
       "      <td>0.043643</td>\n",
       "      <td>0.011686</td>\n",
       "      <td>0.159662</td>\n",
       "      <td>0.113004</td>\n",
       "      <td>0.044536</td>\n",
       "      <td>0.106007</td>\n",
       "      <td>1.000000</td>\n",
       "    </tr>\n",
       "  </tbody>\n",
       "</table>\n",
       "</div>"
      ],
      "text/plain": [
       "                      price  vehicle_type  registration_year   gearbox  \\\n",
       "price              1.000000      0.268142           0.674610  0.323692   \n",
       "vehicle_type       0.268142      1.000000           0.278259  0.289090   \n",
       "registration_year  0.674610      0.278259           1.000000  0.142468   \n",
       "gearbox            0.323692      0.289090           0.142468  1.000000   \n",
       "power              0.005771      0.011784           0.090179  0.010526   \n",
       "model              0.579035      0.917284           0.665489  0.647004   \n",
       "kilometer          0.310958      0.172040           0.655332  0.016211   \n",
       "fuel_type          0.257507      0.330037           0.392530  0.151410   \n",
       "brand              0.355571      0.633306           0.424113  0.520612   \n",
       "repaired           0.380445      0.084591           0.223959  0.043643   \n",
       "\n",
       "                      power     model  kilometer  fuel_type     brand  \\\n",
       "price              0.005771  0.579035   0.310958   0.257507  0.355571   \n",
       "vehicle_type       0.011784  0.917284   0.172040   0.330037  0.633306   \n",
       "registration_year  0.090179  0.665489   0.655332   0.392530  0.424113   \n",
       "gearbox            0.010526  0.647004   0.016211   0.151410  0.520612   \n",
       "power              1.000000  0.000000   0.000000   0.010865  0.004528   \n",
       "model              0.000000  1.000000   0.443230   0.555037  0.998373   \n",
       "kilometer          0.000000  0.443230   1.000000   0.148282  0.274939   \n",
       "fuel_type          0.010865  0.555037   0.148282   1.000000  0.322657   \n",
       "brand              0.004528  0.998373   0.274939   0.322657  1.000000   \n",
       "repaired           0.011686  0.159662   0.113004   0.044536  0.106007   \n",
       "\n",
       "                   repaired  \n",
       "price              0.380445  \n",
       "vehicle_type       0.084591  \n",
       "registration_year  0.223959  \n",
       "gearbox            0.043643  \n",
       "power              0.011686  \n",
       "model              0.159662  \n",
       "kilometer          0.113004  \n",
       "fuel_type          0.044536  \n",
       "brand              0.106007  \n",
       "repaired           1.000000  "
      ]
     },
     "execution_count": 82,
     "metadata": {},
     "output_type": "execute_result"
    }
   ],
   "source": [
    "phik_corr = phik_corr_matrix(data)\n",
    "phik_corr"
   ]
  },
  {
   "cell_type": "code",
   "execution_count": 83,
   "metadata": {},
   "outputs": [
    {
     "name": "stdout",
     "output_type": "stream",
     "text": [
      "1. price           [['registration_year', 0.675], ['gearbox', 0.324], ['model', 0.579], ['kilometer', 0.311], ['brand', 0.356], ['repaired', 0.38]]\n",
      "\n",
      "2. registration_year [['price', 0.675], ['model', 0.665], ['kilometer', 0.655], ['fuel_type', 0.393], ['brand', 0.424]]\n",
      "\n",
      "3. gearbox         [['price', 0.324], ['model', 0.647], ['brand', 0.521]]\n",
      "\n",
      "4. model           [['price', 0.579], ['vehicle_type', 0.917], ['registration_year', 0.665], ['gearbox', 0.647], ['kilometer', 0.443], ['fuel_type', 0.555], ['brand', 0.998]]\n",
      "\n",
      "5. kilometer       [['price', 0.311], ['registration_year', 0.655], ['model', 0.443]]\n",
      "\n",
      "6. brand           [['price', 0.356], ['vehicle_type', 0.633], ['registration_year', 0.424], ['gearbox', 0.521], ['model', 0.998], ['fuel_type', 0.323]]\n",
      "\n",
      "7. repaired        [['price', 0.38]]\n",
      "\n",
      "8. vehicle_type    [['model', 0.917], ['fuel_type', 0.33], ['brand', 0.633]]\n",
      "\n",
      "9. fuel_type       [['vehicle_type', 0.33], ['registration_year', 0.393], ['model', 0.555], ['brand', 0.323]]\n",
      "\n"
     ]
    }
   ],
   "source": [
    "most_corr_val_phik(phik_corr, .3)"
   ]
  },
  {
   "cell_type": "markdown",
   "metadata": {},
   "source": [
    "Для столбцов с пропусками выявлены наиболее коррелирующие стобцы:\n",
    "- vehicle_type — model(0.917), brand(0.633);\n",
    "- fuel_type — model(0.555);\n",
    "- gearbox — model(0.647), brand(0.521);\n",
    "- model — vehicle_type(0.917), brand(0.998)\n",
    "- repaired — price(0.38).\n",
    "\n",
    "*Возможно, что используя эти столбцы удастся восстановить пропущенные значения.*"
   ]
  },
  {
   "cell_type": "markdown",
   "metadata": {},
   "source": [
    "#### Заключение"
   ]
  },
  {
   "cell_type": "markdown",
   "metadata": {},
   "source": [
    "По результату оценки каждого столбца были приняты заключения:\n",
    "\n",
    "1. **price** — требуется провести фильтрацию данных, убрать значения, где присутствует 0(3%). Это целевой признак, его парамтеры критически важны. Нижнюю границу обозначить в 99 евро;\n",
    "2. **vehicle_type** — необходимо избавиться от типа кузова(vehicle_type) other(0.93%) — его присутствие не обеспечит надлежащего качества;\n",
    "3. **registration_year** — требуется ограничить значения по году регитсрации, обнаружены явные ошибки. Для ограничения использовать диапазон 1989 - 2017. Порядка 4% данных будет отсеяно;\n",
    "4. **gearbox** — значения в порядке;\n",
    "5. **power** — требуется восстановлнение данных, где в признаке power указан 0, предварительно отфильтровав по верхнему значению в 340 и нижнему в 11 л.с.;\n",
    "6. **model** — по столбцу не выявлено аномалий, в наборе данных пристутсвуют одинаковые модели у разных брендов;\n",
    "7. **kilometer** — необходимость в корректировке столбца kilometer сомнительна. Данные на первый взгляд нормальные. Существует предположение о малой значимости этого столбца для машинного обучения ввиду специфики значений и их ограниченности;\n",
    "8. **fuel_type** — Тип other может быть пропуском, либо, это действительно, какой-то особый вид топлива. Интересно, что около 0.3% данных составляют редкие виды топлива(cng, hybrid, other, electric), предположительно, эти объекты обладают малым количеством значений, что негативно скажется на обучении модели. Возможно, после попытки восстановления, стоит еще раз оценить значения на предмет удаления. 9.28% — это пропущенные значения. Стоит скорректировать значения petrol и gasoline это одно и тоже;\n",
    "9. **brand** — корректировка не нужна;\n",
    "10. **repaired** — Достаточно большое количество пропусков, предположительно не ставился пользователем ввиду отсутствия машины в ремонте. Этот столбец, после восстановления данных можно кодировать в 0 и 1;\n",
    "11. **оценка дубликатов** — данные имеют 13% дубликатов, возможно, что после корректировки информации по столбцам количество дубликатов изменится. Стоит провести повторный анализ после мероприятий предобработки для принятия решения о корректировке;\n",
    "12. **корреляция значений** — выявлена коррелирующие столбцы с помощью которых, возможно, удастся восстановить недостающие значения: \n",
    "    - vehicle_type — model(0.917), brand(0.633);\n",
    "    - fuel_type — model(0.555);\n",
    "    - gearbox — model(0.647), brand(0.521);\n",
    "    - model — vehicle_type(0.917), brand(0.998)\n",
    "    - repaired — price(0.38)."
   ]
  },
  {
   "cell_type": "markdown",
   "metadata": {},
   "source": [
    "### Корректировка значений"
   ]
  },
  {
   "cell_type": "markdown",
   "metadata": {},
   "source": [
    "Этот пункт подразумевает корректировку данных для конкретных стобцов, подготоавливая набор данных для восстановления. Столбцы, которые будут рассмотрены:\n",
    "- price;\n",
    "- vehicle_type;\n",
    "- registration_year;\n",
    "- fuel_type;\n",
    "- power."
   ]
  },
  {
   "cell_type": "markdown",
   "metadata": {},
   "source": [
    "Определим функцию для оценки, сколько значений осталось после удаления"
   ]
  },
  {
   "cell_type": "code",
   "execution_count": 84,
   "metadata": {},
   "outputs": [],
   "source": [
    "def how_much_is_left(left=True):\n",
    "    ans = round(data.shape[0]\\\n",
    "         /data_shape_zero_initially*100, 3)\n",
    "    if left:\n",
    "        print(f'Данных удалено: {100 - ans :.3f}%')\n",
    "    else:    \n",
    "        print(f'После удаления осталось данных:')\n",
    "        print(f'- {ans}%.')"
   ]
  },
  {
   "cell_type": "markdown",
   "metadata": {},
   "source": [
    "#### price"
   ]
  },
  {
   "cell_type": "markdown",
   "metadata": {},
   "source": [
    "Произведём ограничение значений по цене в 99 евро."
   ]
  },
  {
   "cell_type": "code",
   "execution_count": 85,
   "metadata": {},
   "outputs": [],
   "source": [
    "data = data.loc[data['price'] >= 99]"
   ]
  },
  {
   "cell_type": "code",
   "execution_count": 86,
   "metadata": {},
   "outputs": [
    {
     "name": "stdout",
     "output_type": "stream",
     "text": [
      "Данных удалено: 4.164%\n"
     ]
    }
   ],
   "source": [
    "how_much_is_left()"
   ]
  },
  {
   "cell_type": "markdown",
   "metadata": {},
   "source": [
    "#### vehicle_type"
   ]
  },
  {
   "cell_type": "markdown",
   "metadata": {},
   "source": [
    "Избавимся от типа кузова 'other'"
   ]
  },
  {
   "cell_type": "code",
   "execution_count": 87,
   "metadata": {},
   "outputs": [],
   "source": [
    "data = data.loc[data['vehicle_type'] != 'other']"
   ]
  },
  {
   "cell_type": "code",
   "execution_count": 88,
   "metadata": {},
   "outputs": [
    {
     "name": "stdout",
     "output_type": "stream",
     "text": [
      "Данных удалено: 5.021%\n"
     ]
    }
   ],
   "source": [
    "how_much_is_left()"
   ]
  },
  {
   "cell_type": "markdown",
   "metadata": {},
   "source": [
    "#### registration_year"
   ]
  },
  {
   "cell_type": "markdown",
   "metadata": {},
   "source": [
    "Введём ограничения по году регистрации автомобиля(1989 - 2017)."
   ]
  },
  {
   "cell_type": "code",
   "execution_count": 89,
   "metadata": {},
   "outputs": [],
   "source": [
    "data = data.loc[(data['registration_year'] >= 1989) &\n",
    "         (data['registration_year'] <= 2016)]"
   ]
  },
  {
   "cell_type": "code",
   "execution_count": 90,
   "metadata": {},
   "outputs": [
    {
     "name": "stdout",
     "output_type": "stream",
     "text": [
      "Данных удалено: 10.900%\n"
     ]
    }
   ],
   "source": [
    "how_much_is_left()"
   ]
  },
  {
   "cell_type": "markdown",
   "metadata": {},
   "source": [
    "#### fuel_type"
   ]
  },
  {
   "cell_type": "markdown",
   "metadata": {},
   "source": [
    "Cкорректируем значения petrol и gasoline это одно и тоже."
   ]
  },
  {
   "cell_type": "code",
   "execution_count": 91,
   "metadata": {},
   "outputs": [],
   "source": [
    "data.loc[data['fuel_type'] == 'gasoline', 'fuel_type'] = 'petrol'"
   ]
  },
  {
   "cell_type": "markdown",
   "metadata": {},
   "source": [
    "Произведём фильтрацию по редким видам топлива: cng, hybrid, other, electric. "
   ]
  },
  {
   "cell_type": "code",
   "execution_count": 92,
   "metadata": {},
   "outputs": [],
   "source": [
    "data = data.loc[(data['fuel_type'] != 'cng') &\n",
    "                (data['fuel_type'] != 'hybrid') &\n",
    "                (data['fuel_type'] != 'other') &\n",
    "                (data['fuel_type'] != 'electric')]"
   ]
  },
  {
   "cell_type": "code",
   "execution_count": 93,
   "metadata": {},
   "outputs": [
    {
     "name": "stdout",
     "output_type": "stream",
     "text": [
      "Данных удалено: 11.152%\n"
     ]
    }
   ],
   "source": [
    "how_much_is_left()"
   ]
  },
  {
   "cell_type": "markdown",
   "metadata": {},
   "source": [
    "#### power"
   ]
  },
  {
   "cell_type": "code",
   "execution_count": 94,
   "metadata": {},
   "outputs": [],
   "source": [
    "data = data.loc[(data['power'] == 0) | (data['power'] >= 11) & (data['power'] <= 700)]"
   ]
  },
  {
   "cell_type": "code",
   "execution_count": 95,
   "metadata": {},
   "outputs": [
    {
     "name": "stdout",
     "output_type": "stream",
     "text": [
      "Данных удалено: 11.271%\n"
     ]
    }
   ],
   "source": [
    "how_much_is_left()"
   ]
  },
  {
   "cell_type": "markdown",
   "metadata": {},
   "source": [
    "#### Заключение"
   ]
  },
  {
   "cell_type": "code",
   "execution_count": 96,
   "metadata": {},
   "outputs": [
    {
     "name": "stdout",
     "output_type": "stream",
     "text": [
      "После удаления осталось данных:\n",
      "- 88.729%.\n"
     ]
    }
   ],
   "source": [
    "how_much_is_left(False)"
   ]
  },
  {
   "cell_type": "markdown",
   "metadata": {},
   "source": [
    "*В результате корректировки, набор данных лишился 8% неявной информации.*"
   ]
  },
  {
   "cell_type": "markdown",
   "metadata": {},
   "source": [
    "Произведена фильтрация значений, можно приступать к восстановлению данных."
   ]
  },
  {
   "cell_type": "markdown",
   "metadata": {},
   "source": [
    "### Восстановление данных"
   ]
  },
  {
   "cell_type": "markdown",
   "metadata": {},
   "source": [
    "Операцию будем проводить для столбцов в которых обнаружены пропуски:\n",
    "- repaired;\n",
    "- vehicle_type;\n",
    "- fuel_type;\n",
    "- gearbox;\n",
    "- model;\n",
    "- power."
   ]
  },
  {
   "cell_type": "markdown",
   "metadata": {},
   "source": [
    "Напомним корреляцию: \n",
    "\n",
    "- vehicle_type — model(0.917), brand(0.633);\n",
    "- fuel_type — model(0.555);\n",
    "- gearbox — model(0.647), brand(0.521);\n",
    "- model — vehicle_type(0.917), brand(0.998)\n",
    "- repaired — price(0.38)."
   ]
  },
  {
   "cell_type": "markdown",
   "metadata": {},
   "source": [
    "Выовем функцию для демонстрации их количества и процентного соотношения"
   ]
  },
  {
   "cell_type": "code",
   "execution_count": 97,
   "metadata": {},
   "outputs": [
    {
     "data": {
      "text/html": [
       "<div>\n",
       "<style scoped>\n",
       "    .dataframe tbody tr th:only-of-type {\n",
       "        vertical-align: middle;\n",
       "    }\n",
       "\n",
       "    .dataframe tbody tr th {\n",
       "        vertical-align: top;\n",
       "    }\n",
       "\n",
       "    .dataframe thead th {\n",
       "        text-align: right;\n",
       "    }\n",
       "</style>\n",
       "<table border=\"1\" class=\"dataframe\">\n",
       "  <thead>\n",
       "    <tr style=\"text-align: right;\">\n",
       "      <th></th>\n",
       "      <th>количество</th>\n",
       "      <th>%</th>\n",
       "    </tr>\n",
       "  </thead>\n",
       "  <tbody>\n",
       "    <tr>\n",
       "      <th>repaired</th>\n",
       "      <td>55008</td>\n",
       "      <td>17.49</td>\n",
       "    </tr>\n",
       "    <tr>\n",
       "      <th>fuel_type</th>\n",
       "      <td>21661</td>\n",
       "      <td>6.89</td>\n",
       "    </tr>\n",
       "    <tr>\n",
       "      <th>vehicle_type</th>\n",
       "      <td>18140</td>\n",
       "      <td>5.77</td>\n",
       "    </tr>\n",
       "    <tr>\n",
       "      <th>gearbox</th>\n",
       "      <td>13450</td>\n",
       "      <td>4.28</td>\n",
       "    </tr>\n",
       "    <tr>\n",
       "      <th>model</th>\n",
       "      <td>13390</td>\n",
       "      <td>4.26</td>\n",
       "    </tr>\n",
       "  </tbody>\n",
       "</table>\n",
       "</div>"
      ],
      "text/plain": [
       "              количество      %\n",
       "repaired           55008  17.49\n",
       "fuel_type          21661   6.89\n",
       "vehicle_type       18140   5.77\n",
       "gearbox            13450   4.28\n",
       "model              13390   4.26"
      ]
     },
     "execution_count": 97,
     "metadata": {},
     "output_type": "execute_result"
    }
   ],
   "source": [
    "isna_info(data)"
   ]
  },
  {
   "cell_type": "code",
   "execution_count": 98,
   "metadata": {},
   "outputs": [
    {
     "data": {
      "text/html": [
       "<div>\n",
       "<style scoped>\n",
       "    .dataframe tbody tr th:only-of-type {\n",
       "        vertical-align: middle;\n",
       "    }\n",
       "\n",
       "    .dataframe tbody tr th {\n",
       "        vertical-align: top;\n",
       "    }\n",
       "\n",
       "    .dataframe thead th {\n",
       "        text-align: right;\n",
       "    }\n",
       "</style>\n",
       "<table border=\"1\" class=\"dataframe\">\n",
       "  <thead>\n",
       "    <tr style=\"text-align: right;\">\n",
       "      <th></th>\n",
       "      <th>power</th>\n",
       "      <th>(%)</th>\n",
       "    </tr>\n",
       "  </thead>\n",
       "  <tbody>\n",
       "    <tr>\n",
       "      <th>0</th>\n",
       "      <td>29331</td>\n",
       "      <td>9.33</td>\n",
       "    </tr>\n",
       "  </tbody>\n",
       "</table>\n",
       "</div>"
      ],
      "text/plain": [
       "   power   (%)\n",
       "0  29331  9.33"
      ]
     },
     "execution_count": 98,
     "metadata": {},
     "output_type": "execute_result"
    }
   ],
   "source": [
    "values_with_percent('power')[:1]"
   ]
  },
  {
   "cell_type": "markdown",
   "metadata": {},
   "source": [
    "*Начнём восстановление со столбца power*"
   ]
  },
  {
   "cell_type": "markdown",
   "metadata": {},
   "source": [
    "#### power"
   ]
  },
  {
   "cell_type": "markdown",
   "metadata": {},
   "source": [
    "Определим функцию для восстановления данных. Функция будет считать среднюю мощность у конкретного бренда и модели определённого типа кузова, передавая среднее значение пропускам по этому фильтру."
   ]
  },
  {
   "cell_type": "code",
   "execution_count": 99,
   "metadata": {},
   "outputs": [],
   "source": [
    "data.loc[data['power']==0, 'power'] = None"
   ]
  },
  {
   "cell_type": "code",
   "execution_count": 100,
   "metadata": {},
   "outputs": [],
   "source": [
    "data['power'] = data['power'].fillna(data.groupby(by=['brand', 'vehicle_type', 'model'],\\\n",
    "                                                  dropna=False)['power'].transform('median'))"
   ]
  },
  {
   "cell_type": "markdown",
   "metadata": {},
   "source": [
    "Оценим результат"
   ]
  },
  {
   "cell_type": "code",
   "execution_count": 101,
   "metadata": {},
   "outputs": [
    {
     "data": {
      "text/plain": [
       "False    314270\n",
       "True        158\n",
       "Name: power, dtype: int64"
      ]
     },
     "execution_count": 101,
     "metadata": {},
     "output_type": "execute_result"
    }
   ],
   "source": [
    "data['power'].isna().value_counts()"
   ]
  },
  {
   "cell_type": "markdown",
   "metadata": {},
   "source": [
    "*Как видно, часть значений притерпело изменения, будем надеятся корректно.*"
   ]
  },
  {
   "cell_type": "markdown",
   "metadata": {},
   "source": [
    "#### gearbox"
   ]
  },
  {
   "cell_type": "markdown",
   "metadata": {},
   "source": [
    "Определим функцию для нахождения пропусков в `gearbox`"
   ]
  },
  {
   "cell_type": "code",
   "execution_count": 102,
   "metadata": {},
   "outputs": [],
   "source": [
    "def recovery_data(column):\n",
    "    new_data = data.copy()\n",
    "    new_data[column] = new_data[column].fillna(new_data.groupby(by=['brand', 'vehicle_type', 'model'], dropna=False)              \n",
    "                           [column].agg(lambda x: x.value_counts(dropna=False).index[0])[0])\n",
    "    \n",
    "    return new_data[column]"
   ]
  },
  {
   "cell_type": "code",
   "execution_count": 103,
   "metadata": {},
   "outputs": [],
   "source": [
    "data['gearbox'] = recovery_data('gearbox')"
   ]
  },
  {
   "cell_type": "markdown",
   "metadata": {},
   "source": [
    "Оценим результат обработки"
   ]
  },
  {
   "cell_type": "code",
   "execution_count": 104,
   "metadata": {},
   "outputs": [
    {
     "data": {
      "text/plain": [
       "manual    254148\n",
       "auto       60280\n",
       "Name: gearbox, dtype: int64"
      ]
     },
     "execution_count": 104,
     "metadata": {},
     "output_type": "execute_result"
    }
   ],
   "source": [
    "data['gearbox'].value_counts(dropna=False)"
   ]
  },
  {
   "cell_type": "markdown",
   "metadata": {},
   "source": [
    "#### fuel_type"
   ]
  },
  {
   "cell_type": "markdown",
   "metadata": {},
   "source": [
    "Используем `recovery_data` для восстановления"
   ]
  },
  {
   "cell_type": "code",
   "execution_count": 105,
   "metadata": {},
   "outputs": [],
   "source": [
    "data['fuel_type'] = recovery_data('fuel_type')"
   ]
  },
  {
   "cell_type": "markdown",
   "metadata": {},
   "source": [
    "Проверим результат"
   ]
  },
  {
   "cell_type": "code",
   "execution_count": 106,
   "metadata": {},
   "outputs": [
    {
     "data": {
      "text/plain": [
       "petrol    309540\n",
       "lpg         4888\n",
       "Name: fuel_type, dtype: int64"
      ]
     },
     "execution_count": 106,
     "metadata": {},
     "output_type": "execute_result"
    }
   ],
   "source": [
    "data['fuel_type'].value_counts()"
   ]
  },
  {
   "cell_type": "markdown",
   "metadata": {},
   "source": [
    "#### vehicle_type"
   ]
  },
  {
   "cell_type": "markdown",
   "metadata": {},
   "source": [
    "Основываясь на значениях корреляции, восполним столбец самым частым значением для бренда и модели. Возьмём для оценки справделивости суждения произвольный бренд и модель. "
   ]
  },
  {
   "cell_type": "code",
   "execution_count": 107,
   "metadata": {},
   "outputs": [
    {
     "data": {
      "text/plain": [
       "wagon          6862\n",
       "sedan          2038\n",
       "coupe           176\n",
       "small             6\n",
       "bus               5\n",
       "suv               4\n",
       "convertible       1\n",
       "Name: vehicle_type, dtype: int64"
      ]
     },
     "execution_count": 107,
     "metadata": {},
     "output_type": "execute_result"
    }
   ],
   "source": [
    "data.loc[(data['brand']=='volkswagen') &\n",
    "         (data['model']=='passat'), 'vehicle_type'].value_counts()"
   ]
  },
  {
   "cell_type": "markdown",
   "metadata": {},
   "source": [
    "*Если предположить, что тип кузова не указан, как раз потому, что это он наиболее распространен, тогда картинка складывается.*"
   ]
  },
  {
   "cell_type": "code",
   "execution_count": 108,
   "metadata": {},
   "outputs": [],
   "source": [
    "def recovery_other_data(column):\n",
    "    new_data = data.copy()\n",
    "    new_data[column] = new_data[column].fillna(new_data.groupby(by=['brand', 'model'], dropna=False)\\\n",
    "                [column].agg(lambda x: x.value_counts(dropna=False).index[0])[0])\n",
    "    \n",
    "    return new_data[column]"
   ]
  },
  {
   "cell_type": "code",
   "execution_count": 109,
   "metadata": {},
   "outputs": [],
   "source": [
    "data['vehicle_type'] = recovery_other_data('vehicle_type')"
   ]
  },
  {
   "cell_type": "code",
   "execution_count": 110,
   "metadata": {},
   "outputs": [
    {
     "data": {
      "text/html": [
       "<div>\n",
       "<style scoped>\n",
       "    .dataframe tbody tr th:only-of-type {\n",
       "        vertical-align: middle;\n",
       "    }\n",
       "\n",
       "    .dataframe tbody tr th {\n",
       "        vertical-align: top;\n",
       "    }\n",
       "\n",
       "    .dataframe thead th {\n",
       "        text-align: right;\n",
       "    }\n",
       "</style>\n",
       "<table border=\"1\" class=\"dataframe\">\n",
       "  <thead>\n",
       "    <tr style=\"text-align: right;\">\n",
       "      <th></th>\n",
       "      <th>количество</th>\n",
       "      <th>%</th>\n",
       "    </tr>\n",
       "  </thead>\n",
       "  <tbody>\n",
       "    <tr>\n",
       "      <th>repaired</th>\n",
       "      <td>55008</td>\n",
       "      <td>17.49</td>\n",
       "    </tr>\n",
       "    <tr>\n",
       "      <th>model</th>\n",
       "      <td>13390</td>\n",
       "      <td>4.26</td>\n",
       "    </tr>\n",
       "    <tr>\n",
       "      <th>power</th>\n",
       "      <td>158</td>\n",
       "      <td>0.05</td>\n",
       "    </tr>\n",
       "  </tbody>\n",
       "</table>\n",
       "</div>"
      ],
      "text/plain": [
       "          количество      %\n",
       "repaired       55008  17.49\n",
       "model          13390   4.26\n",
       "power            158   0.05"
      ]
     },
     "execution_count": 110,
     "metadata": {},
     "output_type": "execute_result"
    }
   ],
   "source": [
    "isna_info(data)"
   ]
  },
  {
   "cell_type": "markdown",
   "metadata": {},
   "source": [
    "#### model"
   ]
  },
  {
   "cell_type": "markdown",
   "metadata": {},
   "source": [
    "Этот столбец коррелирует с `vehical_type` и `brand`. Определим похожий алгоритм, как и у других столбцов. Оценим возможность заполнения модели бренда выбранным видом кузова"
   ]
  },
  {
   "cell_type": "code",
   "execution_count": 111,
   "metadata": {},
   "outputs": [
    {
     "data": {
      "text/plain": [
       "polo      10664\n",
       "golf       5533\n",
       "lupo       2351\n",
       "fox         679\n",
       "passat      319\n",
       "Name: model, dtype: int64"
      ]
     },
     "execution_count": 111,
     "metadata": {},
     "output_type": "execute_result"
    }
   ],
   "source": [
    "data.loc[(data['brand']=='volkswagen') &\n",
    "         (data['vehicle_type']=='small'), 'model'].value_counts().head()"
   ]
  },
  {
   "cell_type": "markdown",
   "metadata": {},
   "source": [
    "*Предположительно, результат преобразования должен оправдать себя.*"
   ]
  },
  {
   "cell_type": "code",
   "execution_count": 112,
   "metadata": {},
   "outputs": [],
   "source": [
    "data['model'] = data['model'].fillna(data.groupby(by=['brand', 'vehicle_type'], dropna=False)\\\n",
    "                ['model'].agg(lambda x: x.value_counts(dropna=False).index[0])[0])"
   ]
  },
  {
   "cell_type": "code",
   "execution_count": 113,
   "metadata": {},
   "outputs": [
    {
     "data": {
      "text/html": [
       "<div>\n",
       "<style scoped>\n",
       "    .dataframe tbody tr th:only-of-type {\n",
       "        vertical-align: middle;\n",
       "    }\n",
       "\n",
       "    .dataframe tbody tr th {\n",
       "        vertical-align: top;\n",
       "    }\n",
       "\n",
       "    .dataframe thead th {\n",
       "        text-align: right;\n",
       "    }\n",
       "</style>\n",
       "<table border=\"1\" class=\"dataframe\">\n",
       "  <thead>\n",
       "    <tr style=\"text-align: right;\">\n",
       "      <th></th>\n",
       "      <th>количество</th>\n",
       "      <th>%</th>\n",
       "    </tr>\n",
       "  </thead>\n",
       "  <tbody>\n",
       "    <tr>\n",
       "      <th>repaired</th>\n",
       "      <td>55008</td>\n",
       "      <td>17.49</td>\n",
       "    </tr>\n",
       "    <tr>\n",
       "      <th>power</th>\n",
       "      <td>158</td>\n",
       "      <td>0.05</td>\n",
       "    </tr>\n",
       "  </tbody>\n",
       "</table>\n",
       "</div>"
      ],
      "text/plain": [
       "          количество      %\n",
       "repaired       55008  17.49\n",
       "power            158   0.05"
      ]
     },
     "execution_count": 113,
     "metadata": {},
     "output_type": "execute_result"
    }
   ],
   "source": [
    "isna_info(data)"
   ]
  },
  {
   "cell_type": "markdown",
   "metadata": {},
   "source": [
    "#### repaired\n"
   ]
  },
  {
   "cell_type": "markdown",
   "metadata": {},
   "source": [
    "Основное предположение заключается в том, что автомобиль бывший в ремонте дешевле своих собратьев(коррелирует с price 0.38). На этой основе будем создавать фильтр значений, где для пропуска, если цена автомобиля ниже медианы, то был в ремонте, если выше, то не был."
   ]
  },
  {
   "cell_type": "code",
   "execution_count": 114,
   "metadata": {},
   "outputs": [],
   "source": [
    "# Список моделей, где repaired == yes\n",
    "# с вычислением медианного и максимального значения цены\n",
    "price_yes = data.loc[data['repaired'] == 'yes'].groupby('model', dropna=False)['price']\n",
    "price_yes_median = price_yes.median()\n",
    "price_yes_max = price_yes.max()"
   ]
  },
  {
   "cell_type": "code",
   "execution_count": 115,
   "metadata": {},
   "outputs": [],
   "source": [
    "# Список моделей, где repaired == no\n",
    "# с вычислением медианного и максимального значения цены\n",
    "price_no = data.loc[data['repaired'] == 'no'].groupby('model', dropna=False)['price']\n",
    "price_no_median = price_no.median()\n",
    "price_no_max = price_no.max()"
   ]
  },
  {
   "cell_type": "code",
   "execution_count": 116,
   "metadata": {},
   "outputs": [],
   "source": [
    "def recovery_repaired(data):\n",
    "    if type(data['repaired']) != str:\n",
    "        mod = data['model']\n",
    "        # Проверка, есть ли модель в списках \n",
    "        if (mod in price_yes_median.index and\n",
    "            mod in price_no_median.index):\n",
    "            # Если есть, то вычисляется разница,\n",
    "            # между значением медианы и текущей цены объекта \n",
    "            # для списков, где был ремонт и не было\n",
    "            ans_yes = abs(price_yes_median[mod] - data['price'])\n",
    "            ans_no = abs(price_no_median[mod] - data['price'])\n",
    "            # В зависимости от того, что больше, определяется\n",
    "            # принадлежность объекта к категории\n",
    "            if ans_yes < ans_no:\n",
    "                return 'yes'\n",
    "            else:\n",
    "                return 'no'\n",
    "            \n",
    "        # Условия ниже на случай, если модель объекта\n",
    "        # находится только в одном из списков\n",
    "        elif mod in price_yes_median.index:\n",
    "            if data['price'] > price_yes_max[mod]:\n",
    "                return 'no'\n",
    "            else:\n",
    "                return 'yes'\n",
    "        # для неахождения категории используется\n",
    "        # 1 квантиль\n",
    "        elif mod in price_no_median.index:\n",
    "            q1 = (price_no_median[mod]*2*.25)\n",
    "            if data['price'] < q1:\n",
    "                return 'yes'\n",
    "            else:\n",
    "                return 'no'\n",
    "    else:\n",
    "        return data['repaired']"
   ]
  },
  {
   "cell_type": "code",
   "execution_count": 117,
   "metadata": {},
   "outputs": [
    {
     "name": "stdout",
     "output_type": "stream",
     "text": [
      "CPU times: total: 3.53 s\n",
      "Wall time: 3.54 s\n"
     ]
    }
   ],
   "source": [
    "%%time\n",
    "data['repaired'] = data.apply(recovery_repaired, axis=1)"
   ]
  },
  {
   "cell_type": "code",
   "execution_count": 118,
   "metadata": {},
   "outputs": [
    {
     "data": {
      "text/plain": [
       "no     250077\n",
       "yes     64351\n",
       "Name: repaired, dtype: int64"
      ]
     },
     "execution_count": 118,
     "metadata": {},
     "output_type": "execute_result"
    }
   ],
   "source": [
    "data['repaired'].value_counts()"
   ]
  },
  {
   "cell_type": "markdown",
   "metadata": {},
   "source": [
    "*В целом значения распределились в основном в сторону критерия 'yes'(около 80% значений). Критерий 'no' получил около 20% значений.*"
   ]
  },
  {
   "cell_type": "markdown",
   "metadata": {},
   "source": [
    "#### Заключение"
   ]
  },
  {
   "cell_type": "markdown",
   "metadata": {},
   "source": [
    "Оценим результат восстановления данных"
   ]
  },
  {
   "cell_type": "code",
   "execution_count": 119,
   "metadata": {},
   "outputs": [
    {
     "data": {
      "text/html": [
       "<div>\n",
       "<style scoped>\n",
       "    .dataframe tbody tr th:only-of-type {\n",
       "        vertical-align: middle;\n",
       "    }\n",
       "\n",
       "    .dataframe tbody tr th {\n",
       "        vertical-align: top;\n",
       "    }\n",
       "\n",
       "    .dataframe thead th {\n",
       "        text-align: right;\n",
       "    }\n",
       "</style>\n",
       "<table border=\"1\" class=\"dataframe\">\n",
       "  <thead>\n",
       "    <tr style=\"text-align: right;\">\n",
       "      <th></th>\n",
       "      <th>количество</th>\n",
       "      <th>%</th>\n",
       "    </tr>\n",
       "  </thead>\n",
       "  <tbody>\n",
       "    <tr>\n",
       "      <th>power</th>\n",
       "      <td>158</td>\n",
       "      <td>0.05</td>\n",
       "    </tr>\n",
       "  </tbody>\n",
       "</table>\n",
       "</div>"
      ],
      "text/plain": [
       "       количество     %\n",
       "power         158  0.05"
      ]
     },
     "execution_count": 119,
     "metadata": {},
     "output_type": "execute_result"
    }
   ],
   "source": [
    "isna_info(data)"
   ]
  },
  {
   "cell_type": "markdown",
   "metadata": {},
   "source": [
    "*Удалось восстановить большую часть значений.*\n"
   ]
  },
  {
   "cell_type": "markdown",
   "metadata": {},
   "source": [
    "### Дубликаты и удаление"
   ]
  },
  {
   "cell_type": "markdown",
   "metadata": {},
   "source": [
    "Оценим, какое количество значений от изначального набора осталось"
   ]
  },
  {
   "cell_type": "code",
   "execution_count": 120,
   "metadata": {
    "scrolled": true
   },
   "outputs": [
    {
     "name": "stdout",
     "output_type": "stream",
     "text": [
      "После удаления осталось данных:\n",
      "- 88.729%.\n"
     ]
    }
   ],
   "source": [
    "how_much_is_left(left=False)"
   ]
  },
  {
   "cell_type": "markdown",
   "metadata": {},
   "source": [
    "#### Дубликаты"
   ]
  },
  {
   "cell_type": "markdown",
   "metadata": {},
   "source": [
    "Проверим набор данных на предмет оставшихся дубликатов"
   ]
  },
  {
   "cell_type": "code",
   "execution_count": 121,
   "metadata": {},
   "outputs": [
    {
     "data": {
      "text/plain": [
       "False    83.09\n",
       "True     16.91\n",
       "dtype: float64"
      ]
     },
     "execution_count": 121,
     "metadata": {},
     "output_type": "execute_result"
    }
   ],
   "source": [
    "how_percent(data.duplicated().value_counts())"
   ]
  },
  {
   "cell_type": "markdown",
   "metadata": {},
   "source": [
    "16% дубликатов — очень много, но от них придётся избавиться."
   ]
  },
  {
   "cell_type": "code",
   "execution_count": 122,
   "metadata": {},
   "outputs": [],
   "source": [
    "data = data.drop_duplicates()"
   ]
  },
  {
   "cell_type": "markdown",
   "metadata": {},
   "source": [
    "#### Пропуски"
   ]
  },
  {
   "cell_type": "code",
   "execution_count": 123,
   "metadata": {},
   "outputs": [],
   "source": [
    "data = data.dropna()"
   ]
  },
  {
   "cell_type": "markdown",
   "metadata": {},
   "source": [
    "#### Заключение"
   ]
  },
  {
   "cell_type": "markdown",
   "metadata": {},
   "source": [
    "Проведём оценку, какой процент данных остался от начального набора."
   ]
  },
  {
   "cell_type": "code",
   "execution_count": 124,
   "metadata": {},
   "outputs": [
    {
     "name": "stdout",
     "output_type": "stream",
     "text": [
      "После удаления осталось данных:\n",
      "- 73.699%.\n"
     ]
    }
   ],
   "source": [
    "how_much_is_left(left=False)"
   ]
  },
  {
   "cell_type": "markdown",
   "metadata": {},
   "source": [
    "*Потеря почти 24% данных — это очень много, но, видимо такой набор, процент дубликатов, оказался слишком высок.*"
   ]
  },
  {
   "cell_type": "markdown",
   "metadata": {},
   "source": [
    "### Подготовка признаков"
   ]
  },
  {
   "cell_type": "markdown",
   "metadata": {},
   "source": [
    "Произведём разбиение набора данных на признаки"
   ]
  },
  {
   "cell_type": "code",
   "execution_count": 125,
   "metadata": {},
   "outputs": [
    {
     "name": "stdout",
     "output_type": "stream",
     "text": [
      "Процентное соотношение выборок после разделения: \n",
      "обучающая                59.9999%\n",
      "валидационная            19.9998%\n",
      "тестовая                 20.0002%\n"
     ]
    }
   ],
   "source": [
    "features = data.drop(['price'], axis=1)\n",
    "target = data['price']\n",
    "\n",
    "features_train, features_valid, target_train, target_valid = train_test_split(\n",
    "    features, target, test_size = .4, random_state=12345)\n",
    "\n",
    "features_valid, features_test, target_valid, target_test = train_test_split(\n",
    "    features_valid, target_valid, test_size = .5, random_state=12345)\n",
    "\n",
    "dict_signs_norm = {'обучающая':features_train, 'валидационная':features_valid, 'тестовая':features_test}\n",
    "print('Процентное соотношение выборок после разделения: ')\n",
    "for key, val in dict_signs_norm.items():\n",
    "    print(f'{key:<24} {val.shape[0]/data.shape[0]*100 :.4f}%')"
   ]
  },
  {
   "cell_type": "markdown",
   "metadata": {},
   "source": [
    "**Для RFR модели**"
   ]
  },
  {
   "cell_type": "code",
   "execution_count": 126,
   "metadata": {},
   "outputs": [
    {
     "name": "stdout",
     "output_type": "stream",
     "text": [
      "Процентное соотношение выборок после разделения: \n",
      "обучающая                59.9999%\n",
      "валидационная            19.9998%\n",
      "тестовая                 20.0002%\n"
     ]
    }
   ],
   "source": [
    "def for_rfr_model(data):\n",
    "    def selection(select):\n",
    "        features = select.drop(['price'], axis=1)\n",
    "        target = select['price']\n",
    "        return features, target\n",
    "    \n",
    "    new_data = pd.get_dummies(data, drop_first=True)\n",
    "    train, valid, test = np.split(new_data.sample(frac=1, random_state=12345),\\\n",
    "                                  [int(.6*len(new_data)), int(.8*len(new_data))])\n",
    "    \n",
    "    dict_signs = {'обучающая':train, 'валидационная':valid, 'тестовая':test}\n",
    "    print('Процентное соотношение выборок после разделения: ')\n",
    "    for key, val in dict_signs.items():\n",
    "        print(f'{key:<24} {val.shape[0]/data.shape[0]*100 :.4f}%')\n",
    "        \n",
    "    rfr_features_train, rfr_target_train = selection(train)\n",
    "    rfr_features_valid, rfr_target_valid = selection(valid)\n",
    "    rfr_features_test, rfr_target_test = selection(test)\n",
    "    \n",
    "    return rfr_features_train, rfr_target_train,\\\n",
    "            rfr_features_valid, rfr_target_valid,\\\n",
    "            rfr_features_test, rfr_target_test \n",
    "\n",
    "rfr_features_train, rfr_target_train,\\\n",
    "rfr_features_valid, rfr_target_valid,\\\n",
    "rfr_features_test, rfr_target_test = for_rfr_model(data) "
   ]
  },
  {
   "cell_type": "markdown",
   "metadata": {},
   "source": [
    "*Подготовили данные, произвели разбиение на разные выборки.*"
   ]
  },
  {
   "cell_type": "markdown",
   "metadata": {},
   "source": [
    "### Заключение"
   ]
  },
  {
   "cell_type": "markdown",
   "metadata": {},
   "source": [
    "По итогу первой части были осуществлены меры по загрузке, изучению и подготовке данных:\n",
    "1. Осуществлена загрузка и оценка значений, выявлены небольшие недочёты, такие как: \n",
    "    - пропуски в данных;\n",
    "    - дубликаты;\n",
    "    - неправильные типы данных у некоторых столбцов;\n",
    "    - потенциально неинформативные столбцы;\n",
    "    - некорректные имена столбцов;\n",
    "    - ошибочные значения в значениях столбцов.\n",
    "    \n",
    "    \n",
    "2. Проведена работа по устранению неточностей, корректировке и восстановлению значений.\n",
    "3. Проведена работа по подготовке значений к дальнейшему исследованию. "
   ]
  },
  {
   "cell_type": "markdown",
   "metadata": {},
   "source": [
    "## Обучение моделей"
   ]
  },
  {
   "cell_type": "markdown",
   "metadata": {},
   "source": [
    "Обучим разные модели меняя гиперпараметры для получения большей точности."
   ]
  },
  {
   "cell_type": "markdown",
   "metadata": {},
   "source": [
    "### CatBoost"
   ]
  },
  {
   "cell_type": "code",
   "execution_count": 127,
   "metadata": {},
   "outputs": [],
   "source": [
    "cat_features=['vehicle_type', 'gearbox', 'model', 'fuel_type', 'brand', 'repaired']"
   ]
  },
  {
   "cell_type": "code",
   "execution_count": 128,
   "metadata": {},
   "outputs": [
    {
     "name": "stdout",
     "output_type": "stream",
     "text": [
      "0:\tlearn: 3746.6673338\ttotal: 154ms\tremaining: 15.2s\n",
      "99:\tlearn: 1631.6553930\ttotal: 2.95s\tremaining: 0us\n",
      "0:\tlearn: 3751.0962897\ttotal: 40ms\tremaining: 12s\n",
      "299:\tlearn: 1539.8029208\ttotal: 13.7s\tremaining: 0us\n",
      "0:\tlearn: 3697.0042951\ttotal: 26.3ms\tremaining: 2.6s\n",
      "99:\tlearn: 1596.9970624\ttotal: 3.06s\tremaining: 0us\n",
      "0:\tlearn: 3703.9816438\ttotal: 46.4ms\tremaining: 13.9s\n",
      "299:\tlearn: 1495.3510208\ttotal: 16.5s\tremaining: 0us\n",
      "0:\tlearn: 3650.3635751\ttotal: 30.9ms\tremaining: 3.05s\n",
      "99:\tlearn: 1563.0526265\ttotal: 3.63s\tremaining: 0us\n",
      "0:\tlearn: 3654.2003535\ttotal: 76.6ms\tremaining: 22.9s\n",
      "299:\tlearn: 1451.0049859\ttotal: 21.5s\tremaining: 0us\n",
      "\n",
      "RMSE лучшей модели: 1539.1777099046433\n",
      "Количество итераций: 300\n",
      "Лучшая глубина: 7\n",
      "Время обучения: 73.375\n",
      "Время предсказания: 0.171875\n",
      "\n",
      "CPU times: total: 3min 27s\n",
      "Wall time: 1min 3s\n"
     ]
    }
   ],
   "source": [
    "%%time\n",
    "best_RMSE = 5000\n",
    "for depth in range(5,8):\n",
    "    for ite in range(100,500,200):\n",
    "        model_cb = CatBoostRegressor(iterations=ite, loss_function='RMSE',depth=depth, learning_rate=0.32)\n",
    "\n",
    "        start_cb_fit = time.process_time()\n",
    "        model_cb.fit(features_train, target_train, cat_features=cat_features, verbose=ite)\n",
    "        finish_cb_fit = time.process_time() - start_cb_fit\n",
    "\n",
    "        start_cb_predict = time.process_time()\n",
    "        predictions_valid = model_cb.predict(features_valid)\n",
    "        finish_cb_predict = time.process_time() - start_cb_predict\n",
    "\n",
    "        result = mean_squared_error(target_valid, predictions_valid)**0.5\n",
    "        if result <= best_RMSE:\n",
    "            cb_best_RMSE_model = model_cb\n",
    "            cb_best_RMSE = result\n",
    "            cb_best_iter = ite\n",
    "            cb_best_depth = depth\n",
    "            cb_fit = finish_cb_fit\n",
    "            cb_pred = finish_cb_predict\n",
    "        \n",
    "print(f'\\nRMSE лучшей модели: {cb_best_RMSE}\\n'\n",
    "      f'Количество итераций: {cb_best_iter}\\n'\n",
    "      f'Лучшая глубина: {cb_best_depth}\\n'\n",
    "      f'Время обучения: {cb_fit}\\n'\n",
    "      f'Время предсказания: {cb_pred}\\n')        "
   ]
  },
  {
   "cell_type": "markdown",
   "metadata": {},
   "source": [
    "**Используем другие гиперпараметры**"
   ]
  },
  {
   "cell_type": "code",
   "execution_count": 129,
   "metadata": {},
   "outputs": [
    {
     "name": "stdout",
     "output_type": "stream",
     "text": [
      "0:\tlearn: 3543.2348521\ttotal: 134ms\tremaining: 13.3s\n",
      "99:\tlearn: 1313.8996861\ttotal: 13.1s\tremaining: 0us\n",
      "0:\tlearn: 3539.3784294\ttotal: 191ms\tremaining: 57.1s\n",
      "299:\tlearn: 1115.6550321\ttotal: 53.8s\tremaining: 0us\n",
      "0:\tlearn: 3537.9856207\ttotal: 211ms\tremaining: 20.9s\n",
      "99:\tlearn: 1272.6240137\ttotal: 21.4s\tremaining: 0us\n",
      "0:\tlearn: 3525.0073755\ttotal: 294ms\tremaining: 1m 27s\n",
      "299:\tlearn: 1057.4571605\ttotal: 1m 29s\tremaining: 0us\n",
      "\n",
      "RMSE лучшей модели: 1551.5125899600837\n",
      "Количество итераций: 300\n",
      "Лучшая глубина: 14\n",
      "Время обучения: 313.421875\n",
      "Время преедсказания: 0.515625\n",
      "\n",
      "CPU times: total: 9min 55s\n",
      "Wall time: 3min\n"
     ]
    }
   ],
   "source": [
    "%%time\n",
    "best_RMSE = 5000\n",
    "for depth in range(13,15):\n",
    "    for ite in range(100,500,200):\n",
    "        model_cb2 = CatBoostRegressor(iterations=ite, loss_function='RMSE',depth=depth,\n",
    "                                  learning_rate=0.32, bootstrap_type='Bernoulli')\n",
    "\n",
    "        start_cb_fit = time.process_time()\n",
    "        model_cb2.fit(features_train, target_train, cat_features=cat_features, verbose=ite)\n",
    "        finish_cb_fit = time.process_time() - start_cb_fit\n",
    "\n",
    "        start_cb_predict = time.process_time()\n",
    "        predictions_valid = model_cb2.predict(features_valid)\n",
    "        finish_cb_predict = time.process_time() - start_cb_predict\n",
    "\n",
    "        result = mean_squared_error(target_valid, predictions_valid)**0.5\n",
    "        if result <= best_RMSE:\n",
    "            cb2_best_model = model_cb2\n",
    "            cb2_best_RMSE = result\n",
    "            cb2_best_iter = ite\n",
    "            cb2_best_depth = depth\n",
    "            cb2_fit = finish_cb_fit\n",
    "            cb2_pred = finish_cb_predict\n",
    "        \n",
    "print(f'\\nRMSE лучшей модели: {cb2_best_RMSE}\\n'\n",
    "      f'Количество итераций: {cb2_best_iter}\\n'\n",
    "      f'Лучшая глубина: {cb2_best_depth}\\n'\n",
    "      f'Время обучения: {cb2_fit}\\n'\n",
    "      f'Время преедсказания: {cb2_pred}\\n')"
   ]
  },
  {
   "cell_type": "markdown",
   "metadata": {},
   "source": [
    "### LightGBM"
   ]
  },
  {
   "cell_type": "code",
   "execution_count": 130,
   "metadata": {},
   "outputs": [],
   "source": [
    "non_numiric = ['vehicle_type', 'gearbox', 'model', 'fuel_type', 'brand', 'repaired']"
   ]
  },
  {
   "cell_type": "code",
   "execution_count": 131,
   "metadata": {},
   "outputs": [],
   "source": [
    "lgbm_features_train = features_train\n",
    "lgbm_features_valid = features_valid\n",
    "\n",
    "for n in non_numiric:\n",
    "    lgbm_features_train[n] = lgbm_features_train[n].astype('category')\n",
    "    lgbm_features_valid[n] = lgbm_features_valid[n].astype('category')"
   ]
  },
  {
   "cell_type": "code",
   "execution_count": 132,
   "metadata": {},
   "outputs": [],
   "source": [
    "train_dataset = lgb.Dataset(lgbm_features_train, target_train, feature_name=lgbm_features_train.columns.tolist(),\n",
    "                            categorical_feature = non_numiric)\n",
    "valid_dataset = lgb.Dataset(lgbm_features_valid, target_valid, feature_name=lgbm_features_valid.columns.tolist(),\n",
    "                            categorical_feature = non_numiric)"
   ]
  },
  {
   "cell_type": "code",
   "execution_count": 133,
   "metadata": {},
   "outputs": [
    {
     "name": "stderr",
     "output_type": "stream",
     "text": [
      "D:\\Anaconda3\\envs\\practicum\\lib\\site-packages\\lightgbm\\basic.py:2065: UserWarning: Using categorical_feature in Dataset.\n",
      "  _log_warning('Using categorical_feature in Dataset.')\n",
      "D:\\Anaconda3\\envs\\practicum\\lib\\site-packages\\lightgbm\\engine.py:239: UserWarning: 'verbose_eval' argument is deprecated and will be removed in a future release of LightGBM. Pass 'log_evaluation()' callback via 'callbacks' argument instead.\n",
      "  _log_warning(\"'verbose_eval' argument is deprecated and will be removed in a future release of LightGBM. \"\n",
      "D:\\Anaconda3\\envs\\practicum\\lib\\site-packages\\lightgbm\\basic.py:1780: UserWarning: Overriding the parameters from Reference Dataset.\n",
      "  _log_warning('Overriding the parameters from Reference Dataset.')\n",
      "D:\\Anaconda3\\envs\\practicum\\lib\\site-packages\\lightgbm\\basic.py:1513: UserWarning: categorical_column in param dict is overridden.\n",
      "  _log_warning(f'{cat_alias} in param dict is overridden.')\n"
     ]
    },
    {
     "name": "stdout",
     "output_type": "stream",
     "text": [
      "[LightGBM] [Warning] Auto-choosing row-wise multi-threading, the overhead of testing was 0.003169 seconds.\n",
      "You can set `force_row_wise=true` to remove the overhead.\n",
      "And if memory is not enough, you can set `force_col_wise=true`.\n",
      "[LightGBM] [Info] Total Bins 578\n",
      "[LightGBM] [Info] Number of data points in the train set: 156700, number of used features: 9\n",
      "[LightGBM] [Info] Start training from score 4796.283957\n",
      "[100]\tvalid_0's l2: 2.45015e+06\n",
      "[200]\tvalid_0's l2: 2.38544e+06\n",
      "[300]\tvalid_0's l2: 2.35494e+06\n",
      "[400]\tvalid_0's l2: 2.33771e+06\n",
      "[500]\tvalid_0's l2: 2.32834e+06\n",
      "Время обучения: 5.796875\n",
      "CPU times: total: 5.8 s\n",
      "Wall time: 1.17 s\n"
     ]
    }
   ],
   "source": [
    "%%time\n",
    "start = time.process_time()\n",
    "booster = lgb.train({\"objective\": \"regression\"},\n",
    "                    train_set=train_dataset, valid_sets=(valid_dataset,),\n",
    "                    num_boost_round=500, verbose_eval=100)\n",
    "time_result = time.process_time() - start\n",
    "print(f'Время обучения: {time_result}')"
   ]
  },
  {
   "cell_type": "code",
   "execution_count": 134,
   "metadata": {},
   "outputs": [
    {
     "name": "stdout",
     "output_type": "stream",
     "text": [
      "Время предсказания: 1.53125\n",
      "\n",
      "RMSE 1525.8892709081686\n",
      "CPU times: total: 1.53 s\n",
      "Wall time: 299 ms\n"
     ]
    }
   ],
   "source": [
    "%%time\n",
    "start = time.process_time()\n",
    "\n",
    "valid_prediction = booster.predict(lgbm_features_valid)\n",
    "\n",
    "time_result = time.process_time() - start\n",
    "print(f'Время предсказания: {time_result}')\n",
    "\n",
    "result = mean_squared_error(target_valid, valid_prediction)**0.5\n",
    "print('\\nRMSE', result)"
   ]
  },
  {
   "cell_type": "markdown",
   "metadata": {},
   "source": [
    "**Используем другие гиперпараметры и обёртку**"
   ]
  },
  {
   "cell_type": "code",
   "execution_count": 135,
   "metadata": {},
   "outputs": [],
   "source": [
    "train_dataset = lgb.Dataset(lgbm_features_train, target_train, feature_name=lgbm_features_train.columns.tolist(),\n",
    "                            categorical_feature = non_numiric)\n",
    "valid_dataset = lgb.Dataset(lgbm_features_valid, target_valid, feature_name=lgbm_features_valid.columns.tolist(),\n",
    "                            categorical_feature = non_numiric)"
   ]
  },
  {
   "cell_type": "code",
   "execution_count": 136,
   "metadata": {},
   "outputs": [
    {
     "name": "stdout",
     "output_type": "stream",
     "text": [
      "RMSE лучшей LightGBM модели: 1605.548386341825\n",
      " n_estimators: 49\n",
      " Время обучения: 1.265625\n",
      " Время предсказания: 0.234375\n",
      "\n"
     ]
    }
   ],
   "source": [
    "best_lgbm_RMSE = 5000\n",
    "for est in range(10, 50):\n",
    "    model_lgbm = LGBMRegressor(n_estimators=est)\n",
    "\n",
    "    start_lgbm_fit = time.process_time()\n",
    "    model_lgbm.fit(lgbm_features_train, target_train)\n",
    "    finish_lgbm_fit = time.process_time() - start_lgbm_fit\n",
    "\n",
    "    start_lgbm_pred = time.process_time()\n",
    "    yhat = model_lgbm.predict(lgbm_features_valid)\n",
    "    finish_lgbm_pred = time.process_time() - start_lgbm_pred\n",
    "\n",
    "    result = mean_squared_error(target_valid, yhat)**0.5\n",
    "    if result <= best_lgbm_RMSE:\n",
    "        best_lgbm_model = model_lgbm\n",
    "        best_lgbm_RMSE = result\n",
    "        best_lgbm_est = est\n",
    "        lgbm_time_fit = finish_lgbm_fit\n",
    "        lgbm_time_predict = finish_lgbm_pred      \n",
    "    \n",
    "print(f'RMSE лучшей LightGBM модели: {best_lgbm_RMSE}\\n',\n",
    "      f'n_estimators: {est}\\n',\n",
    "      f'Время обучения: {lgbm_time_fit}\\n',\n",
    "      f'Время предсказания: {lgbm_time_predict}\\n')    "
   ]
  },
  {
   "cell_type": "markdown",
   "metadata": {},
   "source": [
    "### RandomForestRegressor"
   ]
  },
  {
   "cell_type": "code",
   "execution_count": 137,
   "metadata": {},
   "outputs": [
    {
     "name": "stdout",
     "output_type": "stream",
     "text": [
      "RMSE наилучшей модели на валидационной выборке: 2178.785826920743 \n",
      "Количество деревьев: 20 \n",
      "Максимальная глубина: 6 \n",
      "Время обучения: 19.625 \n",
      "Время предсказания: 0.109375\n",
      "CPU times: total: 4min 44s\n",
      "Wall time: 4min 48s\n"
     ]
    }
   ],
   "source": [
    "%%time\n",
    "best_model = None\n",
    "best_result = 10000\n",
    "best_est = 0\n",
    "best_depth = 0\n",
    "for est in range(20, 30, 2):\n",
    "    for depth in range (4, 7):\n",
    "        model_rf = RandomForestRegressor(random_state=12345, n_estimators=est, max_depth=depth) \n",
    "        time_fit = time.process_time()\n",
    "        model_rf.fit(rfr_features_train, rfr_target_train) \n",
    "        time_fit_result = time.process_time() - time_fit\n",
    "        time_predictions = time.process_time()\n",
    "        predictions_valid = model_rf.predict(rfr_features_valid) \n",
    "        time_predictions_result = time.process_time() - time_predictions\n",
    "        result = mean_squared_error(rfr_target_valid, predictions_valid)**0.5 \n",
    "        if result < best_result:\n",
    "            best_model_rf = model_rf\n",
    "            best_result = result\n",
    "            best_est = est\n",
    "            best_depth = depth\n",
    "            best_time_fit = time_fit_result\n",
    "            best_time_predictions = time_predictions_result\n",
    "\n",
    "print(\"RMSE наилучшей модели на валидационной выборке:\", best_result,\n",
    "      \"\\nКоличество деревьев:\", best_est, \"\\nМаксимальная глубина:\", depth,\n",
    "     \"\\nВремя обучения:\", best_time_fit, \"\\nВремя предсказания:\", best_time_predictions)"
   ]
  },
  {
   "cell_type": "markdown",
   "metadata": {},
   "source": [
    "## Анализ моделей"
   ]
  },
  {
   "cell_type": "markdown",
   "metadata": {},
   "source": [
    "### CatBoost"
   ]
  },
  {
   "cell_type": "code",
   "execution_count": 138,
   "metadata": {},
   "outputs": [],
   "source": [
    "top_cb_model = cb_best_RMSE_model"
   ]
  },
  {
   "cell_type": "markdown",
   "metadata": {},
   "source": [
    "- RMSE лучшей модели: 1539.1777099046433;\n",
    "- Количество итераций: 300;\n",
    "- Лучшая глубина: 7;\n",
    "- Время обучения: 72.09375;\n",
    "- Время предсказания: 0.15625."
   ]
  },
  {
   "cell_type": "markdown",
   "metadata": {},
   "source": [
    "### LightGBM"
   ]
  },
  {
   "cell_type": "code",
   "execution_count": 139,
   "metadata": {},
   "outputs": [],
   "source": [
    "top_lgbm_model = best_lgbm_model"
   ]
  },
  {
   "cell_type": "markdown",
   "metadata": {},
   "source": [
    "- num_boost_round: 500;\n",
    "- Время обучения: 5.703125;\n",
    "- Время предсказания: 1.65625;\n",
    "- RMSE 1525.8892709081686."
   ]
  },
  {
   "cell_type": "markdown",
   "metadata": {},
   "source": [
    "### RandomForestRegressor"
   ]
  },
  {
   "cell_type": "code",
   "execution_count": 140,
   "metadata": {},
   "outputs": [],
   "source": [
    "top_rfr_model = best_model_rf"
   ]
  },
  {
   "cell_type": "markdown",
   "metadata": {},
   "source": [
    "- RMSE наилучшей модели на валидационной выборке: 2178.785826920743; \n",
    "- Количество деревьев: 20; \n",
    "- Максимальная глубина: 6;\n",
    "- Время обучения: 18.046875; \n",
    "- Время предсказания: 0.09375."
   ]
  },
  {
   "cell_type": "markdown",
   "metadata": {},
   "source": [
    "### Заключение"
   ]
  },
  {
   "cell_type": "markdown",
   "metadata": {},
   "source": [
    "В соотношении качества и скорости выполнения лучше всего показала себя модель LightGBM, RMSE модели которой составило 1525.889."
   ]
  },
  {
   "cell_type": "markdown",
   "metadata": {},
   "source": [
    "## Проверка качества"
   ]
  },
  {
   "cell_type": "code",
   "execution_count": 141,
   "metadata": {},
   "outputs": [
    {
     "name": "stdout",
     "output_type": "stream",
     "text": [
      "Время предсказания: 1.625\n",
      "\n",
      "RMSE 1539.3502930966215\n"
     ]
    }
   ],
   "source": [
    "test_dataset = lgb.Dataset(lgbm_features_valid, target_valid, feature_name=lgbm_features_valid.columns.tolist(),\n",
    "                            categorical_feature = non_numiric)\n",
    "\n",
    "lgbm_features_test = features_test\n",
    "\n",
    "for n in non_numiric:\n",
    "    lgbm_features_test[n] = lgbm_features_test[n].astype('category')\n",
    "    \n",
    "    \n",
    "valid_dataset = lgb.Dataset(lgbm_features_test, target_test, feature_name=lgbm_features_test.columns.tolist(),\n",
    "                            categorical_feature = non_numiric)    \n",
    "\n",
    "\n",
    "start_test_time = time.process_time()\n",
    "test_prediction = booster.predict(lgbm_features_test)\n",
    "finish_test_time = time.process_time() - start_test_time\n",
    "print(f'Время предсказания: {finish_test_time}')\n",
    "\n",
    "result = mean_squared_error(target_test, test_prediction)**0.5\n",
    "print('\\nRMSE', result)\n"
   ]
  },
  {
   "cell_type": "markdown",
   "metadata": {},
   "source": [
    "Модель показала высокую точность и скорость на валидационной выборке и подтвердила свои параметры на тестовой. Условия, заданные заказчиком выполнены."
   ]
  },
  {
   "cell_type": "markdown",
   "metadata": {},
   "source": [
    "## Вывод"
   ]
  },
  {
   "cell_type": "markdown",
   "metadata": {},
   "source": [
    "Проведена работа по задаче заказчика, была выполнена поставленная цель, лучшей моделью оказалась LightGBM. Достигнуты характеристики модели: \n",
    "1. тестовая выборка:\n",
    "    - Время предсказания: 1.546875;\n",
    "    - Оценка качества RMSE: 1539.3502930966215.\n",
    "    \n",
    "    \n",
    "2. валидационная выборка:\n",
    "    - Время обучения: 5.703125;\n",
    "    - Время предсказания: 1.65625;\n",
    "    - RMSE 11525.8892709081686.\n",
    "\n",
    "\n",
    "\n",
    "\n",
    "В работе были выполнены этапы:\n",
    "1. Осуществлена загрузка и оценка значений, выявлены небольшие недочёты, такие как: \n",
    "    - пропуски в данных;\n",
    "    - дубликаты;\n",
    "    - неправильные типы данных у некоторых столбцов;\n",
    "    - потенциально неинформативные столбцы;\n",
    "    - некорректные имена столбцов;\n",
    "    - ошибочные значения в значениях столбцов.\n",
    "    \n",
    "    \n",
    "2. проведена работа по устранению неточностей, корректировке и восстановлению значений;\n",
    "3. проведена работа по подготовке значений к дальнейшему исследованию; \n",
    "4. осуществлено разделение значений на выборки;\n",
    "5. проведено изучение разных моделей на подготовленных данных:\n",
    "- CatBoost:\n",
    "    - RMSE лучшей модели: 1539.1777099046433;\n",
    "    - Количество итераций: 300;\n",
    "    - Лучшая глубина: 7;\n",
    "    - Время обучения: 72.09375;\n",
    "    - Время предсказания: 0.15625.\n",
    "- LightGBM:\n",
    "    - num_boost_round: 500;\n",
    "    - Время обучения: 5.703125;\n",
    "    - Время предсказания: 1.65625;\n",
    "    - RMSE 1525.8892709081686.\n",
    "- RandomForestRegressor:\n",
    "    - RMSE наилучшей модели на валидационной выборке: 2178.785826920743; \n",
    "    - Количество деревьев: 20; \n",
    "    - Максимальная глубина: 6;\n",
    "    - Время обучения: 18.046875; \n",
    "    - Время предсказания: 0.09375.\n",
    "    \n",
    "Лучшей моделью по результату анализа стала LightGBM.    \n",
    "В целом поставленную задачу можно считать выполненой. "
   ]
  }
 ],
 "metadata": {
  "ExecuteTimeLog": [
   {
    "duration": 2122,
    "start_time": "2023-06-24T16:38:25.929Z"
   },
   {
    "duration": 2901,
    "start_time": "2023-06-24T16:38:33.601Z"
   },
   {
    "duration": 1243,
    "start_time": "2023-06-24T16:38:38.396Z"
   },
   {
    "duration": 9,
    "start_time": "2023-06-24T16:38:42.124Z"
   },
   {
    "duration": 1632,
    "start_time": "2023-06-24T16:38:45.718Z"
   },
   {
    "duration": 18,
    "start_time": "2023-06-24T16:39:04.655Z"
   }
  ],
  "kernelspec": {
   "display_name": "Python 3 (ipykernel)",
   "language": "python",
   "name": "python3"
  },
  "language_info": {
   "codemirror_mode": {
    "name": "ipython",
    "version": 3
   },
   "file_extension": ".py",
   "mimetype": "text/x-python",
   "name": "python",
   "nbconvert_exporter": "python",
   "pygments_lexer": "ipython3",
   "version": "3.11.5"
  },
  "toc": {
   "base_numbering": 1,
   "nav_menu": {},
   "number_sections": true,
   "sideBar": true,
   "skip_h1_title": true,
   "title_cell": "Table of Contents",
   "title_sidebar": "Contents",
   "toc_cell": false,
   "toc_position": {
    "height": "calc(100% - 180px)",
    "left": "10px",
    "top": "150px",
    "width": "374.391px"
   },
   "toc_section_display": true,
   "toc_window_display": true
  }
 },
 "nbformat": 4,
 "nbformat_minor": 4
}
