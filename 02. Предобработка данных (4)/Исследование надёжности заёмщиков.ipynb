{
 "cells": [
  {
   "cell_type": "markdown",
   "id": "e8a492c9",
   "metadata": {
    "deletable": false,
    "editable": true,
    "id": "c81daeeb",
    "slideshow": {
     "slide_type": ""
    },
    "tags": []
   },
   "source": [
    "# Исследование надежности заемщиков\n"
   ]
  },
  {
   "cell_type": "markdown",
   "id": "4c5a95c7-a1f5-4045-8d7e-252758c12ff2",
   "metadata": {
    "editable": true,
    "slideshow": {
     "slide_type": ""
    },
    "tags": []
   },
   "source": [
    "**Цель исследования:** </br>\n",
    "Проверить, влияет ли семейное положение и количество детей на факт погашения кредита в срок.\n",
    "\n",
    "**Дополнительная задача:** </br>\n",
    "построить модель кредитного скоринга — специальную систему, которая оценивает способность потенциального заёмщика вернуть кредит банку. \n",
    "\n",
    "**Описание данных**\n",
    "\n",
    "- `chidren` — количество детей в семье;\n",
    "- `days_employed` — общий трудовой стаж в днях;\n",
    "- `dob_years` — возраст клиента в годах;\n",
    "- `education` — уровень образование клиента;\n",
    "- `education_id` — идентификатор уровня образования;\n",
    "- `family_status` — семейное положение;\n",
    "- `family_status_id` — идентификатор семейного положения;\n",
    "- `gender` — пол клиента;\n",
    "- `income_type` — тип занятости;\n",
    "- `debt` — имел ли задолженность по возврату кредита;\n",
    "- `total_income` — ежемесячный доход;\n",
    "- `purpose` — цель получения кредита.\n"
   ]
  },
  {
   "cell_type": "markdown",
   "id": "58ea24f5",
   "metadata": {
    "deletable": false,
    "editable": true,
    "id": "744d7639",
    "slideshow": {
     "slide_type": ""
    },
    "tags": []
   },
   "source": [
    "## Изучение общей информации о данных"
   ]
  },
  {
   "cell_type": "markdown",
   "id": "cf4b081c",
   "metadata": {
    "deletable": false,
    "editable": true,
    "id": "e7a14c31",
    "slideshow": {
     "slide_type": ""
    },
    "tags": []
   },
   "source": [
    "Проведём импорт библиотек, получим информацию из файла."
   ]
  },
  {
   "cell_type": "code",
   "execution_count": 1,
   "id": "9d1bfffc-9fbe-492b-828c-81aecc29f3f1",
   "metadata": {
    "editable": true,
    "slideshow": {
     "slide_type": ""
    },
    "tags": []
   },
   "outputs": [],
   "source": [
    "import pandas as pd"
   ]
  },
  {
   "cell_type": "code",
   "execution_count": 2,
   "id": "ba5faa39",
   "metadata": {
    "deletable": false,
    "editable": true,
    "id": "7bcf75c9",
    "slideshow": {
     "slide_type": ""
    },
    "tags": []
   },
   "outputs": [],
   "source": [
    "try:\n",
    "    data = pd.read_csv('data.csv')\n",
    "except:\n",
    "    data = pd.read_csv('https://..')"
   ]
  },
  {
   "cell_type": "markdown",
   "id": "edc117da",
   "metadata": {
    "deletable": false,
    "id": "b8038fe3",
    "slideshow": {
     "slide_type": ""
    },
    "tags": []
   },
   "source": [
    "Изучим первые 20 строчек таблицы"
   ]
  },
  {
   "cell_type": "code",
   "execution_count": 3,
   "id": "a0f63e4e",
   "metadata": {
    "deletable": false,
    "editable": true,
    "id": "2a7cab99",
    "outputId": "1a8f3ef2-d323-4ec2-ddf7-89670b5944c4",
    "slideshow": {
     "slide_type": ""
    },
    "tags": []
   },
   "outputs": [
    {
     "data": {
      "text/html": [
       "<div>\n",
       "<style scoped>\n",
       "    .dataframe tbody tr th:only-of-type {\n",
       "        vertical-align: middle;\n",
       "    }\n",
       "\n",
       "    .dataframe tbody tr th {\n",
       "        vertical-align: top;\n",
       "    }\n",
       "\n",
       "    .dataframe thead th {\n",
       "        text-align: right;\n",
       "    }\n",
       "</style>\n",
       "<table border=\"1\" class=\"dataframe\">\n",
       "  <thead>\n",
       "    <tr style=\"text-align: right;\">\n",
       "      <th></th>\n",
       "      <th>children</th>\n",
       "      <th>days_employed</th>\n",
       "      <th>dob_years</th>\n",
       "      <th>education</th>\n",
       "      <th>education_id</th>\n",
       "      <th>family_status</th>\n",
       "      <th>family_status_id</th>\n",
       "      <th>gender</th>\n",
       "      <th>income_type</th>\n",
       "      <th>debt</th>\n",
       "      <th>total_income</th>\n",
       "      <th>purpose</th>\n",
       "    </tr>\n",
       "  </thead>\n",
       "  <tbody>\n",
       "    <tr>\n",
       "      <th>0</th>\n",
       "      <td>1</td>\n",
       "      <td>-8437.673028</td>\n",
       "      <td>42</td>\n",
       "      <td>высшее</td>\n",
       "      <td>0</td>\n",
       "      <td>женат / замужем</td>\n",
       "      <td>0</td>\n",
       "      <td>F</td>\n",
       "      <td>сотрудник</td>\n",
       "      <td>0</td>\n",
       "      <td>253875.639453</td>\n",
       "      <td>покупка жилья</td>\n",
       "    </tr>\n",
       "    <tr>\n",
       "      <th>1</th>\n",
       "      <td>1</td>\n",
       "      <td>-4024.803754</td>\n",
       "      <td>36</td>\n",
       "      <td>среднее</td>\n",
       "      <td>1</td>\n",
       "      <td>женат / замужем</td>\n",
       "      <td>0</td>\n",
       "      <td>F</td>\n",
       "      <td>сотрудник</td>\n",
       "      <td>0</td>\n",
       "      <td>112080.014102</td>\n",
       "      <td>приобретение автомобиля</td>\n",
       "    </tr>\n",
       "    <tr>\n",
       "      <th>2</th>\n",
       "      <td>0</td>\n",
       "      <td>-5623.422610</td>\n",
       "      <td>33</td>\n",
       "      <td>Среднее</td>\n",
       "      <td>1</td>\n",
       "      <td>женат / замужем</td>\n",
       "      <td>0</td>\n",
       "      <td>M</td>\n",
       "      <td>сотрудник</td>\n",
       "      <td>0</td>\n",
       "      <td>145885.952297</td>\n",
       "      <td>покупка жилья</td>\n",
       "    </tr>\n",
       "    <tr>\n",
       "      <th>3</th>\n",
       "      <td>3</td>\n",
       "      <td>-4124.747207</td>\n",
       "      <td>32</td>\n",
       "      <td>среднее</td>\n",
       "      <td>1</td>\n",
       "      <td>женат / замужем</td>\n",
       "      <td>0</td>\n",
       "      <td>M</td>\n",
       "      <td>сотрудник</td>\n",
       "      <td>0</td>\n",
       "      <td>267628.550329</td>\n",
       "      <td>дополнительное образование</td>\n",
       "    </tr>\n",
       "    <tr>\n",
       "      <th>4</th>\n",
       "      <td>0</td>\n",
       "      <td>340266.072047</td>\n",
       "      <td>53</td>\n",
       "      <td>среднее</td>\n",
       "      <td>1</td>\n",
       "      <td>гражданский брак</td>\n",
       "      <td>1</td>\n",
       "      <td>F</td>\n",
       "      <td>пенсионер</td>\n",
       "      <td>0</td>\n",
       "      <td>158616.077870</td>\n",
       "      <td>сыграть свадьбу</td>\n",
       "    </tr>\n",
       "    <tr>\n",
       "      <th>5</th>\n",
       "      <td>0</td>\n",
       "      <td>-926.185831</td>\n",
       "      <td>27</td>\n",
       "      <td>высшее</td>\n",
       "      <td>0</td>\n",
       "      <td>гражданский брак</td>\n",
       "      <td>1</td>\n",
       "      <td>M</td>\n",
       "      <td>компаньон</td>\n",
       "      <td>0</td>\n",
       "      <td>255763.565419</td>\n",
       "      <td>покупка жилья</td>\n",
       "    </tr>\n",
       "    <tr>\n",
       "      <th>6</th>\n",
       "      <td>0</td>\n",
       "      <td>-2879.202052</td>\n",
       "      <td>43</td>\n",
       "      <td>высшее</td>\n",
       "      <td>0</td>\n",
       "      <td>женат / замужем</td>\n",
       "      <td>0</td>\n",
       "      <td>F</td>\n",
       "      <td>компаньон</td>\n",
       "      <td>0</td>\n",
       "      <td>240525.971920</td>\n",
       "      <td>операции с жильем</td>\n",
       "    </tr>\n",
       "    <tr>\n",
       "      <th>7</th>\n",
       "      <td>0</td>\n",
       "      <td>-152.779569</td>\n",
       "      <td>50</td>\n",
       "      <td>СРЕДНЕЕ</td>\n",
       "      <td>1</td>\n",
       "      <td>женат / замужем</td>\n",
       "      <td>0</td>\n",
       "      <td>M</td>\n",
       "      <td>сотрудник</td>\n",
       "      <td>0</td>\n",
       "      <td>135823.934197</td>\n",
       "      <td>образование</td>\n",
       "    </tr>\n",
       "    <tr>\n",
       "      <th>8</th>\n",
       "      <td>2</td>\n",
       "      <td>-6929.865299</td>\n",
       "      <td>35</td>\n",
       "      <td>ВЫСШЕЕ</td>\n",
       "      <td>0</td>\n",
       "      <td>гражданский брак</td>\n",
       "      <td>1</td>\n",
       "      <td>F</td>\n",
       "      <td>сотрудник</td>\n",
       "      <td>0</td>\n",
       "      <td>95856.832424</td>\n",
       "      <td>на проведение свадьбы</td>\n",
       "    </tr>\n",
       "    <tr>\n",
       "      <th>9</th>\n",
       "      <td>0</td>\n",
       "      <td>-2188.756445</td>\n",
       "      <td>41</td>\n",
       "      <td>среднее</td>\n",
       "      <td>1</td>\n",
       "      <td>женат / замужем</td>\n",
       "      <td>0</td>\n",
       "      <td>M</td>\n",
       "      <td>сотрудник</td>\n",
       "      <td>0</td>\n",
       "      <td>144425.938277</td>\n",
       "      <td>покупка жилья для семьи</td>\n",
       "    </tr>\n",
       "    <tr>\n",
       "      <th>10</th>\n",
       "      <td>2</td>\n",
       "      <td>-4171.483647</td>\n",
       "      <td>36</td>\n",
       "      <td>высшее</td>\n",
       "      <td>0</td>\n",
       "      <td>женат / замужем</td>\n",
       "      <td>0</td>\n",
       "      <td>M</td>\n",
       "      <td>компаньон</td>\n",
       "      <td>0</td>\n",
       "      <td>113943.491460</td>\n",
       "      <td>покупка недвижимости</td>\n",
       "    </tr>\n",
       "    <tr>\n",
       "      <th>11</th>\n",
       "      <td>0</td>\n",
       "      <td>-792.701887</td>\n",
       "      <td>40</td>\n",
       "      <td>среднее</td>\n",
       "      <td>1</td>\n",
       "      <td>женат / замужем</td>\n",
       "      <td>0</td>\n",
       "      <td>F</td>\n",
       "      <td>сотрудник</td>\n",
       "      <td>0</td>\n",
       "      <td>77069.234271</td>\n",
       "      <td>покупка коммерческой недвижимости</td>\n",
       "    </tr>\n",
       "    <tr>\n",
       "      <th>12</th>\n",
       "      <td>0</td>\n",
       "      <td>NaN</td>\n",
       "      <td>65</td>\n",
       "      <td>среднее</td>\n",
       "      <td>1</td>\n",
       "      <td>гражданский брак</td>\n",
       "      <td>1</td>\n",
       "      <td>M</td>\n",
       "      <td>пенсионер</td>\n",
       "      <td>0</td>\n",
       "      <td>NaN</td>\n",
       "      <td>сыграть свадьбу</td>\n",
       "    </tr>\n",
       "    <tr>\n",
       "      <th>13</th>\n",
       "      <td>0</td>\n",
       "      <td>-1846.641941</td>\n",
       "      <td>54</td>\n",
       "      <td>неоконченное высшее</td>\n",
       "      <td>2</td>\n",
       "      <td>женат / замужем</td>\n",
       "      <td>0</td>\n",
       "      <td>F</td>\n",
       "      <td>сотрудник</td>\n",
       "      <td>0</td>\n",
       "      <td>130458.228857</td>\n",
       "      <td>приобретение автомобиля</td>\n",
       "    </tr>\n",
       "    <tr>\n",
       "      <th>14</th>\n",
       "      <td>0</td>\n",
       "      <td>-1844.956182</td>\n",
       "      <td>56</td>\n",
       "      <td>высшее</td>\n",
       "      <td>0</td>\n",
       "      <td>гражданский брак</td>\n",
       "      <td>1</td>\n",
       "      <td>F</td>\n",
       "      <td>компаньон</td>\n",
       "      <td>1</td>\n",
       "      <td>165127.911772</td>\n",
       "      <td>покупка жилой недвижимости</td>\n",
       "    </tr>\n",
       "    <tr>\n",
       "      <th>15</th>\n",
       "      <td>1</td>\n",
       "      <td>-972.364419</td>\n",
       "      <td>26</td>\n",
       "      <td>среднее</td>\n",
       "      <td>1</td>\n",
       "      <td>женат / замужем</td>\n",
       "      <td>0</td>\n",
       "      <td>F</td>\n",
       "      <td>сотрудник</td>\n",
       "      <td>0</td>\n",
       "      <td>116820.904450</td>\n",
       "      <td>строительство собственной недвижимости</td>\n",
       "    </tr>\n",
       "    <tr>\n",
       "      <th>16</th>\n",
       "      <td>0</td>\n",
       "      <td>-1719.934226</td>\n",
       "      <td>35</td>\n",
       "      <td>среднее</td>\n",
       "      <td>1</td>\n",
       "      <td>женат / замужем</td>\n",
       "      <td>0</td>\n",
       "      <td>F</td>\n",
       "      <td>сотрудник</td>\n",
       "      <td>0</td>\n",
       "      <td>289202.704229</td>\n",
       "      <td>недвижимость</td>\n",
       "    </tr>\n",
       "    <tr>\n",
       "      <th>17</th>\n",
       "      <td>0</td>\n",
       "      <td>-2369.999720</td>\n",
       "      <td>33</td>\n",
       "      <td>высшее</td>\n",
       "      <td>0</td>\n",
       "      <td>гражданский брак</td>\n",
       "      <td>1</td>\n",
       "      <td>M</td>\n",
       "      <td>сотрудник</td>\n",
       "      <td>0</td>\n",
       "      <td>90410.586745</td>\n",
       "      <td>строительство недвижимости</td>\n",
       "    </tr>\n",
       "    <tr>\n",
       "      <th>18</th>\n",
       "      <td>0</td>\n",
       "      <td>400281.136913</td>\n",
       "      <td>53</td>\n",
       "      <td>среднее</td>\n",
       "      <td>1</td>\n",
       "      <td>вдовец / вдова</td>\n",
       "      <td>2</td>\n",
       "      <td>F</td>\n",
       "      <td>пенсионер</td>\n",
       "      <td>0</td>\n",
       "      <td>56823.777243</td>\n",
       "      <td>на покупку подержанного автомобиля</td>\n",
       "    </tr>\n",
       "    <tr>\n",
       "      <th>19</th>\n",
       "      <td>0</td>\n",
       "      <td>-10038.818549</td>\n",
       "      <td>48</td>\n",
       "      <td>СРЕДНЕЕ</td>\n",
       "      <td>1</td>\n",
       "      <td>в разводе</td>\n",
       "      <td>3</td>\n",
       "      <td>F</td>\n",
       "      <td>сотрудник</td>\n",
       "      <td>0</td>\n",
       "      <td>242831.107982</td>\n",
       "      <td>на покупку своего автомобиля</td>\n",
       "    </tr>\n",
       "  </tbody>\n",
       "</table>\n",
       "</div>"
      ],
      "text/plain": [
       "    children  days_employed  dob_years            education  education_id  \\\n",
       "0          1   -8437.673028         42               высшее             0   \n",
       "1          1   -4024.803754         36              среднее             1   \n",
       "2          0   -5623.422610         33              Среднее             1   \n",
       "3          3   -4124.747207         32              среднее             1   \n",
       "4          0  340266.072047         53              среднее             1   \n",
       "5          0    -926.185831         27               высшее             0   \n",
       "6          0   -2879.202052         43               высшее             0   \n",
       "7          0    -152.779569         50              СРЕДНЕЕ             1   \n",
       "8          2   -6929.865299         35               ВЫСШЕЕ             0   \n",
       "9          0   -2188.756445         41              среднее             1   \n",
       "10         2   -4171.483647         36               высшее             0   \n",
       "11         0    -792.701887         40              среднее             1   \n",
       "12         0            NaN         65              среднее             1   \n",
       "13         0   -1846.641941         54  неоконченное высшее             2   \n",
       "14         0   -1844.956182         56               высшее             0   \n",
       "15         1    -972.364419         26              среднее             1   \n",
       "16         0   -1719.934226         35              среднее             1   \n",
       "17         0   -2369.999720         33               высшее             0   \n",
       "18         0  400281.136913         53              среднее             1   \n",
       "19         0  -10038.818549         48              СРЕДНЕЕ             1   \n",
       "\n",
       "       family_status  family_status_id gender income_type  debt  \\\n",
       "0    женат / замужем                 0      F   сотрудник     0   \n",
       "1    женат / замужем                 0      F   сотрудник     0   \n",
       "2    женат / замужем                 0      M   сотрудник     0   \n",
       "3    женат / замужем                 0      M   сотрудник     0   \n",
       "4   гражданский брак                 1      F   пенсионер     0   \n",
       "5   гражданский брак                 1      M   компаньон     0   \n",
       "6    женат / замужем                 0      F   компаньон     0   \n",
       "7    женат / замужем                 0      M   сотрудник     0   \n",
       "8   гражданский брак                 1      F   сотрудник     0   \n",
       "9    женат / замужем                 0      M   сотрудник     0   \n",
       "10   женат / замужем                 0      M   компаньон     0   \n",
       "11   женат / замужем                 0      F   сотрудник     0   \n",
       "12  гражданский брак                 1      M   пенсионер     0   \n",
       "13   женат / замужем                 0      F   сотрудник     0   \n",
       "14  гражданский брак                 1      F   компаньон     1   \n",
       "15   женат / замужем                 0      F   сотрудник     0   \n",
       "16   женат / замужем                 0      F   сотрудник     0   \n",
       "17  гражданский брак                 1      M   сотрудник     0   \n",
       "18    вдовец / вдова                 2      F   пенсионер     0   \n",
       "19         в разводе                 3      F   сотрудник     0   \n",
       "\n",
       "     total_income                                 purpose  \n",
       "0   253875.639453                           покупка жилья  \n",
       "1   112080.014102                 приобретение автомобиля  \n",
       "2   145885.952297                           покупка жилья  \n",
       "3   267628.550329              дополнительное образование  \n",
       "4   158616.077870                         сыграть свадьбу  \n",
       "5   255763.565419                           покупка жилья  \n",
       "6   240525.971920                       операции с жильем  \n",
       "7   135823.934197                             образование  \n",
       "8    95856.832424                   на проведение свадьбы  \n",
       "9   144425.938277                 покупка жилья для семьи  \n",
       "10  113943.491460                    покупка недвижимости  \n",
       "11   77069.234271       покупка коммерческой недвижимости  \n",
       "12            NaN                         сыграть свадьбу  \n",
       "13  130458.228857                 приобретение автомобиля  \n",
       "14  165127.911772              покупка жилой недвижимости  \n",
       "15  116820.904450  строительство собственной недвижимости  \n",
       "16  289202.704229                            недвижимость  \n",
       "17   90410.586745              строительство недвижимости  \n",
       "18   56823.777243      на покупку подержанного автомобиля  \n",
       "19  242831.107982            на покупку своего автомобиля  "
      ]
     },
     "execution_count": 3,
     "metadata": {},
     "output_type": "execute_result"
    }
   ],
   "source": [
    "data.head(20)"
   ]
  },
  {
   "cell_type": "markdown",
   "id": "50e029bb",
   "metadata": {
    "deletable": false,
    "id": "1c12e233",
    "slideshow": {
     "slide_type": ""
    },
    "tags": []
   },
   "source": [
    "Получим основную информацию о файле методом `info()`."
   ]
  },
  {
   "cell_type": "code",
   "execution_count": 4,
   "id": "ab6b42ff",
   "metadata": {
    "deletable": false,
    "editable": true,
    "id": "2b757bca",
    "outputId": "15376089-8dad-46c9-b520-c05248d43158",
    "slideshow": {
     "slide_type": ""
    },
    "tags": []
   },
   "outputs": [
    {
     "name": "stdout",
     "output_type": "stream",
     "text": [
      "<class 'pandas.core.frame.DataFrame'>\n",
      "RangeIndex: 21525 entries, 0 to 21524\n",
      "Data columns (total 12 columns):\n",
      " #   Column            Non-Null Count  Dtype  \n",
      "---  ------            --------------  -----  \n",
      " 0   children          21525 non-null  int64  \n",
      " 1   days_employed     19351 non-null  float64\n",
      " 2   dob_years         21525 non-null  int64  \n",
      " 3   education         21525 non-null  object \n",
      " 4   education_id      21525 non-null  int64  \n",
      " 5   family_status     21525 non-null  object \n",
      " 6   family_status_id  21525 non-null  int64  \n",
      " 7   gender            21525 non-null  object \n",
      " 8   income_type       21525 non-null  object \n",
      " 9   debt              21525 non-null  int64  \n",
      " 10  total_income      19351 non-null  float64\n",
      " 11  purpose           21525 non-null  object \n",
      "dtypes: float64(2), int64(5), object(5)\n",
      "memory usage: 2.0+ MB\n"
     ]
    }
   ],
   "source": [
    "data.info()"
   ]
  },
  {
   "cell_type": "markdown",
   "id": "b8a68a2a-539d-4d5a-a985-7b50b62400ff",
   "metadata": {
    "editable": true,
    "slideshow": {
     "slide_type": ""
    },
    "tags": []
   },
   "source": [
    "*Обнаружены пропущенные значения, вероятно есть аномалии.*"
   ]
  },
  {
   "cell_type": "markdown",
   "id": "e72c9d34",
   "metadata": {
    "deletable": false,
    "editable": true,
    "id": "333ec665",
    "slideshow": {
     "slide_type": ""
    },
    "tags": []
   },
   "source": [
    "## Предобработка данных"
   ]
  },
  {
   "cell_type": "markdown",
   "id": "30d57ba7",
   "metadata": {
    "deletable": false,
    "editable": true,
    "id": "02d92d53",
    "slideshow": {
     "slide_type": ""
    },
    "tags": []
   },
   "source": [
    "### Удаление пропусков"
   ]
  },
  {
   "cell_type": "markdown",
   "id": "7704c2fb",
   "metadata": {
    "deletable": false,
    "id": "cd84967c",
    "slideshow": {
     "slide_type": ""
    },
    "tags": []
   },
   "source": [
    "Получим количество пропущенных значений."
   ]
  },
  {
   "cell_type": "code",
   "execution_count": 5,
   "id": "d81c25ca",
   "metadata": {
    "deletable": false,
    "editable": true,
    "id": "7f9b2309",
    "outputId": "81f4d817-781c-465c-ed15-91ce4446810d",
    "slideshow": {
     "slide_type": ""
    },
    "tags": []
   },
   "outputs": [
    {
     "data": {
      "text/plain": [
       "children               0\n",
       "days_employed       2174\n",
       "dob_years              0\n",
       "education              0\n",
       "education_id           0\n",
       "family_status          0\n",
       "family_status_id       0\n",
       "gender                 0\n",
       "income_type            0\n",
       "debt                   0\n",
       "total_income        2174\n",
       "purpose                0\n",
       "dtype: int64"
      ]
     },
     "execution_count": 5,
     "metadata": {},
     "output_type": "execute_result"
    }
   ],
   "source": [
    "data.isna().sum()"
   ]
  },
  {
   "cell_type": "markdown",
   "id": "16d68a50",
   "metadata": {
    "deletable": false,
    "id": "db86e27b",
    "slideshow": {
     "slide_type": ""
    },
    "tags": []
   },
   "source": [
    "Обработаем столбец `total_income`, заполним пропуски медианным значением дохода по типу занятости, используя столбец `income_type`. "
   ]
  },
  {
   "cell_type": "code",
   "execution_count": 6,
   "id": "f5ef67f2",
   "metadata": {
    "deletable": false,
    "editable": true,
    "id": "42006a93",
    "slideshow": {
     "slide_type": ""
    },
    "tags": []
   },
   "outputs": [],
   "source": [
    "for t in data['income_type'].unique():\n",
    "    data.loc[(data['income_type'] == t) & (data['total_income'].isna()), 'total_income'] = \\\n",
    "    data.loc[(data['income_type'] == t), 'total_income'].median()"
   ]
  },
  {
   "cell_type": "markdown",
   "id": "600889c2",
   "metadata": {
    "deletable": false,
    "id": "89da5ece",
    "slideshow": {
     "slide_type": ""
    },
    "tags": []
   },
   "source": [
    "### Обработка аномальных значений"
   ]
  },
  {
   "cell_type": "markdown",
   "id": "38c2d2c8",
   "metadata": {
    "deletable": false,
    "id": "57964554",
    "slideshow": {
     "slide_type": ""
    },
    "tags": []
   },
   "source": [
    "Обработаем столбец `days_employed`, он содержит аномалию ввиде отрицательного количества дней трудового стажа. Для реальных данных это нормально. Заменим положительными значениями с помощью метода `abs()`."
   ]
  },
  {
   "cell_type": "code",
   "execution_count": 7,
   "id": "50941d81",
   "metadata": {
    "deletable": false,
    "editable": true,
    "id": "f6f055bf",
    "slideshow": {
     "slide_type": ""
    },
    "tags": []
   },
   "outputs": [],
   "source": [
    "data['days_employed'] = data['days_employed'].abs()"
   ]
  },
  {
   "cell_type": "markdown",
   "id": "8985c866",
   "metadata": {
    "deletable": false,
    "id": "6107dd2f",
    "slideshow": {
     "slide_type": ""
    },
    "tags": []
   },
   "source": [
    "Выведем медианное значение трудового стажа для каждого типа занятости в днях."
   ]
  },
  {
   "cell_type": "code",
   "execution_count": 8,
   "id": "b43fe9d6",
   "metadata": {
    "deletable": false,
    "editable": true,
    "id": "85a5faf6",
    "outputId": "801ef80e-522b-4668-f34e-565af7432bcf",
    "slideshow": {
     "slide_type": ""
    },
    "tags": []
   },
   "outputs": [
    {
     "data": {
      "text/plain": [
       "income_type\n",
       "безработный        366413.652744\n",
       "в декрете            3296.759962\n",
       "госслужащий          2689.368353\n",
       "компаньон            1547.382223\n",
       "пенсионер          365213.306266\n",
       "предприниматель       520.848083\n",
       "сотрудник            1574.202821\n",
       "студент               578.751554\n",
       "Name: days_employed, dtype: float64"
      ]
     },
     "execution_count": 8,
     "metadata": {},
     "output_type": "execute_result"
    }
   ],
   "source": [
    "data.groupby('income_type')['days_employed'].agg('median')"
   ]
  },
  {
   "cell_type": "markdown",
   "id": "eb184fdc",
   "metadata": {
    "deletable": false,
    "id": "38d1a030",
    "slideshow": {
     "slide_type": ""
    },
    "tags": []
   },
   "source": [
    "Имеются два типа с аномально большими значениями (безработные и пенсионеры). Их исправить будет сложно, да и к тому же они не пригодятся в исследовании, поэтому оставим как их есть. "
   ]
  },
  {
   "cell_type": "markdown",
   "id": "c7b4357a",
   "metadata": {
    "deletable": false,
    "id": "d8a9f147",
    "slideshow": {
     "slide_type": ""
    },
    "tags": []
   },
   "source": [
    "Выведем перечень уникальных значений столбца `children`."
   ]
  },
  {
   "cell_type": "code",
   "execution_count": 9,
   "id": "db07c631",
   "metadata": {
    "deletable": false,
    "editable": true,
    "id": "ef5056eb",
    "outputId": "6975b15c-7f95-4697-d16d-a0c79b657b03",
    "slideshow": {
     "slide_type": ""
    },
    "tags": []
   },
   "outputs": [
    {
     "data": {
      "text/plain": [
       "array([ 1,  0,  3,  2, -1,  4, 20,  5], dtype=int64)"
      ]
     },
     "execution_count": 9,
     "metadata": {},
     "output_type": "execute_result"
    }
   ],
   "source": [
    "data['children'].unique()"
   ]
  },
  {
   "cell_type": "markdown",
   "id": "25805b10",
   "metadata": {
    "deletable": false,
    "id": "40b9ebf2",
    "slideshow": {
     "slide_type": ""
    },
    "tags": []
   },
   "source": [
    "Удалим аномальные значения"
   ]
  },
  {
   "cell_type": "code",
   "execution_count": 10,
   "id": "500759c5",
   "metadata": {
    "deletable": false,
    "editable": true,
    "id": "3ff9801d",
    "slideshow": {
     "slide_type": ""
    },
    "tags": []
   },
   "outputs": [],
   "source": [
    "data = data[(data['children'] != -1) & (data['children'] != 20)]"
   ]
  },
  {
   "cell_type": "markdown",
   "id": "7201bf37",
   "metadata": {
    "deletable": false,
    "editable": true,
    "id": "bbc4d0ce",
    "slideshow": {
     "slide_type": ""
    },
    "tags": []
   },
   "source": [
    "Проверим результат работы"
   ]
  },
  {
   "cell_type": "code",
   "execution_count": 11,
   "id": "1b6e616a",
   "metadata": {
    "deletable": false,
    "editable": true,
    "id": "ad4fa8b7",
    "outputId": "b2097101-d49d-44d9-901b-32a65c9463d1",
    "slideshow": {
     "slide_type": ""
    },
    "tags": []
   },
   "outputs": [
    {
     "data": {
      "text/plain": [
       "array([1, 0, 3, 2, 4, 5], dtype=int64)"
      ]
     },
     "execution_count": 11,
     "metadata": {},
     "output_type": "execute_result"
    }
   ],
   "source": [
    "data['children'].unique()"
   ]
  },
  {
   "cell_type": "markdown",
   "id": "03f77492",
   "metadata": {
    "deletable": false,
    "editable": true,
    "id": "75440b63",
    "slideshow": {
     "slide_type": ""
    },
    "tags": []
   },
   "source": [
    "### Удаление пропусков (продолжение)"
   ]
  },
  {
   "cell_type": "markdown",
   "id": "ff7594ce",
   "metadata": {
    "deletable": false,
    "editable": true,
    "id": "f4ea573f",
    "slideshow": {
     "slide_type": ""
    },
    "tags": []
   },
   "source": [
    "Заполним пропуски в столбце `days_employed` медианными значениями по каждого типа занятости `income_type`."
   ]
  },
  {
   "cell_type": "code",
   "execution_count": 12,
   "id": "4a57c487",
   "metadata": {
    "deletable": false,
    "editable": true,
    "id": "af6b1a7e",
    "slideshow": {
     "slide_type": ""
    },
    "tags": []
   },
   "outputs": [],
   "source": [
    "for t in data['income_type'].unique():\n",
    "    data.loc[(data['income_type'] == t) & (data['days_employed'].isna()), 'days_employed'] = \\\n",
    "    data.loc[(data['income_type'] == t), 'days_employed'].median()"
   ]
  },
  {
   "cell_type": "markdown",
   "id": "f91230ae",
   "metadata": {
    "deletable": false,
    "id": "2753f40d",
    "slideshow": {
     "slide_type": ""
    },
    "tags": []
   },
   "source": [
    "Убедимся, что пропусков больше нет."
   ]
  },
  {
   "cell_type": "code",
   "execution_count": 13,
   "id": "730e3d6b",
   "metadata": {
    "deletable": false,
    "editable": true,
    "id": "55f78bc2",
    "outputId": "8da1e4e1-358e-4e87-98c9-f261bce0a7b2",
    "slideshow": {
     "slide_type": ""
    },
    "tags": []
   },
   "outputs": [
    {
     "data": {
      "text/plain": [
       "children            0\n",
       "days_employed       0\n",
       "dob_years           0\n",
       "education           0\n",
       "education_id        0\n",
       "family_status       0\n",
       "family_status_id    0\n",
       "gender              0\n",
       "income_type         0\n",
       "debt                0\n",
       "total_income        0\n",
       "purpose             0\n",
       "dtype: int64"
      ]
     },
     "execution_count": 13,
     "metadata": {},
     "output_type": "execute_result"
    }
   ],
   "source": [
    "data.isna().sum()"
   ]
  },
  {
   "cell_type": "markdown",
   "id": "ff59f006",
   "metadata": {
    "deletable": false,
    "editable": false,
    "id": "ddc81e43"
   },
   "source": [
    "### Изменение типов данных"
   ]
  },
  {
   "cell_type": "markdown",
   "id": "1830c33f",
   "metadata": {
    "deletable": false,
    "id": "42d19d24",
    "slideshow": {
     "slide_type": ""
    },
    "tags": []
   },
   "source": [
    "Заменим вещественный тип данных в столбце `total_income`."
   ]
  },
  {
   "cell_type": "code",
   "execution_count": 14,
   "id": "d2b57e3e",
   "metadata": {
    "deletable": false,
    "editable": true,
    "id": "920b65ad",
    "slideshow": {
     "slide_type": ""
    },
    "tags": []
   },
   "outputs": [],
   "source": [
    "data['total_income'] = data['total_income'].astype(int)"
   ]
  },
  {
   "cell_type": "markdown",
   "id": "fa88c2cd",
   "metadata": {
    "deletable": false,
    "editable": false,
    "id": "80c420ba",
    "slideshow": {
     "slide_type": ""
    },
    "tags": []
   },
   "source": [
    "### Обработка дубликатов"
   ]
  },
  {
   "cell_type": "markdown",
   "id": "7be5d8b7",
   "metadata": {
    "deletable": false,
    "editable": true,
    "slideshow": {
     "slide_type": ""
    },
    "tags": []
   },
   "source": [
    "Столбец `education` содержит разные значения в разных регистрах. По предварительному осмотру можно сказать, что имеются дубликаты. Приведем к нижнему регистру все значения, затем проверим  остальные столбцы."
   ]
  },
  {
   "cell_type": "code",
   "execution_count": 15,
   "id": "fe644313",
   "metadata": {
    "deletable": false,
    "editable": true,
    "slideshow": {
     "slide_type": ""
    },
    "tags": []
   },
   "outputs": [],
   "source": [
    "data['education'] = data['education'].str.lower()"
   ]
  },
  {
   "cell_type": "markdown",
   "id": "6c4c8253",
   "metadata": {
    "deletable": false,
    "id": "dc587695",
    "slideshow": {
     "slide_type": ""
    },
    "tags": []
   },
   "source": [
    "Изучим сколько строк-дубликатов присутствует."
   ]
  },
  {
   "cell_type": "code",
   "execution_count": 16,
   "id": "71bbcd6a",
   "metadata": {
    "deletable": false,
    "editable": true,
    "id": "3ee445e4",
    "outputId": "9684deba-1934-42d1-99e1-cda61740f822",
    "slideshow": {
     "slide_type": ""
    },
    "tags": []
   },
   "outputs": [
    {
     "data": {
      "text/plain": [
       "71"
      ]
     },
     "execution_count": 16,
     "metadata": {},
     "output_type": "execute_result"
    }
   ],
   "source": [
    "data.duplicated().sum()"
   ]
  },
  {
   "cell_type": "markdown",
   "id": "741b1008-e3d2-4644-9597-e2566351a70d",
   "metadata": {
    "editable": true,
    "slideshow": {
     "slide_type": ""
    },
    "tags": []
   },
   "source": [
    "Удалим дубликаты"
   ]
  },
  {
   "cell_type": "code",
   "execution_count": 17,
   "id": "d6a469cb",
   "metadata": {
    "deletable": false,
    "editable": true,
    "id": "8575fe05",
    "slideshow": {
     "slide_type": ""
    },
    "tags": []
   },
   "outputs": [],
   "source": [
    "data = data.drop_duplicates()"
   ]
  },
  {
   "cell_type": "markdown",
   "id": "280839d4",
   "metadata": {
    "deletable": false,
    "editable": false,
    "id": "9904cf55"
   },
   "source": [
    "### Категоризация данных"
   ]
  },
  {
   "cell_type": "markdown",
   "id": "26a86505",
   "metadata": {
    "deletable": false,
    "id": "72fcc8a2",
    "slideshow": {
     "slide_type": ""
    },
    "tags": []
   },
   "source": [
    "Проведём категоризацию дохода (`total_income`) на основе диапазонов, указанных ниже. Категоризованные данные поместим в столбец `total_income_category` с параметрами: \n",
    "\n",
    "- 0–30000 — `'E'`;\n",
    "- 30001–50000 — `'D'`;\n",
    "- 50001–200000 — `'C'`;\n",
    "- 200001–1000000 — `'B'`;\n",
    "- 1000001 и выше — `'A'`.\n"
   ]
  },
  {
   "cell_type": "code",
   "execution_count": 18,
   "id": "8e88ba7e",
   "metadata": {
    "deletable": false,
    "editable": true,
    "id": "e1771346",
    "slideshow": {
     "slide_type": ""
    },
    "tags": []
   },
   "outputs": [],
   "source": [
    "def categorize_income(income):\n",
    "    try:\n",
    "        if 0 <= income <= 30000:\n",
    "            return 'E'\n",
    "        elif 30001 <= income <= 50000:\n",
    "            return 'D'\n",
    "        elif 50001 <= income <= 200000:\n",
    "            return 'C'\n",
    "        elif 200001 <= income <= 1000000:\n",
    "            return 'B'\n",
    "        elif income >= 1000001:\n",
    "            return 'A'\n",
    "    except:\n",
    "        pass"
   ]
  },
  {
   "cell_type": "code",
   "execution_count": 19,
   "id": "c054c563",
   "metadata": {
    "deletable": false,
    "editable": true,
    "id": "d5f3586d",
    "slideshow": {
     "slide_type": ""
    },
    "tags": []
   },
   "outputs": [],
   "source": [
    "data['total_income_category'] = data['total_income'].apply(categorize_income)"
   ]
  },
  {
   "cell_type": "markdown",
   "id": "837422ab",
   "metadata": {
    "deletable": false,
    "editable": true,
    "id": "dde49b5c",
    "slideshow": {
     "slide_type": ""
    },
    "tags": []
   },
   "source": [
    "Выведем из таблицы перечень уникальных целей взятия кредита."
   ]
  },
  {
   "cell_type": "code",
   "execution_count": 20,
   "id": "85f5a2cf",
   "metadata": {
    "deletable": false,
    "editable": true,
    "id": "f67ce9b3",
    "outputId": "673c12d9-7d7e-4ae0-9812-c622c89dd244",
    "slideshow": {
     "slide_type": ""
    },
    "tags": []
   },
   "outputs": [
    {
     "data": {
      "text/plain": [
       "array(['покупка жилья', 'приобретение автомобиля',\n",
       "       'дополнительное образование', 'сыграть свадьбу',\n",
       "       'операции с жильем', 'образование', 'на проведение свадьбы',\n",
       "       'покупка жилья для семьи', 'покупка недвижимости',\n",
       "       'покупка коммерческой недвижимости', 'покупка жилой недвижимости',\n",
       "       'строительство собственной недвижимости', 'недвижимость',\n",
       "       'строительство недвижимости', 'на покупку подержанного автомобиля',\n",
       "       'на покупку своего автомобиля',\n",
       "       'операции с коммерческой недвижимостью',\n",
       "       'строительство жилой недвижимости', 'жилье',\n",
       "       'операции со своей недвижимостью', 'автомобили',\n",
       "       'заняться образованием', 'сделка с подержанным автомобилем',\n",
       "       'получение образования', 'автомобиль', 'свадьба',\n",
       "       'получение дополнительного образования', 'покупка своего жилья',\n",
       "       'операции с недвижимостью', 'получение высшего образования',\n",
       "       'свой автомобиль', 'сделка с автомобилем',\n",
       "       'профильное образование', 'высшее образование',\n",
       "       'покупка жилья для сдачи', 'на покупку автомобиля', 'ремонт жилью',\n",
       "       'заняться высшим образованием'], dtype=object)"
      ]
     },
     "execution_count": 20,
     "metadata": {},
     "output_type": "execute_result"
    }
   ],
   "source": [
    "data['purpose'].unique()"
   ]
  },
  {
   "cell_type": "markdown",
   "id": "d05b50fd",
   "metadata": {
    "deletable": false,
    "editable": true,
    "id": "85d0aef0",
    "slideshow": {
     "slide_type": ""
    },
    "tags": []
   },
   "source": [
    "Проведём категоризацию столбца `purpose`, согласно следующему списку: \n",
    "\n",
    "- `'операции с автомобилем'`,\n",
    "- `'операции с недвижимостью'`,\n",
    "- `'проведение свадьбы'`,\n",
    "- `'получение образования'`.\n",
    "\n",
    "Данные поместим в `purpose_category`"
   ]
  },
  {
   "cell_type": "code",
   "execution_count": 21,
   "id": "332e8103",
   "metadata": {
    "deletable": false,
    "editable": true,
    "id": "e149fab4",
    "slideshow": {
     "slide_type": ""
    },
    "tags": []
   },
   "outputs": [],
   "source": [
    "def categorize_purpose(row):\n",
    "    try:\n",
    "        if 'автом' in row:\n",
    "            return 'операции с автомобилем'\n",
    "        elif 'жил' in row or 'недвиж' in row:\n",
    "            return 'операции с недвижимостью'\n",
    "        elif 'свад' in row:\n",
    "            return 'проведение свадьбы'\n",
    "        elif 'образов' in row:\n",
    "            return 'получение образования'\n",
    "    except:\n",
    "        return 'нет категории'"
   ]
  },
  {
   "cell_type": "code",
   "execution_count": 22,
   "id": "f270771e",
   "metadata": {
    "deletable": false,
    "editable": true,
    "id": "bf36e69b",
    "slideshow": {
     "slide_type": ""
    },
    "tags": []
   },
   "outputs": [],
   "source": [
    "data['purpose_category'] = data['purpose'].apply(categorize_purpose)"
   ]
  },
  {
   "cell_type": "markdown",
   "id": "23aa2db4",
   "metadata": {
    "deletable": false,
    "editable": true,
    "id": "09b242bf",
    "slideshow": {
     "slide_type": ""
    },
    "tags": []
   },
   "source": [
    "## Исследование данных"
   ]
  },
  {
   "cell_type": "markdown",
   "id": "028d6ee3",
   "metadata": {
    "deletable": false,
    "editable": true,
    "id": "c5d66278",
    "slideshow": {
     "slide_type": ""
    },
    "tags": []
   },
   "source": [
    "### Изучим зависимость между количеством детей и возвратом кредита в срок."
   ]
  },
  {
   "cell_type": "markdown",
   "id": "0dccd924",
   "metadata": {
    "editable": true,
    "slideshow": {
     "slide_type": ""
    },
    "tags": []
   },
   "source": [
    "*Для упрощения обращения к таблице 'data' представлена основная информация*"
   ]
  },
  {
   "cell_type": "code",
   "execution_count": 23,
   "id": "6dfd7444",
   "metadata": {
    "deletable": false,
    "editable": true,
    "id": "2cacfc4a",
    "slideshow": {
     "slide_type": ""
    },
    "tags": []
   },
   "outputs": [
    {
     "name": "stdout",
     "output_type": "stream",
     "text": [
      "Index(['children', 'days_employed', 'dob_years', 'education', 'education_id',\n",
      "       'family_status', 'family_status_id', 'gender', 'income_type', 'debt',\n",
      "       'total_income', 'purpose', 'total_income_category', 'purpose_category'],\n",
      "      dtype='object')\n",
      "(21331, 14)\n"
     ]
    }
   ],
   "source": [
    "print(data.columns)\n",
    "print(data.shape)"
   ]
  },
  {
   "cell_type": "markdown",
   "id": "0a3a8f1a",
   "metadata": {
    "editable": true,
    "slideshow": {
     "slide_type": ""
    },
    "tags": []
   },
   "source": [
    "*Создана сводная таблица для поиска зависимости между количеством детей и возврата кредита в срок.*\n",
    "\n",
    "Рассчитали:\n",
    "1. процент('debt_precent') должников в категориях с разным количеством детей в семьях;\n",
    "2. процент('perс_of_total') категории от общего количества.\n",
    "\n",
    "*1 - Для наглядного представления информации.\n",
    "2 - Для понимания количественной составляющей каждой категории*"
   ]
  },
  {
   "cell_type": "code",
   "execution_count": 24,
   "id": "3c57276d",
   "metadata": {
    "editable": true,
    "scrolled": true,
    "slideshow": {
     "slide_type": ""
    },
    "tags": []
   },
   "outputs": [
    {
     "data": {
      "text/html": [
       "<div>\n",
       "<style scoped>\n",
       "    .dataframe tbody tr th:only-of-type {\n",
       "        vertical-align: middle;\n",
       "    }\n",
       "\n",
       "    .dataframe tbody tr th {\n",
       "        vertical-align: top;\n",
       "    }\n",
       "\n",
       "    .dataframe thead tr th {\n",
       "        text-align: left;\n",
       "    }\n",
       "\n",
       "    .dataframe thead tr:last-of-type th {\n",
       "        text-align: right;\n",
       "    }\n",
       "</style>\n",
       "<table border=\"1\" class=\"dataframe\">\n",
       "  <thead>\n",
       "    <tr>\n",
       "      <th></th>\n",
       "      <th>count</th>\n",
       "      <th>sum</th>\n",
       "      <th>debt_precent</th>\n",
       "      <th>perс_of_total</th>\n",
       "    </tr>\n",
       "    <tr>\n",
       "      <th></th>\n",
       "      <th>debt</th>\n",
       "      <th>debt</th>\n",
       "      <th></th>\n",
       "      <th></th>\n",
       "    </tr>\n",
       "    <tr>\n",
       "      <th>children</th>\n",
       "      <th></th>\n",
       "      <th></th>\n",
       "      <th></th>\n",
       "      <th></th>\n",
       "    </tr>\n",
       "  </thead>\n",
       "  <tbody>\n",
       "    <tr>\n",
       "      <th>0</th>\n",
       "      <td>14091</td>\n",
       "      <td>1063</td>\n",
       "      <td>7.54</td>\n",
       "      <td>66.06</td>\n",
       "    </tr>\n",
       "    <tr>\n",
       "      <th>1</th>\n",
       "      <td>4808</td>\n",
       "      <td>444</td>\n",
       "      <td>9.23</td>\n",
       "      <td>22.54</td>\n",
       "    </tr>\n",
       "    <tr>\n",
       "      <th>2</th>\n",
       "      <td>2052</td>\n",
       "      <td>194</td>\n",
       "      <td>9.45</td>\n",
       "      <td>9.62</td>\n",
       "    </tr>\n",
       "    <tr>\n",
       "      <th>3</th>\n",
       "      <td>330</td>\n",
       "      <td>27</td>\n",
       "      <td>8.18</td>\n",
       "      <td>1.55</td>\n",
       "    </tr>\n",
       "    <tr>\n",
       "      <th>4</th>\n",
       "      <td>41</td>\n",
       "      <td>4</td>\n",
       "      <td>9.76</td>\n",
       "      <td>0.19</td>\n",
       "    </tr>\n",
       "    <tr>\n",
       "      <th>5</th>\n",
       "      <td>9</td>\n",
       "      <td>0</td>\n",
       "      <td>0.00</td>\n",
       "      <td>0.04</td>\n",
       "    </tr>\n",
       "  </tbody>\n",
       "</table>\n",
       "</div>"
      ],
      "text/plain": [
       "          count   sum debt_precent perс_of_total\n",
       "           debt  debt                           \n",
       "children                                        \n",
       "0         14091  1063         7.54         66.06\n",
       "1          4808   444         9.23         22.54\n",
       "2          2052   194         9.45          9.62\n",
       "3           330    27         8.18          1.55\n",
       "4            41     4         9.76          0.19\n",
       "5             9     0         0.00          0.04"
      ]
     },
     "execution_count": 24,
     "metadata": {},
     "output_type": "execute_result"
    }
   ],
   "source": [
    "child_debt = data.pivot_table(index = ['children'], values = 'debt', aggfunc = ['count', 'sum'])\n",
    "child_debt['debt_precent'] = round(child_debt['sum'] / child_debt['count'] * 100, 2)\n",
    "child_debt['perс_of_total'] = round(child_debt['count'] / data.shape[0] * 100, 2)\n",
    "child_debt"
   ]
  },
  {
   "cell_type": "markdown",
   "id": "4d2f880a",
   "metadata": {
    "editable": true,
    "slideshow": {
     "slide_type": ""
    },
    "tags": []
   },
   "source": [
    "Рассчитана средняя разница в количестве должников между группами с 1-3 детьми в семьях и группой без детей. \n",
    "Группы 4 и 5 не были учтены из-за малого количества респондентов."
   ]
  },
  {
   "cell_type": "code",
   "execution_count": 25,
   "id": "8a5dc853",
   "metadata": {
    "editable": true,
    "slideshow": {
     "slide_type": ""
    },
    "tags": []
   },
   "outputs": [
    {
     "name": "stdout",
     "output_type": "stream",
     "text": [
      "    1.41\n",
      "Name: 0, dtype: float64 %\n"
     ]
    }
   ],
   "source": [
    "print(round(child_debt.loc[1:3, 'debt_precent'].mean() - child_debt.loc[0, 'debt_precent'], 2), '%')"
   ]
  },
  {
   "cell_type": "markdown",
   "id": "54964ccf",
   "metadata": {
    "editable": true,
    "slideshow": {
     "slide_type": ""
    },
    "tags": []
   },
   "source": [
    "*Посчитано процентное отношение граждан с детьми и без.*"
   ]
  },
  {
   "cell_type": "code",
   "execution_count": 26,
   "id": "9dac0418",
   "metadata": {
    "editable": true,
    "slideshow": {
     "slide_type": ""
    },
    "tags": []
   },
   "outputs": [
    {
     "name": "stdout",
     "output_type": "stream",
     "text": [
      "Клиенты без детей: 66.06%\n",
      "Учтённые клиенты с детьми: 33.71%\n",
      "Не учтённые клиенты с детьми: 0.23%\n"
     ]
    }
   ],
   "source": [
    "print(f\"Клиенты без детей: {child_debt['perс_of_total'][0]}%\")\n",
    "print(f\"Учтённые клиенты с детьми: {round(child_debt['perс_of_total'][1:4].sum(), 2)}%\")\n",
    "print(f\"Не учтённые клиенты с детьми: {round(child_debt['perс_of_total'][4:].sum(), 2)}%\")"
   ]
  },
  {
   "cell_type": "markdown",
   "id": "7a89f211",
   "metadata": {
    "deletable": false,
    "editable": true,
    "id": "3a6b99ec",
    "slideshow": {
     "slide_type": ""
    },
    "tags": []
   },
   "source": [
    "**Вывод:** \\\n",
    "Согласно этапу исследования, существует зависимость между возвратом кредита в срок гражданами с детьми(33%) в количестве от 1 до 3 и без детей(66%), граждане с детьми в среднем имеют задолжность на 1.41% больше, чем граждане без детей. "
   ]
  },
  {
   "cell_type": "markdown",
   "id": "ea5d6424",
   "metadata": {
    "deletable": false,
    "editable": true,
    "id": "97be82ca",
    "slideshow": {
     "slide_type": ""
    },
    "tags": []
   },
   "source": [
    "### Изучим зависимость между семейным положением и возвратом кредита в срок"
   ]
  },
  {
   "cell_type": "markdown",
   "id": "58308107",
   "metadata": {
    "editable": true,
    "slideshow": {
     "slide_type": ""
    },
    "tags": []
   },
   "source": [
    "*Создали сводную таблицу для выполнения поставленной задачи.\n",
    "Для упрощения восприятия проведена сортировка и создана колонка с процентным соотношением.*"
   ]
  },
  {
   "cell_type": "code",
   "execution_count": 27,
   "id": "d777ea06",
   "metadata": {
    "deletable": false,
    "id": "dc3f7ee8"
   },
   "outputs": [
    {
     "data": {
      "text/html": [
       "<div>\n",
       "<style scoped>\n",
       "    .dataframe tbody tr th:only-of-type {\n",
       "        vertical-align: middle;\n",
       "    }\n",
       "\n",
       "    .dataframe tbody tr th {\n",
       "        vertical-align: top;\n",
       "    }\n",
       "\n",
       "    .dataframe thead tr th {\n",
       "        text-align: left;\n",
       "    }\n",
       "\n",
       "    .dataframe thead tr:last-of-type th {\n",
       "        text-align: right;\n",
       "    }\n",
       "</style>\n",
       "<table border=\"1\" class=\"dataframe\">\n",
       "  <thead>\n",
       "    <tr>\n",
       "      <th></th>\n",
       "      <th>count</th>\n",
       "      <th>sum</th>\n",
       "      <th>debt_precent</th>\n",
       "    </tr>\n",
       "    <tr>\n",
       "      <th></th>\n",
       "      <th>debt</th>\n",
       "      <th>debt</th>\n",
       "      <th></th>\n",
       "    </tr>\n",
       "    <tr>\n",
       "      <th>family_status</th>\n",
       "      <th></th>\n",
       "      <th></th>\n",
       "      <th></th>\n",
       "    </tr>\n",
       "  </thead>\n",
       "  <tbody>\n",
       "    <tr>\n",
       "      <th>Не женат / не замужем</th>\n",
       "      <td>2796</td>\n",
       "      <td>273</td>\n",
       "      <td>9.76</td>\n",
       "    </tr>\n",
       "    <tr>\n",
       "      <th>гражданский брак</th>\n",
       "      <td>4134</td>\n",
       "      <td>385</td>\n",
       "      <td>9.31</td>\n",
       "    </tr>\n",
       "    <tr>\n",
       "      <th>женат / замужем</th>\n",
       "      <td>12261</td>\n",
       "      <td>927</td>\n",
       "      <td>7.56</td>\n",
       "    </tr>\n",
       "    <tr>\n",
       "      <th>в разводе</th>\n",
       "      <td>1189</td>\n",
       "      <td>84</td>\n",
       "      <td>7.06</td>\n",
       "    </tr>\n",
       "    <tr>\n",
       "      <th>вдовец / вдова</th>\n",
       "      <td>951</td>\n",
       "      <td>63</td>\n",
       "      <td>6.62</td>\n",
       "    </tr>\n",
       "  </tbody>\n",
       "</table>\n",
       "</div>"
      ],
      "text/plain": [
       "                       count  sum debt_precent\n",
       "                        debt debt             \n",
       "family_status                                 \n",
       "Не женат / не замужем   2796  273         9.76\n",
       "гражданский брак        4134  385         9.31\n",
       "женат / замужем        12261  927         7.56\n",
       "в разводе               1189   84         7.06\n",
       "вдовец / вдова           951   63         6.62"
      ]
     },
     "execution_count": 27,
     "metadata": {},
     "output_type": "execute_result"
    }
   ],
   "source": [
    "family_debt = data.pivot_table(index = ['family_status'], values = 'debt', aggfunc = ['count', 'sum'])\n",
    "family_debt['debt_precent'] = round(family_debt['sum'] / family_debt['count'] * 100, 2)\n",
    "family_debt.sort_values(by = 'debt_precent', ascending = False)"
   ]
  },
  {
   "cell_type": "markdown",
   "id": "0b88f626",
   "metadata": {},
   "source": [
    "Посчитали среднюю разницу между категориями."
   ]
  },
  {
   "cell_type": "code",
   "execution_count": 28,
   "id": "5e0d7961",
   "metadata": {},
   "outputs": [
    {
     "name": "stdout",
     "output_type": "stream",
     "text": [
      "Среднее увелечение количества должников от категории к категории 0.78%\n"
     ]
    },
    {
     "name": "stderr",
     "output_type": "stream",
     "text": [
      "C:\\Users\\Tolge\\AppData\\Local\\Temp\\ipykernel_4964\\3798926019.py:4: FutureWarning: Series.__getitem__ treating keys as positions is deprecated. In a future version, integer keys will always be treated as labels (consistent with DataFrame behavior). To access a value by position, use `ser.iloc[pos]`\n",
      "  count_dt_pt += abs(dt_pt[i] - dt_pt[i+1])\n"
     ]
    }
   ],
   "source": [
    "dt_pt = family_debt['debt_precent'].sort_values(ascending = False)\n",
    "count_dt_pt = 0\n",
    "for i in range(len(dt_pt) - 1):\n",
    "    count_dt_pt += abs(dt_pt[i] - dt_pt[i+1])\n",
    "\n",
    "print(f'Среднее увелечение количества должников от категории к категории {count_dt_pt/(len(dt_pt)-1):.2}%')   "
   ]
  },
  {
   "cell_type": "markdown",
   "id": "bf6c7a61",
   "metadata": {
    "deletable": false,
    "editable": true,
    "id": "1cef7837",
    "slideshow": {
     "slide_type": ""
    },
    "tags": []
   },
   "source": [
    "**Вывод:** \\\n",
    "Зависимость между семейным положением и возвратом кредита в срок имеет разницу диапазона значений, начиная от категории \"вдова/вдовец\" до \"Не женат / не замужем\" в размере 3.14%. Среднее увелечение количества должников от категории к категории 0.78%. Большая разница в проценте(2.2%) должников между группами клиентов, которые состояли в официальном браке и которые не состояли."
   ]
  },
  {
   "cell_type": "markdown",
   "id": "612b6ed0",
   "metadata": {
    "deletable": false,
    "editable": true,
    "id": "1e8b2fca",
    "slideshow": {
     "slide_type": ""
    },
    "tags": []
   },
   "source": [
    "### Наличие зависимостьи между уровнем дохода и возвратом кредита в срок"
   ]
  },
  {
   "cell_type": "markdown",
   "id": "3dc1f65c",
   "metadata": {
    "editable": true,
    "slideshow": {
     "slide_type": ""
    },
    "tags": []
   },
   "source": [
    "Для решения поставленной задачи требуется категоризировать данные по уровню дохода.\n",
    "Необходимо для общего представления вывести обзорную информацию"
   ]
  },
  {
   "cell_type": "code",
   "execution_count": 29,
   "id": "2950fd0b",
   "metadata": {
    "editable": true,
    "slideshow": {
     "slide_type": ""
    },
    "tags": []
   },
   "outputs": [
    {
     "name": "stdout",
     "output_type": "stream",
     "text": [
      "Минимальный уровень дохода: 20667 \n",
      "Средний уровень дохода: 142594.0 \n",
      "Максимальный уровень дохода: 2265604 \n",
      "\n"
     ]
    }
   ],
   "source": [
    "income = data['total_income'].sort_values()\n",
    "min_income, med_income, max_income = income.min(), income.median(), income.max()\n",
    "print('Минимальный уровень дохода:', min_income\n",
    "     ,'\\nСредний уровень дохода:', med_income\n",
    "     ,'\\nМаксимальный уровень дохода:', max_income\n",
    "     ,'\\n')\n"
   ]
  },
  {
   "cell_type": "markdown",
   "id": "ec85eb65",
   "metadata": {},
   "source": [
    "Собрали обзорную статистику по уровню зарплат из таблицы 'data'.\n",
    "Провели предварительную категоризацию по случайным значениям."
   ]
  },
  {
   "cell_type": "code",
   "execution_count": 30,
   "id": "355f5c09",
   "metadata": {
    "scrolled": true
   },
   "outputs": [
    {
     "data": {
      "text/html": [
       "<div>\n",
       "<style scoped>\n",
       "    .dataframe tbody tr th:only-of-type {\n",
       "        vertical-align: middle;\n",
       "    }\n",
       "\n",
       "    .dataframe tbody tr th {\n",
       "        vertical-align: top;\n",
       "    }\n",
       "\n",
       "    .dataframe thead th {\n",
       "        text-align: right;\n",
       "    }\n",
       "</style>\n",
       "<table border=\"1\" class=\"dataframe\">\n",
       "  <thead>\n",
       "    <tr style=\"text-align: right;\">\n",
       "      <th></th>\n",
       "      <th>interval</th>\n",
       "      <th>counter_man</th>\n",
       "      <th>precent</th>\n",
       "    </tr>\n",
       "  </thead>\n",
       "  <tbody>\n",
       "    <tr>\n",
       "      <th>0</th>\n",
       "      <td>0-80000</td>\n",
       "      <td>2265</td>\n",
       "      <td>10.618%</td>\n",
       "    </tr>\n",
       "    <tr>\n",
       "      <th>1</th>\n",
       "      <td>80000-100000</td>\n",
       "      <td>2179</td>\n",
       "      <td>10.215%</td>\n",
       "    </tr>\n",
       "    <tr>\n",
       "      <th>2</th>\n",
       "      <td>100000-120000</td>\n",
       "      <td>2752</td>\n",
       "      <td>12.901%</td>\n",
       "    </tr>\n",
       "    <tr>\n",
       "      <th>3</th>\n",
       "      <td>120000-200000</td>\n",
       "      <td>9096</td>\n",
       "      <td>42.642%</td>\n",
       "    </tr>\n",
       "    <tr>\n",
       "      <th>4</th>\n",
       "      <td>200000-250000</td>\n",
       "      <td>2242</td>\n",
       "      <td>10.511%</td>\n",
       "    </tr>\n",
       "    <tr>\n",
       "      <th>5</th>\n",
       "      <td>250000-500000</td>\n",
       "      <td>2575</td>\n",
       "      <td>12.072%</td>\n",
       "    </tr>\n",
       "    <tr>\n",
       "      <th>6</th>\n",
       "      <td>500000-3000000</td>\n",
       "      <td>222</td>\n",
       "      <td>1.041%</td>\n",
       "    </tr>\n",
       "  </tbody>\n",
       "</table>\n",
       "</div>"
      ],
      "text/plain": [
       "         interval  counter_man  precent\n",
       "0         0-80000         2265  10.618%\n",
       "1    80000-100000         2179  10.215%\n",
       "2   100000-120000         2752  12.901%\n",
       "3   120000-200000         9096  42.642%\n",
       "4   200000-250000         2242  10.511%\n",
       "5   250000-500000         2575  12.072%\n",
       "6  500000-3000000          222   1.041%"
      ]
     },
     "execution_count": 30,
     "metadata": {},
     "output_type": "execute_result"
    }
   ],
   "source": [
    "income_name = ['interval', 'counter_man', 'precent']\n",
    "income_data = []\n",
    "lvl = [0, 80000, 100000, 120000, 200000, 250000, 500000, 3000000]\n",
    "\n",
    "def lvl_income(lvl):\n",
    "    for i in range(len(lvl) - 1):\n",
    "        interval = f'{lvl[i]}-{lvl[i+1]}'\n",
    "        counter_man = data.loc[(data['total_income'] >= lvl[i]) & (data['total_income'] <= lvl[i+1]), 'total_income'].count()\n",
    "        precent = f'{counter_man / data.shape[0]:.3%}'\n",
    "        string = [interval, counter_man, precent]\n",
    "        if counter_man != 0:\n",
    "            income_data.append(string)\n",
    "    return pd.DataFrame(data = income_data, columns = income_name)   \n",
    "\n",
    "lvl_income(lvl)    "
   ]
  },
  {
   "cell_type": "markdown",
   "id": "0db3b9b6",
   "metadata": {
    "editable": true,
    "slideshow": {
     "slide_type": ""
    },
    "tags": []
   },
   "source": [
    "Провели категоризацию данных, согласно общему представлению об уровне зарплат из открытых источников."
   ]
  },
  {
   "cell_type": "code",
   "execution_count": 31,
   "id": "fcfa6475",
   "metadata": {
    "editable": true,
    "scrolled": true,
    "slideshow": {
     "slide_type": ""
    },
    "tags": []
   },
   "outputs": [
    {
     "data": {
      "text/html": [
       "<div>\n",
       "<style scoped>\n",
       "    .dataframe tbody tr th:only-of-type {\n",
       "        vertical-align: middle;\n",
       "    }\n",
       "\n",
       "    .dataframe tbody tr th {\n",
       "        vertical-align: top;\n",
       "    }\n",
       "\n",
       "    .dataframe thead tr th {\n",
       "        text-align: left;\n",
       "    }\n",
       "\n",
       "    .dataframe thead tr:last-of-type th {\n",
       "        text-align: right;\n",
       "    }\n",
       "</style>\n",
       "<table border=\"1\" class=\"dataframe\">\n",
       "  <thead>\n",
       "    <tr>\n",
       "      <th></th>\n",
       "      <th>sum</th>\n",
       "      <th>count</th>\n",
       "      <th>mean</th>\n",
       "      <th>percent_income</th>\n",
       "    </tr>\n",
       "    <tr>\n",
       "      <th></th>\n",
       "      <th>debt</th>\n",
       "      <th>debt</th>\n",
       "      <th>debt</th>\n",
       "      <th></th>\n",
       "    </tr>\n",
       "    <tr>\n",
       "      <th>income_lvl</th>\n",
       "      <th></th>\n",
       "      <th></th>\n",
       "      <th></th>\n",
       "      <th></th>\n",
       "    </tr>\n",
       "  </thead>\n",
       "  <tbody>\n",
       "    <tr>\n",
       "      <th>эксклюзив</th>\n",
       "      <td>14</td>\n",
       "      <td>222</td>\n",
       "      <td>0.063063</td>\n",
       "      <td>6.31</td>\n",
       "    </tr>\n",
       "    <tr>\n",
       "      <th>сверх высокий</th>\n",
       "      <td>180</td>\n",
       "      <td>2575</td>\n",
       "      <td>0.069903</td>\n",
       "      <td>6.99</td>\n",
       "    </tr>\n",
       "    <tr>\n",
       "      <th>высокий</th>\n",
       "      <td>162</td>\n",
       "      <td>2242</td>\n",
       "      <td>0.072257</td>\n",
       "      <td>7.23</td>\n",
       "    </tr>\n",
       "    <tr>\n",
       "      <th>ниже среднего</th>\n",
       "      <td>164</td>\n",
       "      <td>2141</td>\n",
       "      <td>0.076600</td>\n",
       "      <td>7.66</td>\n",
       "    </tr>\n",
       "    <tr>\n",
       "      <th>минимальный</th>\n",
       "      <td>10</td>\n",
       "      <td>124</td>\n",
       "      <td>0.080645</td>\n",
       "      <td>8.06</td>\n",
       "    </tr>\n",
       "    <tr>\n",
       "      <th>средний</th>\n",
       "      <td>411</td>\n",
       "      <td>4931</td>\n",
       "      <td>0.083350</td>\n",
       "      <td>8.34</td>\n",
       "    </tr>\n",
       "    <tr>\n",
       "      <th>выше среднего</th>\n",
       "      <td>791</td>\n",
       "      <td>9096</td>\n",
       "      <td>0.086961</td>\n",
       "      <td>8.70</td>\n",
       "    </tr>\n",
       "  </tbody>\n",
       "</table>\n",
       "</div>"
      ],
      "text/plain": [
       "               sum count      mean percent_income\n",
       "              debt  debt      debt               \n",
       "income_lvl                                       \n",
       "эксклюзив       14   222  0.063063           6.31\n",
       "сверх высокий  180  2575  0.069903           6.99\n",
       "высокий        162  2242  0.072257           7.23\n",
       "ниже среднего  164  2141  0.076600           7.66\n",
       "минимальный     10   124  0.080645           8.06\n",
       "средний        411  4931  0.083350           8.34\n",
       "выше среднего  791  9096  0.086961           8.70"
      ]
     },
     "execution_count": 31,
     "metadata": {},
     "output_type": "execute_result"
    }
   ],
   "source": [
    "lvl = {'0':0, 'минимальный':40000, 'ниже среднего':80000, 'средний':120000\n",
    "       ,'выше среднего':200000, 'высокий':250000, 'сверх высокий':500000, 'эксклюзив':3000000}\n",
    "                    \n",
    "def categor_income(income):\n",
    "    for key, values in lvl.items():\n",
    "        if income <= values:\n",
    "            return key\n",
    "    return 'some_err'        \n",
    "\n",
    "data['income_lvl'] = data['total_income'].apply(categor_income)\n",
    "data_income_lvl = data.pivot_table(index = ['income_lvl'], values = 'debt', aggfunc = ['sum', 'count','mean'])\n",
    "data_income_lvl['percent_income'] = round(data_income_lvl['sum']['debt']/data_income_lvl['count']['debt'] * 100,2)\n",
    "data_income_lvl.sort_values(by='percent_income')    "
   ]
  },
  {
   "cell_type": "markdown",
   "id": "8cc06082",
   "metadata": {},
   "source": [
    "Составили промежуточный итог и краткие выводы."
   ]
  },
  {
   "cell_type": "code",
   "execution_count": 32,
   "id": "b97f0117",
   "metadata": {
    "deletable": false,
    "editable": true,
    "id": "cd7e3720",
    "slideshow": {
     "slide_type": ""
    },
    "tags": []
   },
   "outputs": [
    {
     "name": "stdout",
     "output_type": "stream",
     "text": [
      "Максимальное количество должников у категории доходности: выше среднего - 8.7%\n",
      "Минимальное количество должников у категории доходности: эксклюзив - 6.31%\n",
      "Медианное значение составило 7.66%\n",
      "\n",
      "Разница между максимальным и минимальном значении в процентном содержании - 2.39%\n",
      "Средняя разница между категориями в процентном содержании - 0.4%\n"
     ]
    },
    {
     "name": "stderr",
     "output_type": "stream",
     "text": [
      "C:\\Users\\Tolge\\AppData\\Local\\Temp\\ipykernel_4964\\3666824389.py:8: FutureWarning: Series.__getitem__ treating keys as positions is deprecated. In a future version, integer keys will always be treated as labels (consistent with DataFrame behavior). To access a value by position, use `ser.iloc[pos]`\n",
      "  count += abs(conc_id[i] - conc_id[i+1])\n"
     ]
    }
   ],
   "source": [
    "conc_id = data_income_lvl['percent_income'].sort_values()\n",
    "print(f'Максимальное количество должников у категории доходности: {conc_id.idxmax()} - {conc_id.max()}%')\n",
    "print(f'Минимальное количество должников у категории доходности: {conc_id.idxmin()} - {conc_id.min()}%')\n",
    "print(f'Медианное значение составило {conc_id.median()}%\\n')\n",
    "print(f'Разница между максимальным и минимальном значении в процентном содержании - {conc_id.max()-conc_id.min():.3}%')\n",
    "count = 0\n",
    "for i in range(len(conc_id) - 1):\n",
    "   count += abs(conc_id[i] - conc_id[i+1])\n",
    "print(f'Средняя разница между категориями в процентном содержании - {count/(len(conc_id)-1) :.2}%')"
   ]
  },
  {
   "cell_type": "markdown",
   "id": "6b4eb254",
   "metadata": {
    "deletable": false,
    "editable": true,
    "id": "e8593def",
    "slideshow": {
     "slide_type": ""
    },
    "tags": []
   },
   "source": [
    "**Вывод:** \\\n",
    "В среднем значение разности количества должников между категориями составляет порядка 0.4%, что свидетельствует о незначительной зависимости. Данные о разнице могут незначительно меняться в зависимости от порога категорий. \\\n",
    "Уровень ответственности клиентов по убыванию, где под №1 идёт наиболее ответственная группа с указанием диапазона заработной платы:\n",
    "1. эксклюзив (от 3.000.000 и больше);\n",
    "2. сверх высокий (500.000 - 3.000.000);\n",
    "3. высокий (250.000 - 500.000);\n",
    "4. ниже среднего (80.000 - 120.000);\n",
    "5. минимальный (40.000 - 80.000);\n",
    "6. средний (120.000 - 200.000);\n",
    "7. выше среднего (200.000 - 250.000)."
   ]
  },
  {
   "cell_type": "markdown",
   "id": "ccc4a14d",
   "metadata": {
    "deletable": false,
    "editable": true,
    "id": "99ecbd1f",
    "slideshow": {
     "slide_type": ""
    },
    "tags": []
   },
   "source": [
    "### Влияние целей кредита на его возврат в срок"
   ]
  },
  {
   "cell_type": "markdown",
   "id": "f736f7bb",
   "metadata": {
    "editable": true,
    "slideshow": {
     "slide_type": ""
    },
    "tags": []
   },
   "source": [
    "Для решения поставленной задачи использовли метод создания сводных таблиц `pivot_table`.\n",
    "Использовали колонку `\"purpose_category\"` полученную в пункте 2.6, задания 16\n",
    "и значения из колонки `\"debt\"`"
   ]
  },
  {
   "cell_type": "code",
   "execution_count": 33,
   "id": "9f3eaacf",
   "metadata": {
    "deletable": false,
    "editable": true,
    "id": "2b687290",
    "scrolled": true,
    "slideshow": {
     "slide_type": ""
    },
    "tags": []
   },
   "outputs": [
    {
     "data": {
      "text/html": [
       "<style type=\"text/css\">\n",
       "</style>\n",
       "<table id=\"T_9f16e\">\n",
       "  <thead>\n",
       "    <tr>\n",
       "      <th class=\"blank level0\" >&nbsp;</th>\n",
       "      <th id=\"T_9f16e_level0_col0\" class=\"col_heading level0 col0\" >sum</th>\n",
       "      <th id=\"T_9f16e_level0_col1\" class=\"col_heading level0 col1\" >count</th>\n",
       "      <th id=\"T_9f16e_level0_col2\" class=\"col_heading level0 col2\" >mean</th>\n",
       "    </tr>\n",
       "    <tr>\n",
       "      <th class=\"blank level1\" >&nbsp;</th>\n",
       "      <th id=\"T_9f16e_level1_col0\" class=\"col_heading level1 col0\" >debt</th>\n",
       "      <th id=\"T_9f16e_level1_col1\" class=\"col_heading level1 col1\" >debt</th>\n",
       "      <th id=\"T_9f16e_level1_col2\" class=\"col_heading level1 col2\" >debt</th>\n",
       "    </tr>\n",
       "    <tr>\n",
       "      <th class=\"index_name level0\" >purpose_category</th>\n",
       "      <th class=\"blank col0\" >&nbsp;</th>\n",
       "      <th class=\"blank col1\" >&nbsp;</th>\n",
       "      <th class=\"blank col2\" >&nbsp;</th>\n",
       "    </tr>\n",
       "  </thead>\n",
       "  <tbody>\n",
       "    <tr>\n",
       "      <th id=\"T_9f16e_level0_row0\" class=\"row_heading level0 row0\" >операции с недвижимостью</th>\n",
       "      <td id=\"T_9f16e_row0_col0\" class=\"data row0 col0\" >780</td>\n",
       "      <td id=\"T_9f16e_row0_col1\" class=\"data row0 col1\" >10751</td>\n",
       "      <td id=\"T_9f16e_row0_col2\" class=\"data row0 col2\" >7.26%</td>\n",
       "    </tr>\n",
       "    <tr>\n",
       "      <th id=\"T_9f16e_level0_row1\" class=\"row_heading level0 row1\" >проведение свадьбы</th>\n",
       "      <td id=\"T_9f16e_row1_col0\" class=\"data row1 col0\" >183</td>\n",
       "      <td id=\"T_9f16e_row1_col1\" class=\"data row1 col1\" >2313</td>\n",
       "      <td id=\"T_9f16e_row1_col2\" class=\"data row1 col2\" >7.91%</td>\n",
       "    </tr>\n",
       "    <tr>\n",
       "      <th id=\"T_9f16e_level0_row2\" class=\"row_heading level0 row2\" >получение образования</th>\n",
       "      <td id=\"T_9f16e_row2_col0\" class=\"data row2 col0\" >369</td>\n",
       "      <td id=\"T_9f16e_row2_col1\" class=\"data row2 col1\" >3988</td>\n",
       "      <td id=\"T_9f16e_row2_col2\" class=\"data row2 col2\" >9.25%</td>\n",
       "    </tr>\n",
       "    <tr>\n",
       "      <th id=\"T_9f16e_level0_row3\" class=\"row_heading level0 row3\" >операции с автомобилем</th>\n",
       "      <td id=\"T_9f16e_row3_col0\" class=\"data row3 col0\" >400</td>\n",
       "      <td id=\"T_9f16e_row3_col1\" class=\"data row3 col1\" >4279</td>\n",
       "      <td id=\"T_9f16e_row3_col2\" class=\"data row3 col2\" >9.35%</td>\n",
       "    </tr>\n",
       "  </tbody>\n",
       "</table>\n"
      ],
      "text/plain": [
       "<pandas.io.formats.style.Styler at 0x21d06ed47d0>"
      ]
     },
     "execution_count": 33,
     "metadata": {},
     "output_type": "execute_result"
    }
   ],
   "source": [
    "# Ваш код будет здесь. Вы можете создавать новые ячейки.\n",
    "data_pc_d = data.pivot_table(index = ['purpose_category'], values = 'debt', aggfunc = ['sum', 'count', 'mean'])\\\n",
    "            .sort_values(by=('mean', 'debt'))\\\n",
    "            .style.format({('mean', 'debt'): '{:.2%}'})\n",
    "data_pc_d\n"
   ]
  },
  {
   "cell_type": "markdown",
   "id": "096a8996",
   "metadata": {
    "editable": true,
    "slideshow": {
     "slide_type": ""
    },
    "tags": []
   },
   "source": [
    "Рассчитали статитические данные"
   ]
  },
  {
   "cell_type": "code",
   "execution_count": 34,
   "id": "81f3a4c7",
   "metadata": {
    "editable": true,
    "slideshow": {
     "slide_type": ""
    },
    "tags": []
   },
   "outputs": [
    {
     "name": "stdout",
     "output_type": "stream",
     "text": [
      "Разница между максимальным и минимальным показателем: 2.1%\n",
      "Средний показатель разницы между группами в возврате кредита в срок: 0.7%\n"
     ]
    }
   ],
   "source": [
    "print(f\"Разница между максимальным и минимальным показателем: {(9.35-7.26):.2}%\")\n",
    "print(f'Средний показатель разницы между группами в возврате кредита в срок: {((9.35-9.25)+(9.25-7.91)+(7.91-7.26))/3:.02}%')"
   ]
  },
  {
   "cell_type": "markdown",
   "id": "1cef7ea4",
   "metadata": {
    "deletable": false,
    "editable": true,
    "id": "b4bb2ce6",
    "slideshow": {
     "slide_type": ""
    },
    "tags": []
   },
   "source": [
    "**Вывод:** \\\n",
    "Полученные данные позволяют предположить, что категории \"операции с недвижимостью\" и \"проведение свадьбы\", выбирают более кредито-платежные клиенты. Разница с категориями 'операции с автомобилем' и 'получение образования' составляет порядка 2%. Полученные процентные показатели могут быть подвержены влиянию возраста и зрелости клиентов. Возможно кредиты на недвижимость оплачиваются не одним человеком, что снижает нагрузку, а кредиты на свадьбы хотя бы частично возвращаются денежными подарками."
   ]
  },
  {
   "cell_type": "markdown",
   "id": "7e5ba0a5",
   "metadata": {
    "deletable": false,
    "editable": true,
    "id": "09c3ac4c",
    "slideshow": {
     "slide_type": ""
    },
    "tags": []
   },
   "source": [
    "### Возможные причины появления пропусков в исходных данных"
   ]
  },
  {
   "cell_type": "markdown",
   "id": "f87d38af",
   "metadata": {
    "deletable": false,
    "editable": true,
    "id": "9da2ceda",
    "slideshow": {
     "slide_type": ""
    },
    "tags": []
   },
   "source": [
    "Причиной пропуска в данных может быть человеческих фактор или технический.\n",
    "Если речь идет о клиенте, то человек может просто не захотеть заполнять информацию о себе, а если речь идет о сотруднике, то причиной пропуска может стать ошибка. Иногда пропуски оставляют умышленно для заполнения спецсимволами.\n",
    "Техническая ошибка может возникнуть из-за сбоя или ошибок программы."
   ]
  },
  {
   "cell_type": "markdown",
   "id": "55e78d0c",
   "metadata": {
    "deletable": false,
    "editable": true,
    "id": "7b0487d6",
    "slideshow": {
     "slide_type": ""
    },
    "tags": []
   },
   "source": [
    "### Объяснение, почему заполнять пропуски медианным значением — лучшее решение для количественных переменных."
   ]
  },
  {
   "cell_type": "markdown",
   "id": "a2bd849b",
   "metadata": {
    "deletable": false,
    "editable": true,
    "id": "7ecf2b8e",
    "slideshow": {
     "slide_type": ""
    },
    "tags": []
   },
   "source": [
    "В выборке, где значения могут иметь выбросы, среднее значение по серии даст большие отклонения в отличии от медианного значения."
   ]
  },
  {
   "cell_type": "markdown",
   "id": "d5defa9e",
   "metadata": {
    "deletable": false,
    "editable": false,
    "id": "6db5255a",
    "slideshow": {
     "slide_type": ""
    },
    "tags": []
   },
   "source": [
    "## Общий вывод."
   ]
  },
  {
   "cell_type": "markdown",
   "id": "6442182f",
   "metadata": {
    "deletable": false,
    "editable": true,
    "id": "bad65432",
    "slideshow": {
     "slide_type": ""
    },
    "tags": []
   },
   "source": [
    "Семейное положение и количество детей имеет небольшую зависимость по нескольким показателям в отношении погашения кредита в срок. Результаты исследование представлены отношением клиентов, имевших задолженность по возврату кредитов(далее - должников) к общему количеству клиентов категорий и показаны в процентах:\n",
    "- общее количество должников в исследовании с детьми выше на 1.41% по отношению к должникам без детей(таковых 33% от общей выборки). В общем случае можно сказать, что клиенты без детей справляются с выплатой кредита лучше, можно предположить, что это обусловлено трудностями в воспитании ребенка и непредвиденными расходами;\n",
    "    \n",
    "- количество должников в зависимости от семейного положения варируется между показателями 6.62% и 9.76%, разница между которыми составляет 3.14%. Прошу обратить внимание на группы в которых люди состояли в официальных отношения и те, где этого не было(гражданский брак, не женат/не замужем). Последние имеют склонность задерживать возврат кредита в срок чаще на 1.75%(между граничными показателями), что может быть обусловлено отсутвием опыта самостоятельной жизни. Отдельно стоит отметить группы \"в разводе\", \"вдова/вдовец\", они лучше остальных справляются с задачей возврата кредита в срок. \n",
    "\n",
    "- анализ по доходам проведён на основании собственных категорий клиентов. Уровень дохода имеет влияние на количество должников составляя прирост 0.4% между категориями. Общий показатель варируется между 6.31% и 8.7%. Люди с категориями зарплат 'средний', 'выше среднего', уровень которых варируется от 80000 - 200000 хуже всего справляются с возвратом кредита(таковых большинство, можно предположить, что это вызвано неопытностью в планировании распределения финансов), к ним же можно добавить категорию 'минимальнй', где уровень зарплат от 0 - 40000, но количество клиентов в этой группе всего 124. Стоит отметить наиболее стабильные и потенциально выгодные группы в соответствии с их рейтингом и доходом по погашению кредита в срок: \n",
    " 1. 'эксклюзив'(500000-3000000) всего 222 клиента;\n",
    " 2. 'сверх высокий'(250000-500000);   \n",
    " 3. 'высокий'(200000-250000).\n",
    "\n",
    "- цели кредита изменяют показатель возврата в срок между группами(7.26-9.35%) в среднем на 0.7%. Полученные данные позволяют предположить, что категории \"операции с недвижимостью\" и \"проведение свадьбы\", выбирают более кредито-платежные клиенты, где заём может оплачиваться не одним человеком, что снижает нагрузку. Разница с категориями 'операции с автомобилем' и 'получение образования' составляет порядка 2%. Полученные процентные показатели могут быть подвержены влиянию возраста и зрелости клиентов.\n",
    "\n",
    "Полученные данные говорят о незначительной разнице между категориями. Кроме того, те категории, где наблюдается увеличение времени погашения кредита, составляют большую или существенную часть от всей базы клиентов. \n",
    "\n",
    "Рекомендуется:\n",
    "- Проанализировать данные по группам клиентов с доходами \"средний\", \"выше среднего\", обратить внимание на то, как долго клиенты получают свои зарплаты, был ли скачок в уровне зарплат.   \n",
    "- Обратить внимание на клиентов с повышенным доходом и суммой кредита среди должников.\n",
    "- Обратить внимание на группы 'гражданский брак', 'не женат/не замужем' и рассмотреть зависимость возврата кредита в срок от возраста и образования."
   ]
  },
  {
   "cell_type": "code",
   "execution_count": null,
   "id": "7856dd11-da3d-4b53-97dd-d35522f880ae",
   "metadata": {
    "editable": true,
    "slideshow": {
     "slide_type": ""
    },
    "tags": []
   },
   "outputs": [],
   "source": []
  }
 ],
 "metadata": {
  "ExecuteTimeLog": [
   {
    "duration": 49,
    "start_time": "2023-02-03T19:03:37.931Z"
   },
   {
    "duration": 719,
    "start_time": "2023-02-03T19:03:44.326Z"
   },
   {
    "duration": 23,
    "start_time": "2023-02-03T19:03:45.047Z"
   },
   {
    "duration": 18,
    "start_time": "2023-02-03T19:03:45.072Z"
   },
   {
    "duration": 12,
    "start_time": "2023-02-03T19:03:45.092Z"
   },
   {
    "duration": 65,
    "start_time": "2023-02-03T19:03:45.105Z"
   },
   {
    "duration": 4,
    "start_time": "2023-02-03T19:03:45.172Z"
   },
   {
    "duration": 11,
    "start_time": "2023-02-03T19:03:45.178Z"
   },
   {
    "duration": 6,
    "start_time": "2023-02-03T19:03:45.191Z"
   },
   {
    "duration": 9,
    "start_time": "2023-02-03T19:03:45.199Z"
   },
   {
    "duration": 29,
    "start_time": "2023-02-03T19:03:45.210Z"
   },
   {
    "duration": 44,
    "start_time": "2023-02-03T19:03:45.247Z"
   },
   {
    "duration": 11,
    "start_time": "2023-02-03T19:03:45.293Z"
   },
   {
    "duration": 9,
    "start_time": "2023-02-03T19:03:45.306Z"
   },
   {
    "duration": 17,
    "start_time": "2023-02-03T19:03:45.316Z"
   },
   {
    "duration": 46,
    "start_time": "2023-02-03T19:03:45.337Z"
   },
   {
    "duration": 27,
    "start_time": "2023-02-03T19:03:45.385Z"
   },
   {
    "duration": 6,
    "start_time": "2023-02-03T19:03:45.414Z"
   },
   {
    "duration": 17,
    "start_time": "2023-02-03T19:03:45.422Z"
   },
   {
    "duration": 12,
    "start_time": "2023-02-03T19:03:45.441Z"
   },
   {
    "duration": 7,
    "start_time": "2023-02-03T19:03:45.455Z"
   },
   {
    "duration": 17,
    "start_time": "2023-02-03T19:03:45.464Z"
   },
   {
    "duration": 17,
    "start_time": "2023-02-03T19:03:58.802Z"
   },
   {
    "duration": 8,
    "start_time": "2023-02-03T19:04:12.231Z"
   },
   {
    "duration": 94,
    "start_time": "2023-02-09T12:43:24.084Z"
   },
   {
    "duration": 93,
    "start_time": "2023-02-09T13:27:33.021Z"
   },
   {
    "duration": 776,
    "start_time": "2023-02-10T10:33:59.714Z"
   },
   {
    "duration": 26,
    "start_time": "2023-02-10T10:34:00.493Z"
   },
   {
    "duration": 73,
    "start_time": "2023-02-10T10:34:00.522Z"
   },
   {
    "duration": 32,
    "start_time": "2023-02-10T10:34:00.597Z"
   },
   {
    "duration": 92,
    "start_time": "2023-02-10T10:34:00.631Z"
   },
   {
    "duration": 22,
    "start_time": "2023-02-10T10:34:00.725Z"
   },
   {
    "duration": 54,
    "start_time": "2023-02-10T10:34:00.748Z"
   },
   {
    "duration": 55,
    "start_time": "2023-02-10T10:34:00.804Z"
   },
   {
    "duration": 29,
    "start_time": "2023-02-10T10:34:00.861Z"
   },
   {
    "duration": 32,
    "start_time": "2023-02-10T10:34:00.894Z"
   },
   {
    "duration": 52,
    "start_time": "2023-02-10T10:34:00.928Z"
   },
   {
    "duration": 11,
    "start_time": "2023-02-10T10:34:00.982Z"
   },
   {
    "duration": 30,
    "start_time": "2023-02-10T10:34:00.995Z"
   },
   {
    "duration": 43,
    "start_time": "2023-02-10T10:34:01.027Z"
   },
   {
    "duration": 67,
    "start_time": "2023-02-10T10:34:01.072Z"
   },
   {
    "duration": 28,
    "start_time": "2023-02-10T10:34:01.141Z"
   },
   {
    "duration": 19,
    "start_time": "2023-02-10T10:34:01.171Z"
   },
   {
    "duration": 45,
    "start_time": "2023-02-10T10:34:01.192Z"
   },
   {
    "duration": 83,
    "start_time": "2023-02-10T10:34:01.238Z"
   },
   {
    "duration": 32,
    "start_time": "2023-02-10T10:34:01.323Z"
   },
   {
    "duration": 51,
    "start_time": "2023-02-10T10:34:01.357Z"
   },
   {
    "duration": 41,
    "start_time": "2023-02-10T10:34:01.410Z"
   },
   {
    "duration": 55,
    "start_time": "2023-02-10T10:34:01.453Z"
   },
   {
    "duration": 10,
    "start_time": "2023-02-10T10:34:01.510Z"
   },
   {
    "duration": 60,
    "start_time": "2023-02-10T10:34:01.521Z"
   },
   {
    "duration": 70,
    "start_time": "2023-02-10T10:34:01.588Z"
   },
   {
    "duration": 22,
    "start_time": "2023-02-10T10:34:01.660Z"
   },
   {
    "duration": 19,
    "start_time": "2023-02-10T10:34:01.686Z"
   },
   {
    "duration": 40,
    "start_time": "2023-02-10T10:34:01.706Z"
   },
   {
    "duration": 74,
    "start_time": "2023-02-10T10:34:01.749Z"
   },
   {
    "duration": 9,
    "start_time": "2023-02-10T10:34:01.825Z"
   },
   {
    "duration": 514,
    "start_time": "2023-02-10T10:34:01.836Z"
   },
   {
    "duration": 4,
    "start_time": "2023-02-10T10:34:02.353Z"
   },
   {
    "duration": 116,
    "start_time": "2023-02-10T11:38:17.983Z"
   },
   {
    "duration": 780,
    "start_time": "2023-02-10T11:38:23.512Z"
   },
   {
    "duration": 24,
    "start_time": "2023-02-10T11:38:24.294Z"
   },
   {
    "duration": 18,
    "start_time": "2023-02-10T11:38:24.321Z"
   },
   {
    "duration": 16,
    "start_time": "2023-02-10T11:38:24.342Z"
   },
   {
    "duration": 46,
    "start_time": "2023-02-10T11:38:24.360Z"
   },
   {
    "duration": 3,
    "start_time": "2023-02-10T11:38:24.407Z"
   },
   {
    "duration": 32,
    "start_time": "2023-02-10T11:38:24.412Z"
   },
   {
    "duration": 34,
    "start_time": "2023-02-10T11:38:24.446Z"
   },
   {
    "duration": 11,
    "start_time": "2023-02-10T11:38:24.482Z"
   },
   {
    "duration": 18,
    "start_time": "2023-02-10T11:38:24.496Z"
   },
   {
    "duration": 63,
    "start_time": "2023-02-10T11:38:24.515Z"
   },
   {
    "duration": 17,
    "start_time": "2023-02-10T11:38:24.579Z"
   },
   {
    "duration": 15,
    "start_time": "2023-02-10T11:38:24.598Z"
   },
   {
    "duration": 44,
    "start_time": "2023-02-10T11:38:24.614Z"
   },
   {
    "duration": 45,
    "start_time": "2023-02-10T11:38:24.659Z"
   },
   {
    "duration": 16,
    "start_time": "2023-02-10T11:38:24.705Z"
   },
   {
    "duration": 10,
    "start_time": "2023-02-10T11:38:24.723Z"
   },
   {
    "duration": 48,
    "start_time": "2023-02-10T11:38:24.734Z"
   },
   {
    "duration": 32,
    "start_time": "2023-02-10T11:38:24.783Z"
   },
   {
    "duration": 19,
    "start_time": "2023-02-10T11:38:24.817Z"
   },
   {
    "duration": 42,
    "start_time": "2023-02-10T11:38:24.837Z"
   },
   {
    "duration": 19,
    "start_time": "2023-02-10T11:38:24.881Z"
   },
   {
    "duration": 32,
    "start_time": "2023-02-10T11:38:24.901Z"
   },
   {
    "duration": 8,
    "start_time": "2023-02-10T11:38:24.935Z"
   },
   {
    "duration": 53,
    "start_time": "2023-02-10T11:38:24.944Z"
   },
   {
    "duration": 46,
    "start_time": "2023-02-10T11:38:25.000Z"
   },
   {
    "duration": 15,
    "start_time": "2023-02-10T11:38:25.048Z"
   },
   {
    "duration": 39,
    "start_time": "2023-02-10T11:38:25.066Z"
   },
   {
    "duration": 23,
    "start_time": "2023-02-10T11:38:25.106Z"
   },
   {
    "duration": 62,
    "start_time": "2023-02-10T11:38:25.131Z"
   },
   {
    "duration": 12,
    "start_time": "2023-02-10T11:38:25.195Z"
   },
   {
    "duration": 489,
    "start_time": "2023-02-10T11:38:25.209Z"
   },
   {
    "duration": 4,
    "start_time": "2023-02-10T11:38:25.700Z"
   },
   {
    "duration": 120,
    "start_time": "2023-02-10T11:42:19.112Z"
   },
   {
    "duration": 55,
    "start_time": "2023-02-10T12:10:36.671Z"
   },
   {
    "duration": 58,
    "start_time": "2023-02-10T12:12:41.304Z"
   },
   {
    "duration": 52,
    "start_time": "2023-02-10T12:12:44.080Z"
   }
  ],
  "colab": {
   "name": "dpp_template_part2.ipynb",
   "provenance": []
  },
  "kernelspec": {
   "display_name": "Python 3 (ipykernel)",
   "language": "python",
   "name": "python3"
  },
  "language_info": {
   "codemirror_mode": {
    "name": "ipython",
    "version": 3
   },
   "file_extension": ".py",
   "mimetype": "text/x-python",
   "name": "python",
   "nbconvert_exporter": "python",
   "pygments_lexer": "ipython3",
   "version": "3.11.5"
  },
  "toc": {
   "base_numbering": 1,
   "nav_menu": {},
   "number_sections": true,
   "sideBar": true,
   "skip_h1_title": true,
   "title_cell": "Table of Contents",
   "title_sidebar": "Contents",
   "toc_cell": false,
   "toc_position": {
    "height": "calc(100% - 180px)",
    "left": "10px",
    "top": "150px",
    "width": "339.391px"
   },
   "toc_section_display": true,
   "toc_window_display": true
  }
 },
 "nbformat": 4,
 "nbformat_minor": 5
}
