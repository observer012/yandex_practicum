{
 "cells": [
  {
   "cell_type": "markdown",
   "metadata": {
    "id": "ZLMCg1afHEVt"
   },
   "source": [
    "# Исследование текстов"
   ]
  },
  {
   "cell_type": "markdown",
   "metadata": {},
   "source": [
    "<h1>Содержание<span class='tocSkip'></span></h1>\n",
    "\n",
    "* [1 Подготовка](#my_section_1) <a id='content_1'></a>\n",
    "  * [1.1 Ознакомление](#my_section_2) <a id='content_2'></a>\n",
    "    * [1.1.1 head, info](#my_section_3) <a id='content_3'></a>\n",
    "    * [1.1.2 Распределение классов](#my_section_4) <a id='content_4'></a>\n",
    "    * [1.1.3 Вывод](#my_section_5) <a id='content_5'></a>\n",
    "  * [1.2 Упрощение текста](#my_section_6) <a id='content_6'></a>\n",
    "    * [1.2.1 Токенизация](#my_section_7) <a id='content_7'></a>\n",
    "    * [1.2.2 Лемматизация](#my_section_8) <a id='content_8'></a>\n",
    "    * [1.2.3 Частотный анализ](#my_section_9) <a id='content_9'></a>\n",
    "  * [1.3 Подготовка признаков](#my_section_10) <a id='content_10'></a>\n",
    "    * [1.3.1 Разделение на выборки](#my_section_11) <a id='content_11'></a>\n",
    "    * [1.3.2 Ребаланс/Upsampling](#my_section_12) <a id='content_12'></a>\n",
    "    * [1.3.3 TF_IDF](#my_section_13) <a id='content_13'></a>\n",
    "  * [1.4 Заключение](#my_section_14) <a id='content_14'></a>\n",
    "* [2 Обучение](#my_section_15) <a id='content_15'></a>\n",
    "  * [2.1 LogisticRegression](#my_section_16) <a id='content_16'></a>\n",
    "    * [2.1.1 Upsample](#my_section_17) <a id='content_17'></a>\n",
    "    * [2.1.2 Balanced](#my_section_18) <a id='content_18'></a>\n",
    "    * [2.1.3 GridSearchCV + Pipeline](#my_section_19) <a id='content_19'></a>\n",
    "  * [2.2 CatBoostClassifier](#my_section_20) <a id='content_20'></a>\n",
    "    * [2.2.1  GridSearchCV + Pipeline](#my_section_21) <a id='content_21'></a>\n",
    "  * [2.3 Заключение](#my_section_22) <a id='content_22'></a>\n",
    "* [3 Тестирование](#my_section_23) <a id='content_23'></a>\n",
    "* [4 Выводы](#my_section_24) <a id='content_24'></a>\n"
   ]
  },
  {
   "cell_type": "markdown",
   "metadata": {
    "id": "9HUp9EmjHEVt"
   },
   "source": [
    "**Задача:**<br/>\n",
    "Обучить модель классифицировать комментарии на позитивные и негативные.\n",
    "\n",
    "**Примечание:**<br/>\n",
    "Модель измеряется метрикой качества F1, её точность должна быть не меньше 0.75\n",
    "\n",
    "**Предварительные этапы:**<br/>\n",
    "1. Загрузка данных;\n",
    "2. Подготовка; \n",
    "3. Обучение моделей;\n",
    "4. Выводы.\n",
    "\n",
    "**Описание данных**<br/>\n",
    "В распоряжении набор данных с разметкой о токсичности правок.\n",
    "- данные находятся в файле toxic_comments.csv\n",
    "- столбец text в нём содержит текст комментария, а toxic — целевой признак.\n"
   ]
  },
  {
   "cell_type": "markdown",
   "metadata": {
    "editable": true,
    "id": "KY9Z-tO7HEVu",
    "slideshow": {
     "slide_type": ""
    },
    "tags": []
   },
   "source": [
    "<a id='my_section_1'></a>\n",
    "## [Подготовка](#content_1)"
   ]
  },
  {
   "cell_type": "markdown",
   "metadata": {
    "editable": true,
    "id": "eOHjP9XwHEVu",
    "slideshow": {
     "slide_type": ""
    },
    "tags": []
   },
   "source": [
    "Произведём импорт основных библиотек и модулей"
   ]
  },
  {
   "cell_type": "code",
   "execution_count": 1,
   "metadata": {
    "editable": true,
    "slideshow": {
     "slide_type": ""
    },
    "tags": []
   },
   "outputs": [],
   "source": [
    "#!pip install ipywidgets"
   ]
  },
  {
   "cell_type": "code",
   "execution_count": 2,
   "metadata": {
    "editable": true,
    "slideshow": {
     "slide_type": ""
    },
    "tags": []
   },
   "outputs": [],
   "source": [
    "#pip install nltk"
   ]
  },
  {
   "cell_type": "code",
   "execution_count": 3,
   "metadata": {
    "editable": true,
    "slideshow": {
     "slide_type": ""
    },
    "tags": []
   },
   "outputs": [],
   "source": [
    "#pip install wordcloud"
   ]
  },
  {
   "cell_type": "code",
   "execution_count": 4,
   "metadata": {
    "editable": true,
    "id": "SqKYkhBhHEVw",
    "slideshow": {
     "slide_type": ""
    },
    "tags": []
   },
   "outputs": [],
   "source": [
    "from IPython.display import display\n",
    "import pandas as pd\n",
    "import matplotlib.pyplot as plt\n",
    "import re\n",
    "\n",
    "from sklearn.pipeline import Pipeline\n",
    "from sklearn.model_selection import train_test_split, GridSearchCV\n",
    "from sklearn.utils import shuffle\n",
    "from sklearn.metrics import f1_score, make_scorer\n",
    "from sklearn.linear_model import LogisticRegression\n",
    "from sklearn.feature_extraction.text import (CountVectorizer,\n",
    "                                             TfidfVectorizer)\n",
    "from catboost import CatBoostClassifier\n",
    "\n",
    "import nltk\n",
    "from nltk.probability import FreqDist\n",
    "from nltk.stem import WordNetLemmatizer\n",
    "from nltk.corpus import (wordnet,\n",
    "                         stopwords as nltk_stopwords)\n",
    "\n",
    "import time\n",
    "from tqdm import notebook, tqdm\n",
    "\n",
    "from wordcloud import WordCloud"
   ]
  },
  {
   "cell_type": "code",
   "execution_count": 5,
   "metadata": {
    "editable": true,
    "slideshow": {
     "slide_type": ""
    },
    "tags": []
   },
   "outputs": [
    {
     "name": "stderr",
     "output_type": "stream",
     "text": [
      "[nltk_data] Downloading package wordnet to\n",
      "[nltk_data]     C:\\Users\\Tolge\\AppData\\Roaming\\nltk_data...\n",
      "[nltk_data]   Package wordnet is already up-to-date!\n",
      "[nltk_data] Downloading package punkt to\n",
      "[nltk_data]     C:\\Users\\Tolge\\AppData\\Roaming\\nltk_data...\n",
      "[nltk_data]   Package punkt is already up-to-date!\n",
      "[nltk_data] Downloading package averaged_perceptron_tagger to\n",
      "[nltk_data]     C:\\Users\\Tolge\\AppData\\Roaming\\nltk_data...\n",
      "[nltk_data]   Package averaged_perceptron_tagger is already up-to-\n",
      "[nltk_data]       date!\n",
      "[nltk_data] Downloading package stopwords to\n",
      "[nltk_data]     C:\\Users\\Tolge\\AppData\\Roaming\\nltk_data...\n",
      "[nltk_data]   Package stopwords is already up-to-date!\n"
     ]
    },
    {
     "data": {
      "text/plain": [
       "True"
      ]
     },
     "execution_count": 5,
     "metadata": {},
     "output_type": "execute_result"
    }
   ],
   "source": [
    "nltk.download('wordnet')\n",
    "nltk.download('punkt')\n",
    "nltk.download('averaged_perceptron_tagger')\n",
    "nltk.download('stopwords')"
   ]
  },
  {
   "cell_type": "markdown",
   "metadata": {
    "id": "u-GYakVTHEVy"
   },
   "source": [
    "Определим функцию для загрузки файла"
   ]
  },
  {
   "cell_type": "code",
   "execution_count": 6,
   "metadata": {
    "id": "UWgWNUVDHEVy"
   },
   "outputs": [],
   "source": [
    "def download_file(name):\n",
    "    \"\"\"\n",
    "    Функция проходит по возможным директориям\n",
    "    в попытке найти файл, используя конструкции\n",
    "    try, except и итераторы. Возвращая прочтённый\n",
    "    файл или ошибку, если файл не найден.\n",
    "    \"\"\"\n",
    "    def read(name):\n",
    "        next_step = next(step)\n",
    "        print(f'Пробую найти файл в {next_step}: {directory[next_step]}.')\n",
    "        return pd.read_csv(directory[next_step] + name + '.csv', index_col=[0], parse_dates=[0], sep=',')\n",
    "\n",
    "    def error(err):\n",
    "        print(f'Возникла ошибка: {err}\\n')\n",
    "\n",
    "    directory = {'windows':'', 'linux':'/datasets/', 'Internet':'https://..'}\n",
    "    step = iter(directory)\n",
    "\n",
    "    try:\n",
    "        data = read(name)\n",
    "    except FileNotFoundError as err:\n",
    "        error(err)\n",
    "        try:\n",
    "            data = read(name)\n",
    "        except FileNotFoundError as err:\n",
    "            error(err)\n",
    "            try:\n",
    "                data = read(name)\n",
    "            except FileNotFoundError:\n",
    "                return error(err)\n",
    "\n",
    "    print('Успех!')\n",
    "    return data"
   ]
  },
  {
   "cell_type": "markdown",
   "metadata": {
    "id": "CqKNiGLwHEVy"
   },
   "source": [
    "**Получим файл**"
   ]
  },
  {
   "cell_type": "code",
   "execution_count": 7,
   "metadata": {
    "colab": {
     "base_uri": "https://localhost:8080/"
    },
    "editable": true,
    "id": "0wKryRB1HEVy",
    "outputId": "2e53ab58-ea24-4164-c6a3-983fcc2e98ef",
    "scrolled": true,
    "slideshow": {
     "slide_type": ""
    },
    "tags": []
   },
   "outputs": [
    {
     "name": "stdout",
     "output_type": "stream",
     "text": [
      "Пробую найти файл в windows: .\n",
      "Успех!\n"
     ]
    },
    {
     "name": "stderr",
     "output_type": "stream",
     "text": [
      "C:\\Users\\Tolge\\AppData\\Local\\Temp\\ipykernel_5628\\1933731513.py:11: UserWarning: Could not infer format, so each element will be parsed individually, falling back to `dateutil`. To ensure parsing is consistent and as-expected, please specify a format.\n",
      "  return pd.read_csv(directory[next_step] + name + '.csv', index_col=[0], parse_dates=[0], sep=',')\n",
      "C:\\Users\\Tolge\\AppData\\Local\\Temp\\ipykernel_5628\\1933731513.py:11: UserWarning: Could not infer format, so each element will be parsed individually, falling back to `dateutil`. To ensure parsing is consistent and as-expected, please specify a format.\n",
      "  return pd.read_csv(directory[next_step] + name + '.csv', index_col=[0], parse_dates=[0], sep=',')\n"
     ]
    }
   ],
   "source": [
    "data = download_file('toxic_comments')"
   ]
  },
  {
   "cell_type": "markdown",
   "metadata": {
    "id": "KPTpu60kHEVz"
   },
   "source": [
    "<a id='my_section_2'></a>\n",
    "### [Ознакомление](#content_2)"
   ]
  },
  {
   "cell_type": "markdown",
   "metadata": {
    "id": "4d0jMBhoHEVz"
   },
   "source": [
    "<a id='my_section_3'></a>\n",
    "#### [head, info](#content_3)"
   ]
  },
  {
   "cell_type": "markdown",
   "metadata": {
    "id": "1eceuTYCHEV0"
   },
   "source": [
    "Изучим файл"
   ]
  },
  {
   "cell_type": "code",
   "execution_count": 8,
   "metadata": {
    "colab": {
     "base_uri": "https://localhost:8080/"
    },
    "id": "iBiVBNSfHEV0",
    "outputId": "4cca70b1-c08b-45bc-f623-35d3a9d7ed3f"
   },
   "outputs": [
    {
     "name": "stdout",
     "output_type": "stream",
     "text": [
      "<class 'pandas.core.frame.DataFrame'>\n",
      "Index: 159292 entries, 0 to 159450\n",
      "Data columns (total 2 columns):\n",
      " #   Column  Non-Null Count   Dtype \n",
      "---  ------  --------------   ----- \n",
      " 0   text    159292 non-null  object\n",
      " 1   toxic   159292 non-null  int64 \n",
      "dtypes: int64(1), object(1)\n",
      "memory usage: 3.6+ MB\n"
     ]
    }
   ],
   "source": [
    "data.info()"
   ]
  },
  {
   "cell_type": "code",
   "execution_count": 9,
   "metadata": {
    "colab": {
     "base_uri": "https://localhost:8080/",
     "height": 206
    },
    "id": "ZM3JkAaeHEV0",
    "outputId": "ca2b36cb-fa5b-4b8b-9afc-dfff8b80b1f6"
   },
   "outputs": [
    {
     "data": {
      "text/html": [
       "<div>\n",
       "<style scoped>\n",
       "    .dataframe tbody tr th:only-of-type {\n",
       "        vertical-align: middle;\n",
       "    }\n",
       "\n",
       "    .dataframe tbody tr th {\n",
       "        vertical-align: top;\n",
       "    }\n",
       "\n",
       "    .dataframe thead th {\n",
       "        text-align: right;\n",
       "    }\n",
       "</style>\n",
       "<table border=\"1\" class=\"dataframe\">\n",
       "  <thead>\n",
       "    <tr style=\"text-align: right;\">\n",
       "      <th></th>\n",
       "      <th>text</th>\n",
       "      <th>toxic</th>\n",
       "    </tr>\n",
       "  </thead>\n",
       "  <tbody>\n",
       "    <tr>\n",
       "      <th>95361</th>\n",
       "      <td>What constitutes as 'as long as needed'. That ...</td>\n",
       "      <td>0</td>\n",
       "    </tr>\n",
       "    <tr>\n",
       "      <th>136428</th>\n",
       "      <td>\"\\n\\nRe the following passage: \"\"Christians ha...</td>\n",
       "      <td>0</td>\n",
       "    </tr>\n",
       "    <tr>\n",
       "      <th>47840</th>\n",
       "      <td>How is the San Francisco Chronicle not a mains...</td>\n",
       "      <td>0</td>\n",
       "    </tr>\n",
       "    <tr>\n",
       "      <th>148176</th>\n",
       "      <td>\"\\n\\n Manufacture of \"\"dumb phones\"\" to stop i...</td>\n",
       "      <td>0</td>\n",
       "    </tr>\n",
       "    <tr>\n",
       "      <th>89537</th>\n",
       "      <td>What\\n\\nthe hell are you talking about?</td>\n",
       "      <td>1</td>\n",
       "    </tr>\n",
       "  </tbody>\n",
       "</table>\n",
       "</div>"
      ],
      "text/plain": [
       "                                                     text  toxic\n",
       "95361   What constitutes as 'as long as needed'. That ...      0\n",
       "136428  \"\\n\\nRe the following passage: \"\"Christians ha...      0\n",
       "47840   How is the San Francisco Chronicle not a mains...      0\n",
       "148176  \"\\n\\n Manufacture of \"\"dumb phones\"\" to stop i...      0\n",
       "89537             What\\n\\nthe hell are you talking about?      1"
      ]
     },
     "execution_count": 9,
     "metadata": {},
     "output_type": "execute_result"
    }
   ],
   "source": [
    "data.sample(5)"
   ]
  },
  {
   "cell_type": "markdown",
   "metadata": {
    "id": "LvnonNgYHEV0"
   },
   "source": [
    "*Представлено два столбца. Из задания и по виду данных необходимо решать задачу классификации. Стоит изучить конкретнее, что представляют из себя данные в каждом столбце.*"
   ]
  },
  {
   "cell_type": "code",
   "execution_count": 10,
   "metadata": {
    "colab": {
     "base_uri": "https://localhost:8080/"
    },
    "id": "pyXtJm_dHEV0",
    "outputId": "6dd27169-937b-4ef3-a4da-d3c188b89378"
   },
   "outputs": [
    {
     "name": "stdout",
     "output_type": "stream",
     "text": [
      "1. Explanation\n",
      "Why the edits made under my username Hardcore Metallica Fan were reverted? They weren't vandalisms, just closure on some GAs after I voted at New York Dolls FAC. And please don't remove the template from the talk page since I'm retired now.89.205.38.27\n",
      "2. D'aww! He matches this background colour I'm seemingly stuck with. Thanks.  (talk) 21:51, January 11, 2016 (UTC)\n"
     ]
    }
   ],
   "source": [
    "for i in range(2):\n",
    "    print(f\"{i+1}. {data['text'][i]}\")"
   ]
  },
  {
   "cell_type": "markdown",
   "metadata": {
    "id": "ZDeqQMYLHEV1"
   },
   "source": [
    "*Необходимо перед обучением провести предобработку текста.*"
   ]
  },
  {
   "cell_type": "markdown",
   "metadata": {
    "id": "3EQ-nX_zHEV1"
   },
   "source": [
    "<a id='my_section_4'></a>\n",
    "#### [Распределение классов](#content_4)"
   ]
  },
  {
   "cell_type": "markdown",
   "metadata": {
    "id": "bNNVVzO8HEV1"
   },
   "source": [
    "Изучим распределение классов в столбце `toxic`"
   ]
  },
  {
   "cell_type": "code",
   "execution_count": 11,
   "metadata": {
    "colab": {
     "base_uri": "https://localhost:8080/",
     "height": 448
    },
    "id": "P5BMntpSHEV1",
    "outputId": "1d4aadff-d28a-4817-c7f5-abb46b0fcefc"
   },
   "outputs": [
    {
     "data": {
      "image/png": "[encoded data removed]",
      "text/plain": [
       "<Figure size 640x480 with 1 Axes>"
      ]
     },
     "metadata": {},
     "output_type": "display_data"
    }
   ],
   "source": [
    "def how_percent_pie(x):\n",
    "    next_step = next(step)\n",
    "    return f'{x :.2f}%\\n({pie_data[next_step]})'\n",
    "\n",
    "step = iter([0, 1])\n",
    "pie_data = data['toxic'].value_counts()\n",
    "plt.pie(pie_data, labels=['0', '1'], autopct=how_percent_pie);\n",
    "plt.legend();\n",
    "plt.xlabel('0 или 1');\n",
    "plt.ylabel('Количество(%)');\n",
    "plt.title('Соотношение классов toxic');"
   ]
  },
  {
   "cell_type": "markdown",
   "metadata": {
    "id": "ZUHuyPRnHEV1"
   },
   "source": [
    "*Требуется балансировка классов.*"
   ]
  },
  {
   "cell_type": "markdown",
   "metadata": {
    "id": "D8oQqLvlHEV2"
   },
   "source": [
    "<a id='my_section_5'></a>\n",
    "#### [Вывод](#content_5)"
   ]
  },
  {
   "cell_type": "markdown",
   "metadata": {
    "id": "G7BrZEewHEV2"
   },
   "source": [
    "Изучены данные, требуется провести:\n",
    "1. предобработку текста(упрощение);\n",
    "2. балансировку классов.\n"
   ]
  },
  {
   "cell_type": "markdown",
   "metadata": {
    "id": "FTHvg1PgHEV2"
   },
   "source": [
    "<a id='my_section_6'></a>\n",
    "### [Упрощение текста](#content_6)"
   ]
  },
  {
   "cell_type": "markdown",
   "metadata": {
    "id": "JVZNGgFHHEV2"
   },
   "source": [
    "Проведём меры по подготовке и упрощению текста. Будем придерживаться алгоритма:\n",
    "\n",
    "1. Токенизация каждого текста, то есть его разбиение на слова;\n",
    "2. Лемматизация слов: приведение к начальной словарной форме (более сложные модели, например, BERT, этого не требуют: они сами понимают формы слов);\n",
    "3. Очищение текста от стоп-слов и ненужных символов;\n",
    "4. Для корректной работы алгоритма добавление маркеров начала и конца предложения (они приравниваются к токенам).\n",
    "5. На выходе у каждого исходного текста образуется свой список токенов.\n"
   ]
  },
  {
   "cell_type": "markdown",
   "metadata": {
    "editable": true,
    "slideshow": {
     "slide_type": ""
    },
    "tags": []
   },
   "source": [
    "<a id='my_section_7'></a>\n",
    "#### [Токенизация](#content_7)"
   ]
  },
  {
   "cell_type": "code",
   "execution_count": 12,
   "metadata": {},
   "outputs": [],
   "source": [
    "def token_text(text):\n",
    "    return nltk.tokenize\\\n",
    "           .sent_tokenize(text, language='english')"
   ]
  },
  {
   "cell_type": "code",
   "execution_count": 13,
   "metadata": {
    "editable": true,
    "slideshow": {
     "slide_type": ""
    },
    "tags": []
   },
   "outputs": [
    {
     "name": "stderr",
     "output_type": "stream",
     "text": [
      "100%|███████████████████████████████████████████████████████████████████████| 159292/159292 [00:11<00:00, 13697.97it/s]\n"
     ]
    }
   ],
   "source": [
    "tqdm.pandas()\n",
    "data['lemm_text'] = data['text'].progress_apply(token_text) "
   ]
  },
  {
   "cell_type": "code",
   "execution_count": 14,
   "metadata": {},
   "outputs": [
    {
     "data": {
      "text/html": [
       "<div>\n",
       "<style scoped>\n",
       "    .dataframe tbody tr th:only-of-type {\n",
       "        vertical-align: middle;\n",
       "    }\n",
       "\n",
       "    .dataframe tbody tr th {\n",
       "        vertical-align: top;\n",
       "    }\n",
       "\n",
       "    .dataframe thead th {\n",
       "        text-align: right;\n",
       "    }\n",
       "</style>\n",
       "<table border=\"1\" class=\"dataframe\">\n",
       "  <thead>\n",
       "    <tr style=\"text-align: right;\">\n",
       "      <th></th>\n",
       "      <th>text</th>\n",
       "      <th>toxic</th>\n",
       "      <th>lemm_text</th>\n",
       "    </tr>\n",
       "  </thead>\n",
       "  <tbody>\n",
       "    <tr>\n",
       "      <th>0</th>\n",
       "      <td>Explanation\\nWhy the edits made under my usern...</td>\n",
       "      <td>0</td>\n",
       "      <td>[Explanation\\nWhy the edits made under my user...</td>\n",
       "    </tr>\n",
       "    <tr>\n",
       "      <th>1</th>\n",
       "      <td>D'aww! He matches this background colour I'm s...</td>\n",
       "      <td>0</td>\n",
       "      <td>[D'aww!, He matches this background colour I'm...</td>\n",
       "    </tr>\n",
       "    <tr>\n",
       "      <th>2</th>\n",
       "      <td>Hey man, I'm really not trying to edit war. It...</td>\n",
       "      <td>0</td>\n",
       "      <td>[Hey man, I'm really not trying to edit war., ...</td>\n",
       "    </tr>\n",
       "    <tr>\n",
       "      <th>3</th>\n",
       "      <td>\"\\nMore\\nI can't make any real suggestions on ...</td>\n",
       "      <td>0</td>\n",
       "      <td>[\"\\nMore\\nI can't make any real suggestions on...</td>\n",
       "    </tr>\n",
       "    <tr>\n",
       "      <th>4</th>\n",
       "      <td>You, sir, are my hero. Any chance you remember...</td>\n",
       "      <td>0</td>\n",
       "      <td>[You, sir, are my hero., Any chance you rememb...</td>\n",
       "    </tr>\n",
       "  </tbody>\n",
       "</table>\n",
       "</div>"
      ],
      "text/plain": [
       "                                                text  toxic  \\\n",
       "0  Explanation\\nWhy the edits made under my usern...      0   \n",
       "1  D'aww! He matches this background colour I'm s...      0   \n",
       "2  Hey man, I'm really not trying to edit war. It...      0   \n",
       "3  \"\\nMore\\nI can't make any real suggestions on ...      0   \n",
       "4  You, sir, are my hero. Any chance you remember...      0   \n",
       "\n",
       "                                           lemm_text  \n",
       "0  [Explanation\\nWhy the edits made under my user...  \n",
       "1  [D'aww!, He matches this background colour I'm...  \n",
       "2  [Hey man, I'm really not trying to edit war., ...  \n",
       "3  [\"\\nMore\\nI can't make any real suggestions on...  \n",
       "4  [You, sir, are my hero., Any chance you rememb...  "
      ]
     },
     "execution_count": 14,
     "metadata": {},
     "output_type": "execute_result"
    }
   ],
   "source": [
    "data.head()"
   ]
  },
  {
   "cell_type": "markdown",
   "metadata": {
    "editable": true,
    "slideshow": {
     "slide_type": ""
    },
    "tags": []
   },
   "source": [
    "<a id='my_section_8'></a>\n",
    "#### [Лемматизация](#content_8)"
   ]
  },
  {
   "cell_type": "markdown",
   "metadata": {},
   "source": [
    "Для лемматизации слов в таблице с целью сокращения используемых ресурсов составим словарь. Словарь будет состоять из уникальных слов в наборе данных и соответствующих им лемм. "
   ]
  },
  {
   "cell_type": "markdown",
   "metadata": {},
   "source": [
    "**Подготовка**"
   ]
  },
  {
   "cell_type": "markdown",
   "metadata": {},
   "source": [
    "Определим функции для помощи в лемматизации:\n",
    "- clear_str — очистка от мешающих символов.\n"
   ]
  },
  {
   "cell_type": "code",
   "execution_count": 15,
   "metadata": {},
   "outputs": [],
   "source": [
    "def clear_str(text):\n",
    "    clear_text = []\n",
    "    for el in text:\n",
    "        clear_text.append(re.sub(r'[^a-zA-ZTt]', ' ', el).strip().lower())\n",
    "    return clear_text    "
   ]
  },
  {
   "cell_type": "markdown",
   "metadata": {},
   "source": [
    "Очистим текст"
   ]
  },
  {
   "cell_type": "code",
   "execution_count": 16,
   "metadata": {},
   "outputs": [
    {
     "name": "stderr",
     "output_type": "stream",
     "text": [
      "100%|███████████████████████████████████████████████████████████████████████| 159292/159292 [00:03<00:00, 51652.53it/s]\n"
     ]
    }
   ],
   "source": [
    "data['lemm_text'] = data['lemm_text'].progress_apply(clear_str)"
   ]
  },
  {
   "cell_type": "code",
   "execution_count": 17,
   "metadata": {},
   "outputs": [
    {
     "data": {
      "text/html": [
       "<div>\n",
       "<style scoped>\n",
       "    .dataframe tbody tr th:only-of-type {\n",
       "        vertical-align: middle;\n",
       "    }\n",
       "\n",
       "    .dataframe tbody tr th {\n",
       "        vertical-align: top;\n",
       "    }\n",
       "\n",
       "    .dataframe thead th {\n",
       "        text-align: right;\n",
       "    }\n",
       "</style>\n",
       "<table border=\"1\" class=\"dataframe\">\n",
       "  <thead>\n",
       "    <tr style=\"text-align: right;\">\n",
       "      <th></th>\n",
       "      <th>text</th>\n",
       "      <th>toxic</th>\n",
       "      <th>lemm_text</th>\n",
       "    </tr>\n",
       "  </thead>\n",
       "  <tbody>\n",
       "    <tr>\n",
       "      <th>0</th>\n",
       "      <td>Explanation\\nWhy the edits made under my usern...</td>\n",
       "      <td>0</td>\n",
       "      <td>[explanation why the edits made under my usern...</td>\n",
       "    </tr>\n",
       "    <tr>\n",
       "      <th>1</th>\n",
       "      <td>D'aww! He matches this background colour I'm s...</td>\n",
       "      <td>0</td>\n",
       "      <td>[d aww, he matches this background colour i m ...</td>\n",
       "    </tr>\n",
       "    <tr>\n",
       "      <th>2</th>\n",
       "      <td>Hey man, I'm really not trying to edit war. It...</td>\n",
       "      <td>0</td>\n",
       "      <td>[hey man  i m really not trying to edit war, i...</td>\n",
       "    </tr>\n",
       "    <tr>\n",
       "      <th>3</th>\n",
       "      <td>\"\\nMore\\nI can't make any real suggestions on ...</td>\n",
       "      <td>0</td>\n",
       "      <td>[more i can t make any real suggestions on imp...</td>\n",
       "    </tr>\n",
       "    <tr>\n",
       "      <th>4</th>\n",
       "      <td>You, sir, are my hero. Any chance you remember...</td>\n",
       "      <td>0</td>\n",
       "      <td>[you  sir  are my hero, any chance you remembe...</td>\n",
       "    </tr>\n",
       "  </tbody>\n",
       "</table>\n",
       "</div>"
      ],
      "text/plain": [
       "                                                text  toxic  \\\n",
       "0  Explanation\\nWhy the edits made under my usern...      0   \n",
       "1  D'aww! He matches this background colour I'm s...      0   \n",
       "2  Hey man, I'm really not trying to edit war. It...      0   \n",
       "3  \"\\nMore\\nI can't make any real suggestions on ...      0   \n",
       "4  You, sir, are my hero. Any chance you remember...      0   \n",
       "\n",
       "                                           lemm_text  \n",
       "0  [explanation why the edits made under my usern...  \n",
       "1  [d aww, he matches this background colour i m ...  \n",
       "2  [hey man  i m really not trying to edit war, i...  \n",
       "3  [more i can t make any real suggestions on imp...  \n",
       "4  [you  sir  are my hero, any chance you remembe...  "
      ]
     },
     "execution_count": 17,
     "metadata": {},
     "output_type": "execute_result"
    }
   ],
   "source": [
    "data.head()"
   ]
  },
  {
   "cell_type": "markdown",
   "metadata": {},
   "source": [
    "Для ускорение процесса лемматизации выгоднее обработать одну строчку. Составим множество уникальных слов"
   ]
  },
  {
   "cell_type": "code",
   "execution_count": 18,
   "metadata": {},
   "outputs": [],
   "source": [
    "def unique_words_indf(data_col):\n",
    "    \"\"\"Создание множества уникальных\n",
    "    слов переданного столбца датасета,\n",
    "    обработка его от возможных помех\n",
    "    (' ', '\\n', '', ',') и вывод списка слов\"\"\"\n",
    "    \n",
    "    unique_words_set = set()\n",
    "    for i, keyword in enumerate(data_col):\n",
    "        for txt in keyword:\n",
    "            for word in txt.strip().split(' '):\n",
    "                unique_words_set.add(word)\n",
    "\n",
    "    unique_words_list = [x for x in unique_words_set if x != ' ' \n",
    "                         and x != '\\n' and x != '' and x != ',']\n",
    "    \n",
    "    print(f'Длина получившегося списка: {len(unique_words_list)}')\n",
    "    \n",
    "    return unique_words_list               "
   ]
  },
  {
   "cell_type": "code",
   "execution_count": 19,
   "metadata": {},
   "outputs": [
    {
     "name": "stdout",
     "output_type": "stream",
     "text": [
      "Длина получившегося списка: 168516\n"
     ]
    }
   ],
   "source": [
    "unique_words_list = unique_words_indf(data['lemm_text'])"
   ]
  },
  {
   "cell_type": "markdown",
   "metadata": {},
   "source": [
    "**Переход к лемматизации**"
   ]
  },
  {
   "cell_type": "code",
   "execution_count": 20,
   "metadata": {},
   "outputs": [],
   "source": [
    "def get_wordnet_pos(word):\n",
    "    \"\"\"Map POS tag to first character lemmatize() accepts\"\"\"\n",
    "    tag = nltk.pos_tag([word])[0][1][0].upper()\n",
    "    \n",
    "    tag_dict = {\"J\": wordnet.ADJ,\n",
    "                \"N\": wordnet.NOUN,\n",
    "                \"V\": wordnet.VERB,\n",
    "                \"R\": wordnet.ADV}\n",
    "    if word == 'gotta':\n",
    "        print([word], nltk.pos_tag([word])[0][1][0].upper())\n",
    "    \n",
    "    \n",
    "    return tag_dict.get(tag, wordnet.NOUN)"
   ]
  },
  {
   "cell_type": "code",
   "execution_count": 21,
   "metadata": {
    "editable": true,
    "slideshow": {
     "slide_type": ""
    },
    "tags": []
   },
   "outputs": [],
   "source": [
    "def for_lemmatization(unique_words_list):\n",
    "    \"\"\"функция токенизирует и лемматизирует,\n",
    "    проверяет на исключения и возвращает\n",
    "    словарь {'исходное слово':'лемма'}\"\"\"\n",
    "    \n",
    "    # Создаём словарь и список исключений\n",
    "    words_dict = {}\n",
    "    exception_words = ['gonna', 'gotta', 'wanna', 'gimme', 'lemme']\n",
    "    # Проводим токенизацию\n",
    "    for el in tqdm(unique_words_list):\n",
    "        tokens = nltk.word_tokenize(el)\n",
    "        # Если после токенизации длинна больше 1: ['can', 'not'] \n",
    "        if len(tokens) > 1:\n",
    "            # Возврат сочетания 'can not'\n",
    "            if el == 'cannot':\n",
    "                result = ' '.join(tokens)      \n",
    "            # Проверка в списке исключений,\n",
    "            # если есть, то возврат исходного слова\n",
    "            elif el in exception_words:\n",
    "                result = el\n",
    "            # Проверка исключений        \n",
    "            else:\n",
    "                raise Exception(f'I do not know what to do with this word '\n",
    "                                f'Given: {el} '\n",
    "                                f'After nltk.word_tokenize: {tokens}') \n",
    "        # Если 1 — лемматизация\n",
    "        elif len(tokens) == 1:\n",
    "            w = str(tokens[0])\n",
    "            result = lemmatizer.lemmatize(w, get_wordnet_pos(w))\n",
    "        # Создание словаря из исходного слова или\n",
    "        # его леммы.\n",
    "        words_dict[el] = result\n",
    "    \n",
    "    return words_dict\n"
   ]
  },
  {
   "cell_type": "code",
   "execution_count": 22,
   "metadata": {
    "editable": true,
    "slideshow": {
     "slide_type": ""
    },
    "tags": []
   },
   "outputs": [
    {
     "name": "stderr",
     "output_type": "stream",
     "text": [
      "100%|████████████████████████████████████████████████████████████████████████| 168516/168516 [02:15<00:00, 1246.80it/s]"
     ]
    },
    {
     "name": "stdout",
     "output_type": "stream",
     "text": [
      "CPU times: total: 2min 14s\n",
      "Wall time: 2min 15s\n"
     ]
    },
    {
     "name": "stderr",
     "output_type": "stream",
     "text": [
      "\n"
     ]
    }
   ],
   "source": [
    "%%time\n",
    "lemmatizer = WordNetLemmatizer()\n",
    "words_dict = for_lemmatization(unique_words_list)"
   ]
  },
  {
   "cell_type": "markdown",
   "metadata": {
    "editable": true,
    "slideshow": {
     "slide_type": ""
    },
    "tags": []
   },
   "source": [
    "Проведём лемматизацию строк. Определим функцию"
   ]
  },
  {
   "cell_type": "code",
   "execution_count": 23,
   "metadata": {
    "editable": true,
    "slideshow": {
     "slide_type": ""
    },
    "tags": []
   },
   "outputs": [],
   "source": [
    "def lemmatize_data(keyword):\n",
    "    lemmas = ''\n",
    "    for el in keyword:\n",
    "        top = [w for w in el.split(' ') if w != '' and w != ' ']\n",
    "        for word in top:\n",
    "            if word in words_dict.keys():\n",
    "                lemmas += words_dict[word] + ' '\n",
    "                \n",
    "            else:\n",
    "                print(word,'!!!')\n",
    "                pass\n",
    "\n",
    "    return lemmas.strip()"
   ]
  },
  {
   "cell_type": "code",
   "execution_count": 24,
   "metadata": {
    "editable": true,
    "slideshow": {
     "slide_type": ""
    },
    "tags": []
   },
   "outputs": [
    {
     "name": "stderr",
     "output_type": "stream",
     "text": [
      "100%|███████████████████████████████████████████████████████████████████████| 159292/159292 [00:04<00:00, 34436.26it/s]"
     ]
    },
    {
     "name": "stdout",
     "output_type": "stream",
     "text": [
      "CPU times: total: 4.64 s\n",
      "Wall time: 4.63 s\n"
     ]
    },
    {
     "name": "stderr",
     "output_type": "stream",
     "text": [
      "\n"
     ]
    }
   ],
   "source": [
    "%%time\n",
    "data['lemm_text'] = data['lemm_text'].progress_apply(lemmatize_data)"
   ]
  },
  {
   "cell_type": "markdown",
   "metadata": {
    "editable": true,
    "slideshow": {
     "slide_type": ""
    },
    "tags": []
   },
   "source": [
    "<a id='my_section_9'></a>\n",
    "#### [Частотный анализ](#content_9)"
   ]
  },
  {
   "cell_type": "code",
   "execution_count": 25,
   "metadata": {},
   "outputs": [],
   "source": [
    "def get_mood_words(tox=0):\n",
    "    \"\"\"функция для выбора токсичных \n",
    "    или не токсичных корпусов текста\"\"\"\n",
    "    text = []\n",
    "    for el in data.loc[data['toxic'] == tox, 'lemm_text']:\n",
    "        for word in el.split():\n",
    "            text.append(word)\n",
    "    return text        "
   ]
  },
  {
   "cell_type": "code",
   "execution_count": 26,
   "metadata": {},
   "outputs": [],
   "source": [
    "def plot_param(fdist):\n",
    "    \"\"\"функция для получения параметров\n",
    "    по оси x и по оси y из `FreqDist`\n",
    "    для потсроения `plt.subplots`\"\"\"\n",
    "    \n",
    "    x_label = []\n",
    "    y_label = []\n",
    "    for key, val in enumerate(fdist):\n",
    "        x_label.append(val)\n",
    "        y_label.append(fdist[val])\n",
    "        if key == 30:\n",
    "            break\n",
    "    return x_label, y_label"
   ]
  },
  {
   "cell_type": "markdown",
   "metadata": {},
   "source": [
    "Запишем в списки слова, где в целевом списке есть пометка 0 или 1."
   ]
  },
  {
   "cell_type": "code",
   "execution_count": 27,
   "metadata": {},
   "outputs": [],
   "source": [
    "toxic_words = get_mood_words(tox=1)\n",
    "simple_words = get_mood_words(tox=0)"
   ]
  },
  {
   "cell_type": "markdown",
   "metadata": {},
   "source": [
    "Получим словари распределения слов"
   ]
  },
  {
   "cell_type": "code",
   "execution_count": 28,
   "metadata": {},
   "outputs": [],
   "source": [
    "simple_words_freq = FreqDist(simple_words)\n",
    "toxic_words_freq = FreqDist(toxic_words)"
   ]
  },
  {
   "cell_type": "markdown",
   "metadata": {},
   "source": [
    "Получим параметры для построения графика распределения"
   ]
  },
  {
   "cell_type": "code",
   "execution_count": 29,
   "metadata": {},
   "outputs": [],
   "source": [
    "simple_x_label, simple_y_label  = plot_param(simple_words_freq)\n",
    "toxic_x_label, toxic_y_label  = plot_param(toxic_words_freq)"
   ]
  },
  {
   "cell_type": "code",
   "execution_count": 30,
   "metadata": {},
   "outputs": [
    {
     "data": {
      "image/png": "[encoded data removed]",
      "text/plain": [
       "<Figure size 1100x400 with 2 Axes>"
      ]
     },
     "metadata": {},
     "output_type": "display_data"
    }
   ],
   "source": [
    "fig, ax = plt.subplots(1, 2, figsize=(11,4))\n",
    "fig.suptitle('Частота употребления слов', fontsize=14, fontweight='bold')\n",
    "fig.subplots_adjust(top=0.8)\n",
    "\n",
    "plot_param = {'simple_words': [simple_x_label, simple_y_label], 'toxic_words': [toxic_x_label, toxic_y_label]}\n",
    "count = 0\n",
    "for key, val in plot_param.items():\n",
    "    ax[count].plot(val[0], val[1])\n",
    "    ax[count].tick_params('x', labelrotation = 90)\n",
    "    ax[count].grid()\n",
    "    ax[count].set_ylabel('Counts')\n",
    "    ax[count].set_xlabel('Samples')\n",
    "    ax[count].set_title(key)\n",
    "    count += 1"
   ]
  },
  {
   "cell_type": "markdown",
   "metadata": {},
   "source": [
    "*Можно заметить, что в данный момент наибольшие частоты имеют союзы, предлоги и другие служебные части речи, не несущие смысловой нагрузки, а только выражающие семантико-синтаксические отношения между словами. Для того, чтобы результаты частотного анализа отражали тематику текста, необходимо удалить эти слова из текста.*"
   ]
  },
  {
   "cell_type": "markdown",
   "metadata": {},
   "source": [
    "Произведём удаление от стоп-слов и оценим результат"
   ]
  },
  {
   "cell_type": "code",
   "execution_count": 31,
   "metadata": {
    "editable": true,
    "slideshow": {
     "slide_type": ""
    },
    "tags": []
   },
   "outputs": [],
   "source": [
    "english_stopwords = nltk_stopwords.words('english')\n",
    "def del_stop_words(text):\n",
    "    result = [word for word in text.split() if word\n",
    "              not in english_stopwords]\n",
    "        \n",
    "    return ' '.join(result)"
   ]
  },
  {
   "cell_type": "code",
   "execution_count": 32,
   "metadata": {},
   "outputs": [
    {
     "name": "stderr",
     "output_type": "stream",
     "text": [
      "100%|███████████████████████████████████████████████████████████████████████| 159292/159292 [00:10<00:00, 15473.27it/s]\n"
     ]
    }
   ],
   "source": [
    "data['lemm_text'] = data['lemm_text'].progress_apply(del_stop_words)"
   ]
  },
  {
   "cell_type": "markdown",
   "metadata": {},
   "source": [
    "Потсроим облако слов(`wordcloud`) для демонстрации "
   ]
  },
  {
   "cell_type": "code",
   "execution_count": 33,
   "metadata": {},
   "outputs": [],
   "source": [
    "toxic_words = ' '.join(get_mood_words(tox=1))\n",
    "simple_words = ' '.join(get_mood_words(tox=0))"
   ]
  },
  {
   "cell_type": "code",
   "execution_count": 34,
   "metadata": {},
   "outputs": [],
   "source": [
    "wordcloud_tox = WordCloud(collocations=False).generate(toxic_words)\n",
    "wordcloud_sim = WordCloud(collocations=False).generate(simple_words)"
   ]
  },
  {
   "cell_type": "markdown",
   "metadata": {},
   "source": [
    "**Токсичные слова**"
   ]
  },
  {
   "cell_type": "code",
   "execution_count": 35,
   "metadata": {},
   "outputs": [
    {
     "data": {
      "image/png": "[encoded data removed]",
      "text/plain": [
       "<Figure size 640x480 with 1 Axes>"
      ]
     },
     "metadata": {},
     "output_type": "display_data"
    }
   ],
   "source": [
    "plt.imshow(wordcloud_tox)\n",
    "plt.axis('off');"
   ]
  },
  {
   "cell_type": "markdown",
   "metadata": {},
   "source": [
    "**Обычные слова**"
   ]
  },
  {
   "cell_type": "code",
   "execution_count": 36,
   "metadata": {},
   "outputs": [
    {
     "data": {
      "image/png": "[encoded data removed]",
      "text/plain": [
       "<Figure size 640x480 with 1 Axes>"
      ]
     },
     "metadata": {},
     "output_type": "display_data"
    }
   ],
   "source": [
    "plt.imshow(wordcloud_sim)\n",
    "plt.axis('off');"
   ]
  },
  {
   "cell_type": "markdown",
   "metadata": {},
   "source": [
    "*Проведено избавление от стоп-слов, выражающих семантико-синтаксические отношения. В настоящий момент результаты частотного анализа отражает тематику текста или его эмоциональную окраску.*"
   ]
  },
  {
   "cell_type": "markdown",
   "metadata": {},
   "source": [
    "<a id='my_section_10'></a>\n",
    "### [Подготовка признаков](#content_10)"
   ]
  },
  {
   "cell_type": "markdown",
   "metadata": {},
   "source": [
    "Разделим на обучающий и целевой признаки"
   ]
  },
  {
   "cell_type": "code",
   "execution_count": 37,
   "metadata": {},
   "outputs": [],
   "source": [
    "features = data['lemm_text']\n",
    "target = data['toxic']"
   ]
  },
  {
   "cell_type": "markdown",
   "metadata": {
    "id": "iP62lvfkHEV6"
   },
   "source": [
    "<a id='my_section_11'></a>\n",
    "#### [Разделение на выборки](#content_11)"
   ]
  },
  {
   "cell_type": "markdown",
   "metadata": {
    "id": "Q56yW6dbHEV6"
   },
   "source": [
    "Разобъём набор данных на выборки, проконтролируем результат."
   ]
  },
  {
   "cell_type": "markdown",
   "metadata": {
    "id": "lUdvFVM3HEV7"
   },
   "source": [
    "Опередим функцию:\n",
    "1. signs — для разделения на признаки и проверки их распределения;"
   ]
  },
  {
   "cell_type": "code",
   "execution_count": 38,
   "metadata": {
    "id": "BYfr-MesHEV7"
   },
   "outputs": [],
   "source": [
    "def signs(features, target):\n",
    "    def check_signs(train, valid, test):\n",
    "        # Проверка соотношения между прзнаками\n",
    "        dict_signs = {'обучающая':train, 'валидационная':valid, 'тестовая':test}\n",
    "        print('Процентное соотношение выборок после разделения: ')\n",
    "        # Создание словарей\n",
    "        total_el_signs = {key:val.shape[0] for key, val in dict_signs.items()}\n",
    "        percent_signs = {key:val/data.shape[0] for key, val in total_el_signs.items()}\n",
    "        # Подведение итогов\n",
    "        total_info = pd.DataFrame({'Количество': total_el_signs, 'Процент(%)': percent_signs})\n",
    "        display(total_info)\n",
    "    \n",
    "    # Разделение на `train`, `valid`, `test`\n",
    "    features_train, features_valid, target_train, target_valid = train_test_split(\n",
    "        features, target, random_state=12345, test_size=.4, stratify=target)\n",
    "\n",
    "    features_valid, features_test, target_valid, target_test = train_test_split(\n",
    "        features_valid, target_valid, random_state=12345, test_size=.5, stratify=target_valid)\n",
    "    \n",
    "    # Разделение на 'X_train', 'y_train' для Pipline\n",
    "    X_train, X_test, y_train, y_test = train_test_split(\n",
    "        features, target, random_state=12345, test_size=0.33, stratify=target)\n",
    "    \n",
    "    check_signs(features_train, features_valid, features_test)\n",
    "    \n",
    "    \n",
    "    return features_train, target_train,\\\n",
    "            features_valid, target_valid,\\\n",
    "            features_test, target_test,\\\n",
    "            X_train, y_train,\\\n",
    "            X_test, y_test"
   ]
  },
  {
   "cell_type": "markdown",
   "metadata": {
    "id": "wTJhWm14HEV8"
   },
   "source": [
    "Разделим на выборки"
   ]
  },
  {
   "cell_type": "code",
   "execution_count": 39,
   "metadata": {
    "id": "ruFclqQJHEV8"
   },
   "outputs": [
    {
     "name": "stdout",
     "output_type": "stream",
     "text": [
      "Процентное соотношение выборок после разделения: \n"
     ]
    },
    {
     "data": {
      "text/html": [
       "<div>\n",
       "<style scoped>\n",
       "    .dataframe tbody tr th:only-of-type {\n",
       "        vertical-align: middle;\n",
       "    }\n",
       "\n",
       "    .dataframe tbody tr th {\n",
       "        vertical-align: top;\n",
       "    }\n",
       "\n",
       "    .dataframe thead th {\n",
       "        text-align: right;\n",
       "    }\n",
       "</style>\n",
       "<table border=\"1\" class=\"dataframe\">\n",
       "  <thead>\n",
       "    <tr style=\"text-align: right;\">\n",
       "      <th></th>\n",
       "      <th>Количество</th>\n",
       "      <th>Процент(%)</th>\n",
       "    </tr>\n",
       "  </thead>\n",
       "  <tbody>\n",
       "    <tr>\n",
       "      <th>обучающая</th>\n",
       "      <td>95575</td>\n",
       "      <td>0.599999</td>\n",
       "    </tr>\n",
       "    <tr>\n",
       "      <th>валидационная</th>\n",
       "      <td>31858</td>\n",
       "      <td>0.199997</td>\n",
       "    </tr>\n",
       "    <tr>\n",
       "      <th>тестовая</th>\n",
       "      <td>31859</td>\n",
       "      <td>0.200004</td>\n",
       "    </tr>\n",
       "  </tbody>\n",
       "</table>\n",
       "</div>"
      ],
      "text/plain": [
       "               Количество  Процент(%)\n",
       "обучающая           95575    0.599999\n",
       "валидационная       31858    0.199997\n",
       "тестовая            31859    0.200004"
      ]
     },
     "metadata": {},
     "output_type": "display_data"
    }
   ],
   "source": [
    "features_train, target_train,\\\n",
    "features_valid, target_valid,\\\n",
    "features_test, target_test,\\\n",
    "X_train, y_train,\\\n",
    "X_test, y_test = signs(features, target)"
   ]
  },
  {
   "cell_type": "markdown",
   "metadata": {},
   "source": [
    "*Разделение произведено, но стоит учитывать, что у нас баланс классов в целевом признаки нарушен, поэтому требуется провести ребалансировку.*"
   ]
  },
  {
   "cell_type": "markdown",
   "metadata": {
    "editable": true,
    "id": "OfHZpXkjHEV8",
    "slideshow": {
     "slide_type": ""
    },
    "tags": []
   },
   "source": [
    "<a id='my_section_12'></a>\n",
    "#### [Ребаланс/Upsampling](#content_12)"
   ]
  },
  {
   "cell_type": "markdown",
   "metadata": {
    "id": "jHbzDS1fHEV8"
   },
   "source": [
    "Проводить `upsampling` будем только для обучающей выборке.\n",
    "Изучим во сколько раз классы отличаются."
   ]
  },
  {
   "cell_type": "code",
   "execution_count": 40,
   "metadata": {
    "id": "l2pG3GNtHEV9"
   },
   "outputs": [
    {
     "data": {
      "text/plain": [
       "8"
      ]
     },
     "execution_count": 40,
     "metadata": {},
     "output_type": "execute_result"
    }
   ],
   "source": [
    "ans = round(target_train.loc[target_train == 0].count()\n",
    "     //target_train.loc[target_train == 1].count(), 3)\n",
    "ans"
   ]
  },
  {
   "cell_type": "markdown",
   "metadata": {
    "id": "AgdHnAILHEV9"
   },
   "source": [
    "*Используем это значение в unsample*"
   ]
  },
  {
   "cell_type": "markdown",
   "metadata": {
    "id": "xXLCV2AfHEV9"
   },
   "source": [
    "Определим функцию для балансировки классов"
   ]
  },
  {
   "cell_type": "code",
   "execution_count": 41,
   "metadata": {
    "id": "hftqpib7HEV9"
   },
   "outputs": [],
   "source": [
    "def upsample(features, target, repeat):\n",
    "    features = pd.Series([el for el in features])\n",
    "    target = target.reset_index(drop=True)\n",
    "\n",
    "    features_zeros = features[target == 0]\n",
    "    features_ones = features[target == 1]\n",
    "    target_zeros = target[target == 0]\n",
    "    target_ones = target[target == 1]\n",
    "\n",
    "    features_upsampled = pd.concat([features_zeros] + [features_ones] * repeat)\n",
    "    target_upsampled = pd.concat([target_zeros] + [target_ones] * repeat)\n",
    "\n",
    "    features_upsampled, target_upsampled = shuffle(\n",
    "        features_upsampled, target_upsampled, random_state=12345)\n",
    "\n",
    "    return features_upsampled, target_upsampled"
   ]
  },
  {
   "cell_type": "code",
   "execution_count": 42,
   "metadata": {
    "id": "ysG16YTRHEV9"
   },
   "outputs": [],
   "source": [
    "features_upsampled, target_upsampled = upsample(features_train, target_train, ans)"
   ]
  },
  {
   "cell_type": "markdown",
   "metadata": {
    "id": "K3JGuXWzHEV-"
   },
   "source": [
    "Оценим на сколько увеличилась выборка"
   ]
  },
  {
   "cell_type": "code",
   "execution_count": 43,
   "metadata": {
    "id": "XbDP4dCtHEV-"
   },
   "outputs": [
    {
     "name": "stdout",
     "output_type": "stream",
     "text": [
      "71.13%\n"
     ]
    }
   ],
   "source": [
    "def upsample_info():\n",
    "    len_before = features_train.shape[0]\n",
    "    len_after = len(features_upsampled)\n",
    "    print(f\"{(len_after-len_before)/len_before*100 :.2f}%\")\n",
    "\n",
    "upsample_info()"
   ]
  },
  {
   "cell_type": "markdown",
   "metadata": {
    "id": "8CdPqILNHEV-"
   },
   "source": [
    "*Данные подготовлены*"
   ]
  },
  {
   "cell_type": "markdown",
   "metadata": {
    "editable": true,
    "slideshow": {
     "slide_type": ""
    },
    "tags": []
   },
   "source": [
    "<a id='my_section_13'></a>\n",
    "#### [TF_IDF](#content_13)"
   ]
  },
  {
   "cell_type": "markdown",
   "metadata": {},
   "source": [
    "Очистим текст от `stop_words` и разметим его."
   ]
  },
  {
   "cell_type": "code",
   "execution_count": 44,
   "metadata": {
    "editable": true,
    "slideshow": {
     "slide_type": ""
    },
    "tags": []
   },
   "outputs": [],
   "source": [
    "stopwords = set(nltk_stopwords.words('english'))\n",
    "count_tf_idf = TfidfVectorizer(stop_words=list(stopwords))\n",
    "tf_idf_train = count_tf_idf.fit(features_upsampled)"
   ]
  },
  {
   "cell_type": "code",
   "execution_count": 45,
   "metadata": {
    "editable": true,
    "slideshow": {
     "slide_type": ""
    },
    "tags": []
   },
   "outputs": [],
   "source": [
    "tf_idf_train = count_tf_idf.transform(features_upsampled)\n",
    "tf_idf_valid = count_tf_idf.transform(features_valid)\n",
    "tf_idf_test = count_tf_idf.transform(features_test)"
   ]
  },
  {
   "cell_type": "markdown",
   "metadata": {
    "id": "33esAXPPHEV-"
   },
   "source": [
    "<a id='my_section_14'></a>\n",
    "### [Заключение](#content_14)"
   ]
  },
  {
   "cell_type": "markdown",
   "metadata": {
    "id": "J518CjM-HEV_"
   },
   "source": [
    "Проведены следующие мероприятния:\n",
    "1. загружены библиотеки и модули, набор данных;\n",
    "2. проведено ознакомление с основными параметрами данных, выявлен дисбаланс классов;\n",
    "3. упрощен текст, проведены\n",
    "    - токенизация;\n",
    "    - лемматизация.\n",
    "4. данные разделены на выбоки;\n",
    "5. произведен ребаланс классов техникой unsampling;\n",
    "6. разбитые данные получили веторизацию TF_IDF.\n",
    "\n",
    "Данные подготовлены для обучения моделей."
   ]
  },
  {
   "cell_type": "markdown",
   "metadata": {
    "id": "5AgslImJHEV_"
   },
   "source": [
    "<a id='my_section_15'></a>\n",
    "## [Обучение](#content_15)"
   ]
  },
  {
   "cell_type": "markdown",
   "metadata": {
    "id": "KbFjV15rHEV_"
   },
   "source": [
    "Обучим разные модели и выберем лучшую"
   ]
  },
  {
   "cell_type": "markdown",
   "metadata": {
    "id": "RqMm_1roHEV_"
   },
   "source": [
    "<a id='my_section_16'></a>\n",
    "### [LogisticRegression](#content_16)"
   ]
  },
  {
   "cell_type": "markdown",
   "metadata": {
    "id": "-0FtKLlpHEV_"
   },
   "source": [
    "Рассмотрим для этой модели разные варианты гиперпараметров"
   ]
  },
  {
   "cell_type": "markdown",
   "metadata": {
    "id": "lQqdLb-jHEWA"
   },
   "source": [
    "<a id='my_section_17'></a>\n",
    "#### [Upsample](#content_17)"
   ]
  },
  {
   "cell_type": "code",
   "execution_count": 46,
   "metadata": {
    "id": "vDNe2OWvHEWA"
   },
   "outputs": [
    {
     "name": "stdout",
     "output_type": "stream",
     "text": [
      "F1: 0.7550133221147104\n"
     ]
    }
   ],
   "source": [
    "model_lu = LogisticRegression(random_state=12345, solver='liblinear')\n",
    "model_lu.fit(tf_idf_train, target_upsampled)\n",
    "predicted_valid_lu = model_lu.predict(tf_idf_valid)\n",
    "\n",
    "print(\"F1:\", f1_score(target_valid, predicted_valid_lu))"
   ]
  },
  {
   "cell_type": "markdown",
   "metadata": {
    "id": "THsNi1S8HEWA"
   },
   "source": [
    "<a id='my_section_18'></a>\n",
    "#### [Balanced](#content_18)"
   ]
  },
  {
   "cell_type": "code",
   "execution_count": 47,
   "metadata": {
    "id": "Wm1UmdQ6HEWA"
   },
   "outputs": [
    {
     "name": "stdout",
     "output_type": "stream",
     "text": [
      "F1: 0.7489677952105697\n"
     ]
    }
   ],
   "source": [
    "model_lb = LogisticRegression(random_state=12345, solver='liblinear', class_weight='balanced')\n",
    "model_lb.fit(tf_idf_train, target_upsampled)\n",
    "predicted_valid_lb = model_lb.predict(tf_idf_valid)\n",
    "\n",
    "print(\"F1:\", f1_score(target_valid, predicted_valid_lb))"
   ]
  },
  {
   "cell_type": "markdown",
   "metadata": {
    "editable": true,
    "slideshow": {
     "slide_type": ""
    },
    "tags": []
   },
   "source": [
    "<a id='my_section_19'></a>\n",
    "#### [GridSearchCV + Pipeline](#content_19)"
   ]
  },
  {
   "cell_type": "markdown",
   "metadata": {
    "editable": true,
    "slideshow": {
     "slide_type": ""
    },
    "tags": []
   },
   "source": [
    "Определим pipline, получим список параметров"
   ]
  },
  {
   "cell_type": "code",
   "execution_count": 48,
   "metadata": {
    "editable": true,
    "scrolled": true,
    "slideshow": {
     "slide_type": ""
    },
    "tags": []
   },
   "outputs": [
    {
     "data": {
      "text/plain": [
       "{'memory': None,\n",
       " 'steps': [('tfidf',\n",
       "   TfidfVectorizer(stop_words=[\"hadn't\", 'when', \"that'll\", 'i', 'the', 'should',\n",
       "                               'who', 'against', 'into', 'does', 'most', 'myself',\n",
       "                               'm', 'there', 'over', 'why', 'where', 're', 'can',\n",
       "                               'no', 'hasn', 'same', 'have', 'has', 'did', 'them',\n",
       "                               'for', 'himself', \"she's\", 'our', ...])),\n",
       "  ('clf', LogisticRegression(random_state=12345))],\n",
       " 'verbose': False,\n",
       " 'tfidf': TfidfVectorizer(stop_words=[\"hadn't\", 'when', \"that'll\", 'i', 'the', 'should',\n",
       "                             'who', 'against', 'into', 'does', 'most', 'myself',\n",
       "                             'm', 'there', 'over', 'why', 'where', 're', 'can',\n",
       "                             'no', 'hasn', 'same', 'have', 'has', 'did', 'them',\n",
       "                             'for', 'himself', \"she's\", 'our', ...]),\n",
       " 'clf': LogisticRegression(random_state=12345),\n",
       " 'tfidf__analyzer': 'word',\n",
       " 'tfidf__binary': False,\n",
       " 'tfidf__decode_error': 'strict',\n",
       " 'tfidf__dtype': numpy.float64,\n",
       " 'tfidf__encoding': 'utf-8',\n",
       " 'tfidf__input': 'content',\n",
       " 'tfidf__lowercase': True,\n",
       " 'tfidf__max_df': 1.0,\n",
       " 'tfidf__max_features': None,\n",
       " 'tfidf__min_df': 1,\n",
       " 'tfidf__ngram_range': (1, 1),\n",
       " 'tfidf__norm': 'l2',\n",
       " 'tfidf__preprocessor': None,\n",
       " 'tfidf__smooth_idf': True,\n",
       " 'tfidf__stop_words': [\"hadn't\",\n",
       "  'when',\n",
       "  \"that'll\",\n",
       "  'i',\n",
       "  'the',\n",
       "  'should',\n",
       "  'who',\n",
       "  'against',\n",
       "  'into',\n",
       "  'does',\n",
       "  'most',\n",
       "  'myself',\n",
       "  'm',\n",
       "  'there',\n",
       "  'over',\n",
       "  'why',\n",
       "  'where',\n",
       "  're',\n",
       "  'can',\n",
       "  'no',\n",
       "  'hasn',\n",
       "  'same',\n",
       "  'have',\n",
       "  'has',\n",
       "  'did',\n",
       "  'them',\n",
       "  'for',\n",
       "  'himself',\n",
       "  \"she's\",\n",
       "  'our',\n",
       "  'other',\n",
       "  \"needn't\",\n",
       "  'from',\n",
       "  'very',\n",
       "  'do',\n",
       "  'any',\n",
       "  've',\n",
       "  'how',\n",
       "  'that',\n",
       "  'all',\n",
       "  'of',\n",
       "  'themselves',\n",
       "  'they',\n",
       "  'up',\n",
       "  'y',\n",
       "  \"it's\",\n",
       "  'yourself',\n",
       "  'about',\n",
       "  'a',\n",
       "  \"don't\",\n",
       "  'she',\n",
       "  \"haven't\",\n",
       "  'then',\n",
       "  'shouldn',\n",
       "  'be',\n",
       "  'in',\n",
       "  'won',\n",
       "  'o',\n",
       "  'so',\n",
       "  'was',\n",
       "  'as',\n",
       "  'than',\n",
       "  'shan',\n",
       "  'before',\n",
       "  'we',\n",
       "  \"should've\",\n",
       "  'its',\n",
       "  \"couldn't\",\n",
       "  'too',\n",
       "  'theirs',\n",
       "  \"you're\",\n",
       "  'being',\n",
       "  'until',\n",
       "  'down',\n",
       "  'these',\n",
       "  'if',\n",
       "  'needn',\n",
       "  'it',\n",
       "  'couldn',\n",
       "  'you',\n",
       "  'below',\n",
       "  'again',\n",
       "  'each',\n",
       "  'will',\n",
       "  \"weren't\",\n",
       "  'off',\n",
       "  's',\n",
       "  'but',\n",
       "  \"you've\",\n",
       "  'my',\n",
       "  'on',\n",
       "  'nor',\n",
       "  \"didn't\",\n",
       "  'which',\n",
       "  'their',\n",
       "  'itself',\n",
       "  'while',\n",
       "  'after',\n",
       "  'yours',\n",
       "  'doesn',\n",
       "  'your',\n",
       "  'll',\n",
       "  'by',\n",
       "  'mightn',\n",
       "  'further',\n",
       "  'under',\n",
       "  'yourselves',\n",
       "  'through',\n",
       "  't',\n",
       "  'didn',\n",
       "  \"shan't\",\n",
       "  'him',\n",
       "  'because',\n",
       "  'at',\n",
       "  'are',\n",
       "  'his',\n",
       "  'just',\n",
       "  'ourselves',\n",
       "  'd',\n",
       "  \"you'll\",\n",
       "  'isn',\n",
       "  'had',\n",
       "  'me',\n",
       "  'such',\n",
       "  'were',\n",
       "  \"wouldn't\",\n",
       "  \"mightn't\",\n",
       "  'herself',\n",
       "  \"aren't\",\n",
       "  \"doesn't\",\n",
       "  'am',\n",
       "  'this',\n",
       "  \"mustn't\",\n",
       "  \"won't\",\n",
       "  'and',\n",
       "  'not',\n",
       "  'once',\n",
       "  'or',\n",
       "  'is',\n",
       "  \"shouldn't\",\n",
       "  'with',\n",
       "  'those',\n",
       "  'having',\n",
       "  'here',\n",
       "  'own',\n",
       "  'ours',\n",
       "  'whom',\n",
       "  'ain',\n",
       "  'both',\n",
       "  'an',\n",
       "  'some',\n",
       "  'haven',\n",
       "  'doing',\n",
       "  'don',\n",
       "  'now',\n",
       "  'hers',\n",
       "  'only',\n",
       "  \"wasn't\",\n",
       "  \"you'd\",\n",
       "  'weren',\n",
       "  \"isn't\",\n",
       "  'her',\n",
       "  'hadn',\n",
       "  'during',\n",
       "  'wouldn',\n",
       "  'few',\n",
       "  'wasn',\n",
       "  'he',\n",
       "  'between',\n",
       "  \"hasn't\",\n",
       "  'ma',\n",
       "  'to',\n",
       "  'mustn',\n",
       "  'out',\n",
       "  'aren',\n",
       "  'above',\n",
       "  'been',\n",
       "  'what',\n",
       "  'more'],\n",
       " 'tfidf__strip_accents': None,\n",
       " 'tfidf__sublinear_tf': False,\n",
       " 'tfidf__token_pattern': '(?u)\\\\b\\\\w\\\\w+\\\\b',\n",
       " 'tfidf__tokenizer': None,\n",
       " 'tfidf__use_idf': True,\n",
       " 'tfidf__vocabulary': None,\n",
       " 'clf__C': 1.0,\n",
       " 'clf__class_weight': None,\n",
       " 'clf__dual': False,\n",
       " 'clf__fit_intercept': True,\n",
       " 'clf__intercept_scaling': 1,\n",
       " 'clf__l1_ratio': None,\n",
       " 'clf__max_iter': 100,\n",
       " 'clf__multi_class': 'auto',\n",
       " 'clf__n_jobs': None,\n",
       " 'clf__penalty': 'l2',\n",
       " 'clf__random_state': 12345,\n",
       " 'clf__solver': 'lbfgs',\n",
       " 'clf__tol': 0.0001,\n",
       " 'clf__verbose': 0,\n",
       " 'clf__warm_start': False}"
      ]
     },
     "execution_count": 48,
     "metadata": {},
     "output_type": "execute_result"
    }
   ],
   "source": [
    "pipe_lr = Pipeline([('tfidf', TfidfVectorizer(stop_words=list(stopwords))),\n",
    "                  ('clf', LogisticRegression(random_state=12345))])\n",
    "pipe_lr.get_params()"
   ]
  },
  {
   "cell_type": "markdown",
   "metadata": {
    "editable": true,
    "slideshow": {
     "slide_type": ""
    },
    "tags": []
   },
   "source": [
    "Установим некоторые из них и передадим GridSearchCV"
   ]
  },
  {
   "cell_type": "code",
   "execution_count": 49,
   "metadata": {
    "editable": true,
    "slideshow": {
     "slide_type": ""
    },
    "tags": []
   },
   "outputs": [
    {
     "name": "stdout",
     "output_type": "stream",
     "text": [
      "CPU times: total: 7.83 s\n",
      "Wall time: 42 s\n"
     ]
    }
   ],
   "source": [
    "%%time\n",
    "parametres_lr = {'clf__solver':['lbfgs', 'liblinear', 'newton-cg'],\n",
    "                 'clf__max_iter':[5000],\n",
    "                 'clf__C':[1, 10],\n",
    "                 'clf__verbose': [1]}\n",
    "\n",
    "grid_lr = GridSearchCV(estimator=pipe_lr,\n",
    "                         param_grid=parametres_lr,\n",
    "                         cv=5,\n",
    "                         scoring=make_scorer(f1_score),\n",
    "                         n_jobs=-1)\n",
    "\n",
    "search_lr = grid_lr.fit(X_train, y_train)"
   ]
  },
  {
   "cell_type": "markdown",
   "metadata": {
    "editable": true,
    "slideshow": {
     "slide_type": ""
    },
    "tags": []
   },
   "source": [
    "Предскажем значение"
   ]
  },
  {
   "cell_type": "markdown",
   "metadata": {},
   "source": [
    "Получим таблицу с параметрами всех моделей"
   ]
  },
  {
   "cell_type": "code",
   "execution_count": 50,
   "metadata": {},
   "outputs": [
    {
     "data": {
      "text/html": [
       "<div>\n",
       "<style scoped>\n",
       "    .dataframe tbody tr th:only-of-type {\n",
       "        vertical-align: middle;\n",
       "    }\n",
       "\n",
       "    .dataframe tbody tr th {\n",
       "        vertical-align: top;\n",
       "    }\n",
       "\n",
       "    .dataframe thead th {\n",
       "        text-align: right;\n",
       "    }\n",
       "</style>\n",
       "<table border=\"1\" class=\"dataframe\">\n",
       "  <thead>\n",
       "    <tr style=\"text-align: right;\">\n",
       "      <th></th>\n",
       "      <th>mean_fit_time</th>\n",
       "      <th>std_fit_time</th>\n",
       "      <th>mean_score_time</th>\n",
       "      <th>std_score_time</th>\n",
       "      <th>param_clf__C</th>\n",
       "      <th>param_clf__max_iter</th>\n",
       "      <th>param_clf__solver</th>\n",
       "      <th>param_clf__verbose</th>\n",
       "      <th>params</th>\n",
       "      <th>split0_test_score</th>\n",
       "      <th>split1_test_score</th>\n",
       "      <th>split2_test_score</th>\n",
       "      <th>split3_test_score</th>\n",
       "      <th>split4_test_score</th>\n",
       "      <th>mean_test_score</th>\n",
       "      <th>std_test_score</th>\n",
       "      <th>rank_test_score</th>\n",
       "    </tr>\n",
       "  </thead>\n",
       "  <tbody>\n",
       "    <tr>\n",
       "      <th>0</th>\n",
       "      <td>7.059723</td>\n",
       "      <td>0.225917</td>\n",
       "      <td>0.608571</td>\n",
       "      <td>0.04072</td>\n",
       "      <td>1</td>\n",
       "      <td>5000</td>\n",
       "      <td>lbfgs</td>\n",
       "      <td>1</td>\n",
       "      <td>{'clf__C': 1, 'clf__max_iter': 5000, 'clf__sol...</td>\n",
       "      <td>0.720159</td>\n",
       "      <td>0.726407</td>\n",
       "      <td>0.716653</td>\n",
       "      <td>0.719323</td>\n",
       "      <td>0.722001</td>\n",
       "      <td>0.720909</td>\n",
       "      <td>0.003244</td>\n",
       "      <td>5</td>\n",
       "    </tr>\n",
       "  </tbody>\n",
       "</table>\n",
       "</div>"
      ],
      "text/plain": [
       "   mean_fit_time  std_fit_time  mean_score_time  std_score_time param_clf__C  \\\n",
       "0       7.059723      0.225917         0.608571         0.04072            1   \n",
       "\n",
       "  param_clf__max_iter param_clf__solver param_clf__verbose  \\\n",
       "0                5000             lbfgs                  1   \n",
       "\n",
       "                                              params  split0_test_score  \\\n",
       "0  {'clf__C': 1, 'clf__max_iter': 5000, 'clf__sol...           0.720159   \n",
       "\n",
       "   split1_test_score  split2_test_score  split3_test_score  split4_test_score  \\\n",
       "0           0.726407           0.716653           0.719323           0.722001   \n",
       "\n",
       "   mean_test_score  std_test_score  rank_test_score  \n",
       "0         0.720909        0.003244                5  "
      ]
     },
     "execution_count": 50,
     "metadata": {},
     "output_type": "execute_result"
    }
   ],
   "source": [
    "lr_gridsearch = pd.DataFrame(grid_lr.cv_results_)\n",
    "lr_gridsearch.head(1)"
   ]
  },
  {
   "cell_type": "markdown",
   "metadata": {},
   "source": [
    "Получим лучшие параметры лучшей модели"
   ]
  },
  {
   "cell_type": "code",
   "execution_count": 51,
   "metadata": {},
   "outputs": [
    {
     "data": {
      "text/plain": [
       "{'clf__C': 10,\n",
       " 'clf__max_iter': 5000,\n",
       " 'clf__solver': 'newton-cg',\n",
       " 'clf__verbose': 1}"
      ]
     },
     "execution_count": 51,
     "metadata": {},
     "output_type": "execute_result"
    }
   ],
   "source": [
    "grid_lr.best_params_"
   ]
  },
  {
   "cell_type": "markdown",
   "metadata": {},
   "source": [
    "Получим её точность"
   ]
  },
  {
   "cell_type": "code",
   "execution_count": 52,
   "metadata": {},
   "outputs": [
    {
     "name": "stdout",
     "output_type": "stream",
     "text": [
      "F1: 0.7662235157453029\n"
     ]
    }
   ],
   "source": [
    "f1_y_pred = search_lr.best_score_\n",
    "print(\"F1:\", f1_y_pred)"
   ]
  },
  {
   "cell_type": "markdown",
   "metadata": {
    "id": "Ril9wOyUHEWB"
   },
   "source": [
    "<a id='my_section_20'></a>\n",
    "### [CatBoostClassifier](#content_20)"
   ]
  },
  {
   "cell_type": "code",
   "execution_count": 53,
   "metadata": {
    "editable": true,
    "id": "oqi5ra1_HEWB",
    "slideshow": {
     "slide_type": ""
    },
    "tags": []
   },
   "outputs": [
    {
     "name": "stderr",
     "output_type": "stream",
     "text": [
      "  0%|                                                                                            | 0/1 [00:00<?, ?it/s]"
     ]
    },
    {
     "name": "stdout",
     "output_type": "stream",
     "text": [
      "0:\tlearn: 0.5659262\ttotal: 1.29s\tremaining: 2m 8s\n",
      "99:\tlearn: 0.2385122\ttotal: 1m 37s\tremaining: 0us\n"
     ]
    },
    {
     "name": "stderr",
     "output_type": "stream",
     "text": [
      "100%|███████████████████████████████████████████████████████████████████████████████████| 1/1 [01:45<00:00, 105.37s/it]"
     ]
    },
    {
     "name": "stdout",
     "output_type": "stream",
     "text": [
      "\n",
      "f1 лучшей модели: 0.7468408348715037\n",
      "Количество итераций: 100\n",
      "Лучшая глубина: 7\n",
      "Время обучения: 496.546875\n",
      "Время предсказания: 0.65625\n",
      "\n",
      "CPU times: total: 8min 17s\n",
      "Wall time: 1min 45s\n"
     ]
    },
    {
     "name": "stderr",
     "output_type": "stream",
     "text": [
      "\n"
     ]
    }
   ],
   "source": [
    "%%time\n",
    "best_f1 = 0.0001\n",
    "for depth in tqdm(range(7,8)):\n",
    "    for ite in range(100,300,200):\n",
    "        model_cbc = CatBoostClassifier(iterations=ite, depth=depth, learning_rate=0.32)\n",
    "\n",
    "        start_cb_fit = time.process_time()\n",
    "        model_cbc.fit(tf_idf_train, target_upsampled, verbose=ite)\n",
    "        finish_cb_fit = time.process_time() - start_cb_fit\n",
    "\n",
    "        start_cb_predict = time.process_time()\n",
    "        predictions_valid_cbc = model_cbc.predict(tf_idf_valid)\n",
    "        finish_cb_predict = time.process_time() - start_cb_predict\n",
    "\n",
    "        result_cbc = f1_score(target_valid, predictions_valid_cbc)\n",
    "        if result_cbc >= best_f1:\n",
    "            cbc_best_f1 = result_cbc\n",
    "            cbc_best_f1_model = model_cbc\n",
    "            cbc_best_iter = ite\n",
    "            cbc_best_depth = depth\n",
    "            cbc_fit = finish_cb_fit\n",
    "            cbc_pred = finish_cb_predict\n",
    "\n",
    "print(f'\\nf1 лучшей модели: {cbc_best_f1}\\n'\n",
    "      f'Количество итераций: {cbc_best_iter}\\n'\n",
    "      f'Лучшая глубина: {cbc_best_depth}\\n'\n",
    "      f'Время обучения: {cbc_fit}\\n'\n",
    "      f'Время предсказания: {cbc_pred}\\n')"
   ]
  },
  {
   "cell_type": "markdown",
   "metadata": {
    "editable": true,
    "slideshow": {
     "slide_type": ""
    },
    "tags": []
   },
   "source": [
    "<a id='my_section_21'></a>\n",
    "#### [ GridSearchCV + Pipeline](#content_21)"
   ]
  },
  {
   "cell_type": "code",
   "execution_count": 54,
   "metadata": {
    "scrolled": true
   },
   "outputs": [
    {
     "data": {
      "text/plain": [
       "{'memory': None,\n",
       " 'steps': [('tfidf',\n",
       "   TfidfVectorizer(stop_words=[\"hadn't\", 'when', \"that'll\", 'i', 'the', 'should',\n",
       "                               'who', 'against', 'into', 'does', 'most', 'myself',\n",
       "                               'm', 'there', 'over', 'why', 'where', 're', 'can',\n",
       "                               'no', 'hasn', 'same', 'have', 'has', 'did', 'them',\n",
       "                               'for', 'himself', \"she's\", 'our', ...])),\n",
       "  ('cbc', <catboost.core.CatBoostClassifier at 0x24d7ba8d790>)],\n",
       " 'verbose': False,\n",
       " 'tfidf': TfidfVectorizer(stop_words=[\"hadn't\", 'when', \"that'll\", 'i', 'the', 'should',\n",
       "                             'who', 'against', 'into', 'does', 'most', 'myself',\n",
       "                             'm', 'there', 'over', 'why', 'where', 're', 'can',\n",
       "                             'no', 'hasn', 'same', 'have', 'has', 'did', 'them',\n",
       "                             'for', 'himself', \"she's\", 'our', ...]),\n",
       " 'cbc': <catboost.core.CatBoostClassifier at 0x24d7ba8d790>,\n",
       " 'tfidf__analyzer': 'word',\n",
       " 'tfidf__binary': False,\n",
       " 'tfidf__decode_error': 'strict',\n",
       " 'tfidf__dtype': numpy.float64,\n",
       " 'tfidf__encoding': 'utf-8',\n",
       " 'tfidf__input': 'content',\n",
       " 'tfidf__lowercase': True,\n",
       " 'tfidf__max_df': 1.0,\n",
       " 'tfidf__max_features': None,\n",
       " 'tfidf__min_df': 1,\n",
       " 'tfidf__ngram_range': (1, 1),\n",
       " 'tfidf__norm': 'l2',\n",
       " 'tfidf__preprocessor': None,\n",
       " 'tfidf__smooth_idf': True,\n",
       " 'tfidf__stop_words': [\"hadn't\",\n",
       "  'when',\n",
       "  \"that'll\",\n",
       "  'i',\n",
       "  'the',\n",
       "  'should',\n",
       "  'who',\n",
       "  'against',\n",
       "  'into',\n",
       "  'does',\n",
       "  'most',\n",
       "  'myself',\n",
       "  'm',\n",
       "  'there',\n",
       "  'over',\n",
       "  'why',\n",
       "  'where',\n",
       "  're',\n",
       "  'can',\n",
       "  'no',\n",
       "  'hasn',\n",
       "  'same',\n",
       "  'have',\n",
       "  'has',\n",
       "  'did',\n",
       "  'them',\n",
       "  'for',\n",
       "  'himself',\n",
       "  \"she's\",\n",
       "  'our',\n",
       "  'other',\n",
       "  \"needn't\",\n",
       "  'from',\n",
       "  'very',\n",
       "  'do',\n",
       "  'any',\n",
       "  've',\n",
       "  'how',\n",
       "  'that',\n",
       "  'all',\n",
       "  'of',\n",
       "  'themselves',\n",
       "  'they',\n",
       "  'up',\n",
       "  'y',\n",
       "  \"it's\",\n",
       "  'yourself',\n",
       "  'about',\n",
       "  'a',\n",
       "  \"don't\",\n",
       "  'she',\n",
       "  \"haven't\",\n",
       "  'then',\n",
       "  'shouldn',\n",
       "  'be',\n",
       "  'in',\n",
       "  'won',\n",
       "  'o',\n",
       "  'so',\n",
       "  'was',\n",
       "  'as',\n",
       "  'than',\n",
       "  'shan',\n",
       "  'before',\n",
       "  'we',\n",
       "  \"should've\",\n",
       "  'its',\n",
       "  \"couldn't\",\n",
       "  'too',\n",
       "  'theirs',\n",
       "  \"you're\",\n",
       "  'being',\n",
       "  'until',\n",
       "  'down',\n",
       "  'these',\n",
       "  'if',\n",
       "  'needn',\n",
       "  'it',\n",
       "  'couldn',\n",
       "  'you',\n",
       "  'below',\n",
       "  'again',\n",
       "  'each',\n",
       "  'will',\n",
       "  \"weren't\",\n",
       "  'off',\n",
       "  's',\n",
       "  'but',\n",
       "  \"you've\",\n",
       "  'my',\n",
       "  'on',\n",
       "  'nor',\n",
       "  \"didn't\",\n",
       "  'which',\n",
       "  'their',\n",
       "  'itself',\n",
       "  'while',\n",
       "  'after',\n",
       "  'yours',\n",
       "  'doesn',\n",
       "  'your',\n",
       "  'll',\n",
       "  'by',\n",
       "  'mightn',\n",
       "  'further',\n",
       "  'under',\n",
       "  'yourselves',\n",
       "  'through',\n",
       "  't',\n",
       "  'didn',\n",
       "  \"shan't\",\n",
       "  'him',\n",
       "  'because',\n",
       "  'at',\n",
       "  'are',\n",
       "  'his',\n",
       "  'just',\n",
       "  'ourselves',\n",
       "  'd',\n",
       "  \"you'll\",\n",
       "  'isn',\n",
       "  'had',\n",
       "  'me',\n",
       "  'such',\n",
       "  'were',\n",
       "  \"wouldn't\",\n",
       "  \"mightn't\",\n",
       "  'herself',\n",
       "  \"aren't\",\n",
       "  \"doesn't\",\n",
       "  'am',\n",
       "  'this',\n",
       "  \"mustn't\",\n",
       "  \"won't\",\n",
       "  'and',\n",
       "  'not',\n",
       "  'once',\n",
       "  'or',\n",
       "  'is',\n",
       "  \"shouldn't\",\n",
       "  'with',\n",
       "  'those',\n",
       "  'having',\n",
       "  'here',\n",
       "  'own',\n",
       "  'ours',\n",
       "  'whom',\n",
       "  'ain',\n",
       "  'both',\n",
       "  'an',\n",
       "  'some',\n",
       "  'haven',\n",
       "  'doing',\n",
       "  'don',\n",
       "  'now',\n",
       "  'hers',\n",
       "  'only',\n",
       "  \"wasn't\",\n",
       "  \"you'd\",\n",
       "  'weren',\n",
       "  \"isn't\",\n",
       "  'her',\n",
       "  'hadn',\n",
       "  'during',\n",
       "  'wouldn',\n",
       "  'few',\n",
       "  'wasn',\n",
       "  'he',\n",
       "  'between',\n",
       "  \"hasn't\",\n",
       "  'ma',\n",
       "  'to',\n",
       "  'mustn',\n",
       "  'out',\n",
       "  'aren',\n",
       "  'above',\n",
       "  'been',\n",
       "  'what',\n",
       "  'more'],\n",
       " 'tfidf__strip_accents': None,\n",
       " 'tfidf__sublinear_tf': False,\n",
       " 'tfidf__token_pattern': '(?u)\\\\b\\\\w\\\\w+\\\\b',\n",
       " 'tfidf__tokenizer': None,\n",
       " 'tfidf__use_idf': True,\n",
       " 'tfidf__vocabulary': None,\n",
       " 'cbc__learning_rate': 0.32}"
      ]
     },
     "execution_count": 54,
     "metadata": {},
     "output_type": "execute_result"
    }
   ],
   "source": [
    "pipe_cbc = Pipeline([('tfidf', TfidfVectorizer(stop_words=list(stopwords))),\n",
    "                  ('cbc', CatBoostClassifier(learning_rate=0.32))])\n",
    "pipe_cbc.get_params()"
   ]
  },
  {
   "cell_type": "code",
   "execution_count": 55,
   "metadata": {
    "scrolled": true
   },
   "outputs": [
    {
     "name": "stdout",
     "output_type": "stream",
     "text": [
      "0:\tlearn: 0.4176170\ttotal: 1.86s\tremaining: 9m 16s\n",
      "1:\tlearn: 0.3076544\ttotal: 3.64s\tremaining: 9m 2s\n",
      "2:\tlearn: 0.2596406\ttotal: 5.44s\tremaining: 8m 58s\n",
      "3:\tlearn: 0.2331420\ttotal: 7.22s\tremaining: 8m 54s\n",
      "4:\tlearn: 0.2203837\ttotal: 8.96s\tremaining: 8m 48s\n",
      "5:\tlearn: 0.2121736\ttotal: 10.7s\tremaining: 8m 43s\n",
      "6:\tlearn: 0.2066036\ttotal: 12.4s\tremaining: 8m 39s\n",
      "7:\tlearn: 0.2005435\ttotal: 14.2s\tremaining: 8m 36s\n",
      "8:\tlearn: 0.1971192\ttotal: 15.9s\tremaining: 8m 33s\n",
      "9:\tlearn: 0.1932858\ttotal: 17.6s\tremaining: 8m 30s\n",
      "10:\tlearn: 0.1904011\ttotal: 19.4s\tremaining: 8m 28s\n",
      "11:\tlearn: 0.1858928\ttotal: 21.2s\tremaining: 8m 28s\n",
      "12:\tlearn: 0.1833425\ttotal: 23s\tremaining: 8m 27s\n",
      "13:\tlearn: 0.1809650\ttotal: 24.7s\tremaining: 8m 24s\n",
      "14:\tlearn: 0.1792405\ttotal: 26.4s\tremaining: 8m 22s\n",
      "15:\tlearn: 0.1773080\ttotal: 28.2s\tremaining: 8m 19s\n",
      "16:\tlearn: 0.1756154\ttotal: 29.9s\tremaining: 8m 17s\n",
      "17:\tlearn: 0.1734462\ttotal: 31.6s\tremaining: 8m 15s\n",
      "18:\tlearn: 0.1713900\ttotal: 33.4s\tremaining: 8m 13s\n",
      "19:\tlearn: 0.1695055\ttotal: 35.1s\tremaining: 8m 12s\n",
      "20:\tlearn: 0.1681758\ttotal: 36.9s\tremaining: 8m 9s\n",
      "21:\tlearn: 0.1665239\ttotal: 38.6s\tremaining: 8m 7s\n",
      "22:\tlearn: 0.1650954\ttotal: 40.3s\tremaining: 8m 5s\n",
      "23:\tlearn: 0.1637512\ttotal: 42.1s\tremaining: 8m 3s\n",
      "24:\tlearn: 0.1626401\ttotal: 43.8s\tremaining: 8m 1s\n",
      "25:\tlearn: 0.1614083\ttotal: 45.5s\tremaining: 7m 59s\n",
      "26:\tlearn: 0.1605084\ttotal: 47.3s\tremaining: 7m 57s\n",
      "27:\tlearn: 0.1595680\ttotal: 49s\tremaining: 7m 55s\n",
      "28:\tlearn: 0.1583305\ttotal: 50.7s\tremaining: 7m 53s\n",
      "29:\tlearn: 0.1573777\ttotal: 52.4s\tremaining: 7m 51s\n",
      "30:\tlearn: 0.1564337\ttotal: 54.2s\tremaining: 7m 50s\n",
      "31:\tlearn: 0.1556290\ttotal: 55.9s\tremaining: 7m 48s\n",
      "32:\tlearn: 0.1546569\ttotal: 57.6s\tremaining: 7m 46s\n",
      "33:\tlearn: 0.1535598\ttotal: 59.4s\tremaining: 7m 44s\n",
      "34:\tlearn: 0.1528037\ttotal: 1m 1s\tremaining: 7m 42s\n",
      "35:\tlearn: 0.1517260\ttotal: 1m 2s\tremaining: 7m 40s\n",
      "36:\tlearn: 0.1508105\ttotal: 1m 4s\tremaining: 7m 39s\n",
      "37:\tlearn: 0.1499123\ttotal: 1m 6s\tremaining: 7m 37s\n",
      "38:\tlearn: 0.1490651\ttotal: 1m 8s\tremaining: 7m 35s\n",
      "39:\tlearn: 0.1483078\ttotal: 1m 9s\tremaining: 7m 33s\n",
      "40:\tlearn: 0.1472275\ttotal: 1m 11s\tremaining: 7m 31s\n",
      "41:\tlearn: 0.1465257\ttotal: 1m 13s\tremaining: 7m 29s\n",
      "42:\tlearn: 0.1456577\ttotal: 1m 14s\tremaining: 7m 28s\n",
      "43:\tlearn: 0.1451189\ttotal: 1m 16s\tremaining: 7m 26s\n",
      "44:\tlearn: 0.1444753\ttotal: 1m 18s\tremaining: 7m 24s\n",
      "45:\tlearn: 0.1435145\ttotal: 1m 20s\tremaining: 7m 22s\n",
      "46:\tlearn: 0.1426129\ttotal: 1m 21s\tremaining: 7m 20s\n",
      "47:\tlearn: 0.1421276\ttotal: 1m 23s\tremaining: 7m 18s\n",
      "48:\tlearn: 0.1416686\ttotal: 1m 25s\tremaining: 7m 17s\n",
      "49:\tlearn: 0.1409318\ttotal: 1m 27s\tremaining: 7m 15s\n",
      "50:\tlearn: 0.1404561\ttotal: 1m 28s\tremaining: 7m 13s\n",
      "51:\tlearn: 0.1398389\ttotal: 1m 30s\tremaining: 7m 11s\n",
      "52:\tlearn: 0.1391661\ttotal: 1m 32s\tremaining: 7m 10s\n",
      "53:\tlearn: 0.1384640\ttotal: 1m 34s\tremaining: 7m 8s\n",
      "54:\tlearn: 0.1380108\ttotal: 1m 35s\tremaining: 7m 6s\n",
      "55:\tlearn: 0.1376213\ttotal: 1m 37s\tremaining: 7m 4s\n",
      "56:\tlearn: 0.1371397\ttotal: 1m 39s\tremaining: 7m 2s\n",
      "57:\tlearn: 0.1365118\ttotal: 1m 40s\tremaining: 7m 1s\n",
      "58:\tlearn: 0.1361747\ttotal: 1m 42s\tremaining: 6m 59s\n",
      "59:\tlearn: 0.1356312\ttotal: 1m 44s\tremaining: 6m 57s\n",
      "60:\tlearn: 0.1353353\ttotal: 1m 46s\tremaining: 6m 55s\n",
      "61:\tlearn: 0.1346482\ttotal: 1m 47s\tremaining: 6m 53s\n",
      "62:\tlearn: 0.1339904\ttotal: 1m 49s\tremaining: 6m 51s\n",
      "63:\tlearn: 0.1336909\ttotal: 1m 51s\tremaining: 6m 50s\n",
      "64:\tlearn: 0.1334330\ttotal: 1m 52s\tremaining: 6m 48s\n",
      "65:\tlearn: 0.1329730\ttotal: 1m 54s\tremaining: 6m 46s\n",
      "66:\tlearn: 0.1327269\ttotal: 1m 56s\tremaining: 6m 44s\n",
      "67:\tlearn: 0.1320823\ttotal: 1m 58s\tremaining: 6m 43s\n",
      "68:\tlearn: 0.1314746\ttotal: 1m 59s\tremaining: 6m 41s\n",
      "69:\tlearn: 0.1309508\ttotal: 2m 1s\tremaining: 6m 39s\n",
      "70:\tlearn: 0.1305216\ttotal: 2m 3s\tremaining: 6m 37s\n",
      "71:\tlearn: 0.1296679\ttotal: 2m 5s\tremaining: 6m 36s\n",
      "72:\tlearn: 0.1292515\ttotal: 2m 6s\tremaining: 6m 34s\n",
      "73:\tlearn: 0.1287290\ttotal: 2m 8s\tremaining: 6m 32s\n",
      "74:\tlearn: 0.1282169\ttotal: 2m 10s\tremaining: 6m 30s\n",
      "75:\tlearn: 0.1280014\ttotal: 2m 11s\tremaining: 6m 28s\n",
      "76:\tlearn: 0.1276843\ttotal: 2m 13s\tremaining: 6m 27s\n",
      "77:\tlearn: 0.1270010\ttotal: 2m 15s\tremaining: 6m 25s\n",
      "78:\tlearn: 0.1267566\ttotal: 2m 17s\tremaining: 6m 23s\n",
      "79:\tlearn: 0.1264037\ttotal: 2m 18s\tremaining: 6m 21s\n",
      "80:\tlearn: 0.1260193\ttotal: 2m 20s\tremaining: 6m 19s\n",
      "81:\tlearn: 0.1258183\ttotal: 2m 22s\tremaining: 6m 18s\n",
      "82:\tlearn: 0.1254787\ttotal: 2m 23s\tremaining: 6m 16s\n",
      "83:\tlearn: 0.1250532\ttotal: 2m 25s\tremaining: 6m 14s\n",
      "84:\tlearn: 0.1247199\ttotal: 2m 27s\tremaining: 6m 12s\n",
      "85:\tlearn: 0.1245146\ttotal: 2m 29s\tremaining: 6m 10s\n",
      "86:\tlearn: 0.1240657\ttotal: 2m 30s\tremaining: 6m 9s\n",
      "87:\tlearn: 0.1236791\ttotal: 2m 32s\tremaining: 6m 7s\n",
      "88:\tlearn: 0.1231765\ttotal: 2m 34s\tremaining: 6m 5s\n",
      "89:\tlearn: 0.1227500\ttotal: 2m 35s\tremaining: 6m 3s\n",
      "90:\tlearn: 0.1225734\ttotal: 2m 37s\tremaining: 6m 2s\n",
      "91:\tlearn: 0.1222104\ttotal: 2m 39s\tremaining: 6m\n",
      "92:\tlearn: 0.1220150\ttotal: 2m 41s\tremaining: 5m 58s\n",
      "93:\tlearn: 0.1217248\ttotal: 2m 42s\tremaining: 5m 56s\n",
      "94:\tlearn: 0.1214229\ttotal: 2m 44s\tremaining: 5m 54s\n",
      "95:\tlearn: 0.1210426\ttotal: 2m 46s\tremaining: 5m 53s\n",
      "96:\tlearn: 0.1206809\ttotal: 2m 47s\tremaining: 5m 51s\n",
      "97:\tlearn: 0.1204810\ttotal: 2m 49s\tremaining: 5m 49s\n",
      "98:\tlearn: 0.1200883\ttotal: 2m 51s\tremaining: 5m 47s\n",
      "99:\tlearn: 0.1195650\ttotal: 2m 53s\tremaining: 5m 46s\n",
      "100:\tlearn: 0.1193876\ttotal: 2m 54s\tremaining: 5m 44s\n",
      "101:\tlearn: 0.1190567\ttotal: 2m 56s\tremaining: 5m 42s\n",
      "102:\tlearn: 0.1188625\ttotal: 2m 58s\tremaining: 5m 41s\n",
      "103:\tlearn: 0.1186906\ttotal: 3m\tremaining: 5m 39s\n",
      "104:\tlearn: 0.1182810\ttotal: 3m 1s\tremaining: 5m 37s\n",
      "105:\tlearn: 0.1181133\ttotal: 3m 3s\tremaining: 5m 35s\n",
      "106:\tlearn: 0.1177275\ttotal: 3m 5s\tremaining: 5m 34s\n",
      "107:\tlearn: 0.1175718\ttotal: 3m 6s\tremaining: 5m 32s\n",
      "108:\tlearn: 0.1174005\ttotal: 3m 8s\tremaining: 5m 30s\n",
      "109:\tlearn: 0.1172461\ttotal: 3m 10s\tremaining: 5m 28s\n",
      "110:\tlearn: 0.1171044\ttotal: 3m 12s\tremaining: 5m 26s\n",
      "111:\tlearn: 0.1168607\ttotal: 3m 13s\tremaining: 5m 25s\n",
      "112:\tlearn: 0.1165682\ttotal: 3m 15s\tremaining: 5m 23s\n",
      "113:\tlearn: 0.1164258\ttotal: 3m 17s\tremaining: 5m 21s\n",
      "114:\tlearn: 0.1162921\ttotal: 3m 18s\tremaining: 5m 19s\n",
      "115:\tlearn: 0.1161677\ttotal: 3m 20s\tremaining: 5m 18s\n",
      "116:\tlearn: 0.1160104\ttotal: 3m 22s\tremaining: 5m 16s\n",
      "117:\tlearn: 0.1156639\ttotal: 3m 24s\tremaining: 5m 14s\n",
      "118:\tlearn: 0.1155077\ttotal: 3m 25s\tremaining: 5m 13s\n",
      "119:\tlearn: 0.1152696\ttotal: 3m 27s\tremaining: 5m 11s\n",
      "120:\tlearn: 0.1151467\ttotal: 3m 29s\tremaining: 5m 9s\n",
      "121:\tlearn: 0.1148745\ttotal: 3m 31s\tremaining: 5m 7s\n",
      "122:\tlearn: 0.1147364\ttotal: 3m 32s\tremaining: 5m 6s\n",
      "123:\tlearn: 0.1145355\ttotal: 3m 34s\tremaining: 5m 4s\n",
      "124:\tlearn: 0.1141336\ttotal: 3m 36s\tremaining: 5m 2s\n",
      "125:\tlearn: 0.1137418\ttotal: 3m 37s\tremaining: 5m\n",
      "126:\tlearn: 0.1136068\ttotal: 3m 39s\tremaining: 4m 59s\n",
      "127:\tlearn: 0.1134771\ttotal: 3m 41s\tremaining: 4m 57s\n",
      "128:\tlearn: 0.1133520\ttotal: 3m 43s\tremaining: 4m 55s\n",
      "129:\tlearn: 0.1131166\ttotal: 3m 44s\tremaining: 4m 53s\n",
      "130:\tlearn: 0.1129970\ttotal: 3m 46s\tremaining: 4m 52s\n",
      "131:\tlearn: 0.1126943\ttotal: 3m 48s\tremaining: 4m 50s\n",
      "132:\tlearn: 0.1123579\ttotal: 3m 49s\tremaining: 4m 48s\n",
      "133:\tlearn: 0.1122428\ttotal: 3m 51s\tremaining: 4m 46s\n",
      "134:\tlearn: 0.1121316\ttotal: 3m 53s\tremaining: 4m 45s\n",
      "135:\tlearn: 0.1118647\ttotal: 3m 55s\tremaining: 4m 43s\n",
      "136:\tlearn: 0.1117123\ttotal: 3m 56s\tremaining: 4m 41s\n",
      "137:\tlearn: 0.1114047\ttotal: 3m 58s\tremaining: 4m 40s\n",
      "138:\tlearn: 0.1111423\ttotal: 4m\tremaining: 4m 38s\n",
      "139:\tlearn: 0.1110263\ttotal: 4m 2s\tremaining: 4m 36s\n",
      "140:\tlearn: 0.1108991\ttotal: 4m 3s\tremaining: 4m 34s\n",
      "141:\tlearn: 0.1106811\ttotal: 4m 5s\tremaining: 4m 33s\n",
      "142:\tlearn: 0.1104846\ttotal: 4m 7s\tremaining: 4m 31s\n",
      "143:\tlearn: 0.1103799\ttotal: 4m 8s\tremaining: 4m 29s\n",
      "144:\tlearn: 0.1102742\ttotal: 4m 10s\tremaining: 4m 27s\n",
      "145:\tlearn: 0.1101730\ttotal: 4m 12s\tremaining: 4m 26s\n",
      "146:\tlearn: 0.1100616\ttotal: 4m 14s\tremaining: 4m 24s\n",
      "147:\tlearn: 0.1096398\ttotal: 4m 15s\tremaining: 4m 22s\n",
      "148:\tlearn: 0.1093965\ttotal: 4m 17s\tremaining: 4m 20s\n",
      "149:\tlearn: 0.1092140\ttotal: 4m 19s\tremaining: 4m 19s\n",
      "150:\tlearn: 0.1091081\ttotal: 4m 20s\tremaining: 4m 17s\n",
      "151:\tlearn: 0.1088708\ttotal: 4m 22s\tremaining: 4m 15s\n",
      "152:\tlearn: 0.1087329\ttotal: 4m 24s\tremaining: 4m 13s\n",
      "153:\tlearn: 0.1086425\ttotal: 4m 26s\tremaining: 4m 12s\n",
      "154:\tlearn: 0.1082605\ttotal: 4m 27s\tremaining: 4m 10s\n",
      "155:\tlearn: 0.1081614\ttotal: 4m 29s\tremaining: 4m 8s\n",
      "156:\tlearn: 0.1079044\ttotal: 4m 31s\tremaining: 4m 7s\n",
      "157:\tlearn: 0.1078078\ttotal: 4m 33s\tremaining: 4m 5s\n",
      "158:\tlearn: 0.1075931\ttotal: 4m 34s\tremaining: 4m 3s\n",
      "159:\tlearn: 0.1074521\ttotal: 4m 36s\tremaining: 4m 1s\n",
      "160:\tlearn: 0.1072125\ttotal: 4m 38s\tremaining: 4m\n",
      "161:\tlearn: 0.1070927\ttotal: 4m 39s\tremaining: 3m 58s\n",
      "162:\tlearn: 0.1067824\ttotal: 4m 41s\tremaining: 3m 56s\n",
      "163:\tlearn: 0.1066469\ttotal: 4m 43s\tremaining: 3m 55s\n",
      "164:\tlearn: 0.1063481\ttotal: 4m 45s\tremaining: 3m 53s\n",
      "165:\tlearn: 0.1062560\ttotal: 4m 46s\tremaining: 3m 51s\n",
      "166:\tlearn: 0.1061711\ttotal: 4m 48s\tremaining: 3m 49s\n",
      "167:\tlearn: 0.1058916\ttotal: 4m 50s\tremaining: 3m 48s\n",
      "168:\tlearn: 0.1058077\ttotal: 4m 52s\tremaining: 3m 46s\n",
      "169:\tlearn: 0.1056371\ttotal: 4m 53s\tremaining: 3m 44s\n",
      "170:\tlearn: 0.1053772\ttotal: 4m 55s\tremaining: 3m 43s\n",
      "171:\tlearn: 0.1051731\ttotal: 4m 57s\tremaining: 3m 41s\n",
      "172:\tlearn: 0.1050532\ttotal: 4m 59s\tremaining: 3m 39s\n",
      "173:\tlearn: 0.1047794\ttotal: 5m\tremaining: 3m 37s\n",
      "174:\tlearn: 0.1046708\ttotal: 5m 2s\tremaining: 3m 36s\n",
      "175:\tlearn: 0.1044226\ttotal: 5m 4s\tremaining: 3m 34s\n",
      "176:\tlearn: 0.1042584\ttotal: 5m 6s\tremaining: 3m 32s\n",
      "177:\tlearn: 0.1040018\ttotal: 5m 7s\tremaining: 3m 30s\n",
      "178:\tlearn: 0.1038972\ttotal: 5m 9s\tremaining: 3m 29s\n",
      "179:\tlearn: 0.1036512\ttotal: 5m 11s\tremaining: 3m 27s\n",
      "180:\tlearn: 0.1034879\ttotal: 5m 12s\tremaining: 3m 25s\n",
      "181:\tlearn: 0.1034044\ttotal: 5m 14s\tremaining: 3m 24s\n",
      "182:\tlearn: 0.1029677\ttotal: 5m 16s\tremaining: 3m 22s\n",
      "183:\tlearn: 0.1028642\ttotal: 5m 18s\tremaining: 3m 20s\n",
      "184:\tlearn: 0.1027771\ttotal: 5m 19s\tremaining: 3m 18s\n",
      "185:\tlearn: 0.1026268\ttotal: 5m 21s\tremaining: 3m 17s\n",
      "186:\tlearn: 0.1022648\ttotal: 5m 23s\tremaining: 3m 15s\n",
      "187:\tlearn: 0.1021411\ttotal: 5m 25s\tremaining: 3m 13s\n",
      "188:\tlearn: 0.1019111\ttotal: 5m 26s\tremaining: 3m 11s\n",
      "189:\tlearn: 0.1015981\ttotal: 5m 28s\tremaining: 3m 10s\n",
      "190:\tlearn: 0.1015131\ttotal: 5m 30s\tremaining: 3m 8s\n",
      "191:\tlearn: 0.1014288\ttotal: 5m 31s\tremaining: 3m 6s\n",
      "192:\tlearn: 0.1013502\ttotal: 5m 33s\tremaining: 3m 4s\n",
      "193:\tlearn: 0.1011399\ttotal: 5m 35s\tremaining: 3m 3s\n",
      "194:\tlearn: 0.1010543\ttotal: 5m 37s\tremaining: 3m 1s\n",
      "195:\tlearn: 0.1008567\ttotal: 5m 38s\tremaining: 2m 59s\n",
      "196:\tlearn: 0.1007488\ttotal: 5m 40s\tremaining: 2m 58s\n",
      "197:\tlearn: 0.1005515\ttotal: 5m 42s\tremaining: 2m 56s\n",
      "198:\tlearn: 0.1002573\ttotal: 5m 43s\tremaining: 2m 54s\n",
      "199:\tlearn: 0.1001774\ttotal: 5m 45s\tremaining: 2m 52s\n",
      "200:\tlearn: 0.0999112\ttotal: 5m 47s\tremaining: 2m 51s\n",
      "201:\tlearn: 0.0996563\ttotal: 5m 49s\tremaining: 2m 49s\n",
      "202:\tlearn: 0.0995818\ttotal: 5m 50s\tremaining: 2m 47s\n",
      "203:\tlearn: 0.0993729\ttotal: 5m 52s\tremaining: 2m 45s\n",
      "204:\tlearn: 0.0992453\ttotal: 5m 54s\tremaining: 2m 44s\n",
      "205:\tlearn: 0.0991709\ttotal: 5m 55s\tremaining: 2m 42s\n",
      "206:\tlearn: 0.0989253\ttotal: 5m 57s\tremaining: 2m 40s\n",
      "207:\tlearn: 0.0988187\ttotal: 5m 59s\tremaining: 2m 38s\n",
      "208:\tlearn: 0.0987278\ttotal: 6m 1s\tremaining: 2m 37s\n",
      "209:\tlearn: 0.0986442\ttotal: 6m 2s\tremaining: 2m 35s\n",
      "210:\tlearn: 0.0984394\ttotal: 6m 4s\tremaining: 2m 33s\n",
      "211:\tlearn: 0.0983643\ttotal: 6m 6s\tremaining: 2m 32s\n",
      "212:\tlearn: 0.0982894\ttotal: 6m 7s\tremaining: 2m 30s\n",
      "213:\tlearn: 0.0980012\ttotal: 6m 9s\tremaining: 2m 28s\n",
      "214:\tlearn: 0.0978787\ttotal: 6m 11s\tremaining: 2m 26s\n",
      "215:\tlearn: 0.0977258\ttotal: 6m 13s\tremaining: 2m 25s\n",
      "216:\tlearn: 0.0976501\ttotal: 6m 14s\tremaining: 2m 23s\n",
      "217:\tlearn: 0.0974933\ttotal: 6m 16s\tremaining: 2m 21s\n",
      "218:\tlearn: 0.0972749\ttotal: 6m 18s\tremaining: 2m 19s\n",
      "219:\tlearn: 0.0972039\ttotal: 6m 19s\tremaining: 2m 18s\n",
      "220:\tlearn: 0.0971324\ttotal: 6m 21s\tremaining: 2m 16s\n",
      "221:\tlearn: 0.0969368\ttotal: 6m 23s\tremaining: 2m 14s\n",
      "222:\tlearn: 0.0968431\ttotal: 6m 25s\tremaining: 2m 12s\n",
      "223:\tlearn: 0.0967509\ttotal: 6m 26s\tremaining: 2m 11s\n",
      "224:\tlearn: 0.0966822\ttotal: 6m 28s\tremaining: 2m 9s\n",
      "225:\tlearn: 0.0964459\ttotal: 6m 30s\tremaining: 2m 7s\n",
      "226:\tlearn: 0.0962142\ttotal: 6m 31s\tremaining: 2m 6s\n",
      "227:\tlearn: 0.0961427\ttotal: 6m 33s\tremaining: 2m 4s\n",
      "228:\tlearn: 0.0960359\ttotal: 6m 35s\tremaining: 2m 2s\n",
      "229:\tlearn: 0.0959678\ttotal: 6m 37s\tremaining: 2m\n",
      "230:\tlearn: 0.0959018\ttotal: 6m 38s\tremaining: 1m 59s\n",
      "231:\tlearn: 0.0956896\ttotal: 6m 40s\tremaining: 1m 57s\n",
      "232:\tlearn: 0.0955933\ttotal: 6m 42s\tremaining: 1m 55s\n",
      "233:\tlearn: 0.0955275\ttotal: 6m 43s\tremaining: 1m 53s\n",
      "234:\tlearn: 0.0953324\ttotal: 6m 45s\tremaining: 1m 52s\n",
      "235:\tlearn: 0.0952658\ttotal: 6m 47s\tremaining: 1m 50s\n",
      "236:\tlearn: 0.0950926\ttotal: 6m 49s\tremaining: 1m 48s\n",
      "237:\tlearn: 0.0949481\ttotal: 6m 50s\tremaining: 1m 47s\n",
      "238:\tlearn: 0.0948807\ttotal: 6m 52s\tremaining: 1m 45s\n",
      "239:\tlearn: 0.0947938\ttotal: 6m 54s\tremaining: 1m 43s\n",
      "240:\tlearn: 0.0945878\ttotal: 6m 56s\tremaining: 1m 41s\n",
      "241:\tlearn: 0.0945239\ttotal: 6m 57s\tremaining: 1m 40s\n",
      "242:\tlearn: 0.0944579\ttotal: 6m 59s\tremaining: 1m 38s\n",
      "243:\tlearn: 0.0943141\ttotal: 7m 1s\tremaining: 1m 36s\n",
      "244:\tlearn: 0.0942506\ttotal: 7m 3s\tremaining: 1m 34s\n",
      "245:\tlearn: 0.0941629\ttotal: 7m 4s\tremaining: 1m 33s\n",
      "246:\tlearn: 0.0940720\ttotal: 7m 6s\tremaining: 1m 31s\n",
      "247:\tlearn: 0.0940103\ttotal: 7m 8s\tremaining: 1m 29s\n",
      "248:\tlearn: 0.0939460\ttotal: 7m 9s\tremaining: 1m 28s\n",
      "249:\tlearn: 0.0938813\ttotal: 7m 11s\tremaining: 1m 26s\n",
      "250:\tlearn: 0.0938196\ttotal: 7m 13s\tremaining: 1m 24s\n",
      "251:\tlearn: 0.0935778\ttotal: 7m 14s\tremaining: 1m 22s\n",
      "252:\tlearn: 0.0935047\ttotal: 7m 16s\tremaining: 1m 21s\n",
      "253:\tlearn: 0.0934365\ttotal: 7m 18s\tremaining: 1m 19s\n",
      "254:\tlearn: 0.0933729\ttotal: 7m 20s\tremaining: 1m 17s\n",
      "255:\tlearn: 0.0932651\ttotal: 7m 21s\tremaining: 1m 15s\n",
      "256:\tlearn: 0.0930815\ttotal: 7m 23s\tremaining: 1m 14s\n",
      "257:\tlearn: 0.0930207\ttotal: 7m 25s\tremaining: 1m 12s\n",
      "258:\tlearn: 0.0928745\ttotal: 7m 26s\tremaining: 1m 10s\n",
      "259:\tlearn: 0.0926234\ttotal: 7m 28s\tremaining: 1m 9s\n",
      "260:\tlearn: 0.0925655\ttotal: 7m 30s\tremaining: 1m 7s\n",
      "261:\tlearn: 0.0924835\ttotal: 7m 32s\tremaining: 1m 5s\n",
      "262:\tlearn: 0.0924228\ttotal: 7m 33s\tremaining: 1m 3s\n",
      "263:\tlearn: 0.0923617\ttotal: 7m 35s\tremaining: 1m 2s\n",
      "264:\tlearn: 0.0923042\ttotal: 7m 37s\tremaining: 1m\n",
      "265:\tlearn: 0.0921838\ttotal: 7m 38s\tremaining: 58.7s\n",
      "266:\tlearn: 0.0920653\ttotal: 7m 40s\tremaining: 56.9s\n",
      "267:\tlearn: 0.0920029\ttotal: 7m 42s\tremaining: 55.2s\n",
      "268:\tlearn: 0.0919424\ttotal: 7m 44s\tremaining: 53.5s\n",
      "269:\tlearn: 0.0918225\ttotal: 7m 45s\tremaining: 51.8s\n",
      "270:\tlearn: 0.0917622\ttotal: 7m 47s\tremaining: 50s\n",
      "271:\tlearn: 0.0916904\ttotal: 7m 49s\tremaining: 48.3s\n",
      "272:\tlearn: 0.0916304\ttotal: 7m 50s\tremaining: 46.6s\n",
      "273:\tlearn: 0.0915707\ttotal: 7m 52s\tremaining: 44.9s\n",
      "274:\tlearn: 0.0915123\ttotal: 7m 54s\tremaining: 43.1s\n",
      "275:\tlearn: 0.0913785\ttotal: 7m 56s\tremaining: 41.4s\n",
      "276:\tlearn: 0.0913179\ttotal: 7m 57s\tremaining: 39.7s\n",
      "277:\tlearn: 0.0911838\ttotal: 7m 59s\tremaining: 37.9s\n",
      "278:\tlearn: 0.0911205\ttotal: 8m 1s\tremaining: 36.2s\n",
      "279:\tlearn: 0.0910604\ttotal: 8m 2s\tremaining: 34.5s\n",
      "280:\tlearn: 0.0910000\ttotal: 8m 4s\tremaining: 32.8s\n",
      "281:\tlearn: 0.0908270\ttotal: 8m 6s\tremaining: 31s\n",
      "282:\tlearn: 0.0907676\ttotal: 8m 8s\tremaining: 29.3s\n",
      "283:\tlearn: 0.0907081\ttotal: 8m 9s\tremaining: 27.6s\n",
      "284:\tlearn: 0.0906472\ttotal: 8m 11s\tremaining: 25.9s\n",
      "285:\tlearn: 0.0905390\ttotal: 8m 13s\tremaining: 24.1s\n",
      "286:\tlearn: 0.0904785\ttotal: 8m 14s\tremaining: 22.4s\n",
      "287:\tlearn: 0.0904178\ttotal: 8m 16s\tremaining: 20.7s\n",
      "288:\tlearn: 0.0903605\ttotal: 8m 18s\tremaining: 19s\n",
      "289:\tlearn: 0.0902996\ttotal: 8m 20s\tremaining: 17.2s\n",
      "290:\tlearn: 0.0902419\ttotal: 8m 21s\tremaining: 15.5s\n",
      "291:\tlearn: 0.0901826\ttotal: 8m 23s\tremaining: 13.8s\n",
      "292:\tlearn: 0.0901054\ttotal: 8m 25s\tremaining: 12.1s\n",
      "293:\tlearn: 0.0900460\ttotal: 8m 26s\tremaining: 10.3s\n",
      "294:\tlearn: 0.0898987\ttotal: 8m 28s\tremaining: 8.62s\n",
      "295:\tlearn: 0.0898397\ttotal: 8m 30s\tremaining: 6.9s\n",
      "296:\tlearn: 0.0897701\ttotal: 8m 32s\tremaining: 5.17s\n",
      "297:\tlearn: 0.0896957\ttotal: 8m 33s\tremaining: 3.45s\n",
      "298:\tlearn: 0.0896396\ttotal: 8m 35s\tremaining: 1.72s\n",
      "299:\tlearn: 0.0895812\ttotal: 8m 37s\tremaining: 0us\n",
      "CPU times: total: 44min 53s\n",
      "Wall time: 53min 44s\n"
     ]
    }
   ],
   "source": [
    "%%time\n",
    "parametres_cbc = {'cbc__iterations':[100, 300],\n",
    "                 'cbc__depth':[7, 8]}\n",
    "\n",
    "grid_cbc = GridSearchCV(estimator=pipe_cbc,\n",
    "                         param_grid=parametres_cbc,\n",
    "                         cv=3,\n",
    "                         scoring=make_scorer(f1_score),\n",
    "                         n_jobs=-1)\n",
    "\n",
    "search_cbc = grid_cbc.fit(X_train, y_train)"
   ]
  },
  {
   "cell_type": "markdown",
   "metadata": {},
   "source": [
    "Получим лучшие параметры модели"
   ]
  },
  {
   "cell_type": "code",
   "execution_count": 56,
   "metadata": {},
   "outputs": [
    {
     "data": {
      "text/plain": [
       "{'cbc__depth': 8, 'cbc__iterations': 300}"
      ]
     },
     "execution_count": 56,
     "metadata": {},
     "output_type": "execute_result"
    }
   ],
   "source": [
    "grid_cbc.best_params_"
   ]
  },
  {
   "cell_type": "markdown",
   "metadata": {},
   "source": [
    "Получим её точность"
   ]
  },
  {
   "cell_type": "code",
   "execution_count": 57,
   "metadata": {},
   "outputs": [
    {
     "name": "stdout",
     "output_type": "stream",
     "text": [
      "F1: 0.7510363407178146\n"
     ]
    }
   ],
   "source": [
    "f1_y_pred = search_cbc.best_score_\n",
    "print(\"F1:\", f1_y_pred)"
   ]
  },
  {
   "cell_type": "markdown",
   "metadata": {
    "id": "DH1vuUV2HEWB"
   },
   "source": [
    "<a id='my_section_22'></a>\n",
    "### [Заключение](#content_22)"
   ]
  },
  {
   "cell_type": "markdown",
   "metadata": {
    "id": "WkLgsM5qHEWB"
   },
   "source": [
    "В ходе эксперимента модели показали следующие значения метрики f1:\n",
    "- LogisticRegression(указаны разные способы балансирования класса):\n",
    "    - Upsample — 0.7515383563517024;\n",
    "    - Balanced — 0.7458630431857931;\n",
    "    - GridSearchCV + Pipeline — 0.7662235157453029.\n",
    "    \n",
    "- CatBoostClassifier — 0.7468408348715037;\n",
    "    - GridSearchCV + Pipeline — 0.7261040600781233.\n",
    "\n",
    "В результате была выбрана модель `LogisticRegression`(f1: 0.7662) для изучения на тестовой выборке."
   ]
  },
  {
   "cell_type": "markdown",
   "metadata": {
    "id": "RdQ3vcRtHEWC"
   },
   "source": [
    "<a id='my_section_23'></a>\n",
    "## [Тестирование](#content_23)"
   ]
  },
  {
   "cell_type": "code",
   "execution_count": 58,
   "metadata": {},
   "outputs": [
    {
     "name": "stdout",
     "output_type": "stream",
     "text": [
      "Тестирование лучшей модели LogisticRegression показало точность: 0.768858495528669\n"
     ]
    }
   ],
   "source": [
    "test_predict_lr = search_lr.best_estimator_.predict(X_test)\n",
    "test_f1_score_lr = f1_score(y_test, test_predict_lr)\n",
    "print(f'Тестирование лучшей модели LogisticRegression показало точность: {test_f1_score_lr}')"
   ]
  },
  {
   "cell_type": "markdown",
   "metadata": {
    "id": "bmGtkutzHEWC"
   },
   "source": [
    "<a id='my_section_24'></a>\n",
    "## [Выводы](#content_24)"
   ]
  },
  {
   "cell_type": "markdown",
   "metadata": {
    "editable": true,
    "id": "juFexwQVHEWC",
    "slideshow": {
     "slide_type": ""
    },
    "tags": []
   },
   "source": [
    "В проекте проведен ряд мер по подготовке данных и их применению:\n",
    "1. В процессе подготовки данных:    \n",
    "    - Загружены модули и библиотеки, набор данных;\n",
    "    - Произведён первичный анализ, выявлено, что целевой признак несбалансирован;\n",
    "    - упрощен текст, проведены:\n",
    "        - токенизация;\n",
    "        - лемматизация.\n",
    "    - данные разделены на выбоки;\n",
    "    - произведен ребаланс классов техникой unsampling;\n",
    "    - разбитые данные получили веторизацию TF_IDF.\n",
    "    \n",
    "2. Для обучения были выбраны разные модели, они показали точность:\n",
    "    - LogisticRegression(разное балансирование):\n",
    "        - Upsample (0.7550133221147104);\n",
    "        - Balanced (0.7489677952105697);\n",
    "        - GridSearchCV+Pipeline (0.7662235157453029).\n",
    "    - CatBoostClassifier (0.7468408348715037);\n",
    "        - GridSearchCV+Pipeline (0.7261040600781233).\n",
    "    \n",
    "3. Проведено тестирование выбранной модели(LogisticRegression(GridSearchCV+Pipeline), показавшей значение метрики f1:\n",
    "    - 0.768858495528669.\n",
    "    \n",
    "Обучена модель для классификации комментариев на позитивные и негативные. Точность модели удовлетворяет критерию заказчика.    \n",
    "\n"
   ]
  }
 ],
 "metadata": {
  "accelerator": "GPU",
  "colab": {
   "gpuType": "T4",
   "provenance": []
  },
  "kernelspec": {
   "display_name": "Python 3 (ipykernel)",
   "language": "python",
   "name": "python3"
  },
  "language_info": {
   "codemirror_mode": {
    "name": "ipython",
    "version": 3
   },
   "file_extension": ".py",
   "mimetype": "text/x-python",
   "name": "python",
   "nbconvert_exporter": "python",
   "pygments_lexer": "ipython3",
   "version": "3.11.5"
  },
  "toc": {
   "base_numbering": 1,
   "nav_menu": {},
   "number_sections": true,
   "sideBar": true,
   "skip_h1_title": true,
   "title_cell": "Содержание",
   "title_sidebar": "Contents",
   "toc_cell": true,
   "toc_position": {
    "height": "calc(100% - 180px)",
    "left": "10px",
    "top": "150px",
    "width": "302.391px"
   },
   "toc_section_display": true,
   "toc_window_display": true
  },
  "widgets": {
   "application/vnd.jupyter.widget-state+json": {
    "23313962bd4e4bcfa99e2aa5ce66ac26": {
     "model_module": "@jupyter-widgets/base",
     "model_module_version": "1.2.0",
     "model_name": "LayoutModel",
     "state": {
      "_model_module": "@jupyter-widgets/base",
      "_model_module_version": "1.2.0",
      "_model_name": "LayoutModel",
      "_view_count": null,
      "_view_module": "@jupyter-widgets/base",
      "_view_module_version": "1.2.0",
      "_view_name": "LayoutView",
      "align_content": null,
      "align_items": null,
      "align_self": null,
      "border": null,
      "bottom": null,
      "display": null,
      "flex": null,
      "flex_flow": null,
      "grid_area": null,
      "grid_auto_columns": null,
      "grid_auto_flow": null,
      "grid_auto_rows": null,
      "grid_column": null,
      "grid_gap": null,
      "grid_row": null,
      "grid_template_areas": null,
      "grid_template_columns": null,
      "grid_template_rows": null,
      "height": null,
      "justify_content": null,
      "justify_items": null,
      "left": null,
      "margin": null,
      "max_height": null,
      "max_width": null,
      "min_height": null,
      "min_width": null,
      "object_fit": null,
      "object_position": null,
      "order": null,
      "overflow": null,
      "overflow_x": null,
      "overflow_y": null,
      "padding": null,
      "right": null,
      "top": null,
      "visibility": null,
      "width": null
     }
    },
    "27d873ea3a874262b40a5bc90e532ebb": {
     "model_module": "@jupyter-widgets/controls",
     "model_module_version": "1.5.0",
     "model_name": "FloatProgressModel",
     "state": {
      "_dom_classes": [],
      "_model_module": "@jupyter-widgets/controls",
      "_model_module_version": "1.5.0",
      "_model_name": "FloatProgressModel",
      "_view_count": null,
      "_view_module": "@jupyter-widgets/controls",
      "_view_module_version": "1.5.0",
      "_view_name": "ProgressView",
      "bar_style": "danger",
      "description": "",
      "description_tooltip": null,
      "layout": "IPY_MODEL_23313962bd4e4bcfa99e2aa5ce66ac26",
      "max": 4,
      "min": 0,
      "orientation": "horizontal",
      "style": "IPY_MODEL_c3db7695ba844a7b9044cfa7363b795e",
      "value": 0
     }
    },
    "45e47f96efb847628c02d9c9d076d525": {
     "model_module": "@jupyter-widgets/controls",
     "model_module_version": "1.5.0",
     "model_name": "DescriptionStyleModel",
     "state": {
      "_model_module": "@jupyter-widgets/controls",
      "_model_module_version": "1.5.0",
      "_model_name": "DescriptionStyleModel",
      "_view_count": null,
      "_view_module": "@jupyter-widgets/base",
      "_view_module_version": "1.2.0",
      "_view_name": "StyleView",
      "description_width": ""
     }
    },
    "4ec28b4a64984dc9bd20aa8d3b2ae288": {
     "model_module": "@jupyter-widgets/controls",
     "model_module_version": "1.5.0",
     "model_name": "HTMLModel",
     "state": {
      "_dom_classes": [],
      "_model_module": "@jupyter-widgets/controls",
      "_model_module_version": "1.5.0",
      "_model_name": "HTMLModel",
      "_view_count": null,
      "_view_module": "@jupyter-widgets/controls",
      "_view_module_version": "1.5.0",
      "_view_name": "HTMLView",
      "description": "",
      "description_tooltip": null,
      "layout": "IPY_MODEL_cfed8419bc4f446ba56ba3e7bcc54cbe",
      "placeholder": "​",
      "style": "IPY_MODEL_ce703d90725d4ac88b609c346b2d6809",
      "value": " 0/4 [00:03&lt;?, ?it/s]"
     }
    },
    "77e107df1f1f44529a9e804e0c17e3c9": {
     "model_module": "@jupyter-widgets/controls",
     "model_module_version": "1.5.0",
     "model_name": "HTMLModel",
     "state": {
      "_dom_classes": [],
      "_model_module": "@jupyter-widgets/controls",
      "_model_module_version": "1.5.0",
      "_model_name": "HTMLModel",
      "_view_count": null,
      "_view_module": "@jupyter-widgets/controls",
      "_view_module_version": "1.5.0",
      "_view_name": "HTMLView",
      "description": "",
      "description_tooltip": null,
      "layout": "IPY_MODEL_e818d82a71d749a58f9006703bbbf0f8",
      "placeholder": "​",
      "style": "IPY_MODEL_45e47f96efb847628c02d9c9d076d525",
      "value": "  0%"
     }
    },
    "a49497fab9514418a6d02a1988355912": {
     "model_module": "@jupyter-widgets/controls",
     "model_module_version": "1.5.0",
     "model_name": "HBoxModel",
     "state": {
      "_dom_classes": [],
      "_model_module": "@jupyter-widgets/controls",
      "_model_module_version": "1.5.0",
      "_model_name": "HBoxModel",
      "_view_count": null,
      "_view_module": "@jupyter-widgets/controls",
      "_view_module_version": "1.5.0",
      "_view_name": "HBoxView",
      "box_style": "",
      "children": [
       "IPY_MODEL_77e107df1f1f44529a9e804e0c17e3c9",
       "IPY_MODEL_27d873ea3a874262b40a5bc90e532ebb",
       "IPY_MODEL_4ec28b4a64984dc9bd20aa8d3b2ae288"
      ],
      "layout": "IPY_MODEL_df877f137eb04ba682817b28e192b6b6"
     }
    },
    "c3db7695ba844a7b9044cfa7363b795e": {
     "model_module": "@jupyter-widgets/controls",
     "model_module_version": "1.5.0",
     "model_name": "ProgressStyleModel",
     "state": {
      "_model_module": "@jupyter-widgets/controls",
      "_model_module_version": "1.5.0",
      "_model_name": "ProgressStyleModel",
      "_view_count": null,
      "_view_module": "@jupyter-widgets/base",
      "_view_module_version": "1.2.0",
      "_view_name": "StyleView",
      "bar_color": null,
      "description_width": ""
     }
    },
    "ce703d90725d4ac88b609c346b2d6809": {
     "model_module": "@jupyter-widgets/controls",
     "model_module_version": "1.5.0",
     "model_name": "DescriptionStyleModel",
     "state": {
      "_model_module": "@jupyter-widgets/controls",
      "_model_module_version": "1.5.0",
      "_model_name": "DescriptionStyleModel",
      "_view_count": null,
      "_view_module": "@jupyter-widgets/base",
      "_view_module_version": "1.2.0",
      "_view_name": "StyleView",
      "description_width": ""
     }
    },
    "cfed8419bc4f446ba56ba3e7bcc54cbe": {
     "model_module": "@jupyter-widgets/base",
     "model_module_version": "1.2.0",
     "model_name": "LayoutModel",
     "state": {
      "_model_module": "@jupyter-widgets/base",
      "_model_module_version": "1.2.0",
      "_model_name": "LayoutModel",
      "_view_count": null,
      "_view_module": "@jupyter-widgets/base",
      "_view_module_version": "1.2.0",
      "_view_name": "LayoutView",
      "align_content": null,
      "align_items": null,
      "align_self": null,
      "border": null,
      "bottom": null,
      "display": null,
      "flex": null,
      "flex_flow": null,
      "grid_area": null,
      "grid_auto_columns": null,
      "grid_auto_flow": null,
      "grid_auto_rows": null,
      "grid_column": null,
      "grid_gap": null,
      "grid_row": null,
      "grid_template_areas": null,
      "grid_template_columns": null,
      "grid_template_rows": null,
      "height": null,
      "justify_content": null,
      "justify_items": null,
      "left": null,
      "margin": null,
      "max_height": null,
      "max_width": null,
      "min_height": null,
      "min_width": null,
      "object_fit": null,
      "object_position": null,
      "order": null,
      "overflow": null,
      "overflow_x": null,
      "overflow_y": null,
      "padding": null,
      "right": null,
      "top": null,
      "visibility": null,
      "width": null
     }
    },
    "df877f137eb04ba682817b28e192b6b6": {
     "model_module": "@jupyter-widgets/base",
     "model_module_version": "1.2.0",
     "model_name": "LayoutModel",
     "state": {
      "_model_module": "@jupyter-widgets/base",
      "_model_module_version": "1.2.0",
      "_model_name": "LayoutModel",
      "_view_count": null,
      "_view_module": "@jupyter-widgets/base",
      "_view_module_version": "1.2.0",
      "_view_name": "LayoutView",
      "align_content": null,
      "align_items": null,
      "align_self": null,
      "border": null,
      "bottom": null,
      "display": null,
      "flex": null,
      "flex_flow": null,
      "grid_area": null,
      "grid_auto_columns": null,
      "grid_auto_flow": null,
      "grid_auto_rows": null,
      "grid_column": null,
      "grid_gap": null,
      "grid_row": null,
      "grid_template_areas": null,
      "grid_template_columns": null,
      "grid_template_rows": null,
      "height": null,
      "justify_content": null,
      "justify_items": null,
      "left": null,
      "margin": null,
      "max_height": null,
      "max_width": null,
      "min_height": null,
      "min_width": null,
      "object_fit": null,
      "object_position": null,
      "order": null,
      "overflow": null,
      "overflow_x": null,
      "overflow_y": null,
      "padding": null,
      "right": null,
      "top": null,
      "visibility": null,
      "width": null
     }
    },
    "e818d82a71d749a58f9006703bbbf0f8": {
     "model_module": "@jupyter-widgets/base",
     "model_module_version": "1.2.0",
     "model_name": "LayoutModel",
     "state": {
      "_model_module": "@jupyter-widgets/base",
      "_model_module_version": "1.2.0",
      "_model_name": "LayoutModel",
      "_view_count": null,
      "_view_module": "@jupyter-widgets/base",
      "_view_module_version": "1.2.0",
      "_view_name": "LayoutView",
      "align_content": null,
      "align_items": null,
      "align_self": null,
      "border": null,
      "bottom": null,
      "display": null,
      "flex": null,
      "flex_flow": null,
      "grid_area": null,
      "grid_auto_columns": null,
      "grid_auto_flow": null,
      "grid_auto_rows": null,
      "grid_column": null,
      "grid_gap": null,
      "grid_row": null,
      "grid_template_areas": null,
      "grid_template_columns": null,
      "grid_template_rows": null,
      "height": null,
      "justify_content": null,
      "justify_items": null,
      "left": null,
      "margin": null,
      "max_height": null,
      "max_width": null,
      "min_height": null,
      "min_width": null,
      "object_fit": null,
      "object_position": null,
      "order": null,
      "overflow": null,
      "overflow_x": null,
      "overflow_y": null,
      "padding": null,
      "right": null,
      "top": null,
      "visibility": null,
      "width": null
     }
    }
   }
  }
 },
 "nbformat": 4,
 "nbformat_minor": 4
}
