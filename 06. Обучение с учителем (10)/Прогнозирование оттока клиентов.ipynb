{
 "cells": [
  {
   "cell_type": "markdown",
   "metadata": {
    "editable": true,
    "slideshow": {
     "slide_type": ""
    },
    "tags": []
   },
   "source": [
    "# Прогнозирование оттока клиентов"
   ]
  },
  {
   "cell_type": "markdown",
   "metadata": {
    "editable": true,
    "slideshow": {
     "slide_type": ""
    },
    "tags": []
   },
   "source": [
    "**Основная задача:** \n",
    "Подготовить модель, которая позволит спрогнозировать, уйдёт клиент из банка в ближайшее время или нет.\n",
    "\n",
    "**Цель исследования:**\n",
    "- Построить модель с предельно большим значением F1-меры, довести метрику до 0.59.\n",
    "- Проверить F1-меру на тестовой выборке.\n",
    "- Провести измерение AUC-ROC, сравнивать её значение с F1-мерой.\n",
    "\n",
    "**План работы:**\n",
    "1. Выгрузить данные, изучить, обработать и подготовить для дальнейшей работы.\n",
    "2. Исследовать задачу с учётом дисбаланса классов\n",
    "3. Исследовать задачу, избавившись от дисбаланса\n",
    "4. Провести тестирование лучшей модели\n",
    "5. Написать вывод\n",
    "\n",
    "**Описание данных:**\n",
    "\n",
    "Признаки:\n",
    "- RowNumber — индекс строки в данных\n",
    "- CustomerId — уникальный идентификатор клиента\n",
    "- Surname — фамилия\n",
    "- CreditScore — кредитный рейтинг\n",
    "- Geography — страна проживания\n",
    "- Gender — пол\n",
    "- Age — возраст\n",
    "- Tenure — сколько лет человек является клиентом банка\n",
    "- Balance — баланс на счёте\n",
    "- NumOfProducts — количество продуктов банка, используемых клиентом\n",
    "- HasCrCard — наличие кредитной карты\n",
    "- IsActiveMember — активность клиента\n",
    "- EstimatedSalary — предполагаемая зарплата\n",
    "\n",
    "Целевой признак:\n",
    "- Exited — факт ухода клиента\n",
    "\n",
    "Источник данных: [https://www.kaggle.com/barelydedicated/bank-customer-churn-modeling](https://www.kaggle.com/barelydedicated/bank-customer-churn-modeling)"
   ]
  },
  {
   "cell_type": "markdown",
   "metadata": {
    "editable": true,
    "slideshow": {
     "slide_type": ""
    },
    "tags": [],
    "toc": true
   },
   "source": [
    "<h1>Содержание<span class=\"tocSkip\"></span></h1>\n",
    "<div class=\"toc\"><ul class=\"toc-item\"><li><span><a href=\"#Подготовка-данных\" data-toc-modified-id=\"Подготовка-данных-1\"><span class=\"toc-item-num\">1&nbsp;&nbsp;</span>Подготовка данных</a></span><ul class=\"toc-item\"><li><span><a href=\"#Загрузка-и-изучение\" data-toc-modified-id=\"Загрузка-и-изучение-1.1\"><span class=\"toc-item-num\">1.1&nbsp;&nbsp;</span>Загрузка и изучение</a></span><ul class=\"toc-item\"><li><span><a href=\"#Выгрузка\" data-toc-modified-id=\"Выгрузка-1.1.1\"><span class=\"toc-item-num\">1.1.1&nbsp;&nbsp;</span>Выгрузка</a></span></li><li><span><a href=\"#Ознакомление\" data-toc-modified-id=\"Ознакомление-1.1.2\"><span class=\"toc-item-num\">1.1.2&nbsp;&nbsp;</span>Ознакомление</a></span></li><li><span><a href=\"#Корреляция\" data-toc-modified-id=\"Корреляция-1.1.3\"><span class=\"toc-item-num\">1.1.3&nbsp;&nbsp;</span>Корреляция</a></span></li><li><span><a href=\"#Проверка-на-дубликаты\" data-toc-modified-id=\"Проверка-на-дубликаты-1.1.4\"><span class=\"toc-item-num\">1.1.4&nbsp;&nbsp;</span>Проверка на дубликаты</a></span></li><li><span><a href=\"#Сбалансированность-целевого-признака\" data-toc-modified-id=\"Сбалансированность-целевого-признака-1.1.5\"><span class=\"toc-item-num\">1.1.5&nbsp;&nbsp;</span>Сбалансированность целевого признака</a></span></li><li><span><a href=\"#Вывод\" data-toc-modified-id=\"Вывод-1.1.6\"><span class=\"toc-item-num\">1.1.6&nbsp;&nbsp;</span>Вывод</a></span></li></ul></li><li><span><a href=\"#Подготовка-данных\" data-toc-modified-id=\"Подготовка-данных-1.2\"><span class=\"toc-item-num\">1.2&nbsp;&nbsp;</span>Подготовка данных</a></span><ul class=\"toc-item\"><li><span><a href=\"#Обработка-пропусков\" data-toc-modified-id=\"Обработка-пропусков-1.2.1\"><span class=\"toc-item-num\">1.2.1&nbsp;&nbsp;</span>Обработка пропусков</a></span></li><li><span><a href=\"#Изменение-типов-данных\" data-toc-modified-id=\"Изменение-типов-данных-1.2.2\"><span class=\"toc-item-num\">1.2.2&nbsp;&nbsp;</span>Изменение типов данных</a></span></li><li><span><a href=\"#Структурирование\" data-toc-modified-id=\"Структурирование-1.2.3\"><span class=\"toc-item-num\">1.2.3&nbsp;&nbsp;</span>Структурирование</a></span></li><li><span><a href=\"#Разделение-на-выборки\" data-toc-modified-id=\"Разделение-на-выборки-1.2.4\"><span class=\"toc-item-num\">1.2.4&nbsp;&nbsp;</span>Разделение на выборки</a></span></li><li><span><a href=\"#Техника-кодирования-OHE\" data-toc-modified-id=\"Техника-кодирования-OHE-1.2.5\"><span class=\"toc-item-num\">1.2.5&nbsp;&nbsp;</span>Техника кодирования OHE</a></span></li><li><span><a href=\"#Масштабирование-признаков\" data-toc-modified-id=\"Масштабирование-признаков-1.2.6\"><span class=\"toc-item-num\">1.2.6&nbsp;&nbsp;</span>Масштабирование признаков</a></span></li></ul></li></ul></li><li><span><a href=\"#Исследование-задачи\" data-toc-modified-id=\"Исследование-задачи-2\"><span class=\"toc-item-num\">2&nbsp;&nbsp;</span>Исследование задачи</a></span><ul class=\"toc-item\"><li><span><a href=\"#Модель-DecisionTreeClassifier\" data-toc-modified-id=\"Модель-DecisionTreeClassifier-2.1\"><span class=\"toc-item-num\">2.1&nbsp;&nbsp;</span>Модель DecisionTreeClassifier</a></span></li><li><span><a href=\"#Модель-RandomForestClassifier\" data-toc-modified-id=\"Модель-RandomForestClassifier-2.2\"><span class=\"toc-item-num\">2.2&nbsp;&nbsp;</span>Модель RandomForestClassifier</a></span></li><li><span><a href=\"#Модель-LogisticRegression\" data-toc-modified-id=\"Модель-LogisticRegression-2.3\"><span class=\"toc-item-num\">2.3&nbsp;&nbsp;</span>Модель LogisticRegression</a></span></li><li><span><a href=\"#Заключение\" data-toc-modified-id=\"Заключение-2.4\"><span class=\"toc-item-num\">2.4&nbsp;&nbsp;</span>Заключение</a></span></li></ul></li><li><span><a href=\"#Борьба-с-дисбалансом\" data-toc-modified-id=\"Борьба-с-дисбалансом-3\"><span class=\"toc-item-num\">3&nbsp;&nbsp;</span>Борьба с дисбалансом</a></span><ul class=\"toc-item\"><li><span><a href=\"#Увеличение-выборки\" data-toc-modified-id=\"Увеличение-выборки-3.1\"><span class=\"toc-item-num\">3.1&nbsp;&nbsp;</span>Увеличение выборки</a></span></li><li><span><a href=\"#Уменьшение-выборки\" data-toc-modified-id=\"Уменьшение-выборки-3.2\"><span class=\"toc-item-num\">3.2&nbsp;&nbsp;</span>Уменьшение выборки</a></span></li><li><span><a href=\"#Модель-DecisionTreeClassifier\" data-toc-modified-id=\"Модель-DecisionTreeClassifier-3.3\"><span class=\"toc-item-num\">3.3&nbsp;&nbsp;</span>Модель DecisionTreeClassifier</a></span><ul class=\"toc-item\"><li><span><a href=\"#Взвешивание-классов\" data-toc-modified-id=\"Взвешивание-классов-3.3.1\"><span class=\"toc-item-num\">3.3.1&nbsp;&nbsp;</span>Взвешивание классов</a></span></li><li><span><a href=\"#Обучение-на-увеличенной-выборке\" data-toc-modified-id=\"Обучение-на-увеличенной-выборке-3.3.2\"><span class=\"toc-item-num\">3.3.2&nbsp;&nbsp;</span>Обучение на увеличенной выборке</a></span></li><li><span><a href=\"#Обучение-на-уменьшенной-выборке\" data-toc-modified-id=\"Обучение-на-уменьшенной-выборке-3.3.3\"><span class=\"toc-item-num\">3.3.3&nbsp;&nbsp;</span>Обучение на уменьшенной выборке</a></span></li></ul></li><li><span><a href=\"#Модель-RandomForestClassifier\" data-toc-modified-id=\"Модель-RandomForestClassifier-3.4\"><span class=\"toc-item-num\">3.4&nbsp;&nbsp;</span>Модель RandomForestClassifier</a></span><ul class=\"toc-item\"><li><span><a href=\"#Взвешивание-классов\" data-toc-modified-id=\"Взвешивание-классов-3.4.1\"><span class=\"toc-item-num\">3.4.1&nbsp;&nbsp;</span>Взвешивание классов</a></span></li><li><span><a href=\"#Обучение-на-увеличенной-выборке\" data-toc-modified-id=\"Обучение-на-увеличенной-выборке-3.4.2\"><span class=\"toc-item-num\">3.4.2&nbsp;&nbsp;</span>Обучение на увеличенной выборке</a></span></li><li><span><a href=\"#Обучение-на-уменьшенной-выборке\" data-toc-modified-id=\"Обучение-на-уменьшенной-выборке-3.4.3\"><span class=\"toc-item-num\">3.4.3&nbsp;&nbsp;</span>Обучение на уменьшенной выборке</a></span></li></ul></li><li><span><a href=\"#Модель-LogisticRegression\" data-toc-modified-id=\"Модель-LogisticRegression-3.5\"><span class=\"toc-item-num\">3.5&nbsp;&nbsp;</span>Модель LogisticRegression</a></span><ul class=\"toc-item\"><li><span><a href=\"#Взвешивание-классов\" data-toc-modified-id=\"Взвешивание-классов-3.5.1\"><span class=\"toc-item-num\">3.5.1&nbsp;&nbsp;</span>Взвешивание классов</a></span></li><li><span><a href=\"#Обучение-на-увеличенной-выборке\" data-toc-modified-id=\"Обучение-на-увеличенной-выборке-3.5.2\"><span class=\"toc-item-num\">3.5.2&nbsp;&nbsp;</span>Обучение на увеличенной выборке</a></span></li><li><span><a href=\"#Обучение-на-уменьшенной-выборке\" data-toc-modified-id=\"Обучение-на-уменьшенной-выборке-3.5.3\"><span class=\"toc-item-num\">3.5.3&nbsp;&nbsp;</span>Обучение на уменьшенной выборке</a></span></li></ul></li><li><span><a href=\"#Заключение\" data-toc-modified-id=\"Заключение-3.6\"><span class=\"toc-item-num\">3.6&nbsp;&nbsp;</span>Заключение</a></span></li></ul></li><li><span><a href=\"#Тестирование-модели\" data-toc-modified-id=\"Тестирование-модели-4\"><span class=\"toc-item-num\">4&nbsp;&nbsp;</span>Тестирование модели</a></span><ul class=\"toc-item\"><li><span><a href=\"#Тестирование\" data-toc-modified-id=\"Тестирование-4.1\"><span class=\"toc-item-num\">4.1&nbsp;&nbsp;</span>Тестирование</a></span></li><li><span><a href=\"#Метрика-AUC-ROC\" data-toc-modified-id=\"Метрика-AUC-ROC-4.2\"><span class=\"toc-item-num\">4.2&nbsp;&nbsp;</span>Метрика AUC-ROC</a></span></li><li><span><a href=\"#Заключение\" data-toc-modified-id=\"Заключение-4.3\"><span class=\"toc-item-num\">4.3&nbsp;&nbsp;</span>Заключение</a></span></li></ul></li>"
   ]
  },
  {
   "cell_type": "markdown",
   "metadata": {
    "editable": true,
    "slideshow": {
     "slide_type": ""
    },
    "tags": []
   },
   "source": [
    "## Подготовка данных"
   ]
  },
  {
   "cell_type": "markdown",
   "metadata": {
    "editable": true,
    "slideshow": {
     "slide_type": ""
    },
    "tags": []
   },
   "source": [
    "Проведём загрузку, изучение и обработку данных"
   ]
  },
  {
   "cell_type": "markdown",
   "metadata": {
    "editable": true,
    "slideshow": {
     "slide_type": ""
    },
    "tags": []
   },
   "source": [
    "### Загрузка и изучение"
   ]
  },
  {
   "cell_type": "code",
   "execution_count": 1,
   "metadata": {
    "editable": true,
    "slideshow": {
     "slide_type": ""
    },
    "tags": []
   },
   "outputs": [],
   "source": [
    "#!pip install scikit-learn==1.1.3\n",
    "#!pip install tqdm"
   ]
  },
  {
   "cell_type": "markdown",
   "metadata": {
    "editable": true,
    "slideshow": {
     "slide_type": ""
    },
    "tags": []
   },
   "source": [
    "#### Выгрузка"
   ]
  },
  {
   "cell_type": "markdown",
   "metadata": {},
   "source": [
    "Создадим блок для импорта нужных в работе библиотек"
   ]
  },
  {
   "cell_type": "code",
   "execution_count": 2,
   "metadata": {
    "editable": true,
    "slideshow": {
     "slide_type": ""
    },
    "tags": []
   },
   "outputs": [],
   "source": [
    "import pandas as pd\n",
    "import matplotlib.pyplot as plt\n",
    "\n",
    "from sklearn.model_selection import train_test_split\n",
    "from sklearn.preprocessing import StandardScaler, OneHotEncoder\n",
    "from sklearn.metrics import (\n",
    "    f1_score,\n",
    "    roc_auc_score,\n",
    "    roc_curve,\n",
    "    recall_score\n",
    ")\n",
    "from sklearn.utils import shuffle\n",
    "from sklearn.tree import DecisionTreeClassifier\n",
    "from sklearn.ensemble import RandomForestClassifier\n",
    "from sklearn.linear_model import LogisticRegression\n",
    "\n",
    "from tqdm import tqdm"
   ]
  },
  {
   "cell_type": "markdown",
   "metadata": {
    "editable": true,
    "slideshow": {
     "slide_type": ""
    },
    "tags": []
   },
   "source": [
    "Выгрузим данные в переменную data"
   ]
  },
  {
   "cell_type": "code",
   "execution_count": 3,
   "metadata": {
    "editable": true,
    "slideshow": {
     "slide_type": ""
    },
    "tags": []
   },
   "outputs": [],
   "source": [
    "try:\n",
    "    data = pd.read_csv('Churn.csv')\n",
    "except:\n",
    "    data = pd.read_csv('https:..')"
   ]
  },
  {
   "cell_type": "markdown",
   "metadata": {},
   "source": [
    "#### Ознакомление"
   ]
  },
  {
   "cell_type": "markdown",
   "metadata": {},
   "source": [
    "Ознакомление с первыми 10 строками таблицы"
   ]
  },
  {
   "cell_type": "code",
   "execution_count": 4,
   "metadata": {},
   "outputs": [
    {
     "data": {
      "text/html": [
       "<div>\n",
       "<style scoped>\n",
       "    .dataframe tbody tr th:only-of-type {\n",
       "        vertical-align: middle;\n",
       "    }\n",
       "\n",
       "    .dataframe tbody tr th {\n",
       "        vertical-align: top;\n",
       "    }\n",
       "\n",
       "    .dataframe thead th {\n",
       "        text-align: right;\n",
       "    }\n",
       "</style>\n",
       "<table border=\"1\" class=\"dataframe\">\n",
       "  <thead>\n",
       "    <tr style=\"text-align: right;\">\n",
       "      <th></th>\n",
       "      <th>RowNumber</th>\n",
       "      <th>CustomerId</th>\n",
       "      <th>Surname</th>\n",
       "      <th>CreditScore</th>\n",
       "      <th>Geography</th>\n",
       "      <th>Gender</th>\n",
       "      <th>Age</th>\n",
       "      <th>Tenure</th>\n",
       "      <th>Balance</th>\n",
       "      <th>NumOfProducts</th>\n",
       "      <th>HasCrCard</th>\n",
       "      <th>IsActiveMember</th>\n",
       "      <th>EstimatedSalary</th>\n",
       "      <th>Exited</th>\n",
       "    </tr>\n",
       "  </thead>\n",
       "  <tbody>\n",
       "    <tr>\n",
       "      <th>0</th>\n",
       "      <td>1</td>\n",
       "      <td>15634602</td>\n",
       "      <td>Hargrave</td>\n",
       "      <td>619</td>\n",
       "      <td>France</td>\n",
       "      <td>Female</td>\n",
       "      <td>42</td>\n",
       "      <td>2.0</td>\n",
       "      <td>0.00</td>\n",
       "      <td>1</td>\n",
       "      <td>1</td>\n",
       "      <td>1</td>\n",
       "      <td>101348.88</td>\n",
       "      <td>1</td>\n",
       "    </tr>\n",
       "    <tr>\n",
       "      <th>1</th>\n",
       "      <td>2</td>\n",
       "      <td>15647311</td>\n",
       "      <td>Hill</td>\n",
       "      <td>608</td>\n",
       "      <td>Spain</td>\n",
       "      <td>Female</td>\n",
       "      <td>41</td>\n",
       "      <td>1.0</td>\n",
       "      <td>83807.86</td>\n",
       "      <td>1</td>\n",
       "      <td>0</td>\n",
       "      <td>1</td>\n",
       "      <td>112542.58</td>\n",
       "      <td>0</td>\n",
       "    </tr>\n",
       "    <tr>\n",
       "      <th>2</th>\n",
       "      <td>3</td>\n",
       "      <td>15619304</td>\n",
       "      <td>Onio</td>\n",
       "      <td>502</td>\n",
       "      <td>France</td>\n",
       "      <td>Female</td>\n",
       "      <td>42</td>\n",
       "      <td>8.0</td>\n",
       "      <td>159660.80</td>\n",
       "      <td>3</td>\n",
       "      <td>1</td>\n",
       "      <td>0</td>\n",
       "      <td>113931.57</td>\n",
       "      <td>1</td>\n",
       "    </tr>\n",
       "    <tr>\n",
       "      <th>3</th>\n",
       "      <td>4</td>\n",
       "      <td>15701354</td>\n",
       "      <td>Boni</td>\n",
       "      <td>699</td>\n",
       "      <td>France</td>\n",
       "      <td>Female</td>\n",
       "      <td>39</td>\n",
       "      <td>1.0</td>\n",
       "      <td>0.00</td>\n",
       "      <td>2</td>\n",
       "      <td>0</td>\n",
       "      <td>0</td>\n",
       "      <td>93826.63</td>\n",
       "      <td>0</td>\n",
       "    </tr>\n",
       "    <tr>\n",
       "      <th>4</th>\n",
       "      <td>5</td>\n",
       "      <td>15737888</td>\n",
       "      <td>Mitchell</td>\n",
       "      <td>850</td>\n",
       "      <td>Spain</td>\n",
       "      <td>Female</td>\n",
       "      <td>43</td>\n",
       "      <td>2.0</td>\n",
       "      <td>125510.82</td>\n",
       "      <td>1</td>\n",
       "      <td>1</td>\n",
       "      <td>1</td>\n",
       "      <td>79084.10</td>\n",
       "      <td>0</td>\n",
       "    </tr>\n",
       "    <tr>\n",
       "      <th>5</th>\n",
       "      <td>6</td>\n",
       "      <td>15574012</td>\n",
       "      <td>Chu</td>\n",
       "      <td>645</td>\n",
       "      <td>Spain</td>\n",
       "      <td>Male</td>\n",
       "      <td>44</td>\n",
       "      <td>8.0</td>\n",
       "      <td>113755.78</td>\n",
       "      <td>2</td>\n",
       "      <td>1</td>\n",
       "      <td>0</td>\n",
       "      <td>149756.71</td>\n",
       "      <td>1</td>\n",
       "    </tr>\n",
       "    <tr>\n",
       "      <th>6</th>\n",
       "      <td>7</td>\n",
       "      <td>15592531</td>\n",
       "      <td>Bartlett</td>\n",
       "      <td>822</td>\n",
       "      <td>France</td>\n",
       "      <td>Male</td>\n",
       "      <td>50</td>\n",
       "      <td>7.0</td>\n",
       "      <td>0.00</td>\n",
       "      <td>2</td>\n",
       "      <td>1</td>\n",
       "      <td>1</td>\n",
       "      <td>10062.80</td>\n",
       "      <td>0</td>\n",
       "    </tr>\n",
       "    <tr>\n",
       "      <th>7</th>\n",
       "      <td>8</td>\n",
       "      <td>15656148</td>\n",
       "      <td>Obinna</td>\n",
       "      <td>376</td>\n",
       "      <td>Germany</td>\n",
       "      <td>Female</td>\n",
       "      <td>29</td>\n",
       "      <td>4.0</td>\n",
       "      <td>115046.74</td>\n",
       "      <td>4</td>\n",
       "      <td>1</td>\n",
       "      <td>0</td>\n",
       "      <td>119346.88</td>\n",
       "      <td>1</td>\n",
       "    </tr>\n",
       "    <tr>\n",
       "      <th>8</th>\n",
       "      <td>9</td>\n",
       "      <td>15792365</td>\n",
       "      <td>He</td>\n",
       "      <td>501</td>\n",
       "      <td>France</td>\n",
       "      <td>Male</td>\n",
       "      <td>44</td>\n",
       "      <td>4.0</td>\n",
       "      <td>142051.07</td>\n",
       "      <td>2</td>\n",
       "      <td>0</td>\n",
       "      <td>1</td>\n",
       "      <td>74940.50</td>\n",
       "      <td>0</td>\n",
       "    </tr>\n",
       "    <tr>\n",
       "      <th>9</th>\n",
       "      <td>10</td>\n",
       "      <td>15592389</td>\n",
       "      <td>H?</td>\n",
       "      <td>684</td>\n",
       "      <td>France</td>\n",
       "      <td>Male</td>\n",
       "      <td>27</td>\n",
       "      <td>2.0</td>\n",
       "      <td>134603.88</td>\n",
       "      <td>1</td>\n",
       "      <td>1</td>\n",
       "      <td>1</td>\n",
       "      <td>71725.73</td>\n",
       "      <td>0</td>\n",
       "    </tr>\n",
       "  </tbody>\n",
       "</table>\n",
       "</div>"
      ],
      "text/plain": [
       "   RowNumber  CustomerId   Surname  CreditScore Geography  Gender  Age  \\\n",
       "0          1    15634602  Hargrave          619    France  Female   42   \n",
       "1          2    15647311      Hill          608     Spain  Female   41   \n",
       "2          3    15619304      Onio          502    France  Female   42   \n",
       "3          4    15701354      Boni          699    France  Female   39   \n",
       "4          5    15737888  Mitchell          850     Spain  Female   43   \n",
       "5          6    15574012       Chu          645     Spain    Male   44   \n",
       "6          7    15592531  Bartlett          822    France    Male   50   \n",
       "7          8    15656148    Obinna          376   Germany  Female   29   \n",
       "8          9    15792365        He          501    France    Male   44   \n",
       "9         10    15592389        H?          684    France    Male   27   \n",
       "\n",
       "   Tenure    Balance  NumOfProducts  HasCrCard  IsActiveMember  \\\n",
       "0     2.0       0.00              1          1               1   \n",
       "1     1.0   83807.86              1          0               1   \n",
       "2     8.0  159660.80              3          1               0   \n",
       "3     1.0       0.00              2          0               0   \n",
       "4     2.0  125510.82              1          1               1   \n",
       "5     8.0  113755.78              2          1               0   \n",
       "6     7.0       0.00              2          1               1   \n",
       "7     4.0  115046.74              4          1               0   \n",
       "8     4.0  142051.07              2          0               1   \n",
       "9     2.0  134603.88              1          1               1   \n",
       "\n",
       "   EstimatedSalary  Exited  \n",
       "0        101348.88       1  \n",
       "1        112542.58       0  \n",
       "2        113931.57       1  \n",
       "3         93826.63       0  \n",
       "4         79084.10       0  \n",
       "5        149756.71       1  \n",
       "6         10062.80       0  \n",
       "7        119346.88       1  \n",
       "8         74940.50       0  \n",
       "9         71725.73       0  "
      ]
     },
     "execution_count": 4,
     "metadata": {},
     "output_type": "execute_result"
    }
   ],
   "source": [
    "data.head(10)"
   ]
  },
  {
   "cell_type": "markdown",
   "metadata": {},
   "source": [
    "Категориальные признаки: \n",
    "- RowNumber; \n",
    "- CustomerId; \n",
    "- Surname; \n",
    "- Geography;\n",
    "- Gender; \n",
    "- Age; \n",
    "- Tenure; \n",
    "- NumOfProducts; \n",
    "- HasCrCard;\n",
    "- IsActiveMember; \n",
    "- Exited.\n",
    "\n",
    "Количественные:\n",
    "- CreditScore;\n",
    "- Balance;\n",
    "- EstimatedSalary."
   ]
  },
  {
   "cell_type": "markdown",
   "metadata": {},
   "source": [
    "Получим общую информацию"
   ]
  },
  {
   "cell_type": "code",
   "execution_count": 5,
   "metadata": {},
   "outputs": [
    {
     "name": "stdout",
     "output_type": "stream",
     "text": [
      "<class 'pandas.core.frame.DataFrame'>\n",
      "RangeIndex: 10000 entries, 0 to 9999\n",
      "Data columns (total 14 columns):\n",
      " #   Column           Non-Null Count  Dtype  \n",
      "---  ------           --------------  -----  \n",
      " 0   RowNumber        10000 non-null  int64  \n",
      " 1   CustomerId       10000 non-null  int64  \n",
      " 2   Surname          10000 non-null  object \n",
      " 3   CreditScore      10000 non-null  int64  \n",
      " 4   Geography        10000 non-null  object \n",
      " 5   Gender           10000 non-null  object \n",
      " 6   Age              10000 non-null  int64  \n",
      " 7   Tenure           9091 non-null   float64\n",
      " 8   Balance          10000 non-null  float64\n",
      " 9   NumOfProducts    10000 non-null  int64  \n",
      " 10  HasCrCard        10000 non-null  int64  \n",
      " 11  IsActiveMember   10000 non-null  int64  \n",
      " 12  EstimatedSalary  10000 non-null  float64\n",
      " 13  Exited           10000 non-null  int64  \n",
      "dtypes: float64(3), int64(8), object(3)\n",
      "memory usage: 1.1+ MB\n"
     ]
    }
   ],
   "source": [
    "data.info()"
   ]
  },
  {
   "cell_type": "code",
   "execution_count": 6,
   "metadata": {
    "editable": true,
    "slideshow": {
     "slide_type": ""
    },
    "tags": []
   },
   "outputs": [
    {
     "data": {
      "text/plain": [
       "array([ 2.,  1.,  8.,  7.,  4.,  6.,  3., 10.,  5.,  9.,  0., nan])"
      ]
     },
     "execution_count": 6,
     "metadata": {},
     "output_type": "execute_result"
    }
   ],
   "source": [
    "data['Tenure'].unique()"
   ]
  },
  {
   "cell_type": "markdown",
   "metadata": {},
   "source": [
    "*В столбце Tenure есть пропуски, тип столбца можно перевести в int*"
   ]
  },
  {
   "cell_type": "markdown",
   "metadata": {},
   "source": [
    "Изучим сводную информацию о датафрейме"
   ]
  },
  {
   "cell_type": "code",
   "execution_count": 7,
   "metadata": {},
   "outputs": [
    {
     "data": {
      "text/html": [
       "<div>\n",
       "<style scoped>\n",
       "    .dataframe tbody tr th:only-of-type {\n",
       "        vertical-align: middle;\n",
       "    }\n",
       "\n",
       "    .dataframe tbody tr th {\n",
       "        vertical-align: top;\n",
       "    }\n",
       "\n",
       "    .dataframe thead th {\n",
       "        text-align: right;\n",
       "    }\n",
       "</style>\n",
       "<table border=\"1\" class=\"dataframe\">\n",
       "  <thead>\n",
       "    <tr style=\"text-align: right;\">\n",
       "      <th></th>\n",
       "      <th>CreditScore</th>\n",
       "      <th>Age</th>\n",
       "      <th>Tenure</th>\n",
       "      <th>Balance</th>\n",
       "      <th>NumOfProducts</th>\n",
       "      <th>HasCrCard</th>\n",
       "      <th>IsActiveMember</th>\n",
       "      <th>EstimatedSalary</th>\n",
       "      <th>Exited</th>\n",
       "    </tr>\n",
       "  </thead>\n",
       "  <tbody>\n",
       "    <tr>\n",
       "      <th>count</th>\n",
       "      <td>10000.000000</td>\n",
       "      <td>10000.000000</td>\n",
       "      <td>9091.000000</td>\n",
       "      <td>10000.000000</td>\n",
       "      <td>10000.000000</td>\n",
       "      <td>10000.00000</td>\n",
       "      <td>10000.000000</td>\n",
       "      <td>10000.000000</td>\n",
       "      <td>10000.000000</td>\n",
       "    </tr>\n",
       "    <tr>\n",
       "      <th>mean</th>\n",
       "      <td>650.528800</td>\n",
       "      <td>38.921800</td>\n",
       "      <td>4.997690</td>\n",
       "      <td>76485.889288</td>\n",
       "      <td>1.530200</td>\n",
       "      <td>0.70550</td>\n",
       "      <td>0.515100</td>\n",
       "      <td>100090.239881</td>\n",
       "      <td>0.203700</td>\n",
       "    </tr>\n",
       "    <tr>\n",
       "      <th>std</th>\n",
       "      <td>96.653299</td>\n",
       "      <td>10.487806</td>\n",
       "      <td>2.894723</td>\n",
       "      <td>62397.405202</td>\n",
       "      <td>0.581654</td>\n",
       "      <td>0.45584</td>\n",
       "      <td>0.499797</td>\n",
       "      <td>57510.492818</td>\n",
       "      <td>0.402769</td>\n",
       "    </tr>\n",
       "    <tr>\n",
       "      <th>min</th>\n",
       "      <td>350.000000</td>\n",
       "      <td>18.000000</td>\n",
       "      <td>0.000000</td>\n",
       "      <td>0.000000</td>\n",
       "      <td>1.000000</td>\n",
       "      <td>0.00000</td>\n",
       "      <td>0.000000</td>\n",
       "      <td>11.580000</td>\n",
       "      <td>0.000000</td>\n",
       "    </tr>\n",
       "    <tr>\n",
       "      <th>25%</th>\n",
       "      <td>584.000000</td>\n",
       "      <td>32.000000</td>\n",
       "      <td>2.000000</td>\n",
       "      <td>0.000000</td>\n",
       "      <td>1.000000</td>\n",
       "      <td>0.00000</td>\n",
       "      <td>0.000000</td>\n",
       "      <td>51002.110000</td>\n",
       "      <td>0.000000</td>\n",
       "    </tr>\n",
       "    <tr>\n",
       "      <th>50%</th>\n",
       "      <td>652.000000</td>\n",
       "      <td>37.000000</td>\n",
       "      <td>5.000000</td>\n",
       "      <td>97198.540000</td>\n",
       "      <td>1.000000</td>\n",
       "      <td>1.00000</td>\n",
       "      <td>1.000000</td>\n",
       "      <td>100193.915000</td>\n",
       "      <td>0.000000</td>\n",
       "    </tr>\n",
       "    <tr>\n",
       "      <th>75%</th>\n",
       "      <td>718.000000</td>\n",
       "      <td>44.000000</td>\n",
       "      <td>7.000000</td>\n",
       "      <td>127644.240000</td>\n",
       "      <td>2.000000</td>\n",
       "      <td>1.00000</td>\n",
       "      <td>1.000000</td>\n",
       "      <td>149388.247500</td>\n",
       "      <td>0.000000</td>\n",
       "    </tr>\n",
       "    <tr>\n",
       "      <th>max</th>\n",
       "      <td>850.000000</td>\n",
       "      <td>92.000000</td>\n",
       "      <td>10.000000</td>\n",
       "      <td>250898.090000</td>\n",
       "      <td>4.000000</td>\n",
       "      <td>1.00000</td>\n",
       "      <td>1.000000</td>\n",
       "      <td>199992.480000</td>\n",
       "      <td>1.000000</td>\n",
       "    </tr>\n",
       "  </tbody>\n",
       "</table>\n",
       "</div>"
      ],
      "text/plain": [
       "        CreditScore           Age       Tenure        Balance  NumOfProducts  \\\n",
       "count  10000.000000  10000.000000  9091.000000   10000.000000   10000.000000   \n",
       "mean     650.528800     38.921800     4.997690   76485.889288       1.530200   \n",
       "std       96.653299     10.487806     2.894723   62397.405202       0.581654   \n",
       "min      350.000000     18.000000     0.000000       0.000000       1.000000   \n",
       "25%      584.000000     32.000000     2.000000       0.000000       1.000000   \n",
       "50%      652.000000     37.000000     5.000000   97198.540000       1.000000   \n",
       "75%      718.000000     44.000000     7.000000  127644.240000       2.000000   \n",
       "max      850.000000     92.000000    10.000000  250898.090000       4.000000   \n",
       "\n",
       "         HasCrCard  IsActiveMember  EstimatedSalary        Exited  \n",
       "count  10000.00000    10000.000000     10000.000000  10000.000000  \n",
       "mean       0.70550        0.515100    100090.239881      0.203700  \n",
       "std        0.45584        0.499797     57510.492818      0.402769  \n",
       "min        0.00000        0.000000        11.580000      0.000000  \n",
       "25%        0.00000        0.000000     51002.110000      0.000000  \n",
       "50%        1.00000        1.000000    100193.915000      0.000000  \n",
       "75%        1.00000        1.000000    149388.247500      0.000000  \n",
       "max        1.00000        1.000000    199992.480000      1.000000  "
      ]
     },
     "execution_count": 7,
     "metadata": {},
     "output_type": "execute_result"
    }
   ],
   "source": [
    "data.loc[:, ['CreditScore', 'Age', 'Tenure', 'Balance', 'NumOfProducts', 'HasCrCard',\n",
    "     'IsActiveMember', 'EstimatedSalary', 'Exited']].describe()"
   ]
  },
  {
   "cell_type": "markdown",
   "metadata": {
    "editable": true,
    "slideshow": {
     "slide_type": ""
    },
    "tags": []
   },
   "source": [
    "*Медианы:*\n",
    "- рейтинг: 650.1;\n",
    "- возраст: 39;\n",
    "- лет, сколько человек является клиентом банка: 5;\n",
    "- баланс: 76485;\n",
    "- кол-во продуктов: 1.5;\n",
    "- кредитных карт: 0.7;\n",
    "- активность: 0.5;\n",
    "- предполагаемая з/п: 100090.23;\n",
    "- факт ухода: 0.2."
   ]
  },
  {
   "cell_type": "markdown",
   "metadata": {},
   "source": [
    "#### Корреляция"
   ]
  },
  {
   "cell_type": "markdown",
   "metadata": {},
   "source": [
    "Изучим корреляцию признаков"
   ]
  },
  {
   "cell_type": "code",
   "execution_count": 8,
   "metadata": {
    "editable": true,
    "slideshow": {
     "slide_type": ""
    },
    "tags": []
   },
   "outputs": [
    {
     "data": {
      "text/html": [
       "<div>\n",
       "<style scoped>\n",
       "    .dataframe tbody tr th:only-of-type {\n",
       "        vertical-align: middle;\n",
       "    }\n",
       "\n",
       "    .dataframe tbody tr th {\n",
       "        vertical-align: top;\n",
       "    }\n",
       "\n",
       "    .dataframe thead th {\n",
       "        text-align: right;\n",
       "    }\n",
       "</style>\n",
       "<table border=\"1\" class=\"dataframe\">\n",
       "  <thead>\n",
       "    <tr style=\"text-align: right;\">\n",
       "      <th></th>\n",
       "      <th>RowNumber</th>\n",
       "      <th>CustomerId</th>\n",
       "      <th>CreditScore</th>\n",
       "      <th>Age</th>\n",
       "      <th>Tenure</th>\n",
       "      <th>Balance</th>\n",
       "      <th>NumOfProducts</th>\n",
       "      <th>HasCrCard</th>\n",
       "      <th>IsActiveMember</th>\n",
       "      <th>EstimatedSalary</th>\n",
       "      <th>Exited</th>\n",
       "    </tr>\n",
       "  </thead>\n",
       "  <tbody>\n",
       "    <tr>\n",
       "      <th>RowNumber</th>\n",
       "      <td>1.000000</td>\n",
       "      <td>0.004202</td>\n",
       "      <td>0.005840</td>\n",
       "      <td>0.000783</td>\n",
       "      <td>-0.007322</td>\n",
       "      <td>-0.009067</td>\n",
       "      <td>0.007246</td>\n",
       "      <td>0.000599</td>\n",
       "      <td>0.012044</td>\n",
       "      <td>-0.005988</td>\n",
       "      <td>-0.016571</td>\n",
       "    </tr>\n",
       "    <tr>\n",
       "      <th>CustomerId</th>\n",
       "      <td>0.004202</td>\n",
       "      <td>1.000000</td>\n",
       "      <td>0.005308</td>\n",
       "      <td>0.009497</td>\n",
       "      <td>-0.021418</td>\n",
       "      <td>-0.012419</td>\n",
       "      <td>0.016972</td>\n",
       "      <td>-0.014025</td>\n",
       "      <td>0.001665</td>\n",
       "      <td>0.015271</td>\n",
       "      <td>-0.006248</td>\n",
       "    </tr>\n",
       "    <tr>\n",
       "      <th>CreditScore</th>\n",
       "      <td>0.005840</td>\n",
       "      <td>0.005308</td>\n",
       "      <td>1.000000</td>\n",
       "      <td>-0.003965</td>\n",
       "      <td>-0.000062</td>\n",
       "      <td>0.006268</td>\n",
       "      <td>0.012238</td>\n",
       "      <td>-0.005458</td>\n",
       "      <td>0.025651</td>\n",
       "      <td>-0.001384</td>\n",
       "      <td>-0.027094</td>\n",
       "    </tr>\n",
       "    <tr>\n",
       "      <th>Age</th>\n",
       "      <td>0.000783</td>\n",
       "      <td>0.009497</td>\n",
       "      <td>-0.003965</td>\n",
       "      <td>1.000000</td>\n",
       "      <td>-0.013134</td>\n",
       "      <td>0.028308</td>\n",
       "      <td>-0.030680</td>\n",
       "      <td>-0.011721</td>\n",
       "      <td>0.085472</td>\n",
       "      <td>-0.007201</td>\n",
       "      <td>0.285323</td>\n",
       "    </tr>\n",
       "    <tr>\n",
       "      <th>Tenure</th>\n",
       "      <td>-0.007322</td>\n",
       "      <td>-0.021418</td>\n",
       "      <td>-0.000062</td>\n",
       "      <td>-0.013134</td>\n",
       "      <td>1.000000</td>\n",
       "      <td>-0.007911</td>\n",
       "      <td>0.011979</td>\n",
       "      <td>0.027232</td>\n",
       "      <td>-0.032178</td>\n",
       "      <td>0.010520</td>\n",
       "      <td>-0.016761</td>\n",
       "    </tr>\n",
       "    <tr>\n",
       "      <th>Balance</th>\n",
       "      <td>-0.009067</td>\n",
       "      <td>-0.012419</td>\n",
       "      <td>0.006268</td>\n",
       "      <td>0.028308</td>\n",
       "      <td>-0.007911</td>\n",
       "      <td>1.000000</td>\n",
       "      <td>-0.304180</td>\n",
       "      <td>-0.014858</td>\n",
       "      <td>-0.010084</td>\n",
       "      <td>0.012797</td>\n",
       "      <td>0.118533</td>\n",
       "    </tr>\n",
       "    <tr>\n",
       "      <th>NumOfProducts</th>\n",
       "      <td>0.007246</td>\n",
       "      <td>0.016972</td>\n",
       "      <td>0.012238</td>\n",
       "      <td>-0.030680</td>\n",
       "      <td>0.011979</td>\n",
       "      <td>-0.304180</td>\n",
       "      <td>1.000000</td>\n",
       "      <td>0.003183</td>\n",
       "      <td>0.009612</td>\n",
       "      <td>0.014204</td>\n",
       "      <td>-0.047820</td>\n",
       "    </tr>\n",
       "    <tr>\n",
       "      <th>HasCrCard</th>\n",
       "      <td>0.000599</td>\n",
       "      <td>-0.014025</td>\n",
       "      <td>-0.005458</td>\n",
       "      <td>-0.011721</td>\n",
       "      <td>0.027232</td>\n",
       "      <td>-0.014858</td>\n",
       "      <td>0.003183</td>\n",
       "      <td>1.000000</td>\n",
       "      <td>-0.011866</td>\n",
       "      <td>-0.009933</td>\n",
       "      <td>-0.007138</td>\n",
       "    </tr>\n",
       "    <tr>\n",
       "      <th>IsActiveMember</th>\n",
       "      <td>0.012044</td>\n",
       "      <td>0.001665</td>\n",
       "      <td>0.025651</td>\n",
       "      <td>0.085472</td>\n",
       "      <td>-0.032178</td>\n",
       "      <td>-0.010084</td>\n",
       "      <td>0.009612</td>\n",
       "      <td>-0.011866</td>\n",
       "      <td>1.000000</td>\n",
       "      <td>-0.011421</td>\n",
       "      <td>-0.156128</td>\n",
       "    </tr>\n",
       "    <tr>\n",
       "      <th>EstimatedSalary</th>\n",
       "      <td>-0.005988</td>\n",
       "      <td>0.015271</td>\n",
       "      <td>-0.001384</td>\n",
       "      <td>-0.007201</td>\n",
       "      <td>0.010520</td>\n",
       "      <td>0.012797</td>\n",
       "      <td>0.014204</td>\n",
       "      <td>-0.009933</td>\n",
       "      <td>-0.011421</td>\n",
       "      <td>1.000000</td>\n",
       "      <td>0.012097</td>\n",
       "    </tr>\n",
       "    <tr>\n",
       "      <th>Exited</th>\n",
       "      <td>-0.016571</td>\n",
       "      <td>-0.006248</td>\n",
       "      <td>-0.027094</td>\n",
       "      <td>0.285323</td>\n",
       "      <td>-0.016761</td>\n",
       "      <td>0.118533</td>\n",
       "      <td>-0.047820</td>\n",
       "      <td>-0.007138</td>\n",
       "      <td>-0.156128</td>\n",
       "      <td>0.012097</td>\n",
       "      <td>1.000000</td>\n",
       "    </tr>\n",
       "  </tbody>\n",
       "</table>\n",
       "</div>"
      ],
      "text/plain": [
       "                 RowNumber  CustomerId  CreditScore       Age    Tenure  \\\n",
       "RowNumber         1.000000    0.004202     0.005840  0.000783 -0.007322   \n",
       "CustomerId        0.004202    1.000000     0.005308  0.009497 -0.021418   \n",
       "CreditScore       0.005840    0.005308     1.000000 -0.003965 -0.000062   \n",
       "Age               0.000783    0.009497    -0.003965  1.000000 -0.013134   \n",
       "Tenure           -0.007322   -0.021418    -0.000062 -0.013134  1.000000   \n",
       "Balance          -0.009067   -0.012419     0.006268  0.028308 -0.007911   \n",
       "NumOfProducts     0.007246    0.016972     0.012238 -0.030680  0.011979   \n",
       "HasCrCard         0.000599   -0.014025    -0.005458 -0.011721  0.027232   \n",
       "IsActiveMember    0.012044    0.001665     0.025651  0.085472 -0.032178   \n",
       "EstimatedSalary  -0.005988    0.015271    -0.001384 -0.007201  0.010520   \n",
       "Exited           -0.016571   -0.006248    -0.027094  0.285323 -0.016761   \n",
       "\n",
       "                  Balance  NumOfProducts  HasCrCard  IsActiveMember  \\\n",
       "RowNumber       -0.009067       0.007246   0.000599        0.012044   \n",
       "CustomerId      -0.012419       0.016972  -0.014025        0.001665   \n",
       "CreditScore      0.006268       0.012238  -0.005458        0.025651   \n",
       "Age              0.028308      -0.030680  -0.011721        0.085472   \n",
       "Tenure          -0.007911       0.011979   0.027232       -0.032178   \n",
       "Balance          1.000000      -0.304180  -0.014858       -0.010084   \n",
       "NumOfProducts   -0.304180       1.000000   0.003183        0.009612   \n",
       "HasCrCard       -0.014858       0.003183   1.000000       -0.011866   \n",
       "IsActiveMember  -0.010084       0.009612  -0.011866        1.000000   \n",
       "EstimatedSalary  0.012797       0.014204  -0.009933       -0.011421   \n",
       "Exited           0.118533      -0.047820  -0.007138       -0.156128   \n",
       "\n",
       "                 EstimatedSalary    Exited  \n",
       "RowNumber              -0.005988 -0.016571  \n",
       "CustomerId              0.015271 -0.006248  \n",
       "CreditScore            -0.001384 -0.027094  \n",
       "Age                    -0.007201  0.285323  \n",
       "Tenure                  0.010520 -0.016761  \n",
       "Balance                 0.012797  0.118533  \n",
       "NumOfProducts           0.014204 -0.047820  \n",
       "HasCrCard              -0.009933 -0.007138  \n",
       "IsActiveMember         -0.011421 -0.156128  \n",
       "EstimatedSalary         1.000000  0.012097  \n",
       "Exited                  0.012097  1.000000  "
      ]
     },
     "execution_count": 8,
     "metadata": {},
     "output_type": "execute_result"
    }
   ],
   "source": [
    "data_corr = data.corr(numeric_only=True)\n",
    "data_corr"
   ]
  },
  {
   "cell_type": "code",
   "execution_count": 9,
   "metadata": {
    "editable": true,
    "slideshow": {
     "slide_type": ""
    },
    "tags": []
   },
   "outputs": [
    {
     "name": "stdout",
     "output_type": "stream",
     "text": [
      "Столбец          Строка          Значение\n",
      "Age              Exited         0.28532\n",
      "Balance          Exited         0.11853\n",
      "Exited           Age            0.28532\n",
      "Exited           Balance        0.11853\n"
     ]
    }
   ],
   "source": [
    "def pr_corr(data_corr):\n",
    "    \"\"\"\n",
    "    Функция для нахождения\n",
    "    наиболее коррелирующих признаков\n",
    "    из таблицы корреляции\n",
    "    \"\"\"\n",
    "    \n",
    "    print(f'Столбец{\"\":<10}Строка{\"\":<10}Значение')\n",
    "    for el in data_corr.columns:\n",
    "        for var in data_corr[el]:\n",
    "            if var > 0.1 and var < 1:\n",
    "                print(f'{el :<16} {data_corr[el][data_corr[el] == var].index[0] :<14} {var :.05}')\n",
    "                \n",
    "pr_corr(data_corr)                "
   ]
  },
  {
   "cell_type": "markdown",
   "metadata": {},
   "source": [
    "*Сильная корреляция признаков не наблюдается*"
   ]
  },
  {
   "cell_type": "markdown",
   "metadata": {},
   "source": [
    "#### Проверка на дубликаты"
   ]
  },
  {
   "cell_type": "markdown",
   "metadata": {},
   "source": [
    "Выделим ключевые столбцы для проверки:\n",
    "CustomerId, Surname, Geography, Gender, Age, Tenure, CreditScore"
   ]
  },
  {
   "cell_type": "markdown",
   "metadata": {},
   "source": [
    "Проведём проверку"
   ]
  },
  {
   "cell_type": "code",
   "execution_count": 10,
   "metadata": {},
   "outputs": [
    {
     "data": {
      "text/plain": [
       "0"
      ]
     },
     "execution_count": 10,
     "metadata": {},
     "output_type": "execute_result"
    }
   ],
   "source": [
    "data_dup_check = data\n",
    "for el in ['Surname', 'Geography', 'Gender']:\n",
    "    try:\n",
    "        data_dup_check[el] = data_dup_check[el].str.lower()\n",
    "    except AttributeError:\n",
    "        print(\"Возникла ошибка в столбце:\", el)\n",
    "        \n",
    "data_dup_check.loc[:, ['Surname', 'Geography', 'Gender', 'Tenure', 'CreditScore', 'Age']].duplicated().sum()"
   ]
  },
  {
   "cell_type": "code",
   "execution_count": 11,
   "metadata": {},
   "outputs": [
    {
     "data": {
      "text/plain": [
       "0"
      ]
     },
     "execution_count": 11,
     "metadata": {},
     "output_type": "execute_result"
    }
   ],
   "source": [
    "data['CustomerId'].duplicated().sum()"
   ]
  },
  {
   "cell_type": "markdown",
   "metadata": {},
   "source": [
    "*Дубликаты не найдены*"
   ]
  },
  {
   "cell_type": "markdown",
   "metadata": {},
   "source": [
    "#### Сбалансированность целевого признака"
   ]
  },
  {
   "cell_type": "markdown",
   "metadata": {},
   "source": [
    "Изучим целевой признак на сбалансированность классов"
   ]
  },
  {
   "cell_type": "code",
   "execution_count": 12,
   "metadata": {},
   "outputs": [
    {
     "data": {
      "text/plain": [
       "Exited\n",
       "0    79.63\n",
       "1    20.37\n",
       "Name: count, dtype: float64"
      ]
     },
     "execution_count": 12,
     "metadata": {},
     "output_type": "execute_result"
    }
   ],
   "source": [
    "data['Exited'].value_counts() / data.shape[0] * 100"
   ]
  },
  {
   "cell_type": "markdown",
   "metadata": {},
   "source": [
    "Наблюдается дисбаланс в сторону \"0\" класса."
   ]
  },
  {
   "cell_type": "markdown",
   "metadata": {
    "editable": true,
    "slideshow": {
     "slide_type": ""
    },
    "tags": []
   },
   "source": [
    "#### Вывод"
   ]
  },
  {
   "cell_type": "markdown",
   "metadata": {},
   "source": [
    "В результате ознакомления с данными получены результаты:\n",
    "1. обнаружен столбец Tenure с пропусками. Столбец имеет тип float, при этом дробные значения не обнаружены, имеется возможно изменить тип на int;\n",
    "2. корреляция признаков отсутствует;\n",
    "3. дубликаты не найдены;\n",
    "4. сбалансированность целевого признака находится в соотношении:\n",
    " - 0 — 79.63%;\n",
    " - 1 — 20.37%.\n",
    " \n",
    " \n",
    "5. Произведено разделение столбцов на признаки:\n",
    "\n",
    "    Категориальные:\n",
    "    - RowNumber; \n",
    "    - CustomerId; \n",
    "    - Surname; \n",
    "    - Geography;\n",
    "    - Gender; \n",
    "    - Age; \n",
    "    - Tenure; \n",
    "    - NumOfProducts; \n",
    "    - HasCrCard;\n",
    "    - IsActiveMember; \n",
    "    - Exited.\n",
    "\n",
    "   Количественные:\n",
    "    - CreditScore;\n",
    "    - Balance;\n",
    "    - EstimatedSalary.\n",
    "\n",
    " \n",
    " "
   ]
  },
  {
   "cell_type": "markdown",
   "metadata": {},
   "source": [
    "### Подготовка данных"
   ]
  },
  {
   "cell_type": "markdown",
   "metadata": {},
   "source": [
    "#### Обработка пропусков"
   ]
  },
  {
   "cell_type": "markdown",
   "metadata": {},
   "source": [
    "Изучим на процентное соотношение классы по целевому признаку"
   ]
  },
  {
   "cell_type": "code",
   "execution_count": 13,
   "metadata": {},
   "outputs": [
    {
     "data": {
      "text/plain": [
       "Exited\n",
       "0    79.867987\n",
       "1    20.132013\n",
       "Name: count, dtype: float64"
      ]
     },
     "execution_count": 13,
     "metadata": {},
     "output_type": "execute_result"
    }
   ],
   "source": [
    "omission_tenure = data.loc[data['Tenure'].isna(), :]\n",
    "omission_tenure['Exited'].value_counts() / 909 * 100"
   ]
  },
  {
   "cell_type": "markdown",
   "metadata": {},
   "source": [
    "*Распределение классов почти такое же как и во всем датафрейме.*"
   ]
  },
  {
   "cell_type": "markdown",
   "metadata": {
    "editable": true,
    "slideshow": {
     "slide_type": ""
    },
    "tags": []
   },
   "source": [
    "Изучим корреляцию признаков для заполнения пропусков"
   ]
  },
  {
   "cell_type": "code",
   "execution_count": 14,
   "metadata": {
    "editable": true,
    "slideshow": {
     "slide_type": ""
    },
    "tags": []
   },
   "outputs": [
    {
     "data": {
      "text/html": [
       "<div>\n",
       "<style scoped>\n",
       "    .dataframe tbody tr th:only-of-type {\n",
       "        vertical-align: middle;\n",
       "    }\n",
       "\n",
       "    .dataframe tbody tr th {\n",
       "        vertical-align: top;\n",
       "    }\n",
       "\n",
       "    .dataframe thead th {\n",
       "        text-align: right;\n",
       "    }\n",
       "</style>\n",
       "<table border=\"1\" class=\"dataframe\">\n",
       "  <thead>\n",
       "    <tr style=\"text-align: right;\">\n",
       "      <th></th>\n",
       "      <th>RowNumber</th>\n",
       "      <th>CustomerId</th>\n",
       "      <th>CreditScore</th>\n",
       "      <th>Age</th>\n",
       "      <th>Tenure</th>\n",
       "      <th>Balance</th>\n",
       "      <th>NumOfProducts</th>\n",
       "      <th>HasCrCard</th>\n",
       "      <th>IsActiveMember</th>\n",
       "      <th>EstimatedSalary</th>\n",
       "      <th>Exited</th>\n",
       "    </tr>\n",
       "  </thead>\n",
       "  <tbody>\n",
       "    <tr>\n",
       "      <th>RowNumber</th>\n",
       "      <td>1.000000</td>\n",
       "      <td>0.002624</td>\n",
       "      <td>0.038683</td>\n",
       "      <td>0.000455</td>\n",
       "      <td>NaN</td>\n",
       "      <td>-0.040211</td>\n",
       "      <td>-0.010692</td>\n",
       "      <td>-0.005296</td>\n",
       "      <td>0.036459</td>\n",
       "      <td>-0.018325</td>\n",
       "      <td>-0.036923</td>\n",
       "    </tr>\n",
       "    <tr>\n",
       "      <th>CustomerId</th>\n",
       "      <td>0.002624</td>\n",
       "      <td>1.000000</td>\n",
       "      <td>0.069218</td>\n",
       "      <td>0.000028</td>\n",
       "      <td>NaN</td>\n",
       "      <td>-0.059415</td>\n",
       "      <td>0.039303</td>\n",
       "      <td>0.042422</td>\n",
       "      <td>0.003098</td>\n",
       "      <td>0.066181</td>\n",
       "      <td>0.001235</td>\n",
       "    </tr>\n",
       "    <tr>\n",
       "      <th>CreditScore</th>\n",
       "      <td>0.038683</td>\n",
       "      <td>0.069218</td>\n",
       "      <td>1.000000</td>\n",
       "      <td>0.001027</td>\n",
       "      <td>NaN</td>\n",
       "      <td>0.039465</td>\n",
       "      <td>0.023283</td>\n",
       "      <td>-0.020099</td>\n",
       "      <td>-0.026097</td>\n",
       "      <td>-0.067141</td>\n",
       "      <td>-0.058002</td>\n",
       "    </tr>\n",
       "    <tr>\n",
       "      <th>Age</th>\n",
       "      <td>0.000455</td>\n",
       "      <td>0.000028</td>\n",
       "      <td>0.001027</td>\n",
       "      <td>1.000000</td>\n",
       "      <td>NaN</td>\n",
       "      <td>-0.005604</td>\n",
       "      <td>-0.018039</td>\n",
       "      <td>0.014739</td>\n",
       "      <td>0.120013</td>\n",
       "      <td>-0.009525</td>\n",
       "      <td>0.310935</td>\n",
       "    </tr>\n",
       "    <tr>\n",
       "      <th>Tenure</th>\n",
       "      <td>NaN</td>\n",
       "      <td>NaN</td>\n",
       "      <td>NaN</td>\n",
       "      <td>NaN</td>\n",
       "      <td>NaN</td>\n",
       "      <td>NaN</td>\n",
       "      <td>NaN</td>\n",
       "      <td>NaN</td>\n",
       "      <td>NaN</td>\n",
       "      <td>NaN</td>\n",
       "      <td>NaN</td>\n",
       "    </tr>\n",
       "    <tr>\n",
       "      <th>Balance</th>\n",
       "      <td>-0.040211</td>\n",
       "      <td>-0.059415</td>\n",
       "      <td>0.039465</td>\n",
       "      <td>-0.005604</td>\n",
       "      <td>NaN</td>\n",
       "      <td>1.000000</td>\n",
       "      <td>-0.326853</td>\n",
       "      <td>0.026921</td>\n",
       "      <td>-0.077324</td>\n",
       "      <td>-0.002999</td>\n",
       "      <td>0.131570</td>\n",
       "    </tr>\n",
       "    <tr>\n",
       "      <th>NumOfProducts</th>\n",
       "      <td>-0.010692</td>\n",
       "      <td>0.039303</td>\n",
       "      <td>0.023283</td>\n",
       "      <td>-0.018039</td>\n",
       "      <td>NaN</td>\n",
       "      <td>-0.326853</td>\n",
       "      <td>1.000000</td>\n",
       "      <td>-0.022867</td>\n",
       "      <td>0.014828</td>\n",
       "      <td>0.016380</td>\n",
       "      <td>-0.023493</td>\n",
       "    </tr>\n",
       "    <tr>\n",
       "      <th>HasCrCard</th>\n",
       "      <td>-0.005296</td>\n",
       "      <td>0.042422</td>\n",
       "      <td>-0.020099</td>\n",
       "      <td>0.014739</td>\n",
       "      <td>NaN</td>\n",
       "      <td>0.026921</td>\n",
       "      <td>-0.022867</td>\n",
       "      <td>1.000000</td>\n",
       "      <td>-0.042472</td>\n",
       "      <td>-0.048790</td>\n",
       "      <td>-0.024521</td>\n",
       "    </tr>\n",
       "    <tr>\n",
       "      <th>IsActiveMember</th>\n",
       "      <td>0.036459</td>\n",
       "      <td>0.003098</td>\n",
       "      <td>-0.026097</td>\n",
       "      <td>0.120013</td>\n",
       "      <td>NaN</td>\n",
       "      <td>-0.077324</td>\n",
       "      <td>0.014828</td>\n",
       "      <td>-0.042472</td>\n",
       "      <td>1.000000</td>\n",
       "      <td>0.076619</td>\n",
       "      <td>-0.166911</td>\n",
       "    </tr>\n",
       "    <tr>\n",
       "      <th>EstimatedSalary</th>\n",
       "      <td>-0.018325</td>\n",
       "      <td>0.066181</td>\n",
       "      <td>-0.067141</td>\n",
       "      <td>-0.009525</td>\n",
       "      <td>NaN</td>\n",
       "      <td>-0.002999</td>\n",
       "      <td>0.016380</td>\n",
       "      <td>-0.048790</td>\n",
       "      <td>0.076619</td>\n",
       "      <td>1.000000</td>\n",
       "      <td>-0.028419</td>\n",
       "    </tr>\n",
       "    <tr>\n",
       "      <th>Exited</th>\n",
       "      <td>-0.036923</td>\n",
       "      <td>0.001235</td>\n",
       "      <td>-0.058002</td>\n",
       "      <td>0.310935</td>\n",
       "      <td>NaN</td>\n",
       "      <td>0.131570</td>\n",
       "      <td>-0.023493</td>\n",
       "      <td>-0.024521</td>\n",
       "      <td>-0.166911</td>\n",
       "      <td>-0.028419</td>\n",
       "      <td>1.000000</td>\n",
       "    </tr>\n",
       "  </tbody>\n",
       "</table>\n",
       "</div>"
      ],
      "text/plain": [
       "                 RowNumber  CustomerId  CreditScore       Age  Tenure  \\\n",
       "RowNumber         1.000000    0.002624     0.038683  0.000455     NaN   \n",
       "CustomerId        0.002624    1.000000     0.069218  0.000028     NaN   \n",
       "CreditScore       0.038683    0.069218     1.000000  0.001027     NaN   \n",
       "Age               0.000455    0.000028     0.001027  1.000000     NaN   \n",
       "Tenure                 NaN         NaN          NaN       NaN     NaN   \n",
       "Balance          -0.040211   -0.059415     0.039465 -0.005604     NaN   \n",
       "NumOfProducts    -0.010692    0.039303     0.023283 -0.018039     NaN   \n",
       "HasCrCard        -0.005296    0.042422    -0.020099  0.014739     NaN   \n",
       "IsActiveMember    0.036459    0.003098    -0.026097  0.120013     NaN   \n",
       "EstimatedSalary  -0.018325    0.066181    -0.067141 -0.009525     NaN   \n",
       "Exited           -0.036923    0.001235    -0.058002  0.310935     NaN   \n",
       "\n",
       "                  Balance  NumOfProducts  HasCrCard  IsActiveMember  \\\n",
       "RowNumber       -0.040211      -0.010692  -0.005296        0.036459   \n",
       "CustomerId      -0.059415       0.039303   0.042422        0.003098   \n",
       "CreditScore      0.039465       0.023283  -0.020099       -0.026097   \n",
       "Age             -0.005604      -0.018039   0.014739        0.120013   \n",
       "Tenure                NaN            NaN        NaN             NaN   \n",
       "Balance          1.000000      -0.326853   0.026921       -0.077324   \n",
       "NumOfProducts   -0.326853       1.000000  -0.022867        0.014828   \n",
       "HasCrCard        0.026921      -0.022867   1.000000       -0.042472   \n",
       "IsActiveMember  -0.077324       0.014828  -0.042472        1.000000   \n",
       "EstimatedSalary -0.002999       0.016380  -0.048790        0.076619   \n",
       "Exited           0.131570      -0.023493  -0.024521       -0.166911   \n",
       "\n",
       "                 EstimatedSalary    Exited  \n",
       "RowNumber              -0.018325 -0.036923  \n",
       "CustomerId              0.066181  0.001235  \n",
       "CreditScore            -0.067141 -0.058002  \n",
       "Age                    -0.009525  0.310935  \n",
       "Tenure                       NaN       NaN  \n",
       "Balance                -0.002999  0.131570  \n",
       "NumOfProducts           0.016380 -0.023493  \n",
       "HasCrCard              -0.048790 -0.024521  \n",
       "IsActiveMember          0.076619 -0.166911  \n",
       "EstimatedSalary         1.000000 -0.028419  \n",
       "Exited                 -0.028419  1.000000  "
      ]
     },
     "execution_count": 14,
     "metadata": {},
     "output_type": "execute_result"
    }
   ],
   "source": [
    "tenure_corr = omission_tenure.corr(numeric_only=True)\n",
    "tenure_corr"
   ]
  },
  {
   "cell_type": "markdown",
   "metadata": {},
   "source": [
    "Воспользуемся известной функцией для нахожденее наболее коррелирующих признаков"
   ]
  },
  {
   "cell_type": "code",
   "execution_count": 15,
   "metadata": {},
   "outputs": [
    {
     "name": "stdout",
     "output_type": "stream",
     "text": [
      "Столбец          Строка          Значение\n",
      "Age              IsActiveMember 0.12001\n",
      "Age              Exited         0.31094\n",
      "Balance          Exited         0.13157\n",
      "IsActiveMember   Age            0.12001\n",
      "Exited           Age            0.31094\n",
      "Exited           Balance        0.13157\n"
     ]
    }
   ],
   "source": [
    "pr_corr(tenure_corr)"
   ]
  },
  {
   "cell_type": "markdown",
   "metadata": {
    "editable": true,
    "slideshow": {
     "slide_type": ""
    },
    "tags": []
   },
   "source": [
    "*Сильной корреляции не наблюдается*"
   ]
  },
  {
   "cell_type": "markdown",
   "metadata": {},
   "source": [
    "Получим основые сведения о стобце  спропусками"
   ]
  },
  {
   "cell_type": "code",
   "execution_count": 16,
   "metadata": {
    "editable": true,
    "slideshow": {
     "slide_type": ""
    },
    "tags": []
   },
   "outputs": [
    {
     "data": {
      "text/plain": [
       "count    9091.000000\n",
       "mean        4.997690\n",
       "std         2.894723\n",
       "min         0.000000\n",
       "25%         2.000000\n",
       "50%         5.000000\n",
       "75%         7.000000\n",
       "max        10.000000\n",
       "Name: Tenure, dtype: float64"
      ]
     },
     "execution_count": 16,
     "metadata": {},
     "output_type": "execute_result"
    }
   ],
   "source": [
    "data['Tenure'].describe()"
   ]
  },
  {
   "cell_type": "markdown",
   "metadata": {},
   "source": [
    "*Имеется небольшая зависимость между возрастом и фактом ухода клиента. Других зависимостей нет, восстановить данные не выйдет. Заполнять значения медианой будет не верным, так как это может сбить с толку модель. Классы целевого признака в столбце с пропусками и общем датасете имеют примерно одинаковое процентное соотношение, удаление в этом случае, мы считаем, лучшим решением, так как в сравнении с заполнением медианой, оно должно в меньшей степени исказить точность.*"
   ]
  },
  {
   "cell_type": "code",
   "execution_count": 17,
   "metadata": {},
   "outputs": [],
   "source": [
    "data = data.dropna(subset=['Tenure']).reset_index(drop=True)"
   ]
  },
  {
   "cell_type": "code",
   "execution_count": 18,
   "metadata": {
    "editable": true,
    "slideshow": {
     "slide_type": ""
    },
    "tags": []
   },
   "outputs": [
    {
     "name": "stdout",
     "output_type": "stream",
     "text": [
      "<class 'pandas.core.frame.DataFrame'>\n",
      "RangeIndex: 9091 entries, 0 to 9090\n",
      "Data columns (total 14 columns):\n",
      " #   Column           Non-Null Count  Dtype  \n",
      "---  ------           --------------  -----  \n",
      " 0   RowNumber        9091 non-null   int64  \n",
      " 1   CustomerId       9091 non-null   int64  \n",
      " 2   Surname          9091 non-null   object \n",
      " 3   CreditScore      9091 non-null   int64  \n",
      " 4   Geography        9091 non-null   object \n",
      " 5   Gender           9091 non-null   object \n",
      " 6   Age              9091 non-null   int64  \n",
      " 7   Tenure           9091 non-null   float64\n",
      " 8   Balance          9091 non-null   float64\n",
      " 9   NumOfProducts    9091 non-null   int64  \n",
      " 10  HasCrCard        9091 non-null   int64  \n",
      " 11  IsActiveMember   9091 non-null   int64  \n",
      " 12  EstimatedSalary  9091 non-null   float64\n",
      " 13  Exited           9091 non-null   int64  \n",
      "dtypes: float64(3), int64(8), object(3)\n",
      "memory usage: 994.5+ KB\n"
     ]
    }
   ],
   "source": [
    "data.info()"
   ]
  },
  {
   "cell_type": "markdown",
   "metadata": {},
   "source": [
    "#### Изменение типов данных"
   ]
  },
  {
   "cell_type": "markdown",
   "metadata": {},
   "source": [
    "Изменим тип столбца Tenure\n"
   ]
  },
  {
   "cell_type": "code",
   "execution_count": 19,
   "metadata": {},
   "outputs": [],
   "source": [
    "data['Tenure'] = data['Tenure'].astype('int64')"
   ]
  },
  {
   "cell_type": "markdown",
   "metadata": {},
   "source": [
    "#### Структурирование"
   ]
  },
  {
   "cell_type": "markdown",
   "metadata": {},
   "source": [
    "В исследовании не важно наличие всех столбцов в датафрейме для обучение модели. Часть признаков не несут ценности для предсказания целевого признака. Чтобы упростить и ускорить подготовку модели разделим датафрейм на несколько таблиц."
   ]
  },
  {
   "cell_type": "code",
   "execution_count": 20,
   "metadata": {},
   "outputs": [
    {
     "data": {
      "text/html": [
       "<div>\n",
       "<style scoped>\n",
       "    .dataframe tbody tr th:only-of-type {\n",
       "        vertical-align: middle;\n",
       "    }\n",
       "\n",
       "    .dataframe tbody tr th {\n",
       "        vertical-align: top;\n",
       "    }\n",
       "\n",
       "    .dataframe thead th {\n",
       "        text-align: right;\n",
       "    }\n",
       "</style>\n",
       "<table border=\"1\" class=\"dataframe\">\n",
       "  <thead>\n",
       "    <tr style=\"text-align: right;\">\n",
       "      <th></th>\n",
       "      <th>RowNumber</th>\n",
       "      <th>CustomerId</th>\n",
       "      <th>Surname</th>\n",
       "      <th>CreditScore</th>\n",
       "      <th>Geography</th>\n",
       "      <th>Gender</th>\n",
       "      <th>Age</th>\n",
       "      <th>Tenure</th>\n",
       "      <th>Balance</th>\n",
       "      <th>NumOfProducts</th>\n",
       "      <th>HasCrCard</th>\n",
       "      <th>IsActiveMember</th>\n",
       "      <th>EstimatedSalary</th>\n",
       "      <th>Exited</th>\n",
       "    </tr>\n",
       "  </thead>\n",
       "  <tbody>\n",
       "    <tr>\n",
       "      <th>0</th>\n",
       "      <td>1</td>\n",
       "      <td>15634602</td>\n",
       "      <td>hargrave</td>\n",
       "      <td>619</td>\n",
       "      <td>france</td>\n",
       "      <td>female</td>\n",
       "      <td>42</td>\n",
       "      <td>2</td>\n",
       "      <td>0.00</td>\n",
       "      <td>1</td>\n",
       "      <td>1</td>\n",
       "      <td>1</td>\n",
       "      <td>101348.88</td>\n",
       "      <td>1</td>\n",
       "    </tr>\n",
       "    <tr>\n",
       "      <th>1</th>\n",
       "      <td>2</td>\n",
       "      <td>15647311</td>\n",
       "      <td>hill</td>\n",
       "      <td>608</td>\n",
       "      <td>spain</td>\n",
       "      <td>female</td>\n",
       "      <td>41</td>\n",
       "      <td>1</td>\n",
       "      <td>83807.86</td>\n",
       "      <td>1</td>\n",
       "      <td>0</td>\n",
       "      <td>1</td>\n",
       "      <td>112542.58</td>\n",
       "      <td>0</td>\n",
       "    </tr>\n",
       "    <tr>\n",
       "      <th>2</th>\n",
       "      <td>3</td>\n",
       "      <td>15619304</td>\n",
       "      <td>onio</td>\n",
       "      <td>502</td>\n",
       "      <td>france</td>\n",
       "      <td>female</td>\n",
       "      <td>42</td>\n",
       "      <td>8</td>\n",
       "      <td>159660.80</td>\n",
       "      <td>3</td>\n",
       "      <td>1</td>\n",
       "      <td>0</td>\n",
       "      <td>113931.57</td>\n",
       "      <td>1</td>\n",
       "    </tr>\n",
       "  </tbody>\n",
       "</table>\n",
       "</div>"
      ],
      "text/plain": [
       "   RowNumber  CustomerId   Surname  CreditScore Geography  Gender  Age  \\\n",
       "0          1    15634602  hargrave          619    france  female   42   \n",
       "1          2    15647311      hill          608     spain  female   41   \n",
       "2          3    15619304      onio          502    france  female   42   \n",
       "\n",
       "   Tenure    Balance  NumOfProducts  HasCrCard  IsActiveMember  \\\n",
       "0       2       0.00              1          1               1   \n",
       "1       1   83807.86              1          0               1   \n",
       "2       8  159660.80              3          1               0   \n",
       "\n",
       "   EstimatedSalary  Exited  \n",
       "0        101348.88       1  \n",
       "1        112542.58       0  \n",
       "2        113931.57       1  "
      ]
     },
     "execution_count": 20,
     "metadata": {},
     "output_type": "execute_result"
    }
   ],
   "source": [
    "data.head(3)"
   ]
  },
  {
   "cell_type": "markdown",
   "metadata": {},
   "source": [
    "*Столбцы 'RowNumber', 'CustomerId', 'Surname' носят уникальные значения от которых не зависит уход клиента из банка.*"
   ]
  },
  {
   "cell_type": "markdown",
   "metadata": {},
   "source": [
    "Разобьём таблицу. Потом, если понадобится, можно по индексу соберать вместе."
   ]
  },
  {
   "cell_type": "code",
   "execution_count": 21,
   "metadata": {},
   "outputs": [],
   "source": [
    "data_left = data[['RowNumber', 'CustomerId', 'Surname']]\n",
    "data_right = data.loc[:, 'CreditScore':'Exited']"
   ]
  },
  {
   "cell_type": "code",
   "execution_count": 22,
   "metadata": {
    "editable": true,
    "slideshow": {
     "slide_type": ""
    },
    "tags": []
   },
   "outputs": [
    {
     "data": {
      "text/html": [
       "<div>\n",
       "<style scoped>\n",
       "    .dataframe tbody tr th:only-of-type {\n",
       "        vertical-align: middle;\n",
       "    }\n",
       "\n",
       "    .dataframe tbody tr th {\n",
       "        vertical-align: top;\n",
       "    }\n",
       "\n",
       "    .dataframe thead th {\n",
       "        text-align: right;\n",
       "    }\n",
       "</style>\n",
       "<table border=\"1\" class=\"dataframe\">\n",
       "  <thead>\n",
       "    <tr style=\"text-align: right;\">\n",
       "      <th></th>\n",
       "      <th>CreditScore</th>\n",
       "      <th>Geography</th>\n",
       "      <th>Gender</th>\n",
       "      <th>Age</th>\n",
       "      <th>Tenure</th>\n",
       "      <th>Balance</th>\n",
       "      <th>NumOfProducts</th>\n",
       "      <th>HasCrCard</th>\n",
       "      <th>IsActiveMember</th>\n",
       "      <th>EstimatedSalary</th>\n",
       "      <th>Exited</th>\n",
       "    </tr>\n",
       "  </thead>\n",
       "  <tbody>\n",
       "    <tr>\n",
       "      <th>0</th>\n",
       "      <td>619</td>\n",
       "      <td>france</td>\n",
       "      <td>female</td>\n",
       "      <td>42</td>\n",
       "      <td>2</td>\n",
       "      <td>0.00</td>\n",
       "      <td>1</td>\n",
       "      <td>1</td>\n",
       "      <td>1</td>\n",
       "      <td>101348.88</td>\n",
       "      <td>1</td>\n",
       "    </tr>\n",
       "    <tr>\n",
       "      <th>1</th>\n",
       "      <td>608</td>\n",
       "      <td>spain</td>\n",
       "      <td>female</td>\n",
       "      <td>41</td>\n",
       "      <td>1</td>\n",
       "      <td>83807.86</td>\n",
       "      <td>1</td>\n",
       "      <td>0</td>\n",
       "      <td>1</td>\n",
       "      <td>112542.58</td>\n",
       "      <td>0</td>\n",
       "    </tr>\n",
       "    <tr>\n",
       "      <th>2</th>\n",
       "      <td>502</td>\n",
       "      <td>france</td>\n",
       "      <td>female</td>\n",
       "      <td>42</td>\n",
       "      <td>8</td>\n",
       "      <td>159660.80</td>\n",
       "      <td>3</td>\n",
       "      <td>1</td>\n",
       "      <td>0</td>\n",
       "      <td>113931.57</td>\n",
       "      <td>1</td>\n",
       "    </tr>\n",
       "    <tr>\n",
       "      <th>3</th>\n",
       "      <td>699</td>\n",
       "      <td>france</td>\n",
       "      <td>female</td>\n",
       "      <td>39</td>\n",
       "      <td>1</td>\n",
       "      <td>0.00</td>\n",
       "      <td>2</td>\n",
       "      <td>0</td>\n",
       "      <td>0</td>\n",
       "      <td>93826.63</td>\n",
       "      <td>0</td>\n",
       "    </tr>\n",
       "    <tr>\n",
       "      <th>4</th>\n",
       "      <td>850</td>\n",
       "      <td>spain</td>\n",
       "      <td>female</td>\n",
       "      <td>43</td>\n",
       "      <td>2</td>\n",
       "      <td>125510.82</td>\n",
       "      <td>1</td>\n",
       "      <td>1</td>\n",
       "      <td>1</td>\n",
       "      <td>79084.10</td>\n",
       "      <td>0</td>\n",
       "    </tr>\n",
       "  </tbody>\n",
       "</table>\n",
       "</div>"
      ],
      "text/plain": [
       "   CreditScore Geography  Gender  Age  Tenure    Balance  NumOfProducts  \\\n",
       "0          619    france  female   42       2       0.00              1   \n",
       "1          608     spain  female   41       1   83807.86              1   \n",
       "2          502    france  female   42       8  159660.80              3   \n",
       "3          699    france  female   39       1       0.00              2   \n",
       "4          850     spain  female   43       2  125510.82              1   \n",
       "\n",
       "   HasCrCard  IsActiveMember  EstimatedSalary  Exited  \n",
       "0          1               1        101348.88       1  \n",
       "1          0               1        112542.58       0  \n",
       "2          1               0        113931.57       1  \n",
       "3          0               0         93826.63       0  \n",
       "4          1               1         79084.10       0  "
      ]
     },
     "execution_count": 22,
     "metadata": {},
     "output_type": "execute_result"
    }
   ],
   "source": [
    "data_right.head(5)"
   ]
  },
  {
   "cell_type": "markdown",
   "metadata": {
    "editable": true,
    "slideshow": {
     "slide_type": ""
    },
    "tags": []
   },
   "source": [
    "#### Разделение на выборки"
   ]
  },
  {
   "cell_type": "markdown",
   "metadata": {
    "editable": true,
    "slideshow": {
     "slide_type": ""
    },
    "tags": []
   },
   "source": [
    "Определим обучающий набор данных(features) и целевой признак(target)."
   ]
  },
  {
   "cell_type": "code",
   "execution_count": 23,
   "metadata": {},
   "outputs": [],
   "source": [
    "features = data_right.drop(['Exited'], axis=1)\n",
    "target = data_right['Exited']"
   ]
  },
  {
   "cell_type": "markdown",
   "metadata": {},
   "source": [
    "Разделим набор данных на обучающий(60%), валидационный(20%) и тестовый(20%), по правилу 3:1:1. Для начала получим тестовый и **обучающий набор.**"
   ]
  },
  {
   "cell_type": "code",
   "execution_count": 24,
   "metadata": {},
   "outputs": [
    {
     "data": {
      "text/plain": [
       "(3637, 10)"
      ]
     },
     "execution_count": 24,
     "metadata": {},
     "output_type": "execute_result"
    }
   ],
   "source": [
    "features_train, features_test, target_train, target_test =\\\n",
    "train_test_split(features, target, test_size=0.4, random_state=12345, stratify=target)\n",
    "features_test.shape"
   ]
  },
  {
   "cell_type": "markdown",
   "metadata": {},
   "source": [
    "Перезапишем пременные и получим **тестовый и валидационный** набор."
   ]
  },
  {
   "cell_type": "code",
   "execution_count": 25,
   "metadata": {},
   "outputs": [
    {
     "name": "stdout",
     "output_type": "stream",
     "text": [
      "Размер выборки:\n",
      "- обучающей — 5454\n",
      "- валидационной — 1819\n",
      "- тестовой — 1818\n"
     ]
    }
   ],
   "source": [
    "features_test, features_valid, target_test, target_valid =\\\n",
    "train_test_split(features_test, target_test, test_size=.5, random_state=12345, stratify=target_test)\n",
    "print('Размер выборки:')\n",
    "print(f'- обучающей — {features_train.shape[0]}')\n",
    "print(f'- валидационной — {features_valid.shape[0]}')\n",
    "print(f'- тестовой — {features_test.shape[0]}')"
   ]
  },
  {
   "cell_type": "markdown",
   "metadata": {
    "editable": true,
    "slideshow": {
     "slide_type": ""
    },
    "tags": []
   },
   "source": [
    "#### Техника кодирования OHE"
   ]
  },
  {
   "cell_type": "markdown",
   "metadata": {
    "editable": true,
    "slideshow": {
     "slide_type": ""
    },
    "tags": []
   },
   "source": [
    "Используем технику прямого кодирования библиотеки sklearn для преобразования категориальных признаков, проверим результат."
   ]
  },
  {
   "cell_type": "code",
   "execution_count": 26,
   "metadata": {},
   "outputs": [],
   "source": [
    "features_train_ohe = features_train.copy()\n",
    "features_valid_ohe = features_valid.copy()\n",
    "features_test_ohe = features_test.copy()\n",
    "columns=['Geography', 'Gender']"
   ]
  },
  {
   "cell_type": "code",
   "execution_count": 27,
   "metadata": {
    "editable": true,
    "slideshow": {
     "slide_type": ""
    },
    "tags": []
   },
   "outputs": [],
   "source": [
    "# drop='first' удаляет первый признак из закодированных:\n",
    "# таким образом обходим dummy-ловушку\n",
    "# задаём handle_unknown='ignore':\n",
    "# игнорируется ранее невстречающиеся значения признака (при transform)\n",
    "encoder_ohe = OneHotEncoder(drop='first', handle_unknown='ignore', sparse_output=False)\n",
    "# обучаем энкодер на заданных категориальных признаках тренировочной выборки\n",
    "encoder_ohe.fit(features_train_ohe[columns])\n",
    "\n",
    "def enc(features_train_ohe):\n",
    "    # добавляем закодированные признаки в features_train_ohe\n",
    "    # encoder_ohe.get_feature_names_out() позволяет получить названия колонок\n",
    "    features_train_ohe[\n",
    "        encoder_ohe.get_feature_names_out()\n",
    "    ] = encoder_ohe.transform(features_train_ohe[columns])\n",
    "\n",
    "    # удаляем незакодированные категориальные признаки (изначальные колонки)\n",
    "    features_train_ohe = features_train_ohe.drop(columns, axis=1)\n",
    "    return features_train_ohe\n"
   ]
  },
  {
   "cell_type": "code",
   "execution_count": 28,
   "metadata": {
    "editable": true,
    "slideshow": {
     "slide_type": ""
    },
    "tags": []
   },
   "outputs": [],
   "source": [
    "features_train = enc(features_train_ohe)\n",
    "features_valid = enc(features_valid_ohe)\n",
    "features_test = enc(features_test_ohe)"
   ]
  },
  {
   "cell_type": "code",
   "execution_count": 29,
   "metadata": {
    "editable": true,
    "slideshow": {
     "slide_type": ""
    },
    "tags": []
   },
   "outputs": [
    {
     "data": {
      "text/html": [
       "<div>\n",
       "<style scoped>\n",
       "    .dataframe tbody tr th:only-of-type {\n",
       "        vertical-align: middle;\n",
       "    }\n",
       "\n",
       "    .dataframe tbody tr th {\n",
       "        vertical-align: top;\n",
       "    }\n",
       "\n",
       "    .dataframe thead th {\n",
       "        text-align: right;\n",
       "    }\n",
       "</style>\n",
       "<table border=\"1\" class=\"dataframe\">\n",
       "  <thead>\n",
       "    <tr style=\"text-align: right;\">\n",
       "      <th></th>\n",
       "      <th>CreditScore</th>\n",
       "      <th>Age</th>\n",
       "      <th>Tenure</th>\n",
       "      <th>Balance</th>\n",
       "      <th>NumOfProducts</th>\n",
       "      <th>HasCrCard</th>\n",
       "      <th>IsActiveMember</th>\n",
       "      <th>EstimatedSalary</th>\n",
       "      <th>Geography_germany</th>\n",
       "      <th>Geography_spain</th>\n",
       "      <th>Gender_male</th>\n",
       "    </tr>\n",
       "  </thead>\n",
       "  <tbody>\n",
       "    <tr>\n",
       "      <th>3726</th>\n",
       "      <td>675</td>\n",
       "      <td>32</td>\n",
       "      <td>10</td>\n",
       "      <td>0.00</td>\n",
       "      <td>2</td>\n",
       "      <td>1</td>\n",
       "      <td>0</td>\n",
       "      <td>191545.65</td>\n",
       "      <td>0.0</td>\n",
       "      <td>1.0</td>\n",
       "      <td>1.0</td>\n",
       "    </tr>\n",
       "    <tr>\n",
       "      <th>4661</th>\n",
       "      <td>784</td>\n",
       "      <td>38</td>\n",
       "      <td>1</td>\n",
       "      <td>138515.02</td>\n",
       "      <td>1</td>\n",
       "      <td>1</td>\n",
       "      <td>1</td>\n",
       "      <td>171768.76</td>\n",
       "      <td>1.0</td>\n",
       "      <td>0.0</td>\n",
       "      <td>1.0</td>\n",
       "    </tr>\n",
       "    <tr>\n",
       "      <th>8400</th>\n",
       "      <td>644</td>\n",
       "      <td>49</td>\n",
       "      <td>10</td>\n",
       "      <td>0.00</td>\n",
       "      <td>2</td>\n",
       "      <td>1</td>\n",
       "      <td>1</td>\n",
       "      <td>145089.64</td>\n",
       "      <td>0.0</td>\n",
       "      <td>1.0</td>\n",
       "      <td>1.0</td>\n",
       "    </tr>\n",
       "  </tbody>\n",
       "</table>\n",
       "</div>"
      ],
      "text/plain": [
       "      CreditScore  Age  Tenure    Balance  NumOfProducts  HasCrCard  \\\n",
       "3726          675   32      10       0.00              2          1   \n",
       "4661          784   38       1  138515.02              1          1   \n",
       "8400          644   49      10       0.00              2          1   \n",
       "\n",
       "      IsActiveMember  EstimatedSalary  Geography_germany  Geography_spain  \\\n",
       "3726               0        191545.65                0.0              1.0   \n",
       "4661               1        171768.76                1.0              0.0   \n",
       "8400               1        145089.64                0.0              1.0   \n",
       "\n",
       "      Gender_male  \n",
       "3726          1.0  \n",
       "4661          1.0  \n",
       "8400          1.0  "
      ]
     },
     "execution_count": 29,
     "metadata": {},
     "output_type": "execute_result"
    }
   ],
   "source": [
    "features_valid.head(3)"
   ]
  },
  {
   "cell_type": "markdown",
   "metadata": {
    "editable": true,
    "slideshow": {
     "slide_type": ""
    },
    "tags": []
   },
   "source": [
    "#### Масштабирование признаков"
   ]
  },
  {
   "cell_type": "markdown",
   "metadata": {},
   "source": [
    "Используем StandardScaler для масштабирования признаков. Уравняем важность."
   ]
  },
  {
   "cell_type": "code",
   "execution_count": 30,
   "metadata": {},
   "outputs": [],
   "source": [
    "scaler = StandardScaler()\n",
    "numeric = ['CreditScore', 'Age', 'Tenure', 'Balance', 'NumOfProducts', 'EstimatedSalary']\n",
    "scaler.fit(features_train[numeric])\n",
    "\n",
    "pd.options.mode.chained_assignment = None\n",
    "features_train.loc[:, numeric] = scaler.transform(features_train.loc[:, numeric])\n",
    "features_valid.loc[:, numeric] = scaler.transform(features_valid.loc[:, numeric])\n",
    "features_test.loc[:, numeric] = scaler.transform(features_test.loc[:, numeric])"
   ]
  },
  {
   "cell_type": "markdown",
   "metadata": {
    "editable": true,
    "slideshow": {
     "slide_type": ""
    },
    "tags": []
   },
   "source": [
    "*Теперь таблица подготовлена для операций машинного обучения.*"
   ]
  },
  {
   "cell_type": "markdown",
   "metadata": {},
   "source": [
    "## Исследование задачи"
   ]
  },
  {
   "cell_type": "markdown",
   "metadata": {},
   "source": [
    "Изучим как работают несколько моделей и выберем лучшую."
   ]
  },
  {
   "cell_type": "markdown",
   "metadata": {
    "editable": true,
    "slideshow": {
     "slide_type": ""
    },
    "tags": []
   },
   "source": [
    "### Модель DecisionTreeClassifier"
   ]
  },
  {
   "cell_type": "markdown",
   "metadata": {},
   "source": [
    "Определим для модели лучшее значение среднего гармонического полноты и точности с лучшими гиперпараметрами."
   ]
  },
  {
   "cell_type": "code",
   "execution_count": 31,
   "metadata": {},
   "outputs": [
    {
     "name": "stderr",
     "output_type": "stream",
     "text": [
      "100%|████████████████████████████████████████████████████████████████████████████████████| 2/2 [00:04<00:00,  2.41s/it]"
     ]
    },
    {
     "name": "stdout",
     "output_type": "stream",
     "text": [
      "top_f1_score_DTC: 0.5227272727272727\n",
      "max_depth: 20\n",
      "splitter: best\n",
      "min_samples_split: 7\n"
     ]
    },
    {
     "name": "stderr",
     "output_type": "stream",
     "text": [
      "\n"
     ]
    }
   ],
   "source": [
    "best_model_DTC = None\n",
    "best_result_DTC = 0\n",
    "for el in tqdm(['random', 'best']):\n",
    "        for depth in range(1, 21):\n",
    "            for spl in range(2, 8):\n",
    "                    # Определение гиперпараметров модели\n",
    "                    model = DecisionTreeClassifier(random_state=12345,\n",
    "                                                   max_depth=depth,\n",
    "                                                   splitter=el,\n",
    "                                                   min_samples_split=spl)\n",
    "                                                   \n",
    "                    # обучение модели\n",
    "                    model.fit(features_train, target_train) \n",
    "                    # предсказания модели на валидационной выборке\n",
    "                    predictions = model.predict(features_valid) \n",
    "                    # нахождение качества модели для валидационной выборки\n",
    "                    score_DTC = f1_score(target_valid, predictions)\n",
    "                    if score_DTC > best_result_DTC:\n",
    "                        f1_score_DTC = score_DTC\n",
    "                        best_model_DTC = model\n",
    "                        DTC_depth = depth\n",
    "                        DTC_splitter = el\n",
    "                        DTC_split = spl\n",
    "                        \n",
    "                \n",
    "print(f'top_f1_score_DTC: {f1_score_DTC}'\n",
    "     f'\\nmax_depth: {DTC_depth}' \n",
    "     f'\\nsplitter: {DTC_splitter}'\n",
    "     f'\\nmin_samples_split: {DTC_split}') "
   ]
  },
  {
   "cell_type": "markdown",
   "metadata": {
    "editable": true,
    "slideshow": {
     "slide_type": ""
    },
    "tags": []
   },
   "source": [
    "*Лучшая модель DecisionTreeClassifier показала F1-меру: 0.52*"
   ]
  },
  {
   "cell_type": "markdown",
   "metadata": {},
   "source": [
    "### Модель RandomForestClassifier"
   ]
  },
  {
   "cell_type": "markdown",
   "metadata": {},
   "source": [
    "Определим для модели лучшее значение среднего гармонического полноты и точности с лучшими гиперпараметрами."
   ]
  },
  {
   "cell_type": "code",
   "execution_count": 32,
   "metadata": {},
   "outputs": [
    {
     "name": "stderr",
     "output_type": "stream",
     "text": [
      "100%|██████████████████████████████████████████████████████████████████████████████████| 39/39 [04:43<00:00,  7.26s/it]"
     ]
    },
    {
     "name": "stdout",
     "output_type": "stream",
     "text": [
      "top_f1_score_RFC: 0.5831903945111492\n",
      "n_estimators: 16\n",
      "max_depth: 10\n",
      "min_samples_split: 2\n"
     ]
    },
    {
     "name": "stderr",
     "output_type": "stream",
     "text": [
      "\n"
     ]
    }
   ],
   "source": [
    "best_model_RFC = None\n",
    "f1_score_RFC = 0\n",
    "for est in tqdm(range(1, 40)):\n",
    "    for depth in range(1, 12):\n",
    "        for spl in range(2, 8):  \n",
    "            model = RandomForestClassifier(random_state=12345,\n",
    "                                          n_estimators=est,\n",
    "                                          max_depth=depth,\n",
    "                                          min_samples_split=spl)\n",
    "                                          \n",
    "            model.fit(features_train, target_train)\n",
    "            predictions_valid = model.predict(features_valid)\n",
    "            score = f1_score(target_valid, predictions_valid)\n",
    "            if score > f1_score_RFC:\n",
    "                f1_score_RFC = score\n",
    "                best_model_RFC = model\n",
    "                RFC_estimators = est\n",
    "                RFC_depth = depth\n",
    "                RFC_split = spl\n",
    "                \n",
    "                    \n",
    "    \n",
    "    \n",
    "print(f'top_f1_score_RFC: {f1_score_RFC}'\n",
    "     f'\\nn_estimators: {RFC_estimators}'\n",
    "     f'\\nmax_depth: {RFC_depth}'\n",
    "     f'\\nmin_samples_split: {RFC_split}')\n",
    "         "
   ]
  },
  {
   "cell_type": "markdown",
   "metadata": {
    "editable": true,
    "slideshow": {
     "slide_type": ""
    },
    "tags": []
   },
   "source": [
    "*Лучшая модель RandomForestClassifier показала F1-меру: 0.58*"
   ]
  },
  {
   "cell_type": "markdown",
   "metadata": {},
   "source": [
    "### Модель LogisticRegression"
   ]
  },
  {
   "cell_type": "markdown",
   "metadata": {},
   "source": [
    "Определим для модели лучшее значение среднего гармонического полноты и точности с лучшими гиперпараметрами."
   ]
  },
  {
   "cell_type": "code",
   "execution_count": 33,
   "metadata": {},
   "outputs": [
    {
     "name": "stdout",
     "output_type": "stream",
     "text": [
      "F1: 0.35203094777562866\n"
     ]
    }
   ],
   "source": [
    "model = LogisticRegression(random_state=12345, solver='liblinear')\n",
    "model.fit(features_train, target_train)\n",
    "predicted_valid = model.predict(features_valid)\n",
    "print(\"F1:\", f1_score(target_valid, predicted_valid))"
   ]
  },
  {
   "cell_type": "markdown",
   "metadata": {},
   "source": [
    "Лучшая модель LogisticRegression показала F1-меру: 0.35"
   ]
  },
  {
   "cell_type": "markdown",
   "metadata": {},
   "source": [
    "### Заключение"
   ]
  },
  {
   "cell_type": "markdown",
   "metadata": {},
   "source": [
    "**Вывод:**\n",
    "Среди рассмотренных моделей лучшей оказалась RandomForestClassifier с F1 мерой 0.58. Попробуем улучшить результат, проведя балансирование признаков. "
   ]
  },
  {
   "cell_type": "markdown",
   "metadata": {},
   "source": [
    "## Борьба с дисбалансом"
   ]
  },
  {
   "cell_type": "markdown",
   "metadata": {},
   "source": [
    "В этом пункте проведём работу по избавлению от дисбаланса и обучению на сбалансированной выборке выбранной модели."
   ]
  },
  {
   "cell_type": "markdown",
   "metadata": {},
   "source": [
    "### Увеличение выборки"
   ]
  },
  {
   "cell_type": "markdown",
   "metadata": {},
   "source": [
    "Избавляться от дисбаланса классов будем путём увеличения обучающей выборки, чтобы не потерять в точности. Напомним процентное соотношение целевого признака."
   ]
  },
  {
   "cell_type": "code",
   "execution_count": 34,
   "metadata": {},
   "outputs": [
    {
     "data": {
      "text/plain": [
       "Exited\n",
       "0    79.606204\n",
       "1    20.393796\n",
       "Name: count, dtype: float64"
      ]
     },
     "execution_count": 34,
     "metadata": {},
     "output_type": "execute_result"
    }
   ],
   "source": [
    "data['Exited'].value_counts() / data.shape[0] * 100"
   ]
  },
  {
   "cell_type": "markdown",
   "metadata": {},
   "source": [
    "Создадим функцию для балансирования наименьшего класса и его признаков. Функция собирает признаки, где значение целевого признака равно 1 и 0, увеличивает количество наименьшего класса для пропорционального равенства, затем возвращает значения целевого признака и значения обучающих признаков."
   ]
  },
  {
   "cell_type": "code",
   "execution_count": 35,
   "metadata": {},
   "outputs": [],
   "source": [
    "def unsample(features, target, repeat):\n",
    "    features_zeros = features[target == 0]\n",
    "    features_ones = features[target == 1]\n",
    "    target_zeros = target[target == 0]\n",
    "    target_ones = target[target == 1]\n",
    "    \n",
    "    features_unsampled = pd.concat([features_zeros] + [features_ones] * repeat)\n",
    "    target_unsampled = pd.concat([target_zeros] + [target_ones] * repeat)\n",
    "    features_unsampled, target_unsampled = shuffle(\n",
    "        features_unsampled, target_unsampled, random_state=12345)\n",
    "    \n",
    "    return features_unsampled, target_unsampled\n",
    "\n",
    "features_unsample, target_unsample = unsample(features_train, target_train, 4)\n",
    "    "
   ]
  },
  {
   "cell_type": "markdown",
   "metadata": {
    "editable": true,
    "slideshow": {
     "slide_type": ""
    },
    "tags": []
   },
   "source": [
    "Проведём проверку на количество признаков"
   ]
  },
  {
   "cell_type": "code",
   "execution_count": 36,
   "metadata": {},
   "outputs": [
    {
     "name": "stdout",
     "output_type": "stream",
     "text": [
      "(8790, 11) (8790,)\n"
     ]
    }
   ],
   "source": [
    "print(features_unsample.shape, target_unsample.shape)"
   ]
  },
  {
   "cell_type": "markdown",
   "metadata": {},
   "source": [
    "### Уменьшение выборки"
   ]
  },
  {
   "cell_type": "markdown",
   "metadata": {},
   "source": [
    "Создадим функцию, которая балансирует выборку, путём уменьшения наиболее часто встречающегося класса и его объектов."
   ]
  },
  {
   "cell_type": "code",
   "execution_count": 37,
   "metadata": {},
   "outputs": [],
   "source": [
    "def downsample(features, target, fraction):\n",
    "    features_zeros = features[target == 0]\n",
    "    features_ones = features[target == 1]\n",
    "    target_zeros = target[target == 0]\n",
    "    target_ones = target[target == 1]\n",
    "\n",
    "    features_downsampled = pd.concat(\n",
    "        [features_zeros.sample(frac=fraction, random_state=12345)] + [features_ones])\n",
    "    target_downsampled = pd.concat(\n",
    "        [target_zeros.sample(frac=fraction, random_state=12345)] + [target_ones])\n",
    "    \n",
    "    features_downsampled, target_downsampled = shuffle(\n",
    "        features_downsampled, target_downsampled, random_state=12345)\n",
    "    \n",
    "    return features_downsampled, target_downsampled\n",
    "\n",
    "features_downsampled, target_downsampled = downsample(features_train, target_train, 0.25)"
   ]
  },
  {
   "cell_type": "markdown",
   "metadata": {
    "editable": true,
    "slideshow": {
     "slide_type": ""
    },
    "tags": []
   },
   "source": [
    "Проведём проверку на количество признаков\n"
   ]
  },
  {
   "cell_type": "code",
   "execution_count": 38,
   "metadata": {},
   "outputs": [
    {
     "name": "stdout",
     "output_type": "stream",
     "text": [
      "(2198, 11) (2198,)\n"
     ]
    }
   ],
   "source": [
    "print(features_downsampled.shape, target_downsampled.shape)"
   ]
  },
  {
   "cell_type": "markdown",
   "metadata": {},
   "source": [
    "### Модель DecisionTreeClassifier"
   ]
  },
  {
   "cell_type": "markdown",
   "metadata": {},
   "source": [
    "#### Взвешивание классов"
   ]
  },
  {
   "cell_type": "code",
   "execution_count": 39,
   "metadata": {},
   "outputs": [
    {
     "name": "stderr",
     "output_type": "stream",
     "text": [
      "100%|████████████████████████████████████████████████████████████████████████████████████| 2/2 [00:05<00:00,  2.80s/it]"
     ]
    },
    {
     "name": "stdout",
     "output_type": "stream",
     "text": [
      "top_f1_score_DTC: 0.4975845410628019\n",
      "max_depth: 20\n",
      "splitter: best\n",
      "min_samples_split: 7\n"
     ]
    },
    {
     "name": "stderr",
     "output_type": "stream",
     "text": [
      "\n"
     ]
    }
   ],
   "source": [
    "model_DTC_b = None\n",
    "result_DTC_b = 0\n",
    "for el in tqdm(['random', 'best']):\n",
    "        for depth in range(1, 21):\n",
    "            for spl in range(2, 8):\n",
    "                    # Определение гиперпараметров модели\n",
    "                    model = DecisionTreeClassifier(random_state=12345,\n",
    "                                                   max_depth=depth,\n",
    "                                                   splitter=el,\n",
    "                                                   min_samples_split=spl,\n",
    "                                                   class_weight='balanced')\n",
    "                                                   \n",
    "                    # обучение модели\n",
    "                    model.fit(features_train, target_train) \n",
    "                    # предсказания модели на валидационной выборке\n",
    "                    predictions = model.predict(features_valid) \n",
    "                    # нахождение качества модели для валидационной выборки\n",
    "                    score_DTC = f1_score(target_valid, predictions)\n",
    "                    if score_DTC > best_result_DTC:\n",
    "                        f1_score_DTC_b = score_DTC\n",
    "                        best_model_DTC_b = model\n",
    "                        DTC_depth_b = depth\n",
    "                        DTC_splitter_b = el\n",
    "                        DTC_split_b = spl\n",
    "                        \n",
    "                \n",
    "print(f'top_f1_score_DTC: {f1_score_DTC_b}'\n",
    "     f'\\nmax_depth: {DTC_depth_b}' \n",
    "     f'\\nsplitter: {DTC_splitter_b}'\n",
    "     f'\\nmin_samples_split: {DTC_split_b}') "
   ]
  },
  {
   "cell_type": "markdown",
   "metadata": {},
   "source": [
    "*Модель DecisionTreeClassifier при гиперпараметре `class_weight='balanced'` показала F1-меру: 0.49*"
   ]
  },
  {
   "cell_type": "markdown",
   "metadata": {
    "editable": true,
    "slideshow": {
     "slide_type": ""
    },
    "tags": []
   },
   "source": [
    "#### Обучение на увеличенной выборке"
   ]
  },
  {
   "cell_type": "markdown",
   "metadata": {},
   "source": [
    "Проводить обучение будем с учётом балансирования выборки в большую сторону для лучшей точности. Используем DecisionTreeClassifier. Получим F1-меру."
   ]
  },
  {
   "cell_type": "code",
   "execution_count": 40,
   "metadata": {},
   "outputs": [
    {
     "name": "stderr",
     "output_type": "stream",
     "text": [
      "100%|████████████████████████████████████████████████████████████████████████████████████| 2/2 [00:05<00:00,  2.68s/it]"
     ]
    },
    {
     "name": "stdout",
     "output_type": "stream",
     "text": [
      "top_f1_score_DTC_ls: 0.48627450980392156\n",
      "max_depth: 20\n",
      "splitter: best\n",
      "min_samples_split: 7\n"
     ]
    },
    {
     "name": "stderr",
     "output_type": "stream",
     "text": [
      "\n"
     ]
    }
   ],
   "source": [
    "model_DTC_us = None\n",
    "result_DTC_us = 0\n",
    "for el in tqdm(['random', 'best']):\n",
    "        for depth in range(1, 21):\n",
    "            for spl in range(2, 8):\n",
    "                    # Определение гиперпараметров модели\n",
    "                    model = DecisionTreeClassifier(random_state=12345,\n",
    "                                                   max_depth=depth,\n",
    "                                                   splitter=el,\n",
    "                                                   min_samples_split=spl)\n",
    "                                                   \n",
    "                    # обучение модели\n",
    "                    model.fit(features_unsample, target_unsample) \n",
    "                    # предсказания модели на валидационной выборке\n",
    "                    predictions = model.predict(features_valid) \n",
    "                    # нахождение качества модели для валидационной выборки\n",
    "                    score_DTC = f1_score(target_valid, predictions)\n",
    "                    if score_DTC > best_result_DTC:\n",
    "                        f1_score_DTC_us = score_DTC\n",
    "                        best_model_DTC_us = model\n",
    "                        DTC_depth_us = depth\n",
    "                        DTC_splitter_us = el\n",
    "                        DTC_split_us = spl\n",
    "                        \n",
    "                \n",
    "print(f'top_f1_score_DTC_ls: {f1_score_DTC_us}'\n",
    "     f'\\nmax_depth: {DTC_depth_us}' \n",
    "     f'\\nsplitter: {DTC_splitter_us}'\n",
    "     f'\\nmin_samples_split: {DTC_split_us}') "
   ]
  },
  {
   "cell_type": "markdown",
   "metadata": {},
   "source": [
    "*Модель DecisionTreeClassifier при балансировании увеличением выборки показала F1-меру: 0.48*"
   ]
  },
  {
   "cell_type": "markdown",
   "metadata": {
    "editable": true,
    "slideshow": {
     "slide_type": ""
    },
    "tags": []
   },
   "source": [
    "#### Обучение на уменьшенной выборке"
   ]
  },
  {
   "cell_type": "markdown",
   "metadata": {},
   "source": [
    "Проведём эксперимент и обучим модель на уменьшенной выборке."
   ]
  },
  {
   "cell_type": "code",
   "execution_count": 41,
   "metadata": {},
   "outputs": [
    {
     "name": "stderr",
     "output_type": "stream",
     "text": [
      "100%|████████████████████████████████████████████████████████████████████████████████████| 2/2 [00:02<00:00,  1.20s/it]"
     ]
    },
    {
     "name": "stdout",
     "output_type": "stream",
     "text": [
      "top_f1_score_DTC_ls: 0.49272550921435493\n",
      "max_depth: 20\n",
      "splitter: best\n",
      "min_samples_split: 7\n"
     ]
    },
    {
     "name": "stderr",
     "output_type": "stream",
     "text": [
      "\n"
     ]
    }
   ],
   "source": [
    "model_DTC_ds = None\n",
    "result_DTC_ds = 0\n",
    "for el in tqdm(['random', 'best']):\n",
    "        for depth in range(1, 21):\n",
    "            for spl in range(2, 8):\n",
    "                    # Определение гиперпараметров модели\n",
    "                    model = DecisionTreeClassifier(random_state=12345,\n",
    "                                                   max_depth=depth,\n",
    "                                                   splitter=el,\n",
    "                                                   min_samples_split=spl)\n",
    "                                                   \n",
    "                    # обучение модели\n",
    "                    model.fit(features_downsampled, target_downsampled) \n",
    "                    # предсказания модели на валидационной выборке\n",
    "                    predictions = model.predict(features_valid) \n",
    "                    # нахождение качества модели для валидационной выборки\n",
    "                    score_DTC = f1_score(target_valid, predictions)\n",
    "                    if score_DTC > best_result_DTC:\n",
    "                        f1_score_DTC_ds = score_DTC\n",
    "                        best_model_DTC_ds = model\n",
    "                        DTC_depth_ds = depth\n",
    "                        DTC_splitter_ds = el\n",
    "                        DTC_split_ds = spl\n",
    "                        \n",
    "                \n",
    "print(f'top_f1_score_DTC_ls: {f1_score_DTC_ds}'\n",
    "     f'\\nmax_depth: {DTC_depth_ds}' \n",
    "     f'\\nsplitter: {DTC_splitter_ds}'\n",
    "     f'\\nmin_samples_split: {DTC_split_ds}') "
   ]
  },
  {
   "cell_type": "markdown",
   "metadata": {},
   "source": [
    "*Модель DecisionTreeClassifier при балансировании уменьшением выборки показала F1-меру: 0.49*"
   ]
  },
  {
   "cell_type": "markdown",
   "metadata": {
    "editable": true,
    "slideshow": {
     "slide_type": ""
    },
    "tags": []
   },
   "source": [
    "### Модель RandomForestClassifier"
   ]
  },
  {
   "cell_type": "markdown",
   "metadata": {
    "editable": true,
    "slideshow": {
     "slide_type": ""
    },
    "tags": []
   },
   "source": [
    "#### Взвешивание классов"
   ]
  },
  {
   "cell_type": "code",
   "execution_count": 42,
   "metadata": {},
   "outputs": [
    {
     "name": "stderr",
     "output_type": "stream",
     "text": [
      "100%|██████████████████████████████████████████████████████████████████████████████████| 39/39 [04:47<00:00,  7.37s/it]"
     ]
    },
    {
     "name": "stdout",
     "output_type": "stream",
     "text": [
      "top_f1_score_RFC: 0.599721059972106\n",
      "n_estimators: 39\n",
      "max_depth: 11\n",
      "min_samples_split: 7\n"
     ]
    },
    {
     "name": "stderr",
     "output_type": "stream",
     "text": [
      "\n"
     ]
    }
   ],
   "source": [
    "model_RFC_b = None\n",
    "f1_score_RFC_b = 0\n",
    "for est in tqdm(range(1, 40)):\n",
    "    for depth in range(1, 12):\n",
    "        for spl in range(2, 8):\n",
    "            model = RandomForestClassifier(random_state=12345,\n",
    "                                          n_estimators=est,\n",
    "                                          max_depth=depth,\n",
    "                                          min_samples_split=spl,\n",
    "                                          class_weight='balanced')\n",
    "\n",
    "            model.fit(features_train, target_train)\n",
    "            predictions_valid = model.predict(features_valid)\n",
    "            score = f1_score(target_valid, predictions_valid)\n",
    "            if score > f1_score_RFC:\n",
    "                f1_score_RFC_b = score\n",
    "                best_model_RFC_b = model\n",
    "                RFC_estimators_b = est\n",
    "                RFC_depth_b = depth\n",
    "                RFC_split_b = spl\n",
    "               \n",
    "                    \n",
    "    \n",
    "    \n",
    "print(f'top_f1_score_RFC: {f1_score_RFC_b}'\n",
    "     f'\\nn_estimators: {RFC_estimators_b}'\n",
    "     f'\\nmax_depth: {RFC_depth_b}'\n",
    "     f'\\nmin_samples_split: {RFC_split_b}')"
   ]
  },
  {
   "cell_type": "markdown",
   "metadata": {},
   "source": [
    "*Модель RandomForestClassifier при гиперпараметре `class_weight='balanced'` показала F1-меру: 0.6*"
   ]
  },
  {
   "cell_type": "markdown",
   "metadata": {},
   "source": [
    "#### Обучение на увеличенной выборке"
   ]
  },
  {
   "cell_type": "markdown",
   "metadata": {},
   "source": [
    "Проводить обучение будем с учётом балансирования выборки в большую сторону для лучшей точности. Используем  RandomForestClassifier как модель, которая лучше всего себя показала. Получим F1-меру."
   ]
  },
  {
   "cell_type": "code",
   "execution_count": 43,
   "metadata": {},
   "outputs": [
    {
     "name": "stderr",
     "output_type": "stream",
     "text": [
      "100%|██████████████████████████████████████████████████████████████████████████████████| 39/39 [05:59<00:00,  9.22s/it]"
     ]
    },
    {
     "name": "stdout",
     "output_type": "stream",
     "text": [
      "top_f1_score_RFC: 0.592020592020592\n",
      "n_estimators: 39\n",
      "max_depth: 11\n",
      "min_samples_split: 7\n"
     ]
    },
    {
     "name": "stderr",
     "output_type": "stream",
     "text": [
      "\n"
     ]
    }
   ],
   "source": [
    "model_RFC_us = None\n",
    "f1_score_RFC_us = 0\n",
    "for est in tqdm(range(1, 40)):\n",
    "    for depth in range(1, 12):\n",
    "        for spl in range(2, 8):\n",
    "            model = RandomForestClassifier(random_state=12345,\n",
    "                                          n_estimators=est,\n",
    "                                          max_depth=depth,\n",
    "                                          min_samples_split=spl)\n",
    "\n",
    "            model.fit(features_unsample, target_unsample)\n",
    "            predictions_valid = model.predict(features_valid)\n",
    "            score = f1_score(target_valid, predictions_valid)\n",
    "            if score > f1_score_RFC:\n",
    "                f1_score_RFC_us = score\n",
    "                best_model_RFC_us = model\n",
    "                RFC_estimators_us = est\n",
    "                RFC_depth_us = depth\n",
    "                RFC_split_us = spl\n",
    "               \n",
    "                    \n",
    "    \n",
    "    \n",
    "print(f'top_f1_score_RFC: {f1_score_RFC_us}'\n",
    "     f'\\nn_estimators: {RFC_estimators_us}'\n",
    "     f'\\nmax_depth: {RFC_depth_us}'\n",
    "     f'\\nmin_samples_split: {RFC_split_us}')\n",
    "       "
   ]
  },
  {
   "cell_type": "markdown",
   "metadata": {},
   "source": [
    "*Модель RandomForestClassifier при балансировании увеличением выборки показала F1-меру: 0.59*"
   ]
  },
  {
   "cell_type": "markdown",
   "metadata": {},
   "source": [
    "#### Обучение на уменьшенной выборке"
   ]
  },
  {
   "cell_type": "markdown",
   "metadata": {},
   "source": [
    "Проведём эксперимент и обучим модель на уменьшенной выборке."
   ]
  },
  {
   "cell_type": "code",
   "execution_count": 44,
   "metadata": {},
   "outputs": [
    {
     "name": "stderr",
     "output_type": "stream",
     "text": [
      "100%|██████████████████████████████████████████████████████████████████████████████████| 39/39 [02:40<00:00,  4.11s/it]"
     ]
    },
    {
     "name": "stdout",
     "output_type": "stream",
     "text": [
      "top_f1_score_RFC: 0.5839909808342727\n",
      "n_estimators: 39\n",
      "max_depth: 7\n",
      "min_samples_split: 4\n"
     ]
    },
    {
     "name": "stderr",
     "output_type": "stream",
     "text": [
      "\n"
     ]
    }
   ],
   "source": [
    "best_model_RFC_ds = None\n",
    "f1_score_RFC_ds = 0\n",
    "for est in tqdm(range(1, 40)):\n",
    "    for depth in range(1, 12):\n",
    "        for spl in range(2, 8):\n",
    "            model = RandomForestClassifier(random_state=12345,\n",
    "                                          n_estimators=est,\n",
    "                                          max_depth=depth,\n",
    "                                          min_samples_split=spl)\n",
    "\n",
    "            model.fit(features_downsampled, target_downsampled)\n",
    "            predictions_valid = model.predict(features_valid)\n",
    "            score = f1_score(target_valid, predictions_valid)\n",
    "            if score > f1_score_RFC:\n",
    "                RFC_score_ds = score\n",
    "                best_model_RFC_ds = model\n",
    "                RFC_estimators_ds = est\n",
    "                RFC_depth_ds = depth\n",
    "                RFC_split_ds = spl\n",
    "                \n",
    "                    \n",
    "    \n",
    "    \n",
    "print(f'top_f1_score_RFC: {RFC_score_ds}'\n",
    "     f'\\nn_estimators: {RFC_estimators_ds}'\n",
    "     f'\\nmax_depth: {RFC_depth_ds}'\n",
    "     f'\\nmin_samples_split: {RFC_split_ds}')\n",
    "        "
   ]
  },
  {
   "cell_type": "markdown",
   "metadata": {},
   "source": [
    "*Модель RandomForestClassifier при балансировании уменьшением выборки показала F1-меру: 0.58*"
   ]
  },
  {
   "cell_type": "markdown",
   "metadata": {},
   "source": [
    "### Модель LogisticRegression"
   ]
  },
  {
   "cell_type": "markdown",
   "metadata": {
    "editable": true,
    "slideshow": {
     "slide_type": ""
    },
    "tags": []
   },
   "source": [
    "#### Взвешивание классов"
   ]
  },
  {
   "cell_type": "markdown",
   "metadata": {},
   "source": [
    "Проведём балансировку класса, используя гиперпараметр class_weight='balanced'."
   ]
  },
  {
   "cell_type": "code",
   "execution_count": 45,
   "metadata": {},
   "outputs": [
    {
     "name": "stdout",
     "output_type": "stream",
     "text": [
      "F1: 0.5087040618955513\n"
     ]
    }
   ],
   "source": [
    "model = LogisticRegression(random_state=12345, solver='liblinear', class_weight='balanced')\n",
    "model.fit(features_train, target_train)\n",
    "predicted_valid_b = model.predict(features_valid)\n",
    "print(\"F1:\", f1_score(target_valid, predicted_valid_b))"
   ]
  },
  {
   "cell_type": "markdown",
   "metadata": {},
   "source": [
    "*Модель LogisticRegression при гиперпараметре class_weight='balanced' показала F1-меру: 0.509*"
   ]
  },
  {
   "cell_type": "markdown",
   "metadata": {},
   "source": [
    "#### Обучение на увеличенной выборке"
   ]
  },
  {
   "cell_type": "code",
   "execution_count": 46,
   "metadata": {},
   "outputs": [
    {
     "name": "stdout",
     "output_type": "stream",
     "text": [
      "F1: 0.5087040618955513\n"
     ]
    }
   ],
   "source": [
    "model = LogisticRegression(random_state=12345, solver='liblinear', class_weight='balanced')\n",
    "model.fit(features_unsample, target_unsample)\n",
    "predicted_valid_us = model.predict(features_valid)\n",
    "print(\"F1:\", f1_score(target_valid, predicted_valid_us))"
   ]
  },
  {
   "cell_type": "markdown",
   "metadata": {},
   "source": [
    "*Модель LogisticRegression при балансировании увеличением выборки показала F1-меру: 0.509*"
   ]
  },
  {
   "cell_type": "markdown",
   "metadata": {},
   "source": [
    "#### Обучение на уменьшенной выборке"
   ]
  },
  {
   "cell_type": "code",
   "execution_count": 47,
   "metadata": {},
   "outputs": [
    {
     "name": "stdout",
     "output_type": "stream",
     "text": [
      "F1: 0.5071496663489038\n"
     ]
    }
   ],
   "source": [
    "model = LogisticRegression(random_state=12345, solver='liblinear', class_weight='balanced')\n",
    "model.fit(features_downsampled, target_downsampled)\n",
    "predicted_valid_ds = model.predict(features_valid)\n",
    "print(\"F1:\", f1_score(target_valid, predicted_valid_ds))"
   ]
  },
  {
   "cell_type": "markdown",
   "metadata": {},
   "source": [
    "*Модель LogisticRegression при балансировании уменьшением выборки показала F1-меру: 0.507*"
   ]
  },
  {
   "cell_type": "markdown",
   "metadata": {
    "editable": true,
    "slideshow": {
     "slide_type": ""
    },
    "tags": []
   },
   "source": [
    "### Заключение"
   ]
  },
  {
   "cell_type": "markdown",
   "metadata": {},
   "source": [
    "**Вывод:** \n",
    "- Лучшей моделью оказалась RandomForestClassifier(**best_model_RFC_b**)\n",
    "- В результате балансирования классов удалось улучшить показатель F1-меры, до балансирования метрика лучшей модели RandomForestClassifier была 0.58, после проведения балансирования 0.6. \n",
    "- Наилучший результат F1-меры показала модель, сбалансированная гиперпараметром `class_weight='balanced'`.\n",
    "\n",
    "\n",
    "Использованные гиперпараметры модели:\n",
    "- random_state: 12345\n",
    "- n_estimators: 39\n",
    "- max_depth: 11\n",
    "- min_samples_split: 7\n",
    "- class_weight: 'balanced'"
   ]
  },
  {
   "cell_type": "markdown",
   "metadata": {
    "editable": true,
    "slideshow": {
     "slide_type": ""
    },
    "tags": []
   },
   "source": [
    "## Тестирование модели"
   ]
  },
  {
   "cell_type": "markdown",
   "metadata": {},
   "source": [
    "Проведём тестирование лучшей модели, сравним F1-меру и метрику AUC-ROC."
   ]
  },
  {
   "cell_type": "markdown",
   "metadata": {},
   "source": [
    "### Тестирование"
   ]
  },
  {
   "cell_type": "code",
   "execution_count": 48,
   "metadata": {},
   "outputs": [
    {
     "name": "stdout",
     "output_type": "stream",
     "text": [
      "Значение F1-меры на тестовой выборке: 0.6364883401920439\n"
     ]
    }
   ],
   "source": [
    "predictions_test = best_model_RFC_b.predict(features_test)\n",
    "rfc_test_score = f1_score(target_test, predictions_test)\n",
    "print(f'Значение F1-меры на тестовой выборке: {rfc_test_score}')"
   ]
  },
  {
   "cell_type": "markdown",
   "metadata": {},
   "source": [
    "### Метрика AUC-ROC"
   ]
  },
  {
   "cell_type": "markdown",
   "metadata": {},
   "source": [
    "Чтобы выявить, как сильно наша модель отличается от случайной, посчитаем AUC-ROC."
   ]
  },
  {
   "cell_type": "code",
   "execution_count": 49,
   "metadata": {},
   "outputs": [
    {
     "name": "stdout",
     "output_type": "stream",
     "text": [
      "0.869820820845061\n"
     ]
    }
   ],
   "source": [
    "probabilities_test = best_model_RFC_b.predict_proba(features_test)\n",
    "probabilities_one_valid = probabilities_test[:, 1]\n",
    "auc_roc = roc_auc_score(target_test, probabilities_one_valid)\n",
    "print(auc_roc)"
   ]
  },
  {
   "cell_type": "code",
   "execution_count": 50,
   "metadata": {
    "editable": true,
    "slideshow": {
     "slide_type": ""
    },
    "tags": []
   },
   "outputs": [
    {
     "data": {
      "text/plain": [
       "Text(0.5, 1.0, 'ROC-кривая')"
      ]
     },
     "execution_count": 50,
     "metadata": {},
     "output_type": "execute_result"
    },
    {
     "data": {
      "image/png": "[encoded data removed]",
      "text/plain": [
       "<Figure size 640x480 with 1 Axes>"
      ]
     },
     "metadata": {},
     "output_type": "display_data"
    }
   ],
   "source": [
    "fpr, tpr, thresholds = roc_curve(target_test, probabilities_one_valid) \n",
    "plt.plot(fpr, tpr)\n",
    "plt.plot(probabilities_one_valid, probabilities_one_valid, linestyle = 'dashed')\n",
    "plt.xlabel('False Positive Rate')\n",
    "plt.ylabel('True Positive Rate')\n",
    "plt.title('ROC-кривая')"
   ]
  },
  {
   "cell_type": "markdown",
   "metadata": {},
   "source": [
    "*Полученное значение метрики говорит о высоком качестве  модели, отличающейся от случайной.*"
   ]
  },
  {
   "cell_type": "markdown",
   "metadata": {},
   "source": [
    "Изучим показатель метрики `recall`"
   ]
  },
  {
   "cell_type": "code",
   "execution_count": 51,
   "metadata": {},
   "outputs": [
    {
     "name": "stdout",
     "output_type": "stream",
     "text": [
      "0.6253369272237197\n"
     ]
    }
   ],
   "source": [
    "print(recall_score(target_test, predictions_test))"
   ]
  },
  {
   "cell_type": "markdown",
   "metadata": {},
   "source": [
    "### Заключение"
   ]
  },
  {
   "cell_type": "markdown",
   "metadata": {},
   "source": [
    "**Вывод:**"
   ]
  },
  {
   "cell_type": "markdown",
   "metadata": {
    "editable": true,
    "slideshow": {
     "slide_type": ""
    },
    "tags": []
   },
   "source": [
    "В результате тестирование трёх моделей(DecisionTreeClassifier, RandomForestClassifier, LogisticRegression) с перебором гиперпараметров до решения вопроса с дисбалансом и после, была выбрана модель RandomForestClassifier, так как она показала лучшие параметры:\n",
    "- **Не решен вопрос с дисбалансом:**\n",
    " - RandomForestClassifier:\n",
    "   - F1-мера: 0.58\n",
    " - DecisionTreeClassifier:\n",
    "   - F1-мера: 0.52\n",
    " - LogisticRegression:\n",
    "   - F1-мера: 0.35\n",
    "   \n",
    "   \n",
    "- **Решен вопрос с дисбалансом:**\n",
    " - RandomForestClassifier:\n",
    "   - F1-мера: 0.6\n",
    " - DecisionTreeClassifier:\n",
    "   - F1-мера: 0.497\n",
    " - LogisticRegression:\n",
    "   - F1-мера: 0.508   \n",
    "\n",
    "\n",
    "Лучшим способом решения вопроса дисбаланса для моделей оказался способ указания гиперпараметра модели class_weight='balanced'. Метрика AUC-ROC показала значение 0.87, что говорит о качестве модели, которая отличается от случайной на 0.37. В целом можно сказать, что борьба с дисбалансом и обучение на увеличенной выборке положительно сказалось на модели. Метрика recall позволила определить как хорошо модель ищет клиентов, которые могут уйти, её точность: 0.625.\n",
    "\n",
    "Финальная модель позволяет с неплохой точностью определить потенциальных клиентов, которые могут уйти из банка и предопределить дальнейшие действия для предотвращения оттока клиентов."
   ]
  }
 ],
 "metadata": {
  "ExecuteTimeLog": [
   {
    "duration": 9408,
    "start_time": "2023-04-21T09:45:17.489Z"
   },
   {
    "duration": 404,
    "start_time": "2023-04-21T09:45:26.987Z"
   },
   {
    "duration": 105,
    "start_time": "2023-04-21T09:45:27.394Z"
   },
   {
    "duration": 395,
    "start_time": "2023-04-21T09:45:27.503Z"
   },
   {
    "duration": 9,
    "start_time": "2023-04-21T09:45:27.993Z"
   },
   {
    "duration": 307,
    "start_time": "2023-04-21T09:45:28.090Z"
   },
   {
    "duration": 190,
    "start_time": "2023-04-21T09:45:28.403Z"
   },
   {
    "duration": 98,
    "start_time": "2023-04-21T09:45:28.602Z"
   },
   {
    "duration": 196,
    "start_time": "2023-04-21T09:45:28.797Z"
   },
   {
    "duration": 294,
    "start_time": "2023-04-21T09:45:28.995Z"
   },
   {
    "duration": 96,
    "start_time": "2023-04-21T09:45:29.290Z"
   },
   {
    "duration": 103,
    "start_time": "2023-04-21T09:45:29.390Z"
   },
   {
    "duration": 201,
    "start_time": "2023-04-21T09:45:29.496Z"
   },
   {
    "duration": 293,
    "start_time": "2023-04-21T09:45:29.701Z"
   },
   {
    "duration": 202,
    "start_time": "2023-04-21T09:45:29.996Z"
   },
   {
    "duration": 399,
    "start_time": "2023-04-21T09:45:30.200Z"
   },
   {
    "duration": 111,
    "start_time": "2023-04-21T09:45:30.601Z"
   },
   {
    "duration": 198,
    "start_time": "2023-04-21T09:45:30.792Z"
   },
   {
    "duration": 294,
    "start_time": "2023-04-21T09:45:30.992Z"
   },
   {
    "duration": 302,
    "start_time": "2023-04-21T09:45:31.290Z"
   },
   {
    "duration": 194,
    "start_time": "2023-04-21T09:45:31.594Z"
   },
   {
    "duration": 292,
    "start_time": "2023-04-21T09:45:31.795Z"
   },
   {
    "duration": 486,
    "start_time": "2023-04-21T09:45:32.100Z"
   },
   {
    "duration": 7,
    "start_time": "2023-04-21T09:45:32.589Z"
   },
   {
    "duration": 14,
    "start_time": "2023-04-21T09:45:32.688Z"
   },
   {
    "duration": 93,
    "start_time": "2023-04-21T09:45:32.796Z"
   },
   {
    "duration": 1875687,
    "start_time": "2023-04-21T09:59:12.799Z"
   },
   {
    "duration": 301,
    "start_time": "2023-04-21T10:30:28.492Z"
   },
   {
    "duration": 104,
    "start_time": "2023-04-21T10:30:28.797Z"
   },
   {
    "duration": 208,
    "start_time": "2023-04-21T10:30:28.991Z"
   },
   {
    "duration": 190,
    "start_time": "2023-04-21T10:30:29.201Z"
   },
   {
    "duration": 295,
    "start_time": "2023-04-21T10:30:29.393Z"
   },
   {
    "duration": 200,
    "start_time": "2023-04-21T10:30:29.690Z"
   },
   {
    "duration": 1878820,
    "start_time": "2023-04-21T10:30:29.892Z"
   },
   {
    "duration": 0,
    "start_time": "2023-04-21T11:01:48.719Z"
   },
   {
    "duration": 0,
    "start_time": "2023-04-21T11:01:48.720Z"
   },
   {
    "duration": 0,
    "start_time": "2023-04-21T11:01:48.720Z"
   },
   {
    "duration": 0,
    "start_time": "2023-04-21T11:01:48.789Z"
   },
   {
    "duration": 99,
    "start_time": "2023-04-21T11:02:00.489Z"
   },
   {
    "duration": 104,
    "start_time": "2023-04-21T11:02:03.788Z"
   },
   {
    "duration": 104,
    "start_time": "2023-04-21T11:02:16.289Z"
   }
  ],
  "kernelspec": {
   "display_name": "Python 3 (ipykernel)",
   "language": "python",
   "name": "python3"
  },
  "language_info": {
   "codemirror_mode": {
    "name": "ipython",
    "version": 3
   },
   "file_extension": ".py",
   "mimetype": "text/x-python",
   "name": "python",
   "nbconvert_exporter": "python",
   "pygments_lexer": "ipython3",
   "version": "3.11.5"
  },
  "toc": {
   "base_numbering": 1,
   "nav_menu": {},
   "number_sections": true,
   "sideBar": true,
   "skip_h1_title": true,
   "title_cell": "Содержание",
   "title_sidebar": "Contents",
   "toc_cell": true,
   "toc_position": {
    "height": "calc(100% - 180px)",
    "left": "10px",
    "top": "150px",
    "width": "374.391px"
   },
   "toc_section_display": true,
   "toc_window_display": true
  },
  "toc-autonumbering": true,
  "toc-showmarkdowntxt": true
 },
 "nbformat": 4,
 "nbformat_minor": 4
}
