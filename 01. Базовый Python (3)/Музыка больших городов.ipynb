{
 "cells": [
  {
   "cell_type": "markdown",
   "metadata": {
    "deletable": false,
    "id": "E0vqbgi9ay0H",
    "slideshow": {
     "slide_type": ""
    },
    "tags": []
   },
   "source": [
    "# Исследование музыки больших городов"
   ]
  },
  {
   "cell_type": "markdown",
   "metadata": {
    "deletable": false,
    "editable": true,
    "id": "VUC88oWjTJw2",
    "slideshow": {
     "slide_type": ""
    },
    "tags": []
   },
   "source": [
    "Существует догадка, что музыкальные предпочтения людей в Москве и Санкт-Петербурге отличаются, это необходимо проверить.\n",
    "\n",
    "**Цель исследования** — проверить три гипотезы:\n",
    "1. Активность пользователей зависит от дня недели.\n",
    "2. В разные дни недели преобладают разные жанры, причём для каждого города своя статистика.\n",
    "3. Москва и Петербург различаются по предпочтениям жанров музыки.\n",
    "\n",
    "**Описание данных**</br>\n",
    "Данные о пользователях предоставлены из сервиса Яндекс Музыка и находятся в файле `yandex_music_project.csv`.\n",
    "\n",
    "**Ход исследования**</br>\n",
    " 1. Обзор данных.\n",
    " 2. Предобработка данных.\n",
    " 3. Проверка гипотез.\n",
    "\n"
   ]
  },
  {
   "cell_type": "markdown",
   "metadata": {
    "deletable": false,
    "editable": true,
    "id": "Ml1hmfXC_Zcs",
    "slideshow": {
     "slide_type": ""
    },
    "tags": []
   },
   "source": [
    "## Обзор данных"
   ]
  },
  {
   "cell_type": "markdown",
   "metadata": {
    "deletable": false,
    "editable": true,
    "id": "57eAOGIz_Zcs",
    "slideshow": {
     "slide_type": ""
    },
    "tags": [
     "start_task"
    ]
   },
   "source": [
    "Импортируем библиотеку `pandas` для работы"
   ]
  },
  {
   "cell_type": "code",
   "execution_count": 1,
   "metadata": {
    "deletable": false,
    "editable": true,
    "id": "AXN7PHPN_Zcs",
    "slideshow": {
     "slide_type": ""
    },
    "tags": []
   },
   "outputs": [],
   "source": [
    "import pandas as pd # импорт библиотеки pandas"
   ]
  },
  {
   "cell_type": "markdown",
   "metadata": {
    "deletable": false,
    "editable": true,
    "id": "SG23P8tt_Zcs",
    "slideshow": {
     "slide_type": ""
    },
    "tags": [
     "start_task"
    ]
   },
   "source": [
    "Получим файл `yandex_music_project.csv`"
   ]
  },
  {
   "cell_type": "code",
   "execution_count": 2,
   "metadata": {
    "deletable": false,
    "editable": true,
    "id": "fFVu7vqh_Zct",
    "slideshow": {
     "slide_type": ""
    },
    "tags": []
   },
   "outputs": [],
   "source": [
    "df = pd.read_csv('yandex_music_project.csv')"
   ]
  },
  {
   "cell_type": "markdown",
   "metadata": {
    "deletable": false,
    "editable": true,
    "id": "rDoOMd3uTqnZ",
    "slideshow": {
     "slide_type": ""
    },
    "tags": [
     "start_task"
    ]
   },
   "source": [
    "Выведем на экран первый 10 строк таблицы:"
   ]
  },
  {
   "cell_type": "code",
   "execution_count": 3,
   "metadata": {
    "deletable": false,
    "editable": true,
    "id": "oWTVX3gW_Zct",
    "slideshow": {
     "slide_type": ""
    },
    "tags": []
   },
   "outputs": [
    {
     "data": {
      "text/html": [
       "<div>\n",
       "<style scoped>\n",
       "    .dataframe tbody tr th:only-of-type {\n",
       "        vertical-align: middle;\n",
       "    }\n",
       "\n",
       "    .dataframe tbody tr th {\n",
       "        vertical-align: top;\n",
       "    }\n",
       "\n",
       "    .dataframe thead th {\n",
       "        text-align: right;\n",
       "    }\n",
       "</style>\n",
       "<table border=\"1\" class=\"dataframe\">\n",
       "  <thead>\n",
       "    <tr style=\"text-align: right;\">\n",
       "      <th></th>\n",
       "      <th>userID</th>\n",
       "      <th>Track</th>\n",
       "      <th>artist</th>\n",
       "      <th>genre</th>\n",
       "      <th>City</th>\n",
       "      <th>time</th>\n",
       "      <th>Day</th>\n",
       "    </tr>\n",
       "  </thead>\n",
       "  <tbody>\n",
       "    <tr>\n",
       "      <th>0</th>\n",
       "      <td>FFB692EC</td>\n",
       "      <td>Kamigata To Boots</td>\n",
       "      <td>The Mass Missile</td>\n",
       "      <td>rock</td>\n",
       "      <td>Saint-Petersburg</td>\n",
       "      <td>20:28:33</td>\n",
       "      <td>Wednesday</td>\n",
       "    </tr>\n",
       "    <tr>\n",
       "      <th>1</th>\n",
       "      <td>55204538</td>\n",
       "      <td>Delayed Because of Accident</td>\n",
       "      <td>Andreas Rönnberg</td>\n",
       "      <td>rock</td>\n",
       "      <td>Moscow</td>\n",
       "      <td>14:07:09</td>\n",
       "      <td>Friday</td>\n",
       "    </tr>\n",
       "    <tr>\n",
       "      <th>2</th>\n",
       "      <td>20EC38</td>\n",
       "      <td>Funiculì funiculà</td>\n",
       "      <td>Mario Lanza</td>\n",
       "      <td>pop</td>\n",
       "      <td>Saint-Petersburg</td>\n",
       "      <td>20:58:07</td>\n",
       "      <td>Wednesday</td>\n",
       "    </tr>\n",
       "    <tr>\n",
       "      <th>3</th>\n",
       "      <td>A3DD03C9</td>\n",
       "      <td>Dragons in the Sunset</td>\n",
       "      <td>Fire + Ice</td>\n",
       "      <td>folk</td>\n",
       "      <td>Saint-Petersburg</td>\n",
       "      <td>08:37:09</td>\n",
       "      <td>Monday</td>\n",
       "    </tr>\n",
       "    <tr>\n",
       "      <th>4</th>\n",
       "      <td>E2DC1FAE</td>\n",
       "      <td>Soul People</td>\n",
       "      <td>Space Echo</td>\n",
       "      <td>dance</td>\n",
       "      <td>Moscow</td>\n",
       "      <td>08:34:34</td>\n",
       "      <td>Monday</td>\n",
       "    </tr>\n",
       "    <tr>\n",
       "      <th>5</th>\n",
       "      <td>842029A1</td>\n",
       "      <td>Преданная</td>\n",
       "      <td>IMPERVTOR</td>\n",
       "      <td>rusrap</td>\n",
       "      <td>Saint-Petersburg</td>\n",
       "      <td>13:09:41</td>\n",
       "      <td>Friday</td>\n",
       "    </tr>\n",
       "    <tr>\n",
       "      <th>6</th>\n",
       "      <td>4CB90AA5</td>\n",
       "      <td>True</td>\n",
       "      <td>Roman Messer</td>\n",
       "      <td>dance</td>\n",
       "      <td>Moscow</td>\n",
       "      <td>13:00:07</td>\n",
       "      <td>Wednesday</td>\n",
       "    </tr>\n",
       "    <tr>\n",
       "      <th>7</th>\n",
       "      <td>F03E1C1F</td>\n",
       "      <td>Feeling This Way</td>\n",
       "      <td>Polina Griffith</td>\n",
       "      <td>dance</td>\n",
       "      <td>Moscow</td>\n",
       "      <td>20:47:49</td>\n",
       "      <td>Wednesday</td>\n",
       "    </tr>\n",
       "    <tr>\n",
       "      <th>8</th>\n",
       "      <td>8FA1D3BE</td>\n",
       "      <td>И вновь продолжается бой</td>\n",
       "      <td>NaN</td>\n",
       "      <td>ruspop</td>\n",
       "      <td>Moscow</td>\n",
       "      <td>09:17:40</td>\n",
       "      <td>Friday</td>\n",
       "    </tr>\n",
       "    <tr>\n",
       "      <th>9</th>\n",
       "      <td>E772D5C0</td>\n",
       "      <td>Pessimist</td>\n",
       "      <td>NaN</td>\n",
       "      <td>dance</td>\n",
       "      <td>Saint-Petersburg</td>\n",
       "      <td>21:20:49</td>\n",
       "      <td>Wednesday</td>\n",
       "    </tr>\n",
       "  </tbody>\n",
       "</table>\n",
       "</div>"
      ],
      "text/plain": [
       "     userID                        Track            artist   genre  \\\n",
       "0  FFB692EC            Kamigata To Boots  The Mass Missile    rock   \n",
       "1  55204538  Delayed Because of Accident  Andreas Rönnberg    rock   \n",
       "2    20EC38            Funiculì funiculà       Mario Lanza     pop   \n",
       "3  A3DD03C9        Dragons in the Sunset        Fire + Ice    folk   \n",
       "4  E2DC1FAE                  Soul People        Space Echo   dance   \n",
       "5  842029A1                    Преданная         IMPERVTOR  rusrap   \n",
       "6  4CB90AA5                         True      Roman Messer   dance   \n",
       "7  F03E1C1F             Feeling This Way   Polina Griffith   dance   \n",
       "8  8FA1D3BE     И вновь продолжается бой               NaN  ruspop   \n",
       "9  E772D5C0                    Pessimist               NaN   dance   \n",
       "\n",
       "             City        time        Day  \n",
       "0  Saint-Petersburg  20:28:33  Wednesday  \n",
       "1            Moscow  14:07:09     Friday  \n",
       "2  Saint-Petersburg  20:58:07  Wednesday  \n",
       "3  Saint-Petersburg  08:37:09     Monday  \n",
       "4            Moscow  08:34:34     Monday  \n",
       "5  Saint-Petersburg  13:09:41     Friday  \n",
       "6            Moscow  13:00:07  Wednesday  \n",
       "7            Moscow  20:47:49  Wednesday  \n",
       "8            Moscow  09:17:40     Friday  \n",
       "9  Saint-Petersburg  21:20:49  Wednesday  "
      ]
     },
     "execution_count": 3,
     "metadata": {},
     "output_type": "execute_result"
    }
   ],
   "source": [
    "df.head(10)"
   ]
  },
  {
   "cell_type": "markdown",
   "metadata": {
    "deletable": false,
    "editable": true,
    "id": "EO73Kwic_Zct",
    "slideshow": {
     "slide_type": ""
    },
    "tags": [
     "start_task"
    ]
   },
   "source": [
    "Получим информацию о таблице с помощью `info()`:"
   ]
  },
  {
   "cell_type": "code",
   "execution_count": 4,
   "metadata": {
    "deletable": false,
    "editable": true,
    "id": "DSf2kIb-_Zct",
    "slideshow": {
     "slide_type": ""
    },
    "tags": []
   },
   "outputs": [
    {
     "name": "stdout",
     "output_type": "stream",
     "text": [
      "<class 'pandas.core.frame.DataFrame'>\n",
      "RangeIndex: 65079 entries, 0 to 65078\n",
      "Data columns (total 7 columns):\n",
      " #   Column    Non-Null Count  Dtype \n",
      "---  ------    --------------  ----- \n",
      " 0     userID  65079 non-null  object\n",
      " 1   Track     63848 non-null  object\n",
      " 2   artist    57876 non-null  object\n",
      " 3   genre     63881 non-null  object\n",
      " 4     City    65079 non-null  object\n",
      " 5   time      65079 non-null  object\n",
      " 6   Day       65079 non-null  object\n",
      "dtypes: object(7)\n",
      "memory usage: 3.5+ MB\n"
     ]
    }
   ],
   "source": [
    "df.info()"
   ]
  },
  {
   "cell_type": "markdown",
   "metadata": {
    "deletable": false,
    "id": "TaQ2Iwbr_Zct",
    "slideshow": {
     "slide_type": ""
    },
    "tags": []
   },
   "source": [
    "В таблице семь столбцов. Тип данных во всех столбцах — `object`.\n",
    "\n",
    "Подробно разберём то, что находится в столбцах:\n",
    "* `userID` — идентификатор пользователя;\n",
    "* `Track` — название трека;  \n",
    "* `artist` — имя исполнителя;\n",
    "* `genre` — название жанра;\n",
    "* `City` — город пользователя;\n",
    "* `time` — время начала прослушивания;\n",
    "* `Day` — день недели.\n",
    "\n",
    "Количество значений в столбцах различается. Значит, в данных есть пропущенные значения."
   ]
  },
  {
   "cell_type": "markdown",
   "metadata": {
    "deletable": false,
    "editable": false,
    "id": "MCB6-dXG_Zct",
    "slideshow": {
     "slide_type": ""
    },
    "tags": []
   },
   "source": [
    "**Выводы**\n",
    "\n",
    "В каждой строке таблицы — данные о прослушанном треке. Часть колонок описывает саму композицию: название, исполнителя и жанр. Остальные данные рассказывают о пользователе: из какого он города, когда он слушал музыку. \n",
    "\n",
    "Предварительно можно утверждать, что данных достаточно для проверки гипотез. Но встречаются пропуски в данных, а в названиях колонок — расхождения с хорошим стилем.\n",
    "\n",
    "Чтобы двигаться дальше, нужно устранить проблемы в данных."
   ]
  },
  {
   "cell_type": "markdown",
   "metadata": {
    "deletable": false,
    "editable": true,
    "id": "SjYF6Ub9_Zct",
    "slideshow": {
     "slide_type": ""
    },
    "tags": []
   },
   "source": [
    "## Предобработка данных\n"
   ]
  },
  {
   "cell_type": "markdown",
   "metadata": {
    "editable": true,
    "slideshow": {
     "slide_type": ""
    },
    "tags": []
   },
   "source": [
    "Исправим стиль в заголовках столбцов, исключим пропуски. Затем проверим данные на дубликаты."
   ]
  },
  {
   "cell_type": "markdown",
   "metadata": {
    "deletable": false,
    "editable": true,
    "id": "dIaKXr29_Zct",
    "slideshow": {
     "slide_type": ""
    },
    "tags": [
     "start_task"
    ]
   },
   "source": [
    "### Стиль заголовков\n",
    "Изучим названия столбцов:"
   ]
  },
  {
   "cell_type": "code",
   "execution_count": 5,
   "metadata": {
    "deletable": false,
    "editable": true,
    "id": "oKOTdF_Q_Zct",
    "slideshow": {
     "slide_type": ""
    },
    "tags": []
   },
   "outputs": [
    {
     "data": {
      "text/plain": [
       "Index(['  userID', 'Track', 'artist', 'genre', '  City  ', 'time', 'Day'], dtype='object')"
      ]
     },
     "execution_count": 5,
     "metadata": {},
     "output_type": "execute_result"
    }
   ],
   "source": [
    "df.columns"
   ]
  },
  {
   "cell_type": "markdown",
   "metadata": {
    "deletable": false,
    "editable": true,
    "id": "zj5534cv_Zct",
    "slideshow": {
     "slide_type": ""
    },
    "tags": [
     "start_task"
    ]
   },
   "source": [
    "*Заметно, что столбцы имеют несоответствие представлениям о хорошем стиле. Исправим это:*\n",
    "* `'  userID'` → `'user_id'`;\n",
    "* `'Track'` → `'track'`;\n",
    "* `'  City  '` → `'city'`;\n",
    "* `'Day'` → `'day'`."
   ]
  },
  {
   "cell_type": "code",
   "execution_count": 6,
   "metadata": {
    "deletable": false,
    "editable": true,
    "id": "ISlFqs5y_Zct",
    "slideshow": {
     "slide_type": ""
    },
    "tags": []
   },
   "outputs": [],
   "source": [
    "df = df.rename(columns = {'  userID':'user_id', 'Track':'track', '  City  ':'city', 'Day':'day'})"
   ]
  },
  {
   "cell_type": "markdown",
   "metadata": {
    "deletable": false,
    "editable": true,
    "id": "1dqbh00J_Zct",
    "slideshow": {
     "slide_type": ""
    },
    "tags": [
     "start_task"
    ]
   },
   "source": [
    "Изучим результат преобразования:"
   ]
  },
  {
   "cell_type": "code",
   "execution_count": 7,
   "metadata": {
    "deletable": false,
    "editable": true,
    "id": "d4NOAmTW_Zct",
    "slideshow": {
     "slide_type": ""
    },
    "tags": []
   },
   "outputs": [
    {
     "data": {
      "text/plain": [
       "Index(['user_id', 'track', 'artist', 'genre', 'city', 'time', 'day'], dtype='object')"
      ]
     },
     "execution_count": 7,
     "metadata": {},
     "output_type": "execute_result"
    }
   ],
   "source": [
    "df.columns"
   ]
  },
  {
   "cell_type": "markdown",
   "metadata": {
    "deletable": false,
    "id": "5ISfbcfY_Zct",
    "slideshow": {
     "slide_type": ""
    },
    "tags": [
     "start_task"
    ]
   },
   "source": [
    "### Пропуски значений\n",
    "\n",
    "Изучим, сколько пропусков в таблице. Используем `isna()` и `sum()`:"
   ]
  },
  {
   "cell_type": "code",
   "execution_count": 8,
   "metadata": {
    "deletable": false,
    "editable": true,
    "id": "RskX29qr_Zct",
    "slideshow": {
     "slide_type": ""
    },
    "tags": []
   },
   "outputs": [
    {
     "data": {
      "text/plain": [
       "user_id       0\n",
       "track      1231\n",
       "artist     7203\n",
       "genre      1198\n",
       "city          0\n",
       "time          0\n",
       "day           0\n",
       "dtype: int64"
      ]
     },
     "execution_count": 8,
     "metadata": {},
     "output_type": "execute_result"
    }
   ],
   "source": [
    "df.isna().sum()"
   ]
  },
  {
   "cell_type": "markdown",
   "metadata": {
    "slideshow": {
     "slide_type": ""
    },
    "tags": []
   },
   "source": [
    "Пустые значения свидетельствуют, что для некоторых треков доступна не вся информация. Причины могут быть разные: скажем, нет конкретного исполнителя. Хуже, если проблемы с записью данных. Каждый отдельный случай необходимо разобрать и выявить причину. Этот проект предусматривает упрощенное решение вопроса.\r\n",
    "\r\n",
    "Заменяем пропущенные значения в столбцах с названием трека и исполнителя на строку 'unknown'. После этой операции нужно убедиться, что таблица больше не содержит пропусков."
   ]
  },
  {
   "cell_type": "code",
   "execution_count": 9,
   "metadata": {
    "deletable": false,
    "editable": true,
    "id": "KplB5qWs_Zct",
    "slideshow": {
     "slide_type": ""
    },
    "tags": []
   },
   "outputs": [],
   "source": [
    "columns_to_replace = ['track', 'artist', 'genre']# перебор названий столбцов в цикле и замена пропущенных значений на 'unknown'\n",
    "for el in columns_to_replace:\n",
    "    df[el] = df[el].fillna('unknown')"
   ]
  },
  {
   "cell_type": "markdown",
   "metadata": {
    "deletable": false,
    "id": "Ilsm-MZo_Zct",
    "slideshow": {
     "slide_type": ""
    },
    "tags": [
     "start_task"
    ]
   },
   "source": [
    "Проверим, есть ли пропуски:"
   ]
  },
  {
   "cell_type": "code",
   "execution_count": 10,
   "metadata": {
    "deletable": false,
    "editable": true,
    "id": "Tq4nYRX4_Zct",
    "slideshow": {
     "slide_type": ""
    },
    "tags": []
   },
   "outputs": [
    {
     "data": {
      "text/plain": [
       "user_id    0\n",
       "track      0\n",
       "artist     0\n",
       "genre      0\n",
       "city       0\n",
       "time       0\n",
       "day        0\n",
       "dtype: int64"
      ]
     },
     "execution_count": 10,
     "metadata": {},
     "output_type": "execute_result"
    }
   ],
   "source": [
    "df.isna().sum()"
   ]
  },
  {
   "cell_type": "markdown",
   "metadata": {
    "deletable": false,
    "editable": true,
    "id": "BWKRtBJ3_Zct",
    "slideshow": {
     "slide_type": ""
    },
    "tags": [
     "start_task"
    ]
   },
   "source": [
    "### Дубликаты"
   ]
  },
  {
   "cell_type": "markdown",
   "metadata": {
    "editable": true,
    "slideshow": {
     "slide_type": ""
    },
    "tags": []
   },
   "source": [
    "Подсчитаем дубликаты:"
   ]
  },
  {
   "cell_type": "code",
   "execution_count": 11,
   "metadata": {
    "deletable": false,
    "editable": true,
    "id": "36eES_S0_Zct",
    "slideshow": {
     "slide_type": ""
    },
    "tags": []
   },
   "outputs": [
    {
     "data": {
      "text/plain": [
       "3826"
      ]
     },
     "execution_count": 11,
     "metadata": {},
     "output_type": "execute_result"
    }
   ],
   "source": [
    "df.duplicated().sum()# подсчёт явных дубликатов"
   ]
  },
  {
   "cell_type": "markdown",
   "metadata": {
    "deletable": false,
    "editable": true,
    "id": "Ot25h6XR_Zct",
    "slideshow": {
     "slide_type": ""
    },
    "tags": [
     "start_task"
    ]
   },
   "source": [
    "Удалим явные дубликаты:"
   ]
  },
  {
   "cell_type": "code",
   "execution_count": 12,
   "metadata": {
    "deletable": false,
    "editable": true,
    "id": "exFHq6tt_Zct",
    "slideshow": {
     "slide_type": ""
    },
    "tags": []
   },
   "outputs": [],
   "source": [
    "df = df.drop_duplicates()"
   ]
  },
  {
   "cell_type": "markdown",
   "metadata": {
    "deletable": false,
    "id": "Im2YwBEG_Zct",
    "slideshow": {
     "slide_type": ""
    },
    "tags": [
     "start_task"
    ]
   },
   "source": [
    "Убедимся, что дубликатов нет:"
   ]
  },
  {
   "cell_type": "code",
   "execution_count": 13,
   "metadata": {
    "deletable": false,
    "editable": true,
    "id": "-8PuNWQ0_Zct",
    "slideshow": {
     "slide_type": ""
    },
    "tags": []
   },
   "outputs": [
    {
     "data": {
      "text/plain": [
       "0"
      ]
     },
     "execution_count": 13,
     "metadata": {},
     "output_type": "execute_result"
    }
   ],
   "source": [
    "df.duplicated().sum()"
   ]
  },
  {
   "cell_type": "markdown",
   "metadata": {
    "deletable": false,
    "editable": true,
    "id": "QlFBsxAr_Zct",
    "slideshow": {
     "slide_type": ""
    },
    "tags": []
   },
   "source": [
    "Теперь избавимся от неявных дубликатов в колонке `genre`. "
   ]
  },
  {
   "cell_type": "markdown",
   "metadata": {
    "deletable": false,
    "editable": true,
    "id": "eSjWwsOh_Zct",
    "slideshow": {
     "slide_type": ""
    },
    "tags": [
     "start_task"
    ]
   },
   "source": [
    "Выведем на экран список уникальных названий жанров. "
   ]
  },
  {
   "cell_type": "code",
   "execution_count": 14,
   "metadata": {
    "deletable": false,
    "editable": true,
    "id": "JIUcqzZN_Zct",
    "slideshow": {
     "slide_type": ""
    },
    "tags": []
   },
   "outputs": [
    {
     "data": {
      "text/plain": [
       "array(['acid', 'acoustic', 'action', 'adult', 'africa', 'afrikaans',\n",
       "       'alternative', 'alternativepunk', 'ambient', 'americana',\n",
       "       'animated', 'anime', 'arabesk', 'arabic', 'arena',\n",
       "       'argentinetango', 'art', 'audiobook', 'author', 'avantgarde',\n",
       "       'axé', 'baile', 'balkan', 'beats', 'bigroom', 'black', 'bluegrass',\n",
       "       'blues', 'bollywood', 'bossa', 'brazilian', 'breakbeat', 'breaks',\n",
       "       'broadway', 'cantautori', 'cantopop', 'canzone', 'caribbean',\n",
       "       'caucasian', 'celtic', 'chamber', 'chanson', 'children', 'chill',\n",
       "       'chinese', 'choral', 'christian', 'christmas', 'classical',\n",
       "       'classicmetal', 'club', 'colombian', 'comedy', 'conjazz',\n",
       "       'contemporary', 'country', 'cuban', 'dance', 'dancehall',\n",
       "       'dancepop', 'dark', 'death', 'deep', 'deutschrock', 'deutschspr',\n",
       "       'dirty', 'disco', 'dnb', 'documentary', 'downbeat', 'downtempo',\n",
       "       'drum', 'dub', 'dubstep', 'eastern', 'easy', 'electronic',\n",
       "       'electropop', 'emo', 'entehno', 'epicmetal', 'estrada', 'ethnic',\n",
       "       'eurofolk', 'european', 'experimental', 'extrememetal', 'fado',\n",
       "       'fairytail', 'film', 'fitness', 'flamenco', 'folk', 'folklore',\n",
       "       'folkmetal', 'folkrock', 'folktronica', 'forró', 'frankreich',\n",
       "       'französisch', 'french', 'funk', 'future', 'gangsta', 'garage',\n",
       "       'german', 'ghazal', 'gitarre', 'glitch', 'gospel', 'gothic',\n",
       "       'grime', 'grunge', 'gypsy', 'handsup', \"hard'n'heavy\", 'hardcore',\n",
       "       'hardstyle', 'hardtechno', 'hip', 'hip-hop', 'hiphop',\n",
       "       'historisch', 'holiday', 'hop', 'horror', 'house', 'hymn', 'idm',\n",
       "       'independent', 'indian', 'indie', 'indipop', 'industrial',\n",
       "       'inspirational', 'instrumental', 'international', 'irish', 'jam',\n",
       "       'japanese', 'jazz', 'jewish', 'jpop', 'jungle', 'k-pop',\n",
       "       'karadeniz', 'karaoke', 'kayokyoku', 'korean', 'laiko', 'latin',\n",
       "       'latino', 'leftfield', 'local', 'lounge', 'loungeelectronic',\n",
       "       'lovers', 'malaysian', 'mandopop', 'marschmusik', 'meditative',\n",
       "       'mediterranean', 'melodic', 'metal', 'metalcore', 'mexican',\n",
       "       'middle', 'minimal', 'miscellaneous', 'modern', 'mood', 'mpb',\n",
       "       'muslim', 'native', 'neoklassik', 'neue', 'new', 'newage',\n",
       "       'newwave', 'nu', 'nujazz', 'numetal', 'oceania', 'old', 'opera',\n",
       "       'orchestral', 'other', 'piano', 'podcasts', 'pop', 'popdance',\n",
       "       'popelectronic', 'popeurodance', 'poprussian', 'post',\n",
       "       'posthardcore', 'postrock', 'power', 'progmetal', 'progressive',\n",
       "       'psychedelic', 'punjabi', 'punk', 'quebecois', 'ragga', 'ram',\n",
       "       'rancheras', 'rap', 'rave', 'reggae', 'reggaeton', 'regional',\n",
       "       'relax', 'religious', 'retro', 'rhythm', 'rnb', 'rnr', 'rock',\n",
       "       'rockabilly', 'rockalternative', 'rockindie', 'rockother',\n",
       "       'romance', 'roots', 'ruspop', 'rusrap', 'rusrock', 'russian',\n",
       "       'salsa', 'samba', 'scenic', 'schlager', 'self', 'sertanejo',\n",
       "       'shanson', 'shoegazing', 'showtunes', 'singer', 'ska', 'skarock',\n",
       "       'slow', 'smooth', 'soft', 'soul', 'soulful', 'sound', 'soundtrack',\n",
       "       'southern', 'specialty', 'speech', 'spiritual', 'sport',\n",
       "       'stonerrock', 'surf', 'swing', 'synthpop', 'synthrock',\n",
       "       'sängerportrait', 'tango', 'tanzorchester', 'taraftar', 'tatar',\n",
       "       'tech', 'techno', 'teen', 'thrash', 'top', 'traditional',\n",
       "       'tradjazz', 'trance', 'tribal', 'trip', 'triphop', 'tropical',\n",
       "       'türk', 'türkçe', 'ukrrock', 'unknown', 'urban', 'uzbek',\n",
       "       'variété', 'vi', 'videogame', 'vocal', 'western', 'world',\n",
       "       'worldbeat', 'ïîï', 'электроника'], dtype=object)"
      ]
     },
     "execution_count": 14,
     "metadata": {},
     "output_type": "execute_result"
    }
   ],
   "source": [
    "df.loc[:, 'genre'].sort_values().unique()"
   ]
  },
  {
   "cell_type": "markdown",
   "metadata": {
    "deletable": false,
    "id": "qej-Qmuo_Zct",
    "slideshow": {
     "slide_type": ""
    },
    "tags": [
     "start_task"
    ]
   },
   "source": [
    "На первй взгляд, есть неявные дубликаты только у названия `hiphop`:\n",
    "* *hip*,\n",
    "* *hop*,\n",
    "* *hip-hop*.\n",
    "\n",
    "Для очистки от них таблицы используем метод `replace()` с двумя аргументами: списком строк-дубликатов (включащий *hip*, *hop* и *hip-hop*) и строкой с правильным значением. "
   ]
  },
  {
   "cell_type": "code",
   "execution_count": 15,
   "metadata": {
    "deletable": false,
    "editable": true,
    "id": "ErNDkmns_Zct",
    "slideshow": {
     "slide_type": ""
    },
    "tags": []
   },
   "outputs": [],
   "source": [
    "bad_name = ['hip', 'hop', 'hip-hop']# Устранение неявных дубликатов\n",
    "for el in bad_name:\n",
    "    df['genre'] = df['genre'].replace(el, 'hiphop')"
   ]
  },
  {
   "cell_type": "markdown",
   "metadata": {
    "deletable": false,
    "editable": true,
    "id": "zQKF16_RG15m",
    "slideshow": {
     "slide_type": ""
    },
    "tags": [
     "start_task"
    ]
   },
   "source": [
    "Изучим результат преобразования"
   ]
  },
  {
   "cell_type": "code",
   "execution_count": 16,
   "metadata": {
    "deletable": false,
    "editable": true,
    "id": "wvixALnFG15m",
    "slideshow": {
     "slide_type": ""
    },
    "tags": []
   },
   "outputs": [
    {
     "data": {
      "text/plain": [
       "array(['acid', 'acoustic', 'action', 'adult', 'africa', 'afrikaans',\n",
       "       'alternative', 'alternativepunk', 'ambient', 'americana',\n",
       "       'animated', 'anime', 'arabesk', 'arabic', 'arena',\n",
       "       'argentinetango', 'art', 'audiobook', 'author', 'avantgarde',\n",
       "       'axé', 'baile', 'balkan', 'beats', 'bigroom', 'black', 'bluegrass',\n",
       "       'blues', 'bollywood', 'bossa', 'brazilian', 'breakbeat', 'breaks',\n",
       "       'broadway', 'cantautori', 'cantopop', 'canzone', 'caribbean',\n",
       "       'caucasian', 'celtic', 'chamber', 'chanson', 'children', 'chill',\n",
       "       'chinese', 'choral', 'christian', 'christmas', 'classical',\n",
       "       'classicmetal', 'club', 'colombian', 'comedy', 'conjazz',\n",
       "       'contemporary', 'country', 'cuban', 'dance', 'dancehall',\n",
       "       'dancepop', 'dark', 'death', 'deep', 'deutschrock', 'deutschspr',\n",
       "       'dirty', 'disco', 'dnb', 'documentary', 'downbeat', 'downtempo',\n",
       "       'drum', 'dub', 'dubstep', 'eastern', 'easy', 'electronic',\n",
       "       'electropop', 'emo', 'entehno', 'epicmetal', 'estrada', 'ethnic',\n",
       "       'eurofolk', 'european', 'experimental', 'extrememetal', 'fado',\n",
       "       'fairytail', 'film', 'fitness', 'flamenco', 'folk', 'folklore',\n",
       "       'folkmetal', 'folkrock', 'folktronica', 'forró', 'frankreich',\n",
       "       'französisch', 'french', 'funk', 'future', 'gangsta', 'garage',\n",
       "       'german', 'ghazal', 'gitarre', 'glitch', 'gospel', 'gothic',\n",
       "       'grime', 'grunge', 'gypsy', 'handsup', \"hard'n'heavy\", 'hardcore',\n",
       "       'hardstyle', 'hardtechno', 'hiphop', 'historisch', 'holiday',\n",
       "       'horror', 'house', 'hymn', 'idm', 'independent', 'indian', 'indie',\n",
       "       'indipop', 'industrial', 'inspirational', 'instrumental',\n",
       "       'international', 'irish', 'jam', 'japanese', 'jazz', 'jewish',\n",
       "       'jpop', 'jungle', 'k-pop', 'karadeniz', 'karaoke', 'kayokyoku',\n",
       "       'korean', 'laiko', 'latin', 'latino', 'leftfield', 'local',\n",
       "       'lounge', 'loungeelectronic', 'lovers', 'malaysian', 'mandopop',\n",
       "       'marschmusik', 'meditative', 'mediterranean', 'melodic', 'metal',\n",
       "       'metalcore', 'mexican', 'middle', 'minimal', 'miscellaneous',\n",
       "       'modern', 'mood', 'mpb', 'muslim', 'native', 'neoklassik', 'neue',\n",
       "       'new', 'newage', 'newwave', 'nu', 'nujazz', 'numetal', 'oceania',\n",
       "       'old', 'opera', 'orchestral', 'other', 'piano', 'podcasts', 'pop',\n",
       "       'popdance', 'popelectronic', 'popeurodance', 'poprussian', 'post',\n",
       "       'posthardcore', 'postrock', 'power', 'progmetal', 'progressive',\n",
       "       'psychedelic', 'punjabi', 'punk', 'quebecois', 'ragga', 'ram',\n",
       "       'rancheras', 'rap', 'rave', 'reggae', 'reggaeton', 'regional',\n",
       "       'relax', 'religious', 'retro', 'rhythm', 'rnb', 'rnr', 'rock',\n",
       "       'rockabilly', 'rockalternative', 'rockindie', 'rockother',\n",
       "       'romance', 'roots', 'ruspop', 'rusrap', 'rusrock', 'russian',\n",
       "       'salsa', 'samba', 'scenic', 'schlager', 'self', 'sertanejo',\n",
       "       'shanson', 'shoegazing', 'showtunes', 'singer', 'ska', 'skarock',\n",
       "       'slow', 'smooth', 'soft', 'soul', 'soulful', 'sound', 'soundtrack',\n",
       "       'southern', 'specialty', 'speech', 'spiritual', 'sport',\n",
       "       'stonerrock', 'surf', 'swing', 'synthpop', 'synthrock',\n",
       "       'sängerportrait', 'tango', 'tanzorchester', 'taraftar', 'tatar',\n",
       "       'tech', 'techno', 'teen', 'thrash', 'top', 'traditional',\n",
       "       'tradjazz', 'trance', 'tribal', 'trip', 'triphop', 'tropical',\n",
       "       'türk', 'türkçe', 'ukrrock', 'unknown', 'urban', 'uzbek',\n",
       "       'variété', 'vi', 'videogame', 'vocal', 'western', 'world',\n",
       "       'worldbeat', 'ïîï', 'электроника'], dtype=object)"
      ]
     },
     "execution_count": 16,
     "metadata": {},
     "output_type": "execute_result"
    }
   ],
   "source": [
    "df.loc[:, 'genre'].sort_values().unique()# Проверка на неявные дубликаты"
   ]
  },
  {
   "cell_type": "markdown",
   "metadata": {
    "deletable": false,
    "editable": true,
    "id": "jz6a9-7HQUDd",
    "slideshow": {
     "slide_type": ""
    },
    "tags": []
   },
   "source": [
    "**Выводы**\n",
    "\n",
    "Предобработка обнаружила три проблемы в данных:\n",
    "\n",
    "- нарушения в стиле заголовков,\n",
    "- пропущенные значения,\n",
    "- дубликаты — явные и неявные.\n",
    "\n",
    "Мы исправили заголовки, чтобы упростить работу с таблицей. Без дубликатов исследование станет более точным.\n",
    "Пропущенные значения заменили на `'unknown'`.\n",
    "Теперь можно перейти к проверке гипотез. "
   ]
  },
  {
   "cell_type": "markdown",
   "metadata": {
    "deletable": false,
    "editable": false,
    "id": "WttZHXH0SqKk",
    "slideshow": {
     "slide_type": ""
    },
    "tags": []
   },
   "source": [
    "## Проверка гипотез"
   ]
  },
  {
   "cell_type": "markdown",
   "metadata": {
    "deletable": false,
    "editable": false,
    "id": "Im936VVi_Zcu",
    "slideshow": {
     "slide_type": ""
    },
    "tags": []
   },
   "source": [
    "### Сравнение поведения пользователей двух столиц"
   ]
  },
  {
   "cell_type": "markdown",
   "metadata": {
    "deletable": false,
    "editable": true,
    "id": "nwt_MuaL_Zcu",
    "slideshow": {
     "slide_type": ""
    },
    "tags": []
   },
   "source": [
    "Первая гипотеза утверждает, что пользователи по-разному слушают музыку в Москве и Санкт-Петербурге. Проверим это предположение по данным о трёх днях недели — понедельнике, среде и пятнице. Для этого:\n",
    "\n",
    "* Разделим пользователей Москвы и Санкт-Петербурга.\n",
    "* Сравним, сколько треков послушала каждая группа пользователей в понедельник, среду и пятницу.\n"
   ]
  },
  {
   "cell_type": "markdown",
   "metadata": {
    "deletable": false,
    "id": "8Dw_YMmT_Zcu",
    "slideshow": {
     "slide_type": ""
    },
    "tags": [
     "start_task"
    ]
   },
   "source": [
    "Сгруппируем данные по городу и посчитайте прослушивания в каждой группе."
   ]
  },
  {
   "cell_type": "code",
   "execution_count": 17,
   "metadata": {
    "deletable": false,
    "editable": true,
    "id": "0_Qs96oh_Zcu",
    "slideshow": {
     "slide_type": ""
    },
    "tags": []
   },
   "outputs": [
    {
     "data": {
      "text/plain": [
       "city\n",
       "Moscow              42741\n",
       "Saint-Petersburg    18512\n",
       "Name: track, dtype: int64"
      ]
     },
     "execution_count": 17,
     "metadata": {},
     "output_type": "execute_result"
    }
   ],
   "source": [
    "df.groupby('city')['track'].count()"
   ]
  },
  {
   "cell_type": "markdown",
   "metadata": {
    "deletable": false,
    "editable": true,
    "id": "dzli3w8o_Zcu",
    "slideshow": {
     "slide_type": ""
    },
    "tags": [
     "start_task"
    ]
   },
   "source": [
    "Вероятно, пользователей в Петербурге больше, чем в Москве.\n",
    "\n",
    "Теперь сгруппируем данные по дню недели."
   ]
  },
  {
   "cell_type": "code",
   "execution_count": 18,
   "metadata": {
    "deletable": false,
    "editable": true,
    "id": "uZMKjiJz_Zcu",
    "slideshow": {
     "slide_type": ""
    },
    "tags": []
   },
   "outputs": [
    {
     "data": {
      "text/plain": [
       "day\n",
       "Friday       21840\n",
       "Monday       21354\n",
       "Wednesday    18059\n",
       "Name: track, dtype: int64"
      ]
     },
     "execution_count": 18,
     "metadata": {},
     "output_type": "execute_result"
    }
   ],
   "source": [
    "df.groupby('day')['track'].count()# Подсчёт прослушиваний в каждый из трёх дней"
   ]
  },
  {
   "cell_type": "markdown",
   "metadata": {
    "deletable": false,
    "editable": true,
    "id": "cC2tNrlL_Zcu",
    "slideshow": {
     "slide_type": ""
    },
    "tags": []
   },
   "source": [
    "*В среднем пользователи из двух городов менее активны по средам. Но картина может измениться, если рассмотреть каждый город в отдельности.*"
   ]
  },
  {
   "cell_type": "markdown",
   "metadata": {
    "deletable": false,
    "editable": true,
    "id": "POzs8bGa_Zcu",
    "slideshow": {
     "slide_type": ""
    },
    "tags": [
     "start_task"
    ]
   },
   "source": [
    "Напишем функцию, которая объединит группировку по городу и по дням недели. \n",
    "Создадим функцию `number_tracks()`, которая посчитает прослушивания для заданного дня и города."
   ]
  },
  {
   "cell_type": "code",
   "execution_count": 19,
   "metadata": {
    "deletable": false,
    "editable": true,
    "id": "Nz3GdQB1_Zcu",
    "slideshow": {
     "slide_type": ""
    },
    "tags": []
   },
   "outputs": [],
   "source": [
    "def number_tracks(day, city):\n",
    "    \"\"\"Функция для подсчёта прослушиваний для конкретного города и дня.\n",
    "    \"\"\"\n",
    "    track_list = df.loc[df.loc[:, 'day'] == day]\n",
    "    track_list = track_list.loc[track_list.loc[:, 'city'] == city]\n",
    "    track_list_count = track_list['user_id'].count()\n",
    "    return track_list_count"
   ]
  },
  {
   "cell_type": "markdown",
   "metadata": {
    "deletable": false,
    "id": "ytf7xFrFJQ2r",
    "slideshow": {
     "slide_type": ""
    },
    "tags": [
     "start_task"
    ]
   },
   "source": [
    "Вызовем `number_tracks()` шесть раз, меняя значение параметров — так, чтобы получить данные для каждого города в каждый из трёх дней."
   ]
  },
  {
   "cell_type": "code",
   "execution_count": 20,
   "metadata": {
    "deletable": false,
    "editable": true,
    "id": "rJcRATNQ_Zcu",
    "slideshow": {
     "slide_type": ""
    },
    "tags": []
   },
   "outputs": [
    {
     "data": {
      "text/plain": [
       "15740"
      ]
     },
     "execution_count": 20,
     "metadata": {},
     "output_type": "execute_result"
    }
   ],
   "source": [
    "number_tracks('Monday','Moscow')# количество прослушиваний в Москве по понедельникам"
   ]
  },
  {
   "cell_type": "code",
   "execution_count": 21,
   "metadata": {
    "deletable": false,
    "id": "hq_ncZ5T_Zcu"
   },
   "outputs": [
    {
     "data": {
      "text/plain": [
       "5614"
      ]
     },
     "execution_count": 21,
     "metadata": {},
     "output_type": "execute_result"
    }
   ],
   "source": [
    "number_tracks('Monday','Saint-Petersburg')# количество прослушиваний в Санкт-Петербурге по понедельникам"
   ]
  },
  {
   "cell_type": "code",
   "execution_count": 22,
   "metadata": {
    "deletable": false,
    "id": "_NTy2VPU_Zcu"
   },
   "outputs": [
    {
     "data": {
      "text/plain": [
       "11056"
      ]
     },
     "execution_count": 22,
     "metadata": {},
     "output_type": "execute_result"
    }
   ],
   "source": [
    "number_tracks('Wednesday','Moscow')# количество прослушиваний в Москве по средам"
   ]
  },
  {
   "cell_type": "code",
   "execution_count": 23,
   "metadata": {
    "deletable": false,
    "editable": true,
    "id": "j2y3TAwo_Zcu",
    "slideshow": {
     "slide_type": ""
    },
    "tags": []
   },
   "outputs": [
    {
     "data": {
      "text/plain": [
       "7003"
      ]
     },
     "execution_count": 23,
     "metadata": {},
     "output_type": "execute_result"
    }
   ],
   "source": [
    "number_tracks('Wednesday','Saint-Petersburg')# количество прослушиваний в Санкт-Петербурге по средам"
   ]
  },
  {
   "cell_type": "code",
   "execution_count": 24,
   "metadata": {
    "deletable": false,
    "editable": true,
    "id": "vYDw5u_K_Zcu",
    "slideshow": {
     "slide_type": ""
    },
    "tags": []
   },
   "outputs": [
    {
     "data": {
      "text/plain": [
       "15945"
      ]
     },
     "execution_count": 24,
     "metadata": {},
     "output_type": "execute_result"
    }
   ],
   "source": [
    "number_tracks('Friday','Moscow')# количество прослушиваний в Москве по пятницам"
   ]
  },
  {
   "cell_type": "code",
   "execution_count": 25,
   "metadata": {
    "deletable": false,
    "id": "8_yzFtW3_Zcu"
   },
   "outputs": [
    {
     "data": {
      "text/plain": [
       "5895"
      ]
     },
     "execution_count": 25,
     "metadata": {},
     "output_type": "execute_result"
    }
   ],
   "source": [
    "number_tracks('Friday','Saint-Petersburg')# количество прослушиваний в Санкт-Петербурге по пятницам"
   ]
  },
  {
   "cell_type": "markdown",
   "metadata": {
    "deletable": false,
    "id": "7QXffbO-_Zcu",
    "slideshow": {
     "slide_type": ""
    },
    "tags": [
     "start_task"
    ]
   },
   "source": [
    "Занесём количество прослушиваний по дням и городам в таблицу, испльзуем конструктор `pd.DataFrame`."
   ]
  },
  {
   "cell_type": "code",
   "execution_count": 26,
   "metadata": {
    "deletable": false,
    "editable": true,
    "id": "APAcLpOr_Zcu",
    "slideshow": {
     "slide_type": ""
    },
    "tags": []
   },
   "outputs": [
    {
     "data": {
      "text/html": [
       "<div>\n",
       "<style scoped>\n",
       "    .dataframe tbody tr th:only-of-type {\n",
       "        vertical-align: middle;\n",
       "    }\n",
       "\n",
       "    .dataframe tbody tr th {\n",
       "        vertical-align: top;\n",
       "    }\n",
       "\n",
       "    .dataframe thead th {\n",
       "        text-align: right;\n",
       "    }\n",
       "</style>\n",
       "<table border=\"1\" class=\"dataframe\">\n",
       "  <thead>\n",
       "    <tr style=\"text-align: right;\">\n",
       "      <th></th>\n",
       "      <th>city</th>\n",
       "      <th>monday</th>\n",
       "      <th>wednesday</th>\n",
       "      <th>friday</th>\n",
       "    </tr>\n",
       "  </thead>\n",
       "  <tbody>\n",
       "    <tr>\n",
       "      <th>0</th>\n",
       "      <td>Moscow</td>\n",
       "      <td>15740</td>\n",
       "      <td>11056</td>\n",
       "      <td>15945</td>\n",
       "    </tr>\n",
       "    <tr>\n",
       "      <th>1</th>\n",
       "      <td>Saint-Petersburg</td>\n",
       "      <td>5614</td>\n",
       "      <td>7003</td>\n",
       "      <td>5895</td>\n",
       "    </tr>\n",
       "  </tbody>\n",
       "</table>\n",
       "</div>"
      ],
      "text/plain": [
       "               city monday wednesday friday\n",
       "0            Moscow  15740     11056  15945\n",
       "1  Saint-Petersburg   5614      7003   5895"
      ]
     },
     "execution_count": 26,
     "metadata": {},
     "output_type": "execute_result"
    }
   ],
   "source": [
    "columns = ['city', 'monday', 'wednesday', 'friday']# Таблица с результатами\n",
    "data = [['Moscow', '15740', '11056', '15945'],\n",
    "        ['Saint-Petersburg', '5614', '7003', '5895']]\n",
    "cities_musical_activity = pd.DataFrame(columns = columns, data= data)\n",
    "cities_musical_activity"
   ]
  },
  {
   "cell_type": "markdown",
   "metadata": {
    "deletable": false,
    "editable": false,
    "id": "-EgPIHYu_Zcu",
    "slideshow": {
     "slide_type": ""
    },
    "tags": []
   },
   "source": [
    "**Выводы**\n",
    "\n",
    "Данные показывают разницу поведения пользователей:\n",
    "\n",
    "- В Москве пик прослушиваний приходится на понедельник и пятницу, а в среду заметен спад.\n",
    "- В Петербурге, наоборот, больше слушают музыку по средам. Активность в понедельник и пятницу здесь почти в равной мере уступает среде.\n",
    "\n",
    "Значит, данные говорят в пользу первой гипотезы."
   ]
  },
  {
   "cell_type": "markdown",
   "metadata": {
    "deletable": false,
    "editable": false,
    "id": "atZAxtq4_Zcu"
   },
   "source": [
    "### Музыка в начале и в конце недели"
   ]
  },
  {
   "cell_type": "markdown",
   "metadata": {
    "deletable": false,
    "editable": false,
    "id": "eXrQqXFH_Zcu",
    "slideshow": {
     "slide_type": ""
    },
    "tags": []
   },
   "source": [
    "Согласно второй гипотезе, утром в понедельник в Москве преобладают одни жанры, а в Петербурге — другие. Так же и вечером пятницы преобладают разные жанры — в зависимости от города."
   ]
  },
  {
   "cell_type": "markdown",
   "metadata": {
    "deletable": false,
    "id": "S8UcW6Hw_Zcu",
    "slideshow": {
     "slide_type": ""
    },
    "tags": [
     "start_task"
    ]
   },
   "source": [
    "Сохраним таблицы с данными в две переменные:\n",
    "* по Москве — в `moscow_general`;\n",
    "* по Санкт-Петербургу — в `spb_general`."
   ]
  },
  {
   "cell_type": "code",
   "execution_count": 27,
   "metadata": {
    "deletable": false,
    "editable": true,
    "id": "qeaFfM_P_Zcu",
    "slideshow": {
     "slide_type": ""
    },
    "tags": []
   },
   "outputs": [],
   "source": [
    "moscow_general = df[df['city'] == 'Moscow']"
   ]
  },
  {
   "cell_type": "code",
   "execution_count": 28,
   "metadata": {
    "deletable": false,
    "editable": true,
    "id": "ORaVRKto_Zcu",
    "slideshow": {
     "slide_type": ""
    },
    "tags": []
   },
   "outputs": [],
   "source": [
    "spb_general = df[df['city'] == 'Saint-Petersburg']"
   ]
  },
  {
   "cell_type": "markdown",
   "metadata": {
    "deletable": false,
    "id": "MEJV-CX2_Zcu",
    "slideshow": {
     "slide_type": ""
    },
    "tags": [
     "start_task"
    ]
   },
   "source": [
    "Создадим функцию `genre_weekday()`, которая возвращает информацию о топ-10 жанров тех треков, которые прослушивали в указанный день, в промежутке между двумя отметками времени."
   ]
  },
  {
   "cell_type": "code",
   "execution_count": 29,
   "metadata": {
    "deletable": false,
    "editable": true,
    "id": "laJT9BYl_Zcu",
    "slideshow": {
     "slide_type": ""
    },
    "tags": []
   },
   "outputs": [],
   "source": [
    "def genre_weekday(df, day, time1, time2):\n",
    "    genre_df = df[df['day'] == day]\n",
    "    genre_df = genre_df[genre_df['time'] < time2]\n",
    "    genre_df = genre_df[genre_df['time'] > time1]\n",
    "    genre_df_grouped = genre_df.groupby('genre')['genre'].count()\n",
    "    genre_df_sorted = genre_df_grouped.sort_values(ascending=False)\n",
    "    return genre_df_sorted[:10]"
   ]
  },
  {
   "cell_type": "markdown",
   "metadata": {
    "deletable": false,
    "id": "la2s2_PF_Zcu",
    "slideshow": {
     "slide_type": ""
    },
    "tags": [
     "start_task"
    ]
   },
   "source": [
    "Cравним результаты функции `genre_weekday()` для Москвы и Санкт-Петербурга в понедельник утром (с 7:00 до 11:00) и в пятницу вечером (с 17:00 до 23:00):"
   ]
  },
  {
   "cell_type": "code",
   "execution_count": 30,
   "metadata": {
    "deletable": false,
    "editable": true,
    "id": "yz7itPUQ_Zcu",
    "slideshow": {
     "slide_type": ""
    },
    "tags": []
   },
   "outputs": [
    {
     "data": {
      "text/plain": [
       "genre\n",
       "pop            781\n",
       "dance          549\n",
       "electronic     480\n",
       "rock           474\n",
       "hiphop         286\n",
       "ruspop         186\n",
       "world          181\n",
       "rusrap         175\n",
       "alternative    164\n",
       "unknown        161\n",
       "Name: genre, dtype: int64"
      ]
     },
     "execution_count": 30,
     "metadata": {},
     "output_type": "execute_result"
    }
   ],
   "source": [
    "genre_weekday(moscow_general, 'Monday', '07:00', '11:00')"
   ]
  },
  {
   "cell_type": "code",
   "execution_count": 31,
   "metadata": {
    "deletable": false,
    "editable": true,
    "id": "kwUcHPdy_Zcu",
    "slideshow": {
     "slide_type": ""
    },
    "tags": []
   },
   "outputs": [
    {
     "data": {
      "text/plain": [
       "genre\n",
       "pop            218\n",
       "dance          182\n",
       "rock           162\n",
       "electronic     147\n",
       "hiphop          80\n",
       "ruspop          64\n",
       "alternative     58\n",
       "rusrap          55\n",
       "jazz            44\n",
       "classical       40\n",
       "Name: genre, dtype: int64"
      ]
     },
     "execution_count": 31,
     "metadata": {},
     "output_type": "execute_result"
    }
   ],
   "source": [
    "genre_weekday(spb_general, 'Monday', '07:00', '11:00')"
   ]
  },
  {
   "cell_type": "code",
   "execution_count": 32,
   "metadata": {
    "deletable": false,
    "editable": true,
    "id": "EzXVRE1o_Zcu",
    "slideshow": {
     "slide_type": ""
    },
    "tags": []
   },
   "outputs": [
    {
     "data": {
      "text/plain": [
       "genre\n",
       "pop            713\n",
       "rock           517\n",
       "dance          495\n",
       "electronic     482\n",
       "hiphop         273\n",
       "world          208\n",
       "ruspop         170\n",
       "alternative    163\n",
       "classical      163\n",
       "rusrap         142\n",
       "Name: genre, dtype: int64"
      ]
     },
     "execution_count": 32,
     "metadata": {},
     "output_type": "execute_result"
    }
   ],
   "source": [
    "genre_weekday(moscow_general, 'Friday', '17:00', '23:00')"
   ]
  },
  {
   "cell_type": "code",
   "execution_count": 33,
   "metadata": {
    "deletable": false,
    "editable": true,
    "id": "JZaEKu5v_Zcu",
    "slideshow": {
     "slide_type": ""
    },
    "tags": []
   },
   "outputs": [
    {
     "data": {
      "text/plain": [
       "genre\n",
       "pop            256\n",
       "electronic     216\n",
       "rock           216\n",
       "dance          210\n",
       "hiphop          97\n",
       "alternative     63\n",
       "jazz            61\n",
       "classical       60\n",
       "rusrap          59\n",
       "world           54\n",
       "Name: genre, dtype: int64"
      ]
     },
     "execution_count": 33,
     "metadata": {},
     "output_type": "execute_result"
    }
   ],
   "source": [
    "genre_weekday(spb_general, 'Friday', '17:00', '23:00')"
   ]
  },
  {
   "cell_type": "markdown",
   "metadata": {
    "deletable": false,
    "editable": true,
    "id": "wrCe4MNX_Zcu",
    "slideshow": {
     "slide_type": ""
    },
    "tags": []
   },
   "source": [
    "**Выводы**"
   ]
  },
  {
   "cell_type": "markdown",
   "metadata": {
    "editable": true,
    "slideshow": {
     "slide_type": ""
    },
    "tags": []
   },
   "source": [
    "Жанр поп безусловный лидер, а топ-5 в целом не различается в обеих столицах. При этом видно, что концовка списка более «живая»: для каждого города выделяются более характерные жанры, которые действительно меняют свои позиции в зависимости от дня недели и времени."
   ]
  },
  {
   "cell_type": "markdown",
   "metadata": {
    "deletable": false,
    "editable": false,
    "id": "JolODAqr_Zcu",
    "slideshow": {
     "slide_type": ""
    },
    "tags": []
   },
   "source": [
    "### Жанровые предпочтения в Москве и Петербурге\n",
    "\n",
    "Гипотеза: Петербург — столица рэпа, музыку этого жанра там слушают чаще, чем в Москве.  А Москва — город контрастов, в котором, тем не менее, преобладает поп-музыка."
   ]
  },
  {
   "cell_type": "markdown",
   "metadata": {
    "deletable": false,
    "editable": true,
    "id": "DlegSvaT_Zcu",
    "slideshow": {
     "slide_type": ""
    },
    "tags": [
     "start_task"
    ]
   },
   "source": [
    "Сгруппируем таблицу `moscow_general` по жанру и посчитатем прослушивания треков каждого жанра методом `count()`. Проведём сортировку."
   ]
  },
  {
   "cell_type": "code",
   "execution_count": 34,
   "metadata": {
    "deletable": false,
    "editable": true,
    "id": "r19lIPke_Zcu",
    "slideshow": {
     "slide_type": ""
    },
    "tags": []
   },
   "outputs": [],
   "source": [
    "moscow_genres = moscow_general.groupby('genre')['genre'].count()\n",
    "moscow_genres = moscow_genres.sort_values(ascending = False)"
   ]
  },
  {
   "cell_type": "markdown",
   "metadata": {
    "deletable": false,
    "id": "6kMuomxTiIr8",
    "slideshow": {
     "slide_type": ""
    },
    "tags": [
     "start_task"
    ]
   },
   "source": [
    "Выведем на экран первые десять строк `moscow_genres`:"
   ]
  },
  {
   "cell_type": "code",
   "execution_count": 35,
   "metadata": {
    "deletable": false,
    "editable": true,
    "id": "WhCSooF8_Zcv",
    "slideshow": {
     "slide_type": ""
    },
    "tags": []
   },
   "outputs": [
    {
     "data": {
      "text/plain": [
       "genre\n",
       "pop            5892\n",
       "dance          4435\n",
       "rock           3965\n",
       "electronic     3786\n",
       "hiphop         2096\n",
       "classical      1616\n",
       "world          1432\n",
       "alternative    1379\n",
       "ruspop         1372\n",
       "rusrap         1161\n",
       "Name: genre, dtype: int64"
      ]
     },
     "execution_count": 35,
     "metadata": {},
     "output_type": "execute_result"
    }
   ],
   "source": [
    "moscow_genres.head(10)# просмотр первых 10 строк moscow_genres"
   ]
  },
  {
   "cell_type": "markdown",
   "metadata": {
    "deletable": false,
    "editable": true,
    "id": "cnPG2vnN_Zcv",
    "slideshow": {
     "slide_type": ""
    },
    "tags": [
     "start_task"
    ]
   },
   "source": [
    "Повторим для Петербурга"
   ]
  },
  {
   "cell_type": "code",
   "execution_count": 36,
   "metadata": {
    "deletable": false,
    "editable": true,
    "id": "gluLIpE7_Zcv",
    "slideshow": {
     "slide_type": ""
    },
    "tags": []
   },
   "outputs": [],
   "source": [
    "spb_genres = spb_general.groupby('genre')['genre'].count()\n",
    "spb_genres = spb_genres.sort_values(ascending = False)"
   ]
  },
  {
   "cell_type": "markdown",
   "metadata": {
    "deletable": false,
    "id": "5Doha_ODgyQ8",
    "slideshow": {
     "slide_type": ""
    },
    "tags": [
     "start_task"
    ]
   },
   "source": [
    "Выведем на экран первые десять строк:"
   ]
  },
  {
   "cell_type": "code",
   "execution_count": 37,
   "metadata": {
    "deletable": false,
    "editable": true,
    "id": "uaGJHjVU_Zcv",
    "slideshow": {
     "slide_type": ""
    },
    "tags": []
   },
   "outputs": [
    {
     "data": {
      "text/plain": [
       "genre\n",
       "pop            2431\n",
       "dance          1932\n",
       "rock           1879\n",
       "electronic     1736\n",
       "hiphop          960\n",
       "alternative     649\n",
       "classical       646\n",
       "rusrap          564\n",
       "ruspop          538\n",
       "world           515\n",
       "Name: genre, dtype: int64"
      ]
     },
     "execution_count": 37,
     "metadata": {},
     "output_type": "execute_result"
    }
   ],
   "source": [
    "spb_genres.head(10)# просмотр первых 10 строк spb_genres"
   ]
  },
  {
   "cell_type": "markdown",
   "metadata": {
    "deletable": false,
    "editable": false,
    "id": "RY51YJYu_Zcv"
   },
   "source": [
    "**Выводы**"
   ]
  },
  {
   "cell_type": "markdown",
   "metadata": {
    "deletable": false,
    "editable": false,
    "id": "nVhnJEm__Zcv",
    "slideshow": {
     "slide_type": ""
    },
    "tags": []
   },
   "source": [
    "Гипотеза частично подтвердилась:\n",
    "* Поп-музыка — самый популярный жанр в Москве, как и предполагала гипотеза. Более того, в топ-10 жанров встречается близкий жанр — русская популярная музыка.\n",
    "* Вопреки ожиданиям, рэп одинаково популярен в Москве и Петербурге. \n"
   ]
  },
  {
   "cell_type": "markdown",
   "metadata": {
    "deletable": false,
    "editable": false,
    "id": "ykKQ0N65_Zcv"
   },
   "source": [
    "## Итоги исследования"
   ]
  },
  {
   "cell_type": "markdown",
   "metadata": {
    "deletable": false,
    "editable": true,
    "id": "tjUwbHb3_Zcv",
    "slideshow": {
     "slide_type": ""
    },
    "tags": []
   },
   "source": [
    "**Общие результаты**\n",
    "\n",
    "Москва и Петербург сходятся во вкусах: везде преобладает популярная музыка. При этом зависимости предпочтений от дня недели в каждом отдельном городе нет — люди постоянно слушают то, что им нравится. Однако, относительно среды между городами наблюдается различие: Москва больше слушает в понедельник и пятницу, а Петербург наоборот — больше в среду, но меньше в понедельник и пятницу.\n",
    "\n",
    "Были проверены три гипотезы, установлено:\n",
    "1. День недели по-разному влияет на активность пользователей в Москве и Петербурге. \n",
    "2. Музыкальные предпочтения не сильно меняются в течение недели. Небольшие различия заметны в начале недели, по понедельникам:\n",
    "    - в Москве слушают музыку жанра “world”,\n",
    "    - в Петербурге — джаз и классику.\n",
    "3. Во вкусах пользователей столиц больше общего чем различий. \n",
    "\n",
    "**В итоге:**\n",
    "1. Первая гипотеза полностью подтвердилась.\n",
    "2. Вторая гипотеза подтвердилась лишь отчасти. Этот результат мог оказаться иным, если бы не пропуски в данных.\n",
    "3. Третья гипотеза не подтвердилась. Если различия в предпочтениях и существуют, на основной массе пользователей они незаметны.\n",
    "\n",
    "Проверки статистических гипотез покажут, насколько они достоверны, исходя из имеющихся данных. "
   ]
  },
  {
   "cell_type": "code",
   "execution_count": null,
   "metadata": {
    "editable": true,
    "slideshow": {
     "slide_type": ""
    },
    "tags": []
   },
   "outputs": [],
   "source": []
  }
 ],
 "metadata": {
  "ExecuteTimeLog": [
   {
    "duration": 47,
    "start_time": "2023-01-23T13:51:13.850Z"
   },
   {
    "duration": 416,
    "start_time": "2023-01-23T13:51:18.576Z"
   },
   {
    "duration": 29,
    "start_time": "2023-01-23T13:51:22.125Z"
   },
   {
    "duration": 251,
    "start_time": "2023-01-23T13:51:30.707Z"
   },
   {
    "duration": 7,
    "start_time": "2023-01-23T13:51:47.416Z"
   },
   {
    "duration": 6,
    "start_time": "2023-01-23T13:52:01.848Z"
   },
   {
    "duration": 32,
    "start_time": "2023-01-23T13:52:41.832Z"
   },
   {
    "duration": 364,
    "start_time": "2023-01-23T13:56:52.255Z"
   },
   {
    "duration": 156,
    "start_time": "2023-01-23T13:56:52.621Z"
   },
   {
    "duration": 16,
    "start_time": "2023-01-23T13:56:52.779Z"
   },
   {
    "duration": 28,
    "start_time": "2023-01-23T13:56:52.796Z"
   },
   {
    "duration": 71,
    "start_time": "2023-01-23T13:56:52.826Z"
   },
   {
    "duration": 62,
    "start_time": "2023-01-23T13:57:36.480Z"
   },
   {
    "duration": 4,
    "start_time": "2023-01-23T13:57:45.740Z"
   },
   {
    "duration": 10,
    "start_time": "2023-01-23T14:01:55.919Z"
   },
   {
    "duration": 5,
    "start_time": "2023-01-23T14:02:13.166Z"
   },
   {
    "duration": 12,
    "start_time": "2023-01-23T14:02:23.517Z"
   },
   {
    "duration": 4,
    "start_time": "2023-01-23T14:02:25.390Z"
   },
   {
    "duration": 12,
    "start_time": "2023-01-23T14:02:41.271Z"
   },
   {
    "duration": 4,
    "start_time": "2023-01-23T14:02:43.670Z"
   },
   {
    "duration": 27,
    "start_time": "2023-01-23T14:04:04.342Z"
   },
   {
    "duration": 1224,
    "start_time": "2023-01-23T14:08:19.149Z"
   },
   {
    "duration": 17,
    "start_time": "2023-01-23T14:08:35.413Z"
   },
   {
    "duration": 25,
    "start_time": "2023-01-23T14:09:04.765Z"
   },
   {
    "duration": 10,
    "start_time": "2023-01-23T14:11:42.137Z"
   },
   {
    "duration": 81,
    "start_time": "2023-01-23T14:12:24.169Z"
   },
   {
    "duration": 63,
    "start_time": "2023-01-23T14:13:46.711Z"
   },
   {
    "duration": 61,
    "start_time": "2023-01-23T14:14:06.178Z"
   },
   {
    "duration": 8,
    "start_time": "2023-01-23T14:16:19.420Z"
   },
   {
    "duration": 7,
    "start_time": "2023-01-23T14:16:38.279Z"
   },
   {
    "duration": 5,
    "start_time": "2023-01-23T14:16:53.867Z"
   },
   {
    "duration": 8,
    "start_time": "2023-01-23T14:17:46.122Z"
   },
   {
    "duration": 7,
    "start_time": "2023-01-23T14:20:15.136Z"
   },
   {
    "duration": 35,
    "start_time": "2023-01-23T14:21:08.378Z"
   },
   {
    "duration": 41,
    "start_time": "2023-01-23T14:21:48.209Z"
   },
   {
    "duration": 10,
    "start_time": "2023-01-23T14:27:28.599Z"
   },
   {
    "duration": 11,
    "start_time": "2023-01-23T14:28:49.056Z"
   },
   {
    "duration": 5,
    "start_time": "2023-01-23T14:31:27.636Z"
   },
   {
    "duration": 6,
    "start_time": "2023-01-23T14:32:08.896Z"
   },
   {
    "duration": 10,
    "start_time": "2023-01-23T14:33:05.192Z"
   },
   {
    "duration": 40,
    "start_time": "2023-01-23T14:33:23.735Z"
   },
   {
    "duration": 12,
    "start_time": "2023-01-23T14:35:53.911Z"
   },
   {
    "duration": 4,
    "start_time": "2023-01-23T14:36:08.300Z"
   },
   {
    "duration": 2,
    "start_time": "2023-01-23T14:36:21.612Z"
   },
   {
    "duration": 4,
    "start_time": "2023-01-23T14:36:43.378Z"
   },
   {
    "duration": 12,
    "start_time": "2023-01-23T14:40:06.276Z"
   },
   {
    "duration": 12,
    "start_time": "2023-01-23T14:40:49.480Z"
   },
   {
    "duration": 9,
    "start_time": "2023-01-23T14:41:34.316Z"
   },
   {
    "duration": 11,
    "start_time": "2023-01-23T14:42:17.156Z"
   },
   {
    "duration": 5,
    "start_time": "2023-01-23T15:06:49.300Z"
   },
   {
    "duration": 8,
    "start_time": "2023-01-23T15:10:09.465Z"
   },
   {
    "duration": 1327,
    "start_time": "2023-01-23T15:11:36.323Z"
   },
   {
    "duration": 5,
    "start_time": "2023-01-23T15:14:16.517Z"
   },
   {
    "duration": 6,
    "start_time": "2023-01-23T15:21:06.557Z"
   },
   {
    "duration": 38,
    "start_time": "2023-01-23T15:21:10.589Z"
   },
   {
    "duration": 5,
    "start_time": "2023-01-23T15:24:45.271Z"
   },
   {
    "duration": 16,
    "start_time": "2023-01-23T15:24:47.783Z"
   },
   {
    "duration": 18,
    "start_time": "2023-01-23T15:25:09.383Z"
   },
   {
    "duration": 2,
    "start_time": "2023-01-23T15:25:31.626Z"
   },
   {
    "duration": 184,
    "start_time": "2023-01-23T15:25:31.630Z"
   },
   {
    "duration": 11,
    "start_time": "2023-01-23T15:25:31.815Z"
   },
   {
    "duration": 44,
    "start_time": "2023-01-23T15:25:31.828Z"
   },
   {
    "duration": 11,
    "start_time": "2023-01-23T15:25:31.873Z"
   },
   {
    "duration": 37,
    "start_time": "2023-01-23T15:25:31.885Z"
   },
   {
    "duration": 24,
    "start_time": "2023-01-23T15:25:31.924Z"
   },
   {
    "duration": 4,
    "start_time": "2023-01-23T15:25:31.949Z"
   },
   {
    "duration": 44,
    "start_time": "2023-01-23T15:25:31.956Z"
   },
   {
    "duration": 25,
    "start_time": "2023-01-23T15:25:32.001Z"
   },
   {
    "duration": 23,
    "start_time": "2023-01-23T15:25:32.029Z"
   },
   {
    "duration": 68,
    "start_time": "2023-01-23T15:25:32.054Z"
   },
   {
    "duration": 56,
    "start_time": "2023-01-23T15:25:32.124Z"
   },
   {
    "duration": 62,
    "start_time": "2023-01-23T15:25:32.182Z"
   },
   {
    "duration": 48,
    "start_time": "2023-01-23T15:25:32.246Z"
   },
   {
    "duration": 8,
    "start_time": "2023-01-23T15:25:32.296Z"
   },
   {
    "duration": 56,
    "start_time": "2023-01-23T15:25:32.306Z"
   },
   {
    "duration": 14,
    "start_time": "2023-01-23T15:25:32.364Z"
   },
   {
    "duration": 24,
    "start_time": "2023-01-23T15:25:32.380Z"
   },
   {
    "duration": 5,
    "start_time": "2023-01-23T15:25:32.405Z"
   },
   {
    "duration": 22,
    "start_time": "2023-01-23T15:25:32.411Z"
   },
   {
    "duration": 16,
    "start_time": "2023-01-23T15:25:32.434Z"
   },
   {
    "duration": 15,
    "start_time": "2023-01-23T15:25:32.452Z"
   },
   {
    "duration": 14,
    "start_time": "2023-01-23T15:25:32.495Z"
   },
   {
    "duration": 14,
    "start_time": "2023-01-23T15:25:32.511Z"
   },
   {
    "duration": 13,
    "start_time": "2023-01-23T15:25:35.875Z"
   },
   {
    "duration": 13,
    "start_time": "2023-01-23T15:31:04.853Z"
   },
   {
    "duration": 9,
    "start_time": "2023-01-23T15:32:14.989Z"
   },
   {
    "duration": 50,
    "start_time": "2023-01-24T08:20:29.661Z"
   },
   {
    "duration": 400,
    "start_time": "2023-01-24T08:20:45.118Z"
   },
   {
    "duration": 227,
    "start_time": "2023-01-24T08:20:45.519Z"
   },
   {
    "duration": 17,
    "start_time": "2023-01-24T08:20:45.748Z"
   },
   {
    "duration": 45,
    "start_time": "2023-01-24T08:20:45.768Z"
   },
   {
    "duration": 11,
    "start_time": "2023-01-24T08:20:45.815Z"
   },
   {
    "duration": 13,
    "start_time": "2023-01-24T08:20:45.827Z"
   },
   {
    "duration": 13,
    "start_time": "2023-01-24T08:20:45.841Z"
   },
   {
    "duration": 11,
    "start_time": "2023-01-24T08:20:45.856Z"
   },
   {
    "duration": 28,
    "start_time": "2023-01-24T08:20:45.868Z"
   },
   {
    "duration": 33,
    "start_time": "2023-01-24T08:20:45.899Z"
   },
   {
    "duration": 23,
    "start_time": "2023-01-24T08:20:45.934Z"
   },
   {
    "duration": 70,
    "start_time": "2023-01-24T08:20:45.958Z"
   },
   {
    "duration": 100,
    "start_time": "2023-01-24T08:20:46.029Z"
   },
   {
    "duration": 58,
    "start_time": "2023-01-24T08:20:46.131Z"
   },
   {
    "duration": 47,
    "start_time": "2023-01-24T08:20:46.191Z"
   },
   {
    "duration": 8,
    "start_time": "2023-01-24T08:20:46.240Z"
   },
   {
    "duration": 62,
    "start_time": "2023-01-24T08:20:46.250Z"
   },
   {
    "duration": 15,
    "start_time": "2023-01-24T08:20:46.313Z"
   },
   {
    "duration": 13,
    "start_time": "2023-01-24T08:20:46.330Z"
   },
   {
    "duration": 6,
    "start_time": "2023-01-24T08:20:46.345Z"
   },
   {
    "duration": 37,
    "start_time": "2023-01-24T08:20:46.352Z"
   },
   {
    "duration": 48,
    "start_time": "2023-01-24T08:20:46.393Z"
   },
   {
    "duration": 14,
    "start_time": "2023-01-24T08:20:46.443Z"
   },
   {
    "duration": 14,
    "start_time": "2023-01-24T08:20:46.459Z"
   },
   {
    "duration": 13,
    "start_time": "2023-01-24T08:20:46.475Z"
   },
   {
    "duration": 26,
    "start_time": "2023-01-24T08:20:46.489Z"
   },
   {
    "duration": 9,
    "start_time": "2023-01-24T08:20:50.165Z"
   },
   {
    "duration": 5,
    "start_time": "2023-01-24T08:20:57.940Z"
   },
   {
    "duration": 4,
    "start_time": "2023-01-24T08:21:09.831Z"
   },
   {
    "duration": 3,
    "start_time": "2023-01-24T08:21:40.160Z"
   },
   {
    "duration": 19,
    "start_time": "2023-01-24T08:42:11.984Z"
   },
   {
    "duration": 18,
    "start_time": "2023-01-24T08:42:43.379Z"
   },
   {
    "duration": 26,
    "start_time": "2023-01-24T08:44:09.242Z"
   },
   {
    "duration": 5,
    "start_time": "2023-01-24T08:44:17.971Z"
   },
   {
    "duration": 20,
    "start_time": "2023-01-24T08:44:21.320Z"
   },
   {
    "duration": 22,
    "start_time": "2023-01-24T08:45:58.332Z"
   },
   {
    "duration": 4,
    "start_time": "2023-01-24T08:46:17.188Z"
   },
   {
    "duration": 16,
    "start_time": "2023-01-24T08:46:19.879Z"
   },
   {
    "duration": 13,
    "start_time": "2023-01-24T08:59:01.332Z"
   },
   {
    "duration": 10,
    "start_time": "2023-01-24T08:59:05.566Z"
   },
   {
    "duration": 12,
    "start_time": "2023-01-24T08:59:34.990Z"
   },
   {
    "duration": 19,
    "start_time": "2023-01-24T09:01:17.294Z"
   },
   {
    "duration": 12,
    "start_time": "2023-01-24T09:01:18.934Z"
   },
   {
    "duration": 8,
    "start_time": "2023-01-24T09:07:01.429Z"
   },
   {
    "duration": 13,
    "start_time": "2023-01-24T09:07:13.949Z"
   },
   {
    "duration": 7,
    "start_time": "2023-01-24T09:07:25.188Z"
   },
   {
    "duration": 4,
    "start_time": "2023-01-24T09:07:44.716Z"
   },
   {
    "duration": 8,
    "start_time": "2023-01-24T09:09:33.400Z"
   },
   {
    "duration": 5,
    "start_time": "2023-01-24T09:09:35.275Z"
   },
   {
    "duration": 7,
    "start_time": "2023-01-24T09:10:14.068Z"
   },
   {
    "duration": 12,
    "start_time": "2023-01-24T09:10:21.115Z"
   },
   {
    "duration": 6,
    "start_time": "2023-01-24T09:10:42.763Z"
   },
   {
    "duration": 5,
    "start_time": "2023-01-24T09:10:44.307Z"
   },
   {
    "duration": 3,
    "start_time": "2023-01-24T09:24:44.366Z"
   },
   {
    "duration": 171,
    "start_time": "2023-01-24T09:24:44.371Z"
   },
   {
    "duration": 10,
    "start_time": "2023-01-24T09:24:44.543Z"
   },
   {
    "duration": 37,
    "start_time": "2023-01-24T09:24:44.554Z"
   },
   {
    "duration": 13,
    "start_time": "2023-01-24T09:24:44.592Z"
   },
   {
    "duration": 28,
    "start_time": "2023-01-24T09:24:44.607Z"
   },
   {
    "duration": 22,
    "start_time": "2023-01-24T09:24:44.637Z"
   },
   {
    "duration": 14,
    "start_time": "2023-01-24T09:24:44.660Z"
   },
   {
    "duration": 37,
    "start_time": "2023-01-24T09:24:44.676Z"
   },
   {
    "duration": 25,
    "start_time": "2023-01-24T09:24:44.715Z"
   },
   {
    "duration": 33,
    "start_time": "2023-01-24T09:24:44.742Z"
   },
   {
    "duration": 82,
    "start_time": "2023-01-24T09:24:44.776Z"
   },
   {
    "duration": 71,
    "start_time": "2023-01-24T09:24:44.860Z"
   },
   {
    "duration": 67,
    "start_time": "2023-01-24T09:24:44.933Z"
   },
   {
    "duration": 38,
    "start_time": "2023-01-24T09:24:45.001Z"
   },
   {
    "duration": 12,
    "start_time": "2023-01-24T09:24:45.041Z"
   },
   {
    "duration": 50,
    "start_time": "2023-01-24T09:24:45.055Z"
   },
   {
    "duration": 12,
    "start_time": "2023-01-24T09:24:45.106Z"
   },
   {
    "duration": 26,
    "start_time": "2023-01-24T09:24:45.119Z"
   },
   {
    "duration": 3,
    "start_time": "2023-01-24T09:24:53.469Z"
   },
   {
    "duration": 182,
    "start_time": "2023-01-24T09:24:53.474Z"
   },
   {
    "duration": 11,
    "start_time": "2023-01-24T09:24:53.658Z"
   },
   {
    "duration": 37,
    "start_time": "2023-01-24T09:24:53.671Z"
   },
   {
    "duration": 9,
    "start_time": "2023-01-24T09:24:53.709Z"
   },
   {
    "duration": 23,
    "start_time": "2023-01-24T09:24:53.719Z"
   },
   {
    "duration": 26,
    "start_time": "2023-01-24T09:24:53.743Z"
   },
   {
    "duration": 58,
    "start_time": "2023-01-24T09:24:53.771Z"
   },
   {
    "duration": 54,
    "start_time": "2023-01-24T09:24:53.832Z"
   },
   {
    "duration": 37,
    "start_time": "2023-01-24T09:24:53.888Z"
   },
   {
    "duration": 58,
    "start_time": "2023-01-24T09:24:53.928Z"
   },
   {
    "duration": 117,
    "start_time": "2023-01-24T09:24:53.988Z"
   },
   {
    "duration": 83,
    "start_time": "2023-01-24T09:24:54.106Z"
   },
   {
    "duration": 62,
    "start_time": "2023-01-24T09:24:54.198Z"
   },
   {
    "duration": 45,
    "start_time": "2023-01-24T09:24:54.262Z"
   },
   {
    "duration": 14,
    "start_time": "2023-01-24T09:24:54.309Z"
   },
   {
    "duration": 67,
    "start_time": "2023-01-24T09:24:54.325Z"
   },
   {
    "duration": 15,
    "start_time": "2023-01-24T09:24:54.393Z"
   },
   {
    "duration": 38,
    "start_time": "2023-01-24T09:24:54.409Z"
   },
   {
    "duration": 32,
    "start_time": "2023-01-24T09:24:54.449Z"
   },
   {
    "duration": 55,
    "start_time": "2023-01-24T09:24:54.483Z"
   },
   {
    "duration": 21,
    "start_time": "2023-01-24T09:24:54.540Z"
   },
   {
    "duration": 16,
    "start_time": "2023-01-24T09:24:54.563Z"
   },
   {
    "duration": 15,
    "start_time": "2023-01-24T09:24:54.582Z"
   },
   {
    "duration": 13,
    "start_time": "2023-01-24T09:24:54.599Z"
   },
   {
    "duration": 388,
    "start_time": "2023-01-24T09:25:21.965Z"
   },
   {
    "duration": 165,
    "start_time": "2023-01-24T09:25:22.355Z"
   },
   {
    "duration": 17,
    "start_time": "2023-01-24T09:25:22.522Z"
   },
   {
    "duration": 76,
    "start_time": "2023-01-24T09:25:22.541Z"
   },
   {
    "duration": 3,
    "start_time": "2023-01-24T09:25:22.619Z"
   },
   {
    "duration": 23,
    "start_time": "2023-01-24T09:25:22.624Z"
   },
   {
    "duration": 38,
    "start_time": "2023-01-24T09:25:22.649Z"
   },
   {
    "duration": 8,
    "start_time": "2023-01-24T09:25:22.689Z"
   },
   {
    "duration": 42,
    "start_time": "2023-01-24T09:25:22.699Z"
   },
   {
    "duration": 32,
    "start_time": "2023-01-24T09:25:22.744Z"
   },
   {
    "duration": 29,
    "start_time": "2023-01-24T09:25:22.777Z"
   },
   {
    "duration": 80,
    "start_time": "2023-01-24T09:25:22.807Z"
   },
   {
    "duration": 71,
    "start_time": "2023-01-24T09:25:22.889Z"
   },
   {
    "duration": 68,
    "start_time": "2023-01-24T09:25:22.961Z"
   },
   {
    "duration": 34,
    "start_time": "2023-01-24T09:25:23.031Z"
   },
   {
    "duration": 9,
    "start_time": "2023-01-24T09:25:23.066Z"
   },
   {
    "duration": 52,
    "start_time": "2023-01-24T09:25:23.077Z"
   },
   {
    "duration": 14,
    "start_time": "2023-01-24T09:25:23.131Z"
   },
   {
    "duration": 49,
    "start_time": "2023-01-24T09:25:23.146Z"
   },
   {
    "duration": 28,
    "start_time": "2023-01-24T09:25:23.197Z"
   },
   {
    "duration": 47,
    "start_time": "2023-01-24T09:25:23.226Z"
   },
   {
    "duration": 39,
    "start_time": "2023-01-24T09:25:23.275Z"
   },
   {
    "duration": 51,
    "start_time": "2023-01-24T09:25:23.316Z"
   },
   {
    "duration": 37,
    "start_time": "2023-01-24T09:25:23.369Z"
   },
   {
    "duration": 44,
    "start_time": "2023-01-24T09:25:23.408Z"
   },
   {
    "duration": 25,
    "start_time": "2023-01-24T09:26:50.024Z"
   },
   {
    "duration": 3,
    "start_time": "2023-01-24T09:27:39.085Z"
   },
   {
    "duration": 164,
    "start_time": "2023-01-24T09:27:39.090Z"
   },
   {
    "duration": 10,
    "start_time": "2023-01-24T09:27:39.256Z"
   },
   {
    "duration": 39,
    "start_time": "2023-01-24T09:27:39.268Z"
   },
   {
    "duration": 3,
    "start_time": "2023-01-24T09:27:39.308Z"
   },
   {
    "duration": 10,
    "start_time": "2023-01-24T09:27:39.312Z"
   },
   {
    "duration": 14,
    "start_time": "2023-01-24T09:27:39.323Z"
   },
   {
    "duration": 8,
    "start_time": "2023-01-24T09:27:39.338Z"
   },
   {
    "duration": 25,
    "start_time": "2023-01-24T09:27:39.348Z"
   },
   {
    "duration": 36,
    "start_time": "2023-01-24T09:27:39.374Z"
   },
   {
    "duration": 22,
    "start_time": "2023-01-24T09:27:39.412Z"
   },
   {
    "duration": 75,
    "start_time": "2023-01-24T09:27:39.435Z"
   },
   {
    "duration": 61,
    "start_time": "2023-01-24T09:27:39.511Z"
   },
   {
    "duration": 73,
    "start_time": "2023-01-24T09:27:39.574Z"
   },
   {
    "duration": 38,
    "start_time": "2023-01-24T09:27:39.649Z"
   },
   {
    "duration": 17,
    "start_time": "2023-01-24T09:27:39.689Z"
   },
   {
    "duration": 42,
    "start_time": "2023-01-24T09:27:39.708Z"
   },
   {
    "duration": 12,
    "start_time": "2023-01-24T09:27:39.751Z"
   },
   {
    "duration": 14,
    "start_time": "2023-01-24T09:27:39.765Z"
   },
   {
    "duration": 4,
    "start_time": "2023-01-24T09:27:39.799Z"
   },
   {
    "duration": 25,
    "start_time": "2023-01-24T09:27:39.804Z"
   },
   {
    "duration": 15,
    "start_time": "2023-01-24T09:27:39.831Z"
   },
   {
    "duration": 14,
    "start_time": "2023-01-24T09:27:39.848Z"
   },
   {
    "duration": 41,
    "start_time": "2023-01-24T09:27:39.865Z"
   },
   {
    "duration": 17,
    "start_time": "2023-01-24T09:27:39.908Z"
   },
   {
    "duration": 17,
    "start_time": "2023-01-24T09:27:41.723Z"
   },
   {
    "duration": 428,
    "start_time": "2023-01-24T09:28:42.185Z"
   },
   {
    "duration": 167,
    "start_time": "2023-01-24T09:28:42.615Z"
   },
   {
    "duration": 19,
    "start_time": "2023-01-24T09:28:42.784Z"
   },
   {
    "duration": 30,
    "start_time": "2023-01-24T09:28:42.806Z"
   },
   {
    "duration": 129,
    "start_time": "2023-01-24T09:28:42.838Z"
   },
   {
    "duration": 24,
    "start_time": "2023-01-24T09:28:42.969Z"
   },
   {
    "duration": 39,
    "start_time": "2023-01-24T09:28:42.995Z"
   },
   {
    "duration": 12,
    "start_time": "2023-01-24T09:28:43.036Z"
   },
   {
    "duration": 38,
    "start_time": "2023-01-24T09:28:43.049Z"
   },
   {
    "duration": 49,
    "start_time": "2023-01-24T09:28:43.090Z"
   },
   {
    "duration": 24,
    "start_time": "2023-01-24T09:28:43.141Z"
   },
   {
    "duration": 71,
    "start_time": "2023-01-24T09:28:43.167Z"
   },
   {
    "duration": 78,
    "start_time": "2023-01-24T09:28:43.240Z"
   },
   {
    "duration": 63,
    "start_time": "2023-01-24T09:28:43.320Z"
   },
   {
    "duration": 48,
    "start_time": "2023-01-24T09:28:43.384Z"
   },
   {
    "duration": 9,
    "start_time": "2023-01-24T09:28:43.434Z"
   },
   {
    "duration": 39,
    "start_time": "2023-01-24T09:28:43.445Z"
   },
   {
    "duration": 23,
    "start_time": "2023-01-24T09:28:43.486Z"
   },
   {
    "duration": 13,
    "start_time": "2023-01-24T09:28:43.510Z"
   },
   {
    "duration": 10,
    "start_time": "2023-01-24T09:28:43.524Z"
   },
   {
    "duration": 32,
    "start_time": "2023-01-24T09:28:43.536Z"
   },
   {
    "duration": 16,
    "start_time": "2023-01-24T09:28:43.569Z"
   },
   {
    "duration": 15,
    "start_time": "2023-01-24T09:28:43.599Z"
   },
   {
    "duration": 15,
    "start_time": "2023-01-24T09:28:43.616Z"
   },
   {
    "duration": 16,
    "start_time": "2023-01-24T09:28:43.633Z"
   },
   {
    "duration": 19,
    "start_time": "2023-01-24T09:28:43.651Z"
   },
   {
    "duration": 32,
    "start_time": "2023-01-24T09:28:43.673Z"
   },
   {
    "duration": 15,
    "start_time": "2023-01-24T09:28:43.710Z"
   },
   {
    "duration": 10,
    "start_time": "2023-01-24T09:28:43.727Z"
   },
   {
    "duration": 7,
    "start_time": "2023-01-24T09:28:43.739Z"
   },
   {
    "duration": 25,
    "start_time": "2023-01-24T09:28:43.748Z"
   },
   {
    "duration": 36,
    "start_time": "2023-01-24T09:28:43.774Z"
   },
   {
    "duration": 19,
    "start_time": "2023-01-24T09:28:43.812Z"
   },
   {
    "duration": 13,
    "start_time": "2023-01-24T09:28:43.832Z"
   },
   {
    "duration": 7,
    "start_time": "2023-01-24T09:28:43.847Z"
   },
   {
    "duration": 7,
    "start_time": "2023-01-24T09:28:43.856Z"
   },
   {
    "duration": 38,
    "start_time": "2023-01-24T09:28:43.865Z"
   },
   {
    "duration": 5,
    "start_time": "2023-01-24T09:28:43.905Z"
   },
   {
    "duration": 6,
    "start_time": "2023-01-24T09:34:37.652Z"
   },
   {
    "duration": 2,
    "start_time": "2023-01-24T09:34:44.848Z"
   },
   {
    "duration": 236,
    "start_time": "2023-01-24T09:34:44.853Z"
   },
   {
    "duration": 13,
    "start_time": "2023-01-24T09:34:45.091Z"
   },
   {
    "duration": 62,
    "start_time": "2023-01-24T09:34:45.106Z"
   },
   {
    "duration": 32,
    "start_time": "2023-01-24T09:34:45.170Z"
   },
   {
    "duration": 53,
    "start_time": "2023-01-24T09:34:45.203Z"
   },
   {
    "duration": 41,
    "start_time": "2023-01-24T09:34:45.258Z"
   },
   {
    "duration": 42,
    "start_time": "2023-01-24T09:34:45.301Z"
   },
   {
    "duration": 50,
    "start_time": "2023-01-24T09:34:45.346Z"
   },
   {
    "duration": 24,
    "start_time": "2023-01-24T09:34:45.398Z"
   },
   {
    "duration": 28,
    "start_time": "2023-01-24T09:34:45.423Z"
   },
   {
    "duration": 84,
    "start_time": "2023-01-24T09:34:45.453Z"
   },
   {
    "duration": 71,
    "start_time": "2023-01-24T09:34:45.540Z"
   },
   {
    "duration": 66,
    "start_time": "2023-01-24T09:34:45.613Z"
   },
   {
    "duration": 47,
    "start_time": "2023-01-24T09:34:45.681Z"
   },
   {
    "duration": 11,
    "start_time": "2023-01-24T09:34:45.730Z"
   },
   {
    "duration": 53,
    "start_time": "2023-01-24T09:34:45.743Z"
   },
   {
    "duration": 14,
    "start_time": "2023-01-24T09:34:45.799Z"
   },
   {
    "duration": 40,
    "start_time": "2023-01-24T09:34:45.814Z"
   },
   {
    "duration": 20,
    "start_time": "2023-01-24T09:34:45.857Z"
   },
   {
    "duration": 55,
    "start_time": "2023-01-24T09:34:45.879Z"
   },
   {
    "duration": 32,
    "start_time": "2023-01-24T09:34:45.936Z"
   },
   {
    "duration": 25,
    "start_time": "2023-01-24T09:34:45.970Z"
   },
   {
    "duration": 37,
    "start_time": "2023-01-24T09:34:45.998Z"
   },
   {
    "duration": 25,
    "start_time": "2023-01-24T09:34:46.038Z"
   },
   {
    "duration": 24,
    "start_time": "2023-01-24T09:34:46.065Z"
   },
   {
    "duration": 11,
    "start_time": "2023-01-24T09:34:46.091Z"
   },
   {
    "duration": 27,
    "start_time": "2023-01-24T09:34:46.105Z"
   },
   {
    "duration": 18,
    "start_time": "2023-01-24T09:34:46.134Z"
   },
   {
    "duration": 355,
    "start_time": "2023-01-24T09:35:02.044Z"
   },
   {
    "duration": 166,
    "start_time": "2023-01-24T09:35:02.401Z"
   },
   {
    "duration": 19,
    "start_time": "2023-01-24T09:35:02.569Z"
   },
   {
    "duration": 38,
    "start_time": "2023-01-24T09:35:02.590Z"
   },
   {
    "duration": 27,
    "start_time": "2023-01-24T09:35:02.630Z"
   },
   {
    "duration": 40,
    "start_time": "2023-01-24T09:35:02.658Z"
   },
   {
    "duration": 24,
    "start_time": "2023-01-24T09:35:02.700Z"
   },
   {
    "duration": 27,
    "start_time": "2023-01-24T09:35:02.726Z"
   },
   {
    "duration": 69,
    "start_time": "2023-01-24T09:35:02.755Z"
   },
   {
    "duration": 46,
    "start_time": "2023-01-24T09:35:02.827Z"
   },
   {
    "duration": 31,
    "start_time": "2023-01-24T09:35:02.875Z"
   },
   {
    "duration": 95,
    "start_time": "2023-01-24T09:35:02.907Z"
   },
   {
    "duration": 71,
    "start_time": "2023-01-24T09:35:03.004Z"
   },
   {
    "duration": 70,
    "start_time": "2023-01-24T09:35:03.076Z"
   },
   {
    "duration": 34,
    "start_time": "2023-01-24T09:35:03.148Z"
   },
   {
    "duration": 24,
    "start_time": "2023-01-24T09:35:03.184Z"
   },
   {
    "duration": 56,
    "start_time": "2023-01-24T09:35:03.210Z"
   },
   {
    "duration": 19,
    "start_time": "2023-01-24T09:35:03.268Z"
   },
   {
    "duration": 46,
    "start_time": "2023-01-24T09:35:03.289Z"
   },
   {
    "duration": 28,
    "start_time": "2023-01-24T09:35:03.337Z"
   },
   {
    "duration": 49,
    "start_time": "2023-01-24T09:35:03.366Z"
   },
   {
    "duration": 29,
    "start_time": "2023-01-24T09:35:03.417Z"
   },
   {
    "duration": 34,
    "start_time": "2023-01-24T09:35:03.447Z"
   },
   {
    "duration": 18,
    "start_time": "2023-01-24T09:35:03.482Z"
   },
   {
    "duration": 39,
    "start_time": "2023-01-24T09:35:03.502Z"
   },
   {
    "duration": 22,
    "start_time": "2023-01-24T09:35:03.543Z"
   },
   {
    "duration": 16,
    "start_time": "2023-01-24T09:35:03.567Z"
   },
   {
    "duration": 28,
    "start_time": "2023-01-24T09:35:03.586Z"
   },
   {
    "duration": 14,
    "start_time": "2023-01-24T09:35:03.616Z"
   },
   {
    "duration": 17,
    "start_time": "2023-01-24T09:35:03.632Z"
   },
   {
    "duration": 36,
    "start_time": "2023-01-24T09:35:03.651Z"
   },
   {
    "duration": 12,
    "start_time": "2023-01-24T09:35:03.688Z"
   },
   {
    "duration": 43,
    "start_time": "2023-01-24T09:35:03.702Z"
   },
   {
    "duration": 41,
    "start_time": "2023-01-24T09:35:03.746Z"
   },
   {
    "duration": 38,
    "start_time": "2023-01-24T09:35:03.789Z"
   },
   {
    "duration": 43,
    "start_time": "2023-01-24T09:35:03.829Z"
   },
   {
    "duration": 49,
    "start_time": "2023-01-24T09:35:03.873Z"
   },
   {
    "duration": 30,
    "start_time": "2023-01-24T09:35:03.924Z"
   },
   {
    "duration": 4,
    "start_time": "2023-01-24T09:37:01.531Z"
   },
   {
    "duration": 17,
    "start_time": "2023-01-24T09:37:07.542Z"
   },
   {
    "duration": 11,
    "start_time": "2023-01-24T09:37:09.261Z"
   },
   {
    "duration": 19,
    "start_time": "2023-01-24T09:37:10.752Z"
   },
   {
    "duration": 351,
    "start_time": "2023-01-24T09:37:21.852Z"
   },
   {
    "duration": 168,
    "start_time": "2023-01-24T09:37:22.205Z"
   },
   {
    "duration": 27,
    "start_time": "2023-01-24T09:37:22.375Z"
   },
   {
    "duration": 72,
    "start_time": "2023-01-24T09:37:22.404Z"
   },
   {
    "duration": 15,
    "start_time": "2023-01-24T09:37:22.477Z"
   },
   {
    "duration": 37,
    "start_time": "2023-01-24T09:37:22.494Z"
   },
   {
    "duration": 39,
    "start_time": "2023-01-24T09:37:22.532Z"
   },
   {
    "duration": 40,
    "start_time": "2023-01-24T09:37:22.572Z"
   },
   {
    "duration": 33,
    "start_time": "2023-01-24T09:37:22.615Z"
   },
   {
    "duration": 32,
    "start_time": "2023-01-24T09:37:22.651Z"
   },
   {
    "duration": 25,
    "start_time": "2023-01-24T09:37:22.685Z"
   },
   {
    "duration": 85,
    "start_time": "2023-01-24T09:37:22.711Z"
   },
   {
    "duration": 75,
    "start_time": "2023-01-24T09:37:22.798Z"
   },
   {
    "duration": 85,
    "start_time": "2023-01-24T09:37:22.875Z"
   },
   {
    "duration": 49,
    "start_time": "2023-01-24T09:37:22.962Z"
   },
   {
    "duration": 20,
    "start_time": "2023-01-24T09:37:23.013Z"
   },
   {
    "duration": 52,
    "start_time": "2023-01-24T09:37:23.036Z"
   },
   {
    "duration": 13,
    "start_time": "2023-01-24T09:37:23.091Z"
   },
   {
    "duration": 25,
    "start_time": "2023-01-24T09:37:23.106Z"
   },
   {
    "duration": 5,
    "start_time": "2023-01-24T09:37:23.133Z"
   },
   {
    "duration": 52,
    "start_time": "2023-01-24T09:37:23.139Z"
   },
   {
    "duration": 42,
    "start_time": "2023-01-24T09:37:23.192Z"
   },
   {
    "duration": 17,
    "start_time": "2023-01-24T09:37:23.235Z"
   },
   {
    "duration": 35,
    "start_time": "2023-01-24T09:37:23.254Z"
   },
   {
    "duration": 34,
    "start_time": "2023-01-24T09:37:23.291Z"
   },
   {
    "duration": 29,
    "start_time": "2023-01-24T09:37:23.327Z"
   },
   {
    "duration": 22,
    "start_time": "2023-01-24T09:37:23.358Z"
   },
   {
    "duration": 41,
    "start_time": "2023-01-24T09:37:23.383Z"
   },
   {
    "duration": 16,
    "start_time": "2023-01-24T09:37:23.426Z"
   },
   {
    "duration": 13,
    "start_time": "2023-01-24T09:37:23.444Z"
   },
   {
    "duration": 39,
    "start_time": "2023-01-24T09:37:23.458Z"
   },
   {
    "duration": 10,
    "start_time": "2023-01-24T09:37:23.499Z"
   },
   {
    "duration": 18,
    "start_time": "2023-01-24T09:37:23.510Z"
   },
   {
    "duration": 15,
    "start_time": "2023-01-24T09:37:23.530Z"
   },
   {
    "duration": 14,
    "start_time": "2023-01-24T09:37:23.547Z"
   },
   {
    "duration": 19,
    "start_time": "2023-01-24T09:37:23.563Z"
   },
   {
    "duration": 19,
    "start_time": "2023-01-24T09:37:23.584Z"
   },
   {
    "duration": 22,
    "start_time": "2023-01-24T09:37:23.605Z"
   },
   {
    "duration": 5,
    "start_time": "2023-01-24T09:43:22.538Z"
   },
   {
    "duration": 21,
    "start_time": "2023-01-24T09:43:27.418Z"
   },
   {
    "duration": 3,
    "start_time": "2023-01-24T09:43:35.997Z"
   },
   {
    "duration": 185,
    "start_time": "2023-01-24T09:43:36.001Z"
   },
   {
    "duration": 13,
    "start_time": "2023-01-24T09:43:36.188Z"
   },
   {
    "duration": 53,
    "start_time": "2023-01-24T09:43:36.203Z"
   },
   {
    "duration": 10,
    "start_time": "2023-01-24T09:43:36.258Z"
   },
   {
    "duration": 15,
    "start_time": "2023-01-24T09:43:36.270Z"
   },
   {
    "duration": 23,
    "start_time": "2023-01-24T09:43:36.287Z"
   },
   {
    "duration": 16,
    "start_time": "2023-01-24T09:43:36.311Z"
   },
   {
    "duration": 29,
    "start_time": "2023-01-24T09:43:36.329Z"
   },
   {
    "duration": 35,
    "start_time": "2023-01-24T09:43:36.360Z"
   },
   {
    "duration": 54,
    "start_time": "2023-01-24T09:43:36.406Z"
   },
   {
    "duration": 76,
    "start_time": "2023-01-24T09:43:36.462Z"
   },
   {
    "duration": 74,
    "start_time": "2023-01-24T09:43:36.540Z"
   },
   {
    "duration": 58,
    "start_time": "2023-01-24T09:43:36.616Z"
   },
   {
    "duration": 45,
    "start_time": "2023-01-24T09:43:36.675Z"
   },
   {
    "duration": 12,
    "start_time": "2023-01-24T09:43:36.723Z"
   },
   {
    "duration": 51,
    "start_time": "2023-01-24T09:43:36.737Z"
   },
   {
    "duration": 15,
    "start_time": "2023-01-24T09:43:36.790Z"
   },
   {
    "duration": 18,
    "start_time": "2023-01-24T09:43:36.807Z"
   },
   {
    "duration": 17,
    "start_time": "2023-01-24T09:43:36.827Z"
   },
   {
    "duration": 32,
    "start_time": "2023-01-24T09:43:36.846Z"
   },
   {
    "duration": 30,
    "start_time": "2023-01-24T09:43:36.880Z"
   },
   {
    "duration": 29,
    "start_time": "2023-01-24T09:43:36.911Z"
   },
   {
    "duration": 26,
    "start_time": "2023-01-24T09:43:36.942Z"
   },
   {
    "duration": 33,
    "start_time": "2023-01-24T09:43:36.969Z"
   },
   {
    "duration": 39,
    "start_time": "2023-01-24T09:43:37.003Z"
   },
   {
    "duration": 13,
    "start_time": "2023-01-24T09:43:37.043Z"
   },
   {
    "duration": 27,
    "start_time": "2023-01-24T09:43:37.058Z"
   },
   {
    "duration": 22,
    "start_time": "2023-01-24T09:43:37.087Z"
   }
  ],
  "colab": {
   "collapsed_sections": [
    "E0vqbgi9ay0H",
    "VUC88oWjTJw2"
   ],
   "name": "automatization_template_upd4.ipynb",
   "provenance": []
  },
  "kernelspec": {
   "display_name": "Python 3 (ipykernel)",
   "language": "python",
   "name": "python3"
  },
  "language_info": {
   "codemirror_mode": {
    "name": "ipython",
    "version": 3
   },
   "file_extension": ".py",
   "mimetype": "text/x-python",
   "name": "python",
   "nbconvert_exporter": "python",
   "pygments_lexer": "ipython3",
   "version": "3.11.5"
  },
  "toc": {
   "base_numbering": 1,
   "nav_menu": {
    "height": "215px",
    "width": "403px"
   },
   "number_sections": true,
   "sideBar": true,
   "skip_h1_title": true,
   "title_cell": "Table of Contents",
   "title_sidebar": "Contents",
   "toc_cell": false,
   "toc_position": {
    "height": "calc(100% - 180px)",
    "left": "10px",
    "top": "150px",
    "width": "285.825px"
   },
   "toc_section_display": true,
   "toc_window_display": false
  }
 },
 "nbformat": 4,
 "nbformat_minor": 4
}
