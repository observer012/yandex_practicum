{
 "cells": [
  {
   "cell_type": "markdown",
   "metadata": {},
   "source": [
    "# Защита персональных данных клиентов"
   ]
  },
  {
   "cell_type": "markdown",
   "metadata": {},
   "source": [
    "<h1>Содержание<span class='tocSkip'></span></h1>\n",
    "\n",
    "* [1 Загрузка данных](#my_section_1) <a id='content_1'></a>\n",
    "  * [1.1 Загрузка данных](#my_section_2) <a id='content_2'></a>\n",
    "  * [1.2 Ознакомление](#my_section_3) <a id='content_3'></a>\n",
    "    * [1.2.1 Проверка на дубликаты](#my_section_4) <a id='content_4'></a>\n",
    "    * [1.2.2 Изучение выбросов](#my_section_5) <a id='content_5'></a>\n",
    "    * [1.2.3 Заключение](#my_section_6) <a id='content_6'></a>\n",
    "  * [1.3 Предобработка](#my_section_7) <a id='content_7'></a>\n",
    "  * [1.4 Заключение](#my_section_8) <a id='content_8'></a>\n",
    "* [2 Умножение матриц](#my_section_9) <a id='content_9'></a>\n",
    "* [3 Алгоритм преобразования](#my_section_10) <a id='content_10'></a>\n",
    "* [4 Проверка алгоритма](#my_section_11) <a id='content_11'></a>\n",
    "* [5 Вывод](#my_section_12) <a id='content_12'></a>\n"
   ]
  },
  {
   "cell_type": "markdown",
   "metadata": {},
   "source": [
    "# Описание проекта"
   ]
  },
  {
   "cell_type": "markdown",
   "metadata": {},
   "source": [
    "**Задача:**\n",
    "- Нужно защитить данные клиентов. Разработь метод преобразования данных, чтобы по ним было сложно восстановить персональную информацию. Обосновать корректность его работы.\n",
    "- При преобразовании данных качество моделей машинного обучения ухудшиться не должно."
   ]
  },
  {
   "cell_type": "markdown",
   "metadata": {},
   "source": [
    "**План работы:**\n",
    "1. Загрузка и изучение данных.\n",
    "2. Изучение вопроса и обоснование решения. \n",
    "3. Рассмотрение алгоритма преобразования данных.\n",
    "4. Создание алгоритма."
   ]
  },
  {
   "cell_type": "markdown",
   "metadata": {},
   "source": [
    "**Описание данных:**\n",
    "\n",
    "Набор данных находится в файле data.csv.\n",
    "- Признаки: пол, возраст и зарплата застрахованного, количество членов его семьи.\n",
    "- Целевой признак: количество страховых выплат клиенту за последние 5 лет."
   ]
  },
  {
   "cell_type": "markdown",
   "metadata": {},
   "source": [
    "**Форматирование текста:**\n",
    "- *Курсивом — небольшие выводы*;\n",
    "- Обычным — дейсвия."
   ]
  },
  {
   "cell_type": "markdown",
   "metadata": {},
   "source": [
    "<a id='my_section_1'></a>\n",
    "## [Загрузка данных](#content_1)"
   ]
  },
  {
   "cell_type": "markdown",
   "metadata": {},
   "source": [
    "<a id='my_section_2'></a>\n",
    "### [Загрузка данных](#content_2)"
   ]
  },
  {
   "cell_type": "markdown",
   "metadata": {},
   "source": [
    "Проведём загрузку необходимых библиотек и модулей"
   ]
  },
  {
   "cell_type": "code",
   "execution_count": 1,
   "metadata": {},
   "outputs": [],
   "source": [
    "from random import randint\n",
    "import matplotlib.pyplot as plt\n",
    "import pandas as pd\n",
    "import numpy as np\n",
    "\n",
    "from sklearn.linear_model import LinearRegression\n",
    "from sklearn.metrics import r2_score\n",
    "from sklearn.preprocessing import StandardScaler"
   ]
  },
  {
   "cell_type": "markdown",
   "metadata": {},
   "source": [
    "Проведём загрузку файла"
   ]
  },
  {
   "cell_type": "code",
   "execution_count": 2,
   "metadata": {},
   "outputs": [],
   "source": [
    "def download(name):\n",
    "    path1 = '/datasets/'\n",
    "    path2 = 'https://..'\n",
    "    try:\n",
    "        data = pd.read_csv(name)\n",
    "    except FileNotFoundError:\n",
    "        try: \n",
    "            data = pd.read_csv(path1 + name)\n",
    "        except FileNotFoundError:\n",
    "            data = pd.read_csv(path2 + name)\n",
    "    except Exception as ex:\n",
    "        print(\"Some error:\", ex)\n",
    "    return data    "
   ]
  },
  {
   "cell_type": "code",
   "execution_count": 3,
   "metadata": {},
   "outputs": [],
   "source": [
    "data = download('data.csv')"
   ]
  },
  {
   "cell_type": "markdown",
   "metadata": {},
   "source": [
    "<a id='my_section_3'></a>\n",
    "### [Ознакомление](#content_3)"
   ]
  },
  {
   "cell_type": "markdown",
   "metadata": {},
   "source": [
    "**head**"
   ]
  },
  {
   "cell_type": "markdown",
   "metadata": {},
   "source": [
    "Изучим данные"
   ]
  },
  {
   "cell_type": "code",
   "execution_count": 4,
   "metadata": {},
   "outputs": [
    {
     "data": {
      "text/html": [
       "<div>\n",
       "<style scoped>\n",
       "    .dataframe tbody tr th:only-of-type {\n",
       "        vertical-align: middle;\n",
       "    }\n",
       "\n",
       "    .dataframe tbody tr th {\n",
       "        vertical-align: top;\n",
       "    }\n",
       "\n",
       "    .dataframe thead th {\n",
       "        text-align: right;\n",
       "    }\n",
       "</style>\n",
       "<table border=\"1\" class=\"dataframe\">\n",
       "  <thead>\n",
       "    <tr style=\"text-align: right;\">\n",
       "      <th></th>\n",
       "      <th>Пол</th>\n",
       "      <th>Возраст</th>\n",
       "      <th>Зарплата</th>\n",
       "      <th>Члены семьи</th>\n",
       "      <th>Страховые выплаты</th>\n",
       "    </tr>\n",
       "  </thead>\n",
       "  <tbody>\n",
       "    <tr>\n",
       "      <th>0</th>\n",
       "      <td>1</td>\n",
       "      <td>41.0</td>\n",
       "      <td>49600.0</td>\n",
       "      <td>1</td>\n",
       "      <td>0</td>\n",
       "    </tr>\n",
       "    <tr>\n",
       "      <th>1</th>\n",
       "      <td>0</td>\n",
       "      <td>46.0</td>\n",
       "      <td>38000.0</td>\n",
       "      <td>1</td>\n",
       "      <td>1</td>\n",
       "    </tr>\n",
       "    <tr>\n",
       "      <th>2</th>\n",
       "      <td>0</td>\n",
       "      <td>29.0</td>\n",
       "      <td>21000.0</td>\n",
       "      <td>0</td>\n",
       "      <td>0</td>\n",
       "    </tr>\n",
       "    <tr>\n",
       "      <th>3</th>\n",
       "      <td>0</td>\n",
       "      <td>21.0</td>\n",
       "      <td>41700.0</td>\n",
       "      <td>2</td>\n",
       "      <td>0</td>\n",
       "    </tr>\n",
       "    <tr>\n",
       "      <th>4</th>\n",
       "      <td>1</td>\n",
       "      <td>28.0</td>\n",
       "      <td>26100.0</td>\n",
       "      <td>0</td>\n",
       "      <td>0</td>\n",
       "    </tr>\n",
       "  </tbody>\n",
       "</table>\n",
       "</div>"
      ],
      "text/plain": [
       "   Пол  Возраст  Зарплата  Члены семьи  Страховые выплаты\n",
       "0    1     41.0   49600.0            1                  0\n",
       "1    0     46.0   38000.0            1                  1\n",
       "2    0     29.0   21000.0            0                  0\n",
       "3    0     21.0   41700.0            2                  0\n",
       "4    1     28.0   26100.0            0                  0"
      ]
     },
     "execution_count": 4,
     "metadata": {},
     "output_type": "execute_result"
    }
   ],
   "source": [
    "data.head()"
   ]
  },
  {
   "cell_type": "markdown",
   "metadata": {},
   "source": [
    "*Наименования стобцов начинаются в верхнем регитсре и некоторые разделены пробелами. Стоит провести преобразование.*"
   ]
  },
  {
   "cell_type": "markdown",
   "metadata": {},
   "source": [
    "**Переименование столбцов**"
   ]
  },
  {
   "cell_type": "markdown",
   "metadata": {},
   "source": [
    "Страхования компания «Хоть потоп» русскоязычная, изменение колонок будет соответствовать."
   ]
  },
  {
   "cell_type": "code",
   "execution_count": 5,
   "metadata": {},
   "outputs": [
    {
     "data": {
      "text/plain": [
       "Index(['Пол', 'Возраст', 'Зарплата', 'Члены семьи', 'Страховые выплаты'], dtype='object')"
      ]
     },
     "execution_count": 5,
     "metadata": {},
     "output_type": "execute_result"
    }
   ],
   "source": [
    "data.columns"
   ]
  },
  {
   "cell_type": "code",
   "execution_count": 6,
   "metadata": {},
   "outputs": [],
   "source": [
    "data = data.rename(columns={'Пол':'пол', 'Возраст':'возраст', 'Зарплата':'зарплата',\n",
    "                            'Члены семьи':'члены_семьи', 'Страховые выплаты':'страховые_выплаты'})"
   ]
  },
  {
   "cell_type": "markdown",
   "metadata": {},
   "source": [
    "**info**"
   ]
  },
  {
   "cell_type": "code",
   "execution_count": 7,
   "metadata": {},
   "outputs": [
    {
     "name": "stdout",
     "output_type": "stream",
     "text": [
      "<class 'pandas.core.frame.DataFrame'>\n",
      "RangeIndex: 5000 entries, 0 to 4999\n",
      "Data columns (total 5 columns):\n",
      " #   Column             Non-Null Count  Dtype  \n",
      "---  ------             --------------  -----  \n",
      " 0   пол                5000 non-null   int64  \n",
      " 1   возраст            5000 non-null   float64\n",
      " 2   зарплата           5000 non-null   float64\n",
      " 3   члены_семьи        5000 non-null   int64  \n",
      " 4   страховые_выплаты  5000 non-null   int64  \n",
      "dtypes: float64(2), int64(3)\n",
      "memory usage: 195.4 KB\n"
     ]
    }
   ],
   "source": [
    "data.info()"
   ]
  },
  {
   "cell_type": "markdown",
   "metadata": {},
   "source": [
    "*Пропуски в данных не обнаружены. Целевой признак — категориальный, значит решаем задачу классификации. Типы у столбцов указаны в соответствии с находящимся данными, однако не понятно, почему возрасть имеет тип float64. Изучим содержание столбца.*"
   ]
  },
  {
   "cell_type": "code",
   "execution_count": 8,
   "metadata": {},
   "outputs": [
    {
     "data": {
      "text/plain": [
       "array([41., 46., 29., 21., 28., 43., 39., 25., 36., 32., 38., 23., 40.,\n",
       "       34., 26., 42., 27., 33., 47., 30., 19., 31., 22., 20., 24., 18.,\n",
       "       37., 48., 45., 44., 52., 49., 35., 56., 65., 55., 57., 54., 50.,\n",
       "       53., 51., 58., 59., 60., 61., 62.])"
      ]
     },
     "execution_count": 8,
     "metadata": {},
     "output_type": "execute_result"
    }
   ],
   "source": [
    "data['возраст'].unique()"
   ]
  },
  {
   "cell_type": "markdown",
   "metadata": {},
   "source": [
    "*Тип данных можно изменить на int64, это займёт меньше памяти.*"
   ]
  },
  {
   "cell_type": "markdown",
   "metadata": {},
   "source": [
    "<a id='my_section_4'></a>\n",
    "#### [Проверка на дубликаты](#content_4)"
   ]
  },
  {
   "cell_type": "markdown",
   "metadata": {},
   "source": [
    "Определим функцию для проверки и удаления дубликатов. Проводить поиск будем по всем стобцам, так как признаков мало и велика вероятность совпадения, кроме того, нет уникальных идентификаторов."
   ]
  },
  {
   "cell_type": "code",
   "execution_count": 9,
   "metadata": {},
   "outputs": [],
   "source": [
    "def is_duplucates(data, drop=False):\n",
    "    print(f'Количество дубликатов обнаружено: {data.duplicated().sum()}')\n",
    "    if drop == True:\n",
    "        print(f'Строк/столбцов до удаления дубликатов {data.shape}')\n",
    "        data = data.drop_duplicates()\n",
    "        print(f'Строк/столбцов после удаления дубликатов {data.shape}')\n",
    "        return data"
   ]
  },
  {
   "cell_type": "code",
   "execution_count": 10,
   "metadata": {},
   "outputs": [
    {
     "name": "stdout",
     "output_type": "stream",
     "text": [
      "Количество дубликатов обнаружено: 153\n"
     ]
    }
   ],
   "source": [
    "is_duplucates(data)"
   ]
  },
  {
   "cell_type": "markdown",
   "metadata": {},
   "source": [
    "<a id='my_section_5'></a>\n",
    "#### [Изучение выбросов](#content_5)"
   ]
  },
  {
   "cell_type": "markdown",
   "metadata": {},
   "source": [
    "В рамках задачи данный этап не нужен, так как необходимо защитить данные, чтобы при преобразовании качество модели не ухудшилось."
   ]
  },
  {
   "cell_type": "code",
   "execution_count": 11,
   "metadata": {},
   "outputs": [
    {
     "data": {
      "text/html": [
       "<div>\n",
       "<style scoped>\n",
       "    .dataframe tbody tr th:only-of-type {\n",
       "        vertical-align: middle;\n",
       "    }\n",
       "\n",
       "    .dataframe tbody tr th {\n",
       "        vertical-align: top;\n",
       "    }\n",
       "\n",
       "    .dataframe thead th {\n",
       "        text-align: right;\n",
       "    }\n",
       "</style>\n",
       "<table border=\"1\" class=\"dataframe\">\n",
       "  <thead>\n",
       "    <tr style=\"text-align: right;\">\n",
       "      <th></th>\n",
       "      <th>пол</th>\n",
       "      <th>возраст</th>\n",
       "      <th>зарплата</th>\n",
       "      <th>члены_семьи</th>\n",
       "      <th>страховые_выплаты</th>\n",
       "    </tr>\n",
       "  </thead>\n",
       "  <tbody>\n",
       "    <tr>\n",
       "      <th>count</th>\n",
       "      <td>5000.000000</td>\n",
       "      <td>5000.000000</td>\n",
       "      <td>5000.000000</td>\n",
       "      <td>5000.000000</td>\n",
       "      <td>5000.000000</td>\n",
       "    </tr>\n",
       "    <tr>\n",
       "      <th>mean</th>\n",
       "      <td>0.499000</td>\n",
       "      <td>30.952800</td>\n",
       "      <td>39916.360000</td>\n",
       "      <td>1.194200</td>\n",
       "      <td>0.148000</td>\n",
       "    </tr>\n",
       "    <tr>\n",
       "      <th>std</th>\n",
       "      <td>0.500049</td>\n",
       "      <td>8.440807</td>\n",
       "      <td>9900.083569</td>\n",
       "      <td>1.091387</td>\n",
       "      <td>0.463183</td>\n",
       "    </tr>\n",
       "    <tr>\n",
       "      <th>min</th>\n",
       "      <td>0.000000</td>\n",
       "      <td>18.000000</td>\n",
       "      <td>5300.000000</td>\n",
       "      <td>0.000000</td>\n",
       "      <td>0.000000</td>\n",
       "    </tr>\n",
       "    <tr>\n",
       "      <th>25%</th>\n",
       "      <td>0.000000</td>\n",
       "      <td>24.000000</td>\n",
       "      <td>33300.000000</td>\n",
       "      <td>0.000000</td>\n",
       "      <td>0.000000</td>\n",
       "    </tr>\n",
       "    <tr>\n",
       "      <th>50%</th>\n",
       "      <td>0.000000</td>\n",
       "      <td>30.000000</td>\n",
       "      <td>40200.000000</td>\n",
       "      <td>1.000000</td>\n",
       "      <td>0.000000</td>\n",
       "    </tr>\n",
       "    <tr>\n",
       "      <th>75%</th>\n",
       "      <td>1.000000</td>\n",
       "      <td>37.000000</td>\n",
       "      <td>46600.000000</td>\n",
       "      <td>2.000000</td>\n",
       "      <td>0.000000</td>\n",
       "    </tr>\n",
       "    <tr>\n",
       "      <th>max</th>\n",
       "      <td>1.000000</td>\n",
       "      <td>65.000000</td>\n",
       "      <td>79000.000000</td>\n",
       "      <td>6.000000</td>\n",
       "      <td>5.000000</td>\n",
       "    </tr>\n",
       "  </tbody>\n",
       "</table>\n",
       "</div>"
      ],
      "text/plain": [
       "               пол      возраст      зарплата  члены_семьи  страховые_выплаты\n",
       "count  5000.000000  5000.000000   5000.000000  5000.000000        5000.000000\n",
       "mean      0.499000    30.952800  39916.360000     1.194200           0.148000\n",
       "std       0.500049     8.440807   9900.083569     1.091387           0.463183\n",
       "min       0.000000    18.000000   5300.000000     0.000000           0.000000\n",
       "25%       0.000000    24.000000  33300.000000     0.000000           0.000000\n",
       "50%       0.000000    30.000000  40200.000000     1.000000           0.000000\n",
       "75%       1.000000    37.000000  46600.000000     2.000000           0.000000\n",
       "max       1.000000    65.000000  79000.000000     6.000000           5.000000"
      ]
     },
     "execution_count": 11,
     "metadata": {},
     "output_type": "execute_result"
    }
   ],
   "source": [
    "data.describe()"
   ]
  },
  {
   "cell_type": "markdown",
   "metadata": {},
   "source": [
    "Средние показатели признаков:\n",
    "- пол: распределение примерно поровну (от 0 до 1);\n",
    "- возраст: равен 30 годам (от 18 до 65);\n",
    "- з.п.: 40000 (от 5300 до 79000);\n",
    "- кол-во членов семьи: 1 (от 1 до 6);\n",
    "- страховые выплаты: 0.148 (от 0 до 5)."
   ]
  },
  {
   "cell_type": "markdown",
   "metadata": {},
   "source": [
    "Определим функцию для построения графиков и определения границ усов. Изучать выбросы будем у трёх столбцов(в силу типа представленной информации и отношению их к количественным признакам):\n",
    "- возраст;\n",
    "- зарплата;\n",
    "- члены_семьи."
   ]
  },
  {
   "cell_type": "code",
   "execution_count": 12,
   "metadata": {},
   "outputs": [],
   "source": [
    "def box_moustache(data):\n",
    "    moustache = {}\n",
    "    col = {'возраст':'лет', 'зарплата':'у.е.', 'члены_семьи':'человек(a)'}\n",
    "    fig, ax = plt.subplots(1, 3, figsize=(13,6))\n",
    "    fig.suptitle('Ящики с усами', fontsize=14, fontweight='bold')\n",
    "    fig.subplots_adjust(top=.8)\n",
    "\n",
    "    count = 0\n",
    "    for key, val in col.items():\n",
    "        b = ax[count].boxplot(data[key])\n",
    "        # Выделение крайних усов боксплота\n",
    "        moustache[key] = [item.get_ydata()[1] for item in b['whiskers']]\n",
    "        ax[count].grid()\n",
    "        ax[count].set_title(key)\n",
    "        ax[count].set_ylabel(val)\n",
    "        count += 1\n",
    "\n",
    "    fig.tight_layout()\n",
    "\n",
    "\n",
    "    return moustache    \n"
   ]
  },
  {
   "cell_type": "code",
   "execution_count": 13,
   "metadata": {},
   "outputs": [
    {
     "data": {
      "image/png": "[encoded data removed]",
      "text/plain": [
       "<Figure size 1300x600 with 3 Axes>"
      ]
     },
     "metadata": {},
     "output_type": "display_data"
    }
   ],
   "source": [
    "moustache_data = box_moustache(data)"
   ]
  },
  {
   "cell_type": "markdown",
   "metadata": {},
   "source": [
    "Изучим численные границы"
   ]
  },
  {
   "cell_type": "code",
   "execution_count": 14,
   "metadata": {},
   "outputs": [
    {
     "data": {
      "text/plain": [
       "{'возраст': [18.0, 56.0],\n",
       " 'зарплата': [13400.0, 66300.0],\n",
       " 'члены_семьи': [0.0, 5.0]}"
      ]
     },
     "execution_count": 14,
     "metadata": {},
     "output_type": "execute_result"
    }
   ],
   "source": [
    "moustache_data"
   ]
  },
  {
   "cell_type": "markdown",
   "metadata": {},
   "source": [
    "Определим функцию для ограничения выбранных столбцов по усам"
   ]
  },
  {
   "cell_type": "code",
   "execution_count": 15,
   "metadata": {},
   "outputs": [],
   "source": [
    "def limit_moustache(data, drop=False):\n",
    "    data_s = data.shape[0]\n",
    "    for key, val in moustache_data.items():\n",
    "        data = data.loc[(data[key] >= val[0]) & (data[key] <= val[1])]\n",
    "    res = data_s - data.shape[0]\n",
    "    if drop == False:\n",
    "        print(f'Обнаружено выбросов: {res}')\n",
    "    else:\n",
    "        print(f'Выбросов удалено: {res}')\n",
    "        return data\n"
   ]
  },
  {
   "cell_type": "code",
   "execution_count": 16,
   "metadata": {},
   "outputs": [
    {
     "name": "stdout",
     "output_type": "stream",
     "text": [
      "Обнаружено выбросов: 56\n"
     ]
    }
   ],
   "source": [
    "limit_moustache(data)"
   ]
  },
  {
   "cell_type": "markdown",
   "metadata": {},
   "source": [
    "<a id='my_section_6'></a>\n",
    "#### [Заключение](#content_6)"
   ]
  },
  {
   "cell_type": "markdown",
   "metadata": {},
   "source": [
    "В данных обнаружено:\n",
    "- столбец `возраст` имеет тип данных float64, а должен int64;\n",
    "- 153 дубликата при поиске по всем столбцам;\n",
    "- 56 выбросов.\n",
    "\n",
    "**Вывод:**\n",
    "Необходимо провести предобработку данных и избавиться от помех."
   ]
  },
  {
   "cell_type": "markdown",
   "metadata": {},
   "source": [
    "<a id='my_section_7'></a>\n",
    "### [Предобработка](#content_7)"
   ]
  },
  {
   "cell_type": "markdown",
   "metadata": {},
   "source": [
    "**Изменение типа данных**"
   ]
  },
  {
   "cell_type": "code",
   "execution_count": 17,
   "metadata": {},
   "outputs": [],
   "source": [
    "data['возраст'] = data['возраст'].astype('int64')"
   ]
  },
  {
   "cell_type": "markdown",
   "metadata": {},
   "source": [
    "**Избавление от дубликатов**"
   ]
  },
  {
   "cell_type": "code",
   "execution_count": 18,
   "metadata": {},
   "outputs": [
    {
     "name": "stdout",
     "output_type": "stream",
     "text": [
      "Количество дубликатов обнаружено: 153\n",
      "Строк/столбцов до удаления дубликатов (5000, 5)\n",
      "Строк/столбцов после удаления дубликатов (4847, 5)\n"
     ]
    }
   ],
   "source": [
    "data = is_duplucates(data, drop=True)"
   ]
  },
  {
   "cell_type": "markdown",
   "metadata": {},
   "source": [
    "**Обработка выбросов**"
   ]
  },
  {
   "cell_type": "code",
   "execution_count": 19,
   "metadata": {},
   "outputs": [
    {
     "name": "stdout",
     "output_type": "stream",
     "text": [
      "Выбросов удалено: 56\n"
     ]
    }
   ],
   "source": [
    "data = limit_moustache(data, drop=True)"
   ]
  },
  {
   "cell_type": "markdown",
   "metadata": {},
   "source": [
    "<a id='my_section_8'></a>\n",
    "### [Заключение](#content_8)"
   ]
  },
  {
   "cell_type": "markdown",
   "metadata": {},
   "source": [
    "Проведено подключение библиотек и модулей, загрузка и ознакомление с данными. Были выявлены помехи, мешающие или усложнающие дальнейшую работу и анализ данных:\n",
    "- имена столбцов находились в непринятом формате;\n",
    "- столбец `возраст` имел тип столбца `float64`;\n",
    "- обнаружено 153 дубликата, если искать по всем столбцам;\n",
    "- в столбцах: `возраст`, `зарплата`, `члены_семьи` были обнаружено 56 выбросов.\n",
    "\n",
    "В процессе предобработки было сделано:\n",
    "- имена столбцов переведены в нижний и 'змеиный' регистр;\n",
    "- изменён тип столбца `возраст` на `int64`;\n",
    "- набор данных избавлен от дубликатов;\n",
    "- столбцы с количественным набором данных избавлены от выбросов.\n",
    "\n"
   ]
  },
  {
   "cell_type": "markdown",
   "metadata": {},
   "source": [
    "<a id='my_section_9'></a>\n",
    "## [Умножение матриц](#content_9)"
   ]
  },
  {
   "cell_type": "markdown",
   "metadata": {},
   "source": [
    "**Вопрос:** </br>\n",
    "Признаки умножают на обратимую матрицу. Изменится ли качество линейной регрессии? </br>\n",
    "\n",
    "**Варианты ответов:**\n",
    "- a. Изменится. Приведите примеры матриц.\n",
    "- b. Не изменится."
   ]
  },
  {
   "cell_type": "markdown",
   "metadata": {},
   "source": [
    "**Ответ:**\n",
    "b. Не изменится"
   ]
  },
  {
   "cell_type": "markdown",
   "metadata": {},
   "source": [
    "**Обоснование:**\n",
    "\n",
    "Используемые свойства:\n",
    "$$\n",
    "(AB)^T=B^T A^T\n",
    "$$\n",
    "$$\n",
    "(AB)^{-1} = B^{-1} A^{-1}\n",
    "$$\n",
    "$$\n",
    "A A^{-1} = A^{-1} A = E\n",
    "$$\n",
    "$$\n",
    "AE = EA = A\n",
    "$$\n",
    "\\\n",
    "Обозначения:\n",
    "\n",
    "- $X$ — матрица признаков (нулевой столбец состоит из единиц)\n",
    "\n",
    "- $y$ — вектор целевого признака\n",
    "\n",
    "- $P$ — матрица, на которую умножаются признаки\n",
    "\n",
    "- $w$ — вектор весов линейной регрессии (нулевой элемент равен сдвигу)\n",
    "\n",
    "Доказательство:\n",
    "$$\n",
    "a = Xw = XEw = XPP^{-1}w = (XP)P^{-1}w = (XP)w'\n",
    "$$\n",
    "\\\n",
    "Требуется доказать, что предсказания не изменятся, имеем  $a =  Xw$,   $a' = X'w'$\n",
    "\\\n",
    "\\\n",
    "$$\n",
    "    w = (X^T X)^{-1} X^T y\n",
    "$$\n",
    "\\\n",
    "$$\n",
    "w' = ((XP)^T XP)^{-1} (XP)^T y\n",
    "$$\n",
    "$$\n",
    "w' = (P^T (X^T X) P)^{-1} (XP)^T y\n",
    "$$\n",
    "$$\n",
    "w' = (P^T (X^T X) P)^{-1} P^T X^T y\n",
    "$$\n",
    "\n",
    "$$\n",
    "w' = (P)^{-1} (X^T X)^{-1} (P^T)^{-1} P^T X^T y\n",
    "$$\n",
    "$$\n",
    "w' = (P)^{-1} (X^T X)^{-1} E X^T y\n",
    "$$\n",
    "$$\n",
    "w' = (P)^{-1} w\n",
    "$$\n"
   ]
  },
  {
   "cell_type": "markdown",
   "metadata": {},
   "source": [
    "**Заключение:** предсказания не изменятся, согласно итогу проведённого преобразования и доказательства."
   ]
  },
  {
   "cell_type": "markdown",
   "metadata": {},
   "source": [
    "**Вывод:**\n",
    "Качество линейной регресии не изменится при умножении матрицы признаков на обратимую матрицу. Значит, что это можно использовать для шифрования персональной информации."
   ]
  },
  {
   "cell_type": "markdown",
   "metadata": {},
   "source": [
    "<a id='my_section_10'></a>\n",
    "## [Алгоритм преобразования](#content_10)"
   ]
  },
  {
   "cell_type": "markdown",
   "metadata": {},
   "source": [
    "В этом пункте предложим алгоритм преобразования данных, рассчитанный в прошлом пукте. В целом для задачи кодирования данных подойдут и другие операции с матрицей: умножение и деление на число, вектор, формула будет такая же. Подобные операции справделивы и для обратимых матриц."
   ]
  },
  {
   "cell_type": "markdown",
   "metadata": {},
   "source": [
    "**Алгоритм**\n",
    "\n",
    "Был рассмотрен в пункте 2, где происходило умнажение признаков на обратимую матрицу."
   ]
  },
  {
   "cell_type": "markdown",
   "metadata": {},
   "source": [
    "**Обоснование**\n",
    "\n",
    "Также приведено в главе 2."
   ]
  },
  {
   "cell_type": "markdown",
   "metadata": {},
   "source": [
    "<a id='my_section_11'></a>\n",
    "## [Проверка алгоритма](#content_11)"
   ]
  },
  {
   "cell_type": "markdown",
   "metadata": {},
   "source": [
    "В этой главе необходимо запрограммировать алгоритм, рассмотренный в главе 2, применив матричные операции. Проверим, что качество линейной регрессии из sklearn не отличается до и после преобразования. Применим метрику R2."
   ]
  },
  {
   "cell_type": "markdown",
   "metadata": {},
   "source": [
    "Определим функцию для разделения на выборки и масштабирования"
   ]
  },
  {
   "cell_type": "code",
   "execution_count": 20,
   "metadata": {},
   "outputs": [],
   "source": [
    "def signs_scal(data):\n",
    "    features = data.drop(['страховые_выплаты'],axis=1)\n",
    "    target = data['страховые_выплаты']\n",
    "    numeric = ['возраст', 'зарплата', 'члены_семьи']\n",
    "    \n",
    "    scaler = StandardScaler()\n",
    "    scaler.fit(features[numeric])\n",
    "\n",
    "    pd.options.mode.chained_assignment = None\n",
    "    features.loc[:, numeric] = scaler.transform(features.loc[:, numeric])\n",
    "    return features, target"
   ]
  },
  {
   "cell_type": "markdown",
   "metadata": {},
   "source": [
    "Опеределим функцию создания обратимой матрицы и умножения ее на признаки"
   ]
  },
  {
   "cell_type": "code",
   "execution_count": 21,
   "metadata": {},
   "outputs": [],
   "source": [
    "def data_maker_p(data):\n",
    "    count = 0\n",
    "    while True:\n",
    "        new_matrix = np.random.normal(randint(1, 10), 1000, size=(data.shape[1],data.shape[1]))\n",
    "        det = np.linalg.det(new_matrix)\n",
    "        if det != 0:\n",
    "            break\n",
    "        elif det == 0:\n",
    "            count += 1\n",
    "            if count == 10:\n",
    "                print('Вероятно есть ошибка в формуле, детерменант равен 0')\n",
    "                break\n",
    "    \n",
    "    new_data = np.dot(data, new_matrix)\n",
    "    features_p = pd.DataFrame(new_data, columns = data.columns)\n",
    "    return features_p  "
   ]
  },
  {
   "cell_type": "markdown",
   "metadata": {},
   "source": [
    "Определим функцию для проверки качества линейной регрессии из sklearn с использованием метрики r2"
   ]
  },
  {
   "cell_type": "code",
   "execution_count": 22,
   "metadata": {},
   "outputs": [],
   "source": [
    "def Linear_r2_score(features, target):\n",
    "    model = LinearRegression()\n",
    "    model.fit(features, target)\n",
    "    predictions = model.predict(features)\n",
    "    res = r2_score(target, predictions)\n",
    "    print(f'Результат вычисления: {res}'\n",
    "          f'\\nОкругление результата: {res :.5}')\n",
    "    \n",
    "    return res"
   ]
  },
  {
   "cell_type": "markdown",
   "metadata": {},
   "source": [
    "Проведём разбиение на признаки и масштабирование"
   ]
  },
  {
   "cell_type": "code",
   "execution_count": 23,
   "metadata": {},
   "outputs": [],
   "source": [
    "features, target = signs_scal(data) "
   ]
  },
  {
   "cell_type": "markdown",
   "metadata": {},
   "source": [
    "Умножим признаки на обратимую матрицу"
   ]
  },
  {
   "cell_type": "code",
   "execution_count": 24,
   "metadata": {},
   "outputs": [],
   "source": [
    "features_p = data_maker_p(features)"
   ]
  },
  {
   "cell_type": "markdown",
   "metadata": {},
   "source": [
    "**До преобразования**"
   ]
  },
  {
   "cell_type": "markdown",
   "metadata": {},
   "source": [
    "Рассчёт качества линейной регресии до преобразования"
   ]
  },
  {
   "cell_type": "code",
   "execution_count": 25,
   "metadata": {},
   "outputs": [
    {
     "name": "stdout",
     "output_type": "stream",
     "text": [
      "Результат вычисления: 0.4229314556027187\n",
      "Округление результата: 0.42293\n"
     ]
    }
   ],
   "source": [
    "res_before = Linear_r2_score(features, target)"
   ]
  },
  {
   "cell_type": "markdown",
   "metadata": {},
   "source": [
    "**После преобразования**"
   ]
  },
  {
   "cell_type": "markdown",
   "metadata": {},
   "source": [
    "Рассчёт качества линейной регресии после преобразования"
   ]
  },
  {
   "cell_type": "code",
   "execution_count": 26,
   "metadata": {},
   "outputs": [
    {
     "name": "stdout",
     "output_type": "stream",
     "text": [
      "Результат вычисления: 0.4229314556027187\n",
      "Округление результата: 0.42293\n"
     ]
    }
   ],
   "source": [
    "res_after = Linear_r2_score(features_p, target)"
   ]
  },
  {
   "cell_type": "markdown",
   "metadata": {},
   "source": [
    "<a id='my_section_12'></a>\n",
    "## [Вывод](#content_12)"
   ]
  },
  {
   "cell_type": "markdown",
   "metadata": {},
   "source": [
    "1. Проведена загрузка и ознакомление с данными, обнаружено:\n",
    "    - столбец `возраст` имеет тип данных float64, а должен int64;\n",
    "    - 153 дубликата при поиске по всем столбцам;\n",
    "    - 56 выбросов.\n",
    "    \n",
    "    \n",
    "2. Проведена предобработка данных, где были исправлены искажения.\n",
    "\n",
    "\n",
    "3. Проанализирована информации и выбран один из возможных алгоритмов для защиты данных клиентов. Алгоритм основан на шифровании данных путём преобразования исходной информации, умножением признаков на обратимую матрицу во время обучения модели.\n",
    "\n",
    "\n",
    "4. Проведена проверка алгоритма с использованием метрики r2, где вычеслено значение до преобразования и после, соответственно, значения соответствуют друг друг вплоть до 14 знака:\n",
    "    - до: 0.4229314556027187 (0.42293)\n",
    "    - после: 0.42293145560271883 (0.42293)\n",
    "    \n",
    "Полученные результаты позволяют заключить, что подобранный алгоритм подходит для защиты данных клиентов.    "
   ]
  }
 ],
 "metadata": {
  "kernelspec": {
   "display_name": "Python 3 (ipykernel)",
   "language": "python",
   "name": "python3"
  },
  "language_info": {
   "codemirror_mode": {
    "name": "ipython",
    "version": 3
   },
   "file_extension": ".py",
   "mimetype": "text/x-python",
   "name": "python",
   "nbconvert_exporter": "python",
   "pygments_lexer": "ipython3",
   "version": "3.11.5"
  },
  "toc": {
   "base_numbering": 1,
   "nav_menu": {},
   "number_sections": true,
   "sideBar": true,
   "skip_h1_title": true,
   "title_cell": "Содержание",
   "title_sidebar": "Contents",
   "toc_cell": true,
   "toc_position": {
    "height": "calc(100% - 180px)",
    "left": "10px",
    "top": "150px",
    "width": "374.391px"
   },
   "toc_section_display": true,
   "toc_window_display": true
  }
 },
 "nbformat": 4,
 "nbformat_minor": 4
}
